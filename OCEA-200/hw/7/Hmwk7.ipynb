{
 "cells": [
  {
   "cell_type": "markdown",
   "metadata": {},
   "source": [
    "# Homework 7"
   ]
  },
  {
   "cell_type": "code",
   "execution_count": 1,
   "metadata": {},
   "outputs": [],
   "source": [
    "# imports\n",
    "import numpy as np\n",
    "from importlib import reload\n",
    "\n",
    "from oceanpy import constants\n",
    "import unyt\n",
    "from oceanpy.forces import coriolis as ofc\n",
    "\n",
    "from bokeh import plotting\n",
    "from bokeh import models\n",
    "\n",
    "from IPython.display import Image\n",
    "from IPython.core.display import HTML "
   ]
  },
  {
   "cell_type": "code",
   "execution_count": 2,
   "metadata": {},
   "outputs": [],
   "source": [
    "def set_fontsize(p, fsz):\n",
    "    '''\n",
    "    Parameters\n",
    "    ----------\n",
    "    ax : Bokeh plot class\n",
    "    fsz : float\n",
    "      Font size\n",
    "    '''\n",
    "    p.xaxis.axis_label_text_font_size = '{:d}pt'.format(fsz)\n",
    "    p.xaxis.major_label_text_font_size = \"{:d}pt\".format(fsz)\n",
    "    #\n",
    "    p.yaxis.axis_label_text_font_size = '{:d}pt'.format(fsz)\n",
    "    p.yaxis.major_label_text_font_size = \"{:d}pt\".format(fsz)"
   ]
  },
  {
   "cell_type": "markdown",
   "metadata": {},
   "source": [
    "# 1. Horizontal Current\n",
    "\n",
    "## Expression:  $du/dz = c$, with c a constant"
   ]
  },
  {
   "cell_type": "markdown",
   "metadata": {},
   "source": [
    "## a) Integrate the expression in $z$ between a depth of 1000m and a shallower depth $d$."
   ]
  },
  {
   "cell_type": "markdown",
   "metadata": {},
   "source": [
    "### $\\Delta u = \\int\\limits_{-1000 \\, \\rm m}^{z'} (du/dz) dz = c \\, (z' + 1000\\,\\rm m)$ "
   ]
  },
  {
   "cell_type": "markdown",
   "metadata": {},
   "source": [
    "## b) Suppose $c = 10^{-3} \\, \\rm s^{-1}$ and $u=0$ at $z=1000$m.  What is $u$ at 900m?"
   ]
  },
  {
   "cell_type": "markdown",
   "metadata": {},
   "source": [
    "### We can use our equation to calculate $\\Delta u = 100\\,{\\rm m} \\times 10^{-3} \\, {\\rm s^{-1}} = 0.1 \\, {\\rm m/s}$"
   ]
  },
  {
   "cell_type": "markdown",
   "metadata": {},
   "source": [
    "### Signs are confusing here, but if $z$ decreases with depth, then this means $u = 0.1 \\, \\rm m/s$ at 900 m depth."
   ]
  },
  {
   "cell_type": "markdown",
   "metadata": {},
   "source": [
    "### For $z=-500\\, \\rm m$, $\\Delta u = 0.5 \\, \\rm m /s$.  Therefore $u = 0.5 \\, \\rm m/s$ at 500 m."
   ]
  },
  {
   "cell_type": "markdown",
   "metadata": {},
   "source": [
    "### Likewise, $\\Delta u = 1\\, \\rm m/s$ for $z=0$m.  And $u = 1 \\, \\rm m/s$ at the surface."
   ]
  },
  {
   "cell_type": "markdown",
   "metadata": {},
   "source": [
    "## c) Recalculate for a zonal velocity at 1000m of 0.5 m/s."
   ]
  },
  {
   "cell_type": "markdown",
   "metadata": {},
   "source": [
    "### All of the $\\Delta u$ values remain.  But the currents are offset by 0.5 m/s.\n",
    "\n",
    "### i.e. $u = 0.6 \\, \\rm m/s$ at 900m, $u = 1 \\, \\rm m/s$ at 500m and $u = 1.5 \\, \\rm m/s$ at the surface."
   ]
  },
  {
   "cell_type": "markdown",
   "metadata": {},
   "source": [
    "## d) Let $c= 5 \\times 10^{-4} \\, \\rm s^{-1}$ for $-1000 {\\rm m} < z < -500 {\\rm m}$ and $10^{-3} \\, \\rm s^{-1}$ for $z > -500$\\, m.  What is the surface velocity relative to the 1000m depth?"
   ]
  },
  {
   "cell_type": "markdown",
   "metadata": {},
   "source": [
    "### Our expression for $\\Delta u$ now has two components.  Here it is assuming $z > -500 \\, \\rm m$:\n",
    "\n",
    "### $\\Delta u = 5 \\times 10^{-4} (500 \\rm m/s) + 10^{-3} \\, {\\rm s^{-1}} (z' + 500 \\, \\rm m)$"
   ]
  },
  {
   "cell_type": "code",
   "execution_count": 4,
   "metadata": {},
   "outputs": [
    {
     "data": {
      "text/plain": [
       "0.75"
      ]
     },
     "execution_count": 4,
     "metadata": {},
     "output_type": "execute_result"
    }
   ],
   "source": [
    "5e-4 * 500 + 1e-3 * 500"
   ]
  },
  {
   "cell_type": "markdown",
   "metadata": {},
   "source": [
    "### For the surface, we recover $\\Delta u = 0.75 \\, \\rm m/s$, i.e. relative to 1000 m depth."
   ]
  },
  {
   "cell_type": "markdown",
   "metadata": {},
   "source": [
    "----"
   ]
  },
  {
   "cell_type": "markdown",
   "metadata": {},
   "source": [
    "# 2. Thermal Wind equations"
   ]
  },
  {
   "cell_type": "markdown",
   "metadata": {},
   "source": [
    "## a) What are the thermal wind equations and describe in words"
   ]
  },
  {
   "cell_type": "markdown",
   "metadata": {},
   "source": [
    "### Here are the equations:\n",
    "\n",
    "### $-f \\partial v / \\partial z = (g / \\rho_0) \\, \\partial \\rho / \\partial x$\n",
    "\n",
    "###  $f \\partial u / \\partial z = (g / \\rho_0) \\, \\partial \\rho / \\partial y$"
   ]
  },
  {
   "cell_type": "markdown",
   "metadata": {},
   "source": [
    "### These equations describe the change in geostrophic currents with depth due to horizontal density variations.    Such variations often arise from temperature variations across the current."
   ]
  },
  {
   "cell_type": "markdown",
   "metadata": {},
   "source": [
    "## b) What is the level of no motion, and why is it a shortcoming?"
   ]
  },
  {
   "cell_type": "markdown",
   "metadata": {},
   "source": [
    "### The thermal wind equations allow one to measure the change in current velocity with depth, but do not yield the absolute  motion.  Standard practice is to assume the velocities are zero at a reference depth, the \"level of no motion\".  This is frequently asserted without measuring, and in some cases is significantly inaccurate."
   ]
  },
  {
   "cell_type": "markdown",
   "metadata": {},
   "source": [
    "----"
   ]
  },
  {
   "cell_type": "markdown",
   "metadata": {},
   "source": [
    "# 3. Potential Temperature for a zonal section\n",
    "\n",
    "## Assume a linear equation of state:\n",
    "\n",
    "## $\\rho = \\rho_0 - \\alpha (T - T_0)$\n",
    "\n",
    "## with $\\rho_0 = 1027 \\, \\rm kg/m^3$, $T_0 = 10^\\circ \\, \\rm C$, and $\\alpha = 0.15 \\, \\rm kg/m^3/K$.\n",
    "\n",
    "### Assume a level of no motion at depth of 3000m."
   ]
  },
  {
   "cell_type": "markdown",
   "metadata": {},
   "source": [
    "## a) What is the direction of surface flow above about $100^\\circ$ W?"
   ]
  },
  {
   "cell_type": "markdown",
   "metadata": {},
   "source": [
    "### In the upper 1000m, at $100^\\circ$W there is a negative temperature gradient towards the E ($\\partial T / \\partial x < 0$).  This means $\\partial \\rho / \\partial x > 0$.\n",
    "\n",
    "### From our Thermal wind equations, this means $\\partial v / \\partial z = -(g/\\rho_0) |\\partial \\rho / \\partial x| / f$\n",
    "\n",
    "### Given we are in the Southern hemisphere, $f < 0$ and we have $\\partial v / \\partial z > 0$.\n",
    "\n",
    "### So for $v = 0$ at $z = -3000$m, we have $v > 0$ at the surface.  This means a current towards the North!"
   ]
  },
  {
   "cell_type": "markdown",
   "metadata": {},
   "source": [
    "## b) What is the direction of deep flow at 5000m depth at about $175^\\circ$W?"
   ]
  },
  {
   "cell_type": "markdown",
   "metadata": {},
   "source": [
    "### Below 3000m at $175^\\circ$W, $\\partial T/\\partial x > 0$ and therefore $\\partial v/\\partial z < 0$.\n",
    "\n",
    "### If $v = 0$ at $z=-3000$m, then $v>0$ at $z=-5000$m.  Again, a current towards the North."
   ]
  },
  {
   "cell_type": "markdown",
   "metadata": {},
   "source": [
    "## c) Make a rough estimate of the speed for this deep flow."
   ]
  },
  {
   "cell_type": "markdown",
   "metadata": {},
   "source": [
    "### We need to estimate $\\partial T / \\partial x$ and apply the Equation of state to estimate $\\partial \\rho/\\partial x$.\n",
    "\n",
    "### Eyeballing the figure, I estimate $\\Delta T \\approx 0.2^\\circ$K over $30^\\circ$ longitude (3000 km).\n",
    "\n",
    "### This gives $\\Delta T / \\Delta x \\approx 7 \\times 10^{-8}$ K/m.\n",
    "\n",
    "### And, $\\Delta \\rho / \\Delta x \\approx 10^{-8}$ kg/m$^4$"
   ]
  },
  {
   "cell_type": "markdown",
   "metadata": {},
   "source": [
    "### At $\\phi = 35^\\circ$S, $f=-8 \\times 10^{-5} \\, \\rm s^{-1}$."
   ]
  },
  {
   "cell_type": "code",
   "execution_count": 15,
   "metadata": {},
   "outputs": [],
   "source": [
    "DT = 0.2 * unyt.K\n",
    "Dx = 3000 * unyt.km\n",
    "alpha = 0.15 * unyt.kg / unyt.K / unyt.m**3\n",
    "rho_0 = 1027 * unyt.kg / unyt.m**3"
   ]
  },
  {
   "cell_type": "code",
   "execution_count": 14,
   "metadata": {},
   "outputs": [
    {
     "data": {
      "text/plain": [
       "unyt_quantity(-1.e-08, 'kg/m**4')"
      ]
     },
     "execution_count": 14,
     "metadata": {},
     "output_type": "execute_result"
    }
   ],
   "source": [
    "Drho_Dx = -alpha * DT/Dx\n",
    "Drho_Dx.to('kg/m**4')"
   ]
  },
  {
   "cell_type": "code",
   "execution_count": 16,
   "metadata": {},
   "outputs": [
    {
     "data": {
      "text/plain": [
       "unyt_quantity(-8.36518044e-05, '1/s')"
      ]
     },
     "execution_count": 16,
     "metadata": {},
     "output_type": "execute_result"
    }
   ],
   "source": [
    "f = ofc.coriolis_parameter(-35*unyt.deg)\n",
    "f.to('s**-1')"
   ]
  },
  {
   "cell_type": "code",
   "execution_count": 17,
   "metadata": {},
   "outputs": [
    {
     "data": {
      "text/plain": [
       "unyt_quantity(-1.14072332e-06, '1/s')"
      ]
     },
     "execution_count": 17,
     "metadata": {},
     "output_type": "execute_result"
    }
   ],
   "source": [
    "g = 9.8 * unyt.m / unyt.s**2\n",
    "Dv_Dz = -1 * Drho_Dx * (g/rho_0) / f\n",
    "Dv_Dz"
   ]
  },
  {
   "cell_type": "markdown",
   "metadata": {},
   "source": [
    "### We estimate $\\partial v / \\partial z \\approx -10^{-6} \\, \\rm s^{-1}$.\n",
    "\n",
    "### For $\\Delta z = 2000$m, we have $\\Delta v = 0.002$ m/s."
   ]
  },
  {
   "cell_type": "code",
   "execution_count": 19,
   "metadata": {},
   "outputs": [
    {
     "data": {
      "text/plain": [
       "unyt_quantity(-0.00228145, 'm/s')"
      ]
     },
     "execution_count": 19,
     "metadata": {},
     "output_type": "execute_result"
    }
   ],
   "source": [
    "Dv = Dv_Dz * 2000*unyt.m\n",
    "Dv"
   ]
  },
  {
   "cell_type": "code",
   "execution_count": null,
   "metadata": {},
   "outputs": [],
   "source": []
  }
 ],
 "metadata": {
  "kernelspec": {
   "display_name": "Python 3",
   "language": "python",
   "name": "python3"
  },
  "language_info": {
   "codemirror_mode": {
    "name": "ipython",
    "version": 3
   },
   "file_extension": ".py",
   "mimetype": "text/x-python",
   "name": "python",
   "nbconvert_exporter": "python",
   "pygments_lexer": "ipython3",
   "version": "3.7.3"
  }
 },
 "nbformat": 4,
 "nbformat_minor": 2
}
