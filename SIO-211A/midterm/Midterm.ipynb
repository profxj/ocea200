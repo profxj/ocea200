{
 "cells": [
  {
   "cell_type": "markdown",
   "metadata": {},
   "source": [
    "# SIO-211A Midterm"
   ]
  },
  {
   "cell_type": "code",
   "execution_count": 1,
   "metadata": {},
   "outputs": [],
   "source": [
    "%matplotlib inline"
   ]
  },
  {
   "cell_type": "code",
   "execution_count": 2,
   "metadata": {},
   "outputs": [],
   "source": [
    "# imports\n",
    "import os\n",
    "import numpy as np\n",
    "\n",
    "import pandas\n",
    "\n",
    "import h5py\n",
    "\n",
    "from matplotlib import pyplot as plt\n",
    "import seaborn as sns\n",
    "\n",
    "import unyt"
   ]
  },
  {
   "cell_type": "code",
   "execution_count": 3,
   "metadata": {},
   "outputs": [],
   "source": [
    "sns.set_theme()\n",
    "sns.set_style('whitegrid')\n",
    "sns.set_context('notebook')"
   ]
  },
  {
   "cell_type": "code",
   "execution_count": 12,
   "metadata": {},
   "outputs": [],
   "source": [
    "\n",
    "def set_fontsize(ax,fsz):\n",
    "    '''\n",
    "    Generate a Table of columns and so on\n",
    "    Restrict to those systems where flg_clm > 0\n",
    "\n",
    "    Parameters\n",
    "    ----------\n",
    "    ax : Matplotlib ax class\n",
    "    fsz : float\n",
    "      Font size\n",
    "    '''\n",
    "    for item in ([ax.title, ax.xaxis.label, ax.yaxis.label] +\n",
    "                ax.get_xticklabels() + ax.get_yticklabels()):\n",
    "        item.set_fontsize(fsz)\n"
   ]
  },
  {
   "cell_type": "markdown",
   "metadata": {},
   "source": [
    "# Problem 1"
   ]
  },
  {
   "cell_type": "markdown",
   "metadata": {},
   "source": [
    "# (i) Simple Gravity Waves"
   ]
  },
  {
   "cell_type": "markdown",
   "metadata": {},
   "source": [
    "## (a) Governing Equations\n",
    "\n",
    "## $\\frac{\\partial u}{\\partial t} = - g \\frac{\\partial \\eta}{\\partial x}$\n",
    "\n",
    "## $\\frac{\\partial v}{\\partial t} = - g \\frac{\\partial \\eta}{\\partial y}$\n",
    "\n",
    "## $\\frac{\\partial \\eta}{\\partial t} = - H \\left ( \\frac{\\partial u}{\\partial x} + \\frac{\\partial v}{\\partial y} \\right )$\n",
    "\n",
    "### with $g$ the gravitaional acceleration and $H$ the depth"
   ]
  },
  {
   "cell_type": "markdown",
   "metadata": {},
   "source": [
    "### Massaging...\n",
    "\n",
    "## $\\frac{\\partial^2 \\eta}{\\partial t^2} = g H \\left [ \\frac{\\partial^2 \\eta}{\\partial x^2} + \\frac{\\partial^2 \\eta}{\\partial y^2} \\right ]$"
   ]
  },
  {
   "cell_type": "markdown",
   "metadata": {},
   "source": [
    "## (b) Restoring force\n",
    "\n",
    "### Here it is purely gravity"
   ]
  },
  {
   "cell_type": "markdown",
   "metadata": {},
   "source": [
    "## (c) Dispersion relationship\n",
    "\n",
    "## $\\omega^2 = gH \\, k^2$\n",
    "\n",
    "### with $k^2 = k_x^2 + k_y^2$"
   ]
  },
  {
   "cell_type": "markdown",
   "metadata": {},
   "source": [
    "## (d) Phase velocity\n",
    "\n",
    "## $C_p = \\omega/k = \\sqrt{gH}$"
   ]
  },
  {
   "cell_type": "markdown",
   "metadata": {},
   "source": [
    "## (e) Group velocity\n",
    "\n",
    "## $C_g = d\\omega/dk = \\sqrt{gH}$"
   ]
  },
  {
   "cell_type": "markdown",
   "metadata": {},
   "source": [
    "# (ii) Coriolis included"
   ]
  },
  {
   "cell_type": "markdown",
   "metadata": {},
   "source": [
    "## (a) Governing Equations\n",
    "\n",
    "## $\\frac{\\partial u}{\\partial t} = - g \\frac{\\partial \\eta}{\\partial x} + fv$\n",
    "\n",
    "## $\\frac{\\partial v}{\\partial t} = - g \\frac{\\partial \\eta}{\\partial y} - fu$\n",
    "\n",
    "## $\\frac{\\partial \\eta}{\\partial t} = - H \\left ( \\frac{\\partial u}{\\partial x} + \\frac{\\partial v}{\\partial y} \\right )$\n",
    "\n",
    "### with $f$ the Coriolis parameter"
   ]
  },
  {
   "cell_type": "markdown",
   "metadata": {},
   "source": [
    "## (b) Restoring force\n",
    "\n",
    "### Gravity + Coriolis force"
   ]
  },
  {
   "cell_type": "markdown",
   "metadata": {},
   "source": [
    "## (c) Dispersion relationship\n",
    "\n",
    "## $\\omega^2 = gH \\, k^2 + f^2$"
   ]
  },
  {
   "cell_type": "markdown",
   "metadata": {},
   "source": [
    "## (d) Phase velocity\n",
    "\n",
    "## $C_p = \\omega/k = \\sqrt{gH \\,k^2 + f^2}/k$"
   ]
  },
  {
   "cell_type": "markdown",
   "metadata": {},
   "source": [
    "## (e) Group velocity\n",
    "\n",
    "## $C_g = d\\omega/dk = \\frac{gH k}{\\sqrt{gH \\, k^2 + f^2}}$"
   ]
  },
  {
   "cell_type": "markdown",
   "metadata": {},
   "source": [
    "# (iii) Kelvin Waves"
   ]
  },
  {
   "cell_type": "markdown",
   "metadata": {},
   "source": [
    "## (a) Governing Equations -- for the case of $u=0$\n",
    "\n",
    "## $g \\frac{\\partial \\eta}{\\partial x} = fv$\n",
    "\n",
    "## $\\frac{\\partial v}{\\partial t} = - g \\frac{\\partial \\eta}{\\partial y}$\n",
    "\n",
    "## $\\frac{\\partial \\eta}{\\partial t} = - H \\frac{\\partial v}{\\partial y}$"
   ]
  },
  {
   "cell_type": "markdown",
   "metadata": {},
   "source": [
    "## (b) Restoring force\n",
    "\n",
    "### Gravity + Coriolis force"
   ]
  },
  {
   "cell_type": "markdown",
   "metadata": {},
   "source": [
    "## (c) Dispersion relationship\n",
    "\n",
    "## $\\omega^2 = gH \\, k_y^2$"
   ]
  },
  {
   "cell_type": "markdown",
   "metadata": {},
   "source": [
    "## (d), (e) Phase, Group Velocity\n",
    "\n",
    "## $C_p = C_g = \\sqrt{gH}$"
   ]
  },
  {
   "cell_type": "markdown",
   "metadata": {},
   "source": [
    "# (iv) Rossby Waves"
   ]
  },
  {
   "cell_type": "markdown",
   "metadata": {},
   "source": [
    "## (a) Governing Equations \n",
    "\n",
    "### Our main one is:\n",
    "\n",
    "## $\\frac{d}{dt} \\left [ \\zeta - \\frac{f\\eta}{H} \\right ] + \\beta v = 0$\n",
    "\n",
    "### with $\\zeta$ the relative vorticity and $\\beta$ describes the change in $f$ with $y$\n",
    "\n",
    "### We introduced the stream function:  $\\psi = g \\eta /f$ and recovered:\n",
    "\n",
    "## $\\frac{\\partial}{\\partial t} \\left [ \\nabla^2 \\psi - \\frac{1}{a^2} \\psi \\right ] + \\beta \\frac{\\partial \\psi}{\\partial x} = 0$\n",
    "\n",
    "### with $a$ the Rossby radius of deformation."
   ]
  },
  {
   "cell_type": "markdown",
   "metadata": {},
   "source": [
    "## (b) Restoring force\n",
    "\n",
    "### Coriolis force (and PV conservation?)"
   ]
  },
  {
   "cell_type": "markdown",
   "metadata": {},
   "source": [
    "## (c) Dispersion relation\n",
    "\n",
    "## $\\omega = \\frac{- k_x \\beta}{k_H^2 + k_R^2}$\n",
    "\n",
    "### with $k_H^2 = k_x^2 + k_y^2$ and $k_R = 1/a$"
   ]
  },
  {
   "cell_type": "markdown",
   "metadata": {},
   "source": [
    "## (d) Phase velocity\n",
    "\n",
    "## $C_{p,x} = \\frac{-\\beta}{k_H^2 + k_R^2}$\n",
    "\n",
    "### i.e. westward travelling!"
   ]
  },
  {
   "cell_type": "markdown",
   "metadata": {},
   "source": [
    "## (e) Group velocity\n",
    "\n",
    "## $C_{g,x} = \\frac{-\\beta}{k_H^2 + k_R^2} + \\frac{2 k_x^2 \\beta}{[k_H^2 + k_R^2]^2}$"
   ]
  },
  {
   "cell_type": "markdown",
   "metadata": {},
   "source": [
    "----"
   ]
  },
  {
   "cell_type": "markdown",
   "metadata": {},
   "source": [
    "# Problem 2"
   ]
  },
  {
   "cell_type": "code",
   "execution_count": 4,
   "metadata": {},
   "outputs": [],
   "source": [
    "beta = 2e-11 / unyt.m / unyt.s\n",
    "f = 8e-5 / unyt.s"
   ]
  },
  {
   "cell_type": "code",
   "execution_count": 5,
   "metadata": {},
   "outputs": [],
   "source": [
    "g = 9.8 * unyt.m / unyt.s**2\n",
    "H = 1 * unyt.km"
   ]
  },
  {
   "cell_type": "code",
   "execution_count": 6,
   "metadata": {},
   "outputs": [
    {
     "data": {
      "text/plain": [
       "unyt_quantity(1237.43686708, 'km')"
      ]
     },
     "execution_count": 6,
     "metadata": {},
     "output_type": "execute_result"
    }
   ],
   "source": [
    "# Rossby radius\n",
    "a = np.sqrt(g*H)/f\n",
    "a.to('km')"
   ]
  },
  {
   "cell_type": "markdown",
   "metadata": {},
   "source": [
    "## Define wave numbers"
   ]
  },
  {
   "cell_type": "code",
   "execution_count": 17,
   "metadata": {},
   "outputs": [],
   "source": [
    "k_x = 10**np.linspace(-5., 0., 200) / unyt.km"
   ]
  },
  {
   "cell_type": "markdown",
   "metadata": {},
   "source": [
    "## Calculate dispersion relations"
   ]
  },
  {
   "cell_type": "code",
   "execution_count": 18,
   "metadata": {},
   "outputs": [],
   "source": [
    "omega_SWE = np.sqrt(g*H * k_x**2).to('Hz')\n",
    "omega_coriolis = np.sqrt(g*H * k_x**2 + f**2).to('Hz')"
   ]
  },
  {
   "cell_type": "code",
   "execution_count": 19,
   "metadata": {},
   "outputs": [],
   "source": [
    "omega_Rossby = np.abs((-k_x * beta / (k_x**2 + 1/a**2)).to('Hz'))"
   ]
  },
  {
   "cell_type": "markdown",
   "metadata": {},
   "source": [
    "## Plot"
   ]
  },
  {
   "cell_type": "code",
   "execution_count": 20,
   "metadata": {},
   "outputs": [
    {
     "data": {
      "image/png": "[encoded data removed]",
      "text/plain": [
       "<Figure size 648x648 with 1 Axes>"
      ]
     },
     "metadata": {},
     "output_type": "display_data"
    }
   ],
   "source": [
    "fig = plt.figure(figsize=(9,9))\n",
    "ax = plt.gca()\n",
    "#\n",
    "ax.plot(k_x, omega_SWE, label='Simple')\n",
    "ax.plot(k_x, omega_coriolis, label='Coriolis')\n",
    "ax.plot(k_x, omega_Rossby, label='Rossby')\n",
    "\n",
    "#\n",
    "ax.set_xlabel(r'$k \\; \\rm [km^{-1}]$ ')\n",
    "ax.set_ylabel(r'$\\omega$ [Hz]')\n",
    "#\n",
    "ax.set_xscale('log')\n",
    "ax.set_yscale('log')\n",
    "#\n",
    "ax.axhline(f, ls='--', color='gray', label='f')\n",
    "ax.axvline(1/a, ls=':', color='gray', label='1/a')\n",
    "#\n",
    "legend = plt.legend(loc='upper left', scatterpoints=1, borderpad=0.3,\n",
    "                    handletextpad=0.3, fontsize=13, numpoints=1)\n",
    "#\n",
    "set_fontsize(ax, 15.)\n",
    "#\n",
    "plt.show()"
   ]
  },
  {
   "cell_type": "markdown",
   "metadata": {},
   "source": [
    "----"
   ]
  },
  {
   "cell_type": "markdown",
   "metadata": {},
   "source": [
    "# Problem 3 -- Kelvin wave"
   ]
  },
  {
   "cell_type": "markdown",
   "metadata": {},
   "source": [
    "## Height $\\eta$\n",
    "\n",
    "### Assume the Northern Hemisphere and a eastern boundary at $x=0$\n",
    "\n",
    "### Solutions then have the form:\n",
    "\n",
    "## $\\eta = \\eta_0 {\\rm e^{x/L_d}} {\\rm e^{i (k_y y - \\omega t)}}$\n",
    "\n",
    "### with $L_d = \\sqrt{gH}/f$"
   ]
  },
  {
   "cell_type": "markdown",
   "metadata": {},
   "source": [
    "### Plot"
   ]
  },
  {
   "cell_type": "code",
   "execution_count": 24,
   "metadata": {},
   "outputs": [],
   "source": [
    "def eta_kelvin(x, y_ky, eta0=1., Ld=1000.):\n",
    "    return eta0 * np.exp(x/Ld) * np.cos(y_ky)"
   ]
  },
  {
   "cell_type": "code",
   "execution_count": 25,
   "metadata": {},
   "outputs": [],
   "source": [
    "x = np.linspace(-2000., 0., 200)"
   ]
  },
  {
   "cell_type": "code",
   "execution_count": 29,
   "metadata": {},
   "outputs": [
    {
     "data": {
      "image/png": "[encoded data removed]",
      "text/plain": [
       "<Figure size 648x648 with 1 Axes>"
      ]
     },
     "metadata": {},
     "output_type": "display_data"
    }
   ],
   "source": [
    "fig = plt.figure(figsize=(9,9))\n",
    "ax = plt.gca()\n",
    "#\n",
    "ax.plot(x, eta_kelvin(x, 0.), label='y=0; t=0')\n",
    "ax.plot(x, eta_kelvin(x, np.pi/2), label=r'$y=\\pi/2 k_y; t=0$')\n",
    "ax.plot(x, eta_kelvin(x, np.pi), label=r'$y=\\pi/k_y; t=0$')\n",
    "\n",
    "#\n",
    "ax.set_xlabel(r'$x$ [km]')\n",
    "ax.set_ylabel(r'$\\eta$ [Normalized]')\n",
    "#\n",
    "#ax.set_xscale('log')\n",
    "#ax.set_yscale('log')\n",
    "#\n",
    "legend = plt.legend(loc='upper left', scatterpoints=1, borderpad=0.3,\n",
    "                    handletextpad=0.3, fontsize=13, numpoints=1)\n",
    "#\n",
    "set_fontsize(ax, 15.)\n",
    "#\n",
    "plt.show()"
   ]
  },
  {
   "cell_type": "markdown",
   "metadata": {},
   "source": [
    "## Top-down view (i.e. x,y plane)"
   ]
  },
  {
   "cell_type": "code",
   "execution_count": 30,
   "metadata": {},
   "outputs": [],
   "source": [
    "y = np.linspace(0., 8*np.pi, 100)"
   ]
  },
  {
   "cell_type": "code",
   "execution_count": 31,
   "metadata": {},
   "outputs": [],
   "source": [
    "xx, yy = np.meshgrid(x, y)"
   ]
  },
  {
   "cell_type": "code",
   "execution_count": 32,
   "metadata": {},
   "outputs": [],
   "source": [
    "eta_grid = eta_kelvin(xx, yy)"
   ]
  },
  {
   "cell_type": "code",
   "execution_count": 43,
   "metadata": {},
   "outputs": [
    {
     "data": {
      "image/png": "[encoded data removed]",
      "text/plain": [
       "<Figure size 648x648 with 2 Axes>"
      ]
     },
     "metadata": {},
     "output_type": "display_data"
    }
   ],
   "source": [
    "fig = plt.figure(figsize=(9,9))\n",
    "ax = plt.gca()\n",
    "#\n",
    "cm = plt.get_cmap('coolwarm')\n",
    "\n",
    "img = ax.contourf(xx, yy, eta_grid, levels=20, cmap=cm)\n",
    "#\n",
    "cb = plt.colorbar(img)\n",
    "cb.set_label(r'$\\eta$', fontsize=20.)\n",
    "#\n",
    "ax.set_xlabel(r'$x$ [km]')\n",
    "ax.set_ylabel(r'$y$ [1/k]')\n",
    "#\n",
    "set_fontsize(ax, 15.)\n",
    "#\n",
    "plt.show()"
   ]
  },
  {
   "cell_type": "markdown",
   "metadata": {},
   "source": [
    "## Velocity $v$"
   ]
  },
  {
   "cell_type": "markdown",
   "metadata": {},
   "source": [
    "### The velocity $v$ is such that it is maximal upwards (positive $y$) where $\\eta$ is maximal.  This follows from the fact that there is a pressure force towards negative $x$ and we need an opposite Coriolis force to balance.  In the Northern hemisphere, tha tis acheived by a flow northward (i.e. up).\n",
    "\n",
    "### And maximal negative where $\\eta$ is minimal.  So the map would like effectively identical to the one above."
   ]
  },
  {
   "cell_type": "markdown",
   "metadata": {},
   "source": [
    "### At regions where $\\eta \\approx 0$ with a negative region above (i.e. $y \\approx 2$ in the figure),  we have a convergence of fluid.  This will lead to a new maximum.  \n",
    "\n",
    "### Therefore, the peak of the wave (maximal $\\eta$) is travelling up on our map towards positive $y$."
   ]
  },
  {
   "cell_type": "markdown",
   "metadata": {},
   "source": [
    "----"
   ]
  },
  {
   "cell_type": "markdown",
   "metadata": {},
   "source": [
    "# Problem 4\n",
    "\n",
    "## Equations:\n",
    "\n",
    "## $\\frac{\\partial u}{\\partial t} = - g \\frac{\\partial \\eta}{\\partial x} + fv + F_x(t)$\n",
    "\n",
    "## $\\frac{\\partial v}{\\partial t} = - g \\frac{\\partial \\eta}{\\partial y} - fu + F_y(t)$\n",
    "\n",
    "## $\\frac{\\partial \\eta}{\\partial t} = - H \\left ( \\frac{\\partial u}{\\partial x} + \\frac{\\partial v}{\\partial y} \\right )$"
   ]
  },
  {
   "cell_type": "markdown",
   "metadata": {},
   "source": [
    "## (a) To derive the energy equation, we multiple the first by $Hu$ and the second by $Hv$ and the third by $g\\eta$ and do a bit of manipulation (noting the Coriolis terms vanish):\n",
    "\n",
    "## $\\frac{H}{2} \\frac{\\partial}{\\partial t} \\left [ u^2 + v^2 + \\frac{g}{H} \\eta^2 \\right ] = -gH \\left[ \\frac{\\partial}{\\partial x} (\\eta u) + \\frac{\\partial}{\\partial y} (\\eta v) \\right ] + H[F_x u + F_y y]$\n",
    "\n",
    "### and then\n",
    "\n",
    "## $\\frac{\\partial}{\\partial t} \\left [ \\frac{H}{2} |\\vec u|^2  + \\frac{1}{2} g \\eta^2 \\right ] + \\nabla \\cdot (g H \\eta \\vec u) = H[F_x u + F_y y]$"
   ]
  },
  {
   "cell_type": "markdown",
   "metadata": {},
   "source": [
    "## (b) Consider $F_x + i F_y = F_0 \\exp(i \\alpha t)$\n",
    "\n",
    "### i.e.\n",
    "\n",
    "## $F_x = F_0 \\cos(\\alpha t)$\n",
    "\n",
    "## $F_y = F_0 \\sin(\\alpha t)$"
   ]
  },
  {
   "cell_type": "markdown",
   "metadata": {},
   "source": [
    "### The energy added (or removed) will depend on how \"in phase\" $F$ is with the wave oscillation, i.e. the comparison of $\\omega$ and $\\alpha$"
   ]
  },
  {
   "cell_type": "markdown",
   "metadata": {},
   "source": [
    "### Here are a few cases:\n",
    "\n",
    "### (i) $\\alpha \\gg \\omega$ -- In this case the forcing oscillates much faster than the wave and the net energy input is zero.\n",
    "\n",
    "### (ii) $\\alpha \\ll \\omega$ -- Similar despite the opposite limit.\n",
    "\n",
    "### (iii) $\\alpha \\approx \\omega$ -- If they are in phase (i.e. $u$ is positive when $F_x$ is positive and vice-versa) then energy is added.  If they are entirely out of phase, then energy is subtracted."
   ]
  },
  {
   "cell_type": "markdown",
   "metadata": {},
   "source": [
    "## (c) I admit to being stumped on this one.  That is, I don't see the distinction from part (b)"
   ]
  },
  {
   "cell_type": "markdown",
   "metadata": {},
   "source": [
    "----"
   ]
  },
  {
   "cell_type": "markdown",
   "metadata": {},
   "source": [
    "# Problem 5"
   ]
  },
  {
   "cell_type": "markdown",
   "metadata": {},
   "source": [
    "## In Ringworld, the band appears thin enough that there is no variation in the Coriolis parameter, i.e. $\\beta = 0$"
   ]
  },
  {
   "cell_type": "markdown",
   "metadata": {},
   "source": [
    "## Therefore, I do not think this \"ocean\" can support Rossby waves."
   ]
  },
  {
   "cell_type": "code",
   "execution_count": null,
   "metadata": {},
   "outputs": [],
   "source": []
  }
 ],
 "metadata": {
  "kernelspec": {
   "display_name": "Python 3",
   "language": "python",
   "name": "python3"
  },
  "language_info": {
   "codemirror_mode": {
    "name": "ipython",
    "version": 3
   },
   "file_extension": ".py",
   "mimetype": "text/x-python",
   "name": "python",
   "nbconvert_exporter": "python",
   "pygments_lexer": "ipython3",
   "version": "3.8.5"
  }
 },
 "nbformat": 4,
 "nbformat_minor": 5
}
