{
 "cells": [
  {
   "cell_type": "markdown",
   "id": "presidential-badge",
   "metadata": {},
   "source": [
    "# SIO-211A Midterm"
   ]
  },
  {
   "cell_type": "code",
   "execution_count": 1,
   "id": "concerned-netscape",
   "metadata": {},
   "outputs": [],
   "source": [
    "%matplotlib inline"
   ]
  },
  {
   "cell_type": "code",
   "execution_count": 2,
   "id": "aging-poster",
   "metadata": {},
   "outputs": [],
   "source": [
    "# imports\n",
    "import os\n",
    "import numpy as np\n",
    "\n",
    "import pandas\n",
    "\n",
    "import h5py\n",
    "\n",
    "from matplotlib import pyplot as plt\n",
    "import seaborn as sns\n",
    "\n",
    "import unyt"
   ]
  },
  {
   "cell_type": "code",
   "execution_count": 3,
   "id": "novel-empire",
   "metadata": {},
   "outputs": [],
   "source": [
    "sns.set_theme()\n",
    "sns.set_style('whitegrid')\n",
    "sns.set_context('notebook')"
   ]
  },
  {
   "cell_type": "code",
   "execution_count": 12,
   "id": "fifty-sydney",
   "metadata": {},
   "outputs": [],
   "source": [
    "\n",
    "def set_fontsize(ax,fsz):\n",
    "    '''\n",
    "    Generate a Table of columns and so on\n",
    "    Restrict to those systems where flg_clm > 0\n",
    "\n",
    "    Parameters\n",
    "    ----------\n",
    "    ax : Matplotlib ax class\n",
    "    fsz : float\n",
    "      Font size\n",
    "    '''\n",
    "    for item in ([ax.title, ax.xaxis.label, ax.yaxis.label] +\n",
    "                ax.get_xticklabels() + ax.get_yticklabels()):\n",
    "        item.set_fontsize(fsz)\n"
   ]
  },
  {
   "cell_type": "markdown",
   "id": "preliminary-december",
   "metadata": {},
   "source": [
    "# Problem 1"
   ]
  },
  {
   "cell_type": "markdown",
   "id": "intimate-oakland",
   "metadata": {},
   "source": [
    "# (i) Simple Gravity Waves"
   ]
  },
  {
   "cell_type": "markdown",
   "id": "chronic-melissa",
   "metadata": {},
   "source": [
    "## (a) Governing Equations\n",
    "\n",
    "## $\\frac{\\partial u}{\\partial t} = - g \\frac{\\partial \\eta}{\\partial x}$\n",
    "\n",
    "## $\\frac{\\partial v}{\\partial t} = - g \\frac{\\partial \\eta}{\\partial y}$\n",
    "\n",
    "## $\\frac{\\partial \\eta}{\\partial t} = - H \\left ( \\frac{\\partial u}{\\partial x} + \\frac{\\partial v}{\\partial y} \\right )$\n",
    "\n",
    "### with $g$ the gravitaional acceleration and $H$ the depth"
   ]
  },
  {
   "cell_type": "markdown",
   "id": "happy-landscape",
   "metadata": {},
   "source": [
    "### Massaging...\n",
    "\n",
    "## $\\frac{\\partial^2 \\eta}{\\partial t^2} = g H \\left [ \\frac{\\partial^2 \\eta}{\\partial x^2} + \\frac{\\partial^2 \\eta}{\\partial y^2} \\right ]$"
   ]
  },
  {
   "cell_type": "markdown",
   "id": "together-bangkok",
   "metadata": {},
   "source": [
    "## (b) Restoring force\n",
    "\n",
    "### Here it is purely gravity"
   ]
  },
  {
   "cell_type": "markdown",
   "id": "cordless-tactics",
   "metadata": {},
   "source": [
    "## (c) Dispersion relationship\n",
    "\n",
    "## $\\omega^2 = gH \\, k^2$\n",
    "\n",
    "### with $k^2 = k_x^2 + k_y^2$"
   ]
  },
  {
   "cell_type": "markdown",
   "id": "heavy-transsexual",
   "metadata": {},
   "source": [
    "## (d) Phase velocity\n",
    "\n",
    "## $C_p = \\omega/k = \\sqrt{gH}$"
   ]
  },
  {
   "cell_type": "markdown",
   "id": "occupational-edwards",
   "metadata": {},
   "source": [
    "## (e) Group velocity\n",
    "\n",
    "## $C_g = d\\omega/dk = \\sqrt{gH}$"
   ]
  },
  {
   "cell_type": "markdown",
   "id": "baking-antenna",
   "metadata": {},
   "source": [
    "# (ii) Coriolis included"
   ]
  },
  {
   "cell_type": "markdown",
   "id": "violent-peeing",
   "metadata": {},
   "source": [
    "## (a) Governing Equations\n",
    "\n",
    "## $\\frac{\\partial u}{\\partial t} = - g \\frac{\\partial \\eta}{\\partial x} + fv$\n",
    "\n",
    "## $\\frac{\\partial v}{\\partial t} = - g \\frac{\\partial \\eta}{\\partial y} - fu$\n",
    "\n",
    "## $\\frac{\\partial \\eta}{\\partial t} = - H \\left ( \\frac{\\partial u}{\\partial x} + \\frac{\\partial v}{\\partial y} \\right )$\n",
    "\n",
    "### with $f$ the Coriolis parameter"
   ]
  },
  {
   "cell_type": "markdown",
   "id": "frank-polyester",
   "metadata": {},
   "source": [
    "## (b) Restoring force\n",
    "\n",
    "### Gravity + Coriolis force"
   ]
  },
  {
   "cell_type": "markdown",
   "id": "gentle-wheel",
   "metadata": {},
   "source": [
    "## (c) Dispersion relationship\n",
    "\n",
    "## $\\omega^2 = gH \\, k^2 + f^2$"
   ]
  },
  {
   "cell_type": "markdown",
   "id": "disabled-ballot",
   "metadata": {},
   "source": [
    "## (d) Phase velocity\n",
    "\n",
    "## $C_p = \\omega/k = \\sqrt{gH \\,k^2 + f^2}/k$"
   ]
  },
  {
   "cell_type": "markdown",
   "id": "helpful-health",
   "metadata": {},
   "source": [
    "## (e) Group velocity\n",
    "\n",
    "## $C_g = d\\omega/dk = \\frac{gH k}{\\sqrt{gH \\, k^2 + f^2}}$"
   ]
  },
  {
   "cell_type": "markdown",
   "id": "swiss-honey",
   "metadata": {},
   "source": [
    "# (iii) Kelvin Waves"
   ]
  },
  {
   "cell_type": "markdown",
   "id": "capable-mystery",
   "metadata": {},
   "source": [
    "## (a) Governing Equations -- for the case of $u=0$\n",
    "\n",
    "## $g \\frac{\\partial \\eta}{\\partial x} = fv$\n",
    "\n",
    "## $\\frac{\\partial v}{\\partial t} = - g \\frac{\\partial \\eta}{\\partial y}$\n",
    "\n",
    "## $\\frac{\\partial \\eta}{\\partial t} = - H \\frac{\\partial v}{\\partial y}$"
   ]
  },
  {
   "cell_type": "markdown",
   "id": "above-humor",
   "metadata": {},
   "source": [
    "## (b) Restoring force\n",
    "\n",
    "### Gravity + Coriolis force"
   ]
  },
  {
   "cell_type": "markdown",
   "id": "african-damages",
   "metadata": {},
   "source": [
    "## (c) Dispersion relationship\n",
    "\n",
    "## $\\omega^2 = gH \\, k_y^2$"
   ]
  },
  {
   "cell_type": "markdown",
   "id": "understanding-easter",
   "metadata": {},
   "source": [
    "## (d), (e) Phase, Group Velocity\n",
    "\n",
    "## $C_p = C_g = \\sqrt{gH}$"
   ]
  },
  {
   "cell_type": "markdown",
   "id": "flush-daisy",
   "metadata": {},
   "source": [
    "# (iv) Rossby Waves"
   ]
  },
  {
   "cell_type": "markdown",
   "id": "incorporate-reader",
   "metadata": {},
   "source": [
    "## (a) Governing Equations \n",
    "\n",
    "### Our main one is:\n",
    "\n",
    "## $\\frac{d}{dt} \\left [ \\zeta - \\frac{f\\eta}{H} \\right ] + \\beta v = 0$\n",
    "\n",
    "### with $\\zeta$ the relative vorticity and $\\beta$ describes the change in $f$ with $y$\n",
    "\n",
    "### We introduced the stream function:  $\\psi = g \\eta /f$ and recovered:\n",
    "\n",
    "## $\\frac{\\partial}{\\partial t} \\left [ \\nabla^2 \\psi - \\frac{1}{a^2} \\psi \\right ] + \\beta \\frac{\\partial \\psi}{\\partial x} = 0$\n",
    "\n",
    "### with $a$ the Rossby radius of deformation."
   ]
  },
  {
   "cell_type": "markdown",
   "id": "directed-porter",
   "metadata": {},
   "source": [
    "## (b) Restoring force\n",
    "\n",
    "### Coriolis force (and PV conservation?)"
   ]
  },
  {
   "cell_type": "markdown",
   "id": "color-argentina",
   "metadata": {},
   "source": [
    "## (c) Dispersion relation\n",
    "\n",
    "## $\\omega = \\frac{- k_x \\beta}{k_H^2 + k_R^2}$\n",
    "\n",
    "### with $k_H^2 = k_x^2 + k_y^2$ and $k_R = 1/a$"
   ]
  },
  {
   "cell_type": "markdown",
   "id": "available-above",
   "metadata": {},
   "source": [
    "## (d) Phase velocity\n",
    "\n",
    "## $C_{p,x} = \\frac{-\\beta}{k_H^2 + k_R^2}$\n",
    "\n",
    "### i.e. westward travelling!"
   ]
  },
  {
   "cell_type": "markdown",
   "id": "presidential-cosmetic",
   "metadata": {},
   "source": [
    "## (e) Group velocity\n",
    "\n",
    "## $C_{g,x} = \\frac{-\\beta}{k_H^2 + k_R^2} + \\frac{2 k_x^2 \\beta}{[k_H^2 + k_R^2]^2}$"
   ]
  },
  {
   "cell_type": "markdown",
   "id": "anticipated-madison",
   "metadata": {},
   "source": [
    "----"
   ]
  },
  {
   "cell_type": "markdown",
   "id": "literary-aggregate",
   "metadata": {},
   "source": [
    "# Problem 2"
   ]
  },
  {
   "cell_type": "code",
   "execution_count": 4,
   "id": "eastern-order",
   "metadata": {},
   "outputs": [],
   "source": [
    "beta = 2e-11 / unyt.m / unyt.s\n",
    "f = 8e-5 / unyt.s"
   ]
  },
  {
   "cell_type": "code",
   "execution_count": 5,
   "id": "interstate-greeting",
   "metadata": {},
   "outputs": [],
   "source": [
    "g = 9.8 * unyt.m / unyt.s**2\n",
    "H = 1 * unyt.km"
   ]
  },
  {
   "cell_type": "code",
   "execution_count": 6,
   "id": "sought-liberal",
   "metadata": {},
   "outputs": [
    {
     "data": {
      "text/plain": [
       "unyt_quantity(1237.43686708, 'km')"
      ]
     },
     "execution_count": 6,
     "metadata": {},
     "output_type": "execute_result"
    }
   ],
   "source": [
    "# Rossby radius\n",
    "a = np.sqrt(g*H)/f\n",
    "a.to('km')"
   ]
  },
  {
   "cell_type": "markdown",
   "id": "creative-index",
   "metadata": {},
   "source": [
    "## Define wave numbers"
   ]
  },
  {
   "cell_type": "code",
   "execution_count": 17,
   "id": "absolute-finance",
   "metadata": {},
   "outputs": [],
   "source": [
    "k_x = 10**np.linspace(-5., 0., 200) / unyt.km"
   ]
  },
  {
   "cell_type": "markdown",
   "id": "arabic-credits",
   "metadata": {},
   "source": [
    "## Calculate dispersion relations"
   ]
  },
  {
   "cell_type": "code",
   "execution_count": 18,
   "id": "prompt-radius",
   "metadata": {},
   "outputs": [],
   "source": [
    "omega_SWE = np.sqrt(g*H * k_x**2).to('Hz')\n",
    "omega_coriolis = np.sqrt(g*H * k_x**2 + f**2).to('Hz')"
   ]
  },
  {
   "cell_type": "code",
   "execution_count": 19,
   "id": "northern-mustang",
   "metadata": {},
   "outputs": [],
   "source": [
    "omega_Rossby = np.abs((-k_x * beta / (k_x**2 + 1/a**2)).to('Hz'))"
   ]
  },
  {
   "cell_type": "markdown",
   "id": "brown-ridge",
   "metadata": {},
   "source": [
    "## Plot"
   ]
  },
  {
   "cell_type": "code",
   "execution_count": 20,
   "id": "steady-button",
   "metadata": {},
   "outputs": [
    {
     "data": {
      "image/png": "[encoded data removed]",
      "text/plain": [
       "<Figure size 648x648 with 1 Axes>"
      ]
     },
     "metadata": {},
     "output_type": "display_data"
    }
   ],
   "source": [
    "fig = plt.figure(figsize=(9,9))\n",
    "ax = plt.gca()\n",
    "#\n",
    "ax.plot(k_x, omega_SWE, label='Simple')\n",
    "ax.plot(k_x, omega_coriolis, label='Coriolis')\n",
    "ax.plot(k_x, omega_Rossby, label='Rossby')\n",
    "\n",
    "#\n",
    "ax.set_xlabel(r'$k \\; \\rm [km^{-1}]$ ')\n",
    "ax.set_ylabel(r'$\\omega$ [Hz]')\n",
    "#\n",
    "ax.set_xscale('log')\n",
    "ax.set_yscale('log')\n",
    "#\n",
    "ax.axhline(f, ls='--', color='gray', label='f')\n",
    "ax.axvline(1/a, ls=':', color='gray', label='1/a')\n",
    "#\n",
    "legend = plt.legend(loc='upper left', scatterpoints=1, borderpad=0.3,\n",
    "                    handletextpad=0.3, fontsize=13, numpoints=1)\n",
    "#\n",
    "set_fontsize(ax, 15.)\n",
    "#\n",
    "plt.show()"
   ]
  },
  {
   "cell_type": "code",
   "execution_count": null,
   "id": "thousand-mexico",
   "metadata": {},
   "outputs": [],
   "source": []
  }
 ],
 "metadata": {
  "kernelspec": {
   "display_name": "Python 3",
   "language": "python",
   "name": "python3"
  },
  "language_info": {
   "codemirror_mode": {
    "name": "ipython",
    "version": 3
   },
   "file_extension": ".py",
   "mimetype": "text/x-python",
   "name": "python",
   "nbconvert_exporter": "python",
   "pygments_lexer": "ipython3",
   "version": "3.8.6"
  }
 },
 "nbformat": 4,
 "nbformat_minor": 5
}
