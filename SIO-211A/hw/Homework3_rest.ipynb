{
 "cells": [
  {
   "cell_type": "markdown",
   "metadata": {},
   "source": [
    "# Homework 3"
   ]
  },
  {
   "cell_type": "code",
   "execution_count": 4,
   "metadata": {},
   "outputs": [],
   "source": [
    "# imports\n",
    "import numpy as np\n",
    "\n",
    "from matplotlib import pyplot as plt\n",
    "import seaborn as sns\n",
    "\n",
    "import unyt\n",
    "from geopy import distance"
   ]
  },
  {
   "cell_type": "code",
   "execution_count": 5,
   "metadata": {},
   "outputs": [],
   "source": [
    "sns.set_theme()\n",
    "sns.set_style('whitegrid')\n",
    "sns.set_context('notebook')"
   ]
  },
  {
   "cell_type": "markdown",
   "metadata": {},
   "source": [
    "# Problem 2\n",
    "\n",
    "## Dispersion Relation for internal waves:\n",
    "\n",
    "## $\\omega^2 = \\left ( \\frac{k_x^2 + k_y^2}{k^2} \\right ) N^2$\n",
    "\n",
    "## Introduce $\\phi$ as the angle off the plane of $\\vec k$, then\n",
    "\n",
    "## $\\omega^2 = \\cos^2\\phi \\, N^2$\n",
    "\n",
    "## Now the water parcel motions (ignoring $y$ motions for the moment) are given by:\n",
    "\n",
    "## $w = \\hat w \\, {\\rm e}^{i (k_x x + k_z z - \\omega t)}$\n",
    "\n",
    "## and \n",
    "\n",
    "## $u = \\frac{-k_z}{k_x} \\hat w \\, {\\rm e}^{i (k_x x + k_z z - \\omega t)}$\n",
    "\n",
    "## So we can define an angle for the particle motion off the horizon as $\\alpha$ and this means:\n",
    "\n",
    "## $\\tan \\alpha = \\frac{k_x}{k_z}$\n",
    "\n",
    "## Last, we recognize that $\\tan\\phi = k_z/k_x$ so that $\\cot\\phi = k_x/k_z$ and\n",
    "\n",
    "## $\\alpha = \\tan^{-1} (\\cot\\phi)$\n",
    "\n",
    "## And for a given period $P$, $\\omega = 2\\pi/P$"
   ]
  },
  {
   "cell_type": "code",
   "execution_count": 21,
   "metadata": {},
   "outputs": [],
   "source": [
    "def phi_P(P, N=0.01*unyt.rad/unyt.s):\n",
    "    omega = 2*np.pi/P\n",
    "    #\n",
    "    phiv = np.arccos(omega/N)\n",
    "    #print('phi = {}'.format(phiv*180./2/np.pi))\n",
    "    return float(phiv)*unyt.rad"
   ]
  },
  {
   "cell_type": "code",
   "execution_count": 22,
   "metadata": {},
   "outputs": [],
   "source": [
    "def phi_to_alpha(phi):\n",
    "    return np.arctan(1./np.tan(phi))*unyt.rad"
   ]
  },
  {
   "cell_type": "code",
   "execution_count": 23,
   "metadata": {},
   "outputs": [],
   "source": [
    "def P_to_alpha(P, N=0.01*unyt.rad/unyt.s):\n",
    "    phi = phi_P(P, N=N)\n",
    "    alpha = phi_to_alpha(phi)\n",
    "    return alpha"
   ]
  },
  {
   "cell_type": "markdown",
   "metadata": {},
   "source": [
    "## (a) 11 minutes"
   ]
  },
  {
   "cell_type": "code",
   "execution_count": 40,
   "metadata": {},
   "outputs": [
    {
     "data": {
      "text/plain": [
       "unyt_quantity(72.17534748, 'degree')"
      ]
     },
     "execution_count": 40,
     "metadata": {},
     "output_type": "execute_result"
    }
   ],
   "source": [
    "P_to_alpha(11*unyt.min).to('deg')"
   ]
  },
  {
   "cell_type": "markdown",
   "metadata": {},
   "source": [
    "### Nearly vertical motion"
   ]
  },
  {
   "cell_type": "markdown",
   "metadata": {},
   "source": [
    "## (b) 2 hours"
   ]
  },
  {
   "cell_type": "code",
   "execution_count": 41,
   "metadata": {},
   "outputs": [
    {
     "data": {
      "text/plain": [
       "unyt_quantity(5.00636804, 'degree')"
      ]
     },
     "execution_count": 41,
     "metadata": {},
     "output_type": "execute_result"
    }
   ],
   "source": [
    "P_to_alpha(2*unyt.hour).to('deg')"
   ]
  },
  {
   "cell_type": "markdown",
   "metadata": {},
   "source": [
    "### Nearly even-steven between horizontal and vertical"
   ]
  },
  {
   "cell_type": "markdown",
   "metadata": {},
   "source": [
    "## (c) 12.4 hours"
   ]
  },
  {
   "cell_type": "code",
   "execution_count": 42,
   "metadata": {},
   "outputs": [
    {
     "data": {
      "text/plain": [
       "unyt_quantity(0.80647824, 'degree')"
      ]
     },
     "execution_count": 42,
     "metadata": {},
     "output_type": "execute_result"
    }
   ],
   "source": [
    "P_to_alpha(12.4*unyt.hour).to('deg')"
   ]
  },
  {
   "cell_type": "markdown",
   "metadata": {},
   "source": [
    "### Very close to purely horizontal"
   ]
  },
  {
   "cell_type": "markdown",
   "metadata": {},
   "source": [
    "## (d) 24 hours"
   ]
  },
  {
   "cell_type": "code",
   "execution_count": 43,
   "metadata": {},
   "outputs": [
    {
     "data": {
      "text/plain": [
       "unyt_quantity(0.41667034, 'degree')"
      ]
     },
     "execution_count": 43,
     "metadata": {},
     "output_type": "execute_result"
    }
   ],
   "source": [
    "P_to_alpha(24.*unyt.hour).to('deg')"
   ]
  },
  {
   "cell_type": "markdown",
   "metadata": {},
   "source": [
    "### Even closer"
   ]
  },
  {
   "cell_type": "markdown",
   "metadata": {},
   "source": [
    "----"
   ]
  },
  {
   "cell_type": "markdown",
   "metadata": {},
   "source": [
    "# (3) Group Velocity\n",
    "\n",
    "## We start with the same dispersion relation as above:\n",
    "\n",
    "## $\\omega^2 = \\left ( \\frac{k_x^2 + k_y^2}{k^2} \\right ) N^2$"
   ]
  },
  {
   "cell_type": "markdown",
   "metadata": {},
   "source": [
    "## (a) Calculate the group velocity vector:\n",
    "\n",
    "## $\\frac{\\partial \\omega}{\\partial k_x} = \\frac{k_x k_z^2 N}{k^3 \\sqrt{k_x^2 + k_y^2}}$\n",
    "\n",
    "### and \n",
    "\n",
    "## $\\frac{\\partial \\omega}{\\partial k_y} = \\frac{k_y k_z^2 N}{k^3 \\sqrt{k_x^2 + k_y^2}}$\n",
    "\n",
    "### and\n",
    "\n",
    "## $\\frac{\\partial \\omega}{\\partial k_z} = - \\frac{k_z \\sqrt{k_x^2 + k_y^2} N}{k^3}$\n",
    "\n",
    "## Re-expressing\n",
    "\n",
    "## $\\vec c_g = [\\frac{k_x k_z}{k_x^2 + k_y^2}, \\frac{k_y k_z}{k_x^2 + k_y^2}, -1] \\frac{k_z N \\sqrt{k_x^2 + k_y^2}}{k^3}$ "
   ]
  },
  {
   "cell_type": "markdown",
   "metadata": {},
   "source": [
    "## (b) Compare to phase velocity\n",
    "\n",
    "## $\\vec c_p = \\frac{\\omega}{k^2} [k_x, k_y, k_z]$\n",
    "\n",
    "## Clearly, the phase velocity is oriented parallel to $\\vec k$\n",
    "\n",
    "## Let's consider the dot product:  $\\vec c_p \\cdot \\vec c_g$\n",
    "\n",
    "## The first two terms reduce to $k_z$ and the third term gives $-k_z$, i.e. the group velocity is orthogonal to the phase velocity!\n"
   ]
  },
  {
   "cell_type": "markdown",
   "metadata": {},
   "source": [
    "## (c) Magnitude and direction in limiting cases"
   ]
  },
  {
   "cell_type": "markdown",
   "metadata": {},
   "source": [
    "## As $\\omega \\to 0$, this requires $k_z \\gg k_x, k_y$i.e. $\\vec k$ points vertically.\n",
    "\n",
    "## In this limit, $\\vec c_g$ will point horizontally.  Taking $k_y=0$ for simplicity:\n",
    "\n",
    "## $\\vec c_g = \\frac{k_z^2 N}{k^3} \\hat x$ which for $k \\approx k_z$ has magnitude\n",
    "\n",
    "## $|\\vec c_g| = N/k_z$"
   ]
  },
  {
   "cell_type": "markdown",
   "metadata": {},
   "source": [
    "## For $\\omega \\to N$, this implies $k_z \\ll k_x, k_y$.  For the group velocity, this yields $\\vec c_g || \\hat z$, i.e. vertical direction.\n",
    "\n",
    "## Meanwhile, the magnitude will go (taking $k_y=0$ for simlicity) as:\n",
    "\n",
    "## $\\frac{k_z N k_x}{k^3}$ which reduces to\n",
    "\n",
    "## $\\frac{N k_z}{k_x^2}$ which will be very small."
   ]
  },
  {
   "cell_type": "markdown",
   "metadata": {},
   "source": [
    "----"
   ]
  },
  {
   "cell_type": "markdown",
   "metadata": {},
   "source": [
    "# (4) Earth's Rotation\n",
    "\n",
    "## Momentum equations:\n",
    "\n",
    "## $\\frac{\\partial u}{\\partial t} = - \\frac{1}{\\rho_0} \\frac{\\partial p}{\\partial x} + fv$\n",
    "\n",
    "## $\\frac{\\partial v}{\\partial t} = - \\frac{1}{\\rho_0} \\frac{\\partial p}{\\partial y} - fu$\n",
    "\n",
    "## $\\frac{\\partial w}{\\partial t} = - \\frac{1}{\\rho_0} \\frac{\\partial p}{\\partial z} - \\frac{\\rho'}{\\rho_0} g$\n",
    "\n",
    "\n",
    "## $\\nabla \\cdot \\vec u = 0$\n",
    "\n",
    "## $\\frac{\\partial \\rho'}{\\partial t} = \\frac{\\rho_0}{g} N^2 \\omega^2$"
   ]
  },
  {
   "cell_type": "markdown",
   "metadata": {},
   "source": [
    "## Following Kundu, we take the time derivative of the continuity equation:\n",
    "\n",
    "## $\\frac{\\partial^2 u}{\\partial t \\partial x} + \\frac{\\partial^2 v}{\\partial t \\partial y} + \\frac{\\partial^2 w}{\\partial t \\partial z} = 0$"
   ]
  },
  {
   "cell_type": "markdown",
   "metadata": {},
   "source": [
    "## And now replace the time derivatives for $u, v$:\n",
    "\n",
    "## $\\frac{1}{\\rho_0} \\nabla_H^2 p - f [\\frac{\\partial v}{\\partial x} - \\frac{\\partial u}{\\partial y}] = \\frac{\\partial^2 w}{\\partial t \\partial z}$\n",
    "\n",
    "## where from GFD, we recognize the relative vorticity:\n",
    "\n",
    "## $\\zeta = \\partial v / \\partial x - \\partial u / \\partial y$\n",
    "\n",
    "## $\\frac{1}{\\rho_0} \\nabla_H^2 p - f \\zeta = \\frac{\\partial^2 w}{\\partial t \\partial z}$"
   ]
  },
  {
   "cell_type": "markdown",
   "metadata": {},
   "source": []
  },
  {
   "cell_type": "markdown",
   "metadata": {},
   "source": [
    "## Using the time derivative of our third momentum equation and our 5th equation:\n",
    "\n",
    "## $\\frac{1}{\\rho_0} \\frac{\\partial^2 p}{\\partial t \\partial z} = -\\frac{\\partial^2 w}{\\partial t^2} - N^2 w$"
   ]
  },
  {
   "cell_type": "markdown",
   "metadata": {},
   "source": [
    "## Now apply $\\nabla_H^2$ to this equation and use the equation two up that involves $\\nabla_H^2 p$ to get:\n",
    "\n",
    "## $\\frac{\\partial^2}{\\partial t \\partial z} \\left [ \\frac{\\partial^2 w}{\\partial t \\partial z} - f \\zeta \\right ] = \n",
    "-\\nabla_H^2 \\left ( \\frac{\\partial^2 w}{\\partial t^2} + N^2 w \\right ) $"
   ]
  },
  {
   "cell_type": "markdown",
   "metadata": {},
   "source": [
    "## Now time for a bit of magic to deal with the $f\\zeta$ term.  Take the z-component of the curl of our momentum equations.  Here they are before we subtract:\n",
    "\n",
    "## $\\frac{\\partial^2 u}{\\partial t \\partial y} = - \\frac{1}{\\rho_0} \\frac{\\partial^2 p}{\\partial x \\partial y} + f \\frac{\\partial v}{\\partial y}$\n",
    "\n",
    "## $\\frac{\\partial^2 v}{\\partial t \\partial x} = - \\frac{1}{\\rho_0} \\frac{\\partial^2 p}{\\partial y \\partial x} - f \\frac{\\partial u}{\\partial x}$\n"
   ]
  },
  {
   "cell_type": "markdown",
   "metadata": {},
   "source": [
    "## Now subtract 1 from 2 to complete the curl, noting the pressure terms vanish:\n",
    "\n",
    "## $\\frac{\\partial \\zeta}{\\partial t} = - f (\\frac{\\partial u}{\\partial x} + \\frac{\\partial v}{\\partial y})$"
   ]
  },
  {
   "cell_type": "markdown",
   "metadata": {},
   "source": [
    "## And use continuity to give:\n",
    "\n",
    "## $\\frac{\\partial \\zeta}{\\partial t} = f \\frac{\\partial w}{\\partial z}$"
   ]
  },
  {
   "cell_type": "markdown",
   "metadata": {},
   "source": [
    "## So, applying the time dertivatie of $\\partial^2 / \\partial t \\partial z$ to $f\\zeta$, we wind up with:\n",
    "\n",
    "## $\\frac{\\partial^2}{\\partial t \\partial z} \\left [ \\frac{\\partial^2 w}{\\partial t \\partial z} \\right ] - f^2 \\frac{\\partial^2 w}{\\partial z^2}   = \n",
    "-\\nabla_H^2 \\left ( \\frac{\\partial^2 w}{\\partial t^2} + N^2 w \\right ) $"
   ]
  },
  {
   "cell_type": "markdown",
   "metadata": {},
   "source": [
    "## Massaging, we finish with:\n",
    "\n",
    "## $\\left [ \\frac{\\partial^2}{\\partial t^2} \\left (\\nabla_H^2 + \\frac{\\partial^2}{\\partial z^2} \\right ) + f^2 \\frac{\\partial^2}{\\partial z^2} + N^2 \\nabla_H^2 \\right ] w = 0$"
   ]
  },
  {
   "cell_type": "markdown",
   "metadata": {},
   "source": [
    "## (b) Dispersion relation for solutions for \n",
    "\n",
    "## $w = \\hat w {\\rm e}^{i (k_x x + k_y y + k_z z - \\omega t)}$\n",
    "\n",
    "## $-\\omega^2 k^2 + f^2 k_z^2 + N^2 (k_x^2 + k_y^2) = 0$\n",
    "\n",
    "## or\n",
    "\n",
    "## $\\omega^2 = \\frac{f^2 k_z^2 + N^2 (k_x^2 + k_y^2)}{k^2} = f^2 \\sin^2 \\phi + N^2 \\cos^2 \\phi$"
   ]
  },
  {
   "cell_type": "markdown",
   "metadata": {},
   "source": [
    "## So we have an additonal term in the numerator that sets a floor to the frequency for vertical moving waves, dependent on $f$"
   ]
  },
  {
   "cell_type": "markdown",
   "metadata": {},
   "source": [
    "## (c) Recalculating answers for Problem 2"
   ]
  },
  {
   "cell_type": "code",
   "execution_count": 42,
   "metadata": {},
   "outputs": [],
   "source": [
    "def phi_P_f(P, N=0.01/unyt.s, f=1e-4/unyt.s):\n",
    "    omega = 2*np.pi/P\n",
    "    # Branch\n",
    "    if omega > f:\n",
    "        phiv = np.arccos(np.sqrt(omega**2-f**2)/np.sqrt(N**2 - f**2))\n",
    "    else:\n",
    "        phiv = np.arcsin(np.sqrt(N**2-omega**2)/np.sqrt(N**2-f**2))\n",
    "    #\n",
    "    #print('phi = {}'.format(phiv*180./2/np.pi))\n",
    "    return float(phiv)*unyt.rad"
   ]
  },
  {
   "cell_type": "code",
   "execution_count": 33,
   "metadata": {},
   "outputs": [],
   "source": [
    "def P_to_alpha_f(P, N=0.01/unyt.s, f=1e-4/unyt.s):\n",
    "    phi = phi_P_f(P, N=N, f=f)\n",
    "    alpha = phi_to_alpha(phi)\n",
    "    return alpha"
   ]
  },
  {
   "cell_type": "markdown",
   "metadata": {},
   "source": [
    "### (i) 11 min"
   ]
  },
  {
   "cell_type": "code",
   "execution_count": 34,
   "metadata": {},
   "outputs": [
    {
     "data": {
      "text/plain": [
       "(unyt_quantity(72.17534748, 'degree'), unyt_quantity(72.17442627, 'degree'))"
      ]
     },
     "execution_count": 34,
     "metadata": {},
     "output_type": "execute_result"
    }
   ],
   "source": [
    "P_to_alpha(11*unyt.min).to('deg'), P_to_alpha_f(11*unyt.min).to('deg')"
   ]
  },
  {
   "cell_type": "markdown",
   "metadata": {},
   "source": [
    "### The new angle is slightly smaller"
   ]
  },
  {
   "cell_type": "markdown",
   "metadata": {},
   "source": [
    "### (ii) 2 hours"
   ]
  },
  {
   "cell_type": "code",
   "execution_count": 35,
   "metadata": {},
   "outputs": [
    {
     "data": {
      "text/plain": [
       "(unyt_quantity(5.00636804, 'degree'), unyt_quantity(4.97355551, 'degree'))"
      ]
     },
     "execution_count": 35,
     "metadata": {},
     "output_type": "execute_result"
    }
   ],
   "source": [
    "t = 2*unyt.hour\n",
    "P_to_alpha(t).to('deg'), P_to_alpha_f(t).to('deg')"
   ]
  },
  {
   "cell_type": "markdown",
   "metadata": {},
   "source": [
    "### Again a bit smaller"
   ]
  },
  {
   "cell_type": "markdown",
   "metadata": {},
   "source": [
    "### (iii) 12.4 hours"
   ]
  },
  {
   "cell_type": "code",
   "execution_count": 36,
   "metadata": {},
   "outputs": [
    {
     "data": {
      "text/plain": [
       "(unyt_quantity(0.80647824, 'degree'), unyt_quantity(0.56756173, 'degree'))"
      ]
     },
     "execution_count": 36,
     "metadata": {},
     "output_type": "execute_result"
    }
   ],
   "source": [
    "t = 12.4*unyt.hour\n",
    "P_to_alpha(t).to('deg'), P_to_alpha_f(t).to('deg')"
   ]
  },
  {
   "cell_type": "markdown",
   "metadata": {},
   "source": [
    "### Notably smaller (30% or so)"
   ]
  },
  {
   "cell_type": "markdown",
   "metadata": {},
   "source": [
    "### (iv) 24 hours"
   ]
  },
  {
   "cell_type": "code",
   "execution_count": 43,
   "metadata": {},
   "outputs": [
    {
     "data": {
      "text/plain": [
       "(unyt_quantity(0.41667034, 'degree'), unyt_quantity(nan, 'degree'))"
      ]
     },
     "execution_count": 43,
     "metadata": {},
     "output_type": "execute_result"
    }
   ],
   "source": [
    "t = 24*unyt.hour\n",
    "P_to_alpha(t).to('deg'), P_to_alpha_f(t).to('deg')"
   ]
  },
  {
   "cell_type": "markdown",
   "metadata": {},
   "source": [
    "### Here the solution breaks as the frequency is smaller than the Coriolis parameter!"
   ]
  },
  {
   "cell_type": "code",
   "execution_count": null,
   "metadata": {},
   "outputs": [],
   "source": []
  }
 ],
 "metadata": {
  "kernelspec": {
   "display_name": "Python 3",
   "language": "python",
   "name": "python3"
  },
  "language_info": {
   "codemirror_mode": {
    "name": "ipython",
    "version": 3
   },
   "file_extension": ".py",
   "mimetype": "text/x-python",
   "name": "python",
   "nbconvert_exporter": "python",
   "pygments_lexer": "ipython3",
   "version": "3.8.5"
  }
 },
 "nbformat": 4,
 "nbformat_minor": 4
}
