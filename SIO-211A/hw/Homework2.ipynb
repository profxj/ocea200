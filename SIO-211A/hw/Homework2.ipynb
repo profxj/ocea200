{
 "cells": [
  {
   "cell_type": "markdown",
   "metadata": {},
   "source": [
    "# Homework 2 (SIO 211A)"
   ]
  },
  {
   "cell_type": "code",
   "execution_count": 1,
   "metadata": {},
   "outputs": [],
   "source": [
    "# imports\n",
    "import numpy as np\n",
    "\n",
    "from matplotlib import pyplot as plt\n",
    "import seaborn as sns\n",
    "\n",
    "import unyt\n",
    "from geopy import distance"
   ]
  },
  {
   "cell_type": "markdown",
   "metadata": {},
   "source": [
    "# Init"
   ]
  },
  {
   "cell_type": "code",
   "execution_count": 2,
   "metadata": {},
   "outputs": [],
   "source": [
    "sns.set_theme()\n",
    "sns.set_style('whitegrid')\n",
    "sns.set_context('notebook')"
   ]
  },
  {
   "cell_type": "markdown",
   "metadata": {},
   "source": [
    "# Problem 1"
   ]
  },
  {
   "cell_type": "markdown",
   "metadata": {},
   "source": [
    "## Sorry to make you click on another link, but this made writing a lot easier:\n",
    "\n",
    "### https://docs.google.com/document/d/1U-OxdKkUfociPIs3qceVuuon0T3CdHk7LPMUecIAE4Y/edit?usp=sharing "
   ]
  },
  {
   "cell_type": "markdown",
   "metadata": {},
   "source": [
    "# Problem 2"
   ]
  },
  {
   "cell_type": "markdown",
   "metadata": {},
   "source": [
    "## (a) Rossby radius\n",
    "\n",
    "## $R = \\frac{\\sqrt{gH}}{f}$"
   ]
  },
  {
   "cell_type": "code",
   "execution_count": 3,
   "metadata": {},
   "outputs": [],
   "source": [
    "g = 9.8 * unyt.m / unyt.s**2\n",
    "H = 1000 * unyt.m\n",
    "f = 1e-4 / unyt.s"
   ]
  },
  {
   "cell_type": "code",
   "execution_count": 4,
   "metadata": {},
   "outputs": [
    {
     "data": {
      "text/plain": [
       "unyt_quantity(989.94949366, 'km')"
      ]
     },
     "execution_count": 4,
     "metadata": {},
     "output_type": "execute_result"
    }
   ],
   "source": [
    "R = np.sqrt(g*H)/f\n",
    "R.to('km')"
   ]
  },
  {
   "cell_type": "markdown",
   "metadata": {},
   "source": [
    "## (b) Kelvin wave time\n",
    "\n",
    "## Our dispersion relation:\n",
    "\n",
    "## $\\omega = \\sqrt{gH} k_y$  [Note, I use $k_y$ instead of $\\ell$]\n",
    "\n",
    "## Group velocity\n",
    "\n",
    "## $C_g = \\frac{\\partial \\omega}{\\partial k} = \\sqrt{gH}$"
   ]
  },
  {
   "cell_type": "code",
   "execution_count": 5,
   "metadata": {},
   "outputs": [
    {
     "data": {
      "text/plain": [
       "unyt_quantity(98.99494937, 'm/s')"
      ]
     },
     "execution_count": 5,
     "metadata": {},
     "output_type": "execute_result"
    }
   ],
   "source": [
    "C_g = np.sqrt(g*H)\n",
    "C_g"
   ]
  },
  {
   "cell_type": "markdown",
   "metadata": {},
   "source": [
    "### Distance"
   ]
  },
  {
   "cell_type": "code",
   "execution_count": 6,
   "metadata": {},
   "outputs": [],
   "source": [
    "cali = (34.448113, -120.471439)\n",
    "equador = (-0.9375935827364111, -80.7313159322607)"
   ]
  },
  {
   "cell_type": "code",
   "execution_count": 10,
   "metadata": {},
   "outputs": [
    {
     "data": {
      "text/plain": [
       "unyt_quantity(5700.42059703, 'km')"
      ]
     },
     "execution_count": 10,
     "metadata": {},
     "output_type": "execute_result"
    }
   ],
   "source": [
    "d = distance.distance(cali, equador).km * unyt.km\n",
    "d"
   ]
  },
  {
   "cell_type": "code",
   "execution_count": 15,
   "metadata": {},
   "outputs": [
    {
     "data": {
      "text/plain": [
       "unyt_quantity(15.99526214, 'hr')"
      ]
     },
     "execution_count": 15,
     "metadata": {},
     "output_type": "execute_result"
    }
   ],
   "source": [
    "t = d / C_g\n",
    "t.to('hr')"
   ]
  },
  {
   "cell_type": "markdown",
   "metadata": {},
   "source": [
    "### It takes approximately 16 hours to travel the distance."
   ]
  },
  {
   "cell_type": "markdown",
   "metadata": {},
   "source": [
    "## (c) Energy"
   ]
  },
  {
   "cell_type": "markdown",
   "metadata": {},
   "source": [
    "### K.E.\n",
    "\n",
    "## $E_{\\rm KE} = \\frac{H}{2} |\\vec u|^2$\n",
    "\n",
    "### For our cross-shore waves, $\\vec u = v \\hat y$ and we have\n",
    "\n",
    "## $v = \\sqrt{gH} \\exp(x/R) \\, G(yc-t)$ \n",
    "\n",
    "### with $x=0$ the shore.\n",
    "\n",
    "### This gives:\n",
    "\n",
    "## $E_{\\rm KE} = \\frac{1}{4} gH^2 \\exp(2x/R)$\n",
    "\n",
    "### with the extra factor of 1/2 from the time average."
   ]
  },
  {
   "cell_type": "markdown",
   "metadata": {},
   "source": [
    "## P.E.\n",
    "\n",
    "## $E_{\\rm PE} = \\frac{1}{2} g \\eta^2$\n",
    "\n",
    "## $\\eta = H \\exp(x/R) \\, G(yc-t)$\n",
    "\n",
    "## Giving..\n",
    "\n",
    "## $E_{\\rm PE} = \\frac{1}{4} g H^2 \\exp(2x/R)$\n",
    "\n",
    "### and we have equi-partition as for the SWE"
   ]
  },
  {
   "cell_type": "markdown",
   "metadata": {},
   "source": [
    "### Numerically.."
   ]
  },
  {
   "cell_type": "code",
   "execution_count": 17,
   "metadata": {},
   "outputs": [
    {
     "data": {
      "text/plain": [
       "unyt_quantity(2450000., 'm**3/s**2')"
      ]
     },
     "execution_count": 17,
     "metadata": {},
     "output_type": "execute_result"
    }
   ],
   "source": [
    "# At x=0\n",
    "E_x0 = g * H**2 / 4.\n",
    "E_x0"
   ]
  },
  {
   "cell_type": "markdown",
   "metadata": {},
   "source": [
    "----"
   ]
  },
  {
   "cell_type": "markdown",
   "metadata": {},
   "source": [
    "# (3) Shallow water wave reflection and transmission\n",
    "\n",
    "## Boundary at $x=0$ with incoming wave in region with height $H_1$ and height $H_2>H_1$ at $x>0$"
   ]
  },
  {
   "cell_type": "markdown",
   "metadata": {},
   "source": [
    "## Shallow wave equations:\n",
    "\n",
    "## $\\eta_I = \\eta_{0,I} \\exp i(k_{x,I} x + k_{y,I}y - \\omega_I t)$\n",
    "\n",
    "### with $\\eta_{0,I} = 1$ and\n",
    "\n",
    "## $u_I = \\frac{g k_{x,I}}{\\omega_I} \\eta_{0,I} \\exp i(k_{x,I} x + k_{y,I}y - \\omega_I t)$\n",
    "\n",
    "## and dispersion relation\n",
    "\n",
    "## $\\omega_I^2 = g H_1 [k_{x,I}^2 + k_{y,I}^2]$"
   ]
  },
  {
   "cell_type": "markdown",
   "metadata": {},
   "source": [
    "## (a) Solve the equations for $\\eta_{0,R}, \\eta_{0,T}$ etc."
   ]
  },
  {
   "cell_type": "markdown",
   "metadata": {},
   "source": [
    "### Boundary condition 1:   $\\eta_I = \\eta_R + \\eta_T$ at $x=0$\n",
    "\n",
    "### This means:\n",
    "\n",
    "## ${\\rm e}^{i (k_{y,I} y - \\omega_I t)} = \\eta_{0,R} {\\rm e}^{i (k_{y,R} y - \\omega_R t)} + \\eta_{0,T} {\\rm e}^{i (k_{y,T} y - \\omega_T t)} $"
   ]
  },
  {
   "cell_type": "markdown",
   "metadata": {},
   "source": [
    "### For this to hold at all times, we must have $\\omega_I = \\omega_R = \\omega_T = \\omega$"
   ]
  },
  {
   "cell_type": "markdown",
   "metadata": {},
   "source": [
    "### Similarly, to hold at all $y$ we have: $k_{y,I} = k_{y,R} = k_{y,T} = k_y$"
   ]
  },
  {
   "cell_type": "markdown",
   "metadata": {},
   "source": [
    "### This then requires:\n",
    "\n",
    "## $1 = \\eta_{0,R} + \\eta_{0,T}$"
   ]
  },
  {
   "cell_type": "markdown",
   "metadata": {},
   "source": [
    "### The dispersion relation gives us values for $k_x$:\n",
    "\n",
    "## $k_x = \\sqrt{\\omega^2/gH - k_y}$\n",
    "\n",
    "### Because $k_y$ is the same for all waves and $H=H_1$ for $\\eta_I$ and $\\eta_R$\n",
    "\n",
    "### Therefore, \n",
    "\n",
    "## $k_{x,I} = \\sqrt{\\omega^2/gH_1 - k_y}$\n",
    "\n",
    "### and clearly\n",
    "\n",
    "## $k_{x,R} = - k_{x,I}$\n",
    "\n",
    "### Last, we have:\n",
    "\n",
    "## $k_{x,T} = \\sqrt{\\omega^2/gH_2 - k_y}$"
   ]
  },
  {
   "cell_type": "markdown",
   "metadata": {},
   "source": [
    "### Boundary condition 2:  $Hu$ is continuous\n",
    "\n",
    "### This gives us:\n",
    "\n",
    "## $\\frac{g}{\\omega} k_{x,I} H_1 = \\frac{g}{\\omega} k_{x,R} H_1 \\, \\eta_{0,R} + \\frac{g}{\\omega} k_{x,T} H_2 \\, \\eta_{0,T}$"
   ]
  },
  {
   "cell_type": "markdown",
   "metadata": {},
   "source": [
    "### The $g/\\omega$ terms vanish and we can substitute in $k_{x,R} = - k_{x,I}$ and  $1 = \\eta_{0,R} + \\eta_{0,T}$"
   ]
  },
  {
   "cell_type": "markdown",
   "metadata": {},
   "source": [
    "### Massaging...\n",
    "\n",
    "## $k_{x,I} H_1 = -k_{x,I} H_1 \\, (1-\\eta_{0,T}) +  k_{x,T} H_2 \\, \\eta_{0,T}$\n",
    "\n",
    "## $\\eta_{0,T} = \\frac{2 k_{x,I} H_1}{k_{x,I}H_1 - k_{x,T} H_2}$"
   ]
  },
  {
   "cell_type": "markdown",
   "metadata": {},
   "source": [
    "## Regarding $\\theta$ which we define off the normal:\n",
    "\n",
    "## $\\tan \\theta_I = k_{x,I}/k_y$\n",
    "\n",
    "### and \n",
    "\n",
    "## $\\theta_I = \\theta_R$"
   ]
  },
  {
   "cell_type": "markdown",
   "metadata": {},
   "source": [
    "### Meanwhile, \n",
    "\n",
    "## $\\tan \\theta_T = k_{x,T}/k_y$"
   ]
  },
  {
   "cell_type": "markdown",
   "metadata": {},
   "source": [
    "### Given $H_2>H_1$ then $k_{x,T} < k_{x,I}$ and  $\\theta_T < \\theta_I$"
   ]
  },
  {
   "cell_type": "markdown",
   "metadata": {},
   "source": [
    "## (b) Can the $\\theta$ relationship be generalized?"
   ]
  },
  {
   "cell_type": "markdown",
   "metadata": {},
   "source": [
    "### Recognizing $\\tan \\theta = \\sin \\theta / \\cos\\theta$ and that $k_y$ is the same in our demoninator, we have:\n",
    "\n",
    "## $\\sin\\theta_I / \\sin\\theta_T = k_{x,I}/k_{x,T}$\n",
    "\n",
    "## This is a form of Snell's Law."
   ]
  },
  {
   "cell_type": "markdown",
   "metadata": {},
   "source": [
    "## (c) For $H_2>H_1$ is total reflection possible?"
   ]
  },
  {
   "cell_type": "markdown",
   "metadata": {},
   "source": [
    "### Critical angle is $\\theta_T = 90$ deg which requires:\n",
    "\n",
    "## $\\sin\\theta_I = k_{x,I}/k_{x,T}$"
   ]
  },
  {
   "cell_type": "markdown",
   "metadata": {},
   "source": [
    "### For $H_2 > H_1$,  we have $k_{x,T} < k_{x,I}$ so there is no such angle."
   ]
  },
  {
   "cell_type": "markdown",
   "metadata": {},
   "source": [
    "## (d) For $H_1>H_2$, the angle does exist and is:\n",
    "\n",
    "## $\\theta_I = \\sin^{-1} (k_{x,I}/k_{x,T})$"
   ]
  },
  {
   "cell_type": "markdown",
   "metadata": {},
   "source": [
    "----"
   ]
  },
  {
   "cell_type": "markdown",
   "metadata": {},
   "source": [
    "# (4) Rectangular lake with depth of $H=50 \\, \\rm m$ and width $L$\n",
    "\n",
    "## Our dipsersion relation is:\n",
    "\n",
    "## $\\omega^2 = gH k^2$"
   ]
  },
  {
   "cell_type": "code",
   "execution_count": 24,
   "metadata": {},
   "outputs": [],
   "source": [
    "g = 9.8 * unyt.m / unyt.s**2\n",
    "H = 50 * unyt.m"
   ]
  },
  {
   "cell_type": "markdown",
   "metadata": {},
   "source": [
    "## (a) Consider a semi-diurnal period, i.e. $T = 12$ hrs"
   ]
  },
  {
   "cell_type": "markdown",
   "metadata": {},
   "source": [
    "### $\\omega = 2\\pi/T$"
   ]
  },
  {
   "cell_type": "code",
   "execution_count": 23,
   "metadata": {},
   "outputs": [
    {
     "data": {
      "text/plain": [
       "unyt_quantity(0.00014544, '1/s')"
      ]
     },
     "execution_count": 23,
     "metadata": {},
     "output_type": "execute_result"
    }
   ],
   "source": [
    "omega_a = 2 * np.pi / (12*unyt.hr)\n",
    "omega_a.to('1/s')"
   ]
  },
  {
   "cell_type": "markdown",
   "metadata": {},
   "source": [
    "### This gives\n",
    "\n",
    "## $k = \\omega / \\sqrt{gH}$"
   ]
  },
  {
   "cell_type": "code",
   "execution_count": 25,
   "metadata": {},
   "outputs": [
    {
     "data": {
      "text/plain": [
       "unyt_quantity(6.57049488e-06, '1/m')"
      ]
     },
     "execution_count": 25,
     "metadata": {},
     "output_type": "execute_result"
    }
   ],
   "source": [
    "k_a = omega_a / np.sqrt(g*H)\n",
    "k_a"
   ]
  },
  {
   "cell_type": "markdown",
   "metadata": {},
   "source": [
    "### Our standing wave has wave numbers:\n",
    "\n",
    "## $k_x = \\frac{n\\pi}{L}$\n",
    "\n",
    "### or\n",
    "\n",
    "## $L = \\frac{n \\pi}{k}$"
   ]
  },
  {
   "cell_type": "code",
   "execution_count": 27,
   "metadata": {},
   "outputs": [
    {
     "data": {
      "text/plain": [
       "unyt_quantity(478.13638222, 'km')"
      ]
     },
     "execution_count": 27,
     "metadata": {},
     "output_type": "execute_result"
    }
   ],
   "source": [
    "L_a = np.pi / k_a\n",
    "L_a.to('km')"
   ]
  },
  {
   "cell_type": "markdown",
   "metadata": {},
   "source": [
    "## (b) Diurnal period -- $T = 1 \\, \\rm day$"
   ]
  },
  {
   "cell_type": "code",
   "execution_count": 28,
   "metadata": {},
   "outputs": [
    {
     "data": {
      "text/plain": [
       "unyt_quantity(7.27220522e-05, '1/s')"
      ]
     },
     "execution_count": 28,
     "metadata": {},
     "output_type": "execute_result"
    }
   ],
   "source": [
    "omega_b = 2 * np.pi / (24*unyt.hr)\n",
    "omega_b.to('1/s')"
   ]
  },
  {
   "cell_type": "code",
   "execution_count": 29,
   "metadata": {},
   "outputs": [
    {
     "data": {
      "text/plain": [
       "unyt_quantity(3.28524744e-06, '1/m')"
      ]
     },
     "execution_count": 29,
     "metadata": {},
     "output_type": "execute_result"
    }
   ],
   "source": [
    "k_b = omega_b / np.sqrt(g*H)\n",
    "k_b"
   ]
  },
  {
   "cell_type": "code",
   "execution_count": 30,
   "metadata": {},
   "outputs": [
    {
     "data": {
      "text/plain": [
       "unyt_quantity(956.27276443, 'km')"
      ]
     },
     "execution_count": 30,
     "metadata": {},
     "output_type": "execute_result"
    }
   ],
   "source": [
    "L_b = np.pi / k_b\n",
    "L_b.to('km')"
   ]
  },
  {
   "cell_type": "markdown",
   "metadata": {},
   "source": [
    "## (c) Do such bodies exist?!"
   ]
  },
  {
   "cell_type": "markdown",
   "metadata": {},
   "source": [
    "### Lake Superior is $\\approx 80,000 \\, \\rm sq km.$ or $L \\approx 300 \\, \\rm km$"
   ]
  },
  {
   "cell_type": "markdown",
   "metadata": {},
   "source": [
    "### This is smaller than even the first case.  And we emphasize that we took $n=1$, i.e. $L$ is only larger for the other harmonics."
   ]
  },
  {
   "cell_type": "code",
   "execution_count": null,
   "metadata": {},
   "outputs": [],
   "source": []
  }
 ],
 "metadata": {
  "kernelspec": {
   "display_name": "Python 3",
   "language": "python",
   "name": "python3"
  },
  "language_info": {
   "codemirror_mode": {
    "name": "ipython",
    "version": 3
   },
   "file_extension": ".py",
   "mimetype": "text/x-python",
   "name": "python",
   "nbconvert_exporter": "python",
   "pygments_lexer": "ipython3",
   "version": "3.8.5"
  }
 },
 "nbformat": 4,
 "nbformat_minor": 4
}
