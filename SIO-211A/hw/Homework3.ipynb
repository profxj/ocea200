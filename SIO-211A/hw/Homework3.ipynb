{
 "cells": [
  {
   "cell_type": "markdown",
   "metadata": {},
   "source": [
    "# Homework 3"
   ]
  },
  {
   "cell_type": "code",
   "execution_count": 1,
   "metadata": {},
   "outputs": [],
   "source": [
    "# imports\n",
    "import numpy as np\n",
    "\n",
    "from matplotlib import pyplot as plt\n",
    "import seaborn as sns\n",
    "\n",
    "import unyt\n",
    "from geopy import distance"
   ]
  },
  {
   "cell_type": "code",
   "execution_count": 2,
   "metadata": {},
   "outputs": [],
   "source": [
    "sns.set_theme()\n",
    "sns.set_style('whitegrid')\n",
    "sns.set_context('notebook')"
   ]
  },
  {
   "cell_type": "markdown",
   "metadata": {},
   "source": [
    "# Problem 2\n",
    "\n",
    "## Dispersion Relation for internal waves:\n",
    "\n",
    "## $\\omega^2 = \\left ( \\frac{k_x^2 + k_y^2}{k^2} \\right ) N^2$\n",
    "\n",
    "## Introduce $\\phi$ as the angle off the plane of $\\vec k$, then\n",
    "\n",
    "## $\\omega^2 = \\cos^2\\phi \\, N^2$\n",
    "\n",
    "## Now the water parcel motions (ignoring $y$ motions for the moment) are given by:\n",
    "\n",
    "## $w = \\hat w \\, {\\rm e}^{i (k_x x + k_z z - \\omega t)}$\n",
    "\n",
    "## and \n",
    "\n",
    "## $u = \\frac{-k_z}{k_x} \\hat w \\, {\\rm e}^{i (k_x x + k_z z - \\omega t)}$\n",
    "\n",
    "## So we can define an angle for the particle motion off the horizon as $\\alpha$ and this means:\n",
    "\n",
    "## $\\tan \\alpha = \\frac{k_x}{k_z}$\n",
    "\n",
    "## Last, we recognize that $\\tan\\phi = k_z/k_x$ so that $\\cot\\phi = k_x/k_z$ and\n",
    "\n",
    "## $\\alpha = \\tan^{-1} (\\cot\\phi)$\n",
    "\n",
    "## And for a given period $P$, $\\omega = 2\\pi/P$"
   ]
  },
  {
   "cell_type": "code",
   "execution_count": 37,
   "metadata": {},
   "outputs": [],
   "source": [
    "def phi_P(P, N=0.01*unyt.rad/unyt.s):\n",
    "    omega = 2*np.pi/P\n",
    "    #\n",
    "    phiv = np.arccos(omega/N)\n",
    "    #print('phi = {}'.format(phiv*180./2/np.pi))\n",
    "    return float(phiv)*unyt.rad"
   ]
  },
  {
   "cell_type": "code",
   "execution_count": 38,
   "metadata": {},
   "outputs": [],
   "source": [
    "def phi_to_alpha(phi):\n",
    "    return np.arctan(1./np.tan(phi))*unyt.rad"
   ]
  },
  {
   "cell_type": "code",
   "execution_count": 39,
   "metadata": {},
   "outputs": [],
   "source": [
    "def P_to_alpha(P, N=0.01*unyt.rad/unyt.s):\n",
    "    phi = phi_P(P, N=N)\n",
    "    alpha = phi_to_alpha(phi)\n",
    "    return alpha"
   ]
  },
  {
   "cell_type": "markdown",
   "metadata": {},
   "source": [
    "## (a) 11 minutes"
   ]
  },
  {
   "cell_type": "code",
   "execution_count": 40,
   "metadata": {},
   "outputs": [
    {
     "data": {
      "text/plain": [
       "unyt_quantity(72.17534748, 'degree')"
      ]
     },
     "execution_count": 40,
     "metadata": {},
     "output_type": "execute_result"
    }
   ],
   "source": [
    "P_to_alpha(11*unyt.min).to('deg')"
   ]
  },
  {
   "cell_type": "markdown",
   "metadata": {},
   "source": [
    "### Nearly vertical motion"
   ]
  },
  {
   "cell_type": "markdown",
   "metadata": {},
   "source": [
    "## (b) 2 hours"
   ]
  },
  {
   "cell_type": "code",
   "execution_count": 41,
   "metadata": {},
   "outputs": [
    {
     "data": {
      "text/plain": [
       "unyt_quantity(5.00636804, 'degree')"
      ]
     },
     "execution_count": 41,
     "metadata": {},
     "output_type": "execute_result"
    }
   ],
   "source": [
    "P_to_alpha(2*unyt.hour).to('deg')"
   ]
  },
  {
   "cell_type": "markdown",
   "metadata": {},
   "source": [
    "### Nearly even-steven between horizontal and vertical"
   ]
  },
  {
   "cell_type": "markdown",
   "metadata": {},
   "source": [
    "## (c) 12.4 hours"
   ]
  },
  {
   "cell_type": "code",
   "execution_count": 42,
   "metadata": {},
   "outputs": [
    {
     "data": {
      "text/plain": [
       "unyt_quantity(0.80647824, 'degree')"
      ]
     },
     "execution_count": 42,
     "metadata": {},
     "output_type": "execute_result"
    }
   ],
   "source": [
    "P_to_alpha(12.4*unyt.hour).to('deg')"
   ]
  },
  {
   "cell_type": "markdown",
   "metadata": {},
   "source": [
    "### Very close to purely horizontal"
   ]
  },
  {
   "cell_type": "markdown",
   "metadata": {},
   "source": [
    "## (d) 24 hours"
   ]
  },
  {
   "cell_type": "code",
   "execution_count": 43,
   "metadata": {},
   "outputs": [
    {
     "data": {
      "text/plain": [
       "unyt_quantity(0.41667034, 'degree')"
      ]
     },
     "execution_count": 43,
     "metadata": {},
     "output_type": "execute_result"
    }
   ],
   "source": [
    "P_to_alpha(24.*unyt.hour).to('deg')"
   ]
  },
  {
   "cell_type": "markdown",
   "metadata": {},
   "source": [
    "### Even closer"
   ]
  },
  {
   "cell_type": "markdown",
   "metadata": {},
   "source": [
    "----"
   ]
  },
  {
   "cell_type": "markdown",
   "metadata": {},
   "source": [
    "# (3) Group Velocity\n",
    "\n",
    "## We start with the same dispersion relation as above:\n",
    "\n",
    "## $\\omega^2 = \\left ( \\frac{k_x^2 + k_y^2}{k^2} \\right ) N^2$"
   ]
  },
  {
   "cell_type": "markdown",
   "metadata": {},
   "source": [
    "## (a) Calculate the group velocity vector:\n",
    "\n",
    "## $\\frac{\\partial \\omega}{\\partial k_x} = \\frac{k_x k_z^2 N}{k^3 \\sqrt{k_x^2 + k_y^2}}$\n",
    "\n",
    "### and \n",
    "\n",
    "## $\\frac{\\partial \\omega}{\\partial k_y} = \\frac{k_y k_z^2 N}{k^3 \\sqrt{k_x^2 + k_y^2}}$\n",
    "\n",
    "### and\n",
    "\n",
    "## $\\frac{\\partial \\omega}{\\partial k_z} = - \\frac{k_z \\sqrt{k_x^2 + k_y^2} N}{k^3}$\n",
    "\n",
    "## Re-expressing\n",
    "\n",
    "## $\\vec c_g = [\\frac{k_x k_z}{k_x^2 + k_y^2}, \\frac{k_y k_z}{k_x^2 + k_y^2}, -1] \\frac{k_z N \\sqrt{k_x^2 + k_y^2}}{k^3}$ "
   ]
  },
  {
   "cell_type": "markdown",
   "metadata": {},
   "source": [
    "## (b) Compare to phase velocity\n",
    "\n",
    "## $\\vec c_p = \\frac{\\omega}{k^2} [k_x, k_y, k_z]$\n",
    "\n",
    "## Clearly, the phase velocity is oriented parallel to $\\vec k$\n",
    "\n",
    "## Let's consider the dot product:  $\\vec c_p \\cdot \\vec c_g$\n",
    "\n",
    "## The first two terms reduce to $k_z$ and the third term gives $-k_z$, i.e. the group velocity is orthogonal to the phase velocity!\n"
   ]
  },
  {
   "cell_type": "markdown",
   "metadata": {},
   "source": [
    "## (c) Magnitude and direction in limiting cases"
   ]
  },
  {
   "cell_type": "markdown",
   "metadata": {},
   "source": [
    "## As $\\omega \\to 0$, this requires $k_z \\gg k_x, k_y$i.e. $\\vec k$ points vertically.\n",
    "\n",
    "## In this limit, $\\vec c_g$ will point horizontally.  Taking $k_y=0$ for simplicity:\n",
    "\n",
    "## $\\vec c_g = \\frac{k_z^2 N}{k^3} \\hat x$ which for $k \\approx k_z$ has magnitude\n",
    "\n",
    "## $|\\vec c_g| = N/k_z$"
   ]
  },
  {
   "cell_type": "markdown",
   "metadata": {},
   "source": [
    "## For $\\omega \\to N$, this implies $k_z \\ll k_x, k_y$.  For the group velocity, this yields $\\vec c_g || \\hat z$, i.e. vertical direction.\n",
    "\n",
    "## Meanwhile, the magnitude will go (taking $k_y=0$ for simlicity) as:\n",
    "\n",
    "## $\\frac{k_z N k_x}{k^3}$ which reduces to\n",
    "\n",
    "## $\\frac{N k_z}{k_x^2}$ which will be very small."
   ]
  },
  {
   "cell_type": "markdown",
   "metadata": {},
   "source": [
    "----"
   ]
  },
  {
   "cell_type": "markdown",
   "metadata": {},
   "source": [
    "# (4) Earth's Rotation\n",
    "\n",
    "## Momentum equations:\n",
    "\n",
    "## $\\frac{\\partial u}{\\partial t} = - \\frac{1}{\\rho_0} \\frac{\\partial p}{\\partial x} + fv$\n",
    "\n",
    "## $\\frac{\\partial v}{\\partial t} = - \\frac{1}{\\rho_0} \\frac{\\partial p}{\\partial y} - fu$\n",
    "\n",
    "## $\\frac{\\partial w}{\\partial t} = - \\frac{1}{\\rho_0} \\frac{\\partial p}{\\partial z} - \\frac{\\rho'}{\\rho_0} g$\n",
    "\n",
    "\n",
    "## $\\nabla \\cdot \\vec u = 0$\n",
    "\n",
    "## $\\frac{\\partial \\rho'}{\\partial t} = \\frac{\\rho_0}{g} N^2 \\omega^2$"
   ]
  },
  {
   "cell_type": "markdown",
   "metadata": {},
   "source": [
    "## Following Kundu, we take the time derivative of the continuity equation:\n",
    "\n",
    "## $\\frac{\\partial^2 u}{\\partial t \\partial x} + \\frac{\\partial^2 v}{\\partial t \\partial y} + \\frac{\\partial^2 w}{\\partial t \\partial z} = 0$"
   ]
  },
  {
   "cell_type": "markdown",
   "metadata": {},
   "source": [
    "## And now replace the time derivatives for $u, v$:\n",
    "\n",
    "## $\\frac{1}{\\rho_0} \\nabla_H^2 p + f [\\frac{\\partial v}{\\partial x} - \\frac{\\partial u}{\\partial y}] = \\frac{\\partial^2 w}{\\partial t \\partial z}$"
   ]
  },
  {
   "cell_type": "markdown",
   "metadata": {},
   "source": [
    "## Using the time derivative of our third momentum equation and our 5th equation:\n",
    "\n",
    "## $\\frac{1}{\\rho_0} \\frac{\\partial^2 p}{\\partial t \\partial z} = -\\frac{\\partial^2 w}{\\partial t^2} - N^2 w$"
   ]
  },
  {
   "cell_type": "markdown",
   "metadata": {},
   "source": [
    "## Now apply $\\nabla_H^2$ to this equation and use the one two up that involves $\\nabla_H^2 p$ to get:\n",
    "\n",
    "## $\\frac{\\partial^2}{\\partial t \\partial z} \\left [ \\frac{\\partial^2 w}{\\partial t \\partial z} - f [\\frac{\\partial v}{\\partial x} - \\frac{\\partial u}{\\partial y}] \\right ] = \n",
    "-\\nabla_H^2 \\left ( \\frac{\\partial^2 w}{\\partial t^2} + N^2 w \\right ) $"
   ]
  },
  {
   "cell_type": "code",
   "execution_count": null,
   "metadata": {},
   "outputs": [],
   "source": []
  }
 ],
 "metadata": {
  "kernelspec": {
   "display_name": "Python 3",
   "language": "python",
   "name": "python3"
  },
  "language_info": {
   "codemirror_mode": {
    "name": "ipython",
    "version": 3
   },
   "file_extension": ".py",
   "mimetype": "text/x-python",
   "name": "python",
   "nbconvert_exporter": "python",
   "pygments_lexer": "ipython3",
   "version": "3.8.5"
  }
 },
 "nbformat": 4,
 "nbformat_minor": 4
}
