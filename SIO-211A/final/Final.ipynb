{
 "cells": [
  {
   "cell_type": "markdown",
   "metadata": {},
   "source": [
    "# SIO 211a -- Final"
   ]
  },
  {
   "cell_type": "code",
   "execution_count": 1,
   "metadata": {},
   "outputs": [],
   "source": [
    "# imports\n",
    "import os\n",
    "import numpy as np\n",
    "\n",
    "import pandas\n",
    "\n",
    "import h5py\n",
    "\n",
    "from matplotlib import pyplot as plt\n",
    "import seaborn as sns\n",
    "\n",
    "import unyt"
   ]
  },
  {
   "cell_type": "code",
   "execution_count": 2,
   "metadata": {},
   "outputs": [],
   "source": [
    "sns.set_theme()\n",
    "sns.set_style('whitegrid')\n",
    "sns.set_context('notebook')"
   ]
  },
  {
   "cell_type": "markdown",
   "metadata": {},
   "source": [
    "# (1) PV Conservation\n",
    "\n",
    "## We start with:\n",
    "\n",
    "## $\\frac{Dq}{Dt} = 0; q = \\nabla^2 \\Psi + \\beta y + \\frac{f_0^2}{N^2} \\Psi$\n",
    "\n",
    "### with $\\Psi = p(x,y,z,t)/(\\rho_0 f_0)$"
   ]
  },
  {
   "cell_type": "markdown",
   "metadata": {},
   "source": [
    "## (a) Linearize"
   ]
  },
  {
   "cell_type": "markdown",
   "metadata": {},
   "source": [
    "## Let us evaluate $Dq/Dt$:\n",
    "\n",
    "## $\\frac{\\partial}{\\partial t} \\left [ \\nabla^2 \\Psi + \\beta y + \\frac{f_0^2}{N^2} \\Psi \\right ] + \\vec u \\cdot \\vec \\nabla \\left [ \\nabla^2 \\Psi + \\beta y + \\frac{f_0^2}{N^2} \\Psi \\right ] = 0$"
   ]
  },
  {
   "cell_type": "markdown",
   "metadata": {},
   "source": [
    "## The 2nd term in the first expression vanishes (I think!) and we ignore the terms with $\\vec u$ and $\\Psi$ in the 2nd as we lienarize.  This leaves:\n",
    "\n",
    "## $\\frac{\\partial}{\\partial t} \\left [ \\nabla^2 \\Psi + \\frac{f_0^2}{N^2} \\Psi \\right ] + \\vec u \\cdot \\vec \\nabla  \\beta y = 0$"
   ]
  },
  {
   "cell_type": "markdown",
   "metadata": {},
   "source": [
    "## The 2nd term yields $\\beta v$ and we recognize for a linearized geostrophic flow that $v = \\partial \\Psi / \\partial x$"
   ]
  },
  {
   "cell_type": "markdown",
   "metadata": {},
   "source": [
    "## Altogether, we have:\n",
    "\n",
    "## $\\frac{\\partial}{\\partial t} \\left [ \\nabla^2 \\Psi + \\frac{f_0^2}{N^2} \\Psi \\right ] + \\beta \\frac{\\partial \\Psi}{\\partial x} = 0$"
   ]
  },
  {
   "cell_type": "markdown",
   "metadata": {},
   "source": [
    "## (b) Now plug in $\\Psi = \\hat\\Psi(z) \\, {\\rm e}^{i(k_x x + k_y y - \\omega t)}$"
   ]
  },
  {
   "cell_type": "markdown",
   "metadata": {},
   "source": [
    "## $\\frac{\\partial}{\\partial t} \\left [ -(k_x^2 + k_y^2) \\Psi + \\partial^2 \\Psi / \\partial z^2 + \\frac{f_0^2}{N^2} \\Psi \\right ] + i \\beta k_x \\Psi = 0$"
   ]
  },
  {
   "cell_type": "markdown",
   "metadata": {},
   "source": [
    "## Applying the $\\partial/\\partial t$ brings an $-i \\omega$ down from each term.  And some rearranging gives:\n",
    "\n",
    "## $\\frac{\\partial^2 \\hat\\Psi(z)}{\\partial z^2} = - \\left [ -\\frac{\\beta k_x}{\\omega}  -k_x^2 - k_y^2 + \\frac{f_0^2}{N^2} \\right ] \\Psi$"
   ]
  },
  {
   "cell_type": "markdown",
   "metadata": {},
   "source": [
    "## (c) Rigid lid\n",
    "\n",
    "## We will demand $w=0$ at $z=0, H$."
   ]
  },
  {
   "cell_type": "markdown",
   "metadata": {},
   "source": [
    "## For intertial waves, this was easily addressed as we had solutions in $w$.  Here, we have:\n",
    "\n",
    "## $\\frac{D w}{Dt} = f_0 \\frac{\\partial \\Psi}{\\partial z}$"
   ]
  },
  {
   "cell_type": "markdown",
   "metadata": {},
   "source": [
    "## For $w=0$ at all time, we will demand $\\partial \\Psi/\\partial z=0$ at all time at $z=0$ and $H$."
   ]
  },
  {
   "cell_type": "markdown",
   "metadata": {},
   "source": [
    "## So, expressing $\\hat\\Psi(z) = \\Psi_0 \\cos(k_z z)$ and identifiying\n",
    "\n",
    "## $k_z^2 = \\left [ -\\frac{\\beta k_x}{\\omega} + -k_x^2 - k_y^2 + \\frac{f_0^2}{N^2} \\right ]$\n",
    "\n",
    "## Our boundary condition becomes $k_z H = n\\pi/2$."
   ]
  },
  {
   "cell_type": "markdown",
   "metadata": {},
   "source": [
    "## (d) Dispersion relation\n",
    "\n",
    "## This is deteremined by inverting the above equation for $k_z^2$ and massaging:\n",
    "\n",
    "## $\\omega = \\frac{\\beta k_x}{\\frac{f_0^2}{N^2} - k_x^2 - k_y^2 - k_z^2}$"
   ]
  },
  {
   "cell_type": "markdown",
   "metadata": {},
   "source": [
    "## And, \n",
    "\n",
    "## $\\omega_n = \\frac{\\beta k_x}{\\frac{f_0^2}{N^2} - k_x^2 - k_y^2 - (n\\pi/2H)^2}$"
   ]
  },
  {
   "cell_type": "markdown",
   "metadata": {},
   "source": [
    "## (e) Consider limiting cases of the modes.  \n",
    "\n",
    "### For small $n$, we can have easterly waves $k_x>0$ provided $k_x^2 + k_y^2 < f_0^2/N^2$ which means small $k$ or long wavelengths.\n",
    "\n",
    "### Alternatively, we can have arbitrarily short wavelengths for westward waves ($k_x < 0$).  \n",
    "\n",
    "### For very large $n$, the denominator is negative and we are restricted to westward waves ($k_x < 0$)."
   ]
  },
  {
   "cell_type": "markdown",
   "metadata": {},
   "source": [
    "----"
   ]
  },
  {
   "cell_type": "markdown",
   "metadata": {},
   "source": [
    "# (2) Rossby waves in SSH"
   ]
  },
  {
   "cell_type": "markdown",
   "metadata": {},
   "source": [
    "## (a) Interpreting the SSH anomolies in terms of westward propogating Rossby waves, these are the large-amplitude solutions ($K_H \\ll K_R$) with dispersion relation:\n",
    "\n",
    "## $\\omega = \\frac{-k_x \\beta}{K_H^2 + K_r^2}$\n",
    "\n",
    "## where $K_H^2 \\equiv k_x^2 + k_y^2$ and $K_R \\equiv 1/a$ with $a = \\sqrt{gH}/f$"
   ]
  },
  {
   "cell_type": "markdown",
   "metadata": {},
   "source": [
    "## In the limit of $K_H \\ll K_R$, the dispersion relation is approximately\n",
    "\n",
    "## $\\omega = \\frac{-k_x \\beta}{K_r^2}$ \n",
    "\n",
    "## and the group and phase velocities are the same:\n",
    "\n",
    "## $C_p = C_g = \\frac{-\\beta}{K_R^2}$\n",
    "\n",
    "## With an explicit dependence on latitude via $\\beta$, the Rossby waves closer to the equator having high speeds."
   ]
  },
  {
   "cell_type": "markdown",
   "metadata": {},
   "source": [
    "## This latter point is evident in the Figures.  Focusing on a constant SSHa, e.g. +6cm (red), in the lowest panel (lowest latitude or highest $\\beta$), the slope of constant SSHa is shallow.\n",
    "\n",
    "## This implies high $\\Delta x$ per $\\Delta t$, i.e. a high $C_p$.\n",
    "\n",
    "## Conversely, the slope of constant SSHa in the top-pean is steep indicating a lower $\\Delta x$ per $\\Delta t$."
   ]
  },
  {
   "cell_type": "markdown",
   "metadata": {},
   "source": [
    "## (b) Vertical mode number"
   ]
  },
  {
   "cell_type": "markdown",
   "metadata": {},
   "source": [
    "### Begin with an estimate of the longitudinal phase speed $C_p^x$.  Starting at a constant SSHa = +6cm in the 32N panel, I eyeball 30deg of longitude for 600 days:"
   ]
  },
  {
   "cell_type": "code",
   "execution_count": 4,
   "metadata": {},
   "outputs": [],
   "source": [
    "R_earth = 6371 * unyt.km"
   ]
  },
  {
   "cell_type": "code",
   "execution_count": 6,
   "metadata": {},
   "outputs": [
    {
     "data": {
      "text/plain": [
       "(unyt_quantity(2828.9593753, 'km'), unyt_quantity(5402.91442061, 'km'))"
      ]
     },
     "execution_count": 6,
     "metadata": {},
     "output_type": "execute_result"
    }
   ],
   "source": [
    "Dt = 600*unyt.day\n",
    "Dlon = 30*unyt.deg\n",
    "#\n",
    "Rp = R_earth * np.cos(32*unyt.deg)\n",
    "Dx = 2*np.pi * Rp * Dlon/(360*unyt.deg)\n",
    "#\n",
    "Dx, Rp"
   ]
  },
  {
   "cell_type": "code",
   "execution_count": 8,
   "metadata": {},
   "outputs": [
    {
     "data": {
      "text/plain": [
       "unyt_quantity(0.05457098, 'm/s')"
      ]
     },
     "execution_count": 8,
     "metadata": {},
     "output_type": "execute_result"
    }
   ],
   "source": [
    "Cpx = Dx/Dt\n",
    "Cpx.to('m/s')"
   ]
  },
  {
   "cell_type": "code",
   "execution_count": null,
   "metadata": {},
   "outputs": [],
   "source": []
  }
 ],
 "metadata": {
  "kernelspec": {
   "display_name": "Python 3",
   "language": "python",
   "name": "python3"
  },
  "language_info": {
   "codemirror_mode": {
    "name": "ipython",
    "version": 3
   },
   "file_extension": ".py",
   "mimetype": "text/x-python",
   "name": "python",
   "nbconvert_exporter": "python",
   "pygments_lexer": "ipython3",
   "version": "3.8.5"
  }
 },
 "nbformat": 4,
 "nbformat_minor": 4
}
