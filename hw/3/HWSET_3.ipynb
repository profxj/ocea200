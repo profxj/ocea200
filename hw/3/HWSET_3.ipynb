{
 "cells": [
  {
   "cell_type": "markdown",
   "metadata": {},
   "source": [
    "# Homework #3"
   ]
  },
  {
   "cell_type": "code",
   "execution_count": 2,
   "metadata": {},
   "outputs": [],
   "source": [
    "%matplotlib notebook"
   ]
  },
  {
   "cell_type": "code",
   "execution_count": 3,
   "metadata": {},
   "outputs": [],
   "source": [
    "# imports\n",
    "from matplotlib import pyplot as plt\n",
    "import numpy as np\n",
    "\n",
    "from astropy import units"
   ]
  },
  {
   "cell_type": "code",
   "execution_count": 4,
   "metadata": {},
   "outputs": [],
   "source": [
    "def set_fontsize(ax,fsz):\n",
    "    '''\n",
    "    Parameters\n",
    "    ----------\n",
    "    ax : Matplotlib ax class\n",
    "    fsz : float\n",
    "      Font size\n",
    "    '''\n",
    "    for item in ([ax.title, ax.xaxis.label, ax.yaxis.label] +\n",
    "                ax.get_xticklabels() + ax.get_yticklabels()):\n",
    "        item.set_fontsize(fsz)"
   ]
  },
  {
   "cell_type": "markdown",
   "metadata": {},
   "source": [
    "# 1. Readings "
   ]
  },
  {
   "cell_type": "markdown",
   "metadata": {},
   "source": [
    "# 2. Pressure, decibars, and meters\n",
    "\n",
    "### $\\frac{d p}{d z} = - \\rho g$"
   ]
  },
  {
   "cell_type": "markdown",
   "metadata": {},
   "source": [
    "## a) Integrate the equation with $\\rho = \\rho_0$ a constant\n",
    "\n",
    "### We will integrate from $z = -h$ to $z=0$\n",
    "\n",
    "### Then, \n",
    "\n",
    "### $p = -\\rho_0 g z|_{z=-h}^{z=0} = - \\rho_0 g h$"
   ]
  },
  {
   "cell_type": "markdown",
   "metadata": {},
   "source": [
    "## b) Pressure at $z = -3$m"
   ]
  },
  {
   "cell_type": "code",
   "execution_count": 6,
   "metadata": {},
   "outputs": [
    {
     "data": {
      "text/latex": [
       "$101300 \\; \\mathrm{\\frac{N}{m^{2}}}$"
      ],
      "text/plain": [
       "<Quantity 101300. N / m2>"
      ]
     },
     "execution_count": 6,
     "metadata": {},
     "output_type": "execute_result"
    }
   ],
   "source": [
    "atm = 1.013e5 * units.N / units.m**2\n",
    "atm"
   ]
  },
  {
   "cell_type": "code",
   "execution_count": 8,
   "metadata": {},
   "outputs": [
    {
     "data": {
      "text/latex": [
       "$9.8 \\; \\mathrm{\\frac{m}{s^{2}}}$"
      ],
      "text/plain": [
       "<Quantity 9.8 m / s2>"
      ]
     },
     "execution_count": 8,
     "metadata": {},
     "output_type": "execute_result"
    }
   ],
   "source": [
    "g = 9.8 * units.m / units.s**2\n",
    "g"
   ]
  },
  {
   "cell_type": "code",
   "execution_count": 9,
   "metadata": {},
   "outputs": [
    {
     "data": {
      "text/latex": [
       "$1027 \\; \\mathrm{\\frac{kg}{m^{3}}}$"
      ],
      "text/plain": [
       "<Quantity 1027. kg / m3>"
      ]
     },
     "execution_count": 9,
     "metadata": {},
     "output_type": "execute_result"
    }
   ],
   "source": [
    "rho0 = 1027 * units.kg / units.m**3\n",
    "rho0"
   ]
  },
  {
   "cell_type": "code",
   "execution_count": 10,
   "metadata": {},
   "outputs": [
    {
     "data": {
      "text/latex": [
       "$30193.8 \\; \\mathrm{\\frac{kg}{m\\,s^{2}}}$"
      ],
      "text/plain": [
       "<Quantity 30193.8 kg / (m s2)>"
      ]
     },
     "execution_count": 10,
     "metadata": {},
     "output_type": "execute_result"
    }
   ],
   "source": [
    "p3 = rho0 * g * 3*units.m\n",
    "p3"
   ]
  },
  {
   "cell_type": "markdown",
   "metadata": {},
   "source": [
    "### N m$^{-2}$"
   ]
  },
  {
   "cell_type": "code",
   "execution_count": 11,
   "metadata": {},
   "outputs": [
    {
     "data": {
      "text/latex": [
       "$30193.8 \\; \\mathrm{\\frac{N}{m^{2}}}$"
      ],
      "text/plain": [
       "<Quantity 30193.8 N / m2>"
      ]
     },
     "execution_count": 11,
     "metadata": {},
     "output_type": "execute_result"
    }
   ],
   "source": [
    "p3.to('N/m**2')"
   ]
  },
  {
   "cell_type": "code",
   "execution_count": 22,
   "metadata": {},
   "outputs": [
    {
     "data": {
      "text/latex": [
       "$30193.8 \\; \\mathrm{Pa}$"
      ],
      "text/plain": [
       "<Quantity 30193.8 Pa>"
      ]
     },
     "execution_count": 22,
     "metadata": {},
     "output_type": "execute_result"
    }
   ],
   "source": [
    "p3.to('Pa')"
   ]
  },
  {
   "cell_type": "markdown",
   "metadata": {},
   "source": [
    "### dbar"
   ]
  },
  {
   "cell_type": "code",
   "execution_count": 20,
   "metadata": {},
   "outputs": [
    {
     "data": {
      "text/plain": [
       "3.0193800000000004"
      ]
     },
     "execution_count": 20,
     "metadata": {},
     "output_type": "execute_result"
    }
   ],
   "source": [
    "p3.to('bar').value * 10"
   ]
  },
  {
   "cell_type": "code",
   "execution_count": 25,
   "metadata": {},
   "outputs": [
    {
     "data": {
      "text/plain": [
       "10.13"
      ]
     },
     "execution_count": 25,
     "metadata": {},
     "output_type": "execute_result"
    }
   ],
   "source": [
    "atm.to('bar').value * 10"
   ]
  },
  {
   "cell_type": "markdown",
   "metadata": {},
   "source": [
    "### This is approximately 1/3 of 1 atm"
   ]
  },
  {
   "cell_type": "markdown",
   "metadata": {},
   "source": [
    "## c) Pressure at $z = -10$m"
   ]
  },
  {
   "cell_type": "code",
   "execution_count": 23,
   "metadata": {},
   "outputs": [],
   "source": [
    "p10 = rho0 * g * 10*units.m"
   ]
  },
  {
   "cell_type": "code",
   "execution_count": 24,
   "metadata": {},
   "outputs": [
    {
     "data": {
      "text/plain": [
       "10.064600000000002"
      ]
     },
     "execution_count": 24,
     "metadata": {},
     "output_type": "execute_result"
    }
   ],
   "source": [
    "p10.to('bar').value*10"
   ]
  },
  {
   "cell_type": "markdown",
   "metadata": {},
   "source": [
    "### This is approximately 1 atm"
   ]
  },
  {
   "cell_type": "code",
   "execution_count": 33,
   "metadata": {},
   "outputs": [],
   "source": [
    "p4000 = rho0 * g * 4000*units.m"
   ]
  },
  {
   "cell_type": "code",
   "execution_count": 34,
   "metadata": {},
   "outputs": [
    {
     "data": {
      "text/plain": [
       "4025.8400000000006"
      ]
     },
     "execution_count": 34,
     "metadata": {},
     "output_type": "execute_result"
    }
   ],
   "source": [
    "# dbar\n",
    "p4000.to('bar').value * 10"
   ]
  },
  {
   "cell_type": "code",
   "execution_count": 35,
   "metadata": {},
   "outputs": [
    {
     "data": {
      "text/latex": [
       "$397.41757 \\; \\mathrm{}$"
      ],
      "text/plain": [
       "<Quantity 397.41757157>"
      ]
     },
     "execution_count": 35,
     "metadata": {},
     "output_type": "execute_result"
    }
   ],
   "source": [
    "# Number of atmospheres\n",
    "(p4000/atm).decompose()"
   ]
  },
  {
   "cell_type": "markdown",
   "metadata": {},
   "source": [
    "## d) Correct for varying density\n",
    "\n",
    "### $\\rho(4000\\,{\\rm m}) = 1048$ kg m$^{-3}$"
   ]
  },
  {
   "cell_type": "code",
   "execution_count": 37,
   "metadata": {},
   "outputs": [],
   "source": [
    "rho0B = 1048 * units.kg / units.m**3"
   ]
  },
  {
   "cell_type": "code",
   "execution_count": 38,
   "metadata": {},
   "outputs": [],
   "source": [
    "p4000B = rho0B * g * 4000*units.m"
   ]
  },
  {
   "cell_type": "code",
   "execution_count": 39,
   "metadata": {},
   "outputs": [
    {
     "data": {
      "text/plain": [
       "4108.160000000001"
      ]
     },
     "execution_count": 39,
     "metadata": {},
     "output_type": "execute_result"
    }
   ],
   "source": [
    "p4000B.to('bar').value * 10"
   ]
  },
  {
   "cell_type": "markdown",
   "metadata": {},
   "source": [
    "### Percent error"
   ]
  },
  {
   "cell_type": "code",
   "execution_count": 40,
   "metadata": {},
   "outputs": [
    {
     "data": {
      "text/latex": [
       "$0.020447907 \\; \\mathrm{}$"
      ],
      "text/plain": [
       "<Quantity 0.02044791>"
      ]
     },
     "execution_count": 40,
     "metadata": {},
     "output_type": "execute_result"
    }
   ],
   "source": [
    "np.abs(p4000-p4000B)/p4000"
   ]
  },
  {
   "cell_type": "markdown",
   "metadata": {},
   "source": [
    "### This is an upper bound because the density will vary monotinically from $\\rho_0$ to $\\rho(4000\\,{\\rm m})$"
   ]
  },
  {
   "cell_type": "markdown",
   "metadata": {},
   "source": [
    "### They may prefer dbar as it is positive."
   ]
  },
  {
   "cell_type": "markdown",
   "metadata": {},
   "source": [
    "## e) New density expression\n",
    "\n",
    "## $\\rho = \\rho_0 - \\gamma\\,z$"
   ]
  },
  {
   "cell_type": "markdown",
   "metadata": {},
   "source": [
    "### Integrate\n",
    "\n",
    "### $p = -\\rho_0 g z|_{z=-h}^{z=0} + \\frac{1}{2} \\gamma g z^2|_{z=-h}^{z=0} = - \\rho_0 g h + \\frac{1}{2} \\gamma g h^2$"
   ]
  },
  {
   "cell_type": "code",
   "execution_count": 42,
   "metadata": {},
   "outputs": [],
   "source": [
    "gamma = 4.5e-3 * units.kg / units.m**4"
   ]
  },
  {
   "cell_type": "code",
   "execution_count": 48,
   "metadata": {},
   "outputs": [
    {
     "data": {
      "text/plain": [
       "4061.1200000000003"
      ]
     },
     "execution_count": 48,
     "metadata": {},
     "output_type": "execute_result"
    }
   ],
   "source": [
    "p4000C = rho0 * g * 4000*units.m + 0.5 * g * gamma * (4000*units.m)**2\n",
    "p4000C.to('bar').value*10"
   ]
  },
  {
   "cell_type": "markdown",
   "metadata": {},
   "source": [
    "### Compare"
   ]
  },
  {
   "cell_type": "code",
   "execution_count": 49,
   "metadata": {},
   "outputs": [
    {
     "data": {
      "text/latex": [
       "$0.0087633885 \\; \\mathrm{}$"
      ],
      "text/plain": [
       "<Quantity 0.00876339>"
      ]
     },
     "execution_count": 49,
     "metadata": {},
     "output_type": "execute_result"
    }
   ],
   "source": [
    "np.abs(p4000-p4000C)/p4000"
   ]
  },
  {
   "cell_type": "markdown",
   "metadata": {},
   "source": [
    "----"
   ]
  },
  {
   "cell_type": "markdown",
   "metadata": {},
   "source": [
    "# 3. Descriptions"
   ]
  },
  {
   "cell_type": "markdown",
   "metadata": {},
   "source": [
    "## a) \n",
    "\n",
    "### Temperature $T$ is the in situ measurement.  \n",
    "\n",
    "### Potential temperature $\\Theta$ is the temperature accounting for the variation in pressure with depth More precisely, it is the tempreature of some parcel of water after it has been raised adiabatically to the surface.\n",
    "\n",
    "### As defined, $T  \\ge \\Theta$ at all depths."
   ]
  },
  {
   "cell_type": "markdown",
   "metadata": {},
   "source": [
    "## b) $\\sigma$ galore"
   ]
  },
  {
   "cell_type": "markdown",
   "metadata": {},
   "source": [
    "### $\\sigma$ is the density anomaly, a convenient way to reduce the density to $\\sim 2$ numbers\n",
    "\n",
    "### $\\sigma(s,t,p) = \\rho(s,t,p) - 1000 \\, \\rm kg/m^3$"
   ]
  },
  {
   "cell_type": "markdown",
   "metadata": {},
   "source": [
    "### $\\sigma_t$ is the density anomaly for a pressure of 1 atm (i.e. zero water pressure).  It is useful for discussing density near the surface.\n",
    "\n",
    "### $\\sigma_t = \\sigma(s,t,0)$"
   ]
  },
  {
   "cell_type": "markdown",
   "metadata": {},
   "source": [
    "### $\\sigma_\\Theta$ is the potential density.  It is the density a parcel would have if raised adiabatically to the surface.  It conveniently allows us to compare the density of different parcels from different depths.\n",
    "\n",
    "### $\\sigma_\\Theta = \\sigma(s,\\Theta,0)$"
   ]
  },
  {
   "cell_type": "markdown",
   "metadata": {},
   "source": [
    "### $\\sigma_4$ is the density anomaly relative to 4 km depth.  It is useful for mesurements at great depths.\n",
    "\n",
    "### $\\sigma_4 = \\sigma(s,\\Theta,4000)$"
   ]
  },
  {
   "cell_type": "markdown",
   "metadata": {},
   "source": [
    "----"
   ]
  },
  {
   "cell_type": "markdown",
   "metadata": {},
   "source": [
    "# 4. Linear EOS\n",
    "\n",
    "## $\\rho = \\rho_0 - \\alpha(T-T_0) + \\beta (S-S_0) + \\gamma p$"
   ]
  },
  {
   "cell_type": "code",
   "execution_count": 69,
   "metadata": {},
   "outputs": [],
   "source": [
    "rho0 = 1027 * units.kg / units.m**3\n",
    "T_0 = 10 * units.Celsius\n",
    "S_0 = 35 "
   ]
  },
  {
   "cell_type": "code",
   "execution_count": 74,
   "metadata": {},
   "outputs": [],
   "source": [
    "alpha = 0.2 * units.kg/units.m**3/units.Celsius\n",
    "beta = 0.75 * units.kg/units.m**3\n",
    "gamma = 4.5e-3*10 * units.kg/units.m**3/units.bar # Dealt with dbar"
   ]
  },
  {
   "cell_type": "code",
   "execution_count": 78,
   "metadata": {},
   "outputs": [],
   "source": [
    "def calc_rho(T, S, p):\n",
    "    #import pdb; pdb.set_trace()\n",
    "    rho = rho0 - alpha*(T-T_0) + beta*(S-S_0) + gamma*p\n",
    "    return rho.to('kg/m**3')"
   ]
  },
  {
   "cell_type": "markdown",
   "metadata": {},
   "source": [
    "## a) Hawaii"
   ]
  },
  {
   "cell_type": "markdown",
   "metadata": {},
   "source": [
    "### Density"
   ]
  },
  {
   "cell_type": "code",
   "execution_count": 76,
   "metadata": {},
   "outputs": [],
   "source": [
    "hawaii_T_0 = 26.5 * units.Celsius\n",
    "hawaii_S_0 = 34.8\n",
    "hawaii_p_0 = 0. * units.bar"
   ]
  },
  {
   "cell_type": "code",
   "execution_count": 82,
   "metadata": {},
   "outputs": [
    {
     "data": {
      "text/latex": [
       "$1023.55 \\; \\mathrm{\\frac{kg}{m^{3}}}$"
      ],
      "text/plain": [
       "<Quantity 1023.55 kg / m3>"
      ]
     },
     "execution_count": 82,
     "metadata": {},
     "output_type": "execute_result"
    }
   ],
   "source": [
    "### Calculate\n",
    "rho_hawaii_0 = calc_rho(hawaii_T_0, hawaii_S_0, hawaii_p_0)\n",
    "rho_hawaii_0"
   ]
  },
  {
   "cell_type": "code",
   "execution_count": 84,
   "metadata": {},
   "outputs": [],
   "source": [
    "hawaii_T_1000 = 4 * units.Celsius\n",
    "hawaii_S_1000 = 34.5\n",
    "hawaii_p_1000 = (1000./10) * units.bar   # 1m ~ 1dbar"
   ]
  },
  {
   "cell_type": "code",
   "execution_count": 83,
   "metadata": {},
   "outputs": [
    {
     "data": {
      "text/latex": [
       "$1032.325 \\; \\mathrm{\\frac{kg}{m^{3}}}$"
      ],
      "text/plain": [
       "<Quantity 1032.325 kg / m3>"
      ]
     },
     "execution_count": 83,
     "metadata": {},
     "output_type": "execute_result"
    }
   ],
   "source": [
    "### Calculate\n",
    "rho_hawaii_1000 = calc_rho(hawaii_T_1000, hawaii_S_1000, hawaii_p_1000)\n",
    "rho_hawaii_1000"
   ]
  },
  {
   "cell_type": "markdown",
   "metadata": {},
   "source": [
    "### $\\sigma_t$"
   ]
  },
  {
   "cell_type": "markdown",
   "metadata": {},
   "source": [
    "### Surface"
   ]
  },
  {
   "cell_type": "code",
   "execution_count": 85,
   "metadata": {},
   "outputs": [
    {
     "data": {
      "text/latex": [
       "$23.55 \\; \\mathrm{\\frac{kg}{m^{3}}}$"
      ],
      "text/plain": [
       "<Quantity 23.55 kg / m3>"
      ]
     },
     "execution_count": 85,
     "metadata": {},
     "output_type": "execute_result"
    }
   ],
   "source": [
    "sigma_t_hawaii_0 = rho_hawaii_0 - 1000.*units.kg/units.m**3\n",
    "sigma_t_hawaii_0"
   ]
  },
  {
   "cell_type": "markdown",
   "metadata": {},
   "source": [
    "### 1000 m"
   ]
  },
  {
   "cell_type": "code",
   "execution_count": 87,
   "metadata": {},
   "outputs": [
    {
     "data": {
      "text/latex": [
       "$27.825 \\; \\mathrm{\\frac{kg}{m^{3}}}$"
      ],
      "text/plain": [
       "<Quantity 27.825 kg / m3>"
      ]
     },
     "execution_count": 87,
     "metadata": {},
     "output_type": "execute_result"
    }
   ],
   "source": [
    "# Following my definition above this doesn't seem quite right)...\n",
    "sigma_t_hawaii_1000 = calc_rho(hawaii_T_1000, hawaii_S_1000, 0*units.bar) - 1000*units.kg/units.m**3\n",
    "sigma_t_hawaii_1000"
   ]
  },
  {
   "cell_type": "markdown",
   "metadata": {},
   "source": [
    "### Gulf of Alaska (green)"
   ]
  },
  {
   "cell_type": "markdown",
   "metadata": {},
   "source": [
    "### Density"
   ]
  },
  {
   "cell_type": "code",
   "execution_count": 88,
   "metadata": {},
   "outputs": [],
   "source": [
    "gulf_T_0 = 8. * units.Celsius\n",
    "gulf_S_0 = 32.5\n",
    "gulf_p_0 = 0. * units.bar"
   ]
  },
  {
   "cell_type": "code",
   "execution_count": 89,
   "metadata": {},
   "outputs": [
    {
     "data": {
      "text/latex": [
       "$1025.525 \\; \\mathrm{\\frac{kg}{m^{3}}}$"
      ],
      "text/plain": [
       "<Quantity 1025.525 kg / m3>"
      ]
     },
     "execution_count": 89,
     "metadata": {},
     "output_type": "execute_result"
    }
   ],
   "source": [
    "rho_gulf_0 = calc_rho(gulf_T_0, gulf_S_0, gulf_p_0)\n",
    "rho_gulf_0"
   ]
  },
  {
   "cell_type": "code",
   "execution_count": 90,
   "metadata": {},
   "outputs": [],
   "source": [
    "gulf_T_1000 = 3.5 * units.Celsius\n",
    "gulf_S_1000 = 34.3\n",
    "gulf_p_1000 = (1000./10.) * units.bar"
   ]
  },
  {
   "cell_type": "code",
   "execution_count": 91,
   "metadata": {},
   "outputs": [
    {
     "data": {
      "text/latex": [
       "$1032.275 \\; \\mathrm{\\frac{kg}{m^{3}}}$"
      ],
      "text/plain": [
       "<Quantity 1032.275 kg / m3>"
      ]
     },
     "execution_count": 91,
     "metadata": {},
     "output_type": "execute_result"
    }
   ],
   "source": [
    "rho_gulf_1000 = calc_rho(gulf_T_1000, gulf_S_1000, gulf_p_1000)\n",
    "rho_gulf_1000"
   ]
  },
  {
   "cell_type": "markdown",
   "metadata": {},
   "source": [
    "#### $\\sigma_t$"
   ]
  },
  {
   "cell_type": "code",
   "execution_count": 93,
   "metadata": {},
   "outputs": [
    {
     "data": {
      "text/latex": [
       "$25.525 \\; \\mathrm{\\frac{kg}{m^{3}}}$"
      ],
      "text/plain": [
       "<Quantity 25.525 kg / m3>"
      ]
     },
     "execution_count": 93,
     "metadata": {},
     "output_type": "execute_result"
    }
   ],
   "source": [
    "sigma_t_gulf_0 = rho_gulf_0 - 1000.*units.kg/units.m**3\n",
    "sigma_t_gulf_0"
   ]
  },
  {
   "cell_type": "code",
   "execution_count": 94,
   "metadata": {},
   "outputs": [
    {
     "data": {
      "text/latex": [
       "$27.775 \\; \\mathrm{\\frac{kg}{m^{3}}}$"
      ],
      "text/plain": [
       "<Quantity 27.775 kg / m3>"
      ]
     },
     "execution_count": 94,
     "metadata": {},
     "output_type": "execute_result"
    }
   ],
   "source": [
    "sigma_t_gulf_1000 = calc_rho(gulf_T_1000, gulf_S_1000, 0*units.bar) - 1000*units.kg/units.m**3\n",
    "sigma_t_gulf_1000"
   ]
  },
  {
   "cell_type": "markdown",
   "metadata": {},
   "source": [
    "## b) Circling.."
   ]
  },
  {
   "cell_type": "markdown",
   "metadata": {},
   "source": [
    "### Thermocline: depth where maximum $T$ change occurs\n",
    "\n",
    "### For Hawaii, $z \\approx -200$m\n",
    "### For the Gulf, $z \\approx -50$m\n",
    "### For California, $z \\approx -100$m"
   ]
  },
  {
   "cell_type": "markdown",
   "metadata": {},
   "source": [
    "### Helocline:  This is the depth where the maximum $S$ change occurs\n",
    "\n",
    "### For Hawaii, $z \\approx -225$m\n",
    "### For the Gulf, $z \\approx -120$m\n",
    "### For California, $z \\approx -200$m"
   ]
  },
  {
   "cell_type": "markdown",
   "metadata": {},
   "source": [
    "## c) Varying density"
   ]
  },
  {
   "cell_type": "markdown",
   "metadata": {},
   "source": [
    "### Although $\\alpha \\approx \\beta/4$, the change in $T$ (especially in the thermocline) is $10\\times$ greater than that of $S$.  So $T$ variations dominate.\n",
    "\n",
    "### The one exception may be for the Gulf of Alaska where the $T$ change is only a few degrees."
   ]
  },
  {
   "cell_type": "markdown",
   "metadata": {},
   "source": [
    "## d) Stability\n",
    "\n",
    "### For stability, we want higher density at greater depth.\n",
    "\n",
    "### Given $\\beta >0$, increasing $S$ increases $\\rho$.  \n",
    "\n",
    "### So stabilizing salinity will occur when $S$ increases with depth.\n",
    "\n",
    "### Referring to othe Figure, we see this occurs for the Gulf of Alaska everywhere (especially at $z \\approx -120$m.  It occurs for the California current at $z \\approx -200$m and again at $z < -500$m.  For Hawaii, this occurs near the surface and again at $z < -400$m."
   ]
  },
  {
   "cell_type": "markdown",
   "metadata": {},
   "source": [
    "## e) Stability for Hawaii\n",
    "\n",
    "### This is a bit tricky because when there is the greatest $T$ stability the salinity works against us ($z \\approx -200$m).\n",
    "\n",
    "### But, because $T$ has greater impact I estimate it is still the greatest at 300m compared to 50m and 2000m. "
   ]
  },
  {
   "cell_type": "markdown",
   "metadata": {},
   "source": [
    "----"
   ]
  },
  {
   "cell_type": "markdown",
   "metadata": {},
   "source": [
    "# 5. Density contours"
   ]
  },
  {
   "cell_type": "markdown",
   "metadata": {},
   "source": [
    "## a) Mix (T1,S1)=(4,32) and (T2,S2)=(15,35)"
   ]
  },
  {
   "cell_type": "code",
   "execution_count": 95,
   "metadata": {},
   "outputs": [],
   "source": [
    "T1 = 4 * units.Celsius\n",
    "S1 = 32.\n",
    "#\n",
    "T2 = 15 * units.Celsius\n",
    "S2 = 35."
   ]
  },
  {
   "cell_type": "code",
   "execution_count": 97,
   "metadata": {},
   "outputs": [
    {
     "data": {
      "text/latex": [
       "$1025.95 \\; \\mathrm{\\frac{kg}{m^{3}}}$"
      ],
      "text/plain": [
       "<Quantity 1025.95 kg / m3>"
      ]
     },
     "execution_count": 97,
     "metadata": {},
     "output_type": "execute_result"
    }
   ],
   "source": [
    "rho1 = calc_rho(T1, S1, 0*units.bar)\n",
    "rho1"
   ]
  },
  {
   "cell_type": "code",
   "execution_count": 96,
   "metadata": {},
   "outputs": [
    {
     "data": {
      "text/plain": [
       "(<Quantity 9.5 deg_C>, 33.5)"
      ]
     },
     "execution_count": 96,
     "metadata": {},
     "output_type": "execute_result"
    }
   ],
   "source": [
    "T12 = (T1+T2)/2.\n",
    "S12 = (S1+S2)/2.\n",
    "T12, S12"
   ]
  },
  {
   "cell_type": "code",
   "execution_count": 98,
   "metadata": {},
   "outputs": [
    {
     "data": {
      "text/latex": [
       "$1025.975 \\; \\mathrm{\\frac{kg}{m^{3}}}$"
      ],
      "text/plain": [
       "<Quantity 1025.975 kg / m3>"
      ]
     },
     "execution_count": 98,
     "metadata": {},
     "output_type": "execute_result"
    }
   ],
   "source": [
    "rho12 = calc_rho(T12, S12, 0*units.bar)\n",
    "rho12"
   ]
  },
  {
   "cell_type": "markdown",
   "metadata": {},
   "source": [
    "### It is nearly identical"
   ]
  },
  {
   "cell_type": "markdown",
   "metadata": {},
   "source": [
    "## b) Need Talley "
   ]
  },
  {
   "cell_type": "markdown",
   "metadata": {},
   "source": [
    "----"
   ]
  },
  {
   "cell_type": "markdown",
   "metadata": {},
   "source": [
    "# 6. Global temperature and salinity"
   ]
  },
  {
   "cell_type": "markdown",
   "metadata": {},
   "source": [
    "## a) Sketch"
   ]
  },
  {
   "cell_type": "markdown",
   "metadata": {},
   "source": [
    "## b) Atlantic vs. Pacific"
   ]
  },
  {
   "cell_type": "markdown",
   "metadata": {},
   "source": [
    "### Salinity --  To zeroth order, salinityis zonal (i.e. indepdendent of longitdue).  But the Atlantic Ocean does have a systematically higher salinity.  Apparently because water evaporated from the Atlantic is carried by winds into the Pacific."
   ]
  },
  {
   "cell_type": "markdown",
   "metadata": {},
   "source": [
    "### Temperature -- From an examination of Figure 6.3 of Stewart, there is little discernible difference in temperature between the two oceans.  It is roughly \"zonal\", i.e. independent of longitude."
   ]
  },
  {
   "cell_type": "markdown",
   "metadata": {},
   "source": [
    "## c) Bay of Bengal vs. Arabian Sea"
   ]
  },
  {
   "cell_type": "code",
   "execution_count": null,
   "metadata": {},
   "outputs": [],
   "source": [
    "### I am guessing that the Bay of Bengal has a fresh water river feeding it "
   ]
  }
 ],
 "metadata": {
  "kernelspec": {
   "display_name": "Python 3",
   "language": "python",
   "name": "python3"
  },
  "language_info": {
   "codemirror_mode": {
    "name": "ipython",
    "version": 3
   },
   "file_extension": ".py",
   "mimetype": "text/x-python",
   "name": "python",
   "nbconvert_exporter": "python",
   "pygments_lexer": "ipython3",
   "version": "3.7.3"
  }
 },
 "nbformat": 4,
 "nbformat_minor": 2
}
