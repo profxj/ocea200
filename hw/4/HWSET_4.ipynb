{
 "cells": [
  {
   "cell_type": "markdown",
   "metadata": {},
   "source": [
    "# Ocean Sciences \n",
    "\n",
    "## Homework #4"
   ]
  },
  {
   "cell_type": "code",
   "execution_count": 1,
   "metadata": {},
   "outputs": [],
   "source": [
    "# imports\n",
    "import numpy as np\n",
    "from importlib import reload\n",
    "\n",
    "from oceanpy import constants\n",
    "from oceanpy import units\n",
    "from oceanpy.forces import coriolis as ofc\n",
    "\n",
    "from bokeh import plotting\n",
    "from bokeh import models"
   ]
  },
  {
   "cell_type": "code",
   "execution_count": 2,
   "metadata": {},
   "outputs": [],
   "source": [
    "def set_fontsize(p, fsz):\n",
    "    '''\n",
    "    Parameters\n",
    "    ----------\n",
    "    ax : Bokeh plot class\n",
    "    fsz : float\n",
    "      Font size\n",
    "    '''\n",
    "    p.xaxis.axis_label_text_font_size = '{:d}pt'.format(fsz)\n",
    "    p.xaxis.major_label_text_font_size = \"{:d}pt\".format(fsz)\n",
    "    #\n",
    "    p.yaxis.axis_label_text_font_size = '{:d}pt'.format(fsz)\n",
    "    p.yaxis.major_label_text_font_size = \"{:d}pt\".format(fsz)"
   ]
  },
  {
   "cell_type": "markdown",
   "metadata": {},
   "source": [
    "# 1 Coriolis Acceleration"
   ]
  },
  {
   "cell_type": "markdown",
   "metadata": {},
   "source": [
    "## a) Coriolis parameter\n",
    "\n",
    "### $f = 2 \\Omega \\, \\sin\\phi$"
   ]
  },
  {
   "cell_type": "markdown",
   "metadata": {},
   "source": [
    "### Santa Cruz"
   ]
  },
  {
   "cell_type": "code",
   "execution_count": 3,
   "metadata": {},
   "outputs": [
    {
     "data": {
      "text/latex": [
       "$8.777019 \\times 10^{-5} \\; \\mathrm{\\frac{1}{s}}$"
      ],
      "text/plain": [
       "<Quantity 8.77701897e-05 1 / s>"
      ]
     },
     "execution_count": 3,
     "metadata": {},
     "output_type": "execute_result"
    }
   ],
   "source": [
    "f_SC = ofc.coriolis_parameter(37*units.deg)\n",
    "f_SC"
   ]
  },
  {
   "cell_type": "markdown",
   "metadata": {},
   "source": [
    "### Range of Latitudes"
   ]
  },
  {
   "cell_type": "code",
   "execution_count": 4,
   "metadata": {},
   "outputs": [],
   "source": [
    "phis = np.linspace(-90., 90., 180)*units.deg\n",
    "f = ofc.coriolis_parameter(phis)"
   ]
  },
  {
   "cell_type": "code",
   "execution_count": 5,
   "metadata": {},
   "outputs": [
    {
     "data": {
      "text/html": [
       "\n",
       "    <div class=\"bk-root\">\n",
       "        <a href=\"https://bokeh.pydata.org\" target=\"_blank\" class=\"bk-logo bk-logo-small bk-logo-notebook\"></a>\n",
       "        <span id=\"1001\">Loading BokehJS ...</span>\n",
       "    </div>"
      ]
     },
     "metadata": {},
     "output_type": "display_data"
    },
    {
     "data": {
      "application/javascript": [
       "\n",
       "(function(root) {\n",
       "  function now() {\n",
       "    return new Date();\n",
       "  }\n",
       "\n",
       "  var force = true;\n",
       "\n",
       "  if (typeof root._bokeh_onload_callbacks === \"undefined\" || force === true) {\n",
       "    root._bokeh_onload_callbacks = [];\n",
       "    root._bokeh_is_loading = undefined;\n",
       "  }\n",
       "\n",
       "  var JS_MIME_TYPE = 'application/javascript';\n",
       "  var HTML_MIME_TYPE = 'text/html';\n",
       "  var EXEC_MIME_TYPE = 'application/vnd.bokehjs_exec.v0+json';\n",
       "  var CLASS_NAME = 'output_bokeh rendered_html';\n",
       "\n",
       "  /**\n",
       "   * Render data to the DOM node\n",
       "   */\n",
       "  function render(props, node) {\n",
       "    var script = document.createElement(\"script\");\n",
       "    node.appendChild(script);\n",
       "  }\n",
       "\n",
       "  /**\n",
       "   * Handle when an output is cleared or removed\n",
       "   */\n",
       "  function handleClearOutput(event, handle) {\n",
       "    var cell = handle.cell;\n",
       "\n",
       "    var id = cell.output_area._bokeh_element_id;\n",
       "    var server_id = cell.output_area._bokeh_server_id;\n",
       "    // Clean up Bokeh references\n",
       "    if (id != null && id in Bokeh.index) {\n",
       "      Bokeh.index[id].model.document.clear();\n",
       "      delete Bokeh.index[id];\n",
       "    }\n",
       "\n",
       "    if (server_id !== undefined) {\n",
       "      // Clean up Bokeh references\n",
       "      var cmd = \"from bokeh.io.state import curstate; print(curstate().uuid_to_server['\" + server_id + \"'].get_sessions()[0].document.roots[0]._id)\";\n",
       "      cell.notebook.kernel.execute(cmd, {\n",
       "        iopub: {\n",
       "          output: function(msg) {\n",
       "            var id = msg.content.text.trim();\n",
       "            if (id in Bokeh.index) {\n",
       "              Bokeh.index[id].model.document.clear();\n",
       "              delete Bokeh.index[id];\n",
       "            }\n",
       "          }\n",
       "        }\n",
       "      });\n",
       "      // Destroy server and session\n",
       "      var cmd = \"import bokeh.io.notebook as ion; ion.destroy_server('\" + server_id + \"')\";\n",
       "      cell.notebook.kernel.execute(cmd);\n",
       "    }\n",
       "  }\n",
       "\n",
       "  /**\n",
       "   * Handle when a new output is added\n",
       "   */\n",
       "  function handleAddOutput(event, handle) {\n",
       "    var output_area = handle.output_area;\n",
       "    var output = handle.output;\n",
       "\n",
       "    // limit handleAddOutput to display_data with EXEC_MIME_TYPE content only\n",
       "    if ((output.output_type != \"display_data\") || (!output.data.hasOwnProperty(EXEC_MIME_TYPE))) {\n",
       "      return\n",
       "    }\n",
       "\n",
       "    var toinsert = output_area.element.find(\".\" + CLASS_NAME.split(' ')[0]);\n",
       "\n",
       "    if (output.metadata[EXEC_MIME_TYPE][\"id\"] !== undefined) {\n",
       "      toinsert[toinsert.length - 1].firstChild.textContent = output.data[JS_MIME_TYPE];\n",
       "      // store reference to embed id on output_area\n",
       "      output_area._bokeh_element_id = output.metadata[EXEC_MIME_TYPE][\"id\"];\n",
       "    }\n",
       "    if (output.metadata[EXEC_MIME_TYPE][\"server_id\"] !== undefined) {\n",
       "      var bk_div = document.createElement(\"div\");\n",
       "      bk_div.innerHTML = output.data[HTML_MIME_TYPE];\n",
       "      var script_attrs = bk_div.children[0].attributes;\n",
       "      for (var i = 0; i < script_attrs.length; i++) {\n",
       "        toinsert[toinsert.length - 1].firstChild.setAttribute(script_attrs[i].name, script_attrs[i].value);\n",
       "      }\n",
       "      // store reference to server id on output_area\n",
       "      output_area._bokeh_server_id = output.metadata[EXEC_MIME_TYPE][\"server_id\"];\n",
       "    }\n",
       "  }\n",
       "\n",
       "  function register_renderer(events, OutputArea) {\n",
       "\n",
       "    function append_mime(data, metadata, element) {\n",
       "      // create a DOM node to render to\n",
       "      var toinsert = this.create_output_subarea(\n",
       "        metadata,\n",
       "        CLASS_NAME,\n",
       "        EXEC_MIME_TYPE\n",
       "      );\n",
       "      this.keyboard_manager.register_events(toinsert);\n",
       "      // Render to node\n",
       "      var props = {data: data, metadata: metadata[EXEC_MIME_TYPE]};\n",
       "      render(props, toinsert[toinsert.length - 1]);\n",
       "      element.append(toinsert);\n",
       "      return toinsert\n",
       "    }\n",
       "\n",
       "    /* Handle when an output is cleared or removed */\n",
       "    events.on('clear_output.CodeCell', handleClearOutput);\n",
       "    events.on('delete.Cell', handleClearOutput);\n",
       "\n",
       "    /* Handle when a new output is added */\n",
       "    events.on('output_added.OutputArea', handleAddOutput);\n",
       "\n",
       "    /**\n",
       "     * Register the mime type and append_mime function with output_area\n",
       "     */\n",
       "    OutputArea.prototype.register_mime_type(EXEC_MIME_TYPE, append_mime, {\n",
       "      /* Is output safe? */\n",
       "      safe: true,\n",
       "      /* Index of renderer in `output_area.display_order` */\n",
       "      index: 0\n",
       "    });\n",
       "  }\n",
       "\n",
       "  // register the mime type if in Jupyter Notebook environment and previously unregistered\n",
       "  if (root.Jupyter !== undefined) {\n",
       "    var events = require('base/js/events');\n",
       "    var OutputArea = require('notebook/js/outputarea').OutputArea;\n",
       "\n",
       "    if (OutputArea.prototype.mime_types().indexOf(EXEC_MIME_TYPE) == -1) {\n",
       "      register_renderer(events, OutputArea);\n",
       "    }\n",
       "  }\n",
       "\n",
       "  \n",
       "  if (typeof (root._bokeh_timeout) === \"undefined\" || force === true) {\n",
       "    root._bokeh_timeout = Date.now() + 5000;\n",
       "    root._bokeh_failed_load = false;\n",
       "  }\n",
       "\n",
       "  var NB_LOAD_WARNING = {'data': {'text/html':\n",
       "     \"<div style='background-color: #fdd'>\\n\"+\n",
       "     \"<p>\\n\"+\n",
       "     \"BokehJS does not appear to have successfully loaded. If loading BokehJS from CDN, this \\n\"+\n",
       "     \"may be due to a slow or bad network connection. Possible fixes:\\n\"+\n",
       "     \"</p>\\n\"+\n",
       "     \"<ul>\\n\"+\n",
       "     \"<li>re-rerun `output_notebook()` to attempt to load from CDN again, or</li>\\n\"+\n",
       "     \"<li>use INLINE resources instead, as so:</li>\\n\"+\n",
       "     \"</ul>\\n\"+\n",
       "     \"<code>\\n\"+\n",
       "     \"from bokeh.resources import INLINE\\n\"+\n",
       "     \"output_notebook(resources=INLINE)\\n\"+\n",
       "     \"</code>\\n\"+\n",
       "     \"</div>\"}};\n",
       "\n",
       "  function display_loaded() {\n",
       "    var el = document.getElementById(\"1001\");\n",
       "    if (el != null) {\n",
       "      el.textContent = \"BokehJS is loading...\";\n",
       "    }\n",
       "    if (root.Bokeh !== undefined) {\n",
       "      if (el != null) {\n",
       "        el.textContent = \"BokehJS \" + root.Bokeh.version + \" successfully loaded.\";\n",
       "      }\n",
       "    } else if (Date.now() < root._bokeh_timeout) {\n",
       "      setTimeout(display_loaded, 100)\n",
       "    }\n",
       "  }\n",
       "\n",
       "\n",
       "  function run_callbacks() {\n",
       "    try {\n",
       "      root._bokeh_onload_callbacks.forEach(function(callback) {\n",
       "        if (callback != null)\n",
       "          callback();\n",
       "      });\n",
       "    } finally {\n",
       "      delete root._bokeh_onload_callbacks\n",
       "    }\n",
       "    console.debug(\"Bokeh: all callbacks have finished\");\n",
       "  }\n",
       "\n",
       "  function load_libs(css_urls, js_urls, callback) {\n",
       "    if (css_urls == null) css_urls = [];\n",
       "    if (js_urls == null) js_urls = [];\n",
       "\n",
       "    root._bokeh_onload_callbacks.push(callback);\n",
       "    if (root._bokeh_is_loading > 0) {\n",
       "      console.debug(\"Bokeh: BokehJS is being loaded, scheduling callback at\", now());\n",
       "      return null;\n",
       "    }\n",
       "    if (js_urls == null || js_urls.length === 0) {\n",
       "      run_callbacks();\n",
       "      return null;\n",
       "    }\n",
       "    console.debug(\"Bokeh: BokehJS not loaded, scheduling load and callback at\", now());\n",
       "    root._bokeh_is_loading = css_urls.length + js_urls.length;\n",
       "\n",
       "    function on_load() {\n",
       "      root._bokeh_is_loading--;\n",
       "      if (root._bokeh_is_loading === 0) {\n",
       "        console.debug(\"Bokeh: all BokehJS libraries/stylesheets loaded\");\n",
       "        run_callbacks()\n",
       "      }\n",
       "    }\n",
       "\n",
       "    function on_error() {\n",
       "      console.error(\"failed to load \" + url);\n",
       "    }\n",
       "\n",
       "    for (var i = 0; i < css_urls.length; i++) {\n",
       "      var url = css_urls[i];\n",
       "      const element = document.createElement(\"link\");\n",
       "      element.onload = on_load;\n",
       "      element.onerror = on_error;\n",
       "      element.rel = \"stylesheet\";\n",
       "      element.type = \"text/css\";\n",
       "      element.href = url;\n",
       "      console.debug(\"Bokeh: injecting link tag for BokehJS stylesheet: \", url);\n",
       "      document.body.appendChild(element);\n",
       "    }\n",
       "\n",
       "    for (var i = 0; i < js_urls.length; i++) {\n",
       "      var url = js_urls[i];\n",
       "      var element = document.createElement('script');\n",
       "      element.onload = on_load;\n",
       "      element.onerror = on_error;\n",
       "      element.async = false;\n",
       "      element.src = url;\n",
       "      console.debug(\"Bokeh: injecting script tag for BokehJS library: \", url);\n",
       "      document.head.appendChild(element);\n",
       "    }\n",
       "  };var element = document.getElementById(\"1001\");\n",
       "  if (element == null) {\n",
       "    console.error(\"Bokeh: ERROR: autoload.js configured with elementid '1001' but no matching script tag was found. \")\n",
       "    return false;\n",
       "  }\n",
       "\n",
       "  function inject_raw_css(css) {\n",
       "    const element = document.createElement(\"style\");\n",
       "    element.appendChild(document.createTextNode(css));\n",
       "    document.body.appendChild(element);\n",
       "  }\n",
       "\n",
       "  var js_urls = [\"https://cdn.pydata.org/bokeh/release/bokeh-1.2.0.min.js\", \"https://cdn.pydata.org/bokeh/release/bokeh-widgets-1.2.0.min.js\", \"https://cdn.pydata.org/bokeh/release/bokeh-tables-1.2.0.min.js\", \"https://cdn.pydata.org/bokeh/release/bokeh-gl-1.2.0.min.js\"];\n",
       "  var css_urls = [\"https://cdn.pydata.org/bokeh/release/bokeh-1.2.0.min.css\", \"https://cdn.pydata.org/bokeh/release/bokeh-widgets-1.2.0.min.css\", \"https://cdn.pydata.org/bokeh/release/bokeh-tables-1.2.0.min.css\"];\n",
       "\n",
       "  var inline_js = [\n",
       "    function(Bokeh) {\n",
       "      Bokeh.set_log_level(\"info\");\n",
       "    },\n",
       "    \n",
       "    function(Bokeh) {\n",
       "      \n",
       "    },\n",
       "    function(Bokeh) {} // ensure no trailing comma for IE\n",
       "  ];\n",
       "\n",
       "  function run_inline_js() {\n",
       "    \n",
       "    if ((root.Bokeh !== undefined) || (force === true)) {\n",
       "      for (var i = 0; i < inline_js.length; i++) {\n",
       "        inline_js[i].call(root, root.Bokeh);\n",
       "      }if (force === true) {\n",
       "        display_loaded();\n",
       "      }} else if (Date.now() < root._bokeh_timeout) {\n",
       "      setTimeout(run_inline_js, 100);\n",
       "    } else if (!root._bokeh_failed_load) {\n",
       "      console.log(\"Bokeh: BokehJS failed to load within specified timeout.\");\n",
       "      root._bokeh_failed_load = true;\n",
       "    } else if (force !== true) {\n",
       "      var cell = $(document.getElementById(\"1001\")).parents('.cell').data().cell;\n",
       "      cell.output_area.append_execute_result(NB_LOAD_WARNING)\n",
       "    }\n",
       "\n",
       "  }\n",
       "\n",
       "  if (root._bokeh_is_loading === 0) {\n",
       "    console.debug(\"Bokeh: BokehJS loaded, going straight to plotting\");\n",
       "    run_inline_js();\n",
       "  } else {\n",
       "    load_libs(css_urls, js_urls, function() {\n",
       "      console.debug(\"Bokeh: BokehJS plotting callback run at\", now());\n",
       "      run_inline_js();\n",
       "    });\n",
       "  }\n",
       "}(window));"
      ],
      "application/vnd.bokehjs_load.v0+json": "\n(function(root) {\n  function now() {\n    return new Date();\n  }\n\n  var force = true;\n\n  if (typeof root._bokeh_onload_callbacks === \"undefined\" || force === true) {\n    root._bokeh_onload_callbacks = [];\n    root._bokeh_is_loading = undefined;\n  }\n\n  \n\n  \n  if (typeof (root._bokeh_timeout) === \"undefined\" || force === true) {\n    root._bokeh_timeout = Date.now() + 5000;\n    root._bokeh_failed_load = false;\n  }\n\n  var NB_LOAD_WARNING = {'data': {'text/html':\n     \"<div style='background-color: #fdd'>\\n\"+\n     \"<p>\\n\"+\n     \"BokehJS does not appear to have successfully loaded. If loading BokehJS from CDN, this \\n\"+\n     \"may be due to a slow or bad network connection. Possible fixes:\\n\"+\n     \"</p>\\n\"+\n     \"<ul>\\n\"+\n     \"<li>re-rerun `output_notebook()` to attempt to load from CDN again, or</li>\\n\"+\n     \"<li>use INLINE resources instead, as so:</li>\\n\"+\n     \"</ul>\\n\"+\n     \"<code>\\n\"+\n     \"from bokeh.resources import INLINE\\n\"+\n     \"output_notebook(resources=INLINE)\\n\"+\n     \"</code>\\n\"+\n     \"</div>\"}};\n\n  function display_loaded() {\n    var el = document.getElementById(\"1001\");\n    if (el != null) {\n      el.textContent = \"BokehJS is loading...\";\n    }\n    if (root.Bokeh !== undefined) {\n      if (el != null) {\n        el.textContent = \"BokehJS \" + root.Bokeh.version + \" successfully loaded.\";\n      }\n    } else if (Date.now() < root._bokeh_timeout) {\n      setTimeout(display_loaded, 100)\n    }\n  }\n\n\n  function run_callbacks() {\n    try {\n      root._bokeh_onload_callbacks.forEach(function(callback) {\n        if (callback != null)\n          callback();\n      });\n    } finally {\n      delete root._bokeh_onload_callbacks\n    }\n    console.debug(\"Bokeh: all callbacks have finished\");\n  }\n\n  function load_libs(css_urls, js_urls, callback) {\n    if (css_urls == null) css_urls = [];\n    if (js_urls == null) js_urls = [];\n\n    root._bokeh_onload_callbacks.push(callback);\n    if (root._bokeh_is_loading > 0) {\n      console.debug(\"Bokeh: BokehJS is being loaded, scheduling callback at\", now());\n      return null;\n    }\n    if (js_urls == null || js_urls.length === 0) {\n      run_callbacks();\n      return null;\n    }\n    console.debug(\"Bokeh: BokehJS not loaded, scheduling load and callback at\", now());\n    root._bokeh_is_loading = css_urls.length + js_urls.length;\n\n    function on_load() {\n      root._bokeh_is_loading--;\n      if (root._bokeh_is_loading === 0) {\n        console.debug(\"Bokeh: all BokehJS libraries/stylesheets loaded\");\n        run_callbacks()\n      }\n    }\n\n    function on_error() {\n      console.error(\"failed to load \" + url);\n    }\n\n    for (var i = 0; i < css_urls.length; i++) {\n      var url = css_urls[i];\n      const element = document.createElement(\"link\");\n      element.onload = on_load;\n      element.onerror = on_error;\n      element.rel = \"stylesheet\";\n      element.type = \"text/css\";\n      element.href = url;\n      console.debug(\"Bokeh: injecting link tag for BokehJS stylesheet: \", url);\n      document.body.appendChild(element);\n    }\n\n    for (var i = 0; i < js_urls.length; i++) {\n      var url = js_urls[i];\n      var element = document.createElement('script');\n      element.onload = on_load;\n      element.onerror = on_error;\n      element.async = false;\n      element.src = url;\n      console.debug(\"Bokeh: injecting script tag for BokehJS library: \", url);\n      document.head.appendChild(element);\n    }\n  };var element = document.getElementById(\"1001\");\n  if (element == null) {\n    console.error(\"Bokeh: ERROR: autoload.js configured with elementid '1001' but no matching script tag was found. \")\n    return false;\n  }\n\n  function inject_raw_css(css) {\n    const element = document.createElement(\"style\");\n    element.appendChild(document.createTextNode(css));\n    document.body.appendChild(element);\n  }\n\n  var js_urls = [\"https://cdn.pydata.org/bokeh/release/bokeh-1.2.0.min.js\", \"https://cdn.pydata.org/bokeh/release/bokeh-widgets-1.2.0.min.js\", \"https://cdn.pydata.org/bokeh/release/bokeh-tables-1.2.0.min.js\", \"https://cdn.pydata.org/bokeh/release/bokeh-gl-1.2.0.min.js\"];\n  var css_urls = [\"https://cdn.pydata.org/bokeh/release/bokeh-1.2.0.min.css\", \"https://cdn.pydata.org/bokeh/release/bokeh-widgets-1.2.0.min.css\", \"https://cdn.pydata.org/bokeh/release/bokeh-tables-1.2.0.min.css\"];\n\n  var inline_js = [\n    function(Bokeh) {\n      Bokeh.set_log_level(\"info\");\n    },\n    \n    function(Bokeh) {\n      \n    },\n    function(Bokeh) {} // ensure no trailing comma for IE\n  ];\n\n  function run_inline_js() {\n    \n    if ((root.Bokeh !== undefined) || (force === true)) {\n      for (var i = 0; i < inline_js.length; i++) {\n        inline_js[i].call(root, root.Bokeh);\n      }if (force === true) {\n        display_loaded();\n      }} else if (Date.now() < root._bokeh_timeout) {\n      setTimeout(run_inline_js, 100);\n    } else if (!root._bokeh_failed_load) {\n      console.log(\"Bokeh: BokehJS failed to load within specified timeout.\");\n      root._bokeh_failed_load = true;\n    } else if (force !== true) {\n      var cell = $(document.getElementById(\"1001\")).parents('.cell').data().cell;\n      cell.output_area.append_execute_result(NB_LOAD_WARNING)\n    }\n\n  }\n\n  if (root._bokeh_is_loading === 0) {\n    console.debug(\"Bokeh: BokehJS loaded, going straight to plotting\");\n    run_inline_js();\n  } else {\n    load_libs(css_urls, js_urls, function() {\n      console.debug(\"Bokeh: BokehJS plotting callback run at\", now());\n      run_inline_js();\n    });\n  }\n}(window));"
     },
     "metadata": {},
     "output_type": "display_data"
    },
    {
     "data": {
      "text/html": [
       "\n",
       "\n",
       "\n",
       "\n",
       "\n",
       "\n",
       "  <div class=\"bk-root\" id=\"305d0cfd-6109-40fb-a75c-cdf6973d8469\" data-root-id=\"1002\"></div>\n"
      ]
     },
     "metadata": {},
     "output_type": "display_data"
    },
    {
     "data": {
      "application/javascript": [
       "(function(root) {\n",
       "  function embed_document(root) {\n",
       "    \n",
       "  var docs_json = {\"61109aab-3dd8-4d5f-953c-63c8ca757282\":{\"roots\":{\"references\":[{\"attributes\":{\"below\":[{\"id\":\"1013\",\"type\":\"LinearAxis\"}],\"center\":[{\"id\":\"1017\",\"type\":\"Grid\"},{\"id\":\"1022\",\"type\":\"Grid\"},{\"id\":\"1047\",\"type\":\"Legend\"}],\"left\":[{\"id\":\"1018\",\"type\":\"LinearAxis\"}],\"renderers\":[{\"id\":\"1039\",\"type\":\"GlyphRenderer\"}],\"title\":{\"id\":\"1003\",\"type\":\"Title\"},\"toolbar\":{\"id\":\"1029\",\"type\":\"Toolbar\"},\"x_range\":{\"id\":\"1005\",\"type\":\"DataRange1d\"},\"x_scale\":{\"id\":\"1009\",\"type\":\"LinearScale\"},\"y_range\":{\"id\":\"1007\",\"type\":\"DataRange1d\"},\"y_scale\":{\"id\":\"1011\",\"type\":\"LinearScale\"}},\"id\":\"1002\",\"subtype\":\"Figure\",\"type\":\"Plot\"},{\"attributes\":{\"active_drag\":\"auto\",\"active_inspect\":\"auto\",\"active_multi\":null,\"active_scroll\":\"auto\",\"active_tap\":\"auto\",\"tools\":[{\"id\":\"1023\",\"type\":\"PanTool\"},{\"id\":\"1024\",\"type\":\"WheelZoomTool\"},{\"id\":\"1025\",\"type\":\"BoxZoomTool\"},{\"id\":\"1026\",\"type\":\"SaveTool\"},{\"id\":\"1027\",\"type\":\"ResetTool\"},{\"id\":\"1028\",\"type\":\"HelpTool\"}]},\"id\":\"1029\",\"type\":\"Toolbar\"},{\"attributes\":{\"data_source\":{\"id\":\"1036\",\"type\":\"ColumnDataSource\"},\"glyph\":{\"id\":\"1037\",\"type\":\"Line\"},\"hover_glyph\":null,\"muted_glyph\":null,\"nonselection_glyph\":{\"id\":\"1038\",\"type\":\"Line\"},\"selection_glyph\":null,\"view\":{\"id\":\"1040\",\"type\":\"CDSView\"}},\"id\":\"1039\",\"type\":\"GlyphRenderer\"},{\"attributes\":{\"source\":{\"id\":\"1036\",\"type\":\"ColumnDataSource\"}},\"id\":\"1040\",\"type\":\"CDSView\"},{\"attributes\":{\"callback\":null,\"data\":{\"x\":{\"__ndarray__\":\"AAAAAACAVsDzUiJ4pD9WwOalRPBI/1XA2fhmaO2+VcDMS4ngkX5VwMCeq1g2PlXAs/HN0Nr9VMCmRPBIf71UwJmXEsEjfVTAjOo0Ocg8VMB/PVexbPxTwHKQeSkRvFPAZuObobV7U8BZNr4ZWjtTwEyJ4JH++lLAP9wCCqO6UsAyLyWCR3pSwCWCR/rrOVLAGNVpcpD5UcAMKIzqNLlRwP56rmLZeFHA8s3Q2n04UcDlIPNSIvhQwNhzFcvGt1DAy8Y3Q2t3UMC+GVq7DzdQwGLZ+GZo7U/ASX89V7FsT8AvJYJH+utOwBXLxjdDa07A/HALKIzqTcDiFlAY1WlNwMi8lAge6UzArmLZ+GZoTMCUCB7pr+dLwHuuYtn4ZkvAYVSnyUHmSsBH+uu5imVKwC6gMKrT5EnAFEZ1mhxkScD667mKZeNIwOCR/nquYkjAxjdDa/fhR8Ct3YdbQGFHwJODzEuJ4EbAeSkRPNJfRsBgz1UsG99FwEZ1mhxkXkXALBvfDK3dRMASwSP99VxEwPhmaO0+3EPA3wyt3YdbQ8DFsvHN0NpCwKtYNr4ZWkLAkv56rmLZQcB4pL+eq1hBwF5KBI/010DARPBIfz1XQMBULBvfDK0/wCJ4pL+eqz7A7sMtoDCqPcC6D7eAwqg8wIhbQGFUpzvAVKfJQealOsAg81IieKQ5wOw+3AIKozjAuIpl45uhN8CE1u7DLaA2wFAieKS/njXAIG4BhVGdNMDsuYpl45szwLgFFEZ1mjLAhFGdJgeZMcBQnSYHmZcwwDjSX89VLC/A0GlykHkpLcBwAYVRnSYrwAiZlxLBIynAoDCq0+QgJ8A4yLyUCB4lwNBfz1UsGyPAaPfhFlAYIcAAHumv5yoewDBNDjIvJRrAYHwztHYfFsCgq1g2vhkSwKC1+3ALKAzAABRGdZocBMDA5CDzUiL4vwBDa/fhFuC/gENr9+EW4D8A5SDzUiL4PwAURnWaHARAoLX7cAsoDECgq1g2vhkSQHB8M7R2HxZAQE0OMi8lGkAQHumv5yoeQHD34RZQGCFA2F/PVSwbI0BAyLyUCB4lQKAwqtPkICdACJmXEsEjKUBwAYVRnSYrQNhpcpB5KS1AQNJfz1UsL0BUnSYHmZcwQIhRnSYHmTFAuAUURnWaMkDsuYpl45szQCBuAYVRnTRAVCJ4pL+eNUCI1u7DLaA2QLyKZeOboTdA8D7cAgqjOEAk81IieKQ5QFinyUHmpTpAiFtAYVSnO0C8D7eAwqg8QPDDLaAwqj1AJHikv56rPkBYLBvfDK0/QEbwSH89V0BAYEoEj/TXQEB4pL+eq1hBQJL+eq5i2UFArFg2vhlaQkDGsvHN0NpCQOAMrd2HW0NA+GZo7T7cQ0AUwSP99VxEQCwb3wyt3URASHWaHGReRUBgz1UsG99FQHwpETzSX0ZAlIPMS4ngRkCw3YdbQGFHQMg3Q2v34UdA4JH+eq5iSED867mKZeNIQBRGdZocZElAMKAwqtPkSUBI+uu5imVKQGRUp8lB5kpAfK5i2fhmS0CUCB7pr+dLQLBi2fhmaExAyLyUCB7pTEDkFlAY1WlNQPxwCyiM6k1AGMvGN0NrTkAwJYJH+utOQEh/PVexbE9AZNn4ZmjtT0C+GVq7DzdQQMzGN0Nrd1BA2HMVy8a3UEDmIPNSIvhQQPLN0Np9OFFAAHuuYtl4UUAMKIzqNLlRQBjVaXKQ+VFAJoJH+us5UkAyLyWCR3pSQEDcAgqjulJATIngkf76UkBaNr4ZWjtTQGbjm6G1e1NAdJB5KRG8U0CAPVexbPxTQIzqNDnIPFRAmpcSwSN9VECmRPBIf71UQLTxzdDa/VRAwJ6rWDY+VUDOS4ngkX5VQNr4ZmjtvlVA5qVE8Ej/VUD0UiJ4pD9WQAAAAAAAgFZA\",\"dtype\":\"float64\",\"shape\":[180]},\"y\":{\"__ndarray__\":\"yqTsR6kdI7/IbdBW6BwjvxWespKlGiO/ioI2KeEWI79GRmhmmxEjv4DztrTUCiO/CQ/snI0CI78EzyDGxvgiv73tsPWA7SK/txkrD73gIr8IBD8UfNIiv44OqSS/wiK/jpsbfoexIr94ACZ81p4iv+EdGZitiiK/yp7paA51Ir+W4Q+j+l0ivzeNZRh0RSK/QNUAuHwrIr/Obw2OFhAiv09Ao8ND8yG/erqangbVIb/QAF+BYbUhv2PCvepWlCG/ktu0delxIb/DvT3ZG04hv0OiFujwKCG/iYyJkGsCIb98IDHcjtogv0ZRu+9dsSC/n+2pCtyGIL+EDhGHDFsgv5RtU9nyLSC/olC5HyX/H7/R67Kl3p8fvwaq28cZPh+/HW/SO97ZHr/hZPHoM3Mev3xuruciCh6/m7z3gLOeHb8pj4wt7jAdv7QxUpXbwBy/HkCljoROHL9XQacd8tkbvwimiHMtYxu/1znP7T/qGr+hFZkVM28av7Eh3J4Q8hm/FzeiZ+JyGb+s70F3svEYvz80lP2Kbhi/LZkmUnbpF79RmWrzfmIXv/W/4YWv2Ra/b9JG0xJPFr89CrTJs8IVv/pwxnqdNBW/a2++GtukFL9eoZ3/dxMUvxYAQqB/gBO/bHV+k/3rEr/W6TCP/VUSv7rfVWeLvhG/zq4ZDbMlEb9BcueNgIsQv3h56yQA4A+/xEqiu3umDr9egsmYjGoNv3c4AaZLLAy/H428+9HrCr+fEEffOKkJv7iixsCZZAi/q/A5OQ4eB7+5unMIsNUFv+kJExOZiwS/6354YOM/A79f47gYqfIBv98mjYIEpAC/ZeN/AiCo/r4l7TElzAX8vqJbjJlCYfm+8EeGuLi69r5EDH0DZBL0vkUt/B96aPG+rtEEp2F67b4+gIj+eyHovrCj2DevxuK+L25n1c7U2r5+2naZIRrQvnV/Yke9eLW+IIBiR714tT6p2naZIRrQPi9uZ9XO1No+sKPYN6/G4j4+gIj+eyHoPsTRBKdheu0+UC38H3po8T5PDH0DZBL0PvpHhri4uvY+rVuMmUJh+T4v7TElzAX8PmXjfwIgqP4+3yaNggSkAD9f47gYqfIBP/F+eGDjPwM/7wkTE5mLBD+8unMIsNUFP6/wOTkOHgc/uKLGwJlkCD+fEEffOKkJPx+NvPvR6wo/fDgBpkssDD9jgsmYjGoNP8pKort7pg4/fnnrJADgDz9DcueNgIsQP9CuGQ2zJRE/ut9VZ4u+ET/X6TCP/VUSP251fpP96xI/GABCoH+AEz9goZ3/dxMUP21vvhrbpBQ//HDGep00FT89CrTJs8IVP2/SRtMSTxY/97/hha/ZFj9SmWrzfmIXPy+ZJlJ26Rc/PzSU/YpuGD+t70F3svEYPxc3omfichk/siHcnhDyGT+hFZkVM28aP9o5z+0/6ho/CKaIcy1jGz9aQacd8tkbPyFApY6EThw/tDFSldvAHD8qj4wt7jAdP5u894Cznh0/fW6u5yIKHj/iZPHoM3MePyBv0jve2R4/B6rbxxk+Hz/R67Kl3p8fP6RQuR8l/x8/lG1T2fItID+GDhGHDFsgP5/tqQrchiA/R1G7712xID99IDHcjtogP4mMiZBrAiE/Q6IW6PAoIT/DvT3ZG04hP5LbtHXpcSE/Y8K96laUIT/RAF+BYbUhP3q6mp4G1SE/UECjw0PzIT/Obw2OFhAiP0DVALh8KyI/N41lGHRFIj+W4Q+j+l0iP8qe6WgOdSI/4R0ZmK2KIj95ACZ81p4iP46bG36HsSI/jw6pJL/CIj8IBD8UfNIiP7cZKw+94CI/vu2w9YDtIj8EzyDGxvgiPwoP7JyNAiM/gPO2tNQKIz9GRmhmmxEjP4qCNinhFiM/FZ6ykqUaIz/IbdBW6BwjP8qk7EepHSM/\",\"dtype\":\"float64\",\"shape\":[180]}},\"selected\":{\"id\":\"1055\",\"type\":\"Selection\"},\"selection_policy\":{\"id\":\"1056\",\"type\":\"UnionRenderers\"}},\"id\":\"1036\",\"type\":\"ColumnDataSource\"},{\"attributes\":{\"axis_label\":\"f [1/s]\",\"axis_label_text_font_size\":{\"value\":\"16pt\"},\"formatter\":{\"id\":\"1044\",\"type\":\"BasicTickFormatter\"},\"major_label_text_font_size\":{\"value\":\"16pt\"},\"ticker\":{\"id\":\"1019\",\"type\":\"BasicTicker\"}},\"id\":\"1018\",\"type\":\"LinearAxis\"},{\"attributes\":{\"ticker\":{\"id\":\"1014\",\"type\":\"BasicTicker\"}},\"id\":\"1017\",\"type\":\"Grid\"},{\"attributes\":{},\"id\":\"1042\",\"type\":\"BasicTickFormatter\"},{\"attributes\":{},\"id\":\"1044\",\"type\":\"BasicTickFormatter\"},{\"attributes\":{\"bottom_units\":\"screen\",\"fill_alpha\":{\"value\":0.5},\"fill_color\":{\"value\":\"lightgrey\"},\"left_units\":\"screen\",\"level\":\"overlay\",\"line_alpha\":{\"value\":1.0},\"line_color\":{\"value\":\"black\"},\"line_dash\":[4,4],\"line_width\":{\"value\":2},\"render_mode\":\"css\",\"right_units\":\"screen\",\"top_units\":\"screen\"},\"id\":\"1046\",\"type\":\"BoxAnnotation\"},{\"attributes\":{\"items\":[{\"id\":\"1048\",\"type\":\"LegendItem\"}],\"location\":\"bottom_left\"},\"id\":\"1047\",\"type\":\"Legend\"},{\"attributes\":{},\"id\":\"1019\",\"type\":\"BasicTicker\"},{\"attributes\":{\"callback\":null},\"id\":\"1007\",\"type\":\"DataRange1d\"},{\"attributes\":{\"label\":{\"value\":\"f(phi)\"},\"renderers\":[{\"id\":\"1039\",\"type\":\"GlyphRenderer\"}]},\"id\":\"1048\",\"type\":\"LegendItem\"},{\"attributes\":{},\"id\":\"1009\",\"type\":\"LinearScale\"},{\"attributes\":{\"dimension\":1,\"ticker\":{\"id\":\"1019\",\"type\":\"BasicTicker\"}},\"id\":\"1022\",\"type\":\"Grid\"},{\"attributes\":{\"callback\":null},\"id\":\"1005\",\"type\":\"DataRange1d\"},{\"attributes\":{},\"id\":\"1014\",\"type\":\"BasicTicker\"},{\"attributes\":{\"axis_label\":\"Latitude [deg]\",\"axis_label_text_font_size\":{\"value\":\"16pt\"},\"formatter\":{\"id\":\"1042\",\"type\":\"BasicTickFormatter\"},\"major_label_text_font_size\":{\"value\":\"16pt\"},\"ticker\":{\"id\":\"1014\",\"type\":\"BasicTicker\"}},\"id\":\"1013\",\"type\":\"LinearAxis\"},{\"attributes\":{},\"id\":\"1055\",\"type\":\"Selection\"},{\"attributes\":{\"line_alpha\":0.1,\"line_color\":\"#1f77b4\",\"line_width\":2,\"x\":{\"field\":\"x\"},\"y\":{\"field\":\"y\"}},\"id\":\"1038\",\"type\":\"Line\"},{\"attributes\":{\"line_color\":\"#1f77b4\",\"line_width\":2,\"x\":{\"field\":\"x\"},\"y\":{\"field\":\"y\"}},\"id\":\"1037\",\"type\":\"Line\"},{\"attributes\":{},\"id\":\"1056\",\"type\":\"UnionRenderers\"},{\"attributes\":{},\"id\":\"1023\",\"type\":\"PanTool\"},{\"attributes\":{},\"id\":\"1011\",\"type\":\"LinearScale\"},{\"attributes\":{\"text\":\"Coriolis Parameter\"},\"id\":\"1003\",\"type\":\"Title\"},{\"attributes\":{},\"id\":\"1024\",\"type\":\"WheelZoomTool\"},{\"attributes\":{\"overlay\":{\"id\":\"1046\",\"type\":\"BoxAnnotation\"}},\"id\":\"1025\",\"type\":\"BoxZoomTool\"},{\"attributes\":{},\"id\":\"1026\",\"type\":\"SaveTool\"},{\"attributes\":{},\"id\":\"1027\",\"type\":\"ResetTool\"},{\"attributes\":{},\"id\":\"1028\",\"type\":\"HelpTool\"}],\"root_ids\":[\"1002\"]},\"title\":\"Bokeh Application\",\"version\":\"1.2.0\"}};\n",
       "  var render_items = [{\"docid\":\"61109aab-3dd8-4d5f-953c-63c8ca757282\",\"roots\":{\"1002\":\"305d0cfd-6109-40fb-a75c-cdf6973d8469\"}}];\n",
       "  root.Bokeh.embed.embed_items_notebook(docs_json, render_items);\n",
       "\n",
       "  }\n",
       "  if (root.Bokeh !== undefined) {\n",
       "    embed_document(root);\n",
       "  } else {\n",
       "    var attempts = 0;\n",
       "    var timer = setInterval(function(root) {\n",
       "      if (root.Bokeh !== undefined) {\n",
       "        embed_document(root);\n",
       "        clearInterval(timer);\n",
       "      }\n",
       "      attempts++;\n",
       "      if (attempts > 100) {\n",
       "        console.log(\"Bokeh: ERROR: Unable to run BokehJS code because BokehJS library is missing\");\n",
       "        clearInterval(timer);\n",
       "      }\n",
       "    }, 10, root)\n",
       "  }\n",
       "})(window);"
      ],
      "application/vnd.bokehjs_exec.v0+json": ""
     },
     "metadata": {
      "application/vnd.bokehjs_exec.v0+json": {
       "id": "1002"
      }
     },
     "output_type": "display_data"
    }
   ],
   "source": [
    "# Plot\n",
    "plotting.output_notebook()\n",
    "\n",
    "p = plotting.figure(title='Coriolis Parameter', x_axis_label='Latitude [deg]',\n",
    "                   y_axis_label='f [1/s]')\n",
    "\n",
    "p.line(phis, f, legend='f(phi)', line_width=2)\n",
    "p.legend.location = \"bottom_left\"\n",
    "\n",
    "set_fontsize(p, 16)\n",
    "\n",
    "plotting.show(p)"
   ]
  },
  {
   "cell_type": "markdown",
   "metadata": {},
   "source": [
    "### It is a maximum at +90 deg (90N) and a minimum at -90deg (90S).\n",
    "\n",
    "### It is zero at 0 deg."
   ]
  },
  {
   "cell_type": "markdown",
   "metadata": {},
   "source": [
    "## b) Meridional derivative\n",
    "\n",
    "### $\\beta = \\partial f / \\partial y = \\frac{1}{R} \\frac{\\partial f}{\\partial \\phi}$\n",
    "\n",
    "### $\\beta = \\frac{2 \\Omega}{R}  \\, \\cos\\phi$"
   ]
  },
  {
   "cell_type": "code",
   "execution_count": 6,
   "metadata": {},
   "outputs": [
    {
     "data": {
      "text/latex": [
       "$[1.4001467 \\times 10^{-24},~4.0129822 \\times 10^{-10},~8.0247283 \\times 10^{-10},~\\dots,~8.0247283 \\times 10^{-10},~4.0129822 \\times 10^{-10},~1.4001467 \\times 10^{-24}] \\; \\mathrm{\\frac{1}{km\\,s}}$"
      ],
      "text/plain": [
       "<Quantity [1.40014671e-24, 4.01298220e-10, 8.02472831e-10, 1.20340026e-09,\n",
       "           1.60395702e-09, 2.00401972e-09, 2.40346514e-09, 2.80217024e-09,\n",
       "           3.20001220e-09, 3.59686849e-09, 3.99261686e-09, 4.38713542e-09,\n",
       "           4.78030264e-09, 5.17199742e-09, 5.56209911e-09, 5.95048754e-09,\n",
       "           6.33704309e-09, 6.72164669e-09, 7.10417987e-09, 7.48452480e-09,\n",
       "           7.86256433e-09, 8.23818201e-09, 8.61126215e-09, 8.98168982e-09,\n",
       "           9.34935093e-09, 9.71413223e-09, 1.00759214e-08, 1.04346069e-08,\n",
       "           1.07900783e-08, 1.11422261e-08, 1.14909419e-08, 1.18361182e-08,\n",
       "           1.21776487e-08, 1.25154283e-08, 1.28493527e-08, 1.31793193e-08,\n",
       "           1.35052264e-08, 1.38269736e-08, 1.41444617e-08, 1.44575930e-08,\n",
       "           1.47662711e-08, 1.50704008e-08, 1.53698885e-08, 1.56646419e-08,\n",
       "           1.59545703e-08, 1.62395843e-08, 1.65195961e-08, 1.67945195e-08,\n",
       "           1.70642698e-08, 1.73287640e-08, 1.75879205e-08, 1.78416595e-08,\n",
       "           1.80899029e-08, 1.83325742e-08, 1.85695986e-08, 1.88009032e-08,\n",
       "           1.90264167e-08, 1.92460696e-08, 1.94597943e-08, 1.96675250e-08,\n",
       "           1.98691976e-08, 2.00647500e-08, 2.02541221e-08, 2.04372554e-08,\n",
       "           2.06140935e-08, 2.07845821e-08, 2.09486686e-08, 2.11063024e-08,\n",
       "           2.12574349e-08, 2.14020197e-08, 2.15400122e-08, 2.16713699e-08,\n",
       "           2.17960524e-08, 2.19140211e-08, 2.20252398e-08, 2.21296743e-08,\n",
       "           2.22272923e-08, 2.23180638e-08, 2.24019609e-08, 2.24789576e-08,\n",
       "           2.25490303e-08, 2.26121574e-08, 2.26683194e-08, 2.27174991e-08,\n",
       "           2.27596813e-08, 2.27948530e-08, 2.28230034e-08, 2.28441237e-08,\n",
       "           2.28582076e-08, 2.28652506e-08, 2.28652506e-08, 2.28582076e-08,\n",
       "           2.28441237e-08, 2.28230034e-08, 2.27948530e-08, 2.27596813e-08,\n",
       "           2.27174991e-08, 2.26683194e-08, 2.26121574e-08, 2.25490303e-08,\n",
       "           2.24789576e-08, 2.24019609e-08, 2.23180638e-08, 2.22272923e-08,\n",
       "           2.21296743e-08, 2.20252398e-08, 2.19140211e-08, 2.17960524e-08,\n",
       "           2.16713699e-08, 2.15400122e-08, 2.14020197e-08, 2.12574349e-08,\n",
       "           2.11063024e-08, 2.09486686e-08, 2.07845821e-08, 2.06140935e-08,\n",
       "           2.04372554e-08, 2.02541221e-08, 2.00647500e-08, 1.98691976e-08,\n",
       "           1.96675250e-08, 1.94597943e-08, 1.92460696e-08, 1.90264167e-08,\n",
       "           1.88009032e-08, 1.85695986e-08, 1.83325742e-08, 1.80899029e-08,\n",
       "           1.78416595e-08, 1.75879205e-08, 1.73287640e-08, 1.70642698e-08,\n",
       "           1.67945195e-08, 1.65195961e-08, 1.62395843e-08, 1.59545703e-08,\n",
       "           1.56646419e-08, 1.53698885e-08, 1.50704008e-08, 1.47662711e-08,\n",
       "           1.44575930e-08, 1.41444617e-08, 1.38269736e-08, 1.35052264e-08,\n",
       "           1.31793193e-08, 1.28493527e-08, 1.25154283e-08, 1.21776487e-08,\n",
       "           1.18361182e-08, 1.14909419e-08, 1.11422261e-08, 1.07900783e-08,\n",
       "           1.04346069e-08, 1.00759214e-08, 9.71413223e-09, 9.34935093e-09,\n",
       "           8.98168982e-09, 8.61126215e-09, 8.23818201e-09, 7.86256433e-09,\n",
       "           7.48452480e-09, 7.10417987e-09, 6.72164669e-09, 6.33704309e-09,\n",
       "           5.95048754e-09, 5.56209911e-09, 5.17199742e-09, 4.78030264e-09,\n",
       "           4.38713542e-09, 3.99261686e-09, 3.59686849e-09, 3.20001220e-09,\n",
       "           2.80217024e-09, 2.40346514e-09, 2.00401972e-09, 1.60395702e-09,\n",
       "           1.20340026e-09, 8.02472831e-10, 4.01298220e-10, 1.40014671e-24] 1 / (km s)>"
      ]
     },
     "execution_count": 6,
     "metadata": {},
     "output_type": "execute_result"
    }
   ],
   "source": [
    "beta = ofc.meridional_derivative(phis)\n",
    "beta"
   ]
  },
  {
   "cell_type": "code",
   "execution_count": 7,
   "metadata": {},
   "outputs": [
    {
     "data": {
      "text/html": [
       "\n",
       "    <div class=\"bk-root\">\n",
       "        <a href=\"https://bokeh.pydata.org\" target=\"_blank\" class=\"bk-logo bk-logo-small bk-logo-notebook\"></a>\n",
       "        <span id=\"1105\">Loading BokehJS ...</span>\n",
       "    </div>"
      ]
     },
     "metadata": {},
     "output_type": "display_data"
    },
    {
     "data": {
      "application/javascript": [
       "\n",
       "(function(root) {\n",
       "  function now() {\n",
       "    return new Date();\n",
       "  }\n",
       "\n",
       "  var force = true;\n",
       "\n",
       "  if (typeof root._bokeh_onload_callbacks === \"undefined\" || force === true) {\n",
       "    root._bokeh_onload_callbacks = [];\n",
       "    root._bokeh_is_loading = undefined;\n",
       "  }\n",
       "\n",
       "  var JS_MIME_TYPE = 'application/javascript';\n",
       "  var HTML_MIME_TYPE = 'text/html';\n",
       "  var EXEC_MIME_TYPE = 'application/vnd.bokehjs_exec.v0+json';\n",
       "  var CLASS_NAME = 'output_bokeh rendered_html';\n",
       "\n",
       "  /**\n",
       "   * Render data to the DOM node\n",
       "   */\n",
       "  function render(props, node) {\n",
       "    var script = document.createElement(\"script\");\n",
       "    node.appendChild(script);\n",
       "  }\n",
       "\n",
       "  /**\n",
       "   * Handle when an output is cleared or removed\n",
       "   */\n",
       "  function handleClearOutput(event, handle) {\n",
       "    var cell = handle.cell;\n",
       "\n",
       "    var id = cell.output_area._bokeh_element_id;\n",
       "    var server_id = cell.output_area._bokeh_server_id;\n",
       "    // Clean up Bokeh references\n",
       "    if (id != null && id in Bokeh.index) {\n",
       "      Bokeh.index[id].model.document.clear();\n",
       "      delete Bokeh.index[id];\n",
       "    }\n",
       "\n",
       "    if (server_id !== undefined) {\n",
       "      // Clean up Bokeh references\n",
       "      var cmd = \"from bokeh.io.state import curstate; print(curstate().uuid_to_server['\" + server_id + \"'].get_sessions()[0].document.roots[0]._id)\";\n",
       "      cell.notebook.kernel.execute(cmd, {\n",
       "        iopub: {\n",
       "          output: function(msg) {\n",
       "            var id = msg.content.text.trim();\n",
       "            if (id in Bokeh.index) {\n",
       "              Bokeh.index[id].model.document.clear();\n",
       "              delete Bokeh.index[id];\n",
       "            }\n",
       "          }\n",
       "        }\n",
       "      });\n",
       "      // Destroy server and session\n",
       "      var cmd = \"import bokeh.io.notebook as ion; ion.destroy_server('\" + server_id + \"')\";\n",
       "      cell.notebook.kernel.execute(cmd);\n",
       "    }\n",
       "  }\n",
       "\n",
       "  /**\n",
       "   * Handle when a new output is added\n",
       "   */\n",
       "  function handleAddOutput(event, handle) {\n",
       "    var output_area = handle.output_area;\n",
       "    var output = handle.output;\n",
       "\n",
       "    // limit handleAddOutput to display_data with EXEC_MIME_TYPE content only\n",
       "    if ((output.output_type != \"display_data\") || (!output.data.hasOwnProperty(EXEC_MIME_TYPE))) {\n",
       "      return\n",
       "    }\n",
       "\n",
       "    var toinsert = output_area.element.find(\".\" + CLASS_NAME.split(' ')[0]);\n",
       "\n",
       "    if (output.metadata[EXEC_MIME_TYPE][\"id\"] !== undefined) {\n",
       "      toinsert[toinsert.length - 1].firstChild.textContent = output.data[JS_MIME_TYPE];\n",
       "      // store reference to embed id on output_area\n",
       "      output_area._bokeh_element_id = output.metadata[EXEC_MIME_TYPE][\"id\"];\n",
       "    }\n",
       "    if (output.metadata[EXEC_MIME_TYPE][\"server_id\"] !== undefined) {\n",
       "      var bk_div = document.createElement(\"div\");\n",
       "      bk_div.innerHTML = output.data[HTML_MIME_TYPE];\n",
       "      var script_attrs = bk_div.children[0].attributes;\n",
       "      for (var i = 0; i < script_attrs.length; i++) {\n",
       "        toinsert[toinsert.length - 1].firstChild.setAttribute(script_attrs[i].name, script_attrs[i].value);\n",
       "      }\n",
       "      // store reference to server id on output_area\n",
       "      output_area._bokeh_server_id = output.metadata[EXEC_MIME_TYPE][\"server_id\"];\n",
       "    }\n",
       "  }\n",
       "\n",
       "  function register_renderer(events, OutputArea) {\n",
       "\n",
       "    function append_mime(data, metadata, element) {\n",
       "      // create a DOM node to render to\n",
       "      var toinsert = this.create_output_subarea(\n",
       "        metadata,\n",
       "        CLASS_NAME,\n",
       "        EXEC_MIME_TYPE\n",
       "      );\n",
       "      this.keyboard_manager.register_events(toinsert);\n",
       "      // Render to node\n",
       "      var props = {data: data, metadata: metadata[EXEC_MIME_TYPE]};\n",
       "      render(props, toinsert[toinsert.length - 1]);\n",
       "      element.append(toinsert);\n",
       "      return toinsert\n",
       "    }\n",
       "\n",
       "    /* Handle when an output is cleared or removed */\n",
       "    events.on('clear_output.CodeCell', handleClearOutput);\n",
       "    events.on('delete.Cell', handleClearOutput);\n",
       "\n",
       "    /* Handle when a new output is added */\n",
       "    events.on('output_added.OutputArea', handleAddOutput);\n",
       "\n",
       "    /**\n",
       "     * Register the mime type and append_mime function with output_area\n",
       "     */\n",
       "    OutputArea.prototype.register_mime_type(EXEC_MIME_TYPE, append_mime, {\n",
       "      /* Is output safe? */\n",
       "      safe: true,\n",
       "      /* Index of renderer in `output_area.display_order` */\n",
       "      index: 0\n",
       "    });\n",
       "  }\n",
       "\n",
       "  // register the mime type if in Jupyter Notebook environment and previously unregistered\n",
       "  if (root.Jupyter !== undefined) {\n",
       "    var events = require('base/js/events');\n",
       "    var OutputArea = require('notebook/js/outputarea').OutputArea;\n",
       "\n",
       "    if (OutputArea.prototype.mime_types().indexOf(EXEC_MIME_TYPE) == -1) {\n",
       "      register_renderer(events, OutputArea);\n",
       "    }\n",
       "  }\n",
       "\n",
       "  \n",
       "  if (typeof (root._bokeh_timeout) === \"undefined\" || force === true) {\n",
       "    root._bokeh_timeout = Date.now() + 5000;\n",
       "    root._bokeh_failed_load = false;\n",
       "  }\n",
       "\n",
       "  var NB_LOAD_WARNING = {'data': {'text/html':\n",
       "     \"<div style='background-color: #fdd'>\\n\"+\n",
       "     \"<p>\\n\"+\n",
       "     \"BokehJS does not appear to have successfully loaded. If loading BokehJS from CDN, this \\n\"+\n",
       "     \"may be due to a slow or bad network connection. Possible fixes:\\n\"+\n",
       "     \"</p>\\n\"+\n",
       "     \"<ul>\\n\"+\n",
       "     \"<li>re-rerun `output_notebook()` to attempt to load from CDN again, or</li>\\n\"+\n",
       "     \"<li>use INLINE resources instead, as so:</li>\\n\"+\n",
       "     \"</ul>\\n\"+\n",
       "     \"<code>\\n\"+\n",
       "     \"from bokeh.resources import INLINE\\n\"+\n",
       "     \"output_notebook(resources=INLINE)\\n\"+\n",
       "     \"</code>\\n\"+\n",
       "     \"</div>\"}};\n",
       "\n",
       "  function display_loaded() {\n",
       "    var el = document.getElementById(\"1105\");\n",
       "    if (el != null) {\n",
       "      el.textContent = \"BokehJS is loading...\";\n",
       "    }\n",
       "    if (root.Bokeh !== undefined) {\n",
       "      if (el != null) {\n",
       "        el.textContent = \"BokehJS \" + root.Bokeh.version + \" successfully loaded.\";\n",
       "      }\n",
       "    } else if (Date.now() < root._bokeh_timeout) {\n",
       "      setTimeout(display_loaded, 100)\n",
       "    }\n",
       "  }\n",
       "\n",
       "\n",
       "  function run_callbacks() {\n",
       "    try {\n",
       "      root._bokeh_onload_callbacks.forEach(function(callback) {\n",
       "        if (callback != null)\n",
       "          callback();\n",
       "      });\n",
       "    } finally {\n",
       "      delete root._bokeh_onload_callbacks\n",
       "    }\n",
       "    console.debug(\"Bokeh: all callbacks have finished\");\n",
       "  }\n",
       "\n",
       "  function load_libs(css_urls, js_urls, callback) {\n",
       "    if (css_urls == null) css_urls = [];\n",
       "    if (js_urls == null) js_urls = [];\n",
       "\n",
       "    root._bokeh_onload_callbacks.push(callback);\n",
       "    if (root._bokeh_is_loading > 0) {\n",
       "      console.debug(\"Bokeh: BokehJS is being loaded, scheduling callback at\", now());\n",
       "      return null;\n",
       "    }\n",
       "    if (js_urls == null || js_urls.length === 0) {\n",
       "      run_callbacks();\n",
       "      return null;\n",
       "    }\n",
       "    console.debug(\"Bokeh: BokehJS not loaded, scheduling load and callback at\", now());\n",
       "    root._bokeh_is_loading = css_urls.length + js_urls.length;\n",
       "\n",
       "    function on_load() {\n",
       "      root._bokeh_is_loading--;\n",
       "      if (root._bokeh_is_loading === 0) {\n",
       "        console.debug(\"Bokeh: all BokehJS libraries/stylesheets loaded\");\n",
       "        run_callbacks()\n",
       "      }\n",
       "    }\n",
       "\n",
       "    function on_error() {\n",
       "      console.error(\"failed to load \" + url);\n",
       "    }\n",
       "\n",
       "    for (var i = 0; i < css_urls.length; i++) {\n",
       "      var url = css_urls[i];\n",
       "      const element = document.createElement(\"link\");\n",
       "      element.onload = on_load;\n",
       "      element.onerror = on_error;\n",
       "      element.rel = \"stylesheet\";\n",
       "      element.type = \"text/css\";\n",
       "      element.href = url;\n",
       "      console.debug(\"Bokeh: injecting link tag for BokehJS stylesheet: \", url);\n",
       "      document.body.appendChild(element);\n",
       "    }\n",
       "\n",
       "    for (var i = 0; i < js_urls.length; i++) {\n",
       "      var url = js_urls[i];\n",
       "      var element = document.createElement('script');\n",
       "      element.onload = on_load;\n",
       "      element.onerror = on_error;\n",
       "      element.async = false;\n",
       "      element.src = url;\n",
       "      console.debug(\"Bokeh: injecting script tag for BokehJS library: \", url);\n",
       "      document.head.appendChild(element);\n",
       "    }\n",
       "  };var element = document.getElementById(\"1105\");\n",
       "  if (element == null) {\n",
       "    console.error(\"Bokeh: ERROR: autoload.js configured with elementid '1105' but no matching script tag was found. \")\n",
       "    return false;\n",
       "  }\n",
       "\n",
       "  function inject_raw_css(css) {\n",
       "    const element = document.createElement(\"style\");\n",
       "    element.appendChild(document.createTextNode(css));\n",
       "    document.body.appendChild(element);\n",
       "  }\n",
       "\n",
       "  var js_urls = [\"https://cdn.pydata.org/bokeh/release/bokeh-1.2.0.min.js\", \"https://cdn.pydata.org/bokeh/release/bokeh-widgets-1.2.0.min.js\", \"https://cdn.pydata.org/bokeh/release/bokeh-tables-1.2.0.min.js\", \"https://cdn.pydata.org/bokeh/release/bokeh-gl-1.2.0.min.js\"];\n",
       "  var css_urls = [\"https://cdn.pydata.org/bokeh/release/bokeh-1.2.0.min.css\", \"https://cdn.pydata.org/bokeh/release/bokeh-widgets-1.2.0.min.css\", \"https://cdn.pydata.org/bokeh/release/bokeh-tables-1.2.0.min.css\"];\n",
       "\n",
       "  var inline_js = [\n",
       "    function(Bokeh) {\n",
       "      Bokeh.set_log_level(\"info\");\n",
       "    },\n",
       "    \n",
       "    function(Bokeh) {\n",
       "      \n",
       "    },\n",
       "    function(Bokeh) {} // ensure no trailing comma for IE\n",
       "  ];\n",
       "\n",
       "  function run_inline_js() {\n",
       "    \n",
       "    if ((root.Bokeh !== undefined) || (force === true)) {\n",
       "      for (var i = 0; i < inline_js.length; i++) {\n",
       "        inline_js[i].call(root, root.Bokeh);\n",
       "      }if (force === true) {\n",
       "        display_loaded();\n",
       "      }} else if (Date.now() < root._bokeh_timeout) {\n",
       "      setTimeout(run_inline_js, 100);\n",
       "    } else if (!root._bokeh_failed_load) {\n",
       "      console.log(\"Bokeh: BokehJS failed to load within specified timeout.\");\n",
       "      root._bokeh_failed_load = true;\n",
       "    } else if (force !== true) {\n",
       "      var cell = $(document.getElementById(\"1105\")).parents('.cell').data().cell;\n",
       "      cell.output_area.append_execute_result(NB_LOAD_WARNING)\n",
       "    }\n",
       "\n",
       "  }\n",
       "\n",
       "  if (root._bokeh_is_loading === 0) {\n",
       "    console.debug(\"Bokeh: BokehJS loaded, going straight to plotting\");\n",
       "    run_inline_js();\n",
       "  } else {\n",
       "    load_libs(css_urls, js_urls, function() {\n",
       "      console.debug(\"Bokeh: BokehJS plotting callback run at\", now());\n",
       "      run_inline_js();\n",
       "    });\n",
       "  }\n",
       "}(window));"
      ],
      "application/vnd.bokehjs_load.v0+json": "\n(function(root) {\n  function now() {\n    return new Date();\n  }\n\n  var force = true;\n\n  if (typeof root._bokeh_onload_callbacks === \"undefined\" || force === true) {\n    root._bokeh_onload_callbacks = [];\n    root._bokeh_is_loading = undefined;\n  }\n\n  \n\n  \n  if (typeof (root._bokeh_timeout) === \"undefined\" || force === true) {\n    root._bokeh_timeout = Date.now() + 5000;\n    root._bokeh_failed_load = false;\n  }\n\n  var NB_LOAD_WARNING = {'data': {'text/html':\n     \"<div style='background-color: #fdd'>\\n\"+\n     \"<p>\\n\"+\n     \"BokehJS does not appear to have successfully loaded. If loading BokehJS from CDN, this \\n\"+\n     \"may be due to a slow or bad network connection. Possible fixes:\\n\"+\n     \"</p>\\n\"+\n     \"<ul>\\n\"+\n     \"<li>re-rerun `output_notebook()` to attempt to load from CDN again, or</li>\\n\"+\n     \"<li>use INLINE resources instead, as so:</li>\\n\"+\n     \"</ul>\\n\"+\n     \"<code>\\n\"+\n     \"from bokeh.resources import INLINE\\n\"+\n     \"output_notebook(resources=INLINE)\\n\"+\n     \"</code>\\n\"+\n     \"</div>\"}};\n\n  function display_loaded() {\n    var el = document.getElementById(\"1105\");\n    if (el != null) {\n      el.textContent = \"BokehJS is loading...\";\n    }\n    if (root.Bokeh !== undefined) {\n      if (el != null) {\n        el.textContent = \"BokehJS \" + root.Bokeh.version + \" successfully loaded.\";\n      }\n    } else if (Date.now() < root._bokeh_timeout) {\n      setTimeout(display_loaded, 100)\n    }\n  }\n\n\n  function run_callbacks() {\n    try {\n      root._bokeh_onload_callbacks.forEach(function(callback) {\n        if (callback != null)\n          callback();\n      });\n    } finally {\n      delete root._bokeh_onload_callbacks\n    }\n    console.debug(\"Bokeh: all callbacks have finished\");\n  }\n\n  function load_libs(css_urls, js_urls, callback) {\n    if (css_urls == null) css_urls = [];\n    if (js_urls == null) js_urls = [];\n\n    root._bokeh_onload_callbacks.push(callback);\n    if (root._bokeh_is_loading > 0) {\n      console.debug(\"Bokeh: BokehJS is being loaded, scheduling callback at\", now());\n      return null;\n    }\n    if (js_urls == null || js_urls.length === 0) {\n      run_callbacks();\n      return null;\n    }\n    console.debug(\"Bokeh: BokehJS not loaded, scheduling load and callback at\", now());\n    root._bokeh_is_loading = css_urls.length + js_urls.length;\n\n    function on_load() {\n      root._bokeh_is_loading--;\n      if (root._bokeh_is_loading === 0) {\n        console.debug(\"Bokeh: all BokehJS libraries/stylesheets loaded\");\n        run_callbacks()\n      }\n    }\n\n    function on_error() {\n      console.error(\"failed to load \" + url);\n    }\n\n    for (var i = 0; i < css_urls.length; i++) {\n      var url = css_urls[i];\n      const element = document.createElement(\"link\");\n      element.onload = on_load;\n      element.onerror = on_error;\n      element.rel = \"stylesheet\";\n      element.type = \"text/css\";\n      element.href = url;\n      console.debug(\"Bokeh: injecting link tag for BokehJS stylesheet: \", url);\n      document.body.appendChild(element);\n    }\n\n    for (var i = 0; i < js_urls.length; i++) {\n      var url = js_urls[i];\n      var element = document.createElement('script');\n      element.onload = on_load;\n      element.onerror = on_error;\n      element.async = false;\n      element.src = url;\n      console.debug(\"Bokeh: injecting script tag for BokehJS library: \", url);\n      document.head.appendChild(element);\n    }\n  };var element = document.getElementById(\"1105\");\n  if (element == null) {\n    console.error(\"Bokeh: ERROR: autoload.js configured with elementid '1105' but no matching script tag was found. \")\n    return false;\n  }\n\n  function inject_raw_css(css) {\n    const element = document.createElement(\"style\");\n    element.appendChild(document.createTextNode(css));\n    document.body.appendChild(element);\n  }\n\n  var js_urls = [\"https://cdn.pydata.org/bokeh/release/bokeh-1.2.0.min.js\", \"https://cdn.pydata.org/bokeh/release/bokeh-widgets-1.2.0.min.js\", \"https://cdn.pydata.org/bokeh/release/bokeh-tables-1.2.0.min.js\", \"https://cdn.pydata.org/bokeh/release/bokeh-gl-1.2.0.min.js\"];\n  var css_urls = [\"https://cdn.pydata.org/bokeh/release/bokeh-1.2.0.min.css\", \"https://cdn.pydata.org/bokeh/release/bokeh-widgets-1.2.0.min.css\", \"https://cdn.pydata.org/bokeh/release/bokeh-tables-1.2.0.min.css\"];\n\n  var inline_js = [\n    function(Bokeh) {\n      Bokeh.set_log_level(\"info\");\n    },\n    \n    function(Bokeh) {\n      \n    },\n    function(Bokeh) {} // ensure no trailing comma for IE\n  ];\n\n  function run_inline_js() {\n    \n    if ((root.Bokeh !== undefined) || (force === true)) {\n      for (var i = 0; i < inline_js.length; i++) {\n        inline_js[i].call(root, root.Bokeh);\n      }if (force === true) {\n        display_loaded();\n      }} else if (Date.now() < root._bokeh_timeout) {\n      setTimeout(run_inline_js, 100);\n    } else if (!root._bokeh_failed_load) {\n      console.log(\"Bokeh: BokehJS failed to load within specified timeout.\");\n      root._bokeh_failed_load = true;\n    } else if (force !== true) {\n      var cell = $(document.getElementById(\"1105\")).parents('.cell').data().cell;\n      cell.output_area.append_execute_result(NB_LOAD_WARNING)\n    }\n\n  }\n\n  if (root._bokeh_is_loading === 0) {\n    console.debug(\"Bokeh: BokehJS loaded, going straight to plotting\");\n    run_inline_js();\n  } else {\n    load_libs(css_urls, js_urls, function() {\n      console.debug(\"Bokeh: BokehJS plotting callback run at\", now());\n      run_inline_js();\n    });\n  }\n}(window));"
     },
     "metadata": {},
     "output_type": "display_data"
    },
    {
     "data": {
      "text/html": [
       "\n",
       "\n",
       "\n",
       "\n",
       "\n",
       "\n",
       "  <div class=\"bk-root\" id=\"e52f5c7c-edc1-4d22-abf4-d58cc88627d6\" data-root-id=\"1106\"></div>\n"
      ]
     },
     "metadata": {},
     "output_type": "display_data"
    },
    {
     "data": {
      "application/javascript": [
       "(function(root) {\n",
       "  function embed_document(root) {\n",
       "    \n",
       "  var docs_json = {\"e072d7f5-1b81-4327-9a58-2c57c57eedc2\":{\"roots\":{\"references\":[{\"attributes\":{\"below\":[{\"id\":\"1117\",\"type\":\"LinearAxis\"}],\"center\":[{\"id\":\"1121\",\"type\":\"Grid\"},{\"id\":\"1126\",\"type\":\"Grid\"},{\"id\":\"1151\",\"type\":\"Legend\"}],\"left\":[{\"id\":\"1122\",\"type\":\"LinearAxis\"}],\"renderers\":[{\"id\":\"1143\",\"type\":\"GlyphRenderer\"}],\"title\":{\"id\":\"1107\",\"type\":\"Title\"},\"toolbar\":{\"id\":\"1133\",\"type\":\"Toolbar\"},\"x_range\":{\"id\":\"1109\",\"type\":\"DataRange1d\"},\"x_scale\":{\"id\":\"1113\",\"type\":\"LinearScale\"},\"y_range\":{\"id\":\"1111\",\"type\":\"DataRange1d\"},\"y_scale\":{\"id\":\"1115\",\"type\":\"LinearScale\"}},\"id\":\"1106\",\"subtype\":\"Figure\",\"type\":\"Plot\"},{\"attributes\":{\"items\":[{\"id\":\"1152\",\"type\":\"LegendItem\"}],\"location\":\"top_left\"},\"id\":\"1151\",\"type\":\"Legend\"},{\"attributes\":{},\"id\":\"1127\",\"type\":\"PanTool\"},{\"attributes\":{\"label\":{\"value\":\"beta(phi)\"},\"renderers\":[{\"id\":\"1143\",\"type\":\"GlyphRenderer\"}]},\"id\":\"1152\",\"type\":\"LegendItem\"},{\"attributes\":{},\"id\":\"1167\",\"type\":\"Selection\"},{\"attributes\":{},\"id\":\"1128\",\"type\":\"WheelZoomTool\"},{\"attributes\":{\"callback\":null},\"id\":\"1111\",\"type\":\"DataRange1d\"},{\"attributes\":{},\"id\":\"1132\",\"type\":\"HelpTool\"},{\"attributes\":{\"data_source\":{\"id\":\"1140\",\"type\":\"ColumnDataSource\"},\"glyph\":{\"id\":\"1141\",\"type\":\"Line\"},\"hover_glyph\":null,\"muted_glyph\":null,\"nonselection_glyph\":{\"id\":\"1142\",\"type\":\"Line\"},\"selection_glyph\":null,\"view\":{\"id\":\"1144\",\"type\":\"CDSView\"}},\"id\":\"1143\",\"type\":\"GlyphRenderer\"},{\"attributes\":{\"callback\":null},\"id\":\"1109\",\"type\":\"DataRange1d\"},{\"attributes\":{\"line_alpha\":0.1,\"line_color\":\"#1f77b4\",\"line_width\":2,\"x\":{\"field\":\"x\"},\"y\":{\"field\":\"y\"}},\"id\":\"1142\",\"type\":\"Line\"},{\"attributes\":{\"overlay\":{\"id\":\"1150\",\"type\":\"BoxAnnotation\"}},\"id\":\"1129\",\"type\":\"BoxZoomTool\"},{\"attributes\":{},\"id\":\"1130\",\"type\":\"SaveTool\"},{\"attributes\":{},\"id\":\"1168\",\"type\":\"UnionRenderers\"},{\"attributes\":{},\"id\":\"1131\",\"type\":\"ResetTool\"},{\"attributes\":{\"active_drag\":\"auto\",\"active_inspect\":\"auto\",\"active_multi\":null,\"active_scroll\":\"auto\",\"active_tap\":\"auto\",\"tools\":[{\"id\":\"1127\",\"type\":\"PanTool\"},{\"id\":\"1128\",\"type\":\"WheelZoomTool\"},{\"id\":\"1129\",\"type\":\"BoxZoomTool\"},{\"id\":\"1130\",\"type\":\"SaveTool\"},{\"id\":\"1131\",\"type\":\"ResetTool\"},{\"id\":\"1132\",\"type\":\"HelpTool\"}]},\"id\":\"1133\",\"type\":\"Toolbar\"},{\"attributes\":{},\"id\":\"1113\",\"type\":\"LinearScale\"},{\"attributes\":{},\"id\":\"1115\",\"type\":\"LinearScale\"},{\"attributes\":{\"callback\":null,\"data\":{\"x\":{\"__ndarray__\":\"AAAAAACAVsDzUiJ4pD9WwOalRPBI/1XA2fhmaO2+VcDMS4ngkX5VwMCeq1g2PlXAs/HN0Nr9VMCmRPBIf71UwJmXEsEjfVTAjOo0Ocg8VMB/PVexbPxTwHKQeSkRvFPAZuObobV7U8BZNr4ZWjtTwEyJ4JH++lLAP9wCCqO6UsAyLyWCR3pSwCWCR/rrOVLAGNVpcpD5UcAMKIzqNLlRwP56rmLZeFHA8s3Q2n04UcDlIPNSIvhQwNhzFcvGt1DAy8Y3Q2t3UMC+GVq7DzdQwGLZ+GZo7U/ASX89V7FsT8AvJYJH+utOwBXLxjdDa07A/HALKIzqTcDiFlAY1WlNwMi8lAge6UzArmLZ+GZoTMCUCB7pr+dLwHuuYtn4ZkvAYVSnyUHmSsBH+uu5imVKwC6gMKrT5EnAFEZ1mhxkScD667mKZeNIwOCR/nquYkjAxjdDa/fhR8Ct3YdbQGFHwJODzEuJ4EbAeSkRPNJfRsBgz1UsG99FwEZ1mhxkXkXALBvfDK3dRMASwSP99VxEwPhmaO0+3EPA3wyt3YdbQ8DFsvHN0NpCwKtYNr4ZWkLAkv56rmLZQcB4pL+eq1hBwF5KBI/010DARPBIfz1XQMBULBvfDK0/wCJ4pL+eqz7A7sMtoDCqPcC6D7eAwqg8wIhbQGFUpzvAVKfJQealOsAg81IieKQ5wOw+3AIKozjAuIpl45uhN8CE1u7DLaA2wFAieKS/njXAIG4BhVGdNMDsuYpl45szwLgFFEZ1mjLAhFGdJgeZMcBQnSYHmZcwwDjSX89VLC/A0GlykHkpLcBwAYVRnSYrwAiZlxLBIynAoDCq0+QgJ8A4yLyUCB4lwNBfz1UsGyPAaPfhFlAYIcAAHumv5yoewDBNDjIvJRrAYHwztHYfFsCgq1g2vhkSwKC1+3ALKAzAABRGdZocBMDA5CDzUiL4vwBDa/fhFuC/gENr9+EW4D8A5SDzUiL4PwAURnWaHARAoLX7cAsoDECgq1g2vhkSQHB8M7R2HxZAQE0OMi8lGkAQHumv5yoeQHD34RZQGCFA2F/PVSwbI0BAyLyUCB4lQKAwqtPkICdACJmXEsEjKUBwAYVRnSYrQNhpcpB5KS1AQNJfz1UsL0BUnSYHmZcwQIhRnSYHmTFAuAUURnWaMkDsuYpl45szQCBuAYVRnTRAVCJ4pL+eNUCI1u7DLaA2QLyKZeOboTdA8D7cAgqjOEAk81IieKQ5QFinyUHmpTpAiFtAYVSnO0C8D7eAwqg8QPDDLaAwqj1AJHikv56rPkBYLBvfDK0/QEbwSH89V0BAYEoEj/TXQEB4pL+eq1hBQJL+eq5i2UFArFg2vhlaQkDGsvHN0NpCQOAMrd2HW0NA+GZo7T7cQ0AUwSP99VxEQCwb3wyt3URASHWaHGReRUBgz1UsG99FQHwpETzSX0ZAlIPMS4ngRkCw3YdbQGFHQMg3Q2v34UdA4JH+eq5iSED867mKZeNIQBRGdZocZElAMKAwqtPkSUBI+uu5imVKQGRUp8lB5kpAfK5i2fhmS0CUCB7pr+dLQLBi2fhmaExAyLyUCB7pTEDkFlAY1WlNQPxwCyiM6k1AGMvGN0NrTkAwJYJH+utOQEh/PVexbE9AZNn4ZmjtT0C+GVq7DzdQQMzGN0Nrd1BA2HMVy8a3UEDmIPNSIvhQQPLN0Np9OFFAAHuuYtl4UUAMKIzqNLlRQBjVaXKQ+VFAJoJH+us5UkAyLyWCR3pSQEDcAgqjulJATIngkf76UkBaNr4ZWjtTQGbjm6G1e1NAdJB5KRG8U0CAPVexbPxTQIzqNDnIPFRAmpcSwSN9VECmRPBIf71UQLTxzdDa/VRAwJ6rWDY+VUDOS4ngkX5VQNr4ZmjtvlVA5qVE8Ej/VUD0UiJ4pD9WQAAAAAAAgFZA\",\"dtype\":\"float64\",\"shape\":[180]},\"y\":{\"__ndarray__\":\"TTLi0DAV+zr4wZGDtpP7PWKr4iugkgs+eIhIPpysFD56y/0OR44bPlbLBs/iNiE+eKWolkalJD4z97eaCRIoPmNMZbjmfCs+jNcx85jlLj5lBTC97SUxPp9eMNe01zI+9jcek/+HND4fInzaqzY2Pu0be7eX4zc+ahyoV6GOOT5E05YOpzc7Pn9piViH3jw+FQ0V3SCDPj7fiOE4qRJAPkU5V4594kA+Lb+OC/2wQT4UvgtoF35CPuEIe3e8SUM+yxz5KtwTRD4fSlaSZtxEPjVxWN1Lo0U+Ozr6XHxoRj63rqeE6CtHPq8beOuA7Uc+3iNlTTatSD5S6X6M+WpJPh42HbK7Jko+OowN8G3gSj6BBL6hAZhLPovlZE1oTUw+vtokpZMATT7KtC2IdbFNPr2c2QMAYE4+GqPGVCUMTz7ZlOzn17VPPjCA1y2FLlA+a6p1wNeAUD5HgwEu3dFQPrfR8BKPIVE+cGF/JudvUT5Y3i0737xRPpGJPj9xCFI+J74vPZdSUj7LOzRcS5tSPh8uqeCH4lI+QeeJLEcoUz5vROG/g2xTPtqzODk4r1M+7NIEVl/wUz5enA/z8y9UPtQd4AzxbVQ+xqwfwFGqVD60kvxJEeVUPvEoiggrHlU+ZFwee5pVVT7VkaxCW4tVPrzjHSJpv1U+cLKm/r/xVT4lgBngWyJWPggSN/E4UVY+RdD7f1N+Vj7NXur9p6lWPgBpUwAz01Y+jJqaQPH6Vj4cwHic3yBXPpYKOxb7RFc+6m//1EBnVz69JO4krodXPlMqcHdAplc+fOxiY/XCVz5q60ilyt1XPqJtdx++9lc+VzZB2s0NWD71PB4E+CJYPpNi0PE6Nlg+iyKFHpVHWD5xO/QrBVdYPhVOe+KJZFg+V3A2MSJwWD7bsRUuzXlYPveQ7xWKgVg+Wl6QTFiHWD42jsZcN4tYPgD2a/gmjVg+APZr+CaNWD42jsZcN4tYPlpekExYh1g+95DvFYqBWD7bsRUuzXlYPldwNjEicFg+FU574olkWD5xO/QrBVdYPooihR6VR1g+k2LQ8To2WD70PB4E+CJYPlc2QdrNDVg+om13H772Vz5q60ilyt1XPnzsYmP1wlc+Uypwd0CmVz69JO4krodXPupv/9RAZ1c+lgo7FvtEVz4cwHic3yBXPoyamkDx+lY+AGlTADPTVj7NXur9p6lWPkXQ+39TflY+BxI38ThRVj4kgBngWyJWPm+ypv6/8VU+vOMdImm/VT7VkaxCW4tVPmNcHnuaVVU+8SiKCCseVT6zkvxJEeVUPsWsH8BRqlQ+0x3gDPFtVD5enA/z8y9UPuzSBFZf8FM+2bM4OTivUz5uROG/g2xTPkHniSxHKFM+Hy6p4IfiUj7JOzRcS5tSPie+Lz2XUlI+kIk+P3EIUj5Y3i0737xRPm1hfybnb1E+ttHwEo8hUT5FgwEu3dFQPmuqdcDXgFA+MIDXLYUuUD7WlOzn17VPPhqjxlQlDE8+upzZAwBgTj7KtC2IdbFNPrjaJKWTAE0+ieVkTWhNTD6BBL6hAZhLPjeMDfBt4Eo+HjYdsrsmSj5N6X6M+WpJPt4jZU02rUg+qht464DtRz60rqeE6CtHPj06+lx8aEY+MnFY3UujRT4fSlaSZtxEPsgc+SrcE0Q+4Qh7d7xJQz4SvgtoF35CPi2/jgv9sEE+QDlXjn3iQD7fiOE4qRJAPhUNFd0ggz4+eWmJWIfePD5E05YOpzc7PmQcqFehjjk+7Rt7t5fjNz4ZInzaqzY2PvY3HpP/hzQ+k14w17TXMj5ZBTC97SUxPozXMfOY5S4+V0xluOZ8Kz4z97eaCRIoPmylqJZGpSQ+VssGz+I2IT4wy/0OR44bPmCISD6crBQ+YqviK6CSCz4zwZGDtpP7PU0y4tAwFfs6\",\"dtype\":\"float64\",\"shape\":[180]}},\"selected\":{\"id\":\"1167\",\"type\":\"Selection\"},\"selection_policy\":{\"id\":\"1168\",\"type\":\"UnionRenderers\"}},\"id\":\"1140\",\"type\":\"ColumnDataSource\"},{\"attributes\":{},\"id\":\"1146\",\"type\":\"BasicTickFormatter\"},{\"attributes\":{\"line_color\":\"#1f77b4\",\"line_width\":2,\"x\":{\"field\":\"x\"},\"y\":{\"field\":\"y\"}},\"id\":\"1141\",\"type\":\"Line\"},{\"attributes\":{\"axis_label\":\"Latitude [deg]\",\"axis_label_text_font_size\":{\"value\":\"16pt\"},\"formatter\":{\"id\":\"1146\",\"type\":\"BasicTickFormatter\"},\"major_label_text_font_size\":{\"value\":\"16pt\"},\"ticker\":{\"id\":\"1118\",\"type\":\"BasicTicker\"}},\"id\":\"1117\",\"type\":\"LinearAxis\"},{\"attributes\":{},\"id\":\"1118\",\"type\":\"BasicTicker\"},{\"attributes\":{\"text\":\"Meridional derivative\"},\"id\":\"1107\",\"type\":\"Title\"},{\"attributes\":{\"source\":{\"id\":\"1140\",\"type\":\"ColumnDataSource\"}},\"id\":\"1144\",\"type\":\"CDSView\"},{\"attributes\":{\"dimension\":1,\"ticker\":{\"id\":\"1123\",\"type\":\"BasicTicker\"}},\"id\":\"1126\",\"type\":\"Grid\"},{\"attributes\":{\"ticker\":{\"id\":\"1118\",\"type\":\"BasicTicker\"}},\"id\":\"1121\",\"type\":\"Grid\"},{\"attributes\":{\"axis_label\":\"beta [1/km s]\",\"axis_label_text_font_size\":{\"value\":\"16pt\"},\"formatter\":{\"id\":\"1148\",\"type\":\"BasicTickFormatter\"},\"major_label_text_font_size\":{\"value\":\"16pt\"},\"ticker\":{\"id\":\"1123\",\"type\":\"BasicTicker\"}},\"id\":\"1122\",\"type\":\"LinearAxis\"},{\"attributes\":{\"bottom_units\":\"screen\",\"fill_alpha\":{\"value\":0.5},\"fill_color\":{\"value\":\"lightgrey\"},\"left_units\":\"screen\",\"level\":\"overlay\",\"line_alpha\":{\"value\":1.0},\"line_color\":{\"value\":\"black\"},\"line_dash\":[4,4],\"line_width\":{\"value\":2},\"render_mode\":\"css\",\"right_units\":\"screen\",\"top_units\":\"screen\"},\"id\":\"1150\",\"type\":\"BoxAnnotation\"},{\"attributes\":{},\"id\":\"1123\",\"type\":\"BasicTicker\"},{\"attributes\":{},\"id\":\"1148\",\"type\":\"BasicTickFormatter\"}],\"root_ids\":[\"1106\"]},\"title\":\"Bokeh Application\",\"version\":\"1.2.0\"}};\n",
       "  var render_items = [{\"docid\":\"e072d7f5-1b81-4327-9a58-2c57c57eedc2\",\"roots\":{\"1106\":\"e52f5c7c-edc1-4d22-abf4-d58cc88627d6\"}}];\n",
       "  root.Bokeh.embed.embed_items_notebook(docs_json, render_items);\n",
       "\n",
       "  }\n",
       "  if (root.Bokeh !== undefined) {\n",
       "    embed_document(root);\n",
       "  } else {\n",
       "    var attempts = 0;\n",
       "    var timer = setInterval(function(root) {\n",
       "      if (root.Bokeh !== undefined) {\n",
       "        embed_document(root);\n",
       "        clearInterval(timer);\n",
       "      }\n",
       "      attempts++;\n",
       "      if (attempts > 100) {\n",
       "        console.log(\"Bokeh: ERROR: Unable to run BokehJS code because BokehJS library is missing\");\n",
       "        clearInterval(timer);\n",
       "      }\n",
       "    }, 10, root)\n",
       "  }\n",
       "})(window);"
      ],
      "application/vnd.bokehjs_exec.v0+json": ""
     },
     "metadata": {
      "application/vnd.bokehjs_exec.v0+json": {
       "id": "1106"
      }
     },
     "output_type": "display_data"
    }
   ],
   "source": [
    "# Plot\n",
    "plotting.output_notebook()\n",
    "\n",
    "p = plotting.figure(title='Meridional derivative', x_axis_label='Latitude [deg]',\n",
    "                                       y_axis_label='beta [1/km s]')\n",
    "\n",
    "\n",
    "p.line(phis, beta, legend='beta(phi)', line_width=2)\n",
    "p.legend.location = \"top_left\"\n",
    "\n",
    "set_fontsize(p, 16)\n",
    "\n",
    "plotting.show(p)"
   ]
  },
  {
   "cell_type": "markdown",
   "metadata": {},
   "source": [
    "### $\\beta$ is positive everywhere except $\\phi = 90$deg where it is zero."
   ]
  },
  {
   "cell_type": "markdown",
   "metadata": {},
   "source": [
    "## c) Acceleration\n",
    "\n",
    "### $a = d^2x/dt^2$\n",
    "\n",
    "### Integrate once:  $v(t) = at + v_0$\n",
    "\n",
    "### Integrate twice:  $x(t) = at^2/2 + v_0 t + x_0$"
   ]
  },
  {
   "cell_type": "markdown",
   "metadata": {},
   "source": [
    "## d) Baseball"
   ]
  },
  {
   "cell_type": "markdown",
   "metadata": {},
   "source": [
    "### Imperial to SI"
   ]
  },
  {
   "cell_type": "code",
   "execution_count": 16,
   "metadata": {},
   "outputs": [
    {
     "data": {
      "text/latex": [
       "$128.74752 \\; \\mathrm{\\frac{km}{h}}$"
      ],
      "text/plain": [
       "<Quantity 128.74752 km / h>"
      ]
     },
     "execution_count": 16,
     "metadata": {},
     "output_type": "execute_result"
    }
   ],
   "source": [
    "v_0 = 80 * units.imperial.mi / units.hour\n",
    "v_0.cgs.to('km/hr')"
   ]
  },
  {
   "cell_type": "code",
   "execution_count": 15,
   "metadata": {},
   "outputs": [
    {
     "data": {
      "text/latex": [
       "$18.288 \\; \\mathrm{m}$"
      ],
      "text/plain": [
       "<Quantity 18.288 m>"
      ]
     },
     "execution_count": 15,
     "metadata": {},
     "output_type": "execute_result"
    }
   ],
   "source": [
    "d = 60 * units.imperial.foot\n",
    "d.cgs.to('m')"
   ]
  },
  {
   "cell_type": "markdown",
   "metadata": {},
   "source": [
    "### Coriolis acceleration\n",
    "\n",
    "### $f v$"
   ]
  },
  {
   "cell_type": "code",
   "execution_count": 17,
   "metadata": {},
   "outputs": [],
   "source": [
    "# Assume Santa Cruz\n",
    "f = ofc.coriolis_parameter(37*units.deg)"
   ]
  },
  {
   "cell_type": "code",
   "execution_count": 19,
   "metadata": {},
   "outputs": [
    {
     "data": {
      "text/latex": [
       "$0.0031389428 \\; \\mathrm{\\frac{m}{s^{2}}}$"
      ],
      "text/plain": [
       "<Quantity 0.00313894 m / s2>"
      ]
     },
     "execution_count": 19,
     "metadata": {},
     "output_type": "execute_result"
    }
   ],
   "source": [
    "a_c = f * v_0\n",
    "a_c.to('m/s**2')"
   ]
  },
  {
   "cell_type": "markdown",
   "metadata": {},
   "source": [
    "### Time to plate"
   ]
  },
  {
   "cell_type": "code",
   "execution_count": 21,
   "metadata": {},
   "outputs": [
    {
     "data": {
      "text/latex": [
       "$0.51136364 \\; \\mathrm{s}$"
      ],
      "text/plain": [
       "<Quantity 0.51136364 s>"
      ]
     },
     "execution_count": 21,
     "metadata": {},
     "output_type": "execute_result"
    }
   ],
   "source": [
    "t = d/v_0\n",
    "t.to('s')"
   ]
  },
  {
   "cell_type": "markdown",
   "metadata": {},
   "source": [
    "### Deflection"
   ]
  },
  {
   "cell_type": "code",
   "execution_count": 23,
   "metadata": {},
   "outputs": [
    {
     "data": {
      "text/latex": [
       "$0.041040543 \\; \\mathrm{cm}$"
      ],
      "text/plain": [
       "<Quantity 0.04104054 cm>"
      ]
     },
     "execution_count": 23,
     "metadata": {},
     "output_type": "execute_result"
    }
   ],
   "source": [
    "x = a_c * t**2 / 2\n",
    "x.to('cm')"
   ]
  },
  {
   "cell_type": "markdown",
   "metadata": {},
   "source": [
    "## e) Airplane"
   ]
  },
  {
   "cell_type": "code",
   "execution_count": 27,
   "metadata": {},
   "outputs": [],
   "source": [
    "v_plane = 250 * units.m / units.s  # East\n",
    "phi = -26*units.deg"
   ]
  },
  {
   "cell_type": "markdown",
   "metadata": {},
   "source": [
    "### Coriolis"
   ]
  },
  {
   "cell_type": "code",
   "execution_count": 28,
   "metadata": {},
   "outputs": [
    {
     "data": {
      "text/latex": [
       "$-6.3933131 \\times 10^{-5} \\; \\mathrm{\\frac{1}{s}}$"
      ],
      "text/plain": [
       "<Quantity -6.3933131e-05 1 / s>"
      ]
     },
     "execution_count": 28,
     "metadata": {},
     "output_type": "execute_result"
    }
   ],
   "source": [
    "f_26S = ofc.coriolis_parameter(phi)\n",
    "f_26S"
   ]
  },
  {
   "cell_type": "code",
   "execution_count": 29,
   "metadata": {},
   "outputs": [
    {
     "data": {
      "text/latex": [
       "$-0.015983283 \\; \\mathrm{\\frac{m}{s^{2}}}$"
      ],
      "text/plain": [
       "<Quantity -0.01598328 m / s2>"
      ]
     },
     "execution_count": 29,
     "metadata": {},
     "output_type": "execute_result"
    }
   ],
   "source": [
    "a_plane = f_26S * v_plane\n",
    "a_plane.to('m/s**2')"
   ]
  },
  {
   "cell_type": "markdown",
   "metadata": {},
   "source": [
    "#### Direction is to the left in the Southern Hemisphere, i.e. North"
   ]
  },
  {
   "cell_type": "code",
   "execution_count": 31,
   "metadata": {},
   "outputs": [
    {
     "data": {
      "text/latex": [
       "$-103.57167 \\; \\mathrm{km}$"
      ],
      "text/plain": [
       "<Quantity -103.57167218 km>"
      ]
     },
     "execution_count": 31,
     "metadata": {},
     "output_type": "execute_result"
    }
   ],
   "source": [
    "# Deflection\n",
    "x_coriolis = a_plane * (1*units.hour)**2 / 2\n",
    "x_coriolis.to('km')"
   ]
  },
  {
   "cell_type": "markdown",
   "metadata": {},
   "source": [
    "### Compare"
   ]
  },
  {
   "cell_type": "code",
   "execution_count": null,
   "metadata": {},
   "outputs": [],
   "source": []
  },
  {
   "cell_type": "markdown",
   "metadata": {},
   "source": [
    "----"
   ]
  },
  {
   "cell_type": "markdown",
   "metadata": {},
   "source": [
    "# Tests"
   ]
  },
  {
   "cell_type": "code",
   "execution_count": null,
   "metadata": {},
   "outputs": [],
   "source": [
    "units.mile"
   ]
  },
  {
   "cell_type": "code",
   "execution_count": null,
   "metadata": {},
   "outputs": [],
   "source": []
  }
 ],
 "metadata": {
  "kernelspec": {
   "display_name": "Python 3",
   "language": "python",
   "name": "python3"
  },
  "language_info": {
   "codemirror_mode": {
    "name": "ipython",
    "version": 3
   },
   "file_extension": ".py",
   "mimetype": "text/x-python",
   "name": "python",
   "nbconvert_exporter": "python",
   "pygments_lexer": "ipython3",
   "version": "3.7.3"
  }
 },
 "nbformat": 4,
 "nbformat_minor": 2
}
