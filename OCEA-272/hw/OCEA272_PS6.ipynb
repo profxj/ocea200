{
 "cells": [
  {
   "cell_type": "markdown",
   "metadata": {},
   "source": [
    "# OCEA272 Problem Set 6"
   ]
  },
  {
   "cell_type": "code",
   "execution_count": 1,
   "metadata": {},
   "outputs": [],
   "source": [
    "# imports\n",
    "import numpy as np\n",
    "from importlib import reload\n",
    "\n",
    "from scipy import optimize\n",
    "\n",
    "import unyt\n",
    "\n",
    "from oceanpy import constants\n",
    "from oceanpy.forces import coriolis\n",
    "\n",
    "from os_classes.ocea257 import chapter1, chapter2\n",
    "from os_classes import plotting as os_plotting\n",
    "\n",
    "from bokeh import plotting\n",
    "from bokeh import models\n",
    "from bokeh import layouts\n",
    "\n",
    "from IPython.display import Image\n",
    "from IPython.core.display import HTML"
   ]
  },
  {
   "cell_type": "markdown",
   "metadata": {},
   "source": [
    "# PS6-1 <font color='blue'>(C-R 11-4 and 11-5)</font>  Diamond Head"
   ]
  },
  {
   "cell_type": "markdown",
   "metadata": {},
   "source": [
    "## 11-5"
   ]
  },
  {
   "cell_type": "markdown",
   "metadata": {},
   "source": [
    "### Wind blowing at 10 m/s encounters Diamond Head, leading to vertical displacements $\\xi$."
   ]
  },
  {
   "cell_type": "code",
   "execution_count": 17,
   "metadata": {},
   "outputs": [],
   "source": [
    "# Setup\n",
    "U = 10 * unyt.m / unyt.s  # Flow speed\n",
    "hb = 232 * unyt.m  # Height of the volcano\n",
    "L = 20 * unyt.km   # Width of the volcano\n",
    "N = 0.02 / unyt.s"
   ]
  },
  {
   "cell_type": "markdown",
   "metadata": {},
   "source": [
    "### In lecture, we considered a very similar problem, deriving:\n",
    "\n",
    "### $\\xi = - \\frac{F_r^2 h_b}{1-F_r^2}$\n",
    "\n",
    "### with $F_r$ the Froude number\n",
    "\n",
    "### $F_r \\equiv \\frac{U}{NH}$."
   ]
  },
  {
   "cell_type": "markdown",
   "metadata": {},
   "source": [
    "### Consider first:\n",
    "\n",
    "### $\\frac{U}{N h_b}$"
   ]
  },
  {
   "cell_type": "code",
   "execution_count": 7,
   "metadata": {},
   "outputs": [
    {
     "data": {
      "text/plain": [
       "unyt_quantity(2.15517241, '(dimensionless)')"
      ]
     },
     "execution_count": 7,
     "metadata": {},
     "output_type": "execute_result"
    }
   ],
   "source": [
    "U / (N * hb)"
   ]
  },
  {
   "cell_type": "markdown",
   "metadata": {},
   "source": [
    "### If the characteristic height of the flow $H$ is much larger than the volcano $H \\gg h_b$, then we will have $F_r \\ll 1$.  This is, of course, a requirement for stratification.\n",
    "\n",
    "### And our equation for the vertical displacements reduces to:\n",
    "\n",
    "### $\\xi \\approx -F_r^2 h_b$\n",
    "\n",
    "### i.e. the vertical displacements are much less than the height of the volcano."
   ]
  },
  {
   "cell_type": "markdown",
   "metadata": {},
   "source": [
    "### Is the Coriolis (i.e. rotation) important?\n",
    "\n",
    "### Let us calculate the Rossby number:\n",
    "\n",
    "### $R_0 = \\frac{U}{\\Omega L}$"
   ]
  },
  {
   "cell_type": "markdown",
   "metadata": {},
   "source": [
    "### Hawaii is at $\\approx 20^\\circ$N"
   ]
  },
  {
   "cell_type": "code",
   "execution_count": 13,
   "metadata": {},
   "outputs": [
    {
     "data": {
      "text/plain": [
       "unyt_quantity(4.98810626e-05, '1/s')"
      ]
     },
     "execution_count": 13,
     "metadata": {},
     "output_type": "execute_result"
    }
   ],
   "source": [
    "Omega = coriolis.coriolis_parameter(20*unyt.deg)\n",
    "Omega.to('1/s')"
   ]
  },
  {
   "cell_type": "code",
   "execution_count": 20,
   "metadata": {},
   "outputs": [
    {
     "data": {
      "text/plain": [
       "unyt_quantity(10.0238442, '(dimensionless)')"
      ]
     },
     "execution_count": 20,
     "metadata": {},
     "output_type": "execute_result"
    }
   ],
   "source": [
    "R_0 = U / Omega / L\n",
    "R_0"
   ]
  },
  {
   "cell_type": "markdown",
   "metadata": {},
   "source": [
    "### With $R_0 \\gg 1$, rotational effects are minimal."
   ]
  },
  {
   "cell_type": "markdown",
   "metadata": {},
   "source": [
    "## 11-5"
   ]
  },
  {
   "cell_type": "markdown",
   "metadata": {},
   "source": [
    "### Now we increase $h_b$ to 1000m and $L = 500$km."
   ]
  },
  {
   "cell_type": "code",
   "execution_count": 16,
   "metadata": {},
   "outputs": [],
   "source": [
    "hb_2 = 1000 * unyt.m\n",
    "L_2 = 500*unyt.km"
   ]
  },
  {
   "cell_type": "markdown",
   "metadata": {},
   "source": [
    "### Let us calculate our dimensionaless quantities:"
   ]
  },
  {
   "cell_type": "code",
   "execution_count": 21,
   "metadata": {},
   "outputs": [
    {
     "data": {
      "text/plain": [
       "unyt_quantity(0.40095377, '(dimensionless)')"
      ]
     },
     "execution_count": 21,
     "metadata": {},
     "output_type": "execute_result"
    }
   ],
   "source": [
    "R_0_2 = U / Omega / L_2\n",
    "R_0_2"
   ]
  },
  {
   "cell_type": "markdown",
   "metadata": {},
   "source": [
    "### We see that rotation is now important."
   ]
  },
  {
   "cell_type": "markdown",
   "metadata": {},
   "source": [
    "### And for this much larger $h_b$, it is possible that $H \\sim h_b$ and we estimate the Froude number:"
   ]
  },
  {
   "cell_type": "code",
   "execution_count": 19,
   "metadata": {},
   "outputs": [
    {
     "data": {
      "text/plain": [
       "unyt_quantity(0.5, '(dimensionless)')"
      ]
     },
     "execution_count": 19,
     "metadata": {},
     "output_type": "execute_result"
    }
   ],
   "source": [
    "F_r_2 = U / N / hb_2\n",
    "F_r_2"
   ]
  },
  {
   "cell_type": "markdown",
   "metadata": {},
   "source": [
    "### We may compare $F_r^2$ to $R_0$:"
   ]
  },
  {
   "cell_type": "code",
   "execution_count": 22,
   "metadata": {},
   "outputs": [
    {
     "data": {
      "text/plain": [
       "unyt_quantity(0.62351328, '(dimensionless)')"
      ]
     },
     "execution_count": 22,
     "metadata": {},
     "output_type": "execute_result"
    }
   ],
   "source": [
    "F_r_2**2 / R_0_2"
   ]
  },
  {
   "cell_type": "markdown",
   "metadata": {},
   "source": [
    "### We appear to be in the regime where both stratification and rotation are important."
   ]
  },
  {
   "cell_type": "markdown",
   "metadata": {},
   "source": [
    "----"
   ]
  },
  {
   "cell_type": "markdown",
   "metadata": {},
   "source": [
    "# PS6-2 <font color='blue'>(C-R 13-2)</font>  Internal waves"
   ]
  },
  {
   "cell_type": "markdown",
   "metadata": {},
   "source": [
    "## The lunar tide $M2$ with period $P=12.42$hrs drives internal waves along Norway's coast.\n",
    "\n",
    "## This occurs in a stratified fluid with frequency $N = 2 \\times 10^{-3} \\, \\rm s^{-1}$"
   ]
  },
  {
   "cell_type": "code",
   "execution_count": 23,
   "metadata": {},
   "outputs": [],
   "source": [
    "# Setup\n",
    "P = 12.42 * unyt.hour\n",
    "N = 2e-3 / unyt.s"
   ]
  },
  {
   "cell_type": "markdown",
   "metadata": {},
   "source": [
    "## Let's consider the oscillatory period\n",
    "\n",
    "## $P_N = \\frac{2\\pi}{N}$"
   ]
  },
  {
   "cell_type": "code",
   "execution_count": 24,
   "metadata": {},
   "outputs": [
    {
     "data": {
      "text/plain": [
       "unyt_quantity(0.87266463, 'hr')"
      ]
     },
     "execution_count": 24,
     "metadata": {},
     "output_type": "execute_result"
    }
   ],
   "source": [
    "P_N = 2 * np.pi / N\n",
    "P_N.to('hour')"
   ]
  },
  {
   "cell_type": "markdown",
   "metadata": {},
   "source": [
    "## This is much shorter than the tidal period.  As such, we expect to be in the Radiating Wave regime."
   ]
  },
  {
   "cell_type": "markdown",
   "metadata": {},
   "source": [
    "## For the tidal oscillation, it is reasonable to take the frequency of our internal waves to be:\n",
    "\n",
    "## $\\omega = 1/P$"
   ]
  },
  {
   "cell_type": "code",
   "execution_count": 25,
   "metadata": {},
   "outputs": [
    {
     "data": {
      "text/plain": [
       "unyt_quantity(2.23653605e-05, '1/s')"
      ]
     },
     "execution_count": 25,
     "metadata": {},
     "output_type": "execute_result"
    }
   ],
   "source": [
    "omega = 1./P\n",
    "omega.to('1/s')"
   ]
  },
  {
   "cell_type": "markdown",
   "metadata": {},
   "source": [
    "## We have derived for internal waves the following relation:\n",
    "\n",
    "## $\\omega = N \\cos\\theta$\n",
    "\n",
    "## giving\n",
    "\n",
    "## $\\cos\\theta = \\frac{\\omega}{N}$"
   ]
  },
  {
   "cell_type": "code",
   "execution_count": 26,
   "metadata": {},
   "outputs": [
    {
     "data": {
      "text/plain": [
       "unyt_quantity(0.01118268, '(dimensionless)')"
      ]
     },
     "execution_count": 26,
     "metadata": {},
     "output_type": "execute_result"
    }
   ],
   "source": [
    "# Numerically\n",
    "costheta = omega / N\n",
    "costheta"
   ]
  },
  {
   "cell_type": "code",
   "execution_count": 29,
   "metadata": {},
   "outputs": [
    {
     "data": {
      "text/plain": [
       "array(1.55961341)"
      ]
     },
     "execution_count": 29,
     "metadata": {},
     "output_type": "execute_result"
    }
   ],
   "source": [
    "theta = np.arccos(costheta)\n",
    "theta # radians"
   ]
  },
  {
   "cell_type": "code",
   "execution_count": 30,
   "metadata": {},
   "outputs": [
    {
     "data": {
      "text/plain": [
       "unyt_quantity(89.35926626, 'degree')"
      ]
     },
     "execution_count": 30,
     "metadata": {},
     "output_type": "execute_result"
    }
   ],
   "source": [
    "theta_deg = theta * 180. *unyt.deg / np.pi\n",
    "theta_deg"
   ]
  },
  {
   "cell_type": "markdown",
   "metadata": {},
   "source": [
    "## We have:\n",
    "\n",
    "## $k_x = k \\cos\\theta$, $k_z = k \\sin\\theta$"
   ]
  },
  {
   "cell_type": "markdown",
   "metadata": {},
   "source": [
    "----"
   ]
  },
  {
   "cell_type": "markdown",
   "metadata": {},
   "source": [
    "# PS6-3 <font color='blue'>(C-R 13-4)</font>  Lee waves"
   ]
  },
  {
   "cell_type": "markdown",
   "metadata": {},
   "source": [
    "## We have a wind blowing over a sinusoidal topography with quantities:"
   ]
  },
  {
   "cell_type": "code",
   "execution_count": 37,
   "metadata": {},
   "outputs": [],
   "source": [
    "U = 10 * unyt.m/unyt.s # wind speed\n",
    "N = 0.03 / unyt.s      # Stratification frequency\n",
    "wave = 25 * unyt.km    # Topography wavelength\n",
    "H = 500 * unyt.m / 2   # Topography amplitude"
   ]
  },
  {
   "cell_type": "markdown",
   "metadata": {},
   "source": [
    "## Define $k_x = 2 \\pi / \\lambda$"
   ]
  },
  {
   "cell_type": "code",
   "execution_count": 32,
   "metadata": {},
   "outputs": [
    {
     "data": {
      "text/plain": [
       "unyt_quantity(0.25132741, '1/km')"
      ]
     },
     "execution_count": 32,
     "metadata": {},
     "output_type": "execute_result"
    }
   ],
   "source": [
    "k_x = 2 * np.pi / wave\n",
    "k_x"
   ]
  },
  {
   "cell_type": "code",
   "execution_count": 33,
   "metadata": {},
   "outputs": [
    {
     "data": {
      "text/plain": [
       "(unyt_quantity(0.00251327, '1/s'), unyt_quantity(0.03, '1/s'))"
      ]
     },
     "execution_count": 33,
     "metadata": {},
     "output_type": "execute_result"
    }
   ],
   "source": [
    "k_x * U, N"
   ]
  },
  {
   "cell_type": "markdown",
   "metadata": {},
   "source": [
    "## We see that $k_x U < N$ and we are in the long wavelength regime.\n",
    "\n",
    "## We have solutions of the form:\n",
    "\n",
    "## $k_z = \\pm \\sqrt{N^2/U^2 - k_x^2}$ and may ignore the downward solution."
   ]
  },
  {
   "cell_type": "code",
   "execution_count": 34,
   "metadata": {},
   "outputs": [
    {
     "data": {
      "text/plain": [
       "unyt_quantity(0.00298945, '1/m')"
      ]
     },
     "execution_count": 34,
     "metadata": {},
     "output_type": "execute_result"
    }
   ],
   "source": [
    "k_z = np.sqrt(N**2/U**2 - k_x**2)\n",
    "k_z"
   ]
  },
  {
   "cell_type": "markdown",
   "metadata": {},
   "source": [
    "## And we derive a vertical wavelength, $\\lambda_z = 2\\pi/k_z$"
   ]
  },
  {
   "cell_type": "code",
   "execution_count": 36,
   "metadata": {},
   "outputs": [
    {
     "data": {
      "text/plain": [
       "unyt_quantity(2.10178365, 'km')"
      ]
     },
     "execution_count": 36,
     "metadata": {},
     "output_type": "execute_result"
    }
   ],
   "source": [
    "wave_z = 2*np.pi/k_z\n",
    "wave_z.to('km')"
   ]
  },
  {
   "cell_type": "markdown",
   "metadata": {},
   "source": [
    "## We have $\\cos\\theta = k_x U / N$ which gives:"
   ]
  },
  {
   "cell_type": "code",
   "execution_count": 35,
   "metadata": {},
   "outputs": [
    {
     "data": {
      "text/plain": [
       "unyt_quantity(85.19436748, 'degree')"
      ]
     },
     "execution_count": 35,
     "metadata": {},
     "output_type": "execute_result"
    }
   ],
   "source": [
    "theta = np.arccos(k_x*U/N) * unyt.rad\n",
    "theta.to('deg')"
   ]
  },
  {
   "cell_type": "markdown",
   "metadata": {},
   "source": [
    "## Therefore our Lee waves are nearly vertical!"
   ]
  },
  {
   "cell_type": "markdown",
   "metadata": {},
   "source": [
    "## From lecture (and the text), the horizontal velocity for Lee waves is:\n",
    "\n",
    "## $u = U + k_x U H \\sin(k_x x + k_z z - \\omega t)$\n",
    "\n",
    "## or at the bottom ($z=0$):\n",
    "\n",
    "## $u = U + k_x U H \\sin(k_x x - \\omega t)$\n",
    "\n",
    "\n",
    "## This is maximal when $\\sin = 1$"
   ]
  },
  {
   "cell_type": "code",
   "execution_count": 39,
   "metadata": {},
   "outputs": [
    {
     "data": {
      "text/plain": [
       "unyt_quantity(10.62831853, 'm/s')"
      ]
     },
     "execution_count": 39,
     "metadata": {},
     "output_type": "execute_result"
    }
   ],
   "source": [
    "u = U + k_x * U * H\n",
    "u.to('m/s')"
   ]
  },
  {
   "cell_type": "markdown",
   "metadata": {},
   "source": [
    "## This occurs when $k_x x - \\omega t = \\pi/2$"
   ]
  },
  {
   "cell_type": "markdown",
   "metadata": {},
   "source": [
    "## Last, our topology is:\n",
    "\n",
    "## $z = H \\cos(k_x x - \\omega t)$\n",
    "\n",
    "## And we have $z=0$ at this maximal velocity, i.e. neither a peak nor trough but the point of maximal slope."
   ]
  },
  {
   "cell_type": "markdown",
   "metadata": {},
   "source": [
    "----"
   ]
  },
  {
   "cell_type": "markdown",
   "metadata": {},
   "source": [
    "# PS6-4 <font color='blue'>(C-R 15-1)</font>  Thermal wind"
   ]
  },
  {
   "cell_type": "markdown",
   "metadata": {},
   "source": [
    "## Consider a region with a thermal gradient $dT/dy = -1^\\circ$C/35km.\n",
    "\n",
    "## Assume $\\phi = 40^\\circ$N and $T=290$K."
   ]
  },
  {
   "cell_type": "markdown",
   "metadata": {},
   "source": [
    "## Our thermal wind equations (derived in lecture) are:\n",
    "\n",
    "## $\\frac{\\partial v}{\\partial z} = \\frac{g \\alpha}{f} \\frac{\\partial T}{\\partial x}$\n",
    "\n",
    "## $\\frac{\\partial u}{\\partial z} = -\\frac{g \\alpha}{f} \\frac{\\partial T}{\\partial y}$\n",
    "\n",
    "## with $\\alpha = 1/T$"
   ]
  },
  {
   "cell_type": "code",
   "execution_count": 48,
   "metadata": {},
   "outputs": [],
   "source": [
    "# Setup\n",
    "T = 290 * unyt.K\n",
    "g = 9.8 * unyt.m / unyt.s**2\n",
    "dT_dy = -1 * unyt.K / (35*unyt.km)\n",
    "# Coriolis\n",
    "phi = 40*unyt.deg\n",
    "f = coriolis.coriolis_parameter(phi)"
   ]
  },
  {
   "cell_type": "code",
   "execution_count": 49,
   "metadata": {},
   "outputs": [
    {
     "data": {
      "text/plain": [
       "unyt_quantity(9.37457329e-05, '1/s')"
      ]
     },
     "execution_count": 49,
     "metadata": {},
     "output_type": "execute_result"
    }
   ],
   "source": [
    "f.to('1/s')"
   ]
  },
  {
   "cell_type": "markdown",
   "metadata": {},
   "source": [
    "## Derive $\\partial u/\\partial z$"
   ]
  },
  {
   "cell_type": "code",
   "execution_count": 50,
   "metadata": {},
   "outputs": [
    {
     "data": {
      "text/plain": [
       "unyt_quantity(0.01029932, '1/s')"
      ]
     },
     "execution_count": 50,
     "metadata": {},
     "output_type": "execute_result"
    }
   ],
   "source": [
    "du_dz = -g * (1/T) /  f * dT_dy\n",
    "du_dz"
   ]
  },
  {
   "cell_type": "markdown",
   "metadata": {},
   "source": [
    "## We now calculate the change in velocity $\\Delta u$ at $z = 2$km:"
   ]
  },
  {
   "cell_type": "code",
   "execution_count": 51,
   "metadata": {},
   "outputs": [
    {
     "data": {
      "text/plain": [
       "unyt_quantity(0.02059864, 'km/s')"
      ]
     },
     "execution_count": 51,
     "metadata": {},
     "output_type": "execute_result"
    }
   ],
   "source": [
    "Delta_u = du_dz * 2*unyt.km\n",
    "Delta_u"
   ]
  },
  {
   "cell_type": "code",
   "execution_count": null,
   "metadata": {},
   "outputs": [],
   "source": []
  }
 ],
 "metadata": {
  "kernelspec": {
   "display_name": "Python 3",
   "language": "python",
   "name": "python3"
  },
  "language_info": {
   "codemirror_mode": {
    "name": "ipython",
    "version": 3
   },
   "file_extension": ".py",
   "mimetype": "text/x-python",
   "name": "python",
   "nbconvert_exporter": "python",
   "pygments_lexer": "ipython3",
   "version": "3.7.6"
  }
 },
 "nbformat": 4,
 "nbformat_minor": 4
}
