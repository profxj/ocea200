{
 "cells": [
  {
   "cell_type": "markdown",
   "metadata": {},
   "source": [
    "# Problem Set 3"
   ]
  },
  {
   "cell_type": "code",
   "execution_count": 1,
   "metadata": {},
   "outputs": [],
   "source": [
    "# imports\n",
    "import numpy as np\n",
    "from importlib import reload\n",
    "\n",
    "import unyt\n",
    "\n",
    "from oceanpy import constants\n",
    "from oceanpy.forces import coriolis\n",
    "\n",
    "from os_classes.ocea257 import chapter1, chapter2\n",
    "from os_classes import plotting as os_plotting\n",
    "\n",
    "\n",
    "from bokeh import plotting\n",
    "from bokeh import models"
   ]
  },
  {
   "cell_type": "markdown",
   "metadata": {},
   "source": [
    "# PS3-1 <font color='blue'>(C-R 4-3)</font> "
   ]
  },
  {
   "cell_type": "markdown",
   "metadata": {},
   "source": [
    "## We have periodic fluctuations of the form:\n",
    "\n",
    "## $u' = U \\sin(\\phi + \\alpha_u)$\n",
    "\n",
    "## $v' = V \\sin(\\phi + \\alpha_v)$\n",
    "\n",
    "## $w' = 0$"
   ]
  },
  {
   "cell_type": "markdown",
   "metadata": {},
   "source": [
    "## And we are asked to calculate the Reynold's stresses, averaged over a $2\\pi$-period of $\\phi$\n",
    "\n",
    "## $<u'v'> = \\int\\limits_0^{2\\pi} u' v' d\\phi = UV \\int\\limits_0^{2\\pi} \\sin(\\phi + \\alpha_u) \\sin(\\phi + \\alpha_v) \\, d\\phi$"
   ]
  },
  {
   "cell_type": "markdown",
   "metadata": {},
   "source": [
    "## Using one of our good ole' 1/2 angle formulas from trig:\n",
    "\n",
    "## $\\sin(x+a) \\sin(x+b) = 1/2 [ \\cos(a-b) - \\cos(a+b+2x)]$\n",
    "\n",
    "## we have\n",
    "\n",
    "## $<u'v'> = \\frac{UV}{2} \\int\\limits_0^{2\\pi} \\left [ \\cos(\\alpha_u-\\alpha_v) - \\cos(\\alpha_u+\\alpha_v+2\\phi) \\right ] \\, d\\phi$"
   ]
  },
  {
   "cell_type": "markdown",
   "metadata": {},
   "source": [
    "## While the 2nd term clearly vanishes, the first term will survive in general, giving:\n",
    "\n",
    "## $<u'v'> = \\frac{UV}{2} 2\\pi \\cos(\\alpha_u-\\alpha_v) = \\pi \\, UV \\cos(\\alpha_u-\\alpha_v)$"
   ]
  },
  {
   "cell_type": "markdown",
   "metadata": {},
   "source": [
    "## This will be non-zero unless $\\alpha_u - \\alpha_v = (2n+1) \\pi/2$ with $n=0,1,2,..$"
   ]
  },
  {
   "cell_type": "markdown",
   "metadata": {},
   "source": [
    "----"
   ]
  },
  {
   "cell_type": "markdown",
   "metadata": {},
   "source": [
    "# PS3-2 <font color='blue'>(C-R 8-1)</font> "
   ]
  },
  {
   "cell_type": "markdown",
   "metadata": {},
   "source": [
    "## My intuition tells me that stirring with a spoon will not yield a fluid in solid body rotation, but instead one closer to a constant velocity with radius, i.e. \n",
    "\n",
    "## $v(r) = v_0$"
   ]
  },
  {
   "cell_type": "markdown",
   "metadata": {},
   "source": [
    "## Allowing this ansatz, consider the fluid in a rotating frame with $\\Omega = v_0 / R$ with $R$ the radius of the cup.  For this first discussion, we will stir count-clockwise so that $\\Omega$ is oriented along the $\\hat k$ axis.\n",
    "\n",
    "## In this case, the fluid interior to the cup edge is moving in the same sense as our rotating frame with higher speed at smaller r.  \n",
    "\n",
    "## For example, along our $\\hat x$-axis, $v = v_0 (R-r)$"
   ]
  },
  {
   "cell_type": "markdown",
   "metadata": {},
   "source": [
    "## For the fluid moving along the bottom of the cup, the stress $\\bar \\tau$ for the fluid along the $\\hat x$-axis is therefore oriented to $- \\hat y$.  \n",
    "\n",
    "## This means the Ekman transport:\n",
    "\n",
    "## $\\bar M_{\\rm E_k} = \\frac{1}{\\rho f} \\, \\bar\\tau \\times \\hat k$\n",
    "\n",
    "## And the direction of the transport is $-\\hat y \\times \\hat k = -\\hat x$, i.e. inward."
   ]
  },
  {
   "cell_type": "markdown",
   "metadata": {},
   "source": [
    "## If we reverse the spoon $\\bar \\Omega = - v_0/R \\hat k$, the fluid velocity along the $\\hat x$-axis reverses and so does the stress.  Therefore, the transport remains inward."
   ]
  },
  {
   "cell_type": "markdown",
   "metadata": {},
   "source": [
    "----"
   ]
  },
  {
   "cell_type": "markdown",
   "metadata": {},
   "source": [
    "# PS3-3 <font color='blue'>(C-R 8-2)</font> "
   ]
  },
  {
   "cell_type": "markdown",
   "metadata": {},
   "source": [
    "## Setup"
   ]
  },
  {
   "cell_type": "code",
   "execution_count": 2,
   "metadata": {},
   "outputs": [],
   "source": [
    "# Setup\n",
    "phi = 45 * unyt.deg # N"
   ]
  },
  {
   "cell_type": "code",
   "execution_count": 3,
   "metadata": {},
   "outputs": [
    {
     "data": {
      "text/plain": [
       "unyt_quantity(0.00010313, '1/s')"
      ]
     },
     "execution_count": 3,
     "metadata": {},
     "output_type": "execute_result"
    }
   ],
   "source": [
    "f = coriolis.coriolis_parameter(phi)\n",
    "f.to('1/s')"
   ]
  },
  {
   "cell_type": "code",
   "execution_count": 6,
   "metadata": {},
   "outputs": [],
   "source": [
    "# Eddy viscosity\n",
    "nu_E = 10 * unyt.m**2 / unyt.s"
   ]
  },
  {
   "cell_type": "code",
   "execution_count": 7,
   "metadata": {},
   "outputs": [],
   "source": [
    "# Geostrophic veocity\n",
    "u0 = 10 * unyt.m / unyt.s"
   ]
  },
  {
   "cell_type": "markdown",
   "metadata": {},
   "source": [
    "## If we have no horizontal gradients, our momentum equations:\n",
    "\n",
    "## $+fu = - \\frac{1}{\\rho_0} \\frac{\\partial p}{\\partial y} + \\nu_E \\frac{\\partial^2 v}{\\partial z^2}$\n",
    "\n",
    "## $-fv = - \\frac{1}{\\rho_0} \\frac{\\partial p}{\\partial x} + \\nu_E \\frac{\\partial^2 u}{\\partial z^2}$"
   ]
  },
  {
   "cell_type": "markdown",
   "metadata": {},
   "source": [
    "## To maintain the geostropic flow $u = u_0$  (I prefer $u_0$ to $\\bar u$), we have:\n",
    "\n",
    "## $f u_0 = - \\frac{1}{\\rho_0} \\frac{\\partial \\bar p}{\\partial y}$ and $\\partial p/\\partial x = 0$\n",
    "\n",
    "## And our equations are now:\n",
    "\n",
    "##  $+f(u-u_0) = \\nu_E \\frac{\\partial^2 v}{\\partial z^2}$\n",
    "\n",
    "## $-fv =  \\nu_E \\frac{\\partial^2 u}{\\partial z^2}$"
   ]
  },
  {
   "cell_type": "markdown",
   "metadata": {},
   "source": [
    "## Following Ekman (and our in-class derivation), these equations have solutions of the form, \n",
    "\n",
    "## $u = u_0 + A \\exp(\\lambda z)$\n",
    "\n",
    "### and application of the Boundary conditions ($u=0, v=0$ at $z=0$; $u=u_0, v=0$ at $z=\\infty$) gives:\n",
    "\n",
    "## $u = u_0 \\left [ 1 - \\exp(-z/d) \\cos(z/d) \\right ]$\n",
    "\n",
    "## $v = u_0 \\exp(-z/d) \\sin(z/d)$\n",
    "\n",
    "## with $d \\equiv \\sqrt{2 \\nu_E / f}$"
   ]
  },
  {
   "cell_type": "code",
   "execution_count": 8,
   "metadata": {},
   "outputs": [
    {
     "data": {
      "text/plain": [
       "unyt_quantity(440.38294434, 'm')"
      ]
     },
     "execution_count": 8,
     "metadata": {},
     "output_type": "execute_result"
    }
   ],
   "source": [
    "d = np.sqrt(2 * nu_E/ f)\n",
    "d.to('m')"
   ]
  },
  {
   "cell_type": "markdown",
   "metadata": {},
   "source": [
    "## Last, let's calculate the vertically averaged flow across the isobars,  i.e. Transverse:  \n",
    "\n",
    "## $V = \\int\\limits_0^\\infty v dz = u_0 d /2$  \n",
    "\n",
    "### [Evaluated with two applications of intergration by parts which returns us to where we started and gives the factor of 1/2]"
   ]
  },
  {
   "cell_type": "code",
   "execution_count": 10,
   "metadata": {},
   "outputs": [
    {
     "data": {
      "text/plain": [
       "unyt_quantity(2201.91472169, 'm**2/s')"
      ]
     },
     "execution_count": 10,
     "metadata": {},
     "output_type": "execute_result"
    }
   ],
   "source": [
    "V = u0 * d / 2\n",
    "V.to('m**2/s')"
   ]
  },
  {
   "cell_type": "markdown",
   "metadata": {},
   "source": [
    "## Is there any vertical velocity?\n",
    "\n",
    "## On small scales (where $f$=const) and with the absence of horizontal gradients, our continuity equation:\n",
    "\n",
    "## $\\frac{\\partial u}{\\partial x} + \\frac{\\partial v}{\\partial y} + \\frac{\\partial w}{\\partial z} = 0$\n",
    "\n",
    "## Reduces to $\\frac{\\partial w}{\\partial z} = 0$\n",
    "\n",
    "## And with a boundary condition $w=0$ at $z=0$, this implies no vertical velocity."
   ]
  },
  {
   "cell_type": "markdown",
   "metadata": {},
   "source": [
    "----"
   ]
  },
  {
   "cell_type": "markdown",
   "metadata": {},
   "source": [
    "# PS3-4 <font color='blue'>(C-R 8-6)</font>:  Radioactive"
   ]
  },
  {
   "cell_type": "markdown",
   "metadata": {},
   "source": [
    "## Setup"
   ]
  },
  {
   "cell_type": "code",
   "execution_count": 11,
   "metadata": {},
   "outputs": [],
   "source": [
    "phi = 33 * unyt.deg # N\n",
    "f = 8e-5 / unyt.s"
   ]
  },
  {
   "cell_type": "code",
   "execution_count": 13,
   "metadata": {},
   "outputs": [],
   "source": [
    "# Viscosity\n",
    "nu_E = 1e-2 * unyt.m**2 / unyt.s"
   ]
  },
  {
   "cell_type": "code",
   "execution_count": 14,
   "metadata": {},
   "outputs": [],
   "source": [
    "# Vortex flow with angular speed\n",
    "omega = 1e-5 / unyt.s"
   ]
  },
  {
   "cell_type": "markdown",
   "metadata": {},
   "source": [
    "## We are to assume a homogeneous ocean with a steady geostrophic flow\n",
    "\n",
    "## In class, we were given without derivation that the vertical flow at the top of the Ekman layer is:\n",
    "\n",
    "## $w(z \\approx d) = \\frac{d}{2} \\left ( \\frac{\\partial v}{\\partial x} - \\frac{\\partial u}{\\partial y} \\right ) \n",
    "= \\frac{d}{2} \\xi$\n",
    "\n",
    "## with\n",
    "\n",
    "## $d \\equiv \\sqrt{2 \\nu_E / f}$\n",
    "\n",
    "## This is derived by a vertical integration of the continuity equation:\n",
    "\n",
    "### $\\frac{\\partial u}{\\partial x} + \\frac{\\partial v}{\\partial y} + \\frac{\\partial w}{\\partial z} = 0$\n",
    "\n",
    "### $w = \\int \\left ( \\frac{\\partial u}{\\partial x} + \\frac{\\partial v}{\\partial y} \\right ) dz\n",
    "  = \\frac{\\partial U}{\\partial x} + \\frac{\\partial V}{\\partial y}$\n",
    "\n",
    "### and geostrophic equilibrium:\n",
    "\n",
    "### $-f \\bar v = - \\frac{1}{\\rho_0} \\frac{\\partial \\bar p}{\\partial x}$\n",
    "\n",
    "### $f \\bar u = - \\frac{1}{\\rho_0} \\frac{\\partial \\bar p}{\\partial y}$"
   ]
  },
  {
   "cell_type": "markdown",
   "metadata": {},
   "source": [
    "## One may show further (as we did in lecture; see also equations 8.21-8.23 of C-R) that:\n",
    "\n",
    "## $U = - \\frac{d}{2} \\left ( \\bar u + \\bar v \\right )$\n",
    "\n",
    "## $V = \\frac{d}{2} \\left ( \\bar u - \\bar v \\right )$ \n",
    "\n",
    "## Taking the derivative of our geostrophic equilbrium equations:\n",
    "\n",
    "## $\\frac{\\partial \\bar u}{\\partial x} = - \\frac{1}{\\rho_0} \\frac{\\partial^2 \\bar p}{\\partial y \\partial x}\n",
    "= -f \\frac{\\partial \\bar v}{\\partial y}$\n",
    "\n",
    "## and\n",
    "\n",
    "## $\\frac{\\partial \\bar v}{\\partial y} = -f \\frac{\\partial \\bar u}{\\partial x}$"
   ]
  },
  {
   "cell_type": "markdown",
   "metadata": {},
   "source": [
    "## Some algebra spits out:\n",
    "\n",
    "## $\\bar w = \\frac{d}{2} \\left ( \\frac{\\partial \\bar v}{\\partial x} - \\frac{\\partial \\bar u}{\\partial y} \\right )$"
   ]
  },
  {
   "cell_type": "markdown",
   "metadata": {},
   "source": [
    "## Numerically"
   ]
  },
  {
   "cell_type": "code",
   "execution_count": 16,
   "metadata": {},
   "outputs": [
    {
     "data": {
      "text/plain": [
       "unyt_quantity(15.8113883, 'm')"
      ]
     },
     "execution_count": 16,
     "metadata": {},
     "output_type": "execute_result"
    }
   ],
   "source": [
    "d = np.sqrt(2 * nu_E/f)\n",
    "d.to('m')"
   ]
  },
  {
   "cell_type": "code",
   "execution_count": 17,
   "metadata": {},
   "outputs": [
    {
     "data": {
      "text/plain": [
       "unyt_quantity(7.90569415e-05, 'm/s')"
      ]
     },
     "execution_count": 17,
     "metadata": {},
     "output_type": "execute_result"
    }
   ],
   "source": [
    "w = (d/2) * omega\n",
    "w.to('m/s')"
   ]
  },
  {
   "cell_type": "markdown",
   "metadata": {},
   "source": [
    "## Whoa, that is small\n",
    "\n",
    "## And yet"
   ]
  },
  {
   "cell_type": "code",
   "execution_count": 18,
   "metadata": {},
   "outputs": [],
   "source": [
    "h = 3000 * unyt.m"
   ]
  },
  {
   "cell_type": "code",
   "execution_count": 20,
   "metadata": {},
   "outputs": [
    {
     "data": {
      "text/plain": [
       "unyt_quantity(1.20247839, 'yr')"
      ]
     },
     "execution_count": 20,
     "metadata": {},
     "output_type": "execute_result"
    }
   ],
   "source": [
    "t = h/w\n",
    "t.to('year')"
   ]
  },
  {
   "cell_type": "markdown",
   "metadata": {},
   "source": [
    "## Uh-oh"
   ]
  },
  {
   "cell_type": "markdown",
   "metadata": {},
   "source": [
    "----"
   ]
  },
  {
   "cell_type": "code",
   "execution_count": null,
   "metadata": {},
   "outputs": [],
   "source": []
  }
 ],
 "metadata": {
  "kernelspec": {
   "display_name": "Python 3",
   "language": "python",
   "name": "python3"
  },
  "language_info": {
   "codemirror_mode": {
    "name": "ipython",
    "version": 3
   },
   "file_extension": ".py",
   "mimetype": "text/x-python",
   "name": "python",
   "nbconvert_exporter": "python",
   "pygments_lexer": "ipython3",
   "version": "3.7.3"
  }
 },
 "nbformat": 4,
 "nbformat_minor": 2
}
