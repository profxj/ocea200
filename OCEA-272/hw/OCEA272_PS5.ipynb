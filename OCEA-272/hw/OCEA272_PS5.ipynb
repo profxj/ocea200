{
 "cells": [
  {
   "cell_type": "markdown",
   "metadata": {},
   "source": [
    "# OCEAN SCIENCES 272:  Problem Set 5"
   ]
  },
  {
   "cell_type": "code",
   "execution_count": 35,
   "metadata": {},
   "outputs": [],
   "source": [
    "# imports\n",
    "import numpy as np\n",
    "from importlib import reload\n",
    "\n",
    "from scipy import optimize\n",
    "\n",
    "import unyt\n",
    "\n",
    "from oceanpy import constants\n",
    "from oceanpy.forces import coriolis\n",
    "\n",
    "from os_classes.ocea257 import chapter1, chapter2\n",
    "from os_classes import plotting as os_plotting\n",
    "\n",
    "from bokeh import plotting\n",
    "from bokeh import models\n",
    "from bokeh import layouts\n",
    "\n",
    "from IPython.display import Image\n",
    "from IPython.core.display import HTML"
   ]
  },
  {
   "cell_type": "markdown",
   "metadata": {},
   "source": [
    "# PS5-1-- 3 Waves"
   ]
  },
  {
   "cell_type": "markdown",
   "metadata": {},
   "source": [
    "## We are to consider a set of 3 waves:\n",
    "\n",
    "## $\\psi_j(x,y,y) = \\phi_j(y) \\sin[k_j x - \\omega t]$\n",
    "\n",
    "## each growing exponentially with \n",
    "\n",
    "## $\\phi_j(y,t) = A_j \\exp(k_j c_{ij} t)$\n",
    "\n",
    "## and $A_j = 0.001$ at $t=0$."
   ]
  },
  {
   "cell_type": "markdown",
   "metadata": {},
   "source": [
    "## The wavenumbers are given by:\n",
    "\n",
    "## $\\lambda_j = 2\\pi/k_j = j * 1000$m\n",
    "\n",
    "## and the imaginary part is given by:\n",
    "\n",
    "## $c_{ij} = 100, 300, 350$m/day"
   ]
  },
  {
   "cell_type": "code",
   "execution_count": 2,
   "metadata": {},
   "outputs": [],
   "source": [
    "# Setup\n",
    "k_1 = 2 * np.pi / (1000*unyt.m)\n",
    "k_2 = 2 * np.pi / (2000*unyt.m)\n",
    "k_3 = 2 * np.pi / (3000*unyt.m)\n",
    "ks = [k_1, k_2, k_3]\n",
    "\n",
    "c_1 = 100 * unyt.m/unyt.day\n",
    "c_2 = 300 * unyt.m/unyt.day\n",
    "c_3 = 350 * unyt.m/unyt.day\n",
    "cs = [c_1, c_2, c_3]"
   ]
  },
  {
   "cell_type": "markdown",
   "metadata": {},
   "source": [
    "## We are asked which wave reaches amplitude 1 first.  This will be the one that maximizes $k_j c_{ij}$"
   ]
  },
  {
   "cell_type": "code",
   "execution_count": 3,
   "metadata": {},
   "outputs": [
    {
     "name": "stdout",
     "output_type": "stream",
     "text": [
      "j=1,  ck=0.6283185307179586 1/day\n",
      "j=2,  ck=0.942477796076938 1/day\n",
      "j=3,  ck=0.7330382858376183 1/day\n"
     ]
    }
   ],
   "source": [
    "for j, c,k in zip(range(3), cs, ks):\n",
    "    print(\"j={},  ck={}\".format(j+1, c*k))"
   ]
  },
  {
   "cell_type": "markdown",
   "metadata": {},
   "source": [
    "## It is clear that the $j=2$ wave grows the fastest.\n",
    "\n",
    "## It will reach $A=1$ at $t = \\ln(10^3) / (k_jc_{ij})$ "
   ]
  },
  {
   "cell_type": "code",
   "execution_count": 4,
   "metadata": {},
   "outputs": [
    {
     "data": {
      "text/plain": [
       "unyt_quantity(7.32935599, 'day')"
      ]
     },
     "execution_count": 4,
     "metadata": {},
     "output_type": "execute_result"
    }
   ],
   "source": [
    "t_A2_1 = np.log(1e3) / (k_2 * c_2)\n",
    "t_A2_1"
   ]
  },
  {
   "cell_type": "markdown",
   "metadata": {},
   "source": [
    "## At $t = 7.33$ days, the other two waves have amplitudes:\n",
    "\n",
    "## $A_j = A(t=0) \\exp(k_j c_{ij} t)$"
   ]
  },
  {
   "cell_type": "code",
   "execution_count": 5,
   "metadata": {},
   "outputs": [
    {
     "name": "stdout",
     "output_type": "stream",
     "text": [
      "j=1,  A_j = 0.09999999999999996\n",
      "j=2,  A_j = 0.9999999999999998\n",
      "j=3,  A_j = 0.2154434690031881\n"
     ]
    }
   ],
   "source": [
    "for j, c,k in zip(range(3), cs, ks):\n",
    "    A_j = 1e-3 * np.exp(c*k*t_A2_1)\n",
    "    print(\"j={},  A_j = {}\".format(j+1, A_j))"
   ]
  },
  {
   "cell_type": "markdown",
   "metadata": {},
   "source": [
    "## So $A_1 = 0.1$ and $A_3 = 0.215$"
   ]
  },
  {
   "cell_type": "markdown",
   "metadata": {},
   "source": [
    "## $A_2 = 10$ occurs $\\ln(10) / (k_2 c_{i2})$ days later"
   ]
  },
  {
   "cell_type": "code",
   "execution_count": 6,
   "metadata": {},
   "outputs": [
    {
     "data": {
      "text/plain": [
       "unyt_quantity(9.77247465, 'day')"
      ]
     },
     "execution_count": 6,
     "metadata": {},
     "output_type": "execute_result"
    }
   ],
   "source": [
    "t_A2_10 = np.log(1e4) / (k_2 * c_2)\n",
    "t_A2_10"
   ]
  },
  {
   "cell_type": "code",
   "execution_count": 7,
   "metadata": {},
   "outputs": [
    {
     "name": "stdout",
     "output_type": "stream",
     "text": [
      "j=1,  A_j = 0.46415888336127775\n",
      "j=2,  A_j = 10.000000000000009\n",
      "j=3,  A_j = 1.2915496650148832\n"
     ]
    }
   ],
   "source": [
    "for j, c,k in zip(range(3), cs, ks):\n",
    "    A_j = 1e-3 * np.exp(c*k*t_A2_10)\n",
    "    print(\"j={},  A_j = {}\".format(j+1, A_j))"
   ]
  },
  {
   "cell_type": "markdown",
   "metadata": {},
   "source": [
    "## Because the waves are all in phase for $x < 1000$m, the superposition is largest in that region.\n",
    "\n",
    "## Yet, the exponential growth of the $j=2$ wave dominates and is effectively the solution at late times.\n",
    "\n",
    "## Here is an interactive graph:"
   ]
  },
  {
   "cell_type": "code",
   "execution_count": 9,
   "metadata": {},
   "outputs": [],
   "source": [
    "x = np.linspace(0, 3000., 3000) * unyt.m \n",
    "\n",
    "psi_1 = 1e-3 * np.sin(k_1 * x)\n",
    "psi_2 = 1e-3 * np.sin(k_2 * x)\n",
    "psi_3 = 1e-3 * np.sin(k_3 * x)"
   ]
  },
  {
   "cell_type": "code",
   "execution_count": 19,
   "metadata": {},
   "outputs": [],
   "source": [
    "source = plotting.ColumnDataSource(data=dict(x=x, y=psi_1+psi_2+psi_3))"
   ]
  },
  {
   "cell_type": "code",
   "execution_count": 24,
   "metadata": {},
   "outputs": [
    {
     "data": {
      "text/html": [
       "\n",
       "    <div class=\"bk-root\">\n",
       "        <a href=\"https://bokeh.org\" target=\"_blank\" class=\"bk-logo bk-logo-small bk-logo-notebook\"></a>\n",
       "        <span id=\"1705\">Loading BokehJS ...</span>\n",
       "    </div>"
      ]
     },
     "metadata": {},
     "output_type": "display_data"
    },
    {
     "data": {
      "application/javascript": [
       "\n",
       "(function(root) {\n",
       "  function now() {\n",
       "    return new Date();\n",
       "  }\n",
       "\n",
       "  var force = true;\n",
       "\n",
       "  if (typeof root._bokeh_onload_callbacks === \"undefined\" || force === true) {\n",
       "    root._bokeh_onload_callbacks = [];\n",
       "    root._bokeh_is_loading = undefined;\n",
       "  }\n",
       "\n",
       "  var JS_MIME_TYPE = 'application/javascript';\n",
       "  var HTML_MIME_TYPE = 'text/html';\n",
       "  var EXEC_MIME_TYPE = 'application/vnd.bokehjs_exec.v0+json';\n",
       "  var CLASS_NAME = 'output_bokeh rendered_html';\n",
       "\n",
       "  /**\n",
       "   * Render data to the DOM node\n",
       "   */\n",
       "  function render(props, node) {\n",
       "    var script = document.createElement(\"script\");\n",
       "    node.appendChild(script);\n",
       "  }\n",
       "\n",
       "  /**\n",
       "   * Handle when an output is cleared or removed\n",
       "   */\n",
       "  function handleClearOutput(event, handle) {\n",
       "    var cell = handle.cell;\n",
       "\n",
       "    var id = cell.output_area._bokeh_element_id;\n",
       "    var server_id = cell.output_area._bokeh_server_id;\n",
       "    // Clean up Bokeh references\n",
       "    if (id != null && id in Bokeh.index) {\n",
       "      Bokeh.index[id].model.document.clear();\n",
       "      delete Bokeh.index[id];\n",
       "    }\n",
       "\n",
       "    if (server_id !== undefined) {\n",
       "      // Clean up Bokeh references\n",
       "      var cmd = \"from bokeh.io.state import curstate; print(curstate().uuid_to_server['\" + server_id + \"'].get_sessions()[0].document.roots[0]._id)\";\n",
       "      cell.notebook.kernel.execute(cmd, {\n",
       "        iopub: {\n",
       "          output: function(msg) {\n",
       "            var id = msg.content.text.trim();\n",
       "            if (id in Bokeh.index) {\n",
       "              Bokeh.index[id].model.document.clear();\n",
       "              delete Bokeh.index[id];\n",
       "            }\n",
       "          }\n",
       "        }\n",
       "      });\n",
       "      // Destroy server and session\n",
       "      var cmd = \"import bokeh.io.notebook as ion; ion.destroy_server('\" + server_id + \"')\";\n",
       "      cell.notebook.kernel.execute(cmd);\n",
       "    }\n",
       "  }\n",
       "\n",
       "  /**\n",
       "   * Handle when a new output is added\n",
       "   */\n",
       "  function handleAddOutput(event, handle) {\n",
       "    var output_area = handle.output_area;\n",
       "    var output = handle.output;\n",
       "\n",
       "    // limit handleAddOutput to display_data with EXEC_MIME_TYPE content only\n",
       "    if ((output.output_type != \"display_data\") || (!output.data.hasOwnProperty(EXEC_MIME_TYPE))) {\n",
       "      return\n",
       "    }\n",
       "\n",
       "    var toinsert = output_area.element.find(\".\" + CLASS_NAME.split(' ')[0]);\n",
       "\n",
       "    if (output.metadata[EXEC_MIME_TYPE][\"id\"] !== undefined) {\n",
       "      toinsert[toinsert.length - 1].firstChild.textContent = output.data[JS_MIME_TYPE];\n",
       "      // store reference to embed id on output_area\n",
       "      output_area._bokeh_element_id = output.metadata[EXEC_MIME_TYPE][\"id\"];\n",
       "    }\n",
       "    if (output.metadata[EXEC_MIME_TYPE][\"server_id\"] !== undefined) {\n",
       "      var bk_div = document.createElement(\"div\");\n",
       "      bk_div.innerHTML = output.data[HTML_MIME_TYPE];\n",
       "      var script_attrs = bk_div.children[0].attributes;\n",
       "      for (var i = 0; i < script_attrs.length; i++) {\n",
       "        toinsert[toinsert.length - 1].firstChild.setAttribute(script_attrs[i].name, script_attrs[i].value);\n",
       "      }\n",
       "      // store reference to server id on output_area\n",
       "      output_area._bokeh_server_id = output.metadata[EXEC_MIME_TYPE][\"server_id\"];\n",
       "    }\n",
       "  }\n",
       "\n",
       "  function register_renderer(events, OutputArea) {\n",
       "\n",
       "    function append_mime(data, metadata, element) {\n",
       "      // create a DOM node to render to\n",
       "      var toinsert = this.create_output_subarea(\n",
       "        metadata,\n",
       "        CLASS_NAME,\n",
       "        EXEC_MIME_TYPE\n",
       "      );\n",
       "      this.keyboard_manager.register_events(toinsert);\n",
       "      // Render to node\n",
       "      var props = {data: data, metadata: metadata[EXEC_MIME_TYPE]};\n",
       "      render(props, toinsert[toinsert.length - 1]);\n",
       "      element.append(toinsert);\n",
       "      return toinsert\n",
       "    }\n",
       "\n",
       "    /* Handle when an output is cleared or removed */\n",
       "    events.on('clear_output.CodeCell', handleClearOutput);\n",
       "    events.on('delete.Cell', handleClearOutput);\n",
       "\n",
       "    /* Handle when a new output is added */\n",
       "    events.on('output_added.OutputArea', handleAddOutput);\n",
       "\n",
       "    /**\n",
       "     * Register the mime type and append_mime function with output_area\n",
       "     */\n",
       "    OutputArea.prototype.register_mime_type(EXEC_MIME_TYPE, append_mime, {\n",
       "      /* Is output safe? */\n",
       "      safe: true,\n",
       "      /* Index of renderer in `output_area.display_order` */\n",
       "      index: 0\n",
       "    });\n",
       "  }\n",
       "\n",
       "  // register the mime type if in Jupyter Notebook environment and previously unregistered\n",
       "  if (root.Jupyter !== undefined) {\n",
       "    var events = require('base/js/events');\n",
       "    var OutputArea = require('notebook/js/outputarea').OutputArea;\n",
       "\n",
       "    if (OutputArea.prototype.mime_types().indexOf(EXEC_MIME_TYPE) == -1) {\n",
       "      register_renderer(events, OutputArea);\n",
       "    }\n",
       "  }\n",
       "\n",
       "  \n",
       "  if (typeof (root._bokeh_timeout) === \"undefined\" || force === true) {\n",
       "    root._bokeh_timeout = Date.now() + 5000;\n",
       "    root._bokeh_failed_load = false;\n",
       "  }\n",
       "\n",
       "  var NB_LOAD_WARNING = {'data': {'text/html':\n",
       "     \"<div style='background-color: #fdd'>\\n\"+\n",
       "     \"<p>\\n\"+\n",
       "     \"BokehJS does not appear to have successfully loaded. If loading BokehJS from CDN, this \\n\"+\n",
       "     \"may be due to a slow or bad network connection. Possible fixes:\\n\"+\n",
       "     \"</p>\\n\"+\n",
       "     \"<ul>\\n\"+\n",
       "     \"<li>re-rerun `output_notebook()` to attempt to load from CDN again, or</li>\\n\"+\n",
       "     \"<li>use INLINE resources instead, as so:</li>\\n\"+\n",
       "     \"</ul>\\n\"+\n",
       "     \"<code>\\n\"+\n",
       "     \"from bokeh.resources import INLINE\\n\"+\n",
       "     \"output_notebook(resources=INLINE)\\n\"+\n",
       "     \"</code>\\n\"+\n",
       "     \"</div>\"}};\n",
       "\n",
       "  function display_loaded() {\n",
       "    var el = document.getElementById(\"1705\");\n",
       "    if (el != null) {\n",
       "      el.textContent = \"BokehJS is loading...\";\n",
       "    }\n",
       "    if (root.Bokeh !== undefined) {\n",
       "      if (el != null) {\n",
       "        el.textContent = \"BokehJS \" + root.Bokeh.version + \" successfully loaded.\";\n",
       "      }\n",
       "    } else if (Date.now() < root._bokeh_timeout) {\n",
       "      setTimeout(display_loaded, 100)\n",
       "    }\n",
       "  }\n",
       "\n",
       "\n",
       "  function run_callbacks() {\n",
       "    try {\n",
       "      root._bokeh_onload_callbacks.forEach(function(callback) {\n",
       "        if (callback != null)\n",
       "          callback();\n",
       "      });\n",
       "    } finally {\n",
       "      delete root._bokeh_onload_callbacks\n",
       "    }\n",
       "    console.debug(\"Bokeh: all callbacks have finished\");\n",
       "  }\n",
       "\n",
       "  function load_libs(css_urls, js_urls, callback) {\n",
       "    if (css_urls == null) css_urls = [];\n",
       "    if (js_urls == null) js_urls = [];\n",
       "\n",
       "    root._bokeh_onload_callbacks.push(callback);\n",
       "    if (root._bokeh_is_loading > 0) {\n",
       "      console.debug(\"Bokeh: BokehJS is being loaded, scheduling callback at\", now());\n",
       "      return null;\n",
       "    }\n",
       "    if (js_urls == null || js_urls.length === 0) {\n",
       "      run_callbacks();\n",
       "      return null;\n",
       "    }\n",
       "    console.debug(\"Bokeh: BokehJS not loaded, scheduling load and callback at\", now());\n",
       "    root._bokeh_is_loading = css_urls.length + js_urls.length;\n",
       "\n",
       "    function on_load() {\n",
       "      root._bokeh_is_loading--;\n",
       "      if (root._bokeh_is_loading === 0) {\n",
       "        console.debug(\"Bokeh: all BokehJS libraries/stylesheets loaded\");\n",
       "        run_callbacks()\n",
       "      }\n",
       "    }\n",
       "\n",
       "    function on_error() {\n",
       "      console.error(\"failed to load \" + url);\n",
       "    }\n",
       "\n",
       "    for (var i = 0; i < css_urls.length; i++) {\n",
       "      var url = css_urls[i];\n",
       "      const element = document.createElement(\"link\");\n",
       "      element.onload = on_load;\n",
       "      element.onerror = on_error;\n",
       "      element.rel = \"stylesheet\";\n",
       "      element.type = \"text/css\";\n",
       "      element.href = url;\n",
       "      console.debug(\"Bokeh: injecting link tag for BokehJS stylesheet: \", url);\n",
       "      document.body.appendChild(element);\n",
       "    }\n",
       "\n",
       "    for (var i = 0; i < js_urls.length; i++) {\n",
       "      var url = js_urls[i];\n",
       "      var element = document.createElement('script');\n",
       "      element.onload = on_load;\n",
       "      element.onerror = on_error;\n",
       "      element.async = false;\n",
       "      element.src = url;\n",
       "      console.debug(\"Bokeh: injecting script tag for BokehJS library: \", url);\n",
       "      document.head.appendChild(element);\n",
       "    }\n",
       "  };var element = document.getElementById(\"1705\");\n",
       "  if (element == null) {\n",
       "    console.error(\"Bokeh: ERROR: autoload.js configured with elementid '1705' but no matching script tag was found. \")\n",
       "    return false;\n",
       "  }\n",
       "\n",
       "  function inject_raw_css(css) {\n",
       "    const element = document.createElement(\"style\");\n",
       "    element.appendChild(document.createTextNode(css));\n",
       "    document.body.appendChild(element);\n",
       "  }\n",
       "\n",
       "  \n",
       "  var js_urls = [\"https://cdn.pydata.org/bokeh/release/bokeh-1.4.0.min.js\", \"https://cdn.pydata.org/bokeh/release/bokeh-widgets-1.4.0.min.js\", \"https://cdn.pydata.org/bokeh/release/bokeh-tables-1.4.0.min.js\", \"https://cdn.pydata.org/bokeh/release/bokeh-gl-1.4.0.min.js\"];\n",
       "  var css_urls = [];\n",
       "  \n",
       "\n",
       "  var inline_js = [\n",
       "    function(Bokeh) {\n",
       "      Bokeh.set_log_level(\"info\");\n",
       "    },\n",
       "    function(Bokeh) {\n",
       "    \n",
       "    \n",
       "    }\n",
       "  ];\n",
       "\n",
       "  function run_inline_js() {\n",
       "    \n",
       "    if (root.Bokeh !== undefined || force === true) {\n",
       "      \n",
       "    for (var i = 0; i < inline_js.length; i++) {\n",
       "      inline_js[i].call(root, root.Bokeh);\n",
       "    }\n",
       "    if (force === true) {\n",
       "        display_loaded();\n",
       "      }} else if (Date.now() < root._bokeh_timeout) {\n",
       "      setTimeout(run_inline_js, 100);\n",
       "    } else if (!root._bokeh_failed_load) {\n",
       "      console.log(\"Bokeh: BokehJS failed to load within specified timeout.\");\n",
       "      root._bokeh_failed_load = true;\n",
       "    } else if (force !== true) {\n",
       "      var cell = $(document.getElementById(\"1705\")).parents('.cell').data().cell;\n",
       "      cell.output_area.append_execute_result(NB_LOAD_WARNING)\n",
       "    }\n",
       "\n",
       "  }\n",
       "\n",
       "  if (root._bokeh_is_loading === 0) {\n",
       "    console.debug(\"Bokeh: BokehJS loaded, going straight to plotting\");\n",
       "    run_inline_js();\n",
       "  } else {\n",
       "    load_libs(css_urls, js_urls, function() {\n",
       "      console.debug(\"Bokeh: BokehJS plotting callback run at\", now());\n",
       "      run_inline_js();\n",
       "    });\n",
       "  }\n",
       "}(window));"
      ],
      "application/vnd.bokehjs_load.v0+json": "\n(function(root) {\n  function now() {\n    return new Date();\n  }\n\n  var force = true;\n\n  if (typeof root._bokeh_onload_callbacks === \"undefined\" || force === true) {\n    root._bokeh_onload_callbacks = [];\n    root._bokeh_is_loading = undefined;\n  }\n\n  \n\n  \n  if (typeof (root._bokeh_timeout) === \"undefined\" || force === true) {\n    root._bokeh_timeout = Date.now() + 5000;\n    root._bokeh_failed_load = false;\n  }\n\n  var NB_LOAD_WARNING = {'data': {'text/html':\n     \"<div style='background-color: #fdd'>\\n\"+\n     \"<p>\\n\"+\n     \"BokehJS does not appear to have successfully loaded. If loading BokehJS from CDN, this \\n\"+\n     \"may be due to a slow or bad network connection. Possible fixes:\\n\"+\n     \"</p>\\n\"+\n     \"<ul>\\n\"+\n     \"<li>re-rerun `output_notebook()` to attempt to load from CDN again, or</li>\\n\"+\n     \"<li>use INLINE resources instead, as so:</li>\\n\"+\n     \"</ul>\\n\"+\n     \"<code>\\n\"+\n     \"from bokeh.resources import INLINE\\n\"+\n     \"output_notebook(resources=INLINE)\\n\"+\n     \"</code>\\n\"+\n     \"</div>\"}};\n\n  function display_loaded() {\n    var el = document.getElementById(\"1705\");\n    if (el != null) {\n      el.textContent = \"BokehJS is loading...\";\n    }\n    if (root.Bokeh !== undefined) {\n      if (el != null) {\n        el.textContent = \"BokehJS \" + root.Bokeh.version + \" successfully loaded.\";\n      }\n    } else if (Date.now() < root._bokeh_timeout) {\n      setTimeout(display_loaded, 100)\n    }\n  }\n\n\n  function run_callbacks() {\n    try {\n      root._bokeh_onload_callbacks.forEach(function(callback) {\n        if (callback != null)\n          callback();\n      });\n    } finally {\n      delete root._bokeh_onload_callbacks\n    }\n    console.debug(\"Bokeh: all callbacks have finished\");\n  }\n\n  function load_libs(css_urls, js_urls, callback) {\n    if (css_urls == null) css_urls = [];\n    if (js_urls == null) js_urls = [];\n\n    root._bokeh_onload_callbacks.push(callback);\n    if (root._bokeh_is_loading > 0) {\n      console.debug(\"Bokeh: BokehJS is being loaded, scheduling callback at\", now());\n      return null;\n    }\n    if (js_urls == null || js_urls.length === 0) {\n      run_callbacks();\n      return null;\n    }\n    console.debug(\"Bokeh: BokehJS not loaded, scheduling load and callback at\", now());\n    root._bokeh_is_loading = css_urls.length + js_urls.length;\n\n    function on_load() {\n      root._bokeh_is_loading--;\n      if (root._bokeh_is_loading === 0) {\n        console.debug(\"Bokeh: all BokehJS libraries/stylesheets loaded\");\n        run_callbacks()\n      }\n    }\n\n    function on_error() {\n      console.error(\"failed to load \" + url);\n    }\n\n    for (var i = 0; i < css_urls.length; i++) {\n      var url = css_urls[i];\n      const element = document.createElement(\"link\");\n      element.onload = on_load;\n      element.onerror = on_error;\n      element.rel = \"stylesheet\";\n      element.type = \"text/css\";\n      element.href = url;\n      console.debug(\"Bokeh: injecting link tag for BokehJS stylesheet: \", url);\n      document.body.appendChild(element);\n    }\n\n    for (var i = 0; i < js_urls.length; i++) {\n      var url = js_urls[i];\n      var element = document.createElement('script');\n      element.onload = on_load;\n      element.onerror = on_error;\n      element.async = false;\n      element.src = url;\n      console.debug(\"Bokeh: injecting script tag for BokehJS library: \", url);\n      document.head.appendChild(element);\n    }\n  };var element = document.getElementById(\"1705\");\n  if (element == null) {\n    console.error(\"Bokeh: ERROR: autoload.js configured with elementid '1705' but no matching script tag was found. \")\n    return false;\n  }\n\n  function inject_raw_css(css) {\n    const element = document.createElement(\"style\");\n    element.appendChild(document.createTextNode(css));\n    document.body.appendChild(element);\n  }\n\n  \n  var js_urls = [\"https://cdn.pydata.org/bokeh/release/bokeh-1.4.0.min.js\", \"https://cdn.pydata.org/bokeh/release/bokeh-widgets-1.4.0.min.js\", \"https://cdn.pydata.org/bokeh/release/bokeh-tables-1.4.0.min.js\", \"https://cdn.pydata.org/bokeh/release/bokeh-gl-1.4.0.min.js\"];\n  var css_urls = [];\n  \n\n  var inline_js = [\n    function(Bokeh) {\n      Bokeh.set_log_level(\"info\");\n    },\n    function(Bokeh) {\n    \n    \n    }\n  ];\n\n  function run_inline_js() {\n    \n    if (root.Bokeh !== undefined || force === true) {\n      \n    for (var i = 0; i < inline_js.length; i++) {\n      inline_js[i].call(root, root.Bokeh);\n    }\n    if (force === true) {\n        display_loaded();\n      }} else if (Date.now() < root._bokeh_timeout) {\n      setTimeout(run_inline_js, 100);\n    } else if (!root._bokeh_failed_load) {\n      console.log(\"Bokeh: BokehJS failed to load within specified timeout.\");\n      root._bokeh_failed_load = true;\n    } else if (force !== true) {\n      var cell = $(document.getElementById(\"1705\")).parents('.cell').data().cell;\n      cell.output_area.append_execute_result(NB_LOAD_WARNING)\n    }\n\n  }\n\n  if (root._bokeh_is_loading === 0) {\n    console.debug(\"Bokeh: BokehJS loaded, going straight to plotting\");\n    run_inline_js();\n  } else {\n    load_libs(css_urls, js_urls, function() {\n      console.debug(\"Bokeh: BokehJS plotting callback run at\", now());\n      run_inline_js();\n    });\n  }\n}(window));"
     },
     "metadata": {},
     "output_type": "display_data"
    },
    {
     "data": {
      "text/html": [
       "\n",
       "\n",
       "\n",
       "\n",
       "\n",
       "\n",
       "  <div class=\"bk-root\" id=\"e8d5538e-4bd5-43b7-a09f-c07406e7532a\" data-root-id=\"1747\"></div>\n"
      ]
     },
     "metadata": {},
     "output_type": "display_data"
    },
    {
     "data": {
      "application/javascript": [
       "(function(root) {\n",
       "  function embed_document(root) {\n",
       "    \n",
       "  var docs_json = {\"0ab7093f-2b28-4544-b93d-99ef6dd24148\":{\"roots\":{\"references\":[{\"attributes\":{\"children\":[{\"id\":\"1706\",\"subtype\":\"Figure\",\"type\":\"Plot\"},{\"id\":\"1745\",\"type\":\"Slider\"}]},\"id\":\"1747\",\"type\":\"Row\"},{\"attributes\":{\"line_alpha\":0.1,\"line_color\":\"#1f77b4\",\"line_width\":2,\"x\":{\"field\":\"x\"},\"y\":{\"field\":\"y\"}},\"id\":\"1742\",\"type\":\"Line\"},{\"attributes\":{},\"id\":\"1655\",\"type\":\"UnionRenderers\"},{\"attributes\":{\"source\":{\"id\":\"1565\",\"type\":\"ColumnDataSource\"}},\"id\":\"1744\",\"type\":\"CDSView\"},{\"attributes\":{\"line_color\":\"blue\",\"line_width\":2,\"x\":{\"field\":\"x\"},\"y\":{\"field\":\"y\"}},\"id\":\"1741\",\"type\":\"Line\"},{\"attributes\":{},\"id\":\"1798\",\"type\":\"BasicTickFormatter\"},{\"attributes\":{\"bottom_units\":\"screen\",\"fill_alpha\":{\"value\":0.5},\"fill_color\":{\"value\":\"lightgrey\"},\"left_units\":\"screen\",\"level\":\"overlay\",\"line_alpha\":{\"value\":1.0},\"line_color\":{\"value\":\"black\"},\"line_dash\":[4,4],\"line_width\":{\"value\":2},\"render_mode\":\"css\",\"right_units\":\"screen\",\"top_units\":\"screen\"},\"id\":\"1803\",\"type\":\"BoxAnnotation\"},{\"attributes\":{\"axis_label\":\"A\",\"formatter\":{\"id\":\"1798\",\"type\":\"BasicTickFormatter\"},\"ticker\":{\"id\":\"1723\",\"type\":\"BasicTicker\"}},\"id\":\"1722\",\"type\":\"LinearAxis\"},{\"attributes\":{},\"id\":\"1718\",\"type\":\"BasicTicker\"},{\"attributes\":{},\"id\":\"1732\",\"type\":\"HelpTool\"},{\"attributes\":{\"active_drag\":\"auto\",\"active_inspect\":\"auto\",\"active_multi\":null,\"active_scroll\":\"auto\",\"active_tap\":\"auto\",\"tools\":[{\"id\":\"1727\",\"type\":\"PanTool\"},{\"id\":\"1728\",\"type\":\"WheelZoomTool\"},{\"id\":\"1729\",\"type\":\"BoxZoomTool\"},{\"id\":\"1730\",\"type\":\"SaveTool\"},{\"id\":\"1731\",\"type\":\"ResetTool\"},{\"id\":\"1732\",\"type\":\"HelpTool\"}]},\"id\":\"1733\",\"type\":\"Toolbar\"},{\"attributes\":{},\"id\":\"1715\",\"type\":\"LinearScale\"},{\"attributes\":{\"callback\":null},\"id\":\"1711\",\"type\":\"DataRange1d\"},{\"attributes\":{\"text\":\"Three waves\"},\"id\":\"1707\",\"type\":\"Title\"},{\"attributes\":{},\"id\":\"1723\",\"type\":\"BasicTicker\"},{\"attributes\":{},\"id\":\"1713\",\"type\":\"LinearScale\"},{\"attributes\":{\"ticker\":{\"id\":\"1718\",\"type\":\"BasicTicker\"}},\"id\":\"1721\",\"type\":\"Grid\"},{\"attributes\":{},\"id\":\"1728\",\"type\":\"WheelZoomTool\"},{\"attributes\":{},\"id\":\"1731\",\"type\":\"ResetTool\"},{\"attributes\":{\"below\":[{\"id\":\"1717\",\"type\":\"LinearAxis\"}],\"center\":[{\"id\":\"1721\",\"type\":\"Grid\"},{\"id\":\"1726\",\"type\":\"Grid\"}],\"left\":[{\"id\":\"1722\",\"type\":\"LinearAxis\"}],\"renderers\":[{\"id\":\"1743\",\"type\":\"GlyphRenderer\"}],\"title\":{\"id\":\"1707\",\"type\":\"Title\"},\"toolbar\":{\"id\":\"1733\",\"type\":\"Toolbar\"},\"x_range\":{\"id\":\"1709\",\"type\":\"DataRange1d\"},\"x_scale\":{\"id\":\"1713\",\"type\":\"LinearScale\"},\"y_range\":{\"id\":\"1711\",\"type\":\"DataRange1d\"},\"y_scale\":{\"id\":\"1715\",\"type\":\"LinearScale\"}},\"id\":\"1706\",\"subtype\":\"Figure\",\"type\":\"Plot\"},{\"attributes\":{\"dimension\":1,\"ticker\":{\"id\":\"1723\",\"type\":\"BasicTicker\"}},\"id\":\"1726\",\"type\":\"Grid\"},{\"attributes\":{\"callback\":null,\"end\":20,\"js_property_callbacks\":{\"change:value\":[{\"id\":\"1746\",\"type\":\"CustomJS\"}]},\"start\":0,\"title\":\"time (days)\",\"value\":0},\"id\":\"1745\",\"type\":\"Slider\"},{\"attributes\":{},\"id\":\"1654\",\"type\":\"Selection\"},{\"attributes\":{\"axis_label\":\"x\",\"formatter\":{\"id\":\"1800\",\"type\":\"BasicTickFormatter\"},\"ticker\":{\"id\":\"1718\",\"type\":\"BasicTicker\"}},\"id\":\"1717\",\"type\":\"LinearAxis\"},{\"attributes\":{},\"id\":\"1727\",\"type\":\"PanTool\"},{\"attributes\":{\"overlay\":{\"id\":\"1803\",\"type\":\"BoxAnnotation\"}},\"id\":\"1729\",\"type\":\"BoxZoomTool\"},{\"attributes\":{\"callback\":null},\"id\":\"1709\",\"type\":\"DataRange1d\"},{\"attributes\":{\"args\":{\"source\":{\"id\":\"1565\",\"type\":\"ColumnDataSource\"},\"time\":{\"id\":\"1745\",\"type\":\"Slider\"}},\"code\":\"\\n    const data = source.data;\\n    const t = time.value;\\n    const x = data['x']\\n    const y = data['y']\\n    const ck1 = 0.62831853\\n    const ck2 = 0.9424777\\n    const ck3 = 0.7330382\\n    const k1 = 0.00628319\\n    const k2 = 0.00314159\\n    const k3 = 0.0020944\\n    const A = 0.001\\n    for (var i = 0; i < x.length; i++) {\\n        y[i] = A*Math.sin(k1*x[i])*Math.exp(ck1*t) + A*Math.sin(k2*x[i])*Math.exp(ck2*t) + A*Math.sin(k3*x[i])*Math.exp(ck3*t);\\n    }\\n    source.change.emit();\\n\"},\"id\":\"1746\",\"type\":\"CustomJS\"},{\"attributes\":{\"callback\":null,\"data\":{\"x\":{\"__ndarray__\":\"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\",\"dtype\":\"float64\",\"shape\":[3000]},\"y\":{\"__ndarray__\":\"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\",\"dtype\":\"float64\",\"shape\":[3000]}},\"selected\":{\"id\":\"1654\",\"type\":\"Selection\"},\"selection_policy\":{\"id\":\"1655\",\"type\":\"UnionRenderers\"}},\"id\":\"1565\",\"type\":\"ColumnDataSource\"},{\"attributes\":{},\"id\":\"1800\",\"type\":\"BasicTickFormatter\"},{\"attributes\":{\"data_source\":{\"id\":\"1565\",\"type\":\"ColumnDataSource\"},\"glyph\":{\"id\":\"1741\",\"type\":\"Line\"},\"hover_glyph\":null,\"muted_glyph\":null,\"nonselection_glyph\":{\"id\":\"1742\",\"type\":\"Line\"},\"selection_glyph\":null,\"view\":{\"id\":\"1744\",\"type\":\"CDSView\"}},\"id\":\"1743\",\"type\":\"GlyphRenderer\"},{\"attributes\":{},\"id\":\"1730\",\"type\":\"SaveTool\"}],\"root_ids\":[\"1747\"]},\"title\":\"Bokeh Application\",\"version\":\"1.4.0\"}};\n",
       "  var render_items = [{\"docid\":\"0ab7093f-2b28-4544-b93d-99ef6dd24148\",\"roots\":{\"1747\":\"e8d5538e-4bd5-43b7-a09f-c07406e7532a\"}}];\n",
       "  root.Bokeh.embed.embed_items_notebook(docs_json, render_items);\n",
       "\n",
       "  }\n",
       "  if (root.Bokeh !== undefined) {\n",
       "    embed_document(root);\n",
       "  } else {\n",
       "    var attempts = 0;\n",
       "    var timer = setInterval(function(root) {\n",
       "      if (root.Bokeh !== undefined) {\n",
       "        clearInterval(timer);\n",
       "        embed_document(root);\n",
       "      } else {\n",
       "        attempts++;\n",
       "        if (attempts > 100) {\n",
       "          clearInterval(timer);\n",
       "          console.log(\"Bokeh: ERROR: Unable to run BokehJS code because BokehJS library is missing\");\n",
       "        }\n",
       "      }\n",
       "    }, 10, root)\n",
       "  }\n",
       "})(window);"
      ],
      "application/vnd.bokehjs_exec.v0+json": ""
     },
     "metadata": {
      "application/vnd.bokehjs_exec.v0+json": {
       "id": "1747"
      }
     },
     "output_type": "display_data"
    }
   ],
   "source": [
    "# Plot\n",
    "plotting.output_notebook()\n",
    "\n",
    "p = plotting.figure(title='Three waves', x_axis_label='x',\n",
    "                    #x_axis_type=\"log\", #y_axis_type=\"log\",\n",
    "                   y_axis_label='A', plot_width=600)#, x_range=(10**-4, 1.),\n",
    "                   #y_range=(1e-12, 1)))\n",
    "    \n",
    "p.line('x', 'y', source=source, line_width=2, color='blue')\n",
    "\n",
    "time_slider = models.Slider(start=0, end=20, value=0, step=1, title=\"time (days)\")\n",
    "\n",
    "callback = models.CustomJS(args=dict(source=source, time=time_slider),\n",
    "                    code=\"\"\"\n",
    "    const data = source.data;\n",
    "    const t = time.value;\n",
    "    const x = data['x']\n",
    "    const y = data['y']\n",
    "    const ck1 = 0.62831853\n",
    "    const ck2 = 0.9424777\n",
    "    const ck3 = 0.7330382\n",
    "    const k1 = 0.00628319\n",
    "    const k2 = 0.00314159\n",
    "    const k3 = 0.0020944\n",
    "    const A = 0.001\n",
    "    for (var i = 0; i < x.length; i++) {\n",
    "        y[i] = A*Math.sin(k1*x[i])*Math.exp(ck1*t) + A*Math.sin(k2*x[i])*Math.exp(ck2*t) + A*Math.sin(k3*x[i])*Math.exp(ck3*t);\n",
    "    }\n",
    "    source.change.emit();\n",
    "\"\"\")\n",
    "\n",
    "time_slider.js_on_change('value', callback)\n",
    "\n",
    "layout = layouts.row(p, time_slider)\n",
    "\n",
    "plotting.show(layout)"
   ]
  },
  {
   "cell_type": "markdown",
   "metadata": {},
   "source": [
    "----"
   ]
  },
  {
   "cell_type": "markdown",
   "metadata": {},
   "source": [
    "# PS5-2 <font color='blue'>(C-R 10-2)</font> "
   ]
  },
  {
   "cell_type": "markdown",
   "metadata": {},
   "source": [
    "## Recall that a *necessary* condition for instability is that $\\beta_0 - d^2 \\bar u / dy^2$ vanish somewhere within the domain.\n",
    "\n",
    "## And, likewise, a *sufficient* condition for stability is that it does not."
   ]
  },
  {
   "cell_type": "markdown",
   "metadata": {},
   "source": [
    "## Another *necessary* condition for stability is that $(\\bar u - \\bar u_0) (\\beta_0 - d^2 \\bar u / dy^2)$ be positive in the domain, where $\\bar u_0$ is the value of $\\bar u(y)$ where the expression vanishes."
   ]
  },
  {
   "cell_type": "markdown",
   "metadata": {},
   "source": [
    "## Let us now go through the various functions:"
   ]
  },
  {
   "cell_type": "markdown",
   "metadata": {},
   "source": [
    "## $\\bar u(y) = U \\left ( 1 - \\frac{y^2}{L^2} \\right ) \\;\\; [-L \\le y \\le +L]$\n",
    "\n",
    "## $\\frac{d^2 \\bar u(y)}{d y^2} = \\frac{-2U}{L}$\n",
    "\n",
    "## As $\\beta_0$ is positive definite, $\\beta_0 - d^2 \\bar u / dy^2$ will also be positive definite.  Therefore, this flow field is *stable*."
   ]
  },
  {
   "cell_type": "markdown",
   "metadata": {},
   "source": [
    "## $\\bar u(y) = U \\sin \\frac{\\pi y}{L} \\;\\; [0 \\le y \\le L]$\n",
    "\n",
    "## $\\frac{d^2 \\bar u(y)}{d y^2} = \\frac{-U \\pi^2}{L^2} \\sin \\frac{\\pi y}{L}$\n",
    "\n",
    "## As $\\sin \\frac{\\pi y}{L}$ is positive definite for this domain, then $\\beta_0 - d^2 \\bar u / dy^2$ will also be positive definite.  Therefore, this flow field is *stable*."
   ]
  },
  {
   "cell_type": "markdown",
   "metadata": {},
   "source": [
    "## $\\bar u(y) = U \\cos \\frac{\\pi y}{L} \\;\\; [0 \\le y \\le L]$\n",
    "\n",
    "## $\\frac{d^2 \\bar u(y)}{d y^2} = \\frac{-U \\pi^2}{L^2} \\cos \\frac{\\pi y}{L}$\n",
    "\n",
    "##  $\\cos \\frac{\\pi y}{L}$ flips sign in this domain, so $\\beta_0 - d^2 \\bar u / dy^2$ can also flip sign and vanish.   This would occur when $\\beta_0 = \\frac{U \\pi^2}{L^2} \\cos \\frac{\\pi y}{L}$ implying\n",
    "\n",
    "## $\\bar u_0 = \\frac{\\beta_0 L^2}{\\pi^2}$\n",
    "\n",
    "## This sets a condition on $U$ for instability."
   ]
  },
  {
   "cell_type": "markdown",
   "metadata": {},
   "source": [
    "## $\\bar u(y) = U \\tanh \\frac{y}{L} \\;\\; [-\\infty \\le y \\le \\infty]$\n",
    "\n",
    "## $\\frac{d^2 \\bar u(y)}{d y^2} = \\frac{-2U}{L^2} \\frac{\\sinh \\frac{y}{L}}{\\cosh^3 \\frac{y}{L}}$\n",
    "\n",
    "## The 2nd derivative flips sign at $y=0$.  Therefore,  $\\beta_0 - d^2 \\bar u / dy^2$ can also flip sign and vanish.   The largest *negative* value of $d^2 \\bar u/dy^2$ is $\\approx 1.4 U / L^2$ so this sets an upper limit on $\\beta_0$ for instability, i.e.  $\\beta_0 < 1.4 U/L^2$"
   ]
  },
  {
   "cell_type": "markdown",
   "metadata": {},
   "source": [
    "----"
   ]
  },
  {
   "cell_type": "markdown",
   "metadata": {},
   "source": [
    "# PS5-3 <font color='blue'>(C-R 10-4)</font> -- Jet Stream"
   ]
  },
  {
   "cell_type": "markdown",
   "metadata": {},
   "source": [
    "## We will parameterize the jet stream with:\n",
    "\n",
    "## $\\bar u(y) = U \\, \\exp \\left ( -\\frac{y^2}{2L^2} \\right )$\n",
    "\n",
    "## where $y=0$ at $45^\\circ$N and $\\beta_0 = 1.61 \\times 10^{-11} \\, \\rm m^{-1} s^{-1}$, $U = 40$m/s, and $L = 570$km."
   ]
  },
  {
   "cell_type": "markdown",
   "metadata": {},
   "source": [
    "## This implies\n",
    "\n",
    "## $\\frac{d^2 \\bar u(y)}{d y^2} = \\frac{U}{L^2} \\, \\exp \\left ( -\\frac{y^2}{2L^2} \\right ) \\left [ \\frac{y^2}{L^2} -1 \\right ]$"
   ]
  },
  {
   "cell_type": "markdown",
   "metadata": {},
   "source": [
    "## Let's plot $\\beta_0 - d^2 \\bar u / dy^2$ in the domain $0 \\le y \\le 3000$km"
   ]
  },
  {
   "cell_type": "code",
   "execution_count": 26,
   "metadata": {},
   "outputs": [],
   "source": [
    "# constants\n",
    "U = 40 * unyt.m / unyt.s\n",
    "L = 570 * unyt.km\n",
    "beta_0 = 1.61e-11 / unyt.m / unyt.s"
   ]
  },
  {
   "cell_type": "code",
   "execution_count": 27,
   "metadata": {},
   "outputs": [],
   "source": [
    "y = np.linspace(0, 3000., 1000) * unyt.km"
   ]
  },
  {
   "cell_type": "code",
   "execution_count": 28,
   "metadata": {},
   "outputs": [],
   "source": [
    "d2u_dy2 = (U/L**2) * np.exp(- y**2 / 2 / L**2) * (y**2 / L**2 - 1)"
   ]
  },
  {
   "cell_type": "code",
   "execution_count": 33,
   "metadata": {},
   "outputs": [
    {
     "data": {
      "text/html": [
       "\n",
       "    <div class=\"bk-root\">\n",
       "        <a href=\"https://bokeh.org\" target=\"_blank\" class=\"bk-logo bk-logo-small bk-logo-notebook\"></a>\n",
       "        <span id=\"2540\">Loading BokehJS ...</span>\n",
       "    </div>"
      ]
     },
     "metadata": {},
     "output_type": "display_data"
    },
    {
     "data": {
      "application/javascript": [
       "\n",
       "(function(root) {\n",
       "  function now() {\n",
       "    return new Date();\n",
       "  }\n",
       "\n",
       "  var force = true;\n",
       "\n",
       "  if (typeof root._bokeh_onload_callbacks === \"undefined\" || force === true) {\n",
       "    root._bokeh_onload_callbacks = [];\n",
       "    root._bokeh_is_loading = undefined;\n",
       "  }\n",
       "\n",
       "  var JS_MIME_TYPE = 'application/javascript';\n",
       "  var HTML_MIME_TYPE = 'text/html';\n",
       "  var EXEC_MIME_TYPE = 'application/vnd.bokehjs_exec.v0+json';\n",
       "  var CLASS_NAME = 'output_bokeh rendered_html';\n",
       "\n",
       "  /**\n",
       "   * Render data to the DOM node\n",
       "   */\n",
       "  function render(props, node) {\n",
       "    var script = document.createElement(\"script\");\n",
       "    node.appendChild(script);\n",
       "  }\n",
       "\n",
       "  /**\n",
       "   * Handle when an output is cleared or removed\n",
       "   */\n",
       "  function handleClearOutput(event, handle) {\n",
       "    var cell = handle.cell;\n",
       "\n",
       "    var id = cell.output_area._bokeh_element_id;\n",
       "    var server_id = cell.output_area._bokeh_server_id;\n",
       "    // Clean up Bokeh references\n",
       "    if (id != null && id in Bokeh.index) {\n",
       "      Bokeh.index[id].model.document.clear();\n",
       "      delete Bokeh.index[id];\n",
       "    }\n",
       "\n",
       "    if (server_id !== undefined) {\n",
       "      // Clean up Bokeh references\n",
       "      var cmd = \"from bokeh.io.state import curstate; print(curstate().uuid_to_server['\" + server_id + \"'].get_sessions()[0].document.roots[0]._id)\";\n",
       "      cell.notebook.kernel.execute(cmd, {\n",
       "        iopub: {\n",
       "          output: function(msg) {\n",
       "            var id = msg.content.text.trim();\n",
       "            if (id in Bokeh.index) {\n",
       "              Bokeh.index[id].model.document.clear();\n",
       "              delete Bokeh.index[id];\n",
       "            }\n",
       "          }\n",
       "        }\n",
       "      });\n",
       "      // Destroy server and session\n",
       "      var cmd = \"import bokeh.io.notebook as ion; ion.destroy_server('\" + server_id + \"')\";\n",
       "      cell.notebook.kernel.execute(cmd);\n",
       "    }\n",
       "  }\n",
       "\n",
       "  /**\n",
       "   * Handle when a new output is added\n",
       "   */\n",
       "  function handleAddOutput(event, handle) {\n",
       "    var output_area = handle.output_area;\n",
       "    var output = handle.output;\n",
       "\n",
       "    // limit handleAddOutput to display_data with EXEC_MIME_TYPE content only\n",
       "    if ((output.output_type != \"display_data\") || (!output.data.hasOwnProperty(EXEC_MIME_TYPE))) {\n",
       "      return\n",
       "    }\n",
       "\n",
       "    var toinsert = output_area.element.find(\".\" + CLASS_NAME.split(' ')[0]);\n",
       "\n",
       "    if (output.metadata[EXEC_MIME_TYPE][\"id\"] !== undefined) {\n",
       "      toinsert[toinsert.length - 1].firstChild.textContent = output.data[JS_MIME_TYPE];\n",
       "      // store reference to embed id on output_area\n",
       "      output_area._bokeh_element_id = output.metadata[EXEC_MIME_TYPE][\"id\"];\n",
       "    }\n",
       "    if (output.metadata[EXEC_MIME_TYPE][\"server_id\"] !== undefined) {\n",
       "      var bk_div = document.createElement(\"div\");\n",
       "      bk_div.innerHTML = output.data[HTML_MIME_TYPE];\n",
       "      var script_attrs = bk_div.children[0].attributes;\n",
       "      for (var i = 0; i < script_attrs.length; i++) {\n",
       "        toinsert[toinsert.length - 1].firstChild.setAttribute(script_attrs[i].name, script_attrs[i].value);\n",
       "      }\n",
       "      // store reference to server id on output_area\n",
       "      output_area._bokeh_server_id = output.metadata[EXEC_MIME_TYPE][\"server_id\"];\n",
       "    }\n",
       "  }\n",
       "\n",
       "  function register_renderer(events, OutputArea) {\n",
       "\n",
       "    function append_mime(data, metadata, element) {\n",
       "      // create a DOM node to render to\n",
       "      var toinsert = this.create_output_subarea(\n",
       "        metadata,\n",
       "        CLASS_NAME,\n",
       "        EXEC_MIME_TYPE\n",
       "      );\n",
       "      this.keyboard_manager.register_events(toinsert);\n",
       "      // Render to node\n",
       "      var props = {data: data, metadata: metadata[EXEC_MIME_TYPE]};\n",
       "      render(props, toinsert[toinsert.length - 1]);\n",
       "      element.append(toinsert);\n",
       "      return toinsert\n",
       "    }\n",
       "\n",
       "    /* Handle when an output is cleared or removed */\n",
       "    events.on('clear_output.CodeCell', handleClearOutput);\n",
       "    events.on('delete.Cell', handleClearOutput);\n",
       "\n",
       "    /* Handle when a new output is added */\n",
       "    events.on('output_added.OutputArea', handleAddOutput);\n",
       "\n",
       "    /**\n",
       "     * Register the mime type and append_mime function with output_area\n",
       "     */\n",
       "    OutputArea.prototype.register_mime_type(EXEC_MIME_TYPE, append_mime, {\n",
       "      /* Is output safe? */\n",
       "      safe: true,\n",
       "      /* Index of renderer in `output_area.display_order` */\n",
       "      index: 0\n",
       "    });\n",
       "  }\n",
       "\n",
       "  // register the mime type if in Jupyter Notebook environment and previously unregistered\n",
       "  if (root.Jupyter !== undefined) {\n",
       "    var events = require('base/js/events');\n",
       "    var OutputArea = require('notebook/js/outputarea').OutputArea;\n",
       "\n",
       "    if (OutputArea.prototype.mime_types().indexOf(EXEC_MIME_TYPE) == -1) {\n",
       "      register_renderer(events, OutputArea);\n",
       "    }\n",
       "  }\n",
       "\n",
       "  \n",
       "  if (typeof (root._bokeh_timeout) === \"undefined\" || force === true) {\n",
       "    root._bokeh_timeout = Date.now() + 5000;\n",
       "    root._bokeh_failed_load = false;\n",
       "  }\n",
       "\n",
       "  var NB_LOAD_WARNING = {'data': {'text/html':\n",
       "     \"<div style='background-color: #fdd'>\\n\"+\n",
       "     \"<p>\\n\"+\n",
       "     \"BokehJS does not appear to have successfully loaded. If loading BokehJS from CDN, this \\n\"+\n",
       "     \"may be due to a slow or bad network connection. Possible fixes:\\n\"+\n",
       "     \"</p>\\n\"+\n",
       "     \"<ul>\\n\"+\n",
       "     \"<li>re-rerun `output_notebook()` to attempt to load from CDN again, or</li>\\n\"+\n",
       "     \"<li>use INLINE resources instead, as so:</li>\\n\"+\n",
       "     \"</ul>\\n\"+\n",
       "     \"<code>\\n\"+\n",
       "     \"from bokeh.resources import INLINE\\n\"+\n",
       "     \"output_notebook(resources=INLINE)\\n\"+\n",
       "     \"</code>\\n\"+\n",
       "     \"</div>\"}};\n",
       "\n",
       "  function display_loaded() {\n",
       "    var el = document.getElementById(\"2540\");\n",
       "    if (el != null) {\n",
       "      el.textContent = \"BokehJS is loading...\";\n",
       "    }\n",
       "    if (root.Bokeh !== undefined) {\n",
       "      if (el != null) {\n",
       "        el.textContent = \"BokehJS \" + root.Bokeh.version + \" successfully loaded.\";\n",
       "      }\n",
       "    } else if (Date.now() < root._bokeh_timeout) {\n",
       "      setTimeout(display_loaded, 100)\n",
       "    }\n",
       "  }\n",
       "\n",
       "\n",
       "  function run_callbacks() {\n",
       "    try {\n",
       "      root._bokeh_onload_callbacks.forEach(function(callback) {\n",
       "        if (callback != null)\n",
       "          callback();\n",
       "      });\n",
       "    } finally {\n",
       "      delete root._bokeh_onload_callbacks\n",
       "    }\n",
       "    console.debug(\"Bokeh: all callbacks have finished\");\n",
       "  }\n",
       "\n",
       "  function load_libs(css_urls, js_urls, callback) {\n",
       "    if (css_urls == null) css_urls = [];\n",
       "    if (js_urls == null) js_urls = [];\n",
       "\n",
       "    root._bokeh_onload_callbacks.push(callback);\n",
       "    if (root._bokeh_is_loading > 0) {\n",
       "      console.debug(\"Bokeh: BokehJS is being loaded, scheduling callback at\", now());\n",
       "      return null;\n",
       "    }\n",
       "    if (js_urls == null || js_urls.length === 0) {\n",
       "      run_callbacks();\n",
       "      return null;\n",
       "    }\n",
       "    console.debug(\"Bokeh: BokehJS not loaded, scheduling load and callback at\", now());\n",
       "    root._bokeh_is_loading = css_urls.length + js_urls.length;\n",
       "\n",
       "    function on_load() {\n",
       "      root._bokeh_is_loading--;\n",
       "      if (root._bokeh_is_loading === 0) {\n",
       "        console.debug(\"Bokeh: all BokehJS libraries/stylesheets loaded\");\n",
       "        run_callbacks()\n",
       "      }\n",
       "    }\n",
       "\n",
       "    function on_error() {\n",
       "      console.error(\"failed to load \" + url);\n",
       "    }\n",
       "\n",
       "    for (var i = 0; i < css_urls.length; i++) {\n",
       "      var url = css_urls[i];\n",
       "      const element = document.createElement(\"link\");\n",
       "      element.onload = on_load;\n",
       "      element.onerror = on_error;\n",
       "      element.rel = \"stylesheet\";\n",
       "      element.type = \"text/css\";\n",
       "      element.href = url;\n",
       "      console.debug(\"Bokeh: injecting link tag for BokehJS stylesheet: \", url);\n",
       "      document.body.appendChild(element);\n",
       "    }\n",
       "\n",
       "    for (var i = 0; i < js_urls.length; i++) {\n",
       "      var url = js_urls[i];\n",
       "      var element = document.createElement('script');\n",
       "      element.onload = on_load;\n",
       "      element.onerror = on_error;\n",
       "      element.async = false;\n",
       "      element.src = url;\n",
       "      console.debug(\"Bokeh: injecting script tag for BokehJS library: \", url);\n",
       "      document.head.appendChild(element);\n",
       "    }\n",
       "  };var element = document.getElementById(\"2540\");\n",
       "  if (element == null) {\n",
       "    console.error(\"Bokeh: ERROR: autoload.js configured with elementid '2540' but no matching script tag was found. \")\n",
       "    return false;\n",
       "  }\n",
       "\n",
       "  function inject_raw_css(css) {\n",
       "    const element = document.createElement(\"style\");\n",
       "    element.appendChild(document.createTextNode(css));\n",
       "    document.body.appendChild(element);\n",
       "  }\n",
       "\n",
       "  \n",
       "  var js_urls = [\"https://cdn.pydata.org/bokeh/release/bokeh-1.4.0.min.js\", \"https://cdn.pydata.org/bokeh/release/bokeh-widgets-1.4.0.min.js\", \"https://cdn.pydata.org/bokeh/release/bokeh-tables-1.4.0.min.js\", \"https://cdn.pydata.org/bokeh/release/bokeh-gl-1.4.0.min.js\"];\n",
       "  var css_urls = [];\n",
       "  \n",
       "\n",
       "  var inline_js = [\n",
       "    function(Bokeh) {\n",
       "      Bokeh.set_log_level(\"info\");\n",
       "    },\n",
       "    function(Bokeh) {\n",
       "    \n",
       "    \n",
       "    }\n",
       "  ];\n",
       "\n",
       "  function run_inline_js() {\n",
       "    \n",
       "    if (root.Bokeh !== undefined || force === true) {\n",
       "      \n",
       "    for (var i = 0; i < inline_js.length; i++) {\n",
       "      inline_js[i].call(root, root.Bokeh);\n",
       "    }\n",
       "    if (force === true) {\n",
       "        display_loaded();\n",
       "      }} else if (Date.now() < root._bokeh_timeout) {\n",
       "      setTimeout(run_inline_js, 100);\n",
       "    } else if (!root._bokeh_failed_load) {\n",
       "      console.log(\"Bokeh: BokehJS failed to load within specified timeout.\");\n",
       "      root._bokeh_failed_load = true;\n",
       "    } else if (force !== true) {\n",
       "      var cell = $(document.getElementById(\"2540\")).parents('.cell').data().cell;\n",
       "      cell.output_area.append_execute_result(NB_LOAD_WARNING)\n",
       "    }\n",
       "\n",
       "  }\n",
       "\n",
       "  if (root._bokeh_is_loading === 0) {\n",
       "    console.debug(\"Bokeh: BokehJS loaded, going straight to plotting\");\n",
       "    run_inline_js();\n",
       "  } else {\n",
       "    load_libs(css_urls, js_urls, function() {\n",
       "      console.debug(\"Bokeh: BokehJS plotting callback run at\", now());\n",
       "      run_inline_js();\n",
       "    });\n",
       "  }\n",
       "}(window));"
      ],
      "application/vnd.bokehjs_load.v0+json": "\n(function(root) {\n  function now() {\n    return new Date();\n  }\n\n  var force = true;\n\n  if (typeof root._bokeh_onload_callbacks === \"undefined\" || force === true) {\n    root._bokeh_onload_callbacks = [];\n    root._bokeh_is_loading = undefined;\n  }\n\n  \n\n  \n  if (typeof (root._bokeh_timeout) === \"undefined\" || force === true) {\n    root._bokeh_timeout = Date.now() + 5000;\n    root._bokeh_failed_load = false;\n  }\n\n  var NB_LOAD_WARNING = {'data': {'text/html':\n     \"<div style='background-color: #fdd'>\\n\"+\n     \"<p>\\n\"+\n     \"BokehJS does not appear to have successfully loaded. If loading BokehJS from CDN, this \\n\"+\n     \"may be due to a slow or bad network connection. Possible fixes:\\n\"+\n     \"</p>\\n\"+\n     \"<ul>\\n\"+\n     \"<li>re-rerun `output_notebook()` to attempt to load from CDN again, or</li>\\n\"+\n     \"<li>use INLINE resources instead, as so:</li>\\n\"+\n     \"</ul>\\n\"+\n     \"<code>\\n\"+\n     \"from bokeh.resources import INLINE\\n\"+\n     \"output_notebook(resources=INLINE)\\n\"+\n     \"</code>\\n\"+\n     \"</div>\"}};\n\n  function display_loaded() {\n    var el = document.getElementById(\"2540\");\n    if (el != null) {\n      el.textContent = \"BokehJS is loading...\";\n    }\n    if (root.Bokeh !== undefined) {\n      if (el != null) {\n        el.textContent = \"BokehJS \" + root.Bokeh.version + \" successfully loaded.\";\n      }\n    } else if (Date.now() < root._bokeh_timeout) {\n      setTimeout(display_loaded, 100)\n    }\n  }\n\n\n  function run_callbacks() {\n    try {\n      root._bokeh_onload_callbacks.forEach(function(callback) {\n        if (callback != null)\n          callback();\n      });\n    } finally {\n      delete root._bokeh_onload_callbacks\n    }\n    console.debug(\"Bokeh: all callbacks have finished\");\n  }\n\n  function load_libs(css_urls, js_urls, callback) {\n    if (css_urls == null) css_urls = [];\n    if (js_urls == null) js_urls = [];\n\n    root._bokeh_onload_callbacks.push(callback);\n    if (root._bokeh_is_loading > 0) {\n      console.debug(\"Bokeh: BokehJS is being loaded, scheduling callback at\", now());\n      return null;\n    }\n    if (js_urls == null || js_urls.length === 0) {\n      run_callbacks();\n      return null;\n    }\n    console.debug(\"Bokeh: BokehJS not loaded, scheduling load and callback at\", now());\n    root._bokeh_is_loading = css_urls.length + js_urls.length;\n\n    function on_load() {\n      root._bokeh_is_loading--;\n      if (root._bokeh_is_loading === 0) {\n        console.debug(\"Bokeh: all BokehJS libraries/stylesheets loaded\");\n        run_callbacks()\n      }\n    }\n\n    function on_error() {\n      console.error(\"failed to load \" + url);\n    }\n\n    for (var i = 0; i < css_urls.length; i++) {\n      var url = css_urls[i];\n      const element = document.createElement(\"link\");\n      element.onload = on_load;\n      element.onerror = on_error;\n      element.rel = \"stylesheet\";\n      element.type = \"text/css\";\n      element.href = url;\n      console.debug(\"Bokeh: injecting link tag for BokehJS stylesheet: \", url);\n      document.body.appendChild(element);\n    }\n\n    for (var i = 0; i < js_urls.length; i++) {\n      var url = js_urls[i];\n      var element = document.createElement('script');\n      element.onload = on_load;\n      element.onerror = on_error;\n      element.async = false;\n      element.src = url;\n      console.debug(\"Bokeh: injecting script tag for BokehJS library: \", url);\n      document.head.appendChild(element);\n    }\n  };var element = document.getElementById(\"2540\");\n  if (element == null) {\n    console.error(\"Bokeh: ERROR: autoload.js configured with elementid '2540' but no matching script tag was found. \")\n    return false;\n  }\n\n  function inject_raw_css(css) {\n    const element = document.createElement(\"style\");\n    element.appendChild(document.createTextNode(css));\n    document.body.appendChild(element);\n  }\n\n  \n  var js_urls = [\"https://cdn.pydata.org/bokeh/release/bokeh-1.4.0.min.js\", \"https://cdn.pydata.org/bokeh/release/bokeh-widgets-1.4.0.min.js\", \"https://cdn.pydata.org/bokeh/release/bokeh-tables-1.4.0.min.js\", \"https://cdn.pydata.org/bokeh/release/bokeh-gl-1.4.0.min.js\"];\n  var css_urls = [];\n  \n\n  var inline_js = [\n    function(Bokeh) {\n      Bokeh.set_log_level(\"info\");\n    },\n    function(Bokeh) {\n    \n    \n    }\n  ];\n\n  function run_inline_js() {\n    \n    if (root.Bokeh !== undefined || force === true) {\n      \n    for (var i = 0; i < inline_js.length; i++) {\n      inline_js[i].call(root, root.Bokeh);\n    }\n    if (force === true) {\n        display_loaded();\n      }} else if (Date.now() < root._bokeh_timeout) {\n      setTimeout(run_inline_js, 100);\n    } else if (!root._bokeh_failed_load) {\n      console.log(\"Bokeh: BokehJS failed to load within specified timeout.\");\n      root._bokeh_failed_load = true;\n    } else if (force !== true) {\n      var cell = $(document.getElementById(\"2540\")).parents('.cell').data().cell;\n      cell.output_area.append_execute_result(NB_LOAD_WARNING)\n    }\n\n  }\n\n  if (root._bokeh_is_loading === 0) {\n    console.debug(\"Bokeh: BokehJS loaded, going straight to plotting\");\n    run_inline_js();\n  } else {\n    load_libs(css_urls, js_urls, function() {\n      console.debug(\"Bokeh: BokehJS plotting callback run at\", now());\n      run_inline_js();\n    });\n  }\n}(window));"
     },
     "metadata": {},
     "output_type": "display_data"
    },
    {
     "name": "stderr",
     "output_type": "stream",
     "text": [
      "BokehDeprecationWarning: 'legend' keyword is deprecated, use explicit 'legend_label', 'legend_field', or 'legend_group' keywords instead\n"
     ]
    },
    {
     "data": {
      "text/html": [
       "\n",
       "\n",
       "\n",
       "\n",
       "\n",
       "\n",
       "  <div class=\"bk-root\" id=\"0b93f747-a95b-4f9e-8ff5-0429bb87ac9a\" data-root-id=\"2541\"></div>\n"
      ]
     },
     "metadata": {},
     "output_type": "display_data"
    },
    {
     "data": {
      "application/javascript": [
       "(function(root) {\n",
       "  function embed_document(root) {\n",
       "    \n",
       "  var docs_json = {\"fd25af3b-9a13-4721-91f6-0904aac4998c\":{\"roots\":{\"references\":[{\"attributes\":{\"below\":[{\"id\":\"2552\",\"type\":\"LinearAxis\"}],\"center\":[{\"id\":\"2556\",\"type\":\"Grid\"},{\"id\":\"2561\",\"type\":\"Grid\"},{\"id\":\"2586\",\"type\":\"Legend\"}],\"left\":[{\"id\":\"2557\",\"type\":\"LinearAxis\"}],\"renderers\":[{\"id\":\"2578\",\"type\":\"GlyphRenderer\"}],\"title\":{\"id\":\"2542\",\"type\":\"Title\"},\"toolbar\":{\"id\":\"2568\",\"type\":\"Toolbar\"},\"x_range\":{\"id\":\"2544\",\"type\":\"DataRange1d\"},\"x_scale\":{\"id\":\"2548\",\"type\":\"LinearScale\"},\"y_range\":{\"id\":\"2546\",\"type\":\"DataRange1d\"},\"y_scale\":{\"id\":\"2550\",\"type\":\"LinearScale\"}},\"id\":\"2541\",\"subtype\":\"Figure\",\"type\":\"Plot\"},{\"attributes\":{\"label\":{\"value\":\"difference\"},\"renderers\":[{\"id\":\"2578\",\"type\":\"GlyphRenderer\"}]},\"id\":\"2587\",\"type\":\"LegendItem\"},{\"attributes\":{\"source\":{\"id\":\"2575\",\"type\":\"ColumnDataSource\"}},\"id\":\"2579\",\"type\":\"CDSView\"},{\"attributes\":{\"callback\":null},\"id\":\"2544\",\"type\":\"DataRange1d\"},{\"attributes\":{\"line_alpha\":0.1,\"line_color\":\"#1f77b4\",\"line_width\":2,\"x\":{\"field\":\"x\"},\"y\":{\"field\":\"y\"}},\"id\":\"2577\",\"type\":\"Line\"},{\"attributes\":{\"text\":\"Jet Stream\"},\"id\":\"2542\",\"type\":\"Title\"},{\"attributes\":{},\"id\":\"2567\",\"type\":\"HelpTool\"},{\"attributes\":{},\"id\":\"2582\",\"type\":\"BasicTickFormatter\"},{\"attributes\":{},\"id\":\"2558\",\"type\":\"BasicTicker\"},{\"attributes\":{},\"id\":\"2553\",\"type\":\"BasicTicker\"},{\"attributes\":{},\"id\":\"2566\",\"type\":\"ResetTool\"},{\"attributes\":{\"items\":[{\"id\":\"2587\",\"type\":\"LegendItem\"}]},\"id\":\"2586\",\"type\":\"Legend\"},{\"attributes\":{},\"id\":\"2584\",\"type\":\"BasicTickFormatter\"},{\"attributes\":{\"bottom_units\":\"screen\",\"fill_alpha\":{\"value\":0.5},\"fill_color\":{\"value\":\"lightgrey\"},\"left_units\":\"screen\",\"level\":\"overlay\",\"line_alpha\":{\"value\":1.0},\"line_color\":{\"value\":\"black\"},\"line_dash\":[4,4],\"line_width\":{\"value\":2},\"render_mode\":\"css\",\"right_units\":\"screen\",\"top_units\":\"screen\"},\"id\":\"2585\",\"type\":\"BoxAnnotation\"},{\"attributes\":{\"overlay\":{\"id\":\"2585\",\"type\":\"BoxAnnotation\"}},\"id\":\"2564\",\"type\":\"BoxZoomTool\"},{\"attributes\":{\"axis_label\":\"beta - d^2 u/dy^2\",\"axis_label_text_font_size\":{\"value\":\"16pt\"},\"formatter\":{\"id\":\"2582\",\"type\":\"BasicTickFormatter\"},\"major_label_text_font_size\":{\"value\":\"16pt\"},\"ticker\":{\"id\":\"2558\",\"type\":\"BasicTicker\"}},\"id\":\"2557\",\"type\":\"LinearAxis\"},{\"attributes\":{\"ticker\":{\"id\":\"2553\",\"type\":\"BasicTicker\"}},\"id\":\"2556\",\"type\":\"Grid\"},{\"attributes\":{\"active_drag\":\"auto\",\"active_inspect\":\"auto\",\"active_multi\":null,\"active_scroll\":\"auto\",\"active_tap\":\"auto\",\"tools\":[{\"id\":\"2562\",\"type\":\"PanTool\"},{\"id\":\"2563\",\"type\":\"WheelZoomTool\"},{\"id\":\"2564\",\"type\":\"BoxZoomTool\"},{\"id\":\"2565\",\"type\":\"SaveTool\"},{\"id\":\"2566\",\"type\":\"ResetTool\"},{\"id\":\"2567\",\"type\":\"HelpTool\"}]},\"id\":\"2568\",\"type\":\"Toolbar\"},{\"attributes\":{\"data_source\":{\"id\":\"2575\",\"type\":\"ColumnDataSource\"},\"glyph\":{\"id\":\"2576\",\"type\":\"Line\"},\"hover_glyph\":null,\"muted_glyph\":null,\"nonselection_glyph\":{\"id\":\"2577\",\"type\":\"Line\"},\"selection_glyph\":null,\"view\":{\"id\":\"2579\",\"type\":\"CDSView\"}},\"id\":\"2578\",\"type\":\"GlyphRenderer\"},{\"attributes\":{\"callback\":null,\"data\":{\"x\":{\"__ndarray__\":\"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\",\"dtype\":\"float64\",\"shape\":[1000]},\"y\":{\"__ndarray__\":\"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\",\"dtype\":\"float64\",\"shape\":[1000]}},\"selected\":{\"id\":\"2681\",\"type\":\"Selection\"},\"selection_policy\":{\"id\":\"2682\",\"type\":\"UnionRenderers\"}},\"id\":\"2575\",\"type\":\"ColumnDataSource\"},{\"attributes\":{},\"id\":\"2682\",\"type\":\"UnionRenderers\"},{\"attributes\":{\"line_color\":\"#1f77b4\",\"line_width\":2,\"x\":{\"field\":\"x\"},\"y\":{\"field\":\"y\"}},\"id\":\"2576\",\"type\":\"Line\"},{\"attributes\":{},\"id\":\"2681\",\"type\":\"Selection\"},{\"attributes\":{},\"id\":\"2550\",\"type\":\"LinearScale\"},{\"attributes\":{},\"id\":\"2562\",\"type\":\"PanTool\"},{\"attributes\":{\"dimension\":1,\"ticker\":{\"id\":\"2558\",\"type\":\"BasicTicker\"}},\"id\":\"2561\",\"type\":\"Grid\"},{\"attributes\":{},\"id\":\"2548\",\"type\":\"LinearScale\"},{\"attributes\":{\"callback\":null},\"id\":\"2546\",\"type\":\"DataRange1d\"},{\"attributes\":{\"axis_label\":\"y\",\"axis_label_text_font_size\":{\"value\":\"16pt\"},\"formatter\":{\"id\":\"2584\",\"type\":\"BasicTickFormatter\"},\"major_label_text_font_size\":{\"value\":\"16pt\"},\"ticker\":{\"id\":\"2553\",\"type\":\"BasicTicker\"}},\"id\":\"2552\",\"type\":\"LinearAxis\"},{\"attributes\":{},\"id\":\"2563\",\"type\":\"WheelZoomTool\"},{\"attributes\":{},\"id\":\"2565\",\"type\":\"SaveTool\"}],\"root_ids\":[\"2541\"]},\"title\":\"Bokeh Application\",\"version\":\"1.4.0\"}};\n",
       "  var render_items = [{\"docid\":\"fd25af3b-9a13-4721-91f6-0904aac4998c\",\"roots\":{\"2541\":\"0b93f747-a95b-4f9e-8ff5-0429bb87ac9a\"}}];\n",
       "  root.Bokeh.embed.embed_items_notebook(docs_json, render_items);\n",
       "\n",
       "  }\n",
       "  if (root.Bokeh !== undefined) {\n",
       "    embed_document(root);\n",
       "  } else {\n",
       "    var attempts = 0;\n",
       "    var timer = setInterval(function(root) {\n",
       "      if (root.Bokeh !== undefined) {\n",
       "        clearInterval(timer);\n",
       "        embed_document(root);\n",
       "      } else {\n",
       "        attempts++;\n",
       "        if (attempts > 100) {\n",
       "          clearInterval(timer);\n",
       "          console.log(\"Bokeh: ERROR: Unable to run BokehJS code because BokehJS library is missing\");\n",
       "        }\n",
       "      }\n",
       "    }, 10, root)\n",
       "  }\n",
       "})(window);"
      ],
      "application/vnd.bokehjs_exec.v0+json": ""
     },
     "metadata": {
      "application/vnd.bokehjs_exec.v0+json": {
       "id": "2541"
      }
     },
     "output_type": "display_data"
    }
   ],
   "source": [
    "# Plot\n",
    "plotting.output_notebook()\n",
    "\n",
    "p = plotting.figure(title='Jet Stream', x_axis_label='y',\n",
    "                   # x_axis_type=\"log\", #y_axis_type=\"log\",\n",
    "                    plot_width=600,\n",
    "                   y_axis_label='beta - d^2 u/dy^2')#, x_range=(10**-4, 1.),\n",
    "                   #y_range=(1e-12, 1))\n",
    "\n",
    "# Plot em\n",
    "p.line(y, beta_0-d2u_dy2, legend='difference', line_width=2)\n",
    "#p.scatter(kdx_vals, error_fb, legend='fb', line_width=2, color='red')\n",
    "#p.scatter(kdx_vals, error_sc, legend='sc', line_width=2, color='green')\n",
    "#p.scatter(kdx_vals, error_4, legend='4', line_width=2, color='black')\n",
    "\n",
    "\n",
    "p.legend.location = \"top_right\"\n",
    "\n",
    "os_plotting.bokeh_set_fontsize(p, 16)\n",
    "\n",
    "plotting.show(p)"
   ]
  },
  {
   "cell_type": "markdown",
   "metadata": {},
   "source": [
    "## We can see that $\\beta_0 - d^2 \\bar u / dy^2$ crosses 0 at $y \\approx$ 630 and 1600km."
   ]
  },
  {
   "cell_type": "markdown",
   "metadata": {},
   "source": [
    "## Let's solve for these numerically"
   ]
  },
  {
   "cell_type": "code",
   "execution_count": 40,
   "metadata": {},
   "outputs": [
    {
     "ename": "IndexError",
     "evalue": "too many indices for array",
     "output_type": "error",
     "traceback": [
      "\u001b[0;31m---------------------------------------------------------------------------\u001b[0m",
      "\u001b[0;31mIndexError\u001b[0m                                Traceback (most recent call last)",
      "\u001b[0;32m<ipython-input-40-4c2562e7dfcd>\u001b[0m in \u001b[0;36m<module>\u001b[0;34m\u001b[0m\n\u001b[0;32m----> 1\u001b[0;31m \u001b[0mU\u001b[0m\u001b[0;34m.\u001b[0m\u001b[0mvalue\u001b[0m\u001b[0;34m[\u001b[0m\u001b[0;36m0\u001b[0m\u001b[0;34m]\u001b[0m\u001b[0;34m\u001b[0m\u001b[0;34m\u001b[0m\u001b[0m\n\u001b[0m",
      "\u001b[0;31mIndexError\u001b[0m: too many indices for array"
     ]
    }
   ],
   "source": [
    "U.value"
   ]
  },
  {
   "cell_type": "code",
   "execution_count": 42,
   "metadata": {},
   "outputs": [],
   "source": [
    "U0 = float(U.value)\n",
    "L0 = float(L.value)\n",
    "beta_00 = float(beta_0.value)\n",
    "def diff(y):\n",
    "    d2u_dy2 = (U0/L0**2) * np.exp(- y**2 / 2 / L0**2) * (y**2 / L0**2 - 1)\n",
    "    return np.abs(beta_00 - d2u_dy2)"
   ]
  },
  {
   "cell_type": "markdown",
   "metadata": {},
   "source": [
    "### First $y \\approx 630$km"
   ]
  },
  {
   "cell_type": "code",
   "execution_count": 48,
   "metadata": {},
   "outputs": [
    {
     "ename": "ValueError",
     "evalue": "Jacobian is required for Newton-CG method",
     "output_type": "error",
     "traceback": [
      "\u001b[0;31m---------------------------------------------------------------------------\u001b[0m",
      "\u001b[0;31mValueError\u001b[0m                                Traceback (most recent call last)",
      "\u001b[0;32m<ipython-input-48-fdf0146d83e6>\u001b[0m in \u001b[0;36m<module>\u001b[0;34m\u001b[0m\n\u001b[0;32m----> 1\u001b[0;31m \u001b[0moptimize\u001b[0m\u001b[0;34m.\u001b[0m\u001b[0mminimize\u001b[0m\u001b[0;34m(\u001b[0m\u001b[0mdiff\u001b[0m\u001b[0;34m,\u001b[0m \u001b[0;36m630.\u001b[0m\u001b[0;34m,\u001b[0m \u001b[0mtol\u001b[0m\u001b[0;34m=\u001b[0m\u001b[0;36m1e-6\u001b[0m\u001b[0;34m,\u001b[0m \u001b[0mmethod\u001b[0m\u001b[0;34m=\u001b[0m\u001b[0;34m'Newton-CG'\u001b[0m\u001b[0;34m)\u001b[0m\u001b[0;34m\u001b[0m\u001b[0;34m\u001b[0m\u001b[0m\n\u001b[0m",
      "\u001b[0;32m~/Projects/anaconda3/lib/python3.7/site-packages/scipy/optimize/_minimize.py\u001b[0m in \u001b[0;36mminimize\u001b[0;34m(fun, x0, args, method, jac, hess, hessp, bounds, constraints, tol, callback, options)\u001b[0m\n\u001b[1;32m    605\u001b[0m     \u001b[0;32melif\u001b[0m \u001b[0mmeth\u001b[0m \u001b[0;34m==\u001b[0m \u001b[0;34m'newton-cg'\u001b[0m\u001b[0;34m:\u001b[0m\u001b[0;34m\u001b[0m\u001b[0;34m\u001b[0m\u001b[0m\n\u001b[1;32m    606\u001b[0m         return _minimize_newtoncg(fun, x0, args, jac, hess, hessp, callback,\n\u001b[0;32m--> 607\u001b[0;31m                                   **options)\n\u001b[0m\u001b[1;32m    608\u001b[0m     \u001b[0;32melif\u001b[0m \u001b[0mmeth\u001b[0m \u001b[0;34m==\u001b[0m \u001b[0;34m'l-bfgs-b'\u001b[0m\u001b[0;34m:\u001b[0m\u001b[0;34m\u001b[0m\u001b[0;34m\u001b[0m\u001b[0m\n\u001b[1;32m    609\u001b[0m         return _minimize_lbfgsb(fun, x0, args, jac, bounds,\n",
      "\u001b[0;32m~/Projects/anaconda3/lib/python3.7/site-packages/scipy/optimize/optimize.py\u001b[0m in \u001b[0;36m_minimize_newtoncg\u001b[0;34m(fun, x0, args, jac, hess, hessp, callback, xtol, eps, maxiter, disp, return_all, **unknown_options)\u001b[0m\n\u001b[1;32m   1545\u001b[0m     \u001b[0m_check_unknown_options\u001b[0m\u001b[0;34m(\u001b[0m\u001b[0munknown_options\u001b[0m\u001b[0;34m)\u001b[0m\u001b[0;34m\u001b[0m\u001b[0;34m\u001b[0m\u001b[0m\n\u001b[1;32m   1546\u001b[0m     \u001b[0;32mif\u001b[0m \u001b[0mjac\u001b[0m \u001b[0;32mis\u001b[0m \u001b[0;32mNone\u001b[0m\u001b[0;34m:\u001b[0m\u001b[0;34m\u001b[0m\u001b[0;34m\u001b[0m\u001b[0m\n\u001b[0;32m-> 1547\u001b[0;31m         \u001b[0;32mraise\u001b[0m \u001b[0mValueError\u001b[0m\u001b[0;34m(\u001b[0m\u001b[0;34m'Jacobian is required for Newton-CG method'\u001b[0m\u001b[0;34m)\u001b[0m\u001b[0;34m\u001b[0m\u001b[0;34m\u001b[0m\u001b[0m\n\u001b[0m\u001b[1;32m   1548\u001b[0m     \u001b[0mf\u001b[0m \u001b[0;34m=\u001b[0m \u001b[0mfun\u001b[0m\u001b[0;34m\u001b[0m\u001b[0;34m\u001b[0m\u001b[0m\n\u001b[1;32m   1549\u001b[0m     \u001b[0mfprime\u001b[0m \u001b[0;34m=\u001b[0m \u001b[0mjac\u001b[0m\u001b[0;34m\u001b[0m\u001b[0;34m\u001b[0m\u001b[0m\n",
      "\u001b[0;31mValueError\u001b[0m: Jacobian is required for Newton-CG method"
     ]
    }
   ],
   "source": [
    "optimize.minimize(diff, 630., tol=1e-6, method='Nelde')"
   ]
  },
  {
   "cell_type": "code",
   "execution_count": 45,
   "metadata": {},
   "outputs": [
    {
     "data": {
      "text/plain": [
       "1.4835400426560231e-05"
      ]
     },
     "execution_count": 45,
     "metadata": {},
     "output_type": "execute_result"
    }
   ],
   "source": [
    "diff(630.1)"
   ]
  },
  {
   "cell_type": "code",
   "execution_count": null,
   "metadata": {},
   "outputs": [],
   "source": []
  }
 ],
 "metadata": {
  "kernelspec": {
   "display_name": "Python 3",
   "language": "python",
   "name": "python3"
  },
  "language_info": {
   "codemirror_mode": {
    "name": "ipython",
    "version": 3
   },
   "file_extension": ".py",
   "mimetype": "text/x-python",
   "name": "python",
   "nbconvert_exporter": "python",
   "pygments_lexer": "ipython3",
   "version": "3.7.3"
  }
 },
 "nbformat": 4,
 "nbformat_minor": 4
}
