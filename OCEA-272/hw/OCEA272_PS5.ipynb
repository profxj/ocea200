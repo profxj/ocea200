{
 "cells": [
  {
   "cell_type": "markdown",
   "metadata": {},
   "source": [
    "# OCEAN SCIENCES 272:  Problem Set 5"
   ]
  },
  {
   "cell_type": "code",
   "execution_count": 1,
   "metadata": {},
   "outputs": [],
   "source": [
    "# imports\n",
    "import numpy as np\n",
    "from importlib import reload\n",
    "\n",
    "import unyt\n",
    "\n",
    "from oceanpy import constants\n",
    "from oceanpy.forces import coriolis\n",
    "\n",
    "from os_classes.ocea257 import chapter1, chapter2\n",
    "from os_classes import plotting as os_plotting\n",
    "\n",
    "from bokeh import plotting\n",
    "from bokeh import models\n",
    "\n",
    "from IPython.display import Image\n",
    "from IPython.core.display import HTML"
   ]
  },
  {
   "cell_type": "markdown",
   "metadata": {},
   "source": [
    "# PS5-1-- 3 Waves"
   ]
  },
  {
   "cell_type": "markdown",
   "metadata": {},
   "source": [
    "## We are to consider a set of 3 waves:\n",
    "\n",
    "## $\\psi_j(x,y,y) = \\phi_j(y) \\sin[k_j x - \\omega t]$\n",
    "\n",
    "## each growing exponentially with \n",
    "\n",
    "## $\\phi_j(y,t) = A_j \\exp(k_j c_{ij} t)$\n",
    "\n",
    "## and $A_j = 0.001$ at $t=0$."
   ]
  },
  {
   "cell_type": "markdown",
   "metadata": {},
   "source": [
    "## The wavenumbers are given by:\n",
    "\n",
    "## $\\lambda_j = 2\\pi/k_j = j * 1000$m\n",
    "\n",
    "## and the imaginary part is given by:\n",
    "\n",
    "## $c_{ij} = 100, 300, 350$m/day"
   ]
  },
  {
   "cell_type": "code",
   "execution_count": 5,
   "metadata": {},
   "outputs": [],
   "source": [
    "# Setup\n",
    "k_1 = 2 * np.pi / (1000*unyt.m)\n",
    "k_2 = 2 * np.pi / (2000*unyt.m)\n",
    "k_3 = 2 * np.pi / (3000*unyt.m)\n",
    "ks = [k_1, k_2, k_3]\n",
    "\n",
    "c_1 = 100 * unyt.m/unyt.day\n",
    "c_2 = 300 * unyt.m/unyt.day\n",
    "c_3 = 350 * unyt.m/unyt.day\n",
    "cs = [c_1, c_2, c_3]"
   ]
  },
  {
   "cell_type": "markdown",
   "metadata": {},
   "source": [
    "## We are asked which wave reaches amplitude 1 first.  This will be the one that maximizes $k_j c_{ij}$"
   ]
  },
  {
   "cell_type": "code",
   "execution_count": 10,
   "metadata": {},
   "outputs": [
    {
     "name": "stdout",
     "output_type": "stream",
     "text": [
      "j=1,  ck=0.6283185307179586 1/day\n",
      "j=2,  ck=0.942477796076938 1/day\n",
      "j=3,  ck=0.7330382858376183 1/day\n"
     ]
    }
   ],
   "source": [
    "for j, c,k in zip(range(3), cs, ks):\n",
    "    print(\"j={},  ck={}\".format(j+1, c*k))"
   ]
  },
  {
   "cell_type": "markdown",
   "metadata": {},
   "source": [
    "## It is clear that the $j=2$ wave grows the fastest.\n",
    "\n",
    "## It will reach $A=1$ at $t = \\ln(10^3) / (k_jc_{ij})$ "
   ]
  },
  {
   "cell_type": "code",
   "execution_count": 14,
   "metadata": {},
   "outputs": [
    {
     "data": {
      "text/plain": [
       "unyt_quantity(7.32935599, 'day')"
      ]
     },
     "execution_count": 14,
     "metadata": {},
     "output_type": "execute_result"
    }
   ],
   "source": [
    "t_A2_1 = np.log(1e3) / (k_2 * c_2)\n",
    "t_A2_1"
   ]
  },
  {
   "cell_type": "markdown",
   "metadata": {},
   "source": [
    "## At $t = 7.33$ days, the other two waves have amplitudes:\n",
    "\n",
    "## $A_j = A(t=0) \\exp(k_j c_{ij} t)$"
   ]
  },
  {
   "cell_type": "code",
   "execution_count": 15,
   "metadata": {},
   "outputs": [
    {
     "name": "stdout",
     "output_type": "stream",
     "text": [
      "j=1,  A_j = 0.09999999999999996\n",
      "j=2,  A_j = 0.9999999999999998\n",
      "j=3,  A_j = 0.2154434690031881\n"
     ]
    }
   ],
   "source": [
    "for j, c,k in zip(range(3), cs, ks):\n",
    "    A_j = 1e-3 * np.exp(c*k*t_A2_1)\n",
    "    print(\"j={},  A_j = {}\".format(j+1, A_j))"
   ]
  },
  {
   "cell_type": "markdown",
   "metadata": {},
   "source": [
    "## So $A_1 = 0.1$ and $A_3 = 0.215$"
   ]
  },
  {
   "cell_type": "markdown",
   "metadata": {},
   "source": [
    "## $A_2 = 10$ occurs $\\ln(10) / (k_2 c_{i2})$ days later"
   ]
  },
  {
   "cell_type": "code",
   "execution_count": 16,
   "metadata": {},
   "outputs": [
    {
     "data": {
      "text/plain": [
       "unyt_quantity(9.77247465, 'day')"
      ]
     },
     "execution_count": 16,
     "metadata": {},
     "output_type": "execute_result"
    }
   ],
   "source": [
    "t_A2_10 = np.log(1e4) / (k_2 * c_2)\n",
    "t_A2_10"
   ]
  },
  {
   "cell_type": "code",
   "execution_count": 18,
   "metadata": {},
   "outputs": [
    {
     "name": "stdout",
     "output_type": "stream",
     "text": [
      "j=1,  A_j = 0.46415888336127775\n",
      "j=2,  A_j = 10.000000000000009\n",
      "j=3,  A_j = 1.2915496650148832\n"
     ]
    }
   ],
   "source": [
    "for j, c,k in zip(range(3), cs, ks):\n",
    "    A_j = 1e-3 * np.exp(c*k*t_A2_10)\n",
    "    print(\"j={},  A_j = {}\".format(j+1, A_j))"
   ]
  },
  {
   "cell_type": "markdown",
   "metadata": {},
   "source": [
    "## Because the waves are all in phase for $x < 1000$m, the superposition is largest in that region.\n",
    "\n",
    "## At longer wavelengths, the low amplitude, short wavelength $j=1$ wave acts as a "
   ]
  }
 ],
 "metadata": {
  "kernelspec": {
   "display_name": "Python 3",
   "language": "python",
   "name": "python3"
  },
  "language_info": {
   "codemirror_mode": {
    "name": "ipython",
    "version": 3
   },
   "file_extension": ".py",
   "mimetype": "text/x-python",
   "name": "python",
   "nbconvert_exporter": "python",
   "pygments_lexer": "ipython3",
   "version": "3.7.6"
  }
 },
 "nbformat": 4,
 "nbformat_minor": 4
}
