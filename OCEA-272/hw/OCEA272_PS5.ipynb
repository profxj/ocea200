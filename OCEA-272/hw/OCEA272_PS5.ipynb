{
 "cells": [
  {
   "cell_type": "markdown",
   "metadata": {},
   "source": [
    "# OCEAN SCIENCES 272:  Problem Set 5"
   ]
  },
  {
   "cell_type": "code",
   "execution_count": 35,
   "metadata": {},
   "outputs": [],
   "source": [
    "# imports\n",
    "import numpy as np\n",
    "from importlib import reload\n",
    "\n",
    "from scipy import optimize\n",
    "\n",
    "import unyt\n",
    "\n",
    "from oceanpy import constants\n",
    "from oceanpy.forces import coriolis\n",
    "\n",
    "from os_classes.ocea257 import chapter1, chapter2\n",
    "from os_classes import plotting as os_plotting\n",
    "\n",
    "from bokeh import plotting\n",
    "from bokeh import models\n",
    "from bokeh import layouts\n",
    "\n",
    "from IPython.display import Image\n",
    "from IPython.core.display import HTML"
   ]
  },
  {
   "cell_type": "markdown",
   "metadata": {},
   "source": [
    "# PS5-1-- 3 Waves"
   ]
  },
  {
   "cell_type": "markdown",
   "metadata": {},
   "source": [
    "## We are to consider a set of 3 waves:\n",
    "\n",
    "## $\\psi_j(x,y,y) = \\phi_j(y) \\sin[k_j x - \\omega t]$\n",
    "\n",
    "## each growing exponentially with \n",
    "\n",
    "## $\\phi_j(y,t) = A_j \\exp(k_j c_{ij} t)$\n",
    "\n",
    "## and $A_j = 0.001$ at $t=0$."
   ]
  },
  {
   "cell_type": "markdown",
   "metadata": {},
   "source": [
    "## The wavenumbers are given by:\n",
    "\n",
    "## $\\lambda_j = 2\\pi/k_j = j * 1000$m\n",
    "\n",
    "## and the imaginary part is given by:\n",
    "\n",
    "## $c_{ij} = 100, 300, 350$m/day"
   ]
  },
  {
   "cell_type": "code",
   "execution_count": 2,
   "metadata": {},
   "outputs": [],
   "source": [
    "# Setup\n",
    "k_1 = 2 * np.pi / (1000*unyt.m)\n",
    "k_2 = 2 * np.pi / (2000*unyt.m)\n",
    "k_3 = 2 * np.pi / (3000*unyt.m)\n",
    "ks = [k_1, k_2, k_3]\n",
    "\n",
    "c_1 = 100 * unyt.m/unyt.day\n",
    "c_2 = 300 * unyt.m/unyt.day\n",
    "c_3 = 350 * unyt.m/unyt.day\n",
    "cs = [c_1, c_2, c_3]"
   ]
  },
  {
   "cell_type": "markdown",
   "metadata": {},
   "source": [
    "## We are asked which wave reaches amplitude 1 first.  This will be the one that maximizes $k_j c_{ij}$"
   ]
  },
  {
   "cell_type": "code",
   "execution_count": 3,
   "metadata": {},
   "outputs": [
    {
     "name": "stdout",
     "output_type": "stream",
     "text": [
      "j=1,  ck=0.6283185307179586 1/day\n",
      "j=2,  ck=0.942477796076938 1/day\n",
      "j=3,  ck=0.7330382858376183 1/day\n"
     ]
    }
   ],
   "source": [
    "for j, c,k in zip(range(3), cs, ks):\n",
    "    print(\"j={},  ck={}\".format(j+1, c*k))"
   ]
  },
  {
   "cell_type": "markdown",
   "metadata": {},
   "source": [
    "## It is clear that the $j=2$ wave grows the fastest.\n",
    "\n",
    "## It will reach $A=1$ at $t = \\ln(10^3) / (k_jc_{ij})$ "
   ]
  },
  {
   "cell_type": "code",
   "execution_count": 4,
   "metadata": {},
   "outputs": [
    {
     "data": {
      "text/plain": [
       "unyt_quantity(7.32935599, 'day')"
      ]
     },
     "execution_count": 4,
     "metadata": {},
     "output_type": "execute_result"
    }
   ],
   "source": [
    "t_A2_1 = np.log(1e3) / (k_2 * c_2)\n",
    "t_A2_1"
   ]
  },
  {
   "cell_type": "markdown",
   "metadata": {},
   "source": [
    "## At $t = 7.33$ days, the other two waves have amplitudes:\n",
    "\n",
    "## $A_j = A(t=0) \\exp(k_j c_{ij} t)$"
   ]
  },
  {
   "cell_type": "code",
   "execution_count": 5,
   "metadata": {},
   "outputs": [
    {
     "name": "stdout",
     "output_type": "stream",
     "text": [
      "j=1,  A_j = 0.09999999999999996\n",
      "j=2,  A_j = 0.9999999999999998\n",
      "j=3,  A_j = 0.2154434690031881\n"
     ]
    }
   ],
   "source": [
    "for j, c,k in zip(range(3), cs, ks):\n",
    "    A_j = 1e-3 * np.exp(c*k*t_A2_1)\n",
    "    print(\"j={},  A_j = {}\".format(j+1, A_j))"
   ]
  },
  {
   "cell_type": "markdown",
   "metadata": {},
   "source": [
    "## So $A_1 = 0.1$ and $A_3 = 0.215$"
   ]
  },
  {
   "cell_type": "markdown",
   "metadata": {},
   "source": [
    "## $A_2 = 10$ occurs $\\ln(10) / (k_2 c_{i2})$ days later"
   ]
  },
  {
   "cell_type": "code",
   "execution_count": 6,
   "metadata": {},
   "outputs": [
    {
     "data": {
      "text/plain": [
       "unyt_quantity(9.77247465, 'day')"
      ]
     },
     "execution_count": 6,
     "metadata": {},
     "output_type": "execute_result"
    }
   ],
   "source": [
    "t_A2_10 = np.log(1e4) / (k_2 * c_2)\n",
    "t_A2_10"
   ]
  },
  {
   "cell_type": "code",
   "execution_count": 7,
   "metadata": {},
   "outputs": [
    {
     "name": "stdout",
     "output_type": "stream",
     "text": [
      "j=1,  A_j = 0.46415888336127775\n",
      "j=2,  A_j = 10.000000000000009\n",
      "j=3,  A_j = 1.2915496650148832\n"
     ]
    }
   ],
   "source": [
    "for j, c,k in zip(range(3), cs, ks):\n",
    "    A_j = 1e-3 * np.exp(c*k*t_A2_10)\n",
    "    print(\"j={},  A_j = {}\".format(j+1, A_j))"
   ]
  },
  {
   "cell_type": "markdown",
   "metadata": {},
   "source": [
    "## Because the waves are all in phase for $x < 1000$m, the superposition is largest in that region.\n",
    "\n",
    "## Yet, the exponential growth of the $j=2$ wave dominates and is effectively the solution at late times.\n",
    "\n",
    "## Here is an interactive graph:"
   ]
  },
  {
   "cell_type": "code",
   "execution_count": 9,
   "metadata": {},
   "outputs": [],
   "source": [
    "x = np.linspace(0, 3000., 3000) * unyt.m \n",
    "\n",
    "psi_1 = 1e-3 * np.sin(k_1 * x)\n",
    "psi_2 = 1e-3 * np.sin(k_2 * x)\n",
    "psi_3 = 1e-3 * np.sin(k_3 * x)"
   ]
  },
  {
   "cell_type": "code",
   "execution_count": 19,
   "metadata": {},
   "outputs": [],
   "source": [
    "source = plotting.ColumnDataSource(data=dict(x=x, y=psi_1+psi_2+psi_3))"
   ]
  },
  {
   "cell_type": "code",
   "execution_count": 24,
   "metadata": {},
   "outputs": [
    {
     "data": {
      "text/html": [
       "\n",
       "    <div class=\"bk-root\">\n",
       "        <a href=\"https://bokeh.org\" target=\"_blank\" class=\"bk-logo bk-logo-small bk-logo-notebook\"></a>\n",
       "        <span id=\"1705\">Loading BokehJS ...</span>\n",
       "    </div>"
      ]
     },
     "metadata": {},
     "output_type": "display_data"
    },
    {
     "data": {
      "application/javascript": [
       "\n",
       "(function(root) {\n",
       "  function now() {\n",
       "    return new Date();\n",
       "  }\n",
       "\n",
       "  var force = true;\n",
       "\n",
       "  if (typeof root._bokeh_onload_callbacks === \"undefined\" || force === true) {\n",
       "    root._bokeh_onload_callbacks = [];\n",
       "    root._bokeh_is_loading = undefined;\n",
       "  }\n",
       "\n",
       "  var JS_MIME_TYPE = 'application/javascript';\n",
       "  var HTML_MIME_TYPE = 'text/html';\n",
       "  var EXEC_MIME_TYPE = 'application/vnd.bokehjs_exec.v0+json';\n",
       "  var CLASS_NAME = 'output_bokeh rendered_html';\n",
       "\n",
       "  /**\n",
       "   * Render data to the DOM node\n",
       "   */\n",
       "  function render(props, node) {\n",
       "    var script = document.createElement(\"script\");\n",
       "    node.appendChild(script);\n",
       "  }\n",
       "\n",
       "  /**\n",
       "   * Handle when an output is cleared or removed\n",
       "   */\n",
       "  function handleClearOutput(event, handle) {\n",
       "    var cell = handle.cell;\n",
       "\n",
       "    var id = cell.output_area._bokeh_element_id;\n",
       "    var server_id = cell.output_area._bokeh_server_id;\n",
       "    // Clean up Bokeh references\n",
       "    if (id != null && id in Bokeh.index) {\n",
       "      Bokeh.index[id].model.document.clear();\n",
       "      delete Bokeh.index[id];\n",
       "    }\n",
       "\n",
       "    if (server_id !== undefined) {\n",
       "      // Clean up Bokeh references\n",
       "      var cmd = \"from bokeh.io.state import curstate; print(curstate().uuid_to_server['\" + server_id + \"'].get_sessions()[0].document.roots[0]._id)\";\n",
       "      cell.notebook.kernel.execute(cmd, {\n",
       "        iopub: {\n",
       "          output: function(msg) {\n",
       "            var id = msg.content.text.trim();\n",
       "            if (id in Bokeh.index) {\n",
       "              Bokeh.index[id].model.document.clear();\n",
       "              delete Bokeh.index[id];\n",
       "            }\n",
       "          }\n",
       "        }\n",
       "      });\n",
       "      // Destroy server and session\n",
       "      var cmd = \"import bokeh.io.notebook as ion; ion.destroy_server('\" + server_id + \"')\";\n",
       "      cell.notebook.kernel.execute(cmd);\n",
       "    }\n",
       "  }\n",
       "\n",
       "  /**\n",
       "   * Handle when a new output is added\n",
       "   */\n",
       "  function handleAddOutput(event, handle) {\n",
       "    var output_area = handle.output_area;\n",
       "    var output = handle.output;\n",
       "\n",
       "    // limit handleAddOutput to display_data with EXEC_MIME_TYPE content only\n",
       "    if ((output.output_type != \"display_data\") || (!output.data.hasOwnProperty(EXEC_MIME_TYPE))) {\n",
       "      return\n",
       "    }\n",
       "\n",
       "    var toinsert = output_area.element.find(\".\" + CLASS_NAME.split(' ')[0]);\n",
       "\n",
       "    if (output.metadata[EXEC_MIME_TYPE][\"id\"] !== undefined) {\n",
       "      toinsert[toinsert.length - 1].firstChild.textContent = output.data[JS_MIME_TYPE];\n",
       "      // store reference to embed id on output_area\n",
       "      output_area._bokeh_element_id = output.metadata[EXEC_MIME_TYPE][\"id\"];\n",
       "    }\n",
       "    if (output.metadata[EXEC_MIME_TYPE][\"server_id\"] !== undefined) {\n",
       "      var bk_div = document.createElement(\"div\");\n",
       "      bk_div.innerHTML = output.data[HTML_MIME_TYPE];\n",
       "      var script_attrs = bk_div.children[0].attributes;\n",
       "      for (var i = 0; i < script_attrs.length; i++) {\n",
       "        toinsert[toinsert.length - 1].firstChild.setAttribute(script_attrs[i].name, script_attrs[i].value);\n",
       "      }\n",
       "      // store reference to server id on output_area\n",
       "      output_area._bokeh_server_id = output.metadata[EXEC_MIME_TYPE][\"server_id\"];\n",
       "    }\n",
       "  }\n",
       "\n",
       "  function register_renderer(events, OutputArea) {\n",
       "\n",
       "    function append_mime(data, metadata, element) {\n",
       "      // create a DOM node to render to\n",
       "      var toinsert = this.create_output_subarea(\n",
       "        metadata,\n",
       "        CLASS_NAME,\n",
       "        EXEC_MIME_TYPE\n",
       "      );\n",
       "      this.keyboard_manager.register_events(toinsert);\n",
       "      // Render to node\n",
       "      var props = {data: data, metadata: metadata[EXEC_MIME_TYPE]};\n",
       "      render(props, toinsert[toinsert.length - 1]);\n",
       "      element.append(toinsert);\n",
       "      return toinsert\n",
       "    }\n",
       "\n",
       "    /* Handle when an output is cleared or removed */\n",
       "    events.on('clear_output.CodeCell', handleClearOutput);\n",
       "    events.on('delete.Cell', handleClearOutput);\n",
       "\n",
       "    /* Handle when a new output is added */\n",
       "    events.on('output_added.OutputArea', handleAddOutput);\n",
       "\n",
       "    /**\n",
       "     * Register the mime type and append_mime function with output_area\n",
       "     */\n",
       "    OutputArea.prototype.register_mime_type(EXEC_MIME_TYPE, append_mime, {\n",
       "      /* Is output safe? */\n",
       "      safe: true,\n",
       "      /* Index of renderer in `output_area.display_order` */\n",
       "      index: 0\n",
       "    });\n",
       "  }\n",
       "\n",
       "  // register the mime type if in Jupyter Notebook environment and previously unregistered\n",
       "  if (root.Jupyter !== undefined) {\n",
       "    var events = require('base/js/events');\n",
       "    var OutputArea = require('notebook/js/outputarea').OutputArea;\n",
       "\n",
       "    if (OutputArea.prototype.mime_types().indexOf(EXEC_MIME_TYPE) == -1) {\n",
       "      register_renderer(events, OutputArea);\n",
       "    }\n",
       "  }\n",
       "\n",
       "  \n",
       "  if (typeof (root._bokeh_timeout) === \"undefined\" || force === true) {\n",
       "    root._bokeh_timeout = Date.now() + 5000;\n",
       "    root._bokeh_failed_load = false;\n",
       "  }\n",
       "\n",
       "  var NB_LOAD_WARNING = {'data': {'text/html':\n",
       "     \"<div style='background-color: #fdd'>\\n\"+\n",
       "     \"<p>\\n\"+\n",
       "     \"BokehJS does not appear to have successfully loaded. If loading BokehJS from CDN, this \\n\"+\n",
       "     \"may be due to a slow or bad network connection. Possible fixes:\\n\"+\n",
       "     \"</p>\\n\"+\n",
       "     \"<ul>\\n\"+\n",
       "     \"<li>re-rerun `output_notebook()` to attempt to load from CDN again, or</li>\\n\"+\n",
       "     \"<li>use INLINE resources instead, as so:</li>\\n\"+\n",
       "     \"</ul>\\n\"+\n",
       "     \"<code>\\n\"+\n",
       "     \"from bokeh.resources import INLINE\\n\"+\n",
       "     \"output_notebook(resources=INLINE)\\n\"+\n",
       "     \"</code>\\n\"+\n",
       "     \"</div>\"}};\n",
       "\n",
       "  function display_loaded() {\n",
       "    var el = document.getElementById(\"1705\");\n",
       "    if (el != null) {\n",
       "      el.textContent = \"BokehJS is loading...\";\n",
       "    }\n",
       "    if (root.Bokeh !== undefined) {\n",
       "      if (el != null) {\n",
       "        el.textContent = \"BokehJS \" + root.Bokeh.version + \" successfully loaded.\";\n",
       "      }\n",
       "    } else if (Date.now() < root._bokeh_timeout) {\n",
       "      setTimeout(display_loaded, 100)\n",
       "    }\n",
       "  }\n",
       "\n",
       "\n",
       "  function run_callbacks() {\n",
       "    try {\n",
       "      root._bokeh_onload_callbacks.forEach(function(callback) {\n",
       "        if (callback != null)\n",
       "          callback();\n",
       "      });\n",
       "    } finally {\n",
       "      delete root._bokeh_onload_callbacks\n",
       "    }\n",
       "    console.debug(\"Bokeh: all callbacks have finished\");\n",
       "  }\n",
       "\n",
       "  function load_libs(css_urls, js_urls, callback) {\n",
       "    if (css_urls == null) css_urls = [];\n",
       "    if (js_urls == null) js_urls = [];\n",
       "\n",
       "    root._bokeh_onload_callbacks.push(callback);\n",
       "    if (root._bokeh_is_loading > 0) {\n",
       "      console.debug(\"Bokeh: BokehJS is being loaded, scheduling callback at\", now());\n",
       "      return null;\n",
       "    }\n",
       "    if (js_urls == null || js_urls.length === 0) {\n",
       "      run_callbacks();\n",
       "      return null;\n",
       "    }\n",
       "    console.debug(\"Bokeh: BokehJS not loaded, scheduling load and callback at\", now());\n",
       "    root._bokeh_is_loading = css_urls.length + js_urls.length;\n",
       "\n",
       "    function on_load() {\n",
       "      root._bokeh_is_loading--;\n",
       "      if (root._bokeh_is_loading === 0) {\n",
       "        console.debug(\"Bokeh: all BokehJS libraries/stylesheets loaded\");\n",
       "        run_callbacks()\n",
       "      }\n",
       "    }\n",
       "\n",
       "    function on_error() {\n",
       "      console.error(\"failed to load \" + url);\n",
       "    }\n",
       "\n",
       "    for (var i = 0; i < css_urls.length; i++) {\n",
       "      var url = css_urls[i];\n",
       "      const element = document.createElement(\"link\");\n",
       "      element.onload = on_load;\n",
       "      element.onerror = on_error;\n",
       "      element.rel = \"stylesheet\";\n",
       "      element.type = \"text/css\";\n",
       "      element.href = url;\n",
       "      console.debug(\"Bokeh: injecting link tag for BokehJS stylesheet: \", url);\n",
       "      document.body.appendChild(element);\n",
       "    }\n",
       "\n",
       "    for (var i = 0; i < js_urls.length; i++) {\n",
       "      var url = js_urls[i];\n",
       "      var element = document.createElement('script');\n",
       "      element.onload = on_load;\n",
       "      element.onerror = on_error;\n",
       "      element.async = false;\n",
       "      element.src = url;\n",
       "      console.debug(\"Bokeh: injecting script tag for BokehJS library: \", url);\n",
       "      document.head.appendChild(element);\n",
       "    }\n",
       "  };var element = document.getElementById(\"1705\");\n",
       "  if (element == null) {\n",
       "    console.error(\"Bokeh: ERROR: autoload.js configured with elementid '1705' but no matching script tag was found. \")\n",
       "    return false;\n",
       "  }\n",
       "\n",
       "  function inject_raw_css(css) {\n",
       "    const element = document.createElement(\"style\");\n",
       "    element.appendChild(document.createTextNode(css));\n",
       "    document.body.appendChild(element);\n",
       "  }\n",
       "\n",
       "  \n",
       "  var js_urls = [\"https://cdn.pydata.org/bokeh/release/bokeh-1.4.0.min.js\", \"https://cdn.pydata.org/bokeh/release/bokeh-widgets-1.4.0.min.js\", \"https://cdn.pydata.org/bokeh/release/bokeh-tables-1.4.0.min.js\", \"https://cdn.pydata.org/bokeh/release/bokeh-gl-1.4.0.min.js\"];\n",
       "  var css_urls = [];\n",
       "  \n",
       "\n",
       "  var inline_js = [\n",
       "    function(Bokeh) {\n",
       "      Bokeh.set_log_level(\"info\");\n",
       "    },\n",
       "    function(Bokeh) {\n",
       "    \n",
       "    \n",
       "    }\n",
       "  ];\n",
       "\n",
       "  function run_inline_js() {\n",
       "    \n",
       "    if (root.Bokeh !== undefined || force === true) {\n",
       "      \n",
       "    for (var i = 0; i < inline_js.length; i++) {\n",
       "      inline_js[i].call(root, root.Bokeh);\n",
       "    }\n",
       "    if (force === true) {\n",
       "        display_loaded();\n",
       "      }} else if (Date.now() < root._bokeh_timeout) {\n",
       "      setTimeout(run_inline_js, 100);\n",
       "    } else if (!root._bokeh_failed_load) {\n",
       "      console.log(\"Bokeh: BokehJS failed to load within specified timeout.\");\n",
       "      root._bokeh_failed_load = true;\n",
       "    } else if (force !== true) {\n",
       "      var cell = $(document.getElementById(\"1705\")).parents('.cell').data().cell;\n",
       "      cell.output_area.append_execute_result(NB_LOAD_WARNING)\n",
       "    }\n",
       "\n",
       "  }\n",
       "\n",
       "  if (root._bokeh_is_loading === 0) {\n",
       "    console.debug(\"Bokeh: BokehJS loaded, going straight to plotting\");\n",
       "    run_inline_js();\n",
       "  } else {\n",
       "    load_libs(css_urls, js_urls, function() {\n",
       "      console.debug(\"Bokeh: BokehJS plotting callback run at\", now());\n",
       "      run_inline_js();\n",
       "    });\n",
       "  }\n",
       "}(window));"
      ],
      "application/vnd.bokehjs_load.v0+json": "\n(function(root) {\n  function now() {\n    return new Date();\n  }\n\n  var force = true;\n\n  if (typeof root._bokeh_onload_callbacks === \"undefined\" || force === true) {\n    root._bokeh_onload_callbacks = [];\n    root._bokeh_is_loading = undefined;\n  }\n\n  \n\n  \n  if (typeof (root._bokeh_timeout) === \"undefined\" || force === true) {\n    root._bokeh_timeout = Date.now() + 5000;\n    root._bokeh_failed_load = false;\n  }\n\n  var NB_LOAD_WARNING = {'data': {'text/html':\n     \"<div style='background-color: #fdd'>\\n\"+\n     \"<p>\\n\"+\n     \"BokehJS does not appear to have successfully loaded. If loading BokehJS from CDN, this \\n\"+\n     \"may be due to a slow or bad network connection. Possible fixes:\\n\"+\n     \"</p>\\n\"+\n     \"<ul>\\n\"+\n     \"<li>re-rerun `output_notebook()` to attempt to load from CDN again, or</li>\\n\"+\n     \"<li>use INLINE resources instead, as so:</li>\\n\"+\n     \"</ul>\\n\"+\n     \"<code>\\n\"+\n     \"from bokeh.resources import INLINE\\n\"+\n     \"output_notebook(resources=INLINE)\\n\"+\n     \"</code>\\n\"+\n     \"</div>\"}};\n\n  function display_loaded() {\n    var el = document.getElementById(\"1705\");\n    if (el != null) {\n      el.textContent = \"BokehJS is loading...\";\n    }\n    if (root.Bokeh !== undefined) {\n      if (el != null) {\n        el.textContent = \"BokehJS \" + root.Bokeh.version + \" successfully loaded.\";\n      }\n    } else if (Date.now() < root._bokeh_timeout) {\n      setTimeout(display_loaded, 100)\n    }\n  }\n\n\n  function run_callbacks() {\n    try {\n      root._bokeh_onload_callbacks.forEach(function(callback) {\n        if (callback != null)\n          callback();\n      });\n    } finally {\n      delete root._bokeh_onload_callbacks\n    }\n    console.debug(\"Bokeh: all callbacks have finished\");\n  }\n\n  function load_libs(css_urls, js_urls, callback) {\n    if (css_urls == null) css_urls = [];\n    if (js_urls == null) js_urls = [];\n\n    root._bokeh_onload_callbacks.push(callback);\n    if (root._bokeh_is_loading > 0) {\n      console.debug(\"Bokeh: BokehJS is being loaded, scheduling callback at\", now());\n      return null;\n    }\n    if (js_urls == null || js_urls.length === 0) {\n      run_callbacks();\n      return null;\n    }\n    console.debug(\"Bokeh: BokehJS not loaded, scheduling load and callback at\", now());\n    root._bokeh_is_loading = css_urls.length + js_urls.length;\n\n    function on_load() {\n      root._bokeh_is_loading--;\n      if (root._bokeh_is_loading === 0) {\n        console.debug(\"Bokeh: all BokehJS libraries/stylesheets loaded\");\n        run_callbacks()\n      }\n    }\n\n    function on_error() {\n      console.error(\"failed to load \" + url);\n    }\n\n    for (var i = 0; i < css_urls.length; i++) {\n      var url = css_urls[i];\n      const element = document.createElement(\"link\");\n      element.onload = on_load;\n      element.onerror = on_error;\n      element.rel = \"stylesheet\";\n      element.type = \"text/css\";\n      element.href = url;\n      console.debug(\"Bokeh: injecting link tag for BokehJS stylesheet: \", url);\n      document.body.appendChild(element);\n    }\n\n    for (var i = 0; i < js_urls.length; i++) {\n      var url = js_urls[i];\n      var element = document.createElement('script');\n      element.onload = on_load;\n      element.onerror = on_error;\n      element.async = false;\n      element.src = url;\n      console.debug(\"Bokeh: injecting script tag for BokehJS library: \", url);\n      document.head.appendChild(element);\n    }\n  };var element = document.getElementById(\"1705\");\n  if (element == null) {\n    console.error(\"Bokeh: ERROR: autoload.js configured with elementid '1705' but no matching script tag was found. \")\n    return false;\n  }\n\n  function inject_raw_css(css) {\n    const element = document.createElement(\"style\");\n    element.appendChild(document.createTextNode(css));\n    document.body.appendChild(element);\n  }\n\n  \n  var js_urls = [\"https://cdn.pydata.org/bokeh/release/bokeh-1.4.0.min.js\", \"https://cdn.pydata.org/bokeh/release/bokeh-widgets-1.4.0.min.js\", \"https://cdn.pydata.org/bokeh/release/bokeh-tables-1.4.0.min.js\", \"https://cdn.pydata.org/bokeh/release/bokeh-gl-1.4.0.min.js\"];\n  var css_urls = [];\n  \n\n  var inline_js = [\n    function(Bokeh) {\n      Bokeh.set_log_level(\"info\");\n    },\n    function(Bokeh) {\n    \n    \n    }\n  ];\n\n  function run_inline_js() {\n    \n    if (root.Bokeh !== undefined || force === true) {\n      \n    for (var i = 0; i < inline_js.length; i++) {\n      inline_js[i].call(root, root.Bokeh);\n    }\n    if (force === true) {\n        display_loaded();\n      }} else if (Date.now() < root._bokeh_timeout) {\n      setTimeout(run_inline_js, 100);\n    } else if (!root._bokeh_failed_load) {\n      console.log(\"Bokeh: BokehJS failed to load within specified timeout.\");\n      root._bokeh_failed_load = true;\n    } else if (force !== true) {\n      var cell = $(document.getElementById(\"1705\")).parents('.cell').data().cell;\n      cell.output_area.append_execute_result(NB_LOAD_WARNING)\n    }\n\n  }\n\n  if (root._bokeh_is_loading === 0) {\n    console.debug(\"Bokeh: BokehJS loaded, going straight to plotting\");\n    run_inline_js();\n  } else {\n    load_libs(css_urls, js_urls, function() {\n      console.debug(\"Bokeh: BokehJS plotting callback run at\", now());\n      run_inline_js();\n    });\n  }\n}(window));"
     },
     "metadata": {},
     "output_type": "display_data"
    },
    {
     "data": {
      "text/html": [
       "\n",
       "\n",
       "\n",
       "\n",
       "\n",
       "\n",
       "  <div class=\"bk-root\" id=\"e8d5538e-4bd5-43b7-a09f-c07406e7532a\" data-root-id=\"1747\"></div>\n"
      ]
     },
     "metadata": {},
     "output_type": "display_data"
    },
    {
     "data": {
      "application/javascript": [
       "(function(root) {\n",
       "  function embed_document(root) {\n",
       "    \n",
       "  var docs_json = {\"0ab7093f-2b28-4544-b93d-99ef6dd24148\":{\"roots\":{\"references\":[{\"attributes\":{\"children\":[{\"id\":\"1706\",\"subtype\":\"Figure\",\"type\":\"Plot\"},{\"id\":\"1745\",\"type\":\"Slider\"}]},\"id\":\"1747\",\"type\":\"Row\"},{\"attributes\":{\"line_alpha\":0.1,\"line_color\":\"#1f77b4\",\"line_width\":2,\"x\":{\"field\":\"x\"},\"y\":{\"field\":\"y\"}},\"id\":\"1742\",\"type\":\"Line\"},{\"attributes\":{},\"id\":\"1655\",\"type\":\"UnionRenderers\"},{\"attributes\":{\"source\":{\"id\":\"1565\",\"type\":\"ColumnDataSource\"}},\"id\":\"1744\",\"type\":\"CDSView\"},{\"attributes\":{\"line_color\":\"blue\",\"line_width\":2,\"x\":{\"field\":\"x\"},\"y\":{\"field\":\"y\"}},\"id\":\"1741\",\"type\":\"Line\"},{\"attributes\":{},\"id\":\"1798\",\"type\":\"BasicTickFormatter\"},{\"attributes\":{\"bottom_units\":\"screen\",\"fill_alpha\":{\"value\":0.5},\"fill_color\":{\"value\":\"lightgrey\"},\"left_units\":\"screen\",\"level\":\"overlay\",\"line_alpha\":{\"value\":1.0},\"line_color\":{\"value\":\"black\"},\"line_dash\":[4,4],\"line_width\":{\"value\":2},\"render_mode\":\"css\",\"right_units\":\"screen\",\"top_units\":\"screen\"},\"id\":\"1803\",\"type\":\"BoxAnnotation\"},{\"attributes\":{\"axis_label\":\"A\",\"formatter\":{\"id\":\"1798\",\"type\":\"BasicTickFormatter\"},\"ticker\":{\"id\":\"1723\",\"type\":\"BasicTicker\"}},\"id\":\"1722\",\"type\":\"LinearAxis\"},{\"attributes\":{},\"id\":\"1718\",\"type\":\"BasicTicker\"},{\"attributes\":{},\"id\":\"1732\",\"type\":\"HelpTool\"},{\"attributes\":{\"active_drag\":\"auto\",\"active_inspect\":\"auto\",\"active_multi\":null,\"active_scroll\":\"auto\",\"active_tap\":\"auto\",\"tools\":[{\"id\":\"1727\",\"type\":\"PanTool\"},{\"id\":\"1728\",\"type\":\"WheelZoomTool\"},{\"id\":\"1729\",\"type\":\"BoxZoomTool\"},{\"id\":\"1730\",\"type\":\"SaveTool\"},{\"id\":\"1731\",\"type\":\"ResetTool\"},{\"id\":\"1732\",\"type\":\"HelpTool\"}]},\"id\":\"1733\",\"type\":\"Toolbar\"},{\"attributes\":{},\"id\":\"1715\",\"type\":\"LinearScale\"},{\"attributes\":{\"callback\":null},\"id\":\"1711\",\"type\":\"DataRange1d\"},{\"attributes\":{\"text\":\"Three waves\"},\"id\":\"1707\",\"type\":\"Title\"},{\"attributes\":{},\"id\":\"1723\",\"type\":\"BasicTicker\"},{\"attributes\":{},\"id\":\"1713\",\"type\":\"LinearScale\"},{\"attributes\":{\"ticker\":{\"id\":\"1718\",\"type\":\"BasicTicker\"}},\"id\":\"1721\",\"type\":\"Grid\"},{\"attributes\":{},\"id\":\"1728\",\"type\":\"WheelZoomTool\"},{\"attributes\":{},\"id\":\"1731\",\"type\":\"ResetTool\"},{\"attributes\":{\"below\":[{\"id\":\"1717\",\"type\":\"LinearAxis\"}],\"center\":[{\"id\":\"1721\",\"type\":\"Grid\"},{\"id\":\"1726\",\"type\":\"Grid\"}],\"left\":[{\"id\":\"1722\",\"type\":\"LinearAxis\"}],\"renderers\":[{\"id\":\"1743\",\"type\":\"GlyphRenderer\"}],\"title\":{\"id\":\"1707\",\"type\":\"Title\"},\"toolbar\":{\"id\":\"1733\",\"type\":\"Toolbar\"},\"x_range\":{\"id\":\"1709\",\"type\":\"DataRange1d\"},\"x_scale\":{\"id\":\"1713\",\"type\":\"LinearScale\"},\"y_range\":{\"id\":\"1711\",\"type\":\"DataRange1d\"},\"y_scale\":{\"id\":\"1715\",\"type\":\"LinearScale\"}},\"id\":\"1706\",\"subtype\":\"Figure\",\"type\":\"Plot\"},{\"attributes\":{\"dimension\":1,\"ticker\":{\"id\":\"1723\",\"type\":\"BasicTicker\"}},\"id\":\"1726\",\"type\":\"Grid\"},{\"attributes\":{\"callback\":null,\"end\":20,\"js_property_callbacks\":{\"change:value\":[{\"id\":\"1746\",\"type\":\"CustomJS\"}]},\"start\":0,\"title\":\"time (days)\",\"value\":0},\"id\":\"1745\",\"type\":\"Slider\"},{\"attributes\":{},\"id\":\"1654\",\"type\":\"Selection\"},{\"attributes\":{\"axis_label\":\"x\",\"formatter\":{\"id\":\"1800\",\"type\":\"BasicTickFormatter\"},\"ticker\":{\"id\":\"1718\",\"type\":\"BasicTicker\"}},\"id\":\"1717\",\"type\":\"LinearAxis\"},{\"attributes\":{},\"id\":\"1727\",\"type\":\"PanTool\"},{\"attributes\":{\"overlay\":{\"id\":\"1803\",\"type\":\"BoxAnnotation\"}},\"id\":\"1729\",\"type\":\"BoxZoomTool\"},{\"attributes\":{\"callback\":null},\"id\":\"1709\",\"type\":\"DataRange1d\"},{\"attributes\":{\"args\":{\"source\":{\"id\":\"1565\",\"type\":\"ColumnDataSource\"},\"time\":{\"id\":\"1745\",\"type\":\"Slider\"}},\"code\":\"\\n    const data = source.data;\\n    const t = time.value;\\n    const x = data['x']\\n    const y = data['y']\\n    const ck1 = 0.62831853\\n    const ck2 = 0.9424777\\n    const ck3 = 0.7330382\\n    const k1 = 0.00628319\\n    const k2 = 0.00314159\\n    const k3 = 0.0020944\\n    const A = 0.001\\n    for (var i = 0; i < x.length; i++) {\\n        y[i] = A*Math.sin(k1*x[i])*Math.exp(ck1*t) + A*Math.sin(k2*x[i])*Math.exp(ck2*t) + A*Math.sin(k3*x[i])*Math.exp(ck3*t);\\n    }\\n    source.change.emit();\\n\"},\"id\":\"1746\",\"type\":\"CustomJS\"},{\"attributes\":{\"callback\":null,\"data\":{\"x\":{\"__ndarray__\":\"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\",\"dtype\":\"float64\",\"shape\":[3000]},\"y\":{\"__ndarray__\":\"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\",\"dtype\":\"float64\",\"shape\":[3000]}},\"selected\":{\"id\":\"1654\",\"type\":\"Selection\"},\"selection_policy\":{\"id\":\"1655\",\"type\":\"UnionRenderers\"}},\"id\":\"1565\",\"type\":\"ColumnDataSource\"},{\"attributes\":{},\"id\":\"1800\",\"type\":\"BasicTickFormatter\"},{\"attributes\":{\"data_source\":{\"id\":\"1565\",\"type\":\"ColumnDataSource\"},\"glyph\":{\"id\":\"1741\",\"type\":\"Line\"},\"hover_glyph\":null,\"muted_glyph\":null,\"nonselection_glyph\":{\"id\":\"1742\",\"type\":\"Line\"},\"selection_glyph\":null,\"view\":{\"id\":\"1744\",\"type\":\"CDSView\"}},\"id\":\"1743\",\"type\":\"GlyphRenderer\"},{\"attributes\":{},\"id\":\"1730\",\"type\":\"SaveTool\"}],\"root_ids\":[\"1747\"]},\"title\":\"Bokeh Application\",\"version\":\"1.4.0\"}};\n",
       "  var render_items = [{\"docid\":\"0ab7093f-2b28-4544-b93d-99ef6dd24148\",\"roots\":{\"1747\":\"e8d5538e-4bd5-43b7-a09f-c07406e7532a\"}}];\n",
       "  root.Bokeh.embed.embed_items_notebook(docs_json, render_items);\n",
       "\n",
       "  }\n",
       "  if (root.Bokeh !== undefined) {\n",
       "    embed_document(root);\n",
       "  } else {\n",
       "    var attempts = 0;\n",
       "    var timer = setInterval(function(root) {\n",
       "      if (root.Bokeh !== undefined) {\n",
       "        clearInterval(timer);\n",
       "        embed_document(root);\n",
       "      } else {\n",
       "        attempts++;\n",
       "        if (attempts > 100) {\n",
       "          clearInterval(timer);\n",
       "          console.log(\"Bokeh: ERROR: Unable to run BokehJS code because BokehJS library is missing\");\n",
       "        }\n",
       "      }\n",
       "    }, 10, root)\n",
       "  }\n",
       "})(window);"
      ],
      "application/vnd.bokehjs_exec.v0+json": ""
     },
     "metadata": {
      "application/vnd.bokehjs_exec.v0+json": {
       "id": "1747"
      }
     },
     "output_type": "display_data"
    }
   ],
   "source": [
    "# Plot\n",
    "plotting.output_notebook()\n",
    "\n",
    "p = plotting.figure(title='Three waves', x_axis_label='x',\n",
    "                    #x_axis_type=\"log\", #y_axis_type=\"log\",\n",
    "                   y_axis_label='A', plot_width=600)#, x_range=(10**-4, 1.),\n",
    "                   #y_range=(1e-12, 1)))\n",
    "    \n",
    "p.line('x', 'y', source=source, line_width=2, color='blue')\n",
    "\n",
    "time_slider = models.Slider(start=0, end=20, value=0, step=1, title=\"time (days)\")\n",
    "\n",
    "callback = models.CustomJS(args=dict(source=source, time=time_slider),\n",
    "                    code=\"\"\"\n",
    "    const data = source.data;\n",
    "    const t = time.value;\n",
    "    const x = data['x']\n",
    "    const y = data['y']\n",
    "    const ck1 = 0.62831853\n",
    "    const ck2 = 0.9424777\n",
    "    const ck3 = 0.7330382\n",
    "    const k1 = 0.00628319\n",
    "    const k2 = 0.00314159\n",
    "    const k3 = 0.0020944\n",
    "    const A = 0.001\n",
    "    for (var i = 0; i < x.length; i++) {\n",
    "        y[i] = A*Math.sin(k1*x[i])*Math.exp(ck1*t) + A*Math.sin(k2*x[i])*Math.exp(ck2*t) + A*Math.sin(k3*x[i])*Math.exp(ck3*t);\n",
    "    }\n",
    "    source.change.emit();\n",
    "\"\"\")\n",
    "\n",
    "time_slider.js_on_change('value', callback)\n",
    "\n",
    "layout = layouts.row(p, time_slider)\n",
    "\n",
    "plotting.show(layout)"
   ]
  },
  {
   "cell_type": "markdown",
   "metadata": {},
   "source": [
    "----"
   ]
  },
  {
   "cell_type": "markdown",
   "metadata": {},
   "source": [
    "# PS5-2 <font color='blue'>(C-R 10-2)</font> "
   ]
  },
  {
   "cell_type": "markdown",
   "metadata": {},
   "source": [
    "## Recall that a *necessary* condition for instability is that $\\beta_0 - d^2 \\bar u / dy^2$ vanish somewhere within the domain.\n",
    "\n",
    "## And, likewise, a *sufficient* condition for stability is that it does not."
   ]
  },
  {
   "cell_type": "markdown",
   "metadata": {},
   "source": [
    "## Another *necessary* condition for stability is that $(\\bar u - \\bar u_0) (\\beta_0 - d^2 \\bar u / dy^2)$ be positive in the domain, where $\\bar u_0$ is the value of $\\bar u(y)$ where the expression vanishes."
   ]
  },
  {
   "cell_type": "markdown",
   "metadata": {},
   "source": [
    "## Let us now go through the various functions:"
   ]
  },
  {
   "cell_type": "markdown",
   "metadata": {},
   "source": [
    "## $\\bar u(y) = U \\left ( 1 - \\frac{y^2}{L^2} \\right ) \\;\\; [-L \\le y \\le +L]$\n",
    "\n",
    "## $\\frac{d^2 \\bar u(y)}{d y^2} = \\frac{-2U}{L}$\n",
    "\n",
    "## As $\\beta_0$ is positive definite, $\\beta_0 - d^2 \\bar u / dy^2$ will also be positive definite.  Therefore, this flow field is *stable*."
   ]
  },
  {
   "cell_type": "markdown",
   "metadata": {},
   "source": [
    "## $\\bar u(y) = U \\sin \\frac{\\pi y}{L} \\;\\; [0 \\le y \\le L]$\n",
    "\n",
    "## $\\frac{d^2 \\bar u(y)}{d y^2} = \\frac{-U \\pi^2}{L^2} \\sin \\frac{\\pi y}{L}$\n",
    "\n",
    "## As $\\sin \\frac{\\pi y}{L}$ is positive definite for this domain, then $\\beta_0 - d^2 \\bar u / dy^2$ will also be positive definite.  Therefore, this flow field is *stable*."
   ]
  },
  {
   "cell_type": "markdown",
   "metadata": {},
   "source": [
    "## $\\bar u(y) = U \\cos \\frac{\\pi y}{L} \\;\\; [0 \\le y \\le L]$\n",
    "\n",
    "## $\\frac{d^2 \\bar u(y)}{d y^2} = \\frac{-U \\pi^2}{L^2} \\cos \\frac{\\pi y}{L}$\n",
    "\n",
    "##  $\\cos \\frac{\\pi y}{L}$ flips sign in this domain, so $\\beta_0 - d^2 \\bar u / dy^2$ can also flip sign and vanish.   This would occur when $\\beta_0 = \\frac{U \\pi^2}{L^2} \\cos \\frac{\\pi y}{L}$ implying\n",
    "\n",
    "## $\\bar u_0 = \\frac{\\beta_0 L^2}{\\pi^2}$\n",
    "\n",
    "## This sets a condition on $U$ for instability."
   ]
  },
  {
   "cell_type": "markdown",
   "metadata": {},
   "source": [
    "## $\\bar u(y) = U \\tanh \\frac{y}{L} \\;\\; [-\\infty \\le y \\le \\infty]$\n",
    "\n",
    "## $\\frac{d^2 \\bar u(y)}{d y^2} = \\frac{-2U}{L^2} \\frac{\\sinh \\frac{y}{L}}{\\cosh^3 \\frac{y}{L}}$\n",
    "\n",
    "## The 2nd derivative flips sign at $y=0$.  Therefore,  $\\beta_0 - d^2 \\bar u / dy^2$ can also flip sign and vanish.   The largest *negative* value of $d^2 \\bar u/dy^2$ is $\\approx 1.4 U / L^2$ so this sets an upper limit on $\\beta_0$ for instability, i.e.  $\\beta_0 < 1.4 U/L^2$"
   ]
  },
  {
   "cell_type": "markdown",
   "metadata": {},
   "source": [
    "----"
   ]
  },
  {
   "cell_type": "markdown",
   "metadata": {},
   "source": [
    "# PS5-3 <font color='blue'>(C-R 10-4)</font> -- Jet Stream"
   ]
  },
  {
   "cell_type": "markdown",
   "metadata": {},
   "source": [
    "## We will parameterize the jet stream with:\n",
    "\n",
    "## $\\bar u(y) = U \\, \\exp \\left ( -\\frac{y^2}{2L^2} \\right )$\n",
    "\n",
    "## where $y=0$ at $45^\\circ$N and $\\beta_0 = 1.61 \\times 10^{-11} \\, \\rm m^{-1} s^{-1}$, $U = 40$m/s, and $L = 570$km."
   ]
  },
  {
   "cell_type": "markdown",
   "metadata": {},
   "source": [
    "## This implies\n",
    "\n",
    "## $\\frac{d^2 \\bar u(y)}{d y^2} = \\frac{U}{L^2} \\, \\exp \\left ( -\\frac{y^2}{2L^2} \\right ) \\left [ \\frac{y^2}{L^2} -1 \\right ]$"
   ]
  },
  {
   "cell_type": "markdown",
   "metadata": {},
   "source": [
    "## Let's plot $\\beta_0 - d^2 \\bar u / dy^2$ in the domain $0 \\le y \\le 3000$km"
   ]
  },
  {
   "cell_type": "code",
   "execution_count": 26,
   "metadata": {},
   "outputs": [],
   "source": [
    "# constants\n",
    "U = 40 * unyt.m / unyt.s\n",
    "L = 570 * unyt.km\n",
    "beta_0 = 1.61e-11 / unyt.m / unyt.s"
   ]
  },
  {
   "cell_type": "code",
   "execution_count": 85,
   "metadata": {},
   "outputs": [],
   "source": [
    "yval = np.linspace(0, 3000., 3000) * unyt.km"
   ]
  },
  {
   "cell_type": "code",
   "execution_count": 86,
   "metadata": {},
   "outputs": [],
   "source": [
    "d2u_dy2 = (U/L**2) * np.exp(- yval**2 / 2 / L**2) * (yval**2 / L**2 - 1)"
   ]
  },
  {
   "cell_type": "code",
   "execution_count": 102,
   "metadata": {},
   "outputs": [
    {
     "data": {
      "text/plain": [
       "unyt_array([-1.23114805e-10, -1.23114236e-10, -1.23112529e-10, ...,\n",
       "             3.22920100e-15,  3.20174158e-15,  3.17450510e-15], '1/(m*s)')"
      ]
     },
     "execution_count": 102,
     "metadata": {},
     "output_type": "execute_result"
    }
   ],
   "source": [
    "d2u_dy2.to('1/m/s')"
   ]
  },
  {
   "cell_type": "code",
   "execution_count": 118,
   "metadata": {},
   "outputs": [
    {
     "data": {
      "text/html": [
       "\n",
       "    <div class=\"bk-root\">\n",
       "        <a href=\"https://bokeh.org\" target=\"_blank\" class=\"bk-logo bk-logo-small bk-logo-notebook\"></a>\n",
       "        <span id=\"5660\">Loading BokehJS ...</span>\n",
       "    </div>"
      ]
     },
     "metadata": {},
     "output_type": "display_data"
    },
    {
     "data": {
      "application/javascript": [
       "\n",
       "(function(root) {\n",
       "  function now() {\n",
       "    return new Date();\n",
       "  }\n",
       "\n",
       "  var force = true;\n",
       "\n",
       "  if (typeof root._bokeh_onload_callbacks === \"undefined\" || force === true) {\n",
       "    root._bokeh_onload_callbacks = [];\n",
       "    root._bokeh_is_loading = undefined;\n",
       "  }\n",
       "\n",
       "  var JS_MIME_TYPE = 'application/javascript';\n",
       "  var HTML_MIME_TYPE = 'text/html';\n",
       "  var EXEC_MIME_TYPE = 'application/vnd.bokehjs_exec.v0+json';\n",
       "  var CLASS_NAME = 'output_bokeh rendered_html';\n",
       "\n",
       "  /**\n",
       "   * Render data to the DOM node\n",
       "   */\n",
       "  function render(props, node) {\n",
       "    var script = document.createElement(\"script\");\n",
       "    node.appendChild(script);\n",
       "  }\n",
       "\n",
       "  /**\n",
       "   * Handle when an output is cleared or removed\n",
       "   */\n",
       "  function handleClearOutput(event, handle) {\n",
       "    var cell = handle.cell;\n",
       "\n",
       "    var id = cell.output_area._bokeh_element_id;\n",
       "    var server_id = cell.output_area._bokeh_server_id;\n",
       "    // Clean up Bokeh references\n",
       "    if (id != null && id in Bokeh.index) {\n",
       "      Bokeh.index[id].model.document.clear();\n",
       "      delete Bokeh.index[id];\n",
       "    }\n",
       "\n",
       "    if (server_id !== undefined) {\n",
       "      // Clean up Bokeh references\n",
       "      var cmd = \"from bokeh.io.state import curstate; print(curstate().uuid_to_server['\" + server_id + \"'].get_sessions()[0].document.roots[0]._id)\";\n",
       "      cell.notebook.kernel.execute(cmd, {\n",
       "        iopub: {\n",
       "          output: function(msg) {\n",
       "            var id = msg.content.text.trim();\n",
       "            if (id in Bokeh.index) {\n",
       "              Bokeh.index[id].model.document.clear();\n",
       "              delete Bokeh.index[id];\n",
       "            }\n",
       "          }\n",
       "        }\n",
       "      });\n",
       "      // Destroy server and session\n",
       "      var cmd = \"import bokeh.io.notebook as ion; ion.destroy_server('\" + server_id + \"')\";\n",
       "      cell.notebook.kernel.execute(cmd);\n",
       "    }\n",
       "  }\n",
       "\n",
       "  /**\n",
       "   * Handle when a new output is added\n",
       "   */\n",
       "  function handleAddOutput(event, handle) {\n",
       "    var output_area = handle.output_area;\n",
       "    var output = handle.output;\n",
       "\n",
       "    // limit handleAddOutput to display_data with EXEC_MIME_TYPE content only\n",
       "    if ((output.output_type != \"display_data\") || (!output.data.hasOwnProperty(EXEC_MIME_TYPE))) {\n",
       "      return\n",
       "    }\n",
       "\n",
       "    var toinsert = output_area.element.find(\".\" + CLASS_NAME.split(' ')[0]);\n",
       "\n",
       "    if (output.metadata[EXEC_MIME_TYPE][\"id\"] !== undefined) {\n",
       "      toinsert[toinsert.length - 1].firstChild.textContent = output.data[JS_MIME_TYPE];\n",
       "      // store reference to embed id on output_area\n",
       "      output_area._bokeh_element_id = output.metadata[EXEC_MIME_TYPE][\"id\"];\n",
       "    }\n",
       "    if (output.metadata[EXEC_MIME_TYPE][\"server_id\"] !== undefined) {\n",
       "      var bk_div = document.createElement(\"div\");\n",
       "      bk_div.innerHTML = output.data[HTML_MIME_TYPE];\n",
       "      var script_attrs = bk_div.children[0].attributes;\n",
       "      for (var i = 0; i < script_attrs.length; i++) {\n",
       "        toinsert[toinsert.length - 1].firstChild.setAttribute(script_attrs[i].name, script_attrs[i].value);\n",
       "      }\n",
       "      // store reference to server id on output_area\n",
       "      output_area._bokeh_server_id = output.metadata[EXEC_MIME_TYPE][\"server_id\"];\n",
       "    }\n",
       "  }\n",
       "\n",
       "  function register_renderer(events, OutputArea) {\n",
       "\n",
       "    function append_mime(data, metadata, element) {\n",
       "      // create a DOM node to render to\n",
       "      var toinsert = this.create_output_subarea(\n",
       "        metadata,\n",
       "        CLASS_NAME,\n",
       "        EXEC_MIME_TYPE\n",
       "      );\n",
       "      this.keyboard_manager.register_events(toinsert);\n",
       "      // Render to node\n",
       "      var props = {data: data, metadata: metadata[EXEC_MIME_TYPE]};\n",
       "      render(props, toinsert[toinsert.length - 1]);\n",
       "      element.append(toinsert);\n",
       "      return toinsert\n",
       "    }\n",
       "\n",
       "    /* Handle when an output is cleared or removed */\n",
       "    events.on('clear_output.CodeCell', handleClearOutput);\n",
       "    events.on('delete.Cell', handleClearOutput);\n",
       "\n",
       "    /* Handle when a new output is added */\n",
       "    events.on('output_added.OutputArea', handleAddOutput);\n",
       "\n",
       "    /**\n",
       "     * Register the mime type and append_mime function with output_area\n",
       "     */\n",
       "    OutputArea.prototype.register_mime_type(EXEC_MIME_TYPE, append_mime, {\n",
       "      /* Is output safe? */\n",
       "      safe: true,\n",
       "      /* Index of renderer in `output_area.display_order` */\n",
       "      index: 0\n",
       "    });\n",
       "  }\n",
       "\n",
       "  // register the mime type if in Jupyter Notebook environment and previously unregistered\n",
       "  if (root.Jupyter !== undefined) {\n",
       "    var events = require('base/js/events');\n",
       "    var OutputArea = require('notebook/js/outputarea').OutputArea;\n",
       "\n",
       "    if (OutputArea.prototype.mime_types().indexOf(EXEC_MIME_TYPE) == -1) {\n",
       "      register_renderer(events, OutputArea);\n",
       "    }\n",
       "  }\n",
       "\n",
       "  \n",
       "  if (typeof (root._bokeh_timeout) === \"undefined\" || force === true) {\n",
       "    root._bokeh_timeout = Date.now() + 5000;\n",
       "    root._bokeh_failed_load = false;\n",
       "  }\n",
       "\n",
       "  var NB_LOAD_WARNING = {'data': {'text/html':\n",
       "     \"<div style='background-color: #fdd'>\\n\"+\n",
       "     \"<p>\\n\"+\n",
       "     \"BokehJS does not appear to have successfully loaded. If loading BokehJS from CDN, this \\n\"+\n",
       "     \"may be due to a slow or bad network connection. Possible fixes:\\n\"+\n",
       "     \"</p>\\n\"+\n",
       "     \"<ul>\\n\"+\n",
       "     \"<li>re-rerun `output_notebook()` to attempt to load from CDN again, or</li>\\n\"+\n",
       "     \"<li>use INLINE resources instead, as so:</li>\\n\"+\n",
       "     \"</ul>\\n\"+\n",
       "     \"<code>\\n\"+\n",
       "     \"from bokeh.resources import INLINE\\n\"+\n",
       "     \"output_notebook(resources=INLINE)\\n\"+\n",
       "     \"</code>\\n\"+\n",
       "     \"</div>\"}};\n",
       "\n",
       "  function display_loaded() {\n",
       "    var el = document.getElementById(\"5660\");\n",
       "    if (el != null) {\n",
       "      el.textContent = \"BokehJS is loading...\";\n",
       "    }\n",
       "    if (root.Bokeh !== undefined) {\n",
       "      if (el != null) {\n",
       "        el.textContent = \"BokehJS \" + root.Bokeh.version + \" successfully loaded.\";\n",
       "      }\n",
       "    } else if (Date.now() < root._bokeh_timeout) {\n",
       "      setTimeout(display_loaded, 100)\n",
       "    }\n",
       "  }\n",
       "\n",
       "\n",
       "  function run_callbacks() {\n",
       "    try {\n",
       "      root._bokeh_onload_callbacks.forEach(function(callback) {\n",
       "        if (callback != null)\n",
       "          callback();\n",
       "      });\n",
       "    } finally {\n",
       "      delete root._bokeh_onload_callbacks\n",
       "    }\n",
       "    console.debug(\"Bokeh: all callbacks have finished\");\n",
       "  }\n",
       "\n",
       "  function load_libs(css_urls, js_urls, callback) {\n",
       "    if (css_urls == null) css_urls = [];\n",
       "    if (js_urls == null) js_urls = [];\n",
       "\n",
       "    root._bokeh_onload_callbacks.push(callback);\n",
       "    if (root._bokeh_is_loading > 0) {\n",
       "      console.debug(\"Bokeh: BokehJS is being loaded, scheduling callback at\", now());\n",
       "      return null;\n",
       "    }\n",
       "    if (js_urls == null || js_urls.length === 0) {\n",
       "      run_callbacks();\n",
       "      return null;\n",
       "    }\n",
       "    console.debug(\"Bokeh: BokehJS not loaded, scheduling load and callback at\", now());\n",
       "    root._bokeh_is_loading = css_urls.length + js_urls.length;\n",
       "\n",
       "    function on_load() {\n",
       "      root._bokeh_is_loading--;\n",
       "      if (root._bokeh_is_loading === 0) {\n",
       "        console.debug(\"Bokeh: all BokehJS libraries/stylesheets loaded\");\n",
       "        run_callbacks()\n",
       "      }\n",
       "    }\n",
       "\n",
       "    function on_error() {\n",
       "      console.error(\"failed to load \" + url);\n",
       "    }\n",
       "\n",
       "    for (var i = 0; i < css_urls.length; i++) {\n",
       "      var url = css_urls[i];\n",
       "      const element = document.createElement(\"link\");\n",
       "      element.onload = on_load;\n",
       "      element.onerror = on_error;\n",
       "      element.rel = \"stylesheet\";\n",
       "      element.type = \"text/css\";\n",
       "      element.href = url;\n",
       "      console.debug(\"Bokeh: injecting link tag for BokehJS stylesheet: \", url);\n",
       "      document.body.appendChild(element);\n",
       "    }\n",
       "\n",
       "    for (var i = 0; i < js_urls.length; i++) {\n",
       "      var url = js_urls[i];\n",
       "      var element = document.createElement('script');\n",
       "      element.onload = on_load;\n",
       "      element.onerror = on_error;\n",
       "      element.async = false;\n",
       "      element.src = url;\n",
       "      console.debug(\"Bokeh: injecting script tag for BokehJS library: \", url);\n",
       "      document.head.appendChild(element);\n",
       "    }\n",
       "  };var element = document.getElementById(\"5660\");\n",
       "  if (element == null) {\n",
       "    console.error(\"Bokeh: ERROR: autoload.js configured with elementid '5660' but no matching script tag was found. \")\n",
       "    return false;\n",
       "  }\n",
       "\n",
       "  function inject_raw_css(css) {\n",
       "    const element = document.createElement(\"style\");\n",
       "    element.appendChild(document.createTextNode(css));\n",
       "    document.body.appendChild(element);\n",
       "  }\n",
       "\n",
       "  \n",
       "  var js_urls = [\"https://cdn.pydata.org/bokeh/release/bokeh-1.4.0.min.js\", \"https://cdn.pydata.org/bokeh/release/bokeh-widgets-1.4.0.min.js\", \"https://cdn.pydata.org/bokeh/release/bokeh-tables-1.4.0.min.js\", \"https://cdn.pydata.org/bokeh/release/bokeh-gl-1.4.0.min.js\"];\n",
       "  var css_urls = [];\n",
       "  \n",
       "\n",
       "  var inline_js = [\n",
       "    function(Bokeh) {\n",
       "      Bokeh.set_log_level(\"info\");\n",
       "    },\n",
       "    function(Bokeh) {\n",
       "    \n",
       "    \n",
       "    }\n",
       "  ];\n",
       "\n",
       "  function run_inline_js() {\n",
       "    \n",
       "    if (root.Bokeh !== undefined || force === true) {\n",
       "      \n",
       "    for (var i = 0; i < inline_js.length; i++) {\n",
       "      inline_js[i].call(root, root.Bokeh);\n",
       "    }\n",
       "    if (force === true) {\n",
       "        display_loaded();\n",
       "      }} else if (Date.now() < root._bokeh_timeout) {\n",
       "      setTimeout(run_inline_js, 100);\n",
       "    } else if (!root._bokeh_failed_load) {\n",
       "      console.log(\"Bokeh: BokehJS failed to load within specified timeout.\");\n",
       "      root._bokeh_failed_load = true;\n",
       "    } else if (force !== true) {\n",
       "      var cell = $(document.getElementById(\"5660\")).parents('.cell').data().cell;\n",
       "      cell.output_area.append_execute_result(NB_LOAD_WARNING)\n",
       "    }\n",
       "\n",
       "  }\n",
       "\n",
       "  if (root._bokeh_is_loading === 0) {\n",
       "    console.debug(\"Bokeh: BokehJS loaded, going straight to plotting\");\n",
       "    run_inline_js();\n",
       "  } else {\n",
       "    load_libs(css_urls, js_urls, function() {\n",
       "      console.debug(\"Bokeh: BokehJS plotting callback run at\", now());\n",
       "      run_inline_js();\n",
       "    });\n",
       "  }\n",
       "}(window));"
      ],
      "application/vnd.bokehjs_load.v0+json": "\n(function(root) {\n  function now() {\n    return new Date();\n  }\n\n  var force = true;\n\n  if (typeof root._bokeh_onload_callbacks === \"undefined\" || force === true) {\n    root._bokeh_onload_callbacks = [];\n    root._bokeh_is_loading = undefined;\n  }\n\n  \n\n  \n  if (typeof (root._bokeh_timeout) === \"undefined\" || force === true) {\n    root._bokeh_timeout = Date.now() + 5000;\n    root._bokeh_failed_load = false;\n  }\n\n  var NB_LOAD_WARNING = {'data': {'text/html':\n     \"<div style='background-color: #fdd'>\\n\"+\n     \"<p>\\n\"+\n     \"BokehJS does not appear to have successfully loaded. If loading BokehJS from CDN, this \\n\"+\n     \"may be due to a slow or bad network connection. Possible fixes:\\n\"+\n     \"</p>\\n\"+\n     \"<ul>\\n\"+\n     \"<li>re-rerun `output_notebook()` to attempt to load from CDN again, or</li>\\n\"+\n     \"<li>use INLINE resources instead, as so:</li>\\n\"+\n     \"</ul>\\n\"+\n     \"<code>\\n\"+\n     \"from bokeh.resources import INLINE\\n\"+\n     \"output_notebook(resources=INLINE)\\n\"+\n     \"</code>\\n\"+\n     \"</div>\"}};\n\n  function display_loaded() {\n    var el = document.getElementById(\"5660\");\n    if (el != null) {\n      el.textContent = \"BokehJS is loading...\";\n    }\n    if (root.Bokeh !== undefined) {\n      if (el != null) {\n        el.textContent = \"BokehJS \" + root.Bokeh.version + \" successfully loaded.\";\n      }\n    } else if (Date.now() < root._bokeh_timeout) {\n      setTimeout(display_loaded, 100)\n    }\n  }\n\n\n  function run_callbacks() {\n    try {\n      root._bokeh_onload_callbacks.forEach(function(callback) {\n        if (callback != null)\n          callback();\n      });\n    } finally {\n      delete root._bokeh_onload_callbacks\n    }\n    console.debug(\"Bokeh: all callbacks have finished\");\n  }\n\n  function load_libs(css_urls, js_urls, callback) {\n    if (css_urls == null) css_urls = [];\n    if (js_urls == null) js_urls = [];\n\n    root._bokeh_onload_callbacks.push(callback);\n    if (root._bokeh_is_loading > 0) {\n      console.debug(\"Bokeh: BokehJS is being loaded, scheduling callback at\", now());\n      return null;\n    }\n    if (js_urls == null || js_urls.length === 0) {\n      run_callbacks();\n      return null;\n    }\n    console.debug(\"Bokeh: BokehJS not loaded, scheduling load and callback at\", now());\n    root._bokeh_is_loading = css_urls.length + js_urls.length;\n\n    function on_load() {\n      root._bokeh_is_loading--;\n      if (root._bokeh_is_loading === 0) {\n        console.debug(\"Bokeh: all BokehJS libraries/stylesheets loaded\");\n        run_callbacks()\n      }\n    }\n\n    function on_error() {\n      console.error(\"failed to load \" + url);\n    }\n\n    for (var i = 0; i < css_urls.length; i++) {\n      var url = css_urls[i];\n      const element = document.createElement(\"link\");\n      element.onload = on_load;\n      element.onerror = on_error;\n      element.rel = \"stylesheet\";\n      element.type = \"text/css\";\n      element.href = url;\n      console.debug(\"Bokeh: injecting link tag for BokehJS stylesheet: \", url);\n      document.body.appendChild(element);\n    }\n\n    for (var i = 0; i < js_urls.length; i++) {\n      var url = js_urls[i];\n      var element = document.createElement('script');\n      element.onload = on_load;\n      element.onerror = on_error;\n      element.async = false;\n      element.src = url;\n      console.debug(\"Bokeh: injecting script tag for BokehJS library: \", url);\n      document.head.appendChild(element);\n    }\n  };var element = document.getElementById(\"5660\");\n  if (element == null) {\n    console.error(\"Bokeh: ERROR: autoload.js configured with elementid '5660' but no matching script tag was found. \")\n    return false;\n  }\n\n  function inject_raw_css(css) {\n    const element = document.createElement(\"style\");\n    element.appendChild(document.createTextNode(css));\n    document.body.appendChild(element);\n  }\n\n  \n  var js_urls = [\"https://cdn.pydata.org/bokeh/release/bokeh-1.4.0.min.js\", \"https://cdn.pydata.org/bokeh/release/bokeh-widgets-1.4.0.min.js\", \"https://cdn.pydata.org/bokeh/release/bokeh-tables-1.4.0.min.js\", \"https://cdn.pydata.org/bokeh/release/bokeh-gl-1.4.0.min.js\"];\n  var css_urls = [];\n  \n\n  var inline_js = [\n    function(Bokeh) {\n      Bokeh.set_log_level(\"info\");\n    },\n    function(Bokeh) {\n    \n    \n    }\n  ];\n\n  function run_inline_js() {\n    \n    if (root.Bokeh !== undefined || force === true) {\n      \n    for (var i = 0; i < inline_js.length; i++) {\n      inline_js[i].call(root, root.Bokeh);\n    }\n    if (force === true) {\n        display_loaded();\n      }} else if (Date.now() < root._bokeh_timeout) {\n      setTimeout(run_inline_js, 100);\n    } else if (!root._bokeh_failed_load) {\n      console.log(\"Bokeh: BokehJS failed to load within specified timeout.\");\n      root._bokeh_failed_load = true;\n    } else if (force !== true) {\n      var cell = $(document.getElementById(\"5660\")).parents('.cell').data().cell;\n      cell.output_area.append_execute_result(NB_LOAD_WARNING)\n    }\n\n  }\n\n  if (root._bokeh_is_loading === 0) {\n    console.debug(\"Bokeh: BokehJS loaded, going straight to plotting\");\n    run_inline_js();\n  } else {\n    load_libs(css_urls, js_urls, function() {\n      console.debug(\"Bokeh: BokehJS plotting callback run at\", now());\n      run_inline_js();\n    });\n  }\n}(window));"
     },
     "metadata": {},
     "output_type": "display_data"
    },
    {
     "name": "stderr",
     "output_type": "stream",
     "text": [
      "BokehDeprecationWarning: 'legend' keyword is deprecated, use explicit 'legend_label', 'legend_field', or 'legend_group' keywords instead\n"
     ]
    },
    {
     "data": {
      "text/html": [
       "\n",
       "\n",
       "\n",
       "\n",
       "\n",
       "\n",
       "  <div class=\"bk-root\" id=\"24de23ff-b7f3-4dd2-bc25-24eb9eb11d29\" data-root-id=\"5661\"></div>\n"
      ]
     },
     "metadata": {},
     "output_type": "display_data"
    },
    {
     "data": {
      "application/javascript": [
       "(function(root) {\n",
       "  function embed_document(root) {\n",
       "    \n",
       "  var docs_json = {\"63b9434d-d955-4b50-9f07-7912f02d63eb\":{\"roots\":{\"references\":[{\"attributes\":{\"below\":[{\"id\":\"5672\",\"type\":\"LinearAxis\"}],\"center\":[{\"id\":\"5676\",\"type\":\"Grid\"},{\"id\":\"5681\",\"type\":\"Grid\"},{\"id\":\"5706\",\"type\":\"Legend\"}],\"left\":[{\"id\":\"5677\",\"type\":\"LinearAxis\"}],\"renderers\":[{\"id\":\"5698\",\"type\":\"GlyphRenderer\"}],\"title\":{\"id\":\"5662\",\"type\":\"Title\"},\"toolbar\":{\"id\":\"5688\",\"type\":\"Toolbar\"},\"x_range\":{\"id\":\"5664\",\"type\":\"DataRange1d\"},\"x_scale\":{\"id\":\"5668\",\"type\":\"LinearScale\"},\"y_range\":{\"id\":\"5666\",\"type\":\"DataRange1d\"},\"y_scale\":{\"id\":\"5670\",\"type\":\"LinearScale\"}},\"id\":\"5661\",\"subtype\":\"Figure\",\"type\":\"Plot\"},{\"attributes\":{\"axis_label\":\"beta - d^2 u/dy^2\",\"axis_label_text_font_size\":{\"value\":\"16pt\"},\"formatter\":{\"id\":\"5702\",\"type\":\"BasicTickFormatter\"},\"major_label_text_font_size\":{\"value\":\"16pt\"},\"ticker\":{\"id\":\"5678\",\"type\":\"BasicTicker\"}},\"id\":\"5677\",\"type\":\"LinearAxis\"},{\"attributes\":{\"callback\":null},\"id\":\"5664\",\"type\":\"DataRange1d\"},{\"attributes\":{},\"id\":\"5906\",\"type\":\"UnionRenderers\"},{\"attributes\":{\"source\":{\"id\":\"5695\",\"type\":\"ColumnDataSource\"}},\"id\":\"5699\",\"type\":\"CDSView\"},{\"attributes\":{},\"id\":\"5687\",\"type\":\"HelpTool\"},{\"attributes\":{\"dimension\":1,\"ticker\":{\"id\":\"5678\",\"type\":\"BasicTicker\"}},\"id\":\"5681\",\"type\":\"Grid\"},{\"attributes\":{\"callback\":null,\"data\":{\"x\":{\"__ndarray__\":\"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\",\"dtype\":\"float64\",\"shape\":[3000]},\"y\":{\"__ndarray__\":\"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\",\"dtype\":\"float64\",\"shape\":[3000]}},\"selected\":{\"id\":\"5905\",\"type\":\"Selection\"},\"selection_policy\":{\"id\":\"5906\",\"type\":\"UnionRenderers\"}},\"id\":\"5695\",\"type\":\"ColumnDataSource\"},{\"attributes\":{},\"id\":\"5673\",\"type\":\"BasicTicker\"},{\"attributes\":{\"line_color\":\"#1f77b4\",\"line_width\":2,\"x\":{\"field\":\"x\"},\"y\":{\"field\":\"y\"}},\"id\":\"5696\",\"type\":\"Line\"},{\"attributes\":{},\"id\":\"5683\",\"type\":\"WheelZoomTool\"},{\"attributes\":{},\"id\":\"5686\",\"type\":\"ResetTool\"},{\"attributes\":{\"line_alpha\":0.1,\"line_color\":\"#1f77b4\",\"line_width\":2,\"x\":{\"field\":\"x\"},\"y\":{\"field\":\"y\"}},\"id\":\"5697\",\"type\":\"Line\"},{\"attributes\":{},\"id\":\"5704\",\"type\":\"BasicTickFormatter\"},{\"attributes\":{},\"id\":\"5905\",\"type\":\"Selection\"},{\"attributes\":{\"items\":[{\"id\":\"5707\",\"type\":\"LegendItem\"}]},\"id\":\"5706\",\"type\":\"Legend\"},{\"attributes\":{},\"id\":\"5682\",\"type\":\"PanTool\"},{\"attributes\":{\"bottom_units\":\"screen\",\"fill_alpha\":{\"value\":0.5},\"fill_color\":{\"value\":\"lightgrey\"},\"left_units\":\"screen\",\"level\":\"overlay\",\"line_alpha\":{\"value\":1.0},\"line_color\":{\"value\":\"black\"},\"line_dash\":[4,4],\"line_width\":{\"value\":2},\"render_mode\":\"css\",\"right_units\":\"screen\",\"top_units\":\"screen\"},\"id\":\"5705\",\"type\":\"BoxAnnotation\"},{\"attributes\":{},\"id\":\"5670\",\"type\":\"LinearScale\"},{\"attributes\":{\"active_drag\":\"auto\",\"active_inspect\":\"auto\",\"active_multi\":null,\"active_scroll\":\"auto\",\"active_tap\":\"auto\",\"tools\":[{\"id\":\"5682\",\"type\":\"PanTool\"},{\"id\":\"5683\",\"type\":\"WheelZoomTool\"},{\"id\":\"5684\",\"type\":\"BoxZoomTool\"},{\"id\":\"5685\",\"type\":\"SaveTool\"},{\"id\":\"5686\",\"type\":\"ResetTool\"},{\"id\":\"5687\",\"type\":\"HelpTool\"}]},\"id\":\"5688\",\"type\":\"Toolbar\"},{\"attributes\":{\"data_source\":{\"id\":\"5695\",\"type\":\"ColumnDataSource\"},\"glyph\":{\"id\":\"5696\",\"type\":\"Line\"},\"hover_glyph\":null,\"muted_glyph\":null,\"nonselection_glyph\":{\"id\":\"5697\",\"type\":\"Line\"},\"selection_glyph\":null,\"view\":{\"id\":\"5699\",\"type\":\"CDSView\"}},\"id\":\"5698\",\"type\":\"GlyphRenderer\"},{\"attributes\":{\"overlay\":{\"id\":\"5705\",\"type\":\"BoxAnnotation\"}},\"id\":\"5684\",\"type\":\"BoxZoomTool\"},{\"attributes\":{\"callback\":null},\"id\":\"5666\",\"type\":\"DataRange1d\"},{\"attributes\":{\"ticker\":{\"id\":\"5673\",\"type\":\"BasicTicker\"}},\"id\":\"5676\",\"type\":\"Grid\"},{\"attributes\":{},\"id\":\"5678\",\"type\":\"BasicTicker\"},{\"attributes\":{\"text\":\"Jet Stream\"},\"id\":\"5662\",\"type\":\"Title\"},{\"attributes\":{\"axis_label\":\"y\",\"axis_label_text_font_size\":{\"value\":\"16pt\"},\"formatter\":{\"id\":\"5704\",\"type\":\"BasicTickFormatter\"},\"major_label_text_font_size\":{\"value\":\"16pt\"},\"ticker\":{\"id\":\"5673\",\"type\":\"BasicTicker\"}},\"id\":\"5672\",\"type\":\"LinearAxis\"},{\"attributes\":{\"label\":{\"value\":\"difference\"},\"renderers\":[{\"id\":\"5698\",\"type\":\"GlyphRenderer\"}]},\"id\":\"5707\",\"type\":\"LegendItem\"},{\"attributes\":{},\"id\":\"5668\",\"type\":\"LinearScale\"},{\"attributes\":{},\"id\":\"5685\",\"type\":\"SaveTool\"},{\"attributes\":{},\"id\":\"5702\",\"type\":\"BasicTickFormatter\"}],\"root_ids\":[\"5661\"]},\"title\":\"Bokeh Application\",\"version\":\"1.4.0\"}};\n",
       "  var render_items = [{\"docid\":\"63b9434d-d955-4b50-9f07-7912f02d63eb\",\"roots\":{\"5661\":\"24de23ff-b7f3-4dd2-bc25-24eb9eb11d29\"}}];\n",
       "  root.Bokeh.embed.embed_items_notebook(docs_json, render_items);\n",
       "\n",
       "  }\n",
       "  if (root.Bokeh !== undefined) {\n",
       "    embed_document(root);\n",
       "  } else {\n",
       "    var attempts = 0;\n",
       "    var timer = setInterval(function(root) {\n",
       "      if (root.Bokeh !== undefined) {\n",
       "        clearInterval(timer);\n",
       "        embed_document(root);\n",
       "      } else {\n",
       "        attempts++;\n",
       "        if (attempts > 100) {\n",
       "          clearInterval(timer);\n",
       "          console.log(\"Bokeh: ERROR: Unable to run BokehJS code because BokehJS library is missing\");\n",
       "        }\n",
       "      }\n",
       "    }, 10, root)\n",
       "  }\n",
       "})(window);"
      ],
      "application/vnd.bokehjs_exec.v0+json": ""
     },
     "metadata": {
      "application/vnd.bokehjs_exec.v0+json": {
       "id": "5661"
      }
     },
     "output_type": "display_data"
    }
   ],
   "source": [
    "# Plot\n",
    "plotting.output_notebook()\n",
    "\n",
    "p = plotting.figure(title='Jet Stream', x_axis_label='y',\n",
    "                   # x_axis_type=\"log\", #y_axis_type=\"log\",\n",
    "                    plot_width=600,\n",
    "                   y_axis_label='beta - d^2 u/dy^2')#, x_range=(10**-4, 1.),\n",
    "                   #y_range=(1e-12, 1))\n",
    "\n",
    "# Plot em\n",
    "#p.line(y, beta_0-d2u_dy2, legend='difference', line_width=2)\n",
    "p.line(yval, beta_0.value - d2u_dy2.to('1/m/s').value, legend='difference', line_width=2)\n",
    "\n",
    "\n",
    "\n",
    "p.legend.location = \"top_right\"\n",
    "\n",
    "os_plotting.bokeh_set_fontsize(p, 16)\n",
    "\n",
    "plotting.show(p)"
   ]
  },
  {
   "cell_type": "markdown",
   "metadata": {},
   "source": [
    "## We can see that $\\beta_0 - d^2 \\bar u / dy^2$ crosses 0 at $y \\approx$ 630 and 1600km."
   ]
  },
  {
   "cell_type": "markdown",
   "metadata": {},
   "source": [
    "## Let's solve for this numerically"
   ]
  },
  {
   "cell_type": "code",
   "execution_count": 106,
   "metadata": {},
   "outputs": [],
   "source": [
    "U0 = float(U.value)\n",
    "L0 = float(L.to('m').value)\n",
    "beta_00 = float(beta_0.value)\n",
    "def diff_bd2(y):\n",
    "    d2u_dy2 = (U0/L0**2) * np.exp(- y**2 / 2 / L0**2) * (y**2 / L0**2 - 1)\n",
    "    return np.abs(beta_00 - d2u_dy2)*1e11  # To deal with small values\n",
    "#\n",
    "#print(U0, L0, beta_00)"
   ]
  },
  {
   "cell_type": "markdown",
   "metadata": {},
   "source": [
    "### First 630km"
   ]
  },
  {
   "cell_type": "code",
   "execution_count": 108,
   "metadata": {},
   "outputs": [
    {
     "data": {
      "text/plain": [
       "     fun: 1.1022469462961126e-07\n",
       " message: 'Solution found.'\n",
       "    nfev: 21\n",
       "  status: 0\n",
       " success: True\n",
       "       x: 635626.6927469039"
      ]
     },
     "execution_count": 108,
     "metadata": {},
     "output_type": "execute_result"
    }
   ],
   "source": [
    "optimize.minimize_scalar(diff_bd2, bounds=[600.*1e3, 650.*1e3], method='bounded', options=dict(xatol=1e-10))"
   ]
  },
  {
   "cell_type": "code",
   "execution_count": 109,
   "metadata": {},
   "outputs": [
    {
     "data": {
      "text/plain": [
       "unyt_quantity(635.62669, 'km')"
      ]
     },
     "execution_count": 109,
     "metadata": {},
     "output_type": "execute_result"
    }
   ],
   "source": [
    "y0 = 635626.69 / 1e3 * unyt.km \n",
    "y0"
   ]
  },
  {
   "cell_type": "markdown",
   "metadata": {},
   "source": [
    "### Now near 1600km"
   ]
  },
  {
   "cell_type": "code",
   "execution_count": 110,
   "metadata": {},
   "outputs": [
    {
     "data": {
      "text/plain": [
       "     fun: 6.527887509531525e-08\n",
       " message: 'Solution found.'\n",
       "    nfev: 20\n",
       "  status: 0\n",
       " success: True\n",
       "       x: 1606600.8401980055"
      ]
     },
     "execution_count": 110,
     "metadata": {},
     "output_type": "execute_result"
    }
   ],
   "source": [
    "optimize.minimize_scalar(diff_bd2, bounds=[1580.*1e3, 1650.*1e3], method='bounded', options=dict(xatol=1e-10))"
   ]
  },
  {
   "cell_type": "code",
   "execution_count": 111,
   "metadata": {},
   "outputs": [
    {
     "data": {
      "text/plain": [
       "unyt_quantity(1606.6008401, 'km')"
      ]
     },
     "execution_count": 111,
     "metadata": {},
     "output_type": "execute_result"
    }
   ],
   "source": [
    "y1 =  1606600.8401 / 1e3 * unyt.km \n",
    "y1"
   ]
  },
  {
   "cell_type": "markdown",
   "metadata": {},
   "source": [
    "## Let's evaluate $\\bar u$ at these positions:"
   ]
  },
  {
   "cell_type": "code",
   "execution_count": 112,
   "metadata": {},
   "outputs": [
    {
     "data": {
      "text/plain": [
       "unyt_quantity(21.47988528, 'm/s')"
      ]
     },
     "execution_count": 112,
     "metadata": {},
     "output_type": "execute_result"
    }
   ],
   "source": [
    "u0 = U * np.exp(-y0**2/2/L**2)\n",
    "u0"
   ]
  },
  {
   "cell_type": "code",
   "execution_count": 113,
   "metadata": {},
   "outputs": [
    {
     "data": {
      "text/plain": [
       "unyt_quantity(0.7532427, 'm/s')"
      ]
     },
     "execution_count": 113,
     "metadata": {},
     "output_type": "execute_result"
    }
   ],
   "source": [
    "u1 = U * np.exp(-y1**2/2/L**2)\n",
    "u1"
   ]
  },
  {
   "cell_type": "markdown",
   "metadata": {},
   "source": [
    "## Seems we should take the latter (u1).  Let's see if we are positive"
   ]
  },
  {
   "cell_type": "code",
   "execution_count": 115,
   "metadata": {},
   "outputs": [],
   "source": [
    "u = U * np.exp(-yval**2/2/L**2)"
   ]
  },
  {
   "cell_type": "code",
   "execution_count": 117,
   "metadata": {},
   "outputs": [
    {
     "data": {
      "text/html": [
       "\n",
       "    <div class=\"bk-root\">\n",
       "        <a href=\"https://bokeh.org\" target=\"_blank\" class=\"bk-logo bk-logo-small bk-logo-notebook\"></a>\n",
       "        <span id=\"5372\">Loading BokehJS ...</span>\n",
       "    </div>"
      ]
     },
     "metadata": {},
     "output_type": "display_data"
    },
    {
     "data": {
      "application/javascript": [
       "\n",
       "(function(root) {\n",
       "  function now() {\n",
       "    return new Date();\n",
       "  }\n",
       "\n",
       "  var force = true;\n",
       "\n",
       "  if (typeof root._bokeh_onload_callbacks === \"undefined\" || force === true) {\n",
       "    root._bokeh_onload_callbacks = [];\n",
       "    root._bokeh_is_loading = undefined;\n",
       "  }\n",
       "\n",
       "  var JS_MIME_TYPE = 'application/javascript';\n",
       "  var HTML_MIME_TYPE = 'text/html';\n",
       "  var EXEC_MIME_TYPE = 'application/vnd.bokehjs_exec.v0+json';\n",
       "  var CLASS_NAME = 'output_bokeh rendered_html';\n",
       "\n",
       "  /**\n",
       "   * Render data to the DOM node\n",
       "   */\n",
       "  function render(props, node) {\n",
       "    var script = document.createElement(\"script\");\n",
       "    node.appendChild(script);\n",
       "  }\n",
       "\n",
       "  /**\n",
       "   * Handle when an output is cleared or removed\n",
       "   */\n",
       "  function handleClearOutput(event, handle) {\n",
       "    var cell = handle.cell;\n",
       "\n",
       "    var id = cell.output_area._bokeh_element_id;\n",
       "    var server_id = cell.output_area._bokeh_server_id;\n",
       "    // Clean up Bokeh references\n",
       "    if (id != null && id in Bokeh.index) {\n",
       "      Bokeh.index[id].model.document.clear();\n",
       "      delete Bokeh.index[id];\n",
       "    }\n",
       "\n",
       "    if (server_id !== undefined) {\n",
       "      // Clean up Bokeh references\n",
       "      var cmd = \"from bokeh.io.state import curstate; print(curstate().uuid_to_server['\" + server_id + \"'].get_sessions()[0].document.roots[0]._id)\";\n",
       "      cell.notebook.kernel.execute(cmd, {\n",
       "        iopub: {\n",
       "          output: function(msg) {\n",
       "            var id = msg.content.text.trim();\n",
       "            if (id in Bokeh.index) {\n",
       "              Bokeh.index[id].model.document.clear();\n",
       "              delete Bokeh.index[id];\n",
       "            }\n",
       "          }\n",
       "        }\n",
       "      });\n",
       "      // Destroy server and session\n",
       "      var cmd = \"import bokeh.io.notebook as ion; ion.destroy_server('\" + server_id + \"')\";\n",
       "      cell.notebook.kernel.execute(cmd);\n",
       "    }\n",
       "  }\n",
       "\n",
       "  /**\n",
       "   * Handle when a new output is added\n",
       "   */\n",
       "  function handleAddOutput(event, handle) {\n",
       "    var output_area = handle.output_area;\n",
       "    var output = handle.output;\n",
       "\n",
       "    // limit handleAddOutput to display_data with EXEC_MIME_TYPE content only\n",
       "    if ((output.output_type != \"display_data\") || (!output.data.hasOwnProperty(EXEC_MIME_TYPE))) {\n",
       "      return\n",
       "    }\n",
       "\n",
       "    var toinsert = output_area.element.find(\".\" + CLASS_NAME.split(' ')[0]);\n",
       "\n",
       "    if (output.metadata[EXEC_MIME_TYPE][\"id\"] !== undefined) {\n",
       "      toinsert[toinsert.length - 1].firstChild.textContent = output.data[JS_MIME_TYPE];\n",
       "      // store reference to embed id on output_area\n",
       "      output_area._bokeh_element_id = output.metadata[EXEC_MIME_TYPE][\"id\"];\n",
       "    }\n",
       "    if (output.metadata[EXEC_MIME_TYPE][\"server_id\"] !== undefined) {\n",
       "      var bk_div = document.createElement(\"div\");\n",
       "      bk_div.innerHTML = output.data[HTML_MIME_TYPE];\n",
       "      var script_attrs = bk_div.children[0].attributes;\n",
       "      for (var i = 0; i < script_attrs.length; i++) {\n",
       "        toinsert[toinsert.length - 1].firstChild.setAttribute(script_attrs[i].name, script_attrs[i].value);\n",
       "      }\n",
       "      // store reference to server id on output_area\n",
       "      output_area._bokeh_server_id = output.metadata[EXEC_MIME_TYPE][\"server_id\"];\n",
       "    }\n",
       "  }\n",
       "\n",
       "  function register_renderer(events, OutputArea) {\n",
       "\n",
       "    function append_mime(data, metadata, element) {\n",
       "      // create a DOM node to render to\n",
       "      var toinsert = this.create_output_subarea(\n",
       "        metadata,\n",
       "        CLASS_NAME,\n",
       "        EXEC_MIME_TYPE\n",
       "      );\n",
       "      this.keyboard_manager.register_events(toinsert);\n",
       "      // Render to node\n",
       "      var props = {data: data, metadata: metadata[EXEC_MIME_TYPE]};\n",
       "      render(props, toinsert[toinsert.length - 1]);\n",
       "      element.append(toinsert);\n",
       "      return toinsert\n",
       "    }\n",
       "\n",
       "    /* Handle when an output is cleared or removed */\n",
       "    events.on('clear_output.CodeCell', handleClearOutput);\n",
       "    events.on('delete.Cell', handleClearOutput);\n",
       "\n",
       "    /* Handle when a new output is added */\n",
       "    events.on('output_added.OutputArea', handleAddOutput);\n",
       "\n",
       "    /**\n",
       "     * Register the mime type and append_mime function with output_area\n",
       "     */\n",
       "    OutputArea.prototype.register_mime_type(EXEC_MIME_TYPE, append_mime, {\n",
       "      /* Is output safe? */\n",
       "      safe: true,\n",
       "      /* Index of renderer in `output_area.display_order` */\n",
       "      index: 0\n",
       "    });\n",
       "  }\n",
       "\n",
       "  // register the mime type if in Jupyter Notebook environment and previously unregistered\n",
       "  if (root.Jupyter !== undefined) {\n",
       "    var events = require('base/js/events');\n",
       "    var OutputArea = require('notebook/js/outputarea').OutputArea;\n",
       "\n",
       "    if (OutputArea.prototype.mime_types().indexOf(EXEC_MIME_TYPE) == -1) {\n",
       "      register_renderer(events, OutputArea);\n",
       "    }\n",
       "  }\n",
       "\n",
       "  \n",
       "  if (typeof (root._bokeh_timeout) === \"undefined\" || force === true) {\n",
       "    root._bokeh_timeout = Date.now() + 5000;\n",
       "    root._bokeh_failed_load = false;\n",
       "  }\n",
       "\n",
       "  var NB_LOAD_WARNING = {'data': {'text/html':\n",
       "     \"<div style='background-color: #fdd'>\\n\"+\n",
       "     \"<p>\\n\"+\n",
       "     \"BokehJS does not appear to have successfully loaded. If loading BokehJS from CDN, this \\n\"+\n",
       "     \"may be due to a slow or bad network connection. Possible fixes:\\n\"+\n",
       "     \"</p>\\n\"+\n",
       "     \"<ul>\\n\"+\n",
       "     \"<li>re-rerun `output_notebook()` to attempt to load from CDN again, or</li>\\n\"+\n",
       "     \"<li>use INLINE resources instead, as so:</li>\\n\"+\n",
       "     \"</ul>\\n\"+\n",
       "     \"<code>\\n\"+\n",
       "     \"from bokeh.resources import INLINE\\n\"+\n",
       "     \"output_notebook(resources=INLINE)\\n\"+\n",
       "     \"</code>\\n\"+\n",
       "     \"</div>\"}};\n",
       "\n",
       "  function display_loaded() {\n",
       "    var el = document.getElementById(\"5372\");\n",
       "    if (el != null) {\n",
       "      el.textContent = \"BokehJS is loading...\";\n",
       "    }\n",
       "    if (root.Bokeh !== undefined) {\n",
       "      if (el != null) {\n",
       "        el.textContent = \"BokehJS \" + root.Bokeh.version + \" successfully loaded.\";\n",
       "      }\n",
       "    } else if (Date.now() < root._bokeh_timeout) {\n",
       "      setTimeout(display_loaded, 100)\n",
       "    }\n",
       "  }\n",
       "\n",
       "\n",
       "  function run_callbacks() {\n",
       "    try {\n",
       "      root._bokeh_onload_callbacks.forEach(function(callback) {\n",
       "        if (callback != null)\n",
       "          callback();\n",
       "      });\n",
       "    } finally {\n",
       "      delete root._bokeh_onload_callbacks\n",
       "    }\n",
       "    console.debug(\"Bokeh: all callbacks have finished\");\n",
       "  }\n",
       "\n",
       "  function load_libs(css_urls, js_urls, callback) {\n",
       "    if (css_urls == null) css_urls = [];\n",
       "    if (js_urls == null) js_urls = [];\n",
       "\n",
       "    root._bokeh_onload_callbacks.push(callback);\n",
       "    if (root._bokeh_is_loading > 0) {\n",
       "      console.debug(\"Bokeh: BokehJS is being loaded, scheduling callback at\", now());\n",
       "      return null;\n",
       "    }\n",
       "    if (js_urls == null || js_urls.length === 0) {\n",
       "      run_callbacks();\n",
       "      return null;\n",
       "    }\n",
       "    console.debug(\"Bokeh: BokehJS not loaded, scheduling load and callback at\", now());\n",
       "    root._bokeh_is_loading = css_urls.length + js_urls.length;\n",
       "\n",
       "    function on_load() {\n",
       "      root._bokeh_is_loading--;\n",
       "      if (root._bokeh_is_loading === 0) {\n",
       "        console.debug(\"Bokeh: all BokehJS libraries/stylesheets loaded\");\n",
       "        run_callbacks()\n",
       "      }\n",
       "    }\n",
       "\n",
       "    function on_error() {\n",
       "      console.error(\"failed to load \" + url);\n",
       "    }\n",
       "\n",
       "    for (var i = 0; i < css_urls.length; i++) {\n",
       "      var url = css_urls[i];\n",
       "      const element = document.createElement(\"link\");\n",
       "      element.onload = on_load;\n",
       "      element.onerror = on_error;\n",
       "      element.rel = \"stylesheet\";\n",
       "      element.type = \"text/css\";\n",
       "      element.href = url;\n",
       "      console.debug(\"Bokeh: injecting link tag for BokehJS stylesheet: \", url);\n",
       "      document.body.appendChild(element);\n",
       "    }\n",
       "\n",
       "    for (var i = 0; i < js_urls.length; i++) {\n",
       "      var url = js_urls[i];\n",
       "      var element = document.createElement('script');\n",
       "      element.onload = on_load;\n",
       "      element.onerror = on_error;\n",
       "      element.async = false;\n",
       "      element.src = url;\n",
       "      console.debug(\"Bokeh: injecting script tag for BokehJS library: \", url);\n",
       "      document.head.appendChild(element);\n",
       "    }\n",
       "  };var element = document.getElementById(\"5372\");\n",
       "  if (element == null) {\n",
       "    console.error(\"Bokeh: ERROR: autoload.js configured with elementid '5372' but no matching script tag was found. \")\n",
       "    return false;\n",
       "  }\n",
       "\n",
       "  function inject_raw_css(css) {\n",
       "    const element = document.createElement(\"style\");\n",
       "    element.appendChild(document.createTextNode(css));\n",
       "    document.body.appendChild(element);\n",
       "  }\n",
       "\n",
       "  \n",
       "  var js_urls = [\"https://cdn.pydata.org/bokeh/release/bokeh-1.4.0.min.js\", \"https://cdn.pydata.org/bokeh/release/bokeh-widgets-1.4.0.min.js\", \"https://cdn.pydata.org/bokeh/release/bokeh-tables-1.4.0.min.js\", \"https://cdn.pydata.org/bokeh/release/bokeh-gl-1.4.0.min.js\"];\n",
       "  var css_urls = [];\n",
       "  \n",
       "\n",
       "  var inline_js = [\n",
       "    function(Bokeh) {\n",
       "      Bokeh.set_log_level(\"info\");\n",
       "    },\n",
       "    function(Bokeh) {\n",
       "    \n",
       "    \n",
       "    }\n",
       "  ];\n",
       "\n",
       "  function run_inline_js() {\n",
       "    \n",
       "    if (root.Bokeh !== undefined || force === true) {\n",
       "      \n",
       "    for (var i = 0; i < inline_js.length; i++) {\n",
       "      inline_js[i].call(root, root.Bokeh);\n",
       "    }\n",
       "    if (force === true) {\n",
       "        display_loaded();\n",
       "      }} else if (Date.now() < root._bokeh_timeout) {\n",
       "      setTimeout(run_inline_js, 100);\n",
       "    } else if (!root._bokeh_failed_load) {\n",
       "      console.log(\"Bokeh: BokehJS failed to load within specified timeout.\");\n",
       "      root._bokeh_failed_load = true;\n",
       "    } else if (force !== true) {\n",
       "      var cell = $(document.getElementById(\"5372\")).parents('.cell').data().cell;\n",
       "      cell.output_area.append_execute_result(NB_LOAD_WARNING)\n",
       "    }\n",
       "\n",
       "  }\n",
       "\n",
       "  if (root._bokeh_is_loading === 0) {\n",
       "    console.debug(\"Bokeh: BokehJS loaded, going straight to plotting\");\n",
       "    run_inline_js();\n",
       "  } else {\n",
       "    load_libs(css_urls, js_urls, function() {\n",
       "      console.debug(\"Bokeh: BokehJS plotting callback run at\", now());\n",
       "      run_inline_js();\n",
       "    });\n",
       "  }\n",
       "}(window));"
      ],
      "application/vnd.bokehjs_load.v0+json": "\n(function(root) {\n  function now() {\n    return new Date();\n  }\n\n  var force = true;\n\n  if (typeof root._bokeh_onload_callbacks === \"undefined\" || force === true) {\n    root._bokeh_onload_callbacks = [];\n    root._bokeh_is_loading = undefined;\n  }\n\n  \n\n  \n  if (typeof (root._bokeh_timeout) === \"undefined\" || force === true) {\n    root._bokeh_timeout = Date.now() + 5000;\n    root._bokeh_failed_load = false;\n  }\n\n  var NB_LOAD_WARNING = {'data': {'text/html':\n     \"<div style='background-color: #fdd'>\\n\"+\n     \"<p>\\n\"+\n     \"BokehJS does not appear to have successfully loaded. If loading BokehJS from CDN, this \\n\"+\n     \"may be due to a slow or bad network connection. Possible fixes:\\n\"+\n     \"</p>\\n\"+\n     \"<ul>\\n\"+\n     \"<li>re-rerun `output_notebook()` to attempt to load from CDN again, or</li>\\n\"+\n     \"<li>use INLINE resources instead, as so:</li>\\n\"+\n     \"</ul>\\n\"+\n     \"<code>\\n\"+\n     \"from bokeh.resources import INLINE\\n\"+\n     \"output_notebook(resources=INLINE)\\n\"+\n     \"</code>\\n\"+\n     \"</div>\"}};\n\n  function display_loaded() {\n    var el = document.getElementById(\"5372\");\n    if (el != null) {\n      el.textContent = \"BokehJS is loading...\";\n    }\n    if (root.Bokeh !== undefined) {\n      if (el != null) {\n        el.textContent = \"BokehJS \" + root.Bokeh.version + \" successfully loaded.\";\n      }\n    } else if (Date.now() < root._bokeh_timeout) {\n      setTimeout(display_loaded, 100)\n    }\n  }\n\n\n  function run_callbacks() {\n    try {\n      root._bokeh_onload_callbacks.forEach(function(callback) {\n        if (callback != null)\n          callback();\n      });\n    } finally {\n      delete root._bokeh_onload_callbacks\n    }\n    console.debug(\"Bokeh: all callbacks have finished\");\n  }\n\n  function load_libs(css_urls, js_urls, callback) {\n    if (css_urls == null) css_urls = [];\n    if (js_urls == null) js_urls = [];\n\n    root._bokeh_onload_callbacks.push(callback);\n    if (root._bokeh_is_loading > 0) {\n      console.debug(\"Bokeh: BokehJS is being loaded, scheduling callback at\", now());\n      return null;\n    }\n    if (js_urls == null || js_urls.length === 0) {\n      run_callbacks();\n      return null;\n    }\n    console.debug(\"Bokeh: BokehJS not loaded, scheduling load and callback at\", now());\n    root._bokeh_is_loading = css_urls.length + js_urls.length;\n\n    function on_load() {\n      root._bokeh_is_loading--;\n      if (root._bokeh_is_loading === 0) {\n        console.debug(\"Bokeh: all BokehJS libraries/stylesheets loaded\");\n        run_callbacks()\n      }\n    }\n\n    function on_error() {\n      console.error(\"failed to load \" + url);\n    }\n\n    for (var i = 0; i < css_urls.length; i++) {\n      var url = css_urls[i];\n      const element = document.createElement(\"link\");\n      element.onload = on_load;\n      element.onerror = on_error;\n      element.rel = \"stylesheet\";\n      element.type = \"text/css\";\n      element.href = url;\n      console.debug(\"Bokeh: injecting link tag for BokehJS stylesheet: \", url);\n      document.body.appendChild(element);\n    }\n\n    for (var i = 0; i < js_urls.length; i++) {\n      var url = js_urls[i];\n      var element = document.createElement('script');\n      element.onload = on_load;\n      element.onerror = on_error;\n      element.async = false;\n      element.src = url;\n      console.debug(\"Bokeh: injecting script tag for BokehJS library: \", url);\n      document.head.appendChild(element);\n    }\n  };var element = document.getElementById(\"5372\");\n  if (element == null) {\n    console.error(\"Bokeh: ERROR: autoload.js configured with elementid '5372' but no matching script tag was found. \")\n    return false;\n  }\n\n  function inject_raw_css(css) {\n    const element = document.createElement(\"style\");\n    element.appendChild(document.createTextNode(css));\n    document.body.appendChild(element);\n  }\n\n  \n  var js_urls = [\"https://cdn.pydata.org/bokeh/release/bokeh-1.4.0.min.js\", \"https://cdn.pydata.org/bokeh/release/bokeh-widgets-1.4.0.min.js\", \"https://cdn.pydata.org/bokeh/release/bokeh-tables-1.4.0.min.js\", \"https://cdn.pydata.org/bokeh/release/bokeh-gl-1.4.0.min.js\"];\n  var css_urls = [];\n  \n\n  var inline_js = [\n    function(Bokeh) {\n      Bokeh.set_log_level(\"info\");\n    },\n    function(Bokeh) {\n    \n    \n    }\n  ];\n\n  function run_inline_js() {\n    \n    if (root.Bokeh !== undefined || force === true) {\n      \n    for (var i = 0; i < inline_js.length; i++) {\n      inline_js[i].call(root, root.Bokeh);\n    }\n    if (force === true) {\n        display_loaded();\n      }} else if (Date.now() < root._bokeh_timeout) {\n      setTimeout(run_inline_js, 100);\n    } else if (!root._bokeh_failed_load) {\n      console.log(\"Bokeh: BokehJS failed to load within specified timeout.\");\n      root._bokeh_failed_load = true;\n    } else if (force !== true) {\n      var cell = $(document.getElementById(\"5372\")).parents('.cell').data().cell;\n      cell.output_area.append_execute_result(NB_LOAD_WARNING)\n    }\n\n  }\n\n  if (root._bokeh_is_loading === 0) {\n    console.debug(\"Bokeh: BokehJS loaded, going straight to plotting\");\n    run_inline_js();\n  } else {\n    load_libs(css_urls, js_urls, function() {\n      console.debug(\"Bokeh: BokehJS plotting callback run at\", now());\n      run_inline_js();\n    });\n  }\n}(window));"
     },
     "metadata": {},
     "output_type": "display_data"
    },
    {
     "name": "stderr",
     "output_type": "stream",
     "text": [
      "BokehDeprecationWarning: 'legend' keyword is deprecated, use explicit 'legend_label', 'legend_field', or 'legend_group' keywords instead\n"
     ]
    },
    {
     "data": {
      "text/html": [
       "\n",
       "\n",
       "\n",
       "\n",
       "\n",
       "\n",
       "  <div class=\"bk-root\" id=\"e91e5bf4-50c2-491f-8b2f-5a5fa15f17e3\" data-root-id=\"5373\"></div>\n"
      ]
     },
     "metadata": {},
     "output_type": "display_data"
    },
    {
     "data": {
      "application/javascript": [
       "(function(root) {\n",
       "  function embed_document(root) {\n",
       "    \n",
       "  var docs_json = {\"604c8447-ed24-4c6b-944b-7c18900b3310\":{\"roots\":{\"references\":[{\"attributes\":{\"below\":[{\"id\":\"5384\",\"type\":\"LinearAxis\"}],\"center\":[{\"id\":\"5388\",\"type\":\"Grid\"},{\"id\":\"5393\",\"type\":\"Grid\"},{\"id\":\"5418\",\"type\":\"Legend\"}],\"left\":[{\"id\":\"5389\",\"type\":\"LinearAxis\"}],\"renderers\":[{\"id\":\"5410\",\"type\":\"GlyphRenderer\"}],\"title\":{\"id\":\"5374\",\"type\":\"Title\"},\"toolbar\":{\"id\":\"5400\",\"type\":\"Toolbar\"},\"x_range\":{\"id\":\"5376\",\"type\":\"DataRange1d\"},\"x_scale\":{\"id\":\"5380\",\"type\":\"LinearScale\"},\"y_range\":{\"id\":\"5378\",\"type\":\"DataRange1d\"},\"y_scale\":{\"id\":\"5382\",\"type\":\"LinearScale\"}},\"id\":\"5373\",\"subtype\":\"Figure\",\"type\":\"Plot\"},{\"attributes\":{},\"id\":\"5385\",\"type\":\"BasicTicker\"},{\"attributes\":{},\"id\":\"5609\",\"type\":\"Selection\"},{\"attributes\":{},\"id\":\"5390\",\"type\":\"BasicTicker\"},{\"attributes\":{\"items\":[{\"id\":\"5419\",\"type\":\"LegendItem\"}]},\"id\":\"5418\",\"type\":\"Legend\"},{\"attributes\":{},\"id\":\"5382\",\"type\":\"LinearScale\"},{\"attributes\":{\"callback\":null},\"id\":\"5378\",\"type\":\"DataRange1d\"},{\"attributes\":{\"label\":{\"value\":\"difference\"},\"renderers\":[{\"id\":\"5410\",\"type\":\"GlyphRenderer\"}]},\"id\":\"5419\",\"type\":\"LegendItem\"},{\"attributes\":{\"active_drag\":\"auto\",\"active_inspect\":\"auto\",\"active_multi\":null,\"active_scroll\":\"auto\",\"active_tap\":\"auto\",\"tools\":[{\"id\":\"5394\",\"type\":\"PanTool\"},{\"id\":\"5395\",\"type\":\"WheelZoomTool\"},{\"id\":\"5396\",\"type\":\"BoxZoomTool\"},{\"id\":\"5397\",\"type\":\"SaveTool\"},{\"id\":\"5398\",\"type\":\"ResetTool\"},{\"id\":\"5399\",\"type\":\"HelpTool\"}]},\"id\":\"5400\",\"type\":\"Toolbar\"},{\"attributes\":{},\"id\":\"5416\",\"type\":\"BasicTickFormatter\"},{\"attributes\":{},\"id\":\"5399\",\"type\":\"HelpTool\"},{\"attributes\":{\"source\":{\"id\":\"5407\",\"type\":\"ColumnDataSource\"}},\"id\":\"5411\",\"type\":\"CDSView\"},{\"attributes\":{},\"id\":\"5394\",\"type\":\"PanTool\"},{\"attributes\":{},\"id\":\"5395\",\"type\":\"WheelZoomTool\"},{\"attributes\":{\"text\":\"Jet Stream\"},\"id\":\"5374\",\"type\":\"Title\"},{\"attributes\":{},\"id\":\"5610\",\"type\":\"UnionRenderers\"},{\"attributes\":{\"data_source\":{\"id\":\"5407\",\"type\":\"ColumnDataSource\"},\"glyph\":{\"id\":\"5408\",\"type\":\"Line\"},\"hover_glyph\":null,\"muted_glyph\":null,\"nonselection_glyph\":{\"id\":\"5409\",\"type\":\"Line\"},\"selection_glyph\":null,\"view\":{\"id\":\"5411\",\"type\":\"CDSView\"}},\"id\":\"5410\",\"type\":\"GlyphRenderer\"},{\"attributes\":{\"callback\":null},\"id\":\"5376\",\"type\":\"DataRange1d\"},{\"attributes\":{},\"id\":\"5380\",\"type\":\"LinearScale\"},{\"attributes\":{\"axis_label\":\"y\",\"axis_label_text_font_size\":{\"value\":\"16pt\"},\"formatter\":{\"id\":\"5416\",\"type\":\"BasicTickFormatter\"},\"major_label_text_font_size\":{\"value\":\"16pt\"},\"ticker\":{\"id\":\"5385\",\"type\":\"BasicTicker\"}},\"id\":\"5384\",\"type\":\"LinearAxis\"},{\"attributes\":{\"callback\":null,\"data\":{\"x\":{\"__ndarray__\":\"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\",\"dtype\":\"float64\",\"shape\":[3000]},\"y\":{\"__ndarray__\":\"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\",\"dtype\":\"float64\",\"shape\":[3000]}},\"selected\":{\"id\":\"5609\",\"type\":\"Selection\"},\"selection_policy\":{\"id\":\"5610\",\"type\":\"UnionRenderers\"}},\"id\":\"5407\",\"type\":\"ColumnDataSource\"},{\"attributes\":{\"axis_label\":\"(u-u0)(beta - d^2 u/dy^2)\",\"axis_label_text_font_size\":{\"value\":\"16pt\"},\"formatter\":{\"id\":\"5414\",\"type\":\"BasicTickFormatter\"},\"major_label_text_font_size\":{\"value\":\"16pt\"},\"ticker\":{\"id\":\"5390\",\"type\":\"BasicTicker\"}},\"id\":\"5389\",\"type\":\"LinearAxis\"},{\"attributes\":{},\"id\":\"5397\",\"type\":\"SaveTool\"},{\"attributes\":{\"bottom_units\":\"screen\",\"fill_alpha\":{\"value\":0.5},\"fill_color\":{\"value\":\"lightgrey\"},\"left_units\":\"screen\",\"level\":\"overlay\",\"line_alpha\":{\"value\":1.0},\"line_color\":{\"value\":\"black\"},\"line_dash\":[4,4],\"line_width\":{\"value\":2},\"render_mode\":\"css\",\"right_units\":\"screen\",\"top_units\":\"screen\"},\"id\":\"5417\",\"type\":\"BoxAnnotation\"},{\"attributes\":{\"dimension\":1,\"ticker\":{\"id\":\"5390\",\"type\":\"BasicTicker\"}},\"id\":\"5393\",\"type\":\"Grid\"},{\"attributes\":{\"ticker\":{\"id\":\"5385\",\"type\":\"BasicTicker\"}},\"id\":\"5388\",\"type\":\"Grid\"},{\"attributes\":{\"line_alpha\":0.1,\"line_color\":\"#1f77b4\",\"line_width\":2,\"x\":{\"field\":\"x\"},\"y\":{\"field\":\"y\"}},\"id\":\"5409\",\"type\":\"Line\"},{\"attributes\":{},\"id\":\"5398\",\"type\":\"ResetTool\"},{\"attributes\":{\"overlay\":{\"id\":\"5417\",\"type\":\"BoxAnnotation\"}},\"id\":\"5396\",\"type\":\"BoxZoomTool\"},{\"attributes\":{},\"id\":\"5414\",\"type\":\"BasicTickFormatter\"},{\"attributes\":{\"line_color\":\"#1f77b4\",\"line_width\":2,\"x\":{\"field\":\"x\"},\"y\":{\"field\":\"y\"}},\"id\":\"5408\",\"type\":\"Line\"}],\"root_ids\":[\"5373\"]},\"title\":\"Bokeh Application\",\"version\":\"1.4.0\"}};\n",
       "  var render_items = [{\"docid\":\"604c8447-ed24-4c6b-944b-7c18900b3310\",\"roots\":{\"5373\":\"e91e5bf4-50c2-491f-8b2f-5a5fa15f17e3\"}}];\n",
       "  root.Bokeh.embed.embed_items_notebook(docs_json, render_items);\n",
       "\n",
       "  }\n",
       "  if (root.Bokeh !== undefined) {\n",
       "    embed_document(root);\n",
       "  } else {\n",
       "    var attempts = 0;\n",
       "    var timer = setInterval(function(root) {\n",
       "      if (root.Bokeh !== undefined) {\n",
       "        clearInterval(timer);\n",
       "        embed_document(root);\n",
       "      } else {\n",
       "        attempts++;\n",
       "        if (attempts > 100) {\n",
       "          clearInterval(timer);\n",
       "          console.log(\"Bokeh: ERROR: Unable to run BokehJS code because BokehJS library is missing\");\n",
       "        }\n",
       "      }\n",
       "    }, 10, root)\n",
       "  }\n",
       "})(window);"
      ],
      "application/vnd.bokehjs_exec.v0+json": ""
     },
     "metadata": {
      "application/vnd.bokehjs_exec.v0+json": {
       "id": "5373"
      }
     },
     "output_type": "display_data"
    }
   ],
   "source": [
    "# Plot\n",
    "plotting.output_notebook()\n",
    "\n",
    "p = plotting.figure(title='Jet Stream', x_axis_label='y',\n",
    "                   # x_axis_type=\"log\", #y_axis_type=\"log\",\n",
    "                    plot_width=600,\n",
    "                   y_axis_label='(u-u0)(beta - d^2 u/dy^2)')#, x_range=(10**-4, 1.),\n",
    "                   #y_range=(1e-12, 1))\n",
    "\n",
    "# Plot em\n",
    "#p.line(y, beta_0-d2u_dy2, legend='difference', line_width=2)\n",
    "p.line(yval, (u-u1)*(beta_0.value - d2u_dy2.to('1/m/s').value), legend='difference', line_width=2)\n",
    "\n",
    "\n",
    "\n",
    "p.legend.location = \"top_right\"\n",
    "\n",
    "os_plotting.bokeh_set_fontsize(p, 16)\n",
    "\n",
    "plotting.show(p)"
   ]
  },
  {
   "cell_type": "markdown",
   "metadata": {},
   "source": [
    "## Looks like we are positive until the first crossing.  \n",
    "\n",
    "## Instability reigns!"
   ]
  },
  {
   "cell_type": "markdown",
   "metadata": {},
   "source": [
    "----"
   ]
  },
  {
   "cell_type": "markdown",
   "metadata": {},
   "source": [
    "# PS5-4 -- More on the jet stream!"
   ]
  },
  {
   "cell_type": "markdown",
   "metadata": {},
   "source": [
    "## (a) How can modifications to $U,L$ or $\\beta_0$ affect the instability for the first criterion?"
   ]
  },
  {
   "cell_type": "markdown",
   "metadata": {},
   "source": [
    "### First $\\beta$.  Our expression $\\beta_0 - d^2 \\bar u / dy^2$ bottoms out at $\\approx - 4 \\times 10^{-11}$/m/s\n",
    "\n",
    "### Therefore, increasing $\\beta_0$ by $\\approx 2.5$ would lead to stability."
   ]
  },
  {
   "cell_type": "markdown",
   "metadata": {},
   "source": [
    "### Alternatively, $d^2 \\bar u / dy^2 \\propto U/L^2$.  Reducing this ratio so that the quantity never reaches 0 would also render the jet stream to be stable."
   ]
  },
  {
   "cell_type": "markdown",
   "metadata": {},
   "source": [
    "## (b) Consider marginally (i) stable and (ii) unstable jets and then run them westward."
   ]
  },
  {
   "cell_type": "markdown",
   "metadata": {},
   "source": [
    "### i.e. what is the effect of swapping the sign of $U$?"
   ]
  },
  {
   "cell_type": "markdown",
   "metadata": {},
   "source": [
    "### Recall:\n",
    "\n",
    "### $\\frac{d^2 \\bar u(y)}{d y^2} = \\frac{U}{L^2} \\, \\exp \\left ( -\\frac{y^2}{2L^2} \\right ) \\left [ \\frac{y^2}{L^2} -1 \\right ]$"
   ]
  },
  {
   "cell_type": "markdown",
   "metadata": {},
   "source": [
    "### so, for $U<0$, we have:\n",
    "\n",
    "## $\\frac{d^2 \\bar u(y)}{d y^2} = \\frac{|U|}{L^2} \\, \\exp \\left ( -\\frac{y^2}{2L^2} \\right ) \\left [ 1 - \\frac{y^2}{L^2} \\right ]$"
   ]
  },
  {
   "cell_type": "code",
   "execution_count": null,
   "metadata": {},
   "outputs": [],
   "source": []
  },
  {
   "cell_type": "code",
   "execution_count": null,
   "metadata": {},
   "outputs": [],
   "source": []
  }
 ],
 "metadata": {
  "kernelspec": {
   "display_name": "Python 3",
   "language": "python",
   "name": "python3"
  },
  "language_info": {
   "codemirror_mode": {
    "name": "ipython",
    "version": 3
   },
   "file_extension": ".py",
   "mimetype": "text/x-python",
   "name": "python",
   "nbconvert_exporter": "python",
   "pygments_lexer": "ipython3",
   "version": "3.7.3"
  }
 },
 "nbformat": 4,
 "nbformat_minor": 4
}
