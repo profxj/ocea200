{
 "cells": [
  {
   "cell_type": "markdown",
   "id": "ff7fe19c",
   "metadata": {},
   "source": [
    "# Homework 4"
   ]
  },
  {
   "cell_type": "code",
   "execution_count": 1,
   "id": "dc8f97c5",
   "metadata": {},
   "outputs": [],
   "source": [
    "from importlib import reload\n",
    "\n",
    "import numpy as np\n",
    "\n",
    "from matplotlib import pyplot as plt\n",
    "import seaborn as sns\n",
    "\n",
    "import unyt"
   ]
  },
  {
   "cell_type": "code",
   "execution_count": 2,
   "id": "295d3abf",
   "metadata": {},
   "outputs": [],
   "source": [
    "sns.set_theme()\n",
    "sns.set_style('whitegrid')\n",
    "sns.set_context('notebook')"
   ]
  },
  {
   "cell_type": "markdown",
   "id": "260b714a",
   "metadata": {},
   "source": [
    "# Useful constants"
   ]
  },
  {
   "cell_type": "code",
   "execution_count": 4,
   "id": "d7ea161a",
   "metadata": {},
   "outputs": [],
   "source": [
    "stefan = 5.670374419184429e-8 * unyt.J / unyt.m**2 / unyt.s / unyt.K**4"
   ]
  },
  {
   "cell_type": "markdown",
   "id": "ae83cbbb",
   "metadata": {},
   "source": [
    "# Problem 1 -- Leaf"
   ]
  },
  {
   "cell_type": "markdown",
   "id": "fcf159a3",
   "metadata": {},
   "source": [
    "## Our leaf energy budget is:\n",
    "\n",
    "## $R_n = Q_a - 2 \\epsilon_l \\sigma T_l^4$"
   ]
  },
  {
   "cell_type": "markdown",
   "id": "cfbe2f94",
   "metadata": {},
   "source": [
    "## Code"
   ]
  },
  {
   "cell_type": "code",
   "execution_count": 5,
   "id": "3cfe26f0",
   "metadata": {},
   "outputs": [],
   "source": [
    "Qa = 1200 * unyt.W / unyt.m**2\n",
    "epsilon = 0.98\n",
    "T_l = (30*unyt.Celsius).to('K')"
   ]
  },
  {
   "cell_type": "code",
   "execution_count": 6,
   "id": "6445858a",
   "metadata": {},
   "outputs": [
    {
     "data": {
      "text/plain": [
       "unyt_quantity(261.36207351, 'W/m**2')"
      ]
     },
     "execution_count": 6,
     "metadata": {},
     "output_type": "execute_result"
    }
   ],
   "source": [
    "R_n = Qa - 2 * epsilon * stefan * T_l**4\n",
    "R_n"
   ]
  },
  {
   "cell_type": "markdown",
   "id": "ca0a22ee",
   "metadata": {},
   "source": [
    "----"
   ]
  },
  {
   "cell_type": "markdown",
   "id": "b68f2dcf",
   "metadata": {},
   "source": [
    "# Problem 2 -- Boundary layer conductance"
   ]
  },
  {
   "cell_type": "markdown",
   "id": "cab4b1fd",
   "metadata": {},
   "source": [
    "## We were presented an approximate formulation of the boudnary layer conductance $g_{bw}$\n",
    "\n",
    "## $g_{bw} = 0.233 \\left ( \\frac{u}{\\ell} \\right )^{1/2} $"
   ]
  },
  {
   "cell_type": "markdown",
   "id": "50cd635d",
   "metadata": {},
   "source": [
    "## Code"
   ]
  },
  {
   "cell_type": "code",
   "execution_count": 16,
   "id": "7bf8756c",
   "metadata": {},
   "outputs": [],
   "source": [
    "def calc_gbw(l, u):\n",
    "    return 0.233 * (u/l)**(1/2)"
   ]
  },
  {
   "cell_type": "markdown",
   "id": "7c7b0f7e",
   "metadata": {},
   "source": [
    "## (a) Small + calm"
   ]
  },
  {
   "cell_type": "code",
   "execution_count": 17,
   "id": "f24d6ac8",
   "metadata": {},
   "outputs": [],
   "source": [
    "l_a = 3 * unyt.cm\n",
    "u_a = 0.1 * unyt.m/unyt.s"
   ]
  },
  {
   "cell_type": "code",
   "execution_count": 18,
   "id": "0e29f6a1",
   "metadata": {},
   "outputs": [
    {
     "data": {
      "text/plain": [
       "unyt_quantity(0.42539785, '1/sqrt(s)')"
      ]
     },
     "execution_count": 18,
     "metadata": {},
     "output_type": "execute_result"
    }
   ],
   "source": [
    "gbw_a = calc_gbw(l_a, u_a)\n",
    "gbw_a"
   ]
  },
  {
   "cell_type": "markdown",
   "id": "1bebcb51",
   "metadata": {},
   "source": [
    "## (b) Small + strong"
   ]
  },
  {
   "cell_type": "code",
   "execution_count": 19,
   "id": "af9e85cd",
   "metadata": {},
   "outputs": [],
   "source": [
    "l_b = 3 * unyt.cm\n",
    "u_b = 5 * unyt.m/unyt.s"
   ]
  },
  {
   "cell_type": "code",
   "execution_count": 20,
   "id": "44809a19",
   "metadata": {},
   "outputs": [
    {
     "data": {
      "text/plain": [
       "unyt_quantity(3.00801707, '1/sqrt(s)')"
      ]
     },
     "execution_count": 20,
     "metadata": {},
     "output_type": "execute_result"
    }
   ],
   "source": [
    "gbw_b = calc_gbw(l_b, u_b)\n",
    "gbw_b"
   ]
  },
  {
   "cell_type": "markdown",
   "id": "712c21d5",
   "metadata": {},
   "source": [
    "## (c) Large + calm"
   ]
  },
  {
   "cell_type": "code",
   "execution_count": 21,
   "id": "9ee888ce",
   "metadata": {},
   "outputs": [],
   "source": [
    "l_c = 10 * unyt.cm\n",
    "u_c = 0.1 * unyt.m/unyt.s"
   ]
  },
  {
   "cell_type": "code",
   "execution_count": 22,
   "id": "fb3d23e6",
   "metadata": {},
   "outputs": [
    {
     "data": {
      "text/plain": [
       "unyt_quantity(0.233, '1/sqrt(s)')"
      ]
     },
     "execution_count": 22,
     "metadata": {},
     "output_type": "execute_result"
    }
   ],
   "source": [
    "gbw_c = calc_gbw(l_c, u_c)\n",
    "gbw_c"
   ]
  },
  {
   "cell_type": "markdown",
   "id": "5ed04d3c",
   "metadata": {},
   "source": [
    "## (d) Large + strong"
   ]
  },
  {
   "cell_type": "code",
   "execution_count": 23,
   "id": "78d89476",
   "metadata": {},
   "outputs": [],
   "source": [
    "l_d = 10 * unyt.cm\n",
    "u_d = 5 * unyt.m/unyt.s"
   ]
  },
  {
   "cell_type": "code",
   "execution_count": 24,
   "id": "a09604a4",
   "metadata": {},
   "outputs": [
    {
     "data": {
      "text/plain": [
       "unyt_quantity(1.6475588, '1/sqrt(s)')"
      ]
     },
     "execution_count": 24,
     "metadata": {},
     "output_type": "execute_result"
    }
   ],
   "source": [
    "gbw_d = calc_gbw(l_d, u_d)\n",
    "gbw_d"
   ]
  },
  {
   "cell_type": "markdown",
   "id": "0ea58689",
   "metadata": {},
   "source": [
    "## We see the largest conductance from high wind speeds and small leafs, which follows from our equation ($g_{bw} \\propto \\sqrt{u/l}$)"
   ]
  },
  {
   "cell_type": "markdown",
   "id": "a7bd3bba",
   "metadata": {},
   "source": [
    "----"
   ]
  },
  {
   "cell_type": "markdown",
   "id": "7df08514",
   "metadata": {},
   "source": [
    "# Problem 3 -- Penman-Monteith revisited"
   ]
  },
  {
   "cell_type": "markdown",
   "id": "1031def0",
   "metadata": {},
   "source": [
    "## In lecture we derived expressions for LE, SH for a leaf:\n",
    "\n",
    "## $LE = \\frac{2 C_p [e^*(T_a) - e_a] g_{bw} + \\Delta R_n}{2 \\gamma (1+g_{bw}/g_{sw}) + \\Delta}$\n",
    "\n",
    "## $SH = 2 C_p [T_l - T_a] g_{bh}$"
   ]
  },
  {
   "cell_type": "markdown",
   "id": "96076014",
   "metadata": {},
   "source": [
    "## And we have energy balance:\n",
    "\n",
    "## $R_n = SH + LE$"
   ]
  },
  {
   "cell_type": "markdown",
   "id": "f2a9b515",
   "metadata": {},
   "source": [
    "## We will calculate $LE$, use energy balance to estimate $SH$ and then invert our $SH$ equation for $T_l - T_a$:\n",
    "\n",
    "## $T_l-T_a = \\frac{SH}{2 C_p g_{bh}}$"
   ]
  },
  {
   "cell_type": "markdown",
   "id": "190a737a",
   "metadata": {},
   "source": [
    "## We are provided:"
   ]
  },
  {
   "cell_type": "code",
   "execution_count": 30,
   "id": "c542ed15",
   "metadata": {},
   "outputs": [],
   "source": [
    "g_bw = 2.03 * unyt.mol / unyt.m**2 / unyt.s\n",
    "estar = 3167 * unyt.Pa # Ta = 25C\n",
    "Delta = 189 * unyt.Pa / unyt.K  # Ta = 25C \n",
    "C_p = 29.2 * unyt.J / unyt.mol / unyt.K  # I think there was a typo, although 29.2 is an odd number too..\n",
    "gamma = 66.5 * unyt.Pa / unyt.K\n",
    "RH = 0.75"
   ]
  },
  {
   "cell_type": "markdown",
   "id": "d22261c8",
   "metadata": {},
   "source": [
    "## Code our equations, recognizing:\n",
    "\n",
    "## $e_a = RH  e^*$"
   ]
  },
  {
   "cell_type": "code",
   "execution_count": 39,
   "id": "aefbde2f",
   "metadata": {},
   "outputs": [],
   "source": [
    "def calc_LE(g_sw, R_n):\n",
    "    fterm = 2*C_p*(estar - estar*RH) * g_bw \n",
    "    sterm = Delta * R_n\n",
    "    #import pdb; pdb.set_trace()\n",
    "    numer = fterm + sterm\n",
    "    denom = 2 * gamma * (1+g_bw/g_sw) + Delta\n",
    "    return numer/denom"
   ]
  },
  {
   "cell_type": "code",
   "execution_count": 47,
   "id": "0ae287ca",
   "metadata": {},
   "outputs": [],
   "source": [
    "def calc_TlTs(SH, g_sw):\n",
    "    return SH/(2 * C_p * g_bw)"
   ]
  },
  {
   "cell_type": "markdown",
   "id": "73046acb",
   "metadata": {},
   "source": [
    "## Now we vary $g_{sw}$ and $R_n$"
   ]
  },
  {
   "cell_type": "markdown",
   "id": "52f14680",
   "metadata": {},
   "source": [
    "## (a) "
   ]
  },
  {
   "cell_type": "code",
   "execution_count": 37,
   "id": "55765ce6",
   "metadata": {},
   "outputs": [],
   "source": [
    "g_sw_a = 0.1 * unyt.mol / unyt.m**2 / unyt.s\n",
    "R_n_a = 500 * unyt.W / unyt.m**2"
   ]
  },
  {
   "cell_type": "code",
   "execution_count": 41,
   "id": "d3f51c60",
   "metadata": {},
   "outputs": [
    {
     "data": {
      "text/plain": [
       "unyt_quantity(62.33281909, 'W/m**2')"
      ]
     },
     "execution_count": 41,
     "metadata": {},
     "output_type": "execute_result"
    }
   ],
   "source": [
    "LE_a = calc_LE(g_sw_a, R_n_a)\n",
    "LE_a.to('W/m**2')"
   ]
  },
  {
   "cell_type": "code",
   "execution_count": 43,
   "id": "25893a4e",
   "metadata": {},
   "outputs": [
    {
     "data": {
      "text/plain": [
       "unyt_quantity(437.66718091, 'W/m**2')"
      ]
     },
     "execution_count": 43,
     "metadata": {},
     "output_type": "execute_result"
    }
   ],
   "source": [
    "SH_a = R_n_a - LE_a\n",
    "SH_a"
   ]
  },
  {
   "cell_type": "code",
   "execution_count": 52,
   "id": "8f76e30f",
   "metadata": {},
   "outputs": [
    {
     "data": {
      "text/plain": [
       "unyt_quantity(3.69177391, 'K')"
      ]
     },
     "execution_count": 52,
     "metadata": {},
     "output_type": "execute_result"
    }
   ],
   "source": [
    "TlTs_a = calc_TlTs(SH_a, g_sw_a)\n",
    "TlTs_a.to('K')"
   ]
  },
  {
   "cell_type": "markdown",
   "id": "83fa9787",
   "metadata": {},
   "source": [
    "## (b)"
   ]
  },
  {
   "cell_type": "code",
   "execution_count": 57,
   "id": "b5a76f37",
   "metadata": {},
   "outputs": [
    {
     "name": "stdout",
     "output_type": "stream",
     "text": [
      "LE=93.60 J/(m**2*s), SH=906.40 W/m**2, TlTs=7.65 K*W*s/J\n"
     ]
    }
   ],
   "source": [
    "g_sw_b = 0.1 * unyt.mol / unyt.m**2 / unyt.s\n",
    "R_n_b = 1000 * unyt.W / unyt.m**2\n",
    "#\n",
    "LE_b = calc_LE(g_sw_b, R_n_b)\n",
    "SH_b = R_n_b - LE_b\n",
    "TlTs_b = calc_TlTs(SH_b, g_sw_b)\n",
    "#\n",
    "print(f\"LE={LE_b:0.2f}, SH={SH_b:0.2f}, TlTs={TlTs_b:0.2f}\")"
   ]
  },
  {
   "cell_type": "markdown",
   "id": "0c4737ac",
   "metadata": {},
   "source": [
    "## (c)"
   ]
  },
  {
   "cell_type": "code",
   "execution_count": 58,
   "id": "48e22e49",
   "metadata": {},
   "outputs": [
    {
     "name": "stdout",
     "output_type": "stream",
     "text": [
      "LE=188.94 J/(m**2*s), SH=311.06 W/m**2, TlTs=2.62 K*W*s/J\n"
     ]
    }
   ],
   "source": [
    "g_sw_c = 0.4 * unyt.mol / unyt.m**2 / unyt.s\n",
    "R_n_c = 500 * unyt.W / unyt.m**2\n",
    "#\n",
    "LE_c = calc_LE(g_sw_c, R_n_c)\n",
    "SH_c = R_n_c - LE_c\n",
    "TlTs_c = calc_TlTs(SH_c, g_sw_c)\n",
    "#\n",
    "print(f\"LE={LE_c:0.2f}, SH={SH_c:0.2f}, TlTs={TlTs_c:0.2f}\")"
   ]
  },
  {
   "cell_type": "markdown",
   "id": "52d49ae7",
   "metadata": {},
   "source": [
    "## (d)"
   ]
  },
  {
   "cell_type": "code",
   "execution_count": 60,
   "id": "017d0fd3",
   "metadata": {},
   "outputs": [
    {
     "name": "stdout",
     "output_type": "stream",
     "text": [
      "LE=283.72 J/(m**2*s), SH=716.28 W/m**2, TlTs=6.04 K*W*s/J\n"
     ]
    }
   ],
   "source": [
    "g_sw_d = 0.4 * unyt.mol / unyt.m**2 / unyt.s\n",
    "R_n_d = 1000 * unyt.W / unyt.m**2\n",
    "#\n",
    "LE_d = calc_LE(g_sw_d, R_n_d)\n",
    "SH_d = R_n_d - LE_d\n",
    "TlTs_d = calc_TlTs(SH_d, g_sw_d)\n",
    "#\n",
    "print(f\"LE={LE_d:0.2f}, SH={SH_d:0.2f}, TlTs={TlTs_d:0.2f}\")"
   ]
  },
  {
   "cell_type": "markdown",
   "id": "4ce68b41",
   "metadata": {},
   "source": [
    "## We find $LE$ is increasingly higher from a-d"
   ]
  },
  {
   "cell_type": "markdown",
   "id": "dcd9032f",
   "metadata": {},
   "source": [
    "## As regards transpiration and leaf temperature, because $T_l-T_s \\propto SH \\propto R_n-LE$, lower $LE$ implies higher leaf temperatures.\n",
    "\n",
    "## And, higher transpiration leads to lower leaf temperature."
   ]
  },
  {
   "cell_type": "markdown",
   "id": "64bbfc7f",
   "metadata": {},
   "source": [
    "## Varying $R_n$ has a direct effect, as $T_l-T_s \\propto R_n - LE$, which we see comparing (a) to (b) and (c) to (d) [i.e. fixed $g_{sw}$]."
   ]
  },
  {
   "cell_type": "markdown",
   "id": "e0d24bca",
   "metadata": {},
   "source": [
    "## Net percentage:"
   ]
  },
  {
   "cell_type": "code",
   "execution_count": 64,
   "id": "9f31c388",
   "metadata": {},
   "outputs": [],
   "source": [
    "p_LE_a = (LE_a/R_n_a).value\n",
    "p_LE_b = (LE_b/R_n_b).value\n",
    "p_LE_c = (LE_c/R_n_c).value\n",
    "p_LE_d = (LE_d/R_n_d).value"
   ]
  },
  {
   "cell_type": "code",
   "execution_count": 65,
   "id": "4fb4315a",
   "metadata": {},
   "outputs": [
    {
     "name": "stdout",
     "output_type": "stream",
     "text": [
      "(a) p_LE=0.12\n",
      "(b) p_LE=0.09\n",
      "(c) p_LE=0.38\n",
      "(d) p_LE=0.28\n"
     ]
    }
   ],
   "source": [
    "print(f\"(a) p_LE={p_LE_a:0.2f}\")\n",
    "print(f\"(b) p_LE={p_LE_b:0.2f}\")\n",
    "print(f\"(c) p_LE={p_LE_c:0.2f}\")\n",
    "print(f\"(d) p_LE={p_LE_d:0.2f}\")"
   ]
  },
  {
   "cell_type": "markdown",
   "id": "7ceff3cd",
   "metadata": {},
   "source": [
    "## For all of these conditions, $SH$ domiantes (its percentage exceeds 50%, and even hits 90%).\n",
    "\n",
    "## We see an increase percentage for LE (and reduced SH) as we increased $g_{sw}$, which follows given $LE \\propto g_{sw}$ for large $g_b$.\n",
    "\n",
    "## On the other hand, increasing $R_n$ decreases that percentage, i.e. a greater fraction of the heat is released via SH."
   ]
  },
  {
   "cell_type": "code",
   "execution_count": null,
   "id": "a6db7014",
   "metadata": {},
   "outputs": [],
   "source": []
  }
 ],
 "metadata": {
  "kernelspec": {
   "display_name": "Python 3 (ipykernel)",
   "language": "python",
   "name": "python3"
  },
  "language_info": {
   "codemirror_mode": {
    "name": "ipython",
    "version": 3
   },
   "file_extension": ".py",
   "mimetype": "text/x-python",
   "name": "python",
   "nbconvert_exporter": "python",
   "pygments_lexer": "ipython3",
   "version": "3.8.5"
  }
 },
 "nbformat": 4,
 "nbformat_minor": 5
}
