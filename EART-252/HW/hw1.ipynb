{
 "cells": [
  {
   "cell_type": "markdown",
   "id": "df2f6dc0",
   "metadata": {},
   "source": [
    "# EART 252 -- Homework 1"
   ]
  },
  {
   "cell_type": "code",
   "execution_count": 1,
   "id": "7e596cb1",
   "metadata": {},
   "outputs": [],
   "source": [
    "from importlib import reload\n",
    "\n",
    "import numpy as np\n",
    "\n",
    "from matplotlib import pyplot as plt\n",
    "import seaborn as sns\n",
    "\n",
    "import unyt"
   ]
  },
  {
   "cell_type": "code",
   "execution_count": 2,
   "id": "8b1b340e",
   "metadata": {},
   "outputs": [],
   "source": [
    "sns.set_theme()\n",
    "sns.set_style('whitegrid')\n",
    "sns.set_context('notebook')"
   ]
  },
  {
   "cell_type": "markdown",
   "id": "0af97ede",
   "metadata": {},
   "source": [
    "----"
   ]
  },
  {
   "cell_type": "markdown",
   "id": "d9c47bb3",
   "metadata": {},
   "source": [
    "# Problem 1"
   ]
  },
  {
   "cell_type": "code",
   "execution_count": 3,
   "id": "5391e113",
   "metadata": {},
   "outputs": [],
   "source": [
    "# Net radiative heating\n",
    "R_T = 98 * unyt.W / unyt.m**2"
   ]
  },
  {
   "cell_type": "markdown",
   "id": "e807195f",
   "metadata": {},
   "source": [
    "## In steady state, averaged over the Earth (with $E=P$), we derived:\n",
    "\n",
    "## $L_V P = -R - SH$"
   ]
  },
  {
   "cell_type": "markdown",
   "id": "d705992f",
   "metadata": {},
   "source": [
    "## Assuming that $SH$ is small relative to $R$, we have:\n",
    "\n",
    "## $P = -R / L_V$"
   ]
  },
  {
   "cell_type": "code",
   "execution_count": 4,
   "id": "b71cd06c",
   "metadata": {},
   "outputs": [],
   "source": [
    "# L_V\n",
    "L_V = 2.45 * 10**6 * unyt.J / unyt.kg"
   ]
  },
  {
   "cell_type": "markdown",
   "id": "61209ea4",
   "metadata": {},
   "source": [
    "## But we are told, the evaporative fraction is 0.8 so I take that to mean:\n",
    "\n",
    "## $P = -\\epsilon R / L_V$\n",
    "\n",
    "## with $\\epsilon = 0.8$"
   ]
  },
  {
   "cell_type": "markdown",
   "id": "42d6928d",
   "metadata": {},
   "source": [
    "## Therefore, calculate $p$"
   ]
  },
  {
   "cell_type": "code",
   "execution_count": 5,
   "id": "80dc3de1",
   "metadata": {},
   "outputs": [
    {
     "data": {
      "text/plain": [
       "unyt_quantity(3.2e-06, 'g/(cm**2*s)')"
      ]
     },
     "execution_count": 5,
     "metadata": {},
     "output_type": "execute_result"
    }
   ],
   "source": [
    "# We ignore the sign\n",
    "epsilon = 0.8\n",
    "p = epsilon * R_T / L_V\n",
    "p.in_cgs()"
   ]
  },
  {
   "cell_type": "markdown",
   "id": "0836611a",
   "metadata": {},
   "source": [
    "## Now one cubic centimeter of water is 1 gram"
   ]
  },
  {
   "cell_type": "markdown",
   "id": "260a4d2e",
   "metadata": {},
   "source": [
    "## m/s"
   ]
  },
  {
   "cell_type": "code",
   "execution_count": 6,
   "id": "79a4a354",
   "metadata": {},
   "outputs": [
    {
     "data": {
      "text/plain": [
       "unyt_quantity(3.2e-08, 'm/s')"
      ]
     },
     "execution_count": 6,
     "metadata": {},
     "output_type": "execute_result"
    }
   ],
   "source": [
    "P = p * (1*unyt.cm**3/unyt.g)\n",
    "P.to('m/s')"
   ]
  },
  {
   "cell_type": "markdown",
   "id": "06d3eec6",
   "metadata": {},
   "source": [
    "## mm/day"
   ]
  },
  {
   "cell_type": "code",
   "execution_count": 7,
   "id": "0113818d",
   "metadata": {},
   "outputs": [
    {
     "data": {
      "text/plain": [
       "unyt_quantity(2.7648, 'mm/day')"
      ]
     },
     "execution_count": 7,
     "metadata": {},
     "output_type": "execute_result"
    }
   ],
   "source": [
    "P.to('mm/day')"
   ]
  },
  {
   "cell_type": "markdown",
   "id": "373b3bee",
   "metadata": {},
   "source": [
    "## m/yr"
   ]
  },
  {
   "cell_type": "code",
   "execution_count": 8,
   "id": "25c47204",
   "metadata": {},
   "outputs": [
    {
     "data": {
      "text/plain": [
       "unyt_quantity(1.0098432, 'm/yr')"
      ]
     },
     "execution_count": 8,
     "metadata": {},
     "output_type": "execute_result"
    }
   ],
   "source": [
    "P.to('m/yr')"
   ]
  },
  {
   "cell_type": "markdown",
   "id": "4c5319fc",
   "metadata": {},
   "source": [
    "----"
   ]
  },
  {
   "cell_type": "markdown",
   "id": "73deec6b",
   "metadata": {},
   "source": [
    "# Problem 2 -- Greenhouse warming"
   ]
  },
  {
   "cell_type": "markdown",
   "id": "831c5f4e",
   "metadata": {},
   "source": [
    "## Warming\n",
    "\n",
    "## Increase $R_T$ by 0.8 W m$^{-2}$\n",
    "\n",
    "## And $\\epsilon$ by 0.012"
   ]
  },
  {
   "cell_type": "code",
   "execution_count": 9,
   "id": "2314350a",
   "metadata": {},
   "outputs": [],
   "source": [
    "R_T_2 = R_T + 0.8 * unyt.W / unyt.m**2\n",
    "epsilon_2 = epsilon + 0.012"
   ]
  },
  {
   "cell_type": "markdown",
   "id": "4ebec5d7",
   "metadata": {},
   "source": [
    "## Recalculate"
   ]
  },
  {
   "cell_type": "code",
   "execution_count": 10,
   "id": "5996af78",
   "metadata": {},
   "outputs": [],
   "source": [
    "p_2 = epsilon_2 * R_T_2 / L_V"
   ]
  },
  {
   "cell_type": "markdown",
   "id": "39bf3951",
   "metadata": {},
   "source": [
    "## Fractional change"
   ]
  },
  {
   "cell_type": "code",
   "execution_count": 11,
   "id": "301add2f",
   "metadata": {},
   "outputs": [
    {
     "data": {
      "text/plain": [
       "unyt_quantity(0.02328571, '(dimensionless)')"
      ]
     },
     "execution_count": 11,
     "metadata": {},
     "output_type": "execute_result"
    }
   ],
   "source": [
    "(p_2-p)/p"
   ]
  },
  {
   "cell_type": "markdown",
   "id": "ac7e6dc7",
   "metadata": {},
   "source": [
    "## $\\approx 2\\%$"
   ]
  },
  {
   "cell_type": "markdown",
   "id": "80cd496d",
   "metadata": {},
   "source": [
    "----"
   ]
  },
  {
   "cell_type": "markdown",
   "id": "9c68699f",
   "metadata": {},
   "source": [
    "# Problem 3 -- Sahara subsiding"
   ]
  },
  {
   "cell_type": "markdown",
   "id": "fcd074bc",
   "metadata": {},
   "source": [
    "## In class, we derived a regional expression:\n",
    "\n",
    "## $L_V P = -R - SH - \\nabla \\cdot F_{e,dry}$"
   ]
  },
  {
   "cell_type": "markdown",
   "id": "69a1340a",
   "metadata": {},
   "source": [
    "## where the latter term has both horizontal and vertical components.\n",
    "\n",
    "## Here we will only consider the horizontal.\n",
    "\n",
    "## And, for the Sahara we will assume 0 precipitation i.e. $P=0$ and ignore SH."
   ]
  },
  {
   "cell_type": "markdown",
   "id": "13ab7dc7",
   "metadata": {},
   "source": [
    "## Therefore, \n",
    "\n",
    "## $R  = \\int w \\frac{\\partial s}{\\partial p} \\frac{dp}{g}$\n",
    "\n",
    "### with $s = c_pT + gz$"
   ]
  },
  {
   "cell_type": "markdown",
   "id": "cf4d57e7",
   "metadata": {},
   "source": [
    "## Examining the Annual figure, I eyeball that the radiative cooling is $R \\approx -20 \\rm W/m^2$"
   ]
  },
  {
   "cell_type": "code",
   "execution_count": 12,
   "id": "82b49780",
   "metadata": {},
   "outputs": [],
   "source": [
    "# R\n",
    "R = -20 * unyt.W/unyt.m**2"
   ]
  },
  {
   "cell_type": "markdown",
   "id": "57fb1607",
   "metadata": {},
   "source": [
    "## We are told to ignore the temperature term in the static energy, i.e.\n",
    "\n",
    "## $s \\approx gz$"
   ]
  },
  {
   "cell_type": "markdown",
   "id": "a09de598",
   "metadata": {},
   "source": [
    "## At the Earth's surface, I recall that the density profile is nearly exponential.  And we saw the temperature profile is not steep (i.e. $T$ is approximately constant).\n",
    "\n",
    "## This means, approximately, that:\n",
    "\n",
    "## $z = \\frac{R_V T}{g} \\, \\ln p$"
   ]
  },
  {
   "cell_type": "markdown",
   "id": "3e8644e8",
   "metadata": {},
   "source": [
    "## Therefore, we can write:\n",
    "\n",
    "## $\\frac{\\partial s}{\\partial p} = \\frac{\\partial s}{\\partial z} \\frac{\\partial z}{\\partial p}$\n",
    "\n",
    "## Giving\n",
    "\n",
    "## $\\frac{\\partial s}{\\partial p} = \\frac{R_V T}{p}$"
   ]
  },
  {
   "cell_type": "markdown",
   "id": "477647c8",
   "metadata": {},
   "source": [
    "## That leaves:\n",
    "\n",
    "## $R  = \\int w \\frac{R_V T}{g} \\frac{dp}{p}$\n",
    "\n",
    "## Am a bit nervous on the units/constants above, but we'll see how this goes.."
   ]
  },
  {
   "cell_type": "markdown",
   "id": "5d4408c6",
   "metadata": {},
   "source": [
    "## Integrating assuming a constant vertical wind, \n",
    "\n",
    "## $R = \\frac{w R_V T}{g} \\ln \\frac{p_1}{p_0}$\n",
    "\n",
    "## with $p_1, p_0$ the pressure up high and at the Earth's surface."
   ]
  },
  {
   "cell_type": "markdown",
   "id": "b95f1a87",
   "metadata": {},
   "source": [
    "## Time for numerics"
   ]
  },
  {
   "cell_type": "code",
   "execution_count": 13,
   "id": "96678960",
   "metadata": {},
   "outputs": [],
   "source": [
    "# Values at the Earth's surface\n",
    "g = 9.8 * unyt.m/unyt.s**2\n",
    "R_V = 287 * unyt.J / unyt.K / unyt.kg# Specific\n",
    "T = 288 * unyt.K # Probably a bit hotter in the Sahara..\n",
    "#  Guess at p1/p0\n",
    "p1_p0 = 1./2.\n",
    "p0 = 1000 * unyt.hPa"
   ]
  },
  {
   "cell_type": "markdown",
   "id": "3b424e4d",
   "metadata": {},
   "source": [
    "## Here I weight the radiative cooling by $g^{-1}$ and not $p_s/g$.  Am sure that leads to trouble below but I can't get the units to make sense otherwise.."
   ]
  },
  {
   "cell_type": "code",
   "execution_count": 16,
   "id": "906f7f18",
   "metadata": {},
   "outputs": [
    {
     "data": {
      "text/plain": [
       "unyt_quantity(3.49084166e-05, 'g/(cm**2*s)')"
      ]
     },
     "execution_count": 16,
     "metadata": {},
     "output_type": "execute_result"
    }
   ],
   "source": [
    "w = (R/g)  * g / R_V / T / np.log(p1_p0)  # I have weighted R by 1/g not ps/g\n",
    "w.in_cgs()"
   ]
  },
  {
   "cell_type": "markdown",
   "id": "2d025139",
   "metadata": {},
   "source": [
    "## To get the units right, need to multiply the number of particles in a cubic cm of air"
   ]
  },
  {
   "cell_type": "code",
   "execution_count": 17,
   "id": "3d1956b7",
   "metadata": {},
   "outputs": [],
   "source": [
    "air_density = 1.27 * unyt.kg / unyt.m**3"
   ]
  },
  {
   "cell_type": "code",
   "execution_count": 19,
   "id": "f30bb76f",
   "metadata": {},
   "outputs": [
    {
     "data": {
      "text/plain": [
       "unyt_quantity(0.00098953, 'km/hr')"
      ]
     },
     "execution_count": 19,
     "metadata": {},
     "output_type": "execute_result"
    }
   ],
   "source": [
    "w_final = w / air_density\n",
    "w_final.to('km/hr')"
   ]
  },
  {
   "cell_type": "markdown",
   "id": "cd0dbcd3",
   "metadata": {},
   "source": [
    "## That seems awfully slow, although the $w$ value in Problem 5 is only 10x faster.."
   ]
  },
  {
   "cell_type": "markdown",
   "id": "f5ee0112",
   "metadata": {},
   "source": [
    "## Still, I suspect my weighting $R$ by only $g^{-1}$ is flawed.."
   ]
  },
  {
   "cell_type": "markdown",
   "id": "aee50f2b",
   "metadata": {},
   "source": [
    "----\n",
    "\n",
    "# Problem 4 -- Rain in the Sahara"
   ]
  },
  {
   "cell_type": "markdown",
   "id": "e61ec67e",
   "metadata": {},
   "source": [
    "## The net radiaton is given by:\n",
    "\n",
    "## $R_T = \\rm ASR - OLR$ \n",
    "\n",
    "## which we have eyeballed as a net loss of $-20 \\rm W/m^2$"
   ]
  },
  {
   "cell_type": "markdown",
   "id": "45a3a33f",
   "metadata": {},
   "source": [
    "## Now, the absorbed solar radiation (ASR) is given by:\n",
    "\n",
    "## ${\\rm ASR} = \\frac{(1-\\alpha)S_\\odot}{4}$\n",
    "\n",
    "## with $\\alpha$ the albedo and $S_\\odot = 1386 \\rm \\, W/m^2$ is the solar constant\n",
    "\n",
    "## And, the outgoing longwavelenth radiation (OLR) is given by:\n",
    "\n",
    "## ${\\rm OLR} = \\sigma T_e^4$"
   ]
  },
  {
   "cell_type": "code",
   "execution_count": 20,
   "id": "02fdc1b1",
   "metadata": {},
   "outputs": [],
   "source": [
    "S_o = 1386 * unyt.W / unyt.m**2"
   ]
  },
  {
   "cell_type": "markdown",
   "id": "c6e3e889",
   "metadata": {},
   "source": [
    "## Perturbing our equation,\n",
    "\n",
    "## $\\delta R_T = \\rm \\delta ASR - \\delta OLR$"
   ]
  },
  {
   "cell_type": "markdown",
   "id": "4e82cfca",
   "metadata": {},
   "source": [
    "## Giving\n",
    "\n",
    "## $\\delta R_T = -\\delta \\alpha S_\\odot/4 - 4 \\sigma T_e^3 \\delta T_E$"
   ]
  },
  {
   "cell_type": "markdown",
   "id": "a49fdbd0",
   "metadata": {},
   "source": [
    "### Consider the 2nd term for a moment\n",
    "\n",
    "### For $\\delta T_E = 1$K, we have:"
   ]
  },
  {
   "cell_type": "code",
   "execution_count": 21,
   "id": "281af1fa",
   "metadata": {},
   "outputs": [
    {
     "data": {
      "text/plain": [
       "unyt_quantity(6.048, 'W/m**2')"
      ]
     },
     "execution_count": 21,
     "metadata": {},
     "output_type": "execute_result"
    }
   ],
   "source": [
    "T_e = 300 * unyt.K\n",
    "sigma = 5.6 * 10**(-8) * unyt.W / unyt.m**2 / unyt.K**4\n",
    "BB = 4 * sigma * T_e**3 * (1*unyt.K)\n",
    "BB"
   ]
  },
  {
   "cell_type": "markdown",
   "id": "ac92e525",
   "metadata": {},
   "source": [
    "### So, if the desert heats by only 1K, it is a not-so-important term.  3K, however..."
   ]
  },
  {
   "cell_type": "markdown",
   "id": "da4bcda3",
   "metadata": {},
   "source": [
    "## We'll ignore the 2nd term and thereby derive:\n",
    "\n",
    "## $\\delta \\alpha = 4 R_T / S_\\odot$"
   ]
  },
  {
   "cell_type": "code",
   "execution_count": 22,
   "id": "0ca856d4",
   "metadata": {},
   "outputs": [
    {
     "data": {
      "text/plain": [
       "unyt_quantity(0.11544012, '(dimensionless)')"
      ]
     },
     "execution_count": 22,
     "metadata": {},
     "output_type": "execute_result"
    }
   ],
   "source": [
    "dalpha = 4 * (40*unyt.W/unyt.m**2) / S_o\n",
    "dalpha"
   ]
  },
  {
   "cell_type": "markdown",
   "id": "61842968",
   "metadata": {},
   "source": [
    "## Therefore, decreasing the albedo by an absolute amount of 0.11 would be sufficient.  But that's a big change!"
   ]
  },
  {
   "cell_type": "markdown",
   "id": "29d83591",
   "metadata": {},
   "source": [
    "## One could account for the surface temperature increase by the vertical winds of Problem 3.  Otherwise, I think you'd have to further adjust the albedo."
   ]
  },
  {
   "cell_type": "markdown",
   "id": "b6064154",
   "metadata": {},
   "source": [
    "----"
   ]
  },
  {
   "cell_type": "markdown",
   "id": "bff4834d",
   "metadata": {},
   "source": [
    "# Problem 5 -- "
   ]
  },
  {
   "cell_type": "markdown",
   "id": "91ca2e88",
   "metadata": {},
   "source": [
    "## We wish to force a precipitation $P = 1 \\, \\rm m \\, yr^{-1}$ by forcing a vertical transport of air with vertical velocity $w$."
   ]
  },
  {
   "cell_type": "markdown",
   "id": "328a52f9",
   "metadata": {},
   "source": [
    "## By conservation of water, we have:\n",
    "\n",
    "## $(w \\rho_a q)_{\\rm 1 km} = P \\rho_w$\n",
    "\n",
    "## with $\\rho_a, \\rho_w$ the density of air and liquid water and $q$ is the specific humidity."
   ]
  },
  {
   "cell_type": "code",
   "execution_count": 24,
   "id": "c639a895",
   "metadata": {},
   "outputs": [],
   "source": [
    "# Define\n",
    "rho_a = 1.27 * unyt.kg / unyt.m**3\n",
    "rho_w = 1 * unyt.g / unyt.cm**3\n",
    "P = 1 * unyt.m / unyt.yr\n",
    "q = 12*unyt.g / (12*unyt.g + 1*unyt.kg)"
   ]
  },
  {
   "cell_type": "code",
   "execution_count": 27,
   "id": "a8266088",
   "metadata": {},
   "outputs": [
    {
     "data": {
      "text/plain": [
       "unyt_quantity(0.0075752, 'km/hr')"
      ]
     },
     "execution_count": 27,
     "metadata": {},
     "output_type": "execute_result"
    }
   ],
   "source": [
    "w_2 = P * rho_w / rho_a / q\n",
    "w_2.to('km/hr')"
   ]
  },
  {
   "cell_type": "markdown",
   "id": "14df5b5e",
   "metadata": {},
   "source": [
    "## Taking our answer for Problem 3 as correct (I am doubtful), we derived $w=0.0009 \\, \\rm km/hr$ for $R = 20 \\, \\rm W \\, m^{-2}$"
   ]
  },
  {
   "cell_type": "markdown",
   "id": "611dd608",
   "metadata": {},
   "source": [
    "## This scaling means:"
   ]
  },
  {
   "cell_type": "code",
   "execution_count": 29,
   "id": "47105979",
   "metadata": {},
   "outputs": [
    {
     "data": {
      "text/plain": [
       "unyt_quantity(168.33776833, 'W/m**2')"
      ]
     },
     "execution_count": 29,
     "metadata": {},
     "output_type": "execute_result"
    }
   ],
   "source": [
    "R_needed = w_2 * (20 * unyt.W / unyt.m**2) / (0.0009 * unyt.km/unyt.hr)\n",
    "R_needed.to('W/m**2')"
   ]
  },
  {
   "cell_type": "markdown",
   "id": "6a879c42",
   "metadata": {},
   "source": [
    "## That means a change of $\\approx 188 \\, \\rm W \\, m^{-2}$"
   ]
  },
  {
   "cell_type": "code",
   "execution_count": 30,
   "id": "6f15962d",
   "metadata": {},
   "outputs": [
    {
     "data": {
      "text/plain": [
       "unyt_quantity(0.51948052, '(dimensionless)')"
      ]
     },
     "execution_count": 30,
     "metadata": {},
     "output_type": "execute_result"
    }
   ],
   "source": [
    "dalpha_2 = 4 * (180*unyt.W/unyt.m**2) / S_o\n",
    "dalpha_2"
   ]
  },
  {
   "cell_type": "markdown",
   "id": "381605a1",
   "metadata": {},
   "source": [
    "## Whoa!"
   ]
  },
  {
   "cell_type": "markdown",
   "id": "7466b099",
   "metadata": {},
   "source": [
    "## Looking at Fig 1, the Amazon peaks at $\\approx 100 \\, \\rm W \\, m^{-2}$ which is a bit below the $168 \\, \\rm W \\, m^{-2}$ that I estimated."
   ]
  },
  {
   "cell_type": "code",
   "execution_count": null,
   "id": "d123b62f",
   "metadata": {},
   "outputs": [],
   "source": []
  }
 ],
 "metadata": {
  "kernelspec": {
   "display_name": "Python 3 (ipykernel)",
   "language": "python",
   "name": "python3"
  },
  "language_info": {
   "codemirror_mode": {
    "name": "ipython",
    "version": 3
   },
   "file_extension": ".py",
   "mimetype": "text/x-python",
   "name": "python",
   "nbconvert_exporter": "python",
   "pygments_lexer": "ipython3",
   "version": "3.9.7"
  }
 },
 "nbformat": 4,
 "nbformat_minor": 5
}
