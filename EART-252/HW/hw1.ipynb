{
 "cells": [
  {
   "cell_type": "markdown",
   "id": "15cbb5dd",
   "metadata": {},
   "source": [
    "# EART 252 -- Homework 1"
   ]
  },
  {
   "cell_type": "code",
   "execution_count": 3,
   "id": "c6eef821",
   "metadata": {},
   "outputs": [],
   "source": [
    "from importlib import reload\n",
    "\n",
    "import numpy as np\n",
    "\n",
    "from matplotlib import pyplot as plt\n",
    "import seaborn as sns\n",
    "\n",
    "import unyt"
   ]
  },
  {
   "cell_type": "code",
   "execution_count": 2,
   "id": "97f4cb48",
   "metadata": {},
   "outputs": [],
   "source": [
    "sns.set_theme()\n",
    "sns.set_style('whitegrid')\n",
    "sns.set_context('notebook')"
   ]
  },
  {
   "cell_type": "markdown",
   "id": "e186536f",
   "metadata": {},
   "source": [
    "----"
   ]
  },
  {
   "cell_type": "markdown",
   "id": "21882db2",
   "metadata": {},
   "source": [
    "# Problem 1"
   ]
  },
  {
   "cell_type": "code",
   "execution_count": 5,
   "id": "e7158393",
   "metadata": {},
   "outputs": [],
   "source": [
    "# Net radiative heating\n",
    "R_T = 98 * unyt.W / unyt.m**2"
   ]
  },
  {
   "cell_type": "markdown",
   "id": "1aa5e1cc",
   "metadata": {},
   "source": [
    "## In steady state, averaged over the Earth (with $E=P$), we derived:\n",
    "\n",
    "## $L_V P = -R - SH$"
   ]
  },
  {
   "cell_type": "markdown",
   "id": "29684748",
   "metadata": {},
   "source": [
    "## Assuming that $SH$ is small relative to $R$, we have:\n",
    "\n",
    "## $P = -R / L_V$"
   ]
  },
  {
   "cell_type": "code",
   "execution_count": 14,
   "id": "c271ed6e",
   "metadata": {},
   "outputs": [],
   "source": [
    "# L_V\n",
    "L_V = 2.45 * 10**6 * unyt.J / unyt.kg"
   ]
  },
  {
   "cell_type": "markdown",
   "id": "866596bf",
   "metadata": {},
   "source": [
    "## But we are told, the evaporative fraction is 0.8 so I take that to mean:\n",
    "\n",
    "## $P = -\\epsilon R / L_V$\n",
    "\n",
    "## with $\\epsilon = 0.8$"
   ]
  },
  {
   "cell_type": "markdown",
   "id": "c2bf6209",
   "metadata": {},
   "source": [
    "## Therefore, calculate $p$"
   ]
  },
  {
   "cell_type": "code",
   "execution_count": 35,
   "id": "50a49577",
   "metadata": {},
   "outputs": [
    {
     "data": {
      "text/plain": [
       "unyt_quantity(3.2e-06, 'g/(cm**2*s)')"
      ]
     },
     "execution_count": 35,
     "metadata": {},
     "output_type": "execute_result"
    }
   ],
   "source": [
    "# We ignore the sign\n",
    "epsilon = 0.8\n",
    "p = epsilon * R_T / L_V\n",
    "p.in_cgs()"
   ]
  },
  {
   "cell_type": "markdown",
   "id": "a9cde23d",
   "metadata": {},
   "source": [
    "## Now one cubic centimeter of water is 1 gram"
   ]
  },
  {
   "cell_type": "markdown",
   "id": "342a6a3d",
   "metadata": {},
   "source": [
    "## m/s"
   ]
  },
  {
   "cell_type": "code",
   "execution_count": 31,
   "id": "14f25051",
   "metadata": {},
   "outputs": [
    {
     "data": {
      "text/plain": [
       "unyt_quantity(3.2e-08, 'm/s')"
      ]
     },
     "execution_count": 31,
     "metadata": {},
     "output_type": "execute_result"
    }
   ],
   "source": [
    "P = p * (1*unyt.cm**3/unyt.g)\n",
    "P.to('m/s')"
   ]
  },
  {
   "cell_type": "markdown",
   "id": "95fef0df",
   "metadata": {},
   "source": [
    "## mm/day"
   ]
  },
  {
   "cell_type": "code",
   "execution_count": 32,
   "id": "06a72483",
   "metadata": {},
   "outputs": [
    {
     "data": {
      "text/plain": [
       "unyt_quantity(2.7648, 'mm/day')"
      ]
     },
     "execution_count": 32,
     "metadata": {},
     "output_type": "execute_result"
    }
   ],
   "source": [
    "P.to('mm/day')"
   ]
  },
  {
   "cell_type": "markdown",
   "id": "f02258a7",
   "metadata": {},
   "source": [
    "## m/yr"
   ]
  },
  {
   "cell_type": "code",
   "execution_count": 33,
   "id": "91f49bfb",
   "metadata": {},
   "outputs": [
    {
     "data": {
      "text/plain": [
       "unyt_quantity(1.0098432, 'm/yr')"
      ]
     },
     "execution_count": 33,
     "metadata": {},
     "output_type": "execute_result"
    }
   ],
   "source": [
    "P.to('m/yr')"
   ]
  },
  {
   "cell_type": "markdown",
   "id": "535dd9ba",
   "metadata": {},
   "source": [
    "----"
   ]
  },
  {
   "cell_type": "markdown",
   "id": "0bcae246",
   "metadata": {},
   "source": [
    "# Problem 2 -- Greenhouse warming"
   ]
  },
  {
   "cell_type": "markdown",
   "id": "31d760eb",
   "metadata": {},
   "source": [
    "## Warming\n",
    "\n",
    "## Increase $R_T$ by 0.8 W m$^{-2}$\n",
    "\n",
    "## And $\\epsilon$ by 0.012"
   ]
  },
  {
   "cell_type": "code",
   "execution_count": 36,
   "id": "03f5bc50",
   "metadata": {},
   "outputs": [],
   "source": [
    "R_T_2 = R_T + 0.8 * unyt.W / unyt.m**2\n",
    "epsilon_2 = epsilon + 0.012"
   ]
  },
  {
   "cell_type": "markdown",
   "id": "a54a31df",
   "metadata": {},
   "source": [
    "## Recalculate"
   ]
  },
  {
   "cell_type": "code",
   "execution_count": 37,
   "id": "44fe2d03",
   "metadata": {},
   "outputs": [],
   "source": [
    "p_2 = epsilon_2 * R_T_2 / L_V"
   ]
  },
  {
   "cell_type": "markdown",
   "id": "4176fe6f",
   "metadata": {},
   "source": [
    "## Fractional change"
   ]
  },
  {
   "cell_type": "code",
   "execution_count": 38,
   "id": "e6360fbd",
   "metadata": {},
   "outputs": [
    {
     "data": {
      "text/plain": [
       "unyt_quantity(0.02328571, '(dimensionless)')"
      ]
     },
     "execution_count": 38,
     "metadata": {},
     "output_type": "execute_result"
    }
   ],
   "source": [
    "(p_2-p)/p"
   ]
  },
  {
   "cell_type": "markdown",
   "id": "8c6a6301",
   "metadata": {},
   "source": [
    "## $\\approx 2\\%$"
   ]
  },
  {
   "cell_type": "markdown",
   "id": "44be0507",
   "metadata": {},
   "source": [
    "----"
   ]
  },
  {
   "cell_type": "markdown",
   "id": "d74efed6",
   "metadata": {},
   "source": [
    "# Problem 3 -- Sahara subsiding"
   ]
  },
  {
   "cell_type": "markdown",
   "id": "5347f1d3",
   "metadata": {},
   "source": [
    "## In class, we derived a regional expression:\n",
    "\n",
    "## $L_V P = -R - SH - \\nabla \\cdot F_{e,dry}$"
   ]
  },
  {
   "cell_type": "markdown",
   "id": "c2fb5be8",
   "metadata": {},
   "source": [
    "## where the latter term has both horizontal and vertical components.\n",
    "\n",
    "## Here we will only consider the horizontal.\n",
    "\n",
    "## And, for the Sahara we will assume 0 precipitation i.e. $P=0$ and ignore SH."
   ]
  },
  {
   "cell_type": "markdown",
   "id": "c2155866",
   "metadata": {},
   "source": [
    "## Therefore, \n",
    "\n",
    "## $R  = \\int w \\frac{\\partial s}{\\partial p} \\frac{dp}{g}$\n",
    "\n",
    "### with $s = c_pT + gz$"
   ]
  },
  {
   "cell_type": "markdown",
   "id": "52afa808",
   "metadata": {},
   "source": [
    "## Examining the Annual figure, I eyeball that the radiative cooling is $R \\approx -20 \\rm W/m^2$"
   ]
  },
  {
   "cell_type": "code",
   "execution_count": 39,
   "id": "a79e823e",
   "metadata": {},
   "outputs": [],
   "source": [
    "# R\n",
    "R = -20 * unyt.W/unyt.m**2"
   ]
  },
  {
   "cell_type": "markdown",
   "id": "aed2d51f",
   "metadata": {},
   "source": [
    "## We are told to ignore the temperature term in the static energy, i.e.\n",
    "\n",
    "## $s \\approx gz$"
   ]
  },
  {
   "cell_type": "markdown",
   "id": "9e93d62d",
   "metadata": {},
   "source": [
    "## At the Earth's surface, I recall that the density profile is nearly exponential.  And we saw the temperature profile is not steep (i.e. $T$ is approximately constant).\n",
    "\n",
    "## This means, approximately, that:\n",
    "\n",
    "## $z = \\frac{R_V T}{g} \\, \\ln p$"
   ]
  },
  {
   "cell_type": "markdown",
   "id": "14ec1924",
   "metadata": {},
   "source": [
    "## Therefore, we can write:\n",
    "\n",
    "## $\\frac{\\partial s}{\\partial p} = \\frac{\\partial s}{\\partial z} \\frac{\\partial z}{\\partial p}$\n",
    "\n",
    "## Giving\n",
    "\n",
    "## $\\frac{\\partial s}{\\partial p} = \\frac{R_V T}{p}$"
   ]
  },
  {
   "cell_type": "markdown",
   "id": "a66466bd",
   "metadata": {},
   "source": [
    "## That leaves:\n",
    "\n",
    "## $R  = \\int w \\frac{R_V T}{g} \\frac{dp}{p}$\n",
    "\n",
    "## Am a bit nervous on the units/constants above, but we'll see how this goes.."
   ]
  },
  {
   "cell_type": "markdown",
   "id": "1d235630",
   "metadata": {},
   "source": [
    "## Integrating assuming a constant vertical wind, \n",
    "\n",
    "## $R = \\frac{w R_V T}{g} \\ln \\frac{p_1}{p_0}$\n",
    "\n",
    "## with $p_1, p_0$ the pressure up high and at the Earth's surface."
   ]
  },
  {
   "cell_type": "markdown",
   "id": "4309ad7f",
   "metadata": {},
   "source": [
    "## Time for numerics"
   ]
  },
  {
   "cell_type": "code",
   "execution_count": 67,
   "id": "37b670e5",
   "metadata": {},
   "outputs": [],
   "source": [
    "# Values at the Earth's surface\n",
    "g = 9.8 * unyt.m/unyt.s**2\n",
    "R_V = 287 * unyt.J / unyt.K / unyt.kg# Specific\n",
    "T = 288 * unyt.K # Probably a bit hotter in the Sahara..\n",
    "#  Guess at p1/p0\n",
    "p1_p0 = 1./2.\n",
    "p0 = 1000 * unyt.hPa"
   ]
  },
  {
   "cell_type": "code",
   "execution_count": 83,
   "id": "dfc06564",
   "metadata": {},
   "outputs": [
    {
     "data": {
      "text/plain": [
       "unyt_quantity(3.49084166e-05, 'g/(cm**2*s)')"
      ]
     },
     "execution_count": 83,
     "metadata": {},
     "output_type": "execute_result"
    }
   ],
   "source": [
    "w = (R/g)  * g / R_V / T / np.log(p1_p0)  # I have weighted R by 1/g not ps/g\n",
    "w.in_cgs()"
   ]
  },
  {
   "cell_type": "markdown",
   "id": "80571ee3",
   "metadata": {},
   "source": [
    "## To get those units right, need to multiply the number of particles in a cubic cm of air"
   ]
  },
  {
   "cell_type": "code",
   "execution_count": 84,
   "id": "f2952c62",
   "metadata": {},
   "outputs": [],
   "source": [
    "air_density = 1.27 * unyt.kg / unyt.m**3"
   ]
  },
  {
   "cell_type": "code",
   "execution_count": 85,
   "id": "a3728615",
   "metadata": {},
   "outputs": [
    {
     "data": {
      "text/plain": [
       "unyt_quantity(0.00098953, 'km/hr')"
      ]
     },
     "execution_count": 85,
     "metadata": {},
     "output_type": "execute_result"
    }
   ],
   "source": [
    "w_final = w / air_particle_density\n",
    "w_final.to('km/hr')"
   ]
  },
  {
   "cell_type": "markdown",
   "id": "f5b16fd0",
   "metadata": {},
   "source": [
    "## That seems way too slow..\n",
    "\n",
    "## Am guessing it is the factor of 1000 (hPa) suggested in the problem, but I couldn't quite see how to justify that (although the factor of 1/g"
   ]
  },
  {
   "cell_type": "markdown",
   "id": "83facf24",
   "metadata": {},
   "source": [
    "----\n",
    "\n",
    "# Problem 4 -- Rain in the Sahara"
   ]
  },
  {
   "cell_type": "markdown",
   "id": "b73497c3",
   "metadata": {},
   "source": [
    "## The net radiaton is given by:\n",
    "\n",
    "## $R_T = \\rm ASR - OLR$ \n",
    "\n",
    "## which we have eyeballed as a net loss of $-20 \\rm W/m^2$"
   ]
  },
  {
   "cell_type": "markdown",
   "id": "25c6313c",
   "metadata": {},
   "source": [
    "## Now, the absorbed solar radiation (ASR) is given by:\n",
    "\n",
    "## ${\\rm ASR} = \\frac{(1-\\alpha)S_\\odot}{4}$\n",
    "\n",
    "## with $\\alpha$ the albedo and $S_\\odot = 1386 \\rm \\, W/m^2$ is the solar constant\n",
    "\n",
    "## And, the outgoing longwavelenth radiation (OLR) is given by:\n",
    "\n",
    "## ${\\rm OLR} = \\sigma T_e^4$"
   ]
  },
  {
   "cell_type": "code",
   "execution_count": 41,
   "id": "e1ed6323",
   "metadata": {},
   "outputs": [],
   "source": [
    "S_o = 1386 * unyt.W / unyt.m**2"
   ]
  },
  {
   "cell_type": "markdown",
   "id": "a978841e",
   "metadata": {},
   "source": [
    "## Perturbing our equation,\n",
    "\n",
    "## $\\delta R_T = \\rm \\delta ASR - \\delta OLR$"
   ]
  },
  {
   "cell_type": "markdown",
   "id": "56d8d059",
   "metadata": {},
   "source": [
    "## Giving\n",
    "\n",
    "## $\\delta R_T = -\\delta \\alpha S_\\odot/4 - 4 \\sigma T_e^3 \\delta T_E$"
   ]
  },
  {
   "cell_type": "markdown",
   "id": "aa55b80e",
   "metadata": {},
   "source": [
    "### Consider the 2nd term for a moment\n",
    "\n",
    "### For $\\delta T_E = 1$K, we have:"
   ]
  },
  {
   "cell_type": "code",
   "execution_count": 86,
   "id": "0f05a34d",
   "metadata": {},
   "outputs": [
    {
     "data": {
      "text/plain": [
       "unyt_quantity(6.048, 'W/m**2')"
      ]
     },
     "execution_count": 86,
     "metadata": {},
     "output_type": "execute_result"
    }
   ],
   "source": [
    "T_e = 300 * unyt.K\n",
    "sigma = 5.6 * 10**(-8) * unyt.W / unyt.m**2 / unyt.K**4\n",
    "BB = 4 * sigma * T_e**3 * (1*unyt.K)\n",
    "BB"
   ]
  },
  {
   "cell_type": "markdown",
   "id": "54d80aa1",
   "metadata": {},
   "source": [
    "### So, if the desert heats by only 1K, it is a not-so-important term.  3K, however..."
   ]
  },
  {
   "cell_type": "markdown",
   "id": "d2ff0e68",
   "metadata": {},
   "source": [
    "## We'll ignore the 2nd term and thereby derive:\n",
    "\n",
    "## $\\delta \\alpha = 4 R_T / S_\\odot$"
   ]
  },
  {
   "cell_type": "code",
   "execution_count": 88,
   "id": "f8ba23bb",
   "metadata": {},
   "outputs": [
    {
     "data": {
      "text/plain": [
       "unyt_quantity(0.11544012, '(dimensionless)')"
      ]
     },
     "execution_count": 88,
     "metadata": {},
     "output_type": "execute_result"
    }
   ],
   "source": [
    "dalpha = 4 * (40*unyt.W/unyt.m**2) / S_o\n",
    "dalpha"
   ]
  },
  {
   "cell_type": "markdown",
   "id": "f4d5f43c",
   "metadata": {},
   "source": [
    "## Therefore, decreasing the albedo by an absolute amount of 0.11 would be sufficient.  But that's a big change!"
   ]
  },
  {
   "cell_type": "markdown",
   "id": "edd34d25",
   "metadata": {},
   "source": [
    "## One could account for the surface temperature increase by the vertical winds of Problem 3.  Otherwise, I think you'd have to further adjust the albedo."
   ]
  },
  {
   "cell_type": "markdown",
   "id": "9ec70e0b",
   "metadata": {},
   "source": [
    "----"
   ]
  },
  {
   "cell_type": "markdown",
   "id": "6bdb1239",
   "metadata": {},
   "source": [
    "# Problem 5 -- "
   ]
  },
  {
   "cell_type": "code",
   "execution_count": null,
   "id": "8badae78",
   "metadata": {},
   "outputs": [],
   "source": []
  }
 ],
 "metadata": {
  "kernelspec": {
   "display_name": "Python 3 (ipykernel)",
   "language": "python",
   "name": "python3"
  },
  "language_info": {
   "codemirror_mode": {
    "name": "ipython",
    "version": 3
   },
   "file_extension": ".py",
   "mimetype": "text/x-python",
   "name": "python",
   "nbconvert_exporter": "python",
   "pygments_lexer": "ipython3",
   "version": "3.8.5"
  }
 },
 "nbformat": 4,
 "nbformat_minor": 5
}
