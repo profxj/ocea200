{
 "cells": [
  {
   "cell_type": "markdown",
   "id": "7843efe1",
   "metadata": {},
   "source": [
    "# EART 252 -- Homework 1"
   ]
  },
  {
   "cell_type": "code",
   "execution_count": 3,
   "id": "c607f3a2",
   "metadata": {},
   "outputs": [],
   "source": [
    "from importlib import reload\n",
    "\n",
    "import numpy as np\n",
    "\n",
    "from matplotlib import pyplot as plt\n",
    "import seaborn as sns\n",
    "\n",
    "import unyt"
   ]
  },
  {
   "cell_type": "code",
   "execution_count": 2,
   "id": "1ac832ae",
   "metadata": {},
   "outputs": [],
   "source": [
    "sns.set_theme()\n",
    "sns.set_style('whitegrid')\n",
    "sns.set_context('notebook')"
   ]
  },
  {
   "cell_type": "markdown",
   "id": "484fce70",
   "metadata": {},
   "source": [
    "----"
   ]
  },
  {
   "cell_type": "markdown",
   "id": "fcd7e662",
   "metadata": {},
   "source": [
    "# Problem 1"
   ]
  },
  {
   "cell_type": "code",
   "execution_count": 5,
   "id": "a148d7c4",
   "metadata": {},
   "outputs": [],
   "source": [
    "# Net radiative heating\n",
    "R_T = 98 * unyt.W / unyt.m**2"
   ]
  },
  {
   "cell_type": "markdown",
   "id": "a5c77ff9",
   "metadata": {},
   "source": [
    "## In steady state, averaged over the Earth (with $E=P$), we derived:\n",
    "\n",
    "## $L_V P = -R - SH$"
   ]
  },
  {
   "cell_type": "markdown",
   "id": "650efde6",
   "metadata": {},
   "source": [
    "## Assuming that $SH$ is small relative to $R$, we have:\n",
    "\n",
    "## $P = -R / L_V$"
   ]
  },
  {
   "cell_type": "code",
   "execution_count": 14,
   "id": "59bf7ae3",
   "metadata": {},
   "outputs": [],
   "source": [
    "# L_V\n",
    "L_V = 2.45 * 10**6 * unyt.J / unyt.kg"
   ]
  },
  {
   "cell_type": "markdown",
   "id": "76d93a72",
   "metadata": {},
   "source": [
    "## But we are told, the evaporative fraction is 0.8 so I take that to mean:\n",
    "\n",
    "## $P = -\\epsilon R / L_V$\n",
    "\n",
    "## with $\\epsilon = 0.8$"
   ]
  },
  {
   "cell_type": "markdown",
   "id": "3e50c0ee",
   "metadata": {},
   "source": [
    "## Therefore, calculate $p$"
   ]
  },
  {
   "cell_type": "code",
   "execution_count": 35,
   "id": "309f1db0",
   "metadata": {},
   "outputs": [
    {
     "data": {
      "text/plain": [
       "unyt_quantity(3.2e-06, 'g/(cm**2*s)')"
      ]
     },
     "execution_count": 35,
     "metadata": {},
     "output_type": "execute_result"
    }
   ],
   "source": [
    "# We ignore the sign\n",
    "epsilon = 0.8\n",
    "p = epsilon * R_T / L_V\n",
    "p.in_cgs()"
   ]
  },
  {
   "cell_type": "markdown",
   "id": "85c99b56",
   "metadata": {},
   "source": [
    "## Now one cubic centimeter of water is 1 gram"
   ]
  },
  {
   "cell_type": "markdown",
   "id": "2dd75447",
   "metadata": {},
   "source": [
    "## m/s"
   ]
  },
  {
   "cell_type": "code",
   "execution_count": 31,
   "id": "afc65462",
   "metadata": {},
   "outputs": [
    {
     "data": {
      "text/plain": [
       "unyt_quantity(3.2e-08, 'm/s')"
      ]
     },
     "execution_count": 31,
     "metadata": {},
     "output_type": "execute_result"
    }
   ],
   "source": [
    "P = p * (1*unyt.cm**3/unyt.g)\n",
    "P.to('m/s')"
   ]
  },
  {
   "cell_type": "markdown",
   "id": "3c594de2",
   "metadata": {},
   "source": [
    "## mm/day"
   ]
  },
  {
   "cell_type": "code",
   "execution_count": 32,
   "id": "236290b1",
   "metadata": {},
   "outputs": [
    {
     "data": {
      "text/plain": [
       "unyt_quantity(2.7648, 'mm/day')"
      ]
     },
     "execution_count": 32,
     "metadata": {},
     "output_type": "execute_result"
    }
   ],
   "source": [
    "P.to('mm/day')"
   ]
  },
  {
   "cell_type": "markdown",
   "id": "f6e45145",
   "metadata": {},
   "source": [
    "## m/yr"
   ]
  },
  {
   "cell_type": "code",
   "execution_count": 33,
   "id": "9bd5a04a",
   "metadata": {},
   "outputs": [
    {
     "data": {
      "text/plain": [
       "unyt_quantity(1.0098432, 'm/yr')"
      ]
     },
     "execution_count": 33,
     "metadata": {},
     "output_type": "execute_result"
    }
   ],
   "source": [
    "P.to('m/yr')"
   ]
  },
  {
   "cell_type": "markdown",
   "id": "c7e693e2",
   "metadata": {},
   "source": [
    "----"
   ]
  },
  {
   "cell_type": "markdown",
   "id": "f8df1693",
   "metadata": {},
   "source": [
    "# Problem 2 -- Greenhouse warming"
   ]
  },
  {
   "cell_type": "markdown",
   "id": "f35f434a",
   "metadata": {},
   "source": [
    "## Warming\n",
    "\n",
    "## Increase $R_T$ by 0.8 W m$^{-2}$\n",
    "\n",
    "## And $\\epsilon$ by 0.012"
   ]
  },
  {
   "cell_type": "code",
   "execution_count": 36,
   "id": "83f2b407",
   "metadata": {},
   "outputs": [],
   "source": [
    "R_T_2 = R_T + 0.8 * unyt.W / unyt.m**2\n",
    "epsilon_2 = epsilon + 0.012"
   ]
  },
  {
   "cell_type": "markdown",
   "id": "346aeaf2",
   "metadata": {},
   "source": [
    "## Recalculate"
   ]
  },
  {
   "cell_type": "code",
   "execution_count": 37,
   "id": "0ae6e134",
   "metadata": {},
   "outputs": [],
   "source": [
    "p_2 = epsilon_2 * R_T_2 / L_V"
   ]
  },
  {
   "cell_type": "markdown",
   "id": "884f2cc1",
   "metadata": {},
   "source": [
    "## Fractional change"
   ]
  },
  {
   "cell_type": "code",
   "execution_count": 38,
   "id": "6820395d",
   "metadata": {},
   "outputs": [
    {
     "data": {
      "text/plain": [
       "unyt_quantity(0.02328571, '(dimensionless)')"
      ]
     },
     "execution_count": 38,
     "metadata": {},
     "output_type": "execute_result"
    }
   ],
   "source": [
    "(p_2-p)/p"
   ]
  },
  {
   "cell_type": "markdown",
   "id": "ab59a9c5",
   "metadata": {},
   "source": [
    "## $\\approx 2\\%$"
   ]
  },
  {
   "cell_type": "markdown",
   "id": "feee1f90",
   "metadata": {},
   "source": [
    "----"
   ]
  },
  {
   "cell_type": "markdown",
   "id": "1666ec2d",
   "metadata": {},
   "source": [
    "# Problem 3 -- Sahara subsiding"
   ]
  },
  {
   "cell_type": "markdown",
   "id": "41269911",
   "metadata": {},
   "source": [
    "## In class, we derived a regional expression:\n",
    "\n",
    "## $L_V P = -R - SH - \\nabla \\cdot F_{e,dry}$"
   ]
  },
  {
   "cell_type": "markdown",
   "id": "26a5ee03",
   "metadata": {},
   "source": [
    "## where the latter term has both horizontal and vertical components.\n",
    "\n",
    "## Here we will only consider the horizontal.\n",
    "\n",
    "## And, for the Sahara we will assume 0 precipitation i.e. $P=0$ and ignore SH."
   ]
  },
  {
   "cell_type": "markdown",
   "id": "a188ecbe",
   "metadata": {},
   "source": [
    "## Therefore, \n",
    "\n",
    "## $R  = \\int w \\frac{\\partial s}{\\partial p} \\frac{dp}{g}$\n",
    "\n",
    "### with $s = c_pT + gz$"
   ]
  },
  {
   "cell_type": "markdown",
   "id": "201fea87",
   "metadata": {},
   "source": [
    "## Examining the Annual figure, I eyeball that the radiative cooling is $R \\approx -20 \\rm W/m^2$"
   ]
  },
  {
   "cell_type": "code",
   "execution_count": 39,
   "id": "2f33cbe9",
   "metadata": {},
   "outputs": [],
   "source": [
    "# R\n",
    "R = -20 * unyt.W/unyt.m**2"
   ]
  },
  {
   "cell_type": "markdown",
   "id": "026a234e",
   "metadata": {},
   "source": [
    "----"
   ]
  },
  {
   "cell_type": "markdown",
   "id": "6d2c5ab9",
   "metadata": {},
   "source": [
    "# Problem 4 -- Rain in the Sahara"
   ]
  },
  {
   "cell_type": "markdown",
   "id": "198265de",
   "metadata": {},
   "source": [
    "## The net radiaton is given by:\n",
    "\n",
    "## $R_T = \\rm ASR - OLR$ \n",
    "\n",
    "## which we have eyeballed as a net loss of $-20 \\rm W/m^2$"
   ]
  },
  {
   "cell_type": "markdown",
   "id": "5a0f846c",
   "metadata": {},
   "source": [
    "## Now, the absorbed solar radiation (ASR) is given by:\n",
    "\n",
    "## ${\\rm ASR} = \\frac{(1-\\alpha)S_\\odot}{4}$\n",
    "\n",
    "## with $\\alpha$ the albedo and $S_\\odot = 1386 \\rm \\, W/m^2$ is the solar constant\n",
    "\n",
    "## And, the outgoing longwavelenth radiation (OLR) is given by:\n",
    "\n",
    "## ${\\rm OLR} = \\sigma T_e^4$"
   ]
  },
  {
   "cell_type": "code",
   "execution_count": 41,
   "id": "26ffa282",
   "metadata": {},
   "outputs": [],
   "source": [
    "S_o = 1386 * unyt.W / unyt.m**2"
   ]
  },
  {
   "cell_type": "markdown",
   "id": "bbac2088",
   "metadata": {},
   "source": [
    "## Perturbing our equation,\n",
    "\n",
    "## $\\delta R_T = \\rm \\delta ASR - \\delta OLR$"
   ]
  },
  {
   "cell_type": "markdown",
   "id": "5e52ca58",
   "metadata": {},
   "source": [
    "## Giving\n",
    "\n",
    "## $\\delta R_T = -\\delta \\alpha S_\\odot/4 - 4 \\sigma T_e^3 \\delta T_E$"
   ]
  },
  {
   "cell_type": "code",
   "execution_count": null,
   "id": "4d072be1",
   "metadata": {},
   "outputs": [],
   "source": []
  },
  {
   "cell_type": "code",
   "execution_count": null,
   "id": "9c213ed2",
   "metadata": {},
   "outputs": [],
   "source": []
  }
 ],
 "metadata": {
  "kernelspec": {
   "display_name": "Python 3 (ipykernel)",
   "language": "python",
   "name": "python3"
  },
  "language_info": {
   "codemirror_mode": {
    "name": "ipython",
    "version": 3
   },
   "file_extension": ".py",
   "mimetype": "text/x-python",
   "name": "python",
   "nbconvert_exporter": "python",
   "pygments_lexer": "ipython3",
   "version": "3.8.5"
  }
 },
 "nbformat": 4,
 "nbformat_minor": 5
}
