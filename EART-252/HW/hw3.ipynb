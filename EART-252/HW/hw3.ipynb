{
 "cells": [
  {
   "cell_type": "markdown",
   "id": "9d5e6a3a-df73-4660-8ddb-17dafba43d3b",
   "metadata": {},
   "source": [
    "# Homework 3"
   ]
  },
  {
   "cell_type": "code",
   "execution_count": 1,
   "id": "fe596b31-7f7b-47cc-b8a1-2f4d04b57f77",
   "metadata": {},
   "outputs": [],
   "source": [
    "from importlib import reload\n",
    "\n",
    "import numpy as np\n",
    "\n",
    "from matplotlib import pyplot as plt\n",
    "import seaborn as sns\n",
    "\n",
    "import unyt"
   ]
  },
  {
   "cell_type": "markdown",
   "id": "88ec7ee1-595c-47d5-b341-b00281b7f0fb",
   "metadata": {},
   "source": [
    "# Constants"
   ]
  },
  {
   "cell_type": "code",
   "execution_count": 78,
   "id": "7e755276-270d-493f-8431-01cdd511f282",
   "metadata": {},
   "outputs": [],
   "source": [
    "L_V = 2.5 * 10**6 * unyt.J / unyt.kg\n",
    "R_V = 287 * unyt.J / unyt.K / unyt.kg# Specific\n",
    "rho_w = 1 * unyt.g / unyt.cm**3\n",
    "C_p = 4184 * unyt.J / unyt.kg / unyt.K # Specific Heat for water"
   ]
  },
  {
   "cell_type": "markdown",
   "id": "9b1e6997-9db4-4f5a-a77c-1a80f1859070",
   "metadata": {},
   "source": [
    "# Problem 1 -- Evaporation Rates"
   ]
  },
  {
   "cell_type": "markdown",
   "id": "bf734bc0-144e-40b6-97ba-a13bc0767407",
   "metadata": {},
   "source": [
    "## Bulk Aerodynamic Formula\n",
    "\n",
    "## $LE = L_v \\rho C_{\\rm DE} U \\left [ q^*(T_s) (1-RH) + RH \\frac{\\partial q^*}{\\partial T} (T_s - T_a) \\right ] $"
   ]
  },
  {
   "cell_type": "markdown",
   "id": "e4b001f1-f3b7-4f93-81e9-81b975a9e771",
   "metadata": {},
   "source": [
    "### Code up"
   ]
  },
  {
   "cell_type": "code",
   "execution_count": 24,
   "id": "8a857842-fba5-4b31-b786-e4a371ca168b",
   "metadata": {},
   "outputs": [],
   "source": [
    "def CC(qs, Ts):\n",
    "    return qs * L_V / R_V / Ts**2"
   ]
  },
  {
   "cell_type": "code",
   "execution_count": 14,
   "id": "18df76ce-ae7b-4d6a-b8d4-675a8b93a16a",
   "metadata": {},
   "outputs": [],
   "source": [
    "def LE(RH, Ts, qs, C_DE=1e-3, U=5*unyt.m/unyt.s, rho=1.2*unyt.kg/unyt.m**3):\n",
    "    # Air temperature\n",
    "    Ta = Ts - 2*unyt.K\n",
    "    #\n",
    "    fterm = qs * (1-RH) \n",
    "    sterm = RH * CC(qs, Ts) * (Ta-Ts)\n",
    "    return L_V * rho * C_DE * U * (fterm - sterm)"
   ]
  },
  {
   "cell_type": "markdown",
   "id": "f08c0bc8-0e38-4d45-b839-961096deb0c1",
   "metadata": {},
   "source": [
    "## Evaporation Rate\n",
    "\n",
    "## $E = LE / L_V$ and we toss in the density of water for units!\n",
    "\n",
    "## $E = LE / L_V / \\rho_w$"
   ]
  },
  {
   "cell_type": "markdown",
   "id": "63891df1-0d4b-48c3-a674-fe9b749a24df",
   "metadata": {},
   "source": [
    "### (a) "
   ]
  },
  {
   "cell_type": "code",
   "execution_count": 62,
   "id": "a17ffe9c-6bfc-434b-baa9-345d57a22a0a",
   "metadata": {},
   "outputs": [],
   "source": [
    "Ts_a = (0 * unyt.Celsius).to('K')\n",
    "qs_0 = 3.75 * unyt.g / unyt.kg\n",
    "RH = 0.5"
   ]
  },
  {
   "cell_type": "code",
   "execution_count": 63,
   "id": "5c4ac082-d6b0-4d02-b684-b106bc440070",
   "metadata": {},
   "outputs": [
    {
     "data": {
      "text/plain": [
       "unyt_quantity(1.19896138, 'mm/day')"
      ]
     },
     "execution_count": 63,
     "metadata": {},
     "output_type": "execute_result"
    }
   ],
   "source": [
    "E_a = LE(RH, Ts_a, qs_0) / L_V / rho_w\n",
    "E_a.to('mm/day')"
   ]
  },
  {
   "cell_type": "markdown",
   "id": "8a3a26b9-c6c2-4f0f-a6ac-2c62c7eb1a5a",
   "metadata": {},
   "source": [
    "### (b)"
   ]
  },
  {
   "cell_type": "code",
   "execution_count": 64,
   "id": "9df569f2-f626-4e93-b116-f7edd273b8fb",
   "metadata": {},
   "outputs": [],
   "source": [
    "Ts_b = (0 * unyt.Celsius).to('K')\n",
    "RH = 1."
   ]
  },
  {
   "cell_type": "code",
   "execution_count": 65,
   "id": "076b3a8d-beb7-4adb-82a2-a5083b70c0b2",
   "metadata": {},
   "outputs": [
    {
     "data": {
      "text/plain": [
       "unyt_quantity(0.45392276, 'mm/day')"
      ]
     },
     "execution_count": 65,
     "metadata": {},
     "output_type": "execute_result"
    }
   ],
   "source": [
    "E_b = LE(RH, Ts_b, qs_0) / L_V / rho_w\n",
    "E_b.to('mm/day')"
   ]
  },
  {
   "cell_type": "markdown",
   "id": "d261b0b8-8621-49ed-be16-424cc8b840cb",
   "metadata": {},
   "source": [
    "### (c)"
   ]
  },
  {
   "cell_type": "code",
   "execution_count": 66,
   "id": "af4ec3fc-29d3-44ca-bcb8-376feb66e734",
   "metadata": {},
   "outputs": [],
   "source": [
    "Ts_c = (30 * unyt.Celsius).to('K')\n",
    "qs_30 = 27 * unyt.g / unyt.kg\n",
    "RH = 0.5"
   ]
  },
  {
   "cell_type": "code",
   "execution_count": 67,
   "id": "dc568272-5a00-4f25-9435-cdeeb66e5dc5",
   "metadata": {},
   "outputs": [
    {
     "data": {
      "text/plain": [
       "unyt_quantity(8.32509693, 'mm/day')"
      ]
     },
     "execution_count": 67,
     "metadata": {},
     "output_type": "execute_result"
    }
   ],
   "source": [
    "E_c = LE(RH, Ts_c, qs_30) / L_V / rho_w\n",
    "E_c.to('mm/day')"
   ]
  },
  {
   "cell_type": "markdown",
   "id": "ce46e242-19f1-4b78-9d9f-468d335cffc6",
   "metadata": {},
   "source": [
    "### (d)"
   ]
  },
  {
   "cell_type": "code",
   "execution_count": 68,
   "id": "123f8faf-cd01-4431-b82b-346a6cdd804d",
   "metadata": {},
   "outputs": [],
   "source": [
    "Ts_d = (30 * unyt.Celsius).to('K')\n",
    "RH = 1."
   ]
  },
  {
   "cell_type": "code",
   "execution_count": 69,
   "id": "d5f95265-81dd-446b-956e-0018f7de8ebd",
   "metadata": {},
   "outputs": [
    {
     "data": {
      "text/plain": [
       "unyt_quantity(2.65339386, 'mm/day')"
      ]
     },
     "execution_count": 69,
     "metadata": {},
     "output_type": "execute_result"
    }
   ],
   "source": [
    "E_d = LE(RH, Ts_d, qs_30) / L_V / rho_w\n",
    "E_d.to('mm/day')"
   ]
  },
  {
   "cell_type": "markdown",
   "id": "2eb0982f-c843-40da-bb26-36f04391aa86",
   "metadata": {},
   "source": [
    "## Consider the increase in $E$ for the fractional increase in $T_s$ and $RH$"
   ]
  },
  {
   "cell_type": "markdown",
   "id": "c9ffa2b0-dfd3-461d-9660-4e11256d7bc4",
   "metadata": {},
   "source": [
    "## RH"
   ]
  },
  {
   "cell_type": "code",
   "execution_count": 70,
   "id": "13b07174-0cf1-4349-a91c-d54fe2521d29",
   "metadata": {},
   "outputs": [],
   "source": [
    "dE_dRH_ab = ((E_b-E_a)/E_a)/(1)  # 100% increase\n",
    "dE_dRH_cd = ((E_d-E_c))/E_c/(1)  # 100% increase"
   ]
  },
  {
   "cell_type": "code",
   "execution_count": 57,
   "id": "f36359a4-87b3-42cd-b083-8323c826e733",
   "metadata": {},
   "outputs": [
    {
     "data": {
      "text/plain": [
       "unyt_quantity(-0.62140335, '(dimensionless)')"
      ]
     },
     "execution_count": 57,
     "metadata": {},
     "output_type": "execute_result"
    }
   ],
   "source": [
    "dE_dRH_ab"
   ]
  },
  {
   "cell_type": "code",
   "execution_count": 58,
   "id": "e56b9677-be5e-4e75-90cb-074fa0b9fb80",
   "metadata": {},
   "outputs": [
    {
     "data": {
      "text/plain": [
       "unyt_quantity(-0.68127772, '(dimensionless)')"
      ]
     },
     "execution_count": 58,
     "metadata": {},
     "output_type": "execute_result"
    }
   ],
   "source": [
    "dE_dRH_cd"
   ]
  },
  {
   "cell_type": "markdown",
   "id": "f1ef497d-8521-4721-995a-55fe29217ace",
   "metadata": {},
   "source": [
    "## $70\\%$ decrease in E for a 100% increase in RH"
   ]
  },
  {
   "cell_type": "markdown",
   "id": "826d02c3-48e9-4eef-b08f-c43ea4c0f51d",
   "metadata": {},
   "source": [
    "## $T_s$"
   ]
  },
  {
   "cell_type": "code",
   "execution_count": 48,
   "id": "3a709b47-f0df-4eff-8bf6-c63ff8a14586",
   "metadata": {},
   "outputs": [
    {
     "data": {
      "text/plain": [
       "unyt_quantity(0.10982976, '(dimensionless)')"
      ]
     },
     "execution_count": 48,
     "metadata": {},
     "output_type": "execute_result"
    }
   ],
   "source": [
    "dTs = (Ts_c-Ts_a)/Ts_a\n",
    "dTs"
   ]
  },
  {
   "cell_type": "code",
   "execution_count": 59,
   "id": "0bf1c430-18f4-42cf-8ae5-fede83807c79",
   "metadata": {},
   "outputs": [],
   "source": [
    "dE_dRH_ca = ((E_c-E_a)/E_a)/(dTs)  # 100% increase\n",
    "dE_dRH_db = ((E_d-E_b)/E_b)/(dTs)  # 100% increase"
   ]
  },
  {
   "cell_type": "code",
   "execution_count": 60,
   "id": "13ee0a1a-4e7a-4d34-8f00-02a7fa6ee7c7",
   "metadata": {},
   "outputs": [
    {
     "data": {
      "text/plain": [
       "unyt_quantity(54.11639213, '(dimensionless)')"
      ]
     },
     "execution_count": 60,
     "metadata": {},
     "output_type": "execute_result"
    }
   ],
   "source": [
    "dE_dRH_ca"
   ]
  },
  {
   "cell_type": "code",
   "execution_count": 61,
   "id": "c099b093-be2a-441f-9139-1bc231cf3513",
   "metadata": {},
   "outputs": [
    {
     "data": {
      "text/plain": [
       "unyt_quantity(44.11804418, '(dimensionless)')"
      ]
     },
     "execution_count": 61,
     "metadata": {},
     "output_type": "execute_result"
    }
   ],
   "source": [
    "dE_dRH_db"
   ]
  },
  {
   "cell_type": "markdown",
   "id": "16d2bdcc-f4f8-43f6-874e-f2f8af15d350",
   "metadata": {},
   "source": [
    "## A somewhat small ($\\sim 10\\%$) fractional change in $T_s$ leads to a more than 500% increase in $E$!"
   ]
  },
  {
   "cell_type": "markdown",
   "id": "f52e5aed-43a2-41b4-8b51-c098c7efe15b",
   "metadata": {},
   "source": [
    "----"
   ]
  },
  {
   "cell_type": "markdown",
   "id": "080dcc95-34a7-40b2-a179-d6a06dd4b742",
   "metadata": {},
   "source": [
    "# Problem 2 -- Bowen Ratio"
   ]
  },
  {
   "cell_type": "markdown",
   "id": "74907664-74f5-4f67-8915-e25c8f511210",
   "metadata": {},
   "source": [
    "## The Bowen Ratio \n",
    "\n",
    "## $B_o = \\frac{SH}{LE}$"
   ]
  },
  {
   "cell_type": "markdown",
   "id": "f623d4cf-d161-4af5-9766-9f2e5f00a820",
   "metadata": {},
   "source": [
    "## LE is as above\n",
    "\n",
    "## $SH = C_p \\rho \\, C_{\\rm DH} U \\, (T_s - T_a)$"
   ]
  },
  {
   "cell_type": "markdown",
   "id": "825d97fc-973e-401d-a75b-e1c9a0ceb100",
   "metadata": {},
   "source": [
    "### Code"
   ]
  },
  {
   "cell_type": "code",
   "execution_count": 79,
   "id": "b3b644da-ed46-444f-b553-10a70ba1723b",
   "metadata": {},
   "outputs": [],
   "source": [
    "def SH(Ts, C_DE=1e-3, U=5*unyt.m/unyt.s, rho=1.2*unyt.kg/unyt.m**3):\n",
    "    Ta = Ts - 2*unyt.K\n",
    "    #\n",
    "    return C_p * rho * C_DE * U * (Ts-Ta)"
   ]
  },
  {
   "cell_type": "code",
   "execution_count": 74,
   "id": "87601268-c9b9-41ed-9a77-7c40655ddef7",
   "metadata": {},
   "outputs": [],
   "source": [
    "RH = 0.7\n",
    "qs_15 = 10.6 * unyt.g / unyt.kg"
   ]
  },
  {
   "cell_type": "markdown",
   "id": "5c4403bc-7eea-4d1b-8c7f-904f2f19ecd8",
   "metadata": {},
   "source": [
    "### (a) $T_s = 0 {}^\\circ {\\rm C}$"
   ]
  },
  {
   "cell_type": "code",
   "execution_count": 76,
   "id": "dd2f5049-b9f8-4315-833d-5c478102c492",
   "metadata": {},
   "outputs": [],
   "source": [
    "Ts_a = (0*unyt.Celsius).to('K')"
   ]
  },
  {
   "cell_type": "code",
   "execution_count": 82,
   "id": "c84f004f-1901-46b0-9c7a-a8b2450700f5",
   "metadata": {},
   "outputs": [],
   "source": [
    "LE_a = LE(RH, Ts_a, qs_0) \n",
    "SH_a = SH(Ts_a)"
   ]
  },
  {
   "cell_type": "code",
   "execution_count": 89,
   "id": "3bf1cc15-2fe3-428f-8a6a-b569f99c7058",
   "metadata": {},
   "outputs": [
    {
     "name": "stdout",
     "output_type": "stream",
     "text": [
      "B_o for Ts=0 C is 1.93\n"
     ]
    }
   ],
   "source": [
    "Bo_a = SH_a/LE_a\n",
    "print(f\"B_o for Ts=0 C is {float(Bo_a.value):0.2f}\")"
   ]
  },
  {
   "cell_type": "markdown",
   "id": "e67dfff3-7463-4f8d-b672-69f6a553080e",
   "metadata": {},
   "source": [
    "### (b) $T_s = 15 {}^\\circ {\\rm C}$"
   ]
  },
  {
   "cell_type": "code",
   "execution_count": 91,
   "id": "57833df3-050f-4e3d-97f8-497b2554c468",
   "metadata": {},
   "outputs": [],
   "source": [
    "Ts_b = (15*unyt.Celsius).to('K')"
   ]
  },
  {
   "cell_type": "code",
   "execution_count": 92,
   "id": "c2bc2530-53df-48c0-bba1-f15a753555cd",
   "metadata": {},
   "outputs": [],
   "source": [
    "LE_b = LE(RH, Ts_b, qs_15) \n",
    "SH_b = SH(Ts_b)"
   ]
  },
  {
   "cell_type": "code",
   "execution_count": 97,
   "id": "6f82f6cd-93ea-4dba-a0e7-59279b10390b",
   "metadata": {},
   "outputs": [
    {
     "name": "stdout",
     "output_type": "stream",
     "text": [
      "B_o for Ts=15 C is 0.71\n"
     ]
    }
   ],
   "source": [
    "Bo_b = SH_b/LE_b\n",
    "print(f\"B_o for Ts=15 C is {float(Bo_b.value):0.2f}\")"
   ]
  },
  {
   "cell_type": "markdown",
   "id": "4b2db412-0fba-4f15-8181-ec51ebd64f72",
   "metadata": {},
   "source": [
    "### (c) $T_s = 30 {}^\\circ {\\rm C}$"
   ]
  },
  {
   "cell_type": "code",
   "execution_count": 94,
   "id": "5150c56f-5162-43b1-b0db-c017bc627979",
   "metadata": {},
   "outputs": [],
   "source": [
    "Ts_c = (30*unyt.Celsius).to('K')"
   ]
  },
  {
   "cell_type": "code",
   "execution_count": 98,
   "id": "46a5631a-6ae1-4321-9c09-db353ce106da",
   "metadata": {},
   "outputs": [],
   "source": [
    "LE_c = LE(RH, Ts_c, qs_30) \n",
    "SH_c = SH(Ts_c)"
   ]
  },
  {
   "cell_type": "code",
   "execution_count": 99,
   "id": "47a6c4b1-a83c-4555-9886-b87fea6cbdb6",
   "metadata": {},
   "outputs": [
    {
     "name": "stdout",
     "output_type": "stream",
     "text": [
      "B_o for Ts=30 C is 0.29\n"
     ]
    }
   ],
   "source": [
    "Bo_c = SH_c/LE_c\n",
    "print(f\"B_o for Ts=30 C is {float(Bo_c.value):0.2f}\")"
   ]
  },
  {
   "cell_type": "markdown",
   "id": "c1e8b184-9948-4f6d-9262-d368962225da",
   "metadata": {},
   "source": [
    "----"
   ]
  },
  {
   "cell_type": "markdown",
   "id": "c37e9aca-8539-42fc-8dca-5dc9826e0794",
   "metadata": {},
   "source": [
    "# Problem 3 -- Discussion"
   ]
  },
  {
   "cell_type": "markdown",
   "id": "897ad651-ad3a-42ef-836e-9929b4ffbdb5",
   "metadata": {},
   "source": [
    "## We can see from the above discussion that the Bowen ratio is largest for cold temperatures (e.g. high latitude land)"
   ]
  },
  {
   "cell_type": "markdown",
   "id": "01785239-c174-48f7-8869-7b432530dd75",
   "metadata": {},
   "source": [
    "## i.e. $SH \\gg LE$ and sensible heat flux domaintes Turbulent cooling"
   ]
  },
  {
   "cell_type": "markdown",
   "id": "2d0fa1bb-09de-4f91-8119-4a214d3e3bf9",
   "metadata": {},
   "source": [
    "## Lets express the Bowen ratio as:\n",
    "\n",
    "## $B_o = \\frac{SH}{LE} = \\frac{C_p (T_s-T_a)}{L_V (q_s - q_a)}$"
   ]
  },
  {
   "cell_type": "markdown",
   "id": "d0408794-d909-43d1-a344-d30a59357074",
   "metadata": {},
   "source": [
    "## For a small $\\Delta T = T_s - T_a$ characteristic for high-latitude land, a large $B_o$ implies $q_s \\approx q_a$."
   ]
  },
  {
   "cell_type": "markdown",
   "id": "020acfb1-ee8a-4922-8b43-e2b7df1b3aa7",
   "metadata": {},
   "source": [
    "## We conclude the surface-moisture content mirrors the air, which can be high."
   ]
  },
  {
   "cell_type": "markdown",
   "id": "4ffb844a-fff3-4496-876b-40767978bf99",
   "metadata": {},
   "source": [
    "----"
   ]
  },
  {
   "cell_type": "markdown",
   "id": "abb610f9-1193-4ac4-8009-8bcfe60bdf24",
   "metadata": {},
   "source": [
    "# Problem 4 -- Penman-Monteith"
   ]
  },
  {
   "cell_type": "markdown",
   "id": "7315b889-9687-47da-97fc-1783932dc300",
   "metadata": {},
   "source": [
    "## Our equation in all its glory\n",
    "\n",
    "## $LE = \\frac{C_p \\rho [ e^*(T_a) - e_a ] r_a^{-1} + \\Delta (R_s-G)}{\\gamma (1+r_s/r_a) + \\Delta}$"
   ]
  },
  {
   "cell_type": "markdown",
   "id": "ab52c944-551f-4d36-b098-378e1580b65b",
   "metadata": {},
   "source": [
    "## We will also make use of:\n",
    "\n",
    "## $r_a = (C_{\\rm DH} U)^{-1}$\n",
    "\n",
    "### and\n",
    "\n",
    "## $\\gamma \\equiv \\frac{C_p p_s}{\\epsilon L_V}$\n",
    "\n",
    "### and\n",
    "\n",
    "## $(e^* - e) = e^* (1-RH)$"
   ]
  },
  {
   "cell_type": "markdown",
   "id": "11d85dcd-96e9-410d-bbbf-dc5a2847352f",
   "metadata": {},
   "source": [
    "## And the August-Roche-Magnus relation for $e^*$\n",
    "\n",
    "## $e^* = 0.61094 \\exp \\left ( \\frac{17.625 \\, T}{T + 243.04} \\right ) $"
   ]
  },
  {
   "cell_type": "markdown",
   "id": "29657817-e373-4345-bd5f-42e4e51dba07",
   "metadata": {},
   "source": [
    "## Given quantities"
   ]
  },
  {
   "cell_type": "code",
   "execution_count": 134,
   "id": "22246188-376d-4629-aa17-b2139bb62e11",
   "metadata": {},
   "outputs": [],
   "source": [
    "Rs_G = 400 * unyt.W / unyt.m**2\n",
    "Ta = (25*unyt.Celsius).to('K')\n",
    "C_DH = 5e-3\n",
    "U = 5*unyt.m / unyt.s\n",
    "epsilon = 0.622\n",
    "p_s = 101.325 * unyt.kPa\n",
    "rho=1.2*unyt.kg/unyt.m**3"
   ]
  },
  {
   "cell_type": "markdown",
   "id": "2709427e-036c-4d1a-bd6d-ed7b1ca4548a",
   "metadata": {},
   "source": [
    "## $e^*$"
   ]
  },
  {
   "cell_type": "code",
   "execution_count": 127,
   "id": "02662662-5024-4459-a115-06839454776e",
   "metadata": {},
   "outputs": [
    {
     "data": {
      "text/plain": [
       "unyt_quantity(3.16173604, 'kPa')"
      ]
     },
     "execution_count": 127,
     "metadata": {},
     "output_type": "execute_result"
    }
   ],
   "source": [
    "estar = 0.61094 * np.exp(17.625 * Ta.to('Celsius').value / (Ta.to('Celsius').value + 243.04)) * unyt.kPa\n",
    "estar"
   ]
  },
  {
   "cell_type": "markdown",
   "id": "aff33800-93de-48e7-a92a-fedd26fe8a76",
   "metadata": {},
   "source": [
    "### $\\gamma$"
   ]
  },
  {
   "cell_type": "code",
   "execution_count": 128,
   "id": "b066caf6-c77a-4312-ba84-fa0c80a9e7ad",
   "metadata": {},
   "outputs": [
    {
     "data": {
      "text/plain": [
       "unyt_quantity(0.27263267, 'kPa/K')"
      ]
     },
     "execution_count": 128,
     "metadata": {},
     "output_type": "execute_result"
    }
   ],
   "source": [
    "gamma = C_p * p_s / epsilon / L_V\n",
    "gamma"
   ]
  },
  {
   "cell_type": "markdown",
   "id": "72b5bcbc-e9da-444c-98bf-31d6b35ba0e8",
   "metadata": {},
   "source": [
    "## $r_a$"
   ]
  },
  {
   "cell_type": "code",
   "execution_count": 129,
   "id": "ad95bb0c-46a9-4739-b263-236bcb16d34c",
   "metadata": {},
   "outputs": [
    {
     "data": {
      "text/plain": [
       "unyt_quantity(40., 's/m')"
      ]
     },
     "execution_count": 129,
     "metadata": {},
     "output_type": "execute_result"
    }
   ],
   "source": [
    "r_a = 1./(C_DH * U)\n",
    "r_a"
   ]
  },
  {
   "cell_type": "code",
   "execution_count": 142,
   "id": "c3ba079e-5418-413f-b94a-73cb1b988e34",
   "metadata": {},
   "outputs": [],
   "source": [
    "def LE_PM(RH, r_s, rho=1.2*unyt.kg/unyt.m**3):\n",
    "    fterm = C_p * rho * estar * (1-RH) / r_a\n",
    "    Delta = CC(estar, Ta)\n",
    "    sterm = Delta * Rs_G\n",
    "    denom = gamma * (1 + r_s/r_a) + Delta\n",
    "    #import pdb; pdb.set_trace()\n",
    "    #\n",
    "    LE = (fterm + sterm) / denom\n",
    "    return LE"
   ]
  },
  {
   "cell_type": "markdown",
   "id": "2da02b4d-111b-4a30-9244-3d2ad0785631",
   "metadata": {},
   "source": [
    "## (a) Vary RH"
   ]
  },
  {
   "cell_type": "code",
   "execution_count": 143,
   "id": "9243f220-7e56-4633-8dfb-9029b03a6bc7",
   "metadata": {},
   "outputs": [],
   "source": [
    "r_s =  30 * unyt.s / unyt.m"
   ]
  },
  {
   "cell_type": "code",
   "execution_count": 144,
   "id": "13afac52-5abc-4f86-9f7d-84251b77f88b",
   "metadata": {},
   "outputs": [
    {
     "data": {
      "text/plain": [
       "unyt_quantity(409642.1292511, 'g/s**3')"
      ]
     },
     "execution_count": 144,
     "metadata": {},
     "output_type": "execute_result"
    }
   ],
   "source": [
    "LE_50 = LE_PM(0.5, r_s)\n",
    "LE_50.in_cgs()"
   ]
  },
  {
   "cell_type": "code",
   "execution_count": 145,
   "id": "624dcf5d-c5a6-4c3c-a4e5-a840dd3dead1",
   "metadata": {},
   "outputs": [
    {
     "data": {
      "text/plain": [
       "unyt_quantity(283563.29651319, 'g/s**3')"
      ]
     },
     "execution_count": 145,
     "metadata": {},
     "output_type": "execute_result"
    }
   ],
   "source": [
    "LE_75 = LE_PM(0.75, r_s)\n",
    "LE_75.in_cgs()"
   ]
  },
  {
   "cell_type": "markdown",
   "id": "566b1d51-ca88-42d7-a3c5-7cce684c6fdf",
   "metadata": {},
   "source": [
    "## (b) Surface Temperature $T_s$"
   ]
  },
  {
   "cell_type": "markdown",
   "id": "bc3ef6a8-c1b2-42db-b9ce-20e48e7f8e5e",
   "metadata": {},
   "source": [
    "## We will estimate $T_s$ from the Surface Energy Balance under equlibrium\n",
    "\n",
    "## $\\frac{\\partial E_s}{\\partial t} = 0 = (R_s-G) - LE - SH$"
   ]
  },
  {
   "cell_type": "markdown",
   "id": "dc05c474-91ec-4945-93d6-f7bc47d0663d",
   "metadata": {},
   "source": [
    "## And will invert our expression for $SH$ from above"
   ]
  },
  {
   "cell_type": "markdown",
   "id": "a9fe3d78-9be8-4925-b03c-5bfe3bcede9e",
   "metadata": {},
   "source": [
    "## $T_s = T_a + SH / (C_p \\rho \\, C_{\\rm DH} U)$"
   ]
  },
  {
   "cell_type": "markdown",
   "id": "7039849b-2969-464e-b391-916b5855202c",
   "metadata": {},
   "source": [
    "### First, calculate $SH$"
   ]
  },
  {
   "cell_type": "code",
   "execution_count": 146,
   "id": "abaf2fc4-242b-47b7-ac7c-186e3693314b",
   "metadata": {},
   "outputs": [
    {
     "data": {
      "text/plain": [
       "unyt_quantity(-9642.1292511, 'g/s**3')"
      ]
     },
     "execution_count": 146,
     "metadata": {},
     "output_type": "execute_result"
    }
   ],
   "source": [
    "SH_50 = Rs_G - LE_50\n",
    "SH_50.in_cgs()"
   ]
  },
  {
   "cell_type": "code",
   "execution_count": 147,
   "id": "7fa968bd-ef3c-457c-ae09-a92bb1e613f7",
   "metadata": {},
   "outputs": [
    {
     "data": {
      "text/plain": [
       "unyt_quantity(24.92318253, 'degC')"
      ]
     },
     "execution_count": 147,
     "metadata": {},
     "output_type": "execute_result"
    }
   ],
   "source": [
    "Ts_50 =  T_a + SH_50 / (C_p * rho * C_DH * U)\n",
    "Ts_50.to('Celsius')"
   ]
  },
  {
   "cell_type": "code",
   "execution_count": 148,
   "id": "a12ef024-8266-49ed-8528-c9247bdd3e3c",
   "metadata": {},
   "outputs": [
    {
     "data": {
      "text/plain": [
       "unyt_quantity(25.92763467, 'degC')"
      ]
     },
     "execution_count": 148,
     "metadata": {},
     "output_type": "execute_result"
    }
   ],
   "source": [
    "SH_75 = Rs_G - LE_75\n",
    "Ts_75 = T_a + SH_75 / (C_p * rho * C_DH * U) \n",
    "Ts_75.to('Celsius')"
   ]
  },
  {
   "cell_type": "markdown",
   "id": "53faff6b-473f-4661-a1b3-9b46c89a5a38",
   "metadata": {},
   "source": [
    "### We see that $T_s$ increases with RH.  This is because $LE$ has decreased because the first term in the expression goes as $(1-RH)$"
   ]
  },
  {
   "cell_type": "markdown",
   "id": "c3fd3da0-816d-4375-9107-70c71f9a905c",
   "metadata": {},
   "source": [
    "### As a result, Energy balance requires a larger $SH$ and therefore a larger $T_s$"
   ]
  },
  {
   "cell_type": "markdown",
   "id": "50774aec-feb4-4df0-b564-6c9d8c9f8b85",
   "metadata": {},
   "source": [
    "## (c) Increase $r_s$ to 200 s/m."
   ]
  },
  {
   "cell_type": "code",
   "execution_count": 149,
   "id": "04af55b3-cc83-457d-b510-b545e84413dc",
   "metadata": {},
   "outputs": [],
   "source": [
    "r_s2 = 200 * unyt.s / unyt.m"
   ]
  },
  {
   "cell_type": "code",
   "execution_count": 150,
   "id": "5fc36d32-1634-4c76-bcf2-662e473f1436",
   "metadata": {},
   "outputs": [],
   "source": [
    "LE_50_2 = LE_PM(0.5, r_s2)"
   ]
  },
  {
   "cell_type": "code",
   "execution_count": 151,
   "id": "aa8a5a76-cf3a-4fc6-b2be-b790c53fd472",
   "metadata": {},
   "outputs": [
    {
     "data": {
      "text/plain": [
       "unyt_quantity(-243.95715968, 'J/(m**2*s)')"
      ]
     },
     "execution_count": 151,
     "metadata": {},
     "output_type": "execute_result"
    }
   ],
   "source": [
    "LE_50_2 - LE_50"
   ]
  },
  {
   "cell_type": "markdown",
   "id": "157936be-26dd-4915-a9c0-45fd6c5bffc7",
   "metadata": {},
   "source": [
    "### The latent heat flux is lower with higher $r_s$.  Numerically, this is simply because the first term in the denominator has increased.\n",
    "\n",
    "### Physically, this is because $r_s$ co-defines $C_{\\rm DE}$ (inversely) and $LE \\propto C_{\\rm DE} \\propto 1/r_s$."
   ]
  },
  {
   "cell_type": "markdown",
   "id": "69c1f878-70c7-4187-aeed-78ae122dfbad",
   "metadata": {},
   "source": [
    "## (d) Sensitivity of $T_s$ to $R_s-G$"
   ]
  },
  {
   "cell_type": "markdown",
   "id": "b9841711-e1c6-47cc-8567-84528320617c",
   "metadata": {},
   "source": [
    "## Above, we have an expression for $T_s$ in terms of $SH$ which then used energy balance to replace $SH$.  We will follow the same line here."
   ]
  },
  {
   "cell_type": "markdown",
   "id": "3a940b79-5ec0-4b93-b814-a395b2edd50f",
   "metadata": {},
   "source": [
    "## $T_s = T_a + SH / (C_p \\rho \\, C_{\\rm DH} U)$\n",
    "\n",
    "## $T_s = T_a + (R_s - G - LE) / (C_p \\rho \\, C_{\\rm DH} U)$"
   ]
  },
  {
   "cell_type": "markdown",
   "id": "2656fc38-c6e0-468d-a6da-7e7f9fc3b354",
   "metadata": {},
   "source": [
    "## Replacing $(C_{\\rm DH} U)^{-1} = r_a$ and taking the differential with respect to $R_s-G$:\n",
    "\n",
    "## $\\frac{\\partial T_s}{\\partial(R_s-G)} = \\frac{r_a}{C_p \\rho} \\left [ 1 - \\frac{\\partial LE}{\\partial (R_s-G)} \\right ] $"
   ]
  },
  {
   "cell_type": "markdown",
   "id": "2be7b37e-77c6-46ac-af49-67eb569dddcd",
   "metadata": {},
   "source": [
    "## Noting:\n",
    "\n",
    "## $\\frac{\\partial \\, LE}{\\partial (R_s-G)} = \\frac{\\Delta}{\\gamma (1+r_s/r_a) + \\Delta}$"
   ]
  },
  {
   "cell_type": "markdown",
   "id": "5c776339-5862-49b9-99c8-88e567831bd6",
   "metadata": {},
   "source": [
    "## We recover:\n",
    "\n",
    "## $\\frac{\\partial T_s}{\\partial(R_s-G)} = \\frac{r_a}{C_p \\rho} \\left [ 1 - \\frac{\\Delta}{\\gamma (1+r_s/r_a) + \\Delta} \\right ] $"
   ]
  },
  {
   "cell_type": "markdown",
   "id": "c07a0851-9cef-484b-a159-b8f8bf7644c7",
   "metadata": {},
   "source": [
    "## Coding.."
   ]
  },
  {
   "cell_type": "code",
   "execution_count": 160,
   "id": "dde826fd-7196-42b3-8d2a-c82189bd5ce5",
   "metadata": {},
   "outputs": [],
   "source": [
    "def dTdRG(r_s, rho=1.2*unyt.kg/unyt.m**3):\n",
    "    coeff = r_a / C_p / rho\n",
    "    Delta = CC(estar, Ta)\n",
    "    sterm = 1 - Delta / (gamma * (1+r_s/r_a) + Delta)\n",
    "    return coeff * sterm"
   ]
  },
  {
   "cell_type": "code",
   "execution_count": 161,
   "id": "01684986-6a7c-4c11-8a63-4313600c5228",
   "metadata": {},
   "outputs": [
    {
     "data": {
      "text/plain": [
       "unyt_quantity(0.00483022, 'K')"
      ]
     },
     "execution_count": 161,
     "metadata": {},
     "output_type": "execute_result"
    }
   ],
   "source": [
    "sensitiviy = dTdRG(30*unyt.s/unyt.m) * (1*unyt.W / unyt.m**2)\n",
    "sensitiviy.to('K')"
   ]
  },
  {
   "cell_type": "markdown",
   "id": "6d5a7e05-3828-4f5a-805c-7660f32d3fe6",
   "metadata": {},
   "source": [
    "## We find a 0.005 K increase in T for a 1 W/m$^2$ change in $R_s-G$."
   ]
  },
  {
   "cell_type": "markdown",
   "id": "636932f9-475a-407d-a685-03e0bb2eb5a2",
   "metadata": {},
   "source": [
    "## Clearly, increasing $r_a$ will increase the sensitivity (even despite the 2nd term).  \n",
    "\n",
    "## Increasing $r_s$ will decrease the negative term and also lead to increased sensitivity.\n",
    "\n",
    "## Physically, this makes sense.  Increasing $r_s$ will lower $LE$ and its impact.  Meanwhile, increasing $r_a$ will require a larger $T$ response to yield the same $SH$."
   ]
  },
  {
   "cell_type": "code",
   "execution_count": null,
   "id": "488b0383-ecf6-4d41-a35c-2b0530270d8c",
   "metadata": {},
   "outputs": [],
   "source": []
  }
 ],
 "metadata": {
  "kernelspec": {
   "display_name": "Python 3 (ipykernel)",
   "language": "python",
   "name": "python3"
  },
  "language_info": {
   "codemirror_mode": {
    "name": "ipython",
    "version": 3
   },
   "file_extension": ".py",
   "mimetype": "text/x-python",
   "name": "python",
   "nbconvert_exporter": "python",
   "pygments_lexer": "ipython3",
   "version": "3.9.7"
  }
 },
 "nbformat": 4,
 "nbformat_minor": 5
}
