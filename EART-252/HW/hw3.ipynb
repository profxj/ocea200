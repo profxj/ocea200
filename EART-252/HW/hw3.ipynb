{
 "cells": [
  {
   "cell_type": "markdown",
   "id": "4d5a9c64",
   "metadata": {},
   "source": [
    "# Homework 3"
   ]
  },
  {
   "cell_type": "code",
   "execution_count": 1,
   "id": "7bb21432",
   "metadata": {},
   "outputs": [],
   "source": [
    "from importlib import reload\n",
    "\n",
    "import numpy as np\n",
    "\n",
    "from matplotlib import pyplot as plt\n",
    "import seaborn as sns\n",
    "\n",
    "import unyt"
   ]
  },
  {
   "cell_type": "markdown",
   "id": "a996b9ee",
   "metadata": {},
   "source": [
    "# Constants"
   ]
  },
  {
   "cell_type": "code",
   "execution_count": 78,
   "id": "69307ce5",
   "metadata": {},
   "outputs": [],
   "source": [
    "L_V = 2.5 * 10**6 * unyt.J / unyt.kg\n",
    "R_V = 287 * unyt.J / unyt.K / unyt.kg# Specific\n",
    "rho_w = 1 * unyt.g / unyt.cm**3\n",
    "C_p = 4184 * unyt.J / unyt.kg / unyt.K # Specific Heat for water"
   ]
  },
  {
   "cell_type": "markdown",
   "id": "7d2632c2",
   "metadata": {},
   "source": [
    "# Problem 1 -- Evaporation Rates"
   ]
  },
  {
   "cell_type": "markdown",
   "id": "e26a09fa",
   "metadata": {},
   "source": [
    "## Bulk Aerodynamic Formula\n",
    "\n",
    "## $LE = L_v \\rho C_{\\rm DE} U \\left [ q^*(T_s) (1-RH) + RH \\frac{\\partial q^*}{\\partial T} (T_s - T_a) \\right ] $"
   ]
  },
  {
   "cell_type": "markdown",
   "id": "76171f0b",
   "metadata": {},
   "source": [
    "### Code up"
   ]
  },
  {
   "cell_type": "code",
   "execution_count": 24,
   "id": "d369886e",
   "metadata": {},
   "outputs": [],
   "source": [
    "def CC(qs, Ts):\n",
    "    return qs * L_V / R_V / Ts**2"
   ]
  },
  {
   "cell_type": "code",
   "execution_count": 14,
   "id": "4098528f",
   "metadata": {},
   "outputs": [],
   "source": [
    "def LE(RH, Ts, qs, C_DE=1e-3, U=5*unyt.m/unyt.s, rho=1.2*unyt.kg/unyt.m**3):\n",
    "    # Air temperature\n",
    "    Ta = Ts - 2*unyt.K\n",
    "    #\n",
    "    fterm = qs * (1-RH) \n",
    "    sterm = RH * CC(qs, Ts) * (Ta-Ts)\n",
    "    return L_V * rho * C_DE * U * (fterm - sterm)"
   ]
  },
  {
   "cell_type": "markdown",
   "id": "1aa4366e",
   "metadata": {},
   "source": [
    "## Evaporation Rate\n",
    "\n",
    "## $E = LE / L_V$ and we toss in the density of water for units!\n",
    "\n",
    "## $E = LE / L_V / \\rho_w$"
   ]
  },
  {
   "cell_type": "markdown",
   "id": "4aac99b6",
   "metadata": {},
   "source": [
    "### (a) "
   ]
  },
  {
   "cell_type": "code",
   "execution_count": 62,
   "id": "3208bf4f",
   "metadata": {},
   "outputs": [],
   "source": [
    "Ts_a = (0 * unyt.Celsius).to('K')\n",
    "qs_0 = 3.75 * unyt.g / unyt.kg\n",
    "RH = 0.5"
   ]
  },
  {
   "cell_type": "code",
   "execution_count": 63,
   "id": "4b72371f",
   "metadata": {},
   "outputs": [
    {
     "data": {
      "text/plain": [
       "unyt_quantity(1.19896138, 'mm/day')"
      ]
     },
     "execution_count": 63,
     "metadata": {},
     "output_type": "execute_result"
    }
   ],
   "source": [
    "E_a = LE(RH, Ts_a, qs_0) / L_V / rho_w\n",
    "E_a.to('mm/day')"
   ]
  },
  {
   "cell_type": "markdown",
   "id": "7680e866",
   "metadata": {},
   "source": [
    "### (b)"
   ]
  },
  {
   "cell_type": "code",
   "execution_count": 64,
   "id": "1a42909c",
   "metadata": {},
   "outputs": [],
   "source": [
    "Ts_b = (0 * unyt.Celsius).to('K')\n",
    "RH = 1."
   ]
  },
  {
   "cell_type": "code",
   "execution_count": 65,
   "id": "5dfc25dd",
   "metadata": {},
   "outputs": [
    {
     "data": {
      "text/plain": [
       "unyt_quantity(0.45392276, 'mm/day')"
      ]
     },
     "execution_count": 65,
     "metadata": {},
     "output_type": "execute_result"
    }
   ],
   "source": [
    "E_b = LE(RH, Ts_b, qs_0) / L_V / rho_w\n",
    "E_b.to('mm/day')"
   ]
  },
  {
   "cell_type": "markdown",
   "id": "c558993d",
   "metadata": {},
   "source": [
    "### (c)"
   ]
  },
  {
   "cell_type": "code",
   "execution_count": 66,
   "id": "1be2c6b6",
   "metadata": {},
   "outputs": [],
   "source": [
    "Ts_c = (30 * unyt.Celsius).to('K')\n",
    "qs_30 = 27 * unyt.g / unyt.kg\n",
    "RH = 0.5"
   ]
  },
  {
   "cell_type": "code",
   "execution_count": 67,
   "id": "a555117d",
   "metadata": {},
   "outputs": [
    {
     "data": {
      "text/plain": [
       "unyt_quantity(8.32509693, 'mm/day')"
      ]
     },
     "execution_count": 67,
     "metadata": {},
     "output_type": "execute_result"
    }
   ],
   "source": [
    "E_c = LE(RH, Ts_c, qs_30) / L_V / rho_w\n",
    "E_c.to('mm/day')"
   ]
  },
  {
   "cell_type": "markdown",
   "id": "ab272c50",
   "metadata": {},
   "source": [
    "### (d)"
   ]
  },
  {
   "cell_type": "code",
   "execution_count": 68,
   "id": "ec8efbbe",
   "metadata": {},
   "outputs": [],
   "source": [
    "Ts_d = (30 * unyt.Celsius).to('K')\n",
    "RH = 1."
   ]
  },
  {
   "cell_type": "code",
   "execution_count": 69,
   "id": "d9ed7a91",
   "metadata": {},
   "outputs": [
    {
     "data": {
      "text/plain": [
       "unyt_quantity(2.65339386, 'mm/day')"
      ]
     },
     "execution_count": 69,
     "metadata": {},
     "output_type": "execute_result"
    }
   ],
   "source": [
    "E_d = LE(RH, Ts_d, qs_30) / L_V / rho_w\n",
    "E_d.to('mm/day')"
   ]
  },
  {
   "cell_type": "markdown",
   "id": "1b82ad94",
   "metadata": {},
   "source": [
    "## Consider the increase in $E$ for the fractional increase in $T_s$ and $RH$"
   ]
  },
  {
   "cell_type": "markdown",
   "id": "7ecf6728",
   "metadata": {},
   "source": [
    "## RH"
   ]
  },
  {
   "cell_type": "code",
   "execution_count": 70,
   "id": "687b38d9",
   "metadata": {},
   "outputs": [],
   "source": [
    "dE_dRH_ab = ((E_b-E_a)/E_a)/(1)  # 100% increase\n",
    "dE_dRH_cd = ((E_d-E_c))/E_c/(1)  # 100% increase"
   ]
  },
  {
   "cell_type": "code",
   "execution_count": 57,
   "id": "9d7b9492",
   "metadata": {},
   "outputs": [
    {
     "data": {
      "text/plain": [
       "unyt_quantity(-0.62140335, '(dimensionless)')"
      ]
     },
     "execution_count": 57,
     "metadata": {},
     "output_type": "execute_result"
    }
   ],
   "source": [
    "dE_dRH_ab"
   ]
  },
  {
   "cell_type": "code",
   "execution_count": 58,
   "id": "ad49bedf",
   "metadata": {},
   "outputs": [
    {
     "data": {
      "text/plain": [
       "unyt_quantity(-0.68127772, '(dimensionless)')"
      ]
     },
     "execution_count": 58,
     "metadata": {},
     "output_type": "execute_result"
    }
   ],
   "source": [
    "dE_dRH_cd"
   ]
  },
  {
   "cell_type": "markdown",
   "id": "09752960",
   "metadata": {},
   "source": [
    "## $70\\%$ decrease in E for a 100% increase in RH"
   ]
  },
  {
   "cell_type": "markdown",
   "id": "cf830df5",
   "metadata": {},
   "source": [
    "## $T_s$"
   ]
  },
  {
   "cell_type": "code",
   "execution_count": 48,
   "id": "cd1e1fa1",
   "metadata": {},
   "outputs": [
    {
     "data": {
      "text/plain": [
       "unyt_quantity(0.10982976, '(dimensionless)')"
      ]
     },
     "execution_count": 48,
     "metadata": {},
     "output_type": "execute_result"
    }
   ],
   "source": [
    "dTs = (Ts_c-Ts_a)/Ts_a\n",
    "dTs"
   ]
  },
  {
   "cell_type": "code",
   "execution_count": 59,
   "id": "8ad1fe56",
   "metadata": {},
   "outputs": [],
   "source": [
    "dE_dRH_ca = ((E_c-E_a)/E_a)/(dTs)  # 100% increase\n",
    "dE_dRH_db = ((E_d-E_b)/E_b)/(dTs)  # 100% increase"
   ]
  },
  {
   "cell_type": "code",
   "execution_count": 60,
   "id": "d57007b9",
   "metadata": {},
   "outputs": [
    {
     "data": {
      "text/plain": [
       "unyt_quantity(54.11639213, '(dimensionless)')"
      ]
     },
     "execution_count": 60,
     "metadata": {},
     "output_type": "execute_result"
    }
   ],
   "source": [
    "dE_dRH_ca"
   ]
  },
  {
   "cell_type": "code",
   "execution_count": 61,
   "id": "76150eab",
   "metadata": {},
   "outputs": [
    {
     "data": {
      "text/plain": [
       "unyt_quantity(44.11804418, '(dimensionless)')"
      ]
     },
     "execution_count": 61,
     "metadata": {},
     "output_type": "execute_result"
    }
   ],
   "source": [
    "dE_dRH_db"
   ]
  },
  {
   "cell_type": "markdown",
   "id": "a4d1483d",
   "metadata": {},
   "source": [
    "## A somewhat small ($\\sim 10\\%$) fractional change in $T_s$ leads to a more than 500% increase in $E$!"
   ]
  },
  {
   "cell_type": "markdown",
   "id": "f648eac2",
   "metadata": {},
   "source": [
    "----"
   ]
  },
  {
   "cell_type": "markdown",
   "id": "f31860be",
   "metadata": {},
   "source": [
    "# Problem 2 -- Bowen Ratio"
   ]
  },
  {
   "cell_type": "markdown",
   "id": "4cdc1097",
   "metadata": {},
   "source": [
    "## The Bowen Ratio \n",
    "\n",
    "## $B_o = \\frac{SH}{LE}$"
   ]
  },
  {
   "cell_type": "markdown",
   "id": "868d4991",
   "metadata": {},
   "source": [
    "## LE is as above\n",
    "\n",
    "## $SH = C_p \\rho \\, C_{\\rm DH} U \\, (T_s - T_a)$"
   ]
  },
  {
   "cell_type": "markdown",
   "id": "f7d06940",
   "metadata": {},
   "source": [
    "### Code"
   ]
  },
  {
   "cell_type": "code",
   "execution_count": 79,
   "id": "b9e18dad",
   "metadata": {},
   "outputs": [],
   "source": [
    "def SH(Ts, C_DE=1e-3, U=5*unyt.m/unyt.s, rho=1.2*unyt.kg/unyt.m**3):\n",
    "    Ta = Ts - 2*unyt.K\n",
    "    #\n",
    "    return C_p * rho * C_DE * U * (Ts-Ta)"
   ]
  },
  {
   "cell_type": "code",
   "execution_count": 74,
   "id": "a93617c7",
   "metadata": {},
   "outputs": [],
   "source": [
    "RH = 0.7\n",
    "qs_15 = 10.6 * unyt.g / unyt.kg"
   ]
  },
  {
   "cell_type": "markdown",
   "id": "61938c03",
   "metadata": {},
   "source": [
    "### (a) $T_s = 0 {}^\\circ {\\rm C}$"
   ]
  },
  {
   "cell_type": "code",
   "execution_count": 76,
   "id": "b39413c7",
   "metadata": {},
   "outputs": [],
   "source": [
    "Ts_a = (0*unyt.Celsius).to('K')"
   ]
  },
  {
   "cell_type": "code",
   "execution_count": 82,
   "id": "303c8788",
   "metadata": {},
   "outputs": [],
   "source": [
    "LE_a = LE(RH, Ts_a, qs_0) \n",
    "SH_a = SH(Ts_a)"
   ]
  },
  {
   "cell_type": "code",
   "execution_count": 89,
   "id": "24385717",
   "metadata": {},
   "outputs": [
    {
     "name": "stdout",
     "output_type": "stream",
     "text": [
      "B_o for Ts=0 C is 1.93\n"
     ]
    }
   ],
   "source": [
    "Bo_a = SH_a/LE_a\n",
    "print(f\"B_o for Ts=0 C is {float(Bo_a.value):0.2f}\")"
   ]
  },
  {
   "cell_type": "markdown",
   "id": "2a4eba45",
   "metadata": {},
   "source": [
    "### (b) $T_s = 15 {}^\\circ {\\rm C}$"
   ]
  },
  {
   "cell_type": "code",
   "execution_count": 91,
   "id": "8657ddae",
   "metadata": {},
   "outputs": [],
   "source": [
    "Ts_b = (15*unyt.Celsius).to('K')"
   ]
  },
  {
   "cell_type": "code",
   "execution_count": 92,
   "id": "0a1ef329",
   "metadata": {},
   "outputs": [],
   "source": [
    "LE_b = LE(RH, Ts_b, qs_15) \n",
    "SH_b = SH(Ts_b)"
   ]
  },
  {
   "cell_type": "code",
   "execution_count": 97,
   "id": "c266e911",
   "metadata": {},
   "outputs": [
    {
     "name": "stdout",
     "output_type": "stream",
     "text": [
      "B_o for Ts=15 C is 0.71\n"
     ]
    }
   ],
   "source": [
    "Bo_b = SH_b/LE_b\n",
    "print(f\"B_o for Ts=15 C is {float(Bo_b.value):0.2f}\")"
   ]
  },
  {
   "cell_type": "markdown",
   "id": "38ba3394",
   "metadata": {},
   "source": [
    "### (c) $T_s = 30 {}^\\circ {\\rm C}$"
   ]
  },
  {
   "cell_type": "code",
   "execution_count": 94,
   "id": "a2770dda",
   "metadata": {},
   "outputs": [],
   "source": [
    "Ts_c = (30*unyt.Celsius).to('K')"
   ]
  },
  {
   "cell_type": "code",
   "execution_count": 98,
   "id": "7b6c4ec8",
   "metadata": {},
   "outputs": [],
   "source": [
    "LE_c = LE(RH, Ts_c, qs_30) \n",
    "SH_c = SH(Ts_c)"
   ]
  },
  {
   "cell_type": "code",
   "execution_count": 99,
   "id": "dfd3d0ff",
   "metadata": {},
   "outputs": [
    {
     "name": "stdout",
     "output_type": "stream",
     "text": [
      "B_o for Ts=30 C is 0.29\n"
     ]
    }
   ],
   "source": [
    "Bo_c = SH_c/LE_c\n",
    "print(f\"B_o for Ts=30 C is {float(Bo_c.value):0.2f}\")"
   ]
  },
  {
   "cell_type": "markdown",
   "id": "fe181543",
   "metadata": {},
   "source": [
    "----"
   ]
  },
  {
   "cell_type": "markdown",
   "id": "ef8f4dbd",
   "metadata": {},
   "source": [
    "# Problem 3 -- Discussion"
   ]
  },
  {
   "cell_type": "markdown",
   "id": "1fccbe78",
   "metadata": {},
   "source": [
    "## We can see from the above discussion that the Bowen ratio is largest for cold temperatures (e.g. high latitude land)"
   ]
  },
  {
   "cell_type": "markdown",
   "id": "7d2d01e9",
   "metadata": {},
   "source": [
    "## i.e. $SH \\gg LE$ and sensible heat flux domaintes Turbulent cooling"
   ]
  },
  {
   "cell_type": "markdown",
   "id": "9096e3e8",
   "metadata": {},
   "source": [
    "## Lets express the Bowen ratio as:\n",
    "\n",
    "## $B_o = \\frac{SH}{LE} = \\frac{C_p (T_s-T_a)}{L_V (q_s - q_a)}$"
   ]
  },
  {
   "cell_type": "markdown",
   "id": "551b87a1",
   "metadata": {},
   "source": [
    "## For a small $\\Delta T = T_s - T_a$ characteristic for high-latitude land, a large $B_o$ implies $q_s \\approx q_a$."
   ]
  },
  {
   "cell_type": "markdown",
   "id": "1217b695",
   "metadata": {},
   "source": [
    "## We conclude the surface-moisture content mirrors the air, which can be high."
   ]
  },
  {
   "cell_type": "markdown",
   "id": "3a0e8f17",
   "metadata": {},
   "source": [
    "----"
   ]
  },
  {
   "cell_type": "markdown",
   "id": "d8c7eb3e",
   "metadata": {},
   "source": [
    "# Problem 4 -- Penman-Monteith"
   ]
  },
  {
   "cell_type": "markdown",
   "id": "de41572e",
   "metadata": {},
   "source": [
    "## Our equation in all its glory\n",
    "\n",
    "## $LE = \\frac{C_p \\rho [ e^*(T_a) - e_a ] r_a^{-1} + \\Delta (R_s-G)}{\\gamma (1+r_s/r_a) + \\Delta}$"
   ]
  },
  {
   "cell_type": "markdown",
   "id": "d170e51a",
   "metadata": {},
   "source": [
    "## We will also make use of:\n",
    "\n",
    "## $r_a = (C_{\\rm DH} U)^{-1}$\n",
    "\n",
    "### and\n",
    "\n",
    "## $\\gamma \\equiv \\frac{C_p p_s}{\\epsilon L_V}$\n",
    "\n",
    "### and\n",
    "\n",
    "## $(e^* - e) = e^* (1-RH)$"
   ]
  },
  {
   "cell_type": "markdown",
   "id": "6ae05a15",
   "metadata": {},
   "source": [
    "## And the August-Roche-Magnus relation for $e^*$\n",
    "\n",
    "## $e^* = 0.61094 \\exp \\left ( \\frac{17.625 \\, T}{T + 243.04} \\right ) $"
   ]
  },
  {
   "cell_type": "markdown",
   "id": "55547c46",
   "metadata": {},
   "source": [
    "## Given quantities"
   ]
  },
  {
   "cell_type": "code",
   "execution_count": 134,
   "id": "dea4eb98",
   "metadata": {},
   "outputs": [],
   "source": [
    "Rs_G = 400 * unyt.W / unyt.m**2\n",
    "Ta = (25*unyt.Celsius).to('K')\n",
    "C_DH = 5e-3\n",
    "U = 5*unyt.m / unyt.s\n",
    "epsilon = 0.622\n",
    "p_s = 101.325 * unyt.kPa\n",
    "rho=1.2*unyt.kg/unyt.m**3"
   ]
  },
  {
   "cell_type": "markdown",
   "id": "4de8b55d",
   "metadata": {},
   "source": [
    "## $e^*$"
   ]
  },
  {
   "cell_type": "code",
   "execution_count": 127,
   "id": "6b482b48",
   "metadata": {},
   "outputs": [
    {
     "data": {
      "text/plain": [
       "unyt_quantity(3.16173604, 'kPa')"
      ]
     },
     "execution_count": 127,
     "metadata": {},
     "output_type": "execute_result"
    }
   ],
   "source": [
    "estar = 0.61094 * np.exp(17.625 * Ta.to('Celsius').value / (Ta.to('Celsius').value + 243.04)) * unyt.kPa\n",
    "estar"
   ]
  },
  {
   "cell_type": "markdown",
   "id": "a54f7772",
   "metadata": {},
   "source": [
    "### $\\gamma$"
   ]
  },
  {
   "cell_type": "code",
   "execution_count": 128,
   "id": "90afc5cf",
   "metadata": {},
   "outputs": [
    {
     "data": {
      "text/plain": [
       "unyt_quantity(0.27263267, 'kPa/K')"
      ]
     },
     "execution_count": 128,
     "metadata": {},
     "output_type": "execute_result"
    }
   ],
   "source": [
    "gamma = C_p * p_s / epsilon / L_V\n",
    "gamma"
   ]
  },
  {
   "cell_type": "markdown",
   "id": "d287286c",
   "metadata": {},
   "source": [
    "## $r_a$"
   ]
  },
  {
   "cell_type": "code",
   "execution_count": 129,
   "id": "16b803c3",
   "metadata": {},
   "outputs": [
    {
     "data": {
      "text/plain": [
       "unyt_quantity(40., 's/m')"
      ]
     },
     "execution_count": 129,
     "metadata": {},
     "output_type": "execute_result"
    }
   ],
   "source": [
    "r_a = 1./(C_DH * U)\n",
    "r_a"
   ]
  },
  {
   "cell_type": "code",
   "execution_count": 142,
   "id": "bcbe3ee9",
   "metadata": {},
   "outputs": [],
   "source": [
    "def LE_PM(RH, r_s, rho=1.2*unyt.kg/unyt.m**3):\n",
    "    fterm = C_p * rho * estar * (1-RH) / r_a\n",
    "    Delta = CC(estar, Ta)\n",
    "    sterm = Delta * Rs_G\n",
    "    denom = gamma * (1 + r_s/r_a) + Delta\n",
    "    #import pdb; pdb.set_trace()\n",
    "    #\n",
    "    LE = (fterm + sterm) / denom\n",
    "    return LE"
   ]
  },
  {
   "cell_type": "markdown",
   "id": "3c4b8754",
   "metadata": {},
   "source": [
    "## (a) Vary RH"
   ]
  },
  {
   "cell_type": "code",
   "execution_count": 143,
   "id": "cd5fa7f1",
   "metadata": {},
   "outputs": [],
   "source": [
    "r_s =  30 * unyt.s / unyt.m"
   ]
  },
  {
   "cell_type": "code",
   "execution_count": 144,
   "id": "17355cdb",
   "metadata": {},
   "outputs": [
    {
     "data": {
      "text/plain": [
       "unyt_quantity(409642.1292511, 'g/s**3')"
      ]
     },
     "execution_count": 144,
     "metadata": {},
     "output_type": "execute_result"
    }
   ],
   "source": [
    "LE_50 = LE_PM(0.5, r_s)\n",
    "LE_50.in_cgs()"
   ]
  },
  {
   "cell_type": "code",
   "execution_count": 145,
   "id": "fa9d7e9c",
   "metadata": {},
   "outputs": [
    {
     "data": {
      "text/plain": [
       "unyt_quantity(283563.29651319, 'g/s**3')"
      ]
     },
     "execution_count": 145,
     "metadata": {},
     "output_type": "execute_result"
    }
   ],
   "source": [
    "LE_75 = LE_PM(0.75, r_s)\n",
    "LE_75.in_cgs()"
   ]
  },
  {
   "cell_type": "markdown",
   "id": "ebf43d35",
   "metadata": {},
   "source": [
    "## (b) Surface Temperature $T_s$"
   ]
  },
  {
   "cell_type": "markdown",
   "id": "d4c435d7",
   "metadata": {},
   "source": [
    "## We will estimate $T_s$ from the Surface Energy Balance under equlibrium\n",
    "\n",
    "## $\\frac{\\partial E_s}{\\partial t} = 0 = (R_s-G) - LE - SH$"
   ]
  },
  {
   "cell_type": "markdown",
   "id": "44197a21",
   "metadata": {},
   "source": [
    "## And will invert our expression for $SH$ from above"
   ]
  },
  {
   "cell_type": "markdown",
   "id": "e831bfd3",
   "metadata": {},
   "source": [
    "## $T_s = T_a + SH / (C_p \\rho \\, C_{\\rm DH} U)$"
   ]
  },
  {
   "cell_type": "markdown",
   "id": "2d399888",
   "metadata": {},
   "source": [
    "### First, calculate $SH$"
   ]
  },
  {
   "cell_type": "code",
   "execution_count": 146,
   "id": "28e789c0",
   "metadata": {},
   "outputs": [
    {
     "data": {
      "text/plain": [
       "unyt_quantity(-9642.1292511, 'g/s**3')"
      ]
     },
     "execution_count": 146,
     "metadata": {},
     "output_type": "execute_result"
    }
   ],
   "source": [
    "SH_50 = Rs_G - LE_50\n",
    "SH_50.in_cgs()"
   ]
  },
  {
   "cell_type": "code",
   "execution_count": 147,
   "id": "9cd45671",
   "metadata": {},
   "outputs": [
    {
     "data": {
      "text/plain": [
       "unyt_quantity(24.92318253, 'degC')"
      ]
     },
     "execution_count": 147,
     "metadata": {},
     "output_type": "execute_result"
    }
   ],
   "source": [
    "Ts_50 =  T_a + SH_50 / (C_p * rho * C_DH * U)\n",
    "Ts_50.to('Celsius')"
   ]
  },
  {
   "cell_type": "code",
   "execution_count": 148,
   "id": "1cc226b4",
   "metadata": {},
   "outputs": [
    {
     "data": {
      "text/plain": [
       "unyt_quantity(25.92763467, 'degC')"
      ]
     },
     "execution_count": 148,
     "metadata": {},
     "output_type": "execute_result"
    }
   ],
   "source": [
    "SH_75 = Rs_G - LE_75\n",
    "Ts_75 = T_a + SH_75 / (C_p * rho * C_DH * U) \n",
    "Ts_75.to('Celsius')"
   ]
  },
  {
   "cell_type": "markdown",
   "id": "04987c31",
   "metadata": {},
   "source": [
    "### We see that $T_s$ increases with RH.  This is because $LE$ has decreased because the first term in the expression goes as $(1-RH)$"
   ]
  },
  {
   "cell_type": "markdown",
   "id": "8648e839",
   "metadata": {},
   "source": [
    "### As a result, Energy balance requires a larger $SH$ and therefore a larger $T_s$"
   ]
  },
  {
   "cell_type": "markdown",
   "id": "0c615797",
   "metadata": {},
   "source": [
    "## (c) Increase $r_s$ to 200 s/m."
   ]
  },
  {
   "cell_type": "code",
   "execution_count": 149,
   "id": "c74eee7d",
   "metadata": {},
   "outputs": [],
   "source": [
    "r_s2 = 200 * unyt.s / unyt.m"
   ]
  },
  {
   "cell_type": "code",
   "execution_count": 150,
   "id": "3e25ac80",
   "metadata": {},
   "outputs": [],
   "source": [
    "LE_50_2 = LE_PM(0.5, r_s2)"
   ]
  },
  {
   "cell_type": "code",
   "execution_count": 151,
   "id": "626b5f9e",
   "metadata": {},
   "outputs": [
    {
     "data": {
      "text/plain": [
       "unyt_quantity(-243.95715968, 'J/(m**2*s)')"
      ]
     },
     "execution_count": 151,
     "metadata": {},
     "output_type": "execute_result"
    }
   ],
   "source": [
    "LE_50_2 - LE_50"
   ]
  },
  {
   "cell_type": "markdown",
   "id": "e8ceeb5d",
   "metadata": {},
   "source": [
    "### The latent heat flux is lower with higher $r_s$.  Numerically, this is simply because the first term in the denominator has increased.\n",
    "\n",
    "### Physically, this is because $r_s$ co-defines $C_{\\rm DE}$ (inversely) and $LE \\propto C_{\\rm DE} \\propto 1/r_s$."
   ]
  },
  {
   "cell_type": "markdown",
   "id": "87503a2b",
   "metadata": {},
   "source": [
    "## (d) Sensitivity of $T_s$ to $R_s-G$"
   ]
  },
  {
   "cell_type": "markdown",
   "id": "8b7bc965",
   "metadata": {},
   "source": [
    "## Above, we have an expression for $T_s$ in terms of $SH$ which then used energy balance to replace $SH$.  We will follow the same line here."
   ]
  },
  {
   "cell_type": "markdown",
   "id": "9f8cc502",
   "metadata": {},
   "source": [
    "## $T_s = T_a + SH / (C_p \\rho \\, C_{\\rm DH} U)$\n",
    "\n",
    "## $T_s = T_a + (R_s - G - LE) / (C_p \\rho \\, C_{\\rm DH} U)$"
   ]
  },
  {
   "cell_type": "markdown",
   "id": "e9cd1701",
   "metadata": {},
   "source": [
    "## Replacing $(C_{\\rm DH} U)^{-1} = r_a$ and taking the differential with respect to $R_s-G$:\n",
    "\n",
    "## $\\frac{\\partial T_s}{\\partial(R_s-G)} = \\frac{r_a}{C_p \\rho} \\left [ 1 - \\frac{\\partial LE}{\\partial (R_s-G)} \\right ] $"
   ]
  },
  {
   "cell_type": "markdown",
   "id": "af367935",
   "metadata": {},
   "source": [
    "## Noting:\n",
    "\n",
    "## $\\frac{\\partial \\, LE}{\\partial (R_s-G)} = \\frac{\\Delta}{\\gamma (1+r_s/r_a) + \\Delta}$"
   ]
  },
  {
   "cell_type": "markdown",
   "id": "b489598b",
   "metadata": {},
   "source": [
    "## We recover:\n",
    "\n",
    "## $\\frac{\\partial T_s}{\\partial(R_s-G)} = \\frac{r_a}{C_p \\rho} \\left [ 1 - \\frac{\\Delta}{\\gamma (1+r_s/r_a) + \\Delta} \\right ] $"
   ]
  },
  {
   "cell_type": "markdown",
   "id": "104d5274",
   "metadata": {},
   "source": [
    "## Coding.."
   ]
  },
  {
   "cell_type": "code",
   "execution_count": 160,
   "id": "75f938be",
   "metadata": {},
   "outputs": [],
   "source": [
    "def dTdRG(r_s, rho=1.2*unyt.kg/unyt.m**3):\n",
    "    coeff = r_a / C_p / rho\n",
    "    Delta = CC(estar, Ta)\n",
    "    sterm = 1 - Delta / (gamma * (1+r_s/r_a) + Delta)\n",
    "    return coeff * sterm"
   ]
  },
  {
   "cell_type": "code",
   "execution_count": 161,
   "id": "11b9f951",
   "metadata": {},
   "outputs": [
    {
     "data": {
      "text/plain": [
       "unyt_quantity(0.00483022, 'K')"
      ]
     },
     "execution_count": 161,
     "metadata": {},
     "output_type": "execute_result"
    }
   ],
   "source": [
    "sensitiviy = dTdRG(30*unyt.s/unyt.m) * (1*unyt.W / unyt.m**2)\n",
    "sensitiviy.to('K')"
   ]
  },
  {
   "cell_type": "markdown",
   "id": "691540f5",
   "metadata": {},
   "source": [
    "## We find a 0.005 K increase in T for a 1 W/m$^2$ change in $R_s-G$."
   ]
  },
  {
   "cell_type": "markdown",
   "id": "0502d0c5",
   "metadata": {},
   "source": [
    "## Clearly, increasing $r_a$ will increase the sensitivity (even despite the 2nd term).  \n",
    "\n",
    "## Increasing $r_s$ will decrease the negative term and also lead to increased sensitivity.\n",
    "\n",
    "## Physically, this makes sense.  Increasing $r_s$ will lower $LE$ and its impact.  Meanwhile, increasing $r_a$ will require a larger $T$ response to yield the same $SH$."
   ]
  },
  {
   "cell_type": "code",
   "execution_count": null,
   "id": "c8b089d3",
   "metadata": {},
   "outputs": [],
   "source": []
  }
 ],
 "metadata": {
  "kernelspec": {
   "display_name": "Python 3 (ipykernel)",
   "language": "python",
   "name": "python3"
  },
  "language_info": {
   "codemirror_mode": {
    "name": "ipython",
    "version": 3
   },
   "file_extension": ".py",
   "mimetype": "text/x-python",
   "name": "python",
   "nbconvert_exporter": "python",
   "pygments_lexer": "ipython3",
   "version": "3.8.5"
  }
 },
 "nbformat": 4,
 "nbformat_minor": 5
}
