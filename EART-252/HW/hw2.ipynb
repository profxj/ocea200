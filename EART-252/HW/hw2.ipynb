{
 "cells": [
  {
   "cell_type": "markdown",
   "id": "2ca7ba3a",
   "metadata": {},
   "source": [
    "# Homework 2"
   ]
  },
  {
   "cell_type": "code",
   "execution_count": 2,
   "id": "7751a422",
   "metadata": {},
   "outputs": [],
   "source": [
    "from importlib import reload\n",
    "\n",
    "import numpy as np\n",
    "\n",
    "from matplotlib import pyplot as plt\n",
    "import seaborn as sns\n",
    "\n",
    "import unyt"
   ]
  },
  {
   "cell_type": "code",
   "execution_count": 3,
   "id": "a2ea7c71",
   "metadata": {},
   "outputs": [],
   "source": [
    "sns.set_theme()\n",
    "sns.set_style('whitegrid')\n",
    "sns.set_context('notebook')"
   ]
  },
  {
   "cell_type": "markdown",
   "id": "6726b259",
   "metadata": {},
   "source": [
    "# Problem 1 -- Limiting\n",
    "\n",
    "## $P = 800 \\, \\rm mm \\, yr^{-1}$\n",
    "\n",
    "## $R_{\\rm net} = 70 \\, \\rm W \\, m^{-2}$"
   ]
  },
  {
   "cell_type": "markdown",
   "id": "bdd2a268",
   "metadata": {},
   "source": [
    "## Calculate the potential evapotransopiration rate\n",
    "\n",
    "## PET = $R_{\\rm net}/L_V$  dividing by the density of water $\\rho_w = 1 \\rm \\, g/cc$ for units:"
   ]
  },
  {
   "cell_type": "code",
   "execution_count": 21,
   "id": "0dc3ea52",
   "metadata": {},
   "outputs": [
    {
     "data": {
      "text/plain": [
       "unyt_quantity(883.6128, 'mm/yr')"
      ]
     },
     "execution_count": 21,
     "metadata": {},
     "output_type": "execute_result"
    }
   ],
   "source": [
    "R_net = 70 * unyt.W / unyt.m**2\n",
    "L_V = 2.5 * 10**6 * unyt.J / unyt.kg\n",
    "rho_w = 1 * unyt.g/unyt.cm**3\n",
    "#\n",
    "PET = R_net / L_V / rho_w\n",
    "PET.to('mm/yr')"
   ]
  },
  {
   "cell_type": "markdown",
   "id": "d6673ef5",
   "metadata": {},
   "source": [
    "## PET is close, but somewhat exceeds $P$ (883 vs. 800 mm/yr).\n",
    "\n",
    "## Therefore, we are (marginally) water limited."
   ]
  },
  {
   "cell_type": "markdown",
   "id": "5555391a",
   "metadata": {},
   "source": [
    "----"
   ]
  },
  {
   "cell_type": "markdown",
   "id": "4821a05d",
   "metadata": {},
   "source": [
    "# Problem 2 -- Mountains"
   ]
  },
  {
   "cell_type": "markdown",
   "id": "38302c2e",
   "metadata": {},
   "source": [
    "## a. Desert valley in Nevada\n",
    "\n",
    "## $P = 300 \\, \\rm mm \\, yr^{-1}$\n",
    "\n",
    "## PET=$1300 \\, \\rm mm \\, yr^{-1}$"
   ]
  },
  {
   "cell_type": "code",
   "execution_count": 4,
   "id": "5a3a49ae",
   "metadata": {},
   "outputs": [],
   "source": [
    "P = 300 * unyt.mm/unyt.yr\n",
    "PET = 1300 * unyt.mm/unyt.yr"
   ]
  },
  {
   "cell_type": "markdown",
   "id": "40f8b83e",
   "metadata": {},
   "source": [
    "## In steady state, \n",
    "\n",
    "## $0 = P - ET - Q$"
   ]
  },
  {
   "cell_type": "markdown",
   "id": "2f93b9ca",
   "metadata": {},
   "source": [
    "## This is a water-limited system ($P/PET \\ll 1$) which implies a low streamflow ($Q/P \\ll 1$).\n",
    "\n",
    "## We expect ${\\rm AET} \\approx P$ and $Q \\approx 0$."
   ]
  },
  {
   "cell_type": "markdown",
   "id": "44ea4977",
   "metadata": {},
   "source": [
    "## b. Budyko estimations\n",
    "\n",
    "## I believe Budyko approximates AET as:\n",
    "\n",
    "## $\\frac{\\rm AET}{P} = \\frac{\\rm PET}{\\sqrt{{\\rm PET}^2 + P^2}}$"
   ]
  },
  {
   "cell_type": "code",
   "execution_count": 5,
   "id": "2507b94f",
   "metadata": {},
   "outputs": [
    {
     "data": {
      "text/plain": [
       "unyt_quantity(292.31735871, 'mm/yr')"
      ]
     },
     "execution_count": 5,
     "metadata": {},
     "output_type": "execute_result"
    }
   ],
   "source": [
    "# Therefore\n",
    "AET = P * PET / np.sqrt(PET**2 + P**2)\n",
    "AET"
   ]
  },
  {
   "cell_type": "markdown",
   "id": "d6432c00",
   "metadata": {},
   "source": [
    "### And, therefore, $Q$ is given by:"
   ]
  },
  {
   "cell_type": "code",
   "execution_count": 6,
   "id": "2d4294ff",
   "metadata": {},
   "outputs": [
    {
     "data": {
      "text/plain": [
       "unyt_quantity(7.68264129, 'mm/yr')"
      ]
     },
     "execution_count": 6,
     "metadata": {},
     "output_type": "execute_result"
    }
   ],
   "source": [
    "Q = P - AET\n",
    "Q"
   ]
  },
  {
   "cell_type": "markdown",
   "id": "41da8537",
   "metadata": {},
   "source": [
    "## c. Valley run-off ratio\n",
    "\n",
    "## The run-off ratio is given by $Q/P$"
   ]
  },
  {
   "cell_type": "code",
   "execution_count": 21,
   "id": "056f3040",
   "metadata": {},
   "outputs": [
    {
     "name": "stdout",
     "output_type": "stream",
     "text": [
      "Runoff ratio = 0.025608804305380203\n"
     ]
    }
   ],
   "source": [
    "# Calculation\n",
    "runoff_ratio = Q/P\n",
    "print(f'Runoff ratio = {float(runoff)}')"
   ]
  },
  {
   "cell_type": "markdown",
   "id": "1a48a081",
   "metadata": {},
   "source": [
    "## This is a low value, as anticipated."
   ]
  },
  {
   "cell_type": "markdown",
   "id": "52407172",
   "metadata": {},
   "source": [
    "## d. Nevada mountains\n",
    "\n",
    "## We will adopt $P_{\\rm mountains} = 2 P_{\\rm valley} = 600 \\, \\rm mm \\, yr^{-1}$\n",
    "\n",
    "## And we are told to assume runoff-ratio$_{\\rm mountains}$ = runoff-ratio$_{\\rm valley}$\n",
    "\n",
    "## Therefore, \n",
    "\n",
    "## $Q_{\\rm mountains} = 2 Q_{\\rm valley}$"
   ]
  },
  {
   "cell_type": "code",
   "execution_count": 15,
   "id": "b62cecbe",
   "metadata": {},
   "outputs": [
    {
     "data": {
      "text/plain": [
       "unyt_quantity(15.36528258, 'mm/yr')"
      ]
     },
     "execution_count": 15,
     "metadata": {},
     "output_type": "execute_result"
    }
   ],
   "source": [
    "# P\n",
    "P_mountains = 2 * P\n",
    "# Q\n",
    "Q_mountains = 2 * Q\n",
    "Q_mountains"
   ]
  },
  {
   "cell_type": "markdown",
   "id": "5cbd3326",
   "metadata": {},
   "source": [
    "## e. Budyko in the mountains\n",
    "\n",
    "## We will assume the net radiation is the same, ie. PET is the same"
   ]
  },
  {
   "cell_type": "code",
   "execution_count": 16,
   "id": "d3166882",
   "metadata": {},
   "outputs": [
    {
     "data": {
      "text/plain": [
       "unyt_quantity(544.7756307, 'mm/yr')"
      ]
     },
     "execution_count": 16,
     "metadata": {},
     "output_type": "execute_result"
    }
   ],
   "source": [
    "AET_mountains = P_mountains * PET / np.sqrt(PET**2 + P_mountains**2)\n",
    "AET_mountains"
   ]
  },
  {
   "cell_type": "code",
   "execution_count": 17,
   "id": "56cb9b11",
   "metadata": {},
   "outputs": [
    {
     "data": {
      "text/plain": [
       "unyt_quantity(55.2243693, 'mm/yr')"
      ]
     },
     "execution_count": 17,
     "metadata": {},
     "output_type": "execute_result"
    }
   ],
   "source": [
    "Q_mountains = P_mountains - AET_mountains\n",
    "Q_mountains"
   ]
  },
  {
   "cell_type": "markdown",
   "id": "1d598674",
   "metadata": {},
   "source": [
    "### This is much higher than assuming the constant runoff ratio.."
   ]
  },
  {
   "cell_type": "markdown",
   "id": "f58aef06",
   "metadata": {},
   "source": [
    "### The actual runoff ratio is:"
   ]
  },
  {
   "cell_type": "code",
   "execution_count": 20,
   "id": "858195b5",
   "metadata": {},
   "outputs": [
    {
     "name": "stdout",
     "output_type": "stream",
     "text": [
      "Runoff ratio in the mountains = 0.09204061549954834\n"
     ]
    }
   ],
   "source": [
    "runoff_ratio_mountains = Q_mountains / P_mountains\n",
    "print(f'Runoff ratio in the mountains = {float(runoff_ratio_mountains)}')"
   ]
  },
  {
   "cell_type": "markdown",
   "id": "198b3140",
   "metadata": {},
   "source": [
    "## f. Increasing the albedo\n",
    "\n",
    "## Now, we let $R_{\\rm mountains} = 2 R_{\\rm valley} / 3$\n",
    "\n",
    "## This reduces PET in the mountains by the same factor."
   ]
  },
  {
   "cell_type": "markdown",
   "id": "985b9d11",
   "metadata": {},
   "source": [
    "## Proceeding through the calculations.."
   ]
  },
  {
   "cell_type": "code",
   "execution_count": 19,
   "id": "77768d30",
   "metadata": {},
   "outputs": [],
   "source": [
    "PET_mountains = 2 * PET / 3."
   ]
  },
  {
   "cell_type": "code",
   "execution_count": 22,
   "id": "bdb6691e",
   "metadata": {},
   "outputs": [],
   "source": [
    "AET_mountains_albedo = P_mountains * PET_mountains / np.sqrt(PET_mountains**2 + P_mountains**2)\n",
    "Q_mountains_albedo = P_mountains - AET_mountains_albedo\n",
    "runoff_ratio_mountains_albedo = Q_mountains_albedo / P_mountains"
   ]
  },
  {
   "cell_type": "code",
   "execution_count": 24,
   "id": "d5d712d9",
   "metadata": {},
   "outputs": [
    {
     "name": "stdout",
     "output_type": "stream",
     "text": [
      "Our final quantities are:\n",
      "AET with albedo: 493.3153149862672 mm/yr\n",
      "Q with albedo: 106.6846850137328 mm/yr\n",
      "Runoff ratio with albedo: 0.17780780835622134 dimensionless\n"
     ]
    }
   ],
   "source": [
    "print(\"Our final quantities are:\")\n",
    "print(f\"AET with albedo: {AET_mountains_albedo}\")\n",
    "print(f\"Q with albedo: {Q_mountains_albedo}\")\n",
    "print(f\"Runoff ratio with albedo: {runoff_ratio_mountains_albedo}\")"
   ]
  },
  {
   "cell_type": "markdown",
   "id": "af110fde",
   "metadata": {},
   "source": [
    "## We have considerably higher runoff (and runoff ratio) do the lower AET."
   ]
  },
  {
   "cell_type": "markdown",
   "id": "bbd94428",
   "metadata": {},
   "source": [
    "----"
   ]
  },
  {
   "cell_type": "markdown",
   "id": "ce435823",
   "metadata": {},
   "source": [
    "# Problem 3 -- Red dot"
   ]
  },
  {
   "cell_type": "markdown",
   "id": "72cc3552",
   "metadata": {},
   "source": [
    "## Our mass conservation equation (in class) explicitly ignored GW, i.e.\n",
    "\n",
    "## $\\frac{dS}{dt} = P - ET - Q$"
   ]
  },
  {
   "cell_type": "markdown",
   "id": "b9a5df91",
   "metadata": {},
   "source": [
    "## In steady state, this led to \n",
    "\n",
    "## $\\rm{AET} = P - Q$\n",
    "\n",
    "## Including GW would yield:\n",
    "\n",
    "## $\\rm{AET} = P - Q - GW$"
   ]
  },
  {
   "cell_type": "markdown",
   "id": "c93cf865",
   "metadata": {},
   "source": [
    "## Therefore, the red dot would decrease in y (a lower Evaporative index)"
   ]
  },
  {
   "cell_type": "markdown",
   "id": "34372645",
   "metadata": {},
   "source": [
    "## I see no reason for PET to change."
   ]
  },
  {
   "cell_type": "markdown",
   "id": "0338b861",
   "metadata": {},
   "source": [
    "----"
   ]
  },
  {
   "cell_type": "markdown",
   "id": "9f40f29c",
   "metadata": {},
   "source": [
    "# Problem 4 -- Vertical flow"
   ]
  },
  {
   "cell_type": "markdown",
   "id": "b4226f4b",
   "metadata": {},
   "source": [
    "## We are given two points $A,B$ that are below ground at heights:"
   ]
  },
  {
   "cell_type": "code",
   "execution_count": 31,
   "id": "7935568c",
   "metadata": {},
   "outputs": [],
   "source": [
    "z_A = -125 * unyt.mm\n",
    "z_B = -625 * unyt.mm"
   ]
  },
  {
   "cell_type": "markdown",
   "id": "a2c77cfb",
   "metadata": {},
   "source": [
    "## The figure indicates these have metric potentials:"
   ]
  },
  {
   "cell_type": "code",
   "execution_count": 26,
   "id": "5a294dff",
   "metadata": {},
   "outputs": [],
   "source": [
    "Psi_A = -734 * unyt.mm\n",
    "Psi_B = -369 * unyt.mm"
   ]
  },
  {
   "cell_type": "markdown",
   "id": "ad6d3c01",
   "metadata": {},
   "source": [
    "## Last, we have a hydraulic conductivity, $\\kappa = 2 \\, \\rm mm \\, hr^{-1}$"
   ]
  },
  {
   "cell_type": "code",
   "execution_count": 29,
   "id": "d4fceadb",
   "metadata": {},
   "outputs": [],
   "source": [
    "kappa = 2 * unyt.mm / unyt.hr"
   ]
  },
  {
   "cell_type": "markdown",
   "id": "28a77986",
   "metadata": {},
   "source": [
    "## We will apply Darcy's Law for flow\n",
    "\n",
    "## $q_w = -\\kappa \\frac{\\partial H}{\\partial z}$\n",
    "\n",
    "## which we will estimate as:\n",
    "\n",
    "## $q_w = -\\kappa \\frac{\\Delta H}{\\Delta z}$"
   ]
  },
  {
   "cell_type": "code",
   "execution_count": 32,
   "id": "566b5182",
   "metadata": {},
   "outputs": [
    {
     "data": {
      "text/plain": [
       "unyt_quantity(500, 'mm')"
      ]
     },
     "execution_count": 32,
     "metadata": {},
     "output_type": "execute_result"
    }
   ],
   "source": [
    "# Dz\n",
    "Delta_z = z_A - z_B\n",
    "Delta_z"
   ]
  },
  {
   "cell_type": "markdown",
   "id": "c3632362",
   "metadata": {},
   "source": [
    "### Calculate the Heads:"
   ]
  },
  {
   "cell_type": "code",
   "execution_count": 35,
   "id": "fce43bad",
   "metadata": {},
   "outputs": [
    {
     "name": "stdout",
     "output_type": "stream",
     "text": [
      "Head A = -859 mm, Head_B=-994 mm\n"
     ]
    }
   ],
   "source": [
    "Head_A = Psi_A + z_A\n",
    "Head_B = Psi_B + z_B\n",
    "print(f\"Head A = {Head_A}, Head_B={Head_B}\")"
   ]
  },
  {
   "cell_type": "code",
   "execution_count": 34,
   "id": "cc2152bd",
   "metadata": {},
   "outputs": [
    {
     "data": {
      "text/plain": [
       "unyt_quantity(-0.54, 'mm/hr')"
      ]
     },
     "execution_count": 34,
     "metadata": {},
     "output_type": "execute_result"
    }
   ],
   "source": [
    "q_w = -kappa * (Head_A-Head_B) / Delta_z\n",
    "q_w"
   ]
  },
  {
   "cell_type": "markdown",
   "id": "103cb922",
   "metadata": {},
   "source": [
    "## We know that water flows from high Head to low Head.\n",
    "\n",
    "### Examining Head A and B from above, this means a flow downwards."
   ]
  },
  {
   "cell_type": "code",
   "execution_count": null,
   "id": "16eb3be1",
   "metadata": {},
   "outputs": [],
   "source": []
  }
 ],
 "metadata": {
  "kernelspec": {
   "display_name": "Python 3 (ipykernel)",
   "language": "python",
   "name": "python3"
  },
  "language_info": {
   "codemirror_mode": {
    "name": "ipython",
    "version": 3
   },
   "file_extension": ".py",
   "mimetype": "text/x-python",
   "name": "python",
   "nbconvert_exporter": "python",
   "pygments_lexer": "ipython3",
   "version": "3.9.7"
  }
 },
 "nbformat": 4,
 "nbformat_minor": 5
}
