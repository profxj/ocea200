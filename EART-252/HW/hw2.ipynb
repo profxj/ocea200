{
 "cells": [
  {
   "cell_type": "markdown",
   "id": "8ef0f9e6-af05-4632-acac-ac88bbb075b1",
   "metadata": {},
   "source": [
    "# Homework 2"
   ]
  },
  {
   "cell_type": "code",
   "execution_count": 1,
   "id": "d1da11dd-831a-46cd-894a-a5fc29b9f3b8",
   "metadata": {},
   "outputs": [],
   "source": [
    "from importlib import reload\n",
    "\n",
    "import numpy as np\n",
    "\n",
    "from matplotlib import pyplot as plt\n",
    "import seaborn as sns\n",
    "\n",
    "import unyt"
   ]
  },
  {
   "cell_type": "code",
   "execution_count": 2,
   "id": "f21f3d64-2d63-4b75-ba04-2b6daeb568d7",
   "metadata": {},
   "outputs": [],
   "source": [
    "sns.set_theme()\n",
    "sns.set_style('whitegrid')\n",
    "sns.set_context('notebook')"
   ]
  },
  {
   "cell_type": "markdown",
   "id": "77ef420d-0757-4647-a491-22de7d8368dc",
   "metadata": {},
   "source": [
    "# Problem 1 -- Limiting\n",
    "\n",
    "## $P = 800 \\, \\rm mm \\, yr^{-1}$\n",
    "\n",
    "## $R_{\\rm net} = 70 \\, \\rm W \\, m^{-2}$"
   ]
  },
  {
   "cell_type": "markdown",
   "id": "8f6411f2-70e3-4a4f-b9d2-04e85fcc6bac",
   "metadata": {},
   "source": [
    "## Calculate the potential evapotransopiration rate\n",
    "\n",
    "## PET = $R_{\\rm net}/L_V$  dividing by the density of water $\\rho_w = 1 \\rm \\, g/cc$ for units:"
   ]
  },
  {
   "cell_type": "code",
   "execution_count": 21,
   "id": "da2cc838-c672-4d73-8e92-74c5a748f193",
   "metadata": {},
   "outputs": [
    {
     "data": {
      "text/plain": [
       "unyt_quantity(883.6128, 'mm/yr')"
      ]
     },
     "execution_count": 21,
     "metadata": {},
     "output_type": "execute_result"
    }
   ],
   "source": [
    "R_net = 70 * unyt.W / unyt.m**2\n",
    "L_V = 2.5 * 10**6 * unyt.J / unyt.kg\n",
    "rho_w = 1 * unyt.g/unyt.cm**3\n",
    "#\n",
    "PET = R_net / L_V / rho_w\n",
    "PET.to('mm/yr')"
   ]
  },
  {
   "cell_type": "markdown",
   "id": "73a8b71f-3382-435f-9f81-2f4727ea20bc",
   "metadata": {},
   "source": [
    "## PET is close, but somewhat exceeds $P$ (883 vs. 800 mm/yr).\n",
    "\n",
    "## Therefore, we are (marginally) water limited."
   ]
  },
  {
   "cell_type": "markdown",
   "id": "e13c337d-f4c3-4b56-9982-68bbcab231b8",
   "metadata": {},
   "source": [
    "----"
   ]
  },
  {
   "cell_type": "markdown",
   "id": "5c821151-d7d3-4061-956e-23080f6cb7a1",
   "metadata": {},
   "source": [
    "# From lecture"
   ]
  },
  {
   "cell_type": "code",
   "execution_count": 15,
   "id": "24502289-895a-4b21-aee1-0528ba552b34",
   "metadata": {},
   "outputs": [
    {
     "data": {
      "text/plain": [
       "unyt_quantity(8640000., 'J/(day*m**2)')"
      ]
     },
     "execution_count": 15,
     "metadata": {},
     "output_type": "execute_result"
    }
   ],
   "source": [
    "R_net_class = 100 * unyt.W / unyt.m**2\n",
    "R_net_class.to('J/day/m**2')"
   ]
  },
  {
   "cell_type": "code",
   "execution_count": 16,
   "id": "06abae34-819e-42e0-bce1-f423e0a9e7d8",
   "metadata": {},
   "outputs": [
    {
     "data": {
      "text/plain": [
       "unyt_quantity(4.e-06, 'g/(cm**2*s)')"
      ]
     },
     "execution_count": 16,
     "metadata": {},
     "output_type": "execute_result"
    }
   ],
   "source": [
    "ET = R_net_class/L_V\n",
    "ET.in_cgs()"
   ]
  },
  {
   "cell_type": "code",
   "execution_count": 18,
   "id": "f051adba-9683-4d2e-9862-369f82e1c4b7",
   "metadata": {},
   "outputs": [
    {
     "data": {
      "text/plain": [
       "unyt_quantity(4.e-06, 'cm/s')"
      ]
     },
     "execution_count": 18,
     "metadata": {},
     "output_type": "execute_result"
    }
   ],
   "source": [
    "(ET/rho_w).in_cgs()"
   ]
  },
  {
   "cell_type": "code",
   "execution_count": 19,
   "id": "d4fc19ee-3e9f-4a59-8d1a-086301dfedb7",
   "metadata": {},
   "outputs": [
    {
     "data": {
      "text/plain": [
       "unyt_quantity(3.456, 'mm/day')"
      ]
     },
     "execution_count": 19,
     "metadata": {},
     "output_type": "execute_result"
    }
   ],
   "source": [
    "(ET/rho_w).to('mm/day')"
   ]
  },
  {
   "cell_type": "markdown",
   "id": "4edcad53-2fba-48de-9283-6defb8770f64",
   "metadata": {},
   "source": [
    "## Units.."
   ]
  },
  {
   "cell_type": "code",
   "execution_count": 13,
   "id": "c2407d1d-9ff0-4bff-bbf2-8d40a2eab225",
   "metadata": {},
   "outputs": [],
   "source": [
    "ps = 1000 * unyt.hPa\n",
    "g = 9.8 * unyt.m/unyt.s**2"
   ]
  },
  {
   "cell_type": "code",
   "execution_count": 14,
   "id": "c00802f3-95ff-4b52-aa69-f30bdfb8bb3d",
   "metadata": {},
   "outputs": [
    {
     "data": {
      "text/plain": [
       "unyt_quantity(1020.40816327, 'g/cm**2')"
      ]
     },
     "execution_count": 14,
     "metadata": {},
     "output_type": "execute_result"
    }
   ],
   "source": [
    "weight = ps/g\n",
    "weight.in_cgs()"
   ]
  },
  {
   "cell_type": "code",
   "execution_count": 17,
   "id": "4d569dd2-de61-45c9-9ca2-a85cb76029fa",
   "metadata": {},
   "outputs": [],
   "source": [
    "rho_w = 1 * unyt.g / unyt.cm**3"
   ]
  },
  {
   "cell_type": "code",
   "execution_count": null,
   "id": "13eecc46-852a-4174-9475-ac61aef3d3cc",
   "metadata": {},
   "outputs": [],
   "source": []
  }
 ],
 "metadata": {
  "kernelspec": {
   "display_name": "Python 3 (ipykernel)",
   "language": "python",
   "name": "python3"
  },
  "language_info": {
   "codemirror_mode": {
    "name": "ipython",
    "version": 3
   },
   "file_extension": ".py",
   "mimetype": "text/x-python",
   "name": "python",
   "nbconvert_exporter": "python",
   "pygments_lexer": "ipython3",
   "version": "3.9.6"
  }
 },
 "nbformat": 4,
 "nbformat_minor": 5
}
