{
 "cells": [
  {
   "cell_type": "markdown",
   "metadata": {},
   "source": [
    "# OCEA 201 -- Exercise 4"
   ]
  },
  {
   "cell_type": "code",
   "execution_count": 9,
   "metadata": {},
   "outputs": [],
   "source": [
    "# imports\n",
    "import numpy as np\n",
    "\n",
    "import unyt"
   ]
  },
  {
   "cell_type": "markdown",
   "metadata": {},
   "source": [
    "# Equations\n",
    "\n",
    "# $\\alpha = \\frac{f_0 w_0}{\\beta^2 R^2 (H_1 + H_2)}$\n",
    "\n",
    "# $R^2 = \\frac{\\gamma_1 H_1 H_2}{f_0^2 (H_1 + H_2)}$\n",
    "\n",
    "# $\\alpha = \\frac{f_0^3 w_0}{\\beta^2 \\gamma_1 H_1 H_2}$\n",
    "\n",
    "# $\\tau = X_0 \\sin(\\pi y/L)$\n",
    "\n",
    "# $\\frac{\\partial \\tau}{\\partial y} = \\pi X_0 / L \\, \\cos(\\pi y / L)$\n",
    "\n",
    "# $w_E \\sim \\frac{1}{\\rho_0 f_0} \\frac{\\partial \\tau}{\\partial y}$\n",
    "\n",
    "# $w_E \\sim \\frac{\\pi X_0}{\\rho_0 f_0 L}$"
   ]
  },
  {
   "cell_type": "markdown",
   "metadata": {},
   "source": [
    "# Values"
   ]
  },
  {
   "cell_type": "code",
   "execution_count": 24,
   "metadata": {},
   "outputs": [],
   "source": [
    "beta = 2e-11 / unyt.m / unyt.s\n",
    "f_0 = 8e-5 / unyt.s\n",
    "\n",
    "H_1 = 100 * unyt.m\n",
    "H_2 = 100 * unyt.m\n",
    "\n",
    "gamma_1 = 7.84e-2 * unyt.m / unyt.s**2\n",
    "\n",
    "X0 = 0.01 * (unyt.kg * unyt.m / unyt.s**2) / unyt.m**2\n",
    "rho0 = 1025 * unyt.kg / unyt.m**3\n",
    "L = 5000 * unyt.km\n",
    "\n",
    "w0 = np.pi * X0 / rho0 / f_0 / L"
   ]
  },
  {
   "cell_type": "code",
   "execution_count": 25,
   "metadata": {},
   "outputs": [
    {
     "data": {
      "text/plain": [
       "unyt_quantity(7.66242111e-08, 'm/s')"
      ]
     },
     "execution_count": 25,
     "metadata": {},
     "output_type": "execute_result"
    }
   ],
   "source": [
    "w0"
   ]
  },
  {
   "cell_type": "markdown",
   "metadata": {},
   "source": [
    "# Calculate"
   ]
  },
  {
   "cell_type": "markdown",
   "metadata": {},
   "source": [
    "## $R$"
   ]
  },
  {
   "cell_type": "code",
   "execution_count": 26,
   "metadata": {},
   "outputs": [
    {
     "data": {
      "text/plain": [
       "unyt_quantity(24.74873734, 'km')"
      ]
     },
     "execution_count": 26,
     "metadata": {},
     "output_type": "execute_result"
    }
   ],
   "source": [
    "R = np.sqrt(gamma_1 * H_1 * H_2 / (f_0**2 * (H_1 + H_2)))\n",
    "R.to('km')"
   ]
  },
  {
   "cell_type": "markdown",
   "metadata": {},
   "source": [
    "## $\\alpha$"
   ]
  },
  {
   "cell_type": "code",
   "execution_count": 27,
   "metadata": {},
   "outputs": [
    {
     "data": {
      "text/plain": [
       "unyt_quantity(0.12510075, '(dimensionless)')"
      ]
     },
     "execution_count": 27,
     "metadata": {},
     "output_type": "execute_result"
    }
   ],
   "source": [
    "alpha = f_0**3 * w0 / (beta**2 * gamma_1 * H_1 * H_2)\n",
    "alpha"
   ]
  },
  {
   "cell_type": "code",
   "execution_count": null,
   "metadata": {},
   "outputs": [],
   "source": []
  }
 ],
 "metadata": {
  "kernelspec": {
   "display_name": "Python 3",
   "language": "python",
   "name": "python3"
  },
  "language_info": {
   "codemirror_mode": {
    "name": "ipython",
    "version": 3
   },
   "file_extension": ".py",
   "mimetype": "text/x-python",
   "name": "python",
   "nbconvert_exporter": "python",
   "pygments_lexer": "ipython3",
   "version": "3.8.5"
  }
 },
 "nbformat": 4,
 "nbformat_minor": 4
}
