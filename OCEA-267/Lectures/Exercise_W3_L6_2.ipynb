{
 "cells": [
  {
   "cell_type": "markdown",
   "id": "40d63032-5353-4850-9454-6fa9e7460c5d",
   "metadata": {},
   "source": [
    "# Exercise W3 L6 Part 2"
   ]
  },
  {
   "cell_type": "code",
   "execution_count": 5,
   "id": "0838d3e5-3b8f-480e-8e56-e01ba7ef44d9",
   "metadata": {},
   "outputs": [],
   "source": [
    "# imports\n",
    "import numpy as np\n",
    "from scipy.ndimage import uniform_filter1d\n",
    "from scipy.stats import shapiro\n",
    "from matplotlib import pyplot as plt\n",
    "import pandas\n",
    "\n",
    "from statsmodels.tsa.seasonal import seasonal_decompose\n",
    "import statsmodels.api as sm\n",
    "from statsmodels.stats.stattools import durbin_watson\n",
    "import statsmodels.formula.api as smf"
   ]
  },
  {
   "cell_type": "markdown",
   "id": "aeb5f7aa-7129-4a01-9a82-e8eb4b7f8d8e",
   "metadata": {},
   "source": [
    "# Load data"
   ]
  },
  {
   "cell_type": "code",
   "execution_count": 2,
   "id": "0ca6fae7-451b-4432-8167-fe89e5368d0c",
   "metadata": {},
   "outputs": [],
   "source": [
    "ch4 = pandas.read_table('../Data/ch4_mm_gl.txt', delim_whitespace=True)"
   ]
  },
  {
   "cell_type": "markdown",
   "id": "3738f6bc-5b3a-4ce4-b8a7-f19ddd7849da",
   "metadata": {},
   "source": [
    "## Dates"
   ]
  },
  {
   "cell_type": "code",
   "execution_count": 3,
   "id": "4389b40a-420a-4282-86d2-428492961806",
   "metadata": {},
   "outputs": [
    {
     "data": {
      "text/html": [
       "<div>\n",
       "<style scoped>\n",
       "    .dataframe tbody tr th:only-of-type {\n",
       "        vertical-align: middle;\n",
       "    }\n",
       "\n",
       "    .dataframe tbody tr th {\n",
       "        vertical-align: top;\n",
       "    }\n",
       "\n",
       "    .dataframe thead th {\n",
       "        text-align: right;\n",
       "    }\n",
       "</style>\n",
       "<table border=\"1\" class=\"dataframe\">\n",
       "  <thead>\n",
       "    <tr style=\"text-align: right;\">\n",
       "      <th></th>\n",
       "      <th>year</th>\n",
       "      <th>month</th>\n",
       "      <th>decimal</th>\n",
       "      <th>average</th>\n",
       "      <th>average_unc</th>\n",
       "      <th>trend</th>\n",
       "      <th>trend_unc</th>\n",
       "    </tr>\n",
       "    <tr>\n",
       "      <th>date</th>\n",
       "      <th></th>\n",
       "      <th></th>\n",
       "      <th></th>\n",
       "      <th></th>\n",
       "      <th></th>\n",
       "      <th></th>\n",
       "      <th></th>\n",
       "    </tr>\n",
       "  </thead>\n",
       "  <tbody>\n",
       "    <tr>\n",
       "      <th>1983-07-01</th>\n",
       "      <td>1983</td>\n",
       "      <td>7</td>\n",
       "      <td>1983.542</td>\n",
       "      <td>1625.9</td>\n",
       "      <td>2.3</td>\n",
       "      <td>1634.8</td>\n",
       "      <td>1.5</td>\n",
       "    </tr>\n",
       "    <tr>\n",
       "      <th>1983-08-01</th>\n",
       "      <td>1983</td>\n",
       "      <td>8</td>\n",
       "      <td>1983.625</td>\n",
       "      <td>1628.1</td>\n",
       "      <td>2.9</td>\n",
       "      <td>1635.3</td>\n",
       "      <td>1.4</td>\n",
       "    </tr>\n",
       "    <tr>\n",
       "      <th>1983-09-01</th>\n",
       "      <td>1983</td>\n",
       "      <td>9</td>\n",
       "      <td>1983.708</td>\n",
       "      <td>1638.4</td>\n",
       "      <td>2.3</td>\n",
       "      <td>1635.9</td>\n",
       "      <td>1.3</td>\n",
       "    </tr>\n",
       "    <tr>\n",
       "      <th>1983-10-01</th>\n",
       "      <td>1983</td>\n",
       "      <td>10</td>\n",
       "      <td>1983.792</td>\n",
       "      <td>1644.8</td>\n",
       "      <td>1.4</td>\n",
       "      <td>1636.5</td>\n",
       "      <td>1.2</td>\n",
       "    </tr>\n",
       "    <tr>\n",
       "      <th>1983-11-01</th>\n",
       "      <td>1983</td>\n",
       "      <td>11</td>\n",
       "      <td>1983.875</td>\n",
       "      <td>1642.6</td>\n",
       "      <td>0.8</td>\n",
       "      <td>1637.2</td>\n",
       "      <td>1.2</td>\n",
       "    </tr>\n",
       "  </tbody>\n",
       "</table>\n",
       "</div>"
      ],
      "text/plain": [
       "            year  month   decimal  average  average_unc   trend  trend_unc\n",
       "date                                                                      \n",
       "1983-07-01  1983      7  1983.542   1625.9          2.3  1634.8        1.5\n",
       "1983-08-01  1983      8  1983.625   1628.1          2.9  1635.3        1.4\n",
       "1983-09-01  1983      9  1983.708   1638.4          2.3  1635.9        1.3\n",
       "1983-10-01  1983     10  1983.792   1644.8          1.4  1636.5        1.2\n",
       "1983-11-01  1983     11  1983.875   1642.6          0.8  1637.2        1.2"
      ]
     },
     "execution_count": 3,
     "metadata": {},
     "output_type": "execute_result"
    }
   ],
   "source": [
    "dates = []\n",
    "for index, row in ch4.iterrows():\n",
    "    dates.append(f'{int(row.year)}-{int(row.month)}')\n",
    "dates = pandas.to_datetime(dates)\n",
    "ch4['date'] = dates\n",
    "ch4.set_index('date', inplace=True)\n",
    "ch4.head()"
   ]
  },
  {
   "cell_type": "markdown",
   "id": "c0ce36f1-a147-4e5f-a26d-209291530651",
   "metadata": {},
   "source": [
    "# Dummy variables"
   ]
  },
  {
   "cell_type": "code",
   "execution_count": 26,
   "id": "94313edf-bd4b-44bd-ae52-835c608da276",
   "metadata": {},
   "outputs": [],
   "source": [
    "dummy = np.zeros((len(ch4), 11), dtype=int)\n",
    "for i in np.arange(11):\n",
    "    for j in np.arange(len(ch4)):\n",
    "        if ch4.month.values[j] == i+1:\n",
    "            dummy[j,i] = 1"
   ]
  },
  {
   "cell_type": "code",
   "execution_count": 28,
   "id": "7d2c3fbf-2ee1-4e02-8178-bf36c8840cc4",
   "metadata": {},
   "outputs": [
    {
     "data": {
      "text/plain": [
       "(461, 11)"
      ]
     },
     "execution_count": 28,
     "metadata": {},
     "output_type": "execute_result"
    }
   ],
   "source": [
    "dummy.shape"
   ]
  },
  {
   "cell_type": "markdown",
   "id": "5c6525ba-094a-4871-8c20-6b359ee4179d",
   "metadata": {},
   "source": [
    "# Generalized fit"
   ]
  },
  {
   "cell_type": "code",
   "execution_count": 7,
   "id": "e0892a59-fae6-495a-b25b-5905f7e91885",
   "metadata": {},
   "outputs": [],
   "source": [
    "time = np.arange(len(ch4)) + 1"
   ]
  },
  {
   "cell_type": "code",
   "execution_count": 24,
   "id": "5f8ffe4d-dd5c-4451-be31-b47eb145cd34",
   "metadata": {},
   "outputs": [
    {
     "data": {
      "text/plain": [
       "461"
      ]
     },
     "execution_count": 24,
     "metadata": {},
     "output_type": "execute_result"
    }
   ],
   "source": [
    "time.size"
   ]
  },
  {
   "cell_type": "markdown",
   "id": "e7546e09-6b53-4cca-8ddd-baa8fe299dba",
   "metadata": {},
   "source": [
    "## Here goes nothing.."
   ]
  },
  {
   "cell_type": "code",
   "execution_count": 29,
   "id": "e6eb2ffe-f4cb-4530-9a99-aace57e6f81d",
   "metadata": {},
   "outputs": [],
   "source": [
    "data = pandas.DataFrame()\n",
    "data['ch4'] = ch4.average.values\n",
    "data['time'] = time\n",
    "dummies = []\n",
    "for idum in np.arange(11):\n",
    "    key = f'dum{idum}'\n",
    "    dummies.append(key)\n",
    "    data[key] = dummy[:,idum]"
   ]
  },
  {
   "cell_type": "code",
   "execution_count": 30,
   "id": "29b9c800-1f6b-4aa9-9908-044214a5f662",
   "metadata": {},
   "outputs": [
    {
     "data": {
      "text/plain": [
       "['dum0',\n",
       " 'dum1',\n",
       " 'dum2',\n",
       " 'dum3',\n",
       " 'dum4',\n",
       " 'dum5',\n",
       " 'dum6',\n",
       " 'dum7',\n",
       " 'dum8',\n",
       " 'dum9',\n",
       " 'dum10']"
      ]
     },
     "execution_count": 30,
     "metadata": {},
     "output_type": "execute_result"
    }
   ],
   "source": [
    "dummies"
   ]
  },
  {
   "cell_type": "code",
   "execution_count": 33,
   "id": "5e41fcfe-95c0-45d5-8c58-57ba3fefa152",
   "metadata": {},
   "outputs": [],
   "source": [
    "formula = \"ch4 ~ dum0 + dum1 + dum2 + dum3 + dum4 + dum5 + dum6 + dum7 + dum8 + dum9 + dum10 + time\"\n",
    "mod1 = smf.glm(formula=formula, data=data).fit()#, family=sm.families.Binomial()).fit()"
   ]
  },
  {
   "cell_type": "code",
   "execution_count": 34,
   "id": "d58da69d-2ff0-4b12-84d1-6af2092bfdfe",
   "metadata": {},
   "outputs": [
    {
     "data": {
      "text/html": [
       "<table class=\"simpletable\">\n",
       "<caption>Generalized Linear Model Regression Results</caption>\n",
       "<tr>\n",
       "  <th>Dep. Variable:</th>          <td>ch4</td>       <th>  No. Observations:  </th>  <td>   461</td> \n",
       "</tr>\n",
       "<tr>\n",
       "  <th>Model:</th>                  <td>GLM</td>       <th>  Df Residuals:      </th>  <td>   448</td> \n",
       "</tr>\n",
       "<tr>\n",
       "  <th>Model Family:</th>        <td>Gaussian</td>     <th>  Df Model:          </th>  <td>    12</td> \n",
       "</tr>\n",
       "<tr>\n",
       "  <th>Link Function:</th>       <td>identity</td>     <th>  Scale:             </th> <td>  204.89</td>\n",
       "</tr>\n",
       "<tr>\n",
       "  <th>Method:</th>                <td>IRLS</td>       <th>  Log-Likelihood:    </th> <td> -1874.4</td>\n",
       "</tr>\n",
       "<tr>\n",
       "  <th>Date:</th>            <td>Mon, 18 Apr 2022</td> <th>  Deviance:          </th> <td>  91793.</td>\n",
       "</tr>\n",
       "<tr>\n",
       "  <th>Time:</th>                <td>05:25:54</td>     <th>  Pearson chi2:      </th> <td>9.18e+04</td>\n",
       "</tr>\n",
       "<tr>\n",
       "  <th>No. Iterations:</th>          <td>3</td>        <th>                     </th>     <td> </td>   \n",
       "</tr>\n",
       "<tr>\n",
       "  <th>Covariance Type:</th>     <td>nonrobust</td>    <th>                     </th>     <td> </td>   \n",
       "</tr>\n",
       "</table>\n",
       "<table class=\"simpletable\">\n",
       "<tr>\n",
       "      <td></td>         <th>coef</th>     <th>std err</th>      <th>z</th>      <th>P>|z|</th>  <th>[0.025</th>    <th>0.975]</th>  \n",
       "</tr>\n",
       "<tr>\n",
       "  <th>Intercept</th> <td> 1671.2283</td> <td>    2.588</td> <td>  645.806</td> <td> 0.000</td> <td> 1666.156</td> <td> 1676.300</td>\n",
       "</tr>\n",
       "<tr>\n",
       "  <th>dum0</th>      <td>   -1.7825</td> <td>    3.284</td> <td>   -0.543</td> <td> 0.587</td> <td>   -8.219</td> <td>    4.654</td>\n",
       "</tr>\n",
       "<tr>\n",
       "  <th>dum1</th>      <td>   -2.5861</td> <td>    3.284</td> <td>   -0.787</td> <td> 0.431</td> <td>   -9.022</td> <td>    3.850</td>\n",
       "</tr>\n",
       "<tr>\n",
       "  <th>dum2</th>      <td>   -2.3107</td> <td>    3.284</td> <td>   -0.704</td> <td> 0.482</td> <td>   -8.747</td> <td>    4.126</td>\n",
       "</tr>\n",
       "<tr>\n",
       "  <th>dum3</th>      <td>   -2.3432</td> <td>    3.284</td> <td>   -0.714</td> <td> 0.476</td> <td>   -8.780</td> <td>    4.093</td>\n",
       "</tr>\n",
       "<tr>\n",
       "  <th>dum4</th>      <td>   -4.3336</td> <td>    3.284</td> <td>   -1.320</td> <td> 0.187</td> <td>  -10.770</td> <td>    2.103</td>\n",
       "</tr>\n",
       "<tr>\n",
       "  <th>dum5</th>      <td>   -8.6792</td> <td>    3.284</td> <td>   -2.643</td> <td> 0.008</td> <td>  -15.116</td> <td>   -2.243</td>\n",
       "</tr>\n",
       "<tr>\n",
       "  <th>dum6</th>      <td>  -12.8185</td> <td>    3.263</td> <td>   -3.929</td> <td> 0.000</td> <td>  -19.213</td> <td>   -6.424</td>\n",
       "</tr>\n",
       "<tr>\n",
       "  <th>dum7</th>      <td>  -10.0564</td> <td>    3.263</td> <td>   -3.082</td> <td> 0.002</td> <td>  -16.451</td> <td>   -3.662</td>\n",
       "</tr>\n",
       "<tr>\n",
       "  <th>dum8</th>      <td>   -3.1739</td> <td>    3.263</td> <td>   -0.973</td> <td> 0.331</td> <td>   -9.569</td> <td>    3.221</td>\n",
       "</tr>\n",
       "<tr>\n",
       "  <th>dum9</th>      <td>    1.3984</td> <td>    3.263</td> <td>    0.429</td> <td> 0.668</td> <td>   -4.997</td> <td>    7.793</td>\n",
       "</tr>\n",
       "<tr>\n",
       "  <th>dum10</th>     <td>    2.0655</td> <td>    3.263</td> <td>    0.633</td> <td> 0.527</td> <td>   -4.330</td> <td>    8.461</td>\n",
       "</tr>\n",
       "<tr>\n",
       "  <th>time</th>      <td>    0.4457</td> <td>    0.005</td> <td>   88.953</td> <td> 0.000</td> <td>    0.436</td> <td>    0.455</td>\n",
       "</tr>\n",
       "</table>"
      ],
      "text/plain": [
       "<class 'statsmodels.iolib.summary.Summary'>\n",
       "\"\"\"\n",
       "                 Generalized Linear Model Regression Results                  \n",
       "==============================================================================\n",
       "Dep. Variable:                    ch4   No. Observations:                  461\n",
       "Model:                            GLM   Df Residuals:                      448\n",
       "Model Family:                Gaussian   Df Model:                           12\n",
       "Link Function:               identity   Scale:                          204.89\n",
       "Method:                          IRLS   Log-Likelihood:                -1874.4\n",
       "Date:                Mon, 18 Apr 2022   Deviance:                       91793.\n",
       "Time:                        05:25:54   Pearson chi2:                 9.18e+04\n",
       "No. Iterations:                     3                                         \n",
       "Covariance Type:            nonrobust                                         \n",
       "==============================================================================\n",
       "                 coef    std err          z      P>|z|      [0.025      0.975]\n",
       "------------------------------------------------------------------------------\n",
       "Intercept   1671.2283      2.588    645.806      0.000    1666.156    1676.300\n",
       "dum0          -1.7825      3.284     -0.543      0.587      -8.219       4.654\n",
       "dum1          -2.5861      3.284     -0.787      0.431      -9.022       3.850\n",
       "dum2          -2.3107      3.284     -0.704      0.482      -8.747       4.126\n",
       "dum3          -2.3432      3.284     -0.714      0.476      -8.780       4.093\n",
       "dum4          -4.3336      3.284     -1.320      0.187     -10.770       2.103\n",
       "dum5          -8.6792      3.284     -2.643      0.008     -15.116      -2.243\n",
       "dum6         -12.8185      3.263     -3.929      0.000     -19.213      -6.424\n",
       "dum7         -10.0564      3.263     -3.082      0.002     -16.451      -3.662\n",
       "dum8          -3.1739      3.263     -0.973      0.331      -9.569       3.221\n",
       "dum9           1.3984      3.263      0.429      0.668      -4.997       7.793\n",
       "dum10          2.0655      3.263      0.633      0.527      -4.330       8.461\n",
       "time           0.4457      0.005     88.953      0.000       0.436       0.455\n",
       "==============================================================================\n",
       "\"\"\""
      ]
     },
     "execution_count": 34,
     "metadata": {},
     "output_type": "execute_result"
    }
   ],
   "source": [
    "mod1.summary()"
   ]
  },
  {
   "cell_type": "code",
   "execution_count": 35,
   "id": "551b10b6-4552-4ab3-8723-b702c15a69aa",
   "metadata": {},
   "outputs": [
    {
     "data": {
      "text/plain": [
       "0      1658.855472\n",
       "1      1662.063164\n",
       "2      1669.391369\n",
       "3      1674.409318\n",
       "4      1675.522138\n",
       "          ...     \n",
       "456    1862.077862\n",
       "457    1865.285554\n",
       "458    1872.613759\n",
       "459    1877.631708\n",
       "460    1878.744528\n",
       "Length: 461, dtype: float64"
      ]
     },
     "execution_count": 35,
     "metadata": {},
     "output_type": "execute_result"
    }
   ],
   "source": [
    "mod1.fittedvalues"
   ]
  },
  {
   "cell_type": "markdown",
   "id": "f079b27c-8686-45d8-bce3-fe9038d077c0",
   "metadata": {},
   "source": [
    "## Plot"
   ]
  },
  {
   "cell_type": "code",
   "execution_count": 40,
   "id": "22111bdd-8b93-46ef-a20d-69798cc3df8f",
   "metadata": {},
   "outputs": [
    {
     "data": {
      "text/plain": [
       "<Figure size 432x288 with 0 Axes>"
      ]
     },
     "metadata": {},
     "output_type": "display_data"
    },
    {
     "data": {
      "image/png": "[encoded data removed]",
      "text/plain": [
       "<Figure size 864x576 with 1 Axes>"
      ]
     },
     "metadata": {
      "needs_background": "light"
     },
     "output_type": "display_data"
    }
   ],
   "source": [
    "plt.clf()\n",
    "fig = plt.figure(figsize=(12,8))\n",
    "#\n",
    "ax = plt.gca()\n",
    "ax.plot(data['time'], data['ch4'], 'o', ms=2)\n",
    "# Fit\n",
    "ax.plot(data['time'], mod1.fittedvalues)\n",
    "#\n",
    "plt.show()"
   ]
  },
  {
   "cell_type": "markdown",
   "id": "fb44d87b-7560-4e95-ae12-940ad526b994",
   "metadata": {},
   "source": [
    "# Quadratic"
   ]
  },
  {
   "cell_type": "code",
   "execution_count": 42,
   "id": "3eeccf4f-db2b-47d3-911d-56cc1f6b316a",
   "metadata": {},
   "outputs": [],
   "source": [
    "data['time2'] = time**2"
   ]
  },
  {
   "cell_type": "code",
   "execution_count": 43,
   "id": "7c376eac-bd74-449e-8ae5-37a121615233",
   "metadata": {},
   "outputs": [],
   "source": [
    "formula2 = \"ch4 ~ dum0 + dum1 + dum2 + dum3 + dum4 + dum5 + dum6 + dum7 + dum8 + dum9 + dum10 + time + time2\"\n",
    "mod2 = smf.glm(formula=formula2, data=data).fit()#, family=sm.families.Binomial()).fit()"
   ]
  },
  {
   "cell_type": "markdown",
   "id": "b0e7bb35-802c-4d79-b079-80d458dfaa40",
   "metadata": {},
   "source": [
    "## Plot"
   ]
  },
  {
   "cell_type": "code",
   "execution_count": 44,
   "id": "e33030c5-8a15-4a9c-81e5-7a6c9c0a8518",
   "metadata": {},
   "outputs": [
    {
     "data": {
      "text/plain": [
       "<Figure size 432x288 with 0 Axes>"
      ]
     },
     "metadata": {},
     "output_type": "display_data"
    },
    {
     "data": {
      "image/png": "[encoded data removed]",
      "text/plain": [
       "<Figure size 864x576 with 1 Axes>"
      ]
     },
     "metadata": {
      "needs_background": "light"
     },
     "output_type": "display_data"
    }
   ],
   "source": [
    "plt.clf()\n",
    "fig = plt.figure(figsize=(12,8))\n",
    "#\n",
    "ax = plt.gca()\n",
    "ax.plot(data['time'], data['ch4'], 'o', ms=2)\n",
    "# Fit\n",
    "ax.plot(data['time'], mod2.fittedvalues)\n",
    "#\n",
    "plt.show()"
   ]
  },
  {
   "cell_type": "markdown",
   "id": "12e10ef1-c57b-48b3-97aa-05f116eee801",
   "metadata": {},
   "source": [
    "# Cubic"
   ]
  },
  {
   "cell_type": "code",
   "execution_count": 45,
   "id": "817e4f8e-2fc0-46c7-a3fe-141d9802e0d6",
   "metadata": {},
   "outputs": [],
   "source": [
    "data['time3'] = time**3"
   ]
  },
  {
   "cell_type": "code",
   "execution_count": 46,
   "id": "477d7e54-07b3-4d9a-b923-7c20703d2d40",
   "metadata": {},
   "outputs": [],
   "source": [
    "formula3 = \"ch4 ~ dum0 + dum1 + dum2 + dum3 + dum4 + dum5 + dum6 + dum7 + dum8 + dum9 + dum10 + time + time2 + time3\"\n",
    "mod3 = smf.glm(formula=formula3, data=data).fit()#, family=sm.families.Binomial()).fit()"
   ]
  },
  {
   "cell_type": "markdown",
   "id": "04c45d96-e728-463a-98b7-11bbb3804085",
   "metadata": {},
   "source": [
    "## Plot"
   ]
  },
  {
   "cell_type": "code",
   "execution_count": 47,
   "id": "0d772312-1841-49bc-a070-1d25ab464291",
   "metadata": {},
   "outputs": [
    {
     "data": {
      "text/plain": [
       "<Figure size 432x288 with 0 Axes>"
      ]
     },
     "metadata": {},
     "output_type": "display_data"
    },
    {
     "data": {
      "image/png": "[encoded data removed]",
      "text/plain": [
       "<Figure size 864x576 with 1 Axes>"
      ]
     },
     "metadata": {
      "needs_background": "light"
     },
     "output_type": "display_data"
    }
   ],
   "source": [
    "plt.clf()\n",
    "fig = plt.figure(figsize=(12,8))\n",
    "#\n",
    "ax = plt.gca()\n",
    "ax.plot(data['time'], data['ch4'], 'o', ms=2)\n",
    "# Fit\n",
    "ax.plot(data['time'], mod3.fittedvalues)\n",
    "#\n",
    "plt.show()"
   ]
  },
  {
   "cell_type": "markdown",
   "id": "9f7cfd02-d1d5-4f27-8508-09bb2e91e6d5",
   "metadata": {},
   "source": [
    "## Cubic wins!!"
   ]
  },
  {
   "cell_type": "markdown",
   "id": "2d0b670d-6fc5-4b05-b4a5-71f8f2c7b44c",
   "metadata": {},
   "source": [
    "----"
   ]
  },
  {
   "cell_type": "markdown",
   "id": "98bae57d-92ef-467f-a4c0-79a1b94b8998",
   "metadata": {},
   "source": [
    "# Durbin Watson"
   ]
  },
  {
   "cell_type": "code",
   "execution_count": 48,
   "id": "2efeddc4-ad39-411f-8f19-c636d1cd0fd2",
   "metadata": {},
   "outputs": [],
   "source": [
    "resids = data.ch4 - mod3.fittedvalues"
   ]
  },
  {
   "cell_type": "code",
   "execution_count": 49,
   "id": "1a033f53-293f-4f9d-a30b-3280e67ae6ee",
   "metadata": {},
   "outputs": [
    {
     "data": {
      "text/plain": [
       "0.08666982041888166"
      ]
     },
     "execution_count": 49,
     "metadata": {},
     "output_type": "execute_result"
    }
   ],
   "source": [
    "dw = durbin_watson(resids)\n",
    "dw"
   ]
  },
  {
   "cell_type": "markdown",
   "id": "d3e92b61-c8cd-476d-b6e6-78cca0172df5",
   "metadata": {},
   "source": [
    "## Not independent!"
   ]
  },
  {
   "cell_type": "code",
   "execution_count": null,
   "id": "8761cf33-d46a-4a04-af4e-9b95493c67f4",
   "metadata": {},
   "outputs": [],
   "source": []
  }
 ],
 "metadata": {
  "kernelspec": {
   "display_name": "Python 3 (ipykernel)",
   "language": "python",
   "name": "python3"
  },
  "language_info": {
   "codemirror_mode": {
    "name": "ipython",
    "version": 3
   },
   "file_extension": ".py",
   "mimetype": "text/x-python",
   "name": "python",
   "nbconvert_exporter": "python",
   "pygments_lexer": "ipython3",
   "version": "3.9.7"
  }
 },
 "nbformat": 4,
 "nbformat_minor": 5
}
