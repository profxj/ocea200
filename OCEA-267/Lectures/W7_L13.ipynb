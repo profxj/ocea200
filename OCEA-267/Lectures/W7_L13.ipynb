{
 "cells": [
  {
   "cell_type": "markdown",
   "id": "05cf0c8e-e8c5-45ef-b56a-212b7a2dfee1",
   "metadata": {},
   "source": [
    "# Lecture 13 Examples"
   ]
  },
  {
   "cell_type": "code",
   "execution_count": 7,
   "id": "720b41e6-963b-4089-9b44-e70ba08e22b8",
   "metadata": {},
   "outputs": [],
   "source": [
    "# imports\n",
    "import numpy as np\n",
    "from scipy.ndimage import uniform_filter1d\n",
    "from scipy.stats import shapiro, bartlett\n",
    "from matplotlib import pyplot as plt\n",
    "import pandas\n",
    "\n",
    "from statsmodels.tsa.seasonal import seasonal_decompose\n",
    "import statsmodels.api as sm\n",
    "from statsmodels.stats.stattools import durbin_watson\n",
    "import statsmodels.formula.api as smf\n",
    "from statsmodels.graphics.tsaplots import plot_acf, plot_pacf\n",
    "from statsmodels.tsa.stattools import pacf\n",
    "\n",
    "import pymannkendall as mk"
   ]
  },
  {
   "cell_type": "markdown",
   "id": "96635ae6-4950-45eb-b55e-12f934dec68e",
   "metadata": {},
   "source": [
    "# Phosphorus"
   ]
  },
  {
   "cell_type": "markdown",
   "id": "0dfaefb6-5441-4bdb-90fb-6b161e68080e",
   "metadata": {},
   "source": [
    "## Load"
   ]
  },
  {
   "cell_type": "code",
   "execution_count": 5,
   "id": "adeadd6d-14fe-4520-8e14-c9d346274e7d",
   "metadata": {},
   "outputs": [
    {
     "data": {
      "text/html": [
       "<div>\n",
       "<style scoped>\n",
       "    .dataframe tbody tr th:only-of-type {\n",
       "        vertical-align: middle;\n",
       "    }\n",
       "\n",
       "    .dataframe tbody tr th {\n",
       "        vertical-align: top;\n",
       "    }\n",
       "\n",
       "    .dataframe thead th {\n",
       "        text-align: right;\n",
       "    }\n",
       "</style>\n",
       "<table border=\"1\" class=\"dataframe\">\n",
       "  <thead>\n",
       "    <tr style=\"text-align: right;\">\n",
       "      <th></th>\n",
       "      <th>P</th>\n",
       "    </tr>\n",
       "    <tr>\n",
       "      <th>time</th>\n",
       "      <th></th>\n",
       "    </tr>\n",
       "  </thead>\n",
       "  <tbody>\n",
       "    <tr>\n",
       "      <th>1</th>\n",
       "      <td>0.180</td>\n",
       "    </tr>\n",
       "    <tr>\n",
       "      <th>5</th>\n",
       "      <td>0.200</td>\n",
       "    </tr>\n",
       "    <tr>\n",
       "      <th>9</th>\n",
       "      <td>0.250</td>\n",
       "    </tr>\n",
       "    <tr>\n",
       "      <th>13</th>\n",
       "      <td>0.068</td>\n",
       "    </tr>\n",
       "    <tr>\n",
       "      <th>17</th>\n",
       "      <td>0.201</td>\n",
       "    </tr>\n",
       "  </tbody>\n",
       "</table>\n",
       "</div>"
      ],
      "text/plain": [
       "          P\n",
       "time       \n",
       "1     0.180\n",
       "5     0.200\n",
       "9     0.250\n",
       "13    0.068\n",
       "17    0.201"
      ]
     },
     "execution_count": 5,
     "metadata": {},
     "output_type": "execute_result"
    }
   ],
   "source": [
    "data_file = '../Data/samsonvillebrook_phosphorus_quarterly.txt'\n",
    "df = pandas.read_table(data_file, delim_whitespace=True, names=['time','P'])\n",
    "df.set_index('time', inplace=True)\n",
    "df.head()"
   ]
  },
  {
   "cell_type": "markdown",
   "id": "a9818105-8e04-49c4-b3e4-a5d13d2a44f8",
   "metadata": {},
   "source": [
    "## Plot"
   ]
  },
  {
   "cell_type": "code",
   "execution_count": 6,
   "id": "b764e8b3-61f9-4578-85d8-2f0484c61321",
   "metadata": {},
   "outputs": [
    {
     "data": {
      "text/plain": [
       "<AxesSubplot:xlabel='time'>"
      ]
     },
     "execution_count": 6,
     "metadata": {},
     "output_type": "execute_result"
    },
    {
     "data": {
      "image/png": "[encoded data removed]",
      "text/plain": [
       "<Figure size 432x288 with 1 Axes>"
      ]
     },
     "metadata": {
      "needs_background": "light"
     },
     "output_type": "display_data"
    }
   ],
   "source": [
    "df.P.plot()"
   ]
  },
  {
   "cell_type": "markdown",
   "id": "d6dd6649-7cb6-4b47-9f6b-9ae50bb58fd8",
   "metadata": {},
   "source": [
    "## Mann-Kendall"
   ]
  },
  {
   "cell_type": "code",
   "execution_count": 8,
   "id": "161bc3b4-8bbf-42f6-829c-352f3ad106d3",
   "metadata": {},
   "outputs": [
    {
     "data": {
      "text/plain": [
       "Mann_Kendall_Test(trend='decreasing', h=True, p=0.014143012959226597, z=-2.453610372238226, Tau=-0.35333333333333333, s=-106.0, var_s=1831.3333333333333, slope=-0.0045000000000000005, intercept=0.15300000000000002)"
      ]
     },
     "execution_count": 8,
     "metadata": {},
     "output_type": "execute_result"
    }
   ],
   "source": [
    "result = mk.original_test(df.P)\n",
    "result"
   ]
  },
  {
   "cell_type": "markdown",
   "id": "8de34f8a-a91c-4122-992c-004d671770e0",
   "metadata": {},
   "source": [
    "## Significant p-value!"
   ]
  },
  {
   "cell_type": "markdown",
   "id": "90060fdc-71d3-410f-8de3-9d513775b401",
   "metadata": {},
   "source": [
    "## Fit linear trend"
   ]
  },
  {
   "cell_type": "code",
   "execution_count": 9,
   "id": "fda3e2dd-f25a-4ac1-997f-67822bd2b3ca",
   "metadata": {},
   "outputs": [],
   "source": [
    "time = np.arange(len(df)) + 1\n",
    "df['time'] = time"
   ]
  },
  {
   "cell_type": "code",
   "execution_count": 10,
   "id": "15a54260-4161-4727-b18b-89d905295d7e",
   "metadata": {},
   "outputs": [],
   "source": [
    "formula = \"P ~ time\"\n",
    "mod_ols = smf.glm(formula=formula, data=df).fit()#, family=sm.families.Binomial()).fit()"
   ]
  },
  {
   "cell_type": "code",
   "execution_count": 12,
   "id": "31f186fc-d420-413c-a3fd-cc01d4810707",
   "metadata": {},
   "outputs": [
    {
     "data": {
      "text/html": [
       "<table class=\"simpletable\">\n",
       "<caption>Generalized Linear Model Regression Results</caption>\n",
       "<tr>\n",
       "  <th>Dep. Variable:</th>           <td>P</td>        <th>  No. Observations:  </th>  <td>    25</td>  \n",
       "</tr>\n",
       "<tr>\n",
       "  <th>Model:</th>                  <td>GLM</td>       <th>  Df Residuals:      </th>  <td>    23</td>  \n",
       "</tr>\n",
       "<tr>\n",
       "  <th>Model Family:</th>        <td>Gaussian</td>     <th>  Df Model:          </th>  <td>     1</td>  \n",
       "</tr>\n",
       "<tr>\n",
       "  <th>Link Function:</th>       <td>identity</td>     <th>  Scale:             </th> <td>0.0030759</td>\n",
       "</tr>\n",
       "<tr>\n",
       "  <th>Method:</th>                <td>IRLS</td>       <th>  Log-Likelihood:    </th> <td>  37.871</td> \n",
       "</tr>\n",
       "<tr>\n",
       "  <th>Date:</th>            <td>Mon, 09 May 2022</td> <th>  Deviance:          </th> <td>0.070746</td> \n",
       "</tr>\n",
       "<tr>\n",
       "  <th>Time:</th>                <td>10:11:20</td>     <th>  Pearson chi2:      </th>  <td>0.0707</td>  \n",
       "</tr>\n",
       "<tr>\n",
       "  <th>No. Iterations:</th>          <td>3</td>        <th>  Pseudo R-squ. (CS):</th>  <td>0.3368</td>  \n",
       "</tr>\n",
       "<tr>\n",
       "  <th>Covariance Type:</th>     <td>nonrobust</td>    <th>                     </th>     <td> </td>    \n",
       "</tr>\n",
       "</table>\n",
       "<table class=\"simpletable\">\n",
       "<tr>\n",
       "      <td></td>         <th>coef</th>     <th>std err</th>      <th>z</th>      <th>P>|z|</th>  <th>[0.025</th>    <th>0.975]</th>  \n",
       "</tr>\n",
       "<tr>\n",
       "  <th>Intercept</th> <td>    0.1775</td> <td>    0.023</td> <td>    7.764</td> <td> 0.000</td> <td>    0.133</td> <td>    0.222</td>\n",
       "</tr>\n",
       "<tr>\n",
       "  <th>time</th>      <td>   -0.0049</td> <td>    0.002</td> <td>   -3.191</td> <td> 0.001</td> <td>   -0.008</td> <td>   -0.002</td>\n",
       "</tr>\n",
       "</table>"
      ],
      "text/plain": [
       "<class 'statsmodels.iolib.summary.Summary'>\n",
       "\"\"\"\n",
       "                 Generalized Linear Model Regression Results                  \n",
       "==============================================================================\n",
       "Dep. Variable:                      P   No. Observations:                   25\n",
       "Model:                            GLM   Df Residuals:                       23\n",
       "Model Family:                Gaussian   Df Model:                            1\n",
       "Link Function:               identity   Scale:                       0.0030759\n",
       "Method:                          IRLS   Log-Likelihood:                 37.871\n",
       "Date:                Mon, 09 May 2022   Deviance:                     0.070746\n",
       "Time:                        10:11:20   Pearson chi2:                   0.0707\n",
       "No. Iterations:                     3   Pseudo R-squ. (CS):             0.3368\n",
       "Covariance Type:            nonrobust                                         \n",
       "==============================================================================\n",
       "                 coef    std err          z      P>|z|      [0.025      0.975]\n",
       "------------------------------------------------------------------------------\n",
       "Intercept      0.1775      0.023      7.764      0.000       0.133       0.222\n",
       "time          -0.0049      0.002     -3.191      0.001      -0.008      -0.002\n",
       "==============================================================================\n",
       "\"\"\""
      ]
     },
     "execution_count": 12,
     "metadata": {},
     "output_type": "execute_result"
    }
   ],
   "source": [
    "mod_ols.summary()"
   ]
  },
  {
   "cell_type": "code",
   "execution_count": 13,
   "id": "ed763112-2f52-49f3-bd1b-d047bef7982a",
   "metadata": {},
   "outputs": [
    {
     "data": {
      "text/plain": [
       "Intercept    8.259083e-15\n",
       "time         1.417712e-03\n",
       "dtype: float64"
      ]
     },
     "execution_count": 13,
     "metadata": {},
     "output_type": "execute_result"
    }
   ],
   "source": [
    "mod_ols.pvalues"
   ]
  },
  {
   "cell_type": "markdown",
   "id": "89c9044d-75e0-4be4-9d3e-12a7bfbcb798",
   "metadata": {},
   "source": [
    "----"
   ]
  },
  {
   "cell_type": "markdown",
   "id": "c6c73c02-2738-4e61-b9c8-30c97b0edc24",
   "metadata": {},
   "source": [
    "# Faux dataset"
   ]
  },
  {
   "cell_type": "code",
   "execution_count": 15,
   "id": "ee34a994-be1b-48f1-8a49-790fd131ad99",
   "metadata": {},
   "outputs": [
    {
     "data": {
      "text/html": [
       "<div>\n",
       "<style scoped>\n",
       "    .dataframe tbody tr th:only-of-type {\n",
       "        vertical-align: middle;\n",
       "    }\n",
       "\n",
       "    .dataframe tbody tr th {\n",
       "        vertical-align: top;\n",
       "    }\n",
       "\n",
       "    .dataframe thead th {\n",
       "        text-align: right;\n",
       "    }\n",
       "</style>\n",
       "<table border=\"1\" class=\"dataframe\">\n",
       "  <thead>\n",
       "    <tr style=\"text-align: right;\">\n",
       "      <th></th>\n",
       "      <th>year</th>\n",
       "      <th>month</th>\n",
       "      <th>dd</th>\n",
       "      <th>y</th>\n",
       "    </tr>\n",
       "  </thead>\n",
       "  <tbody>\n",
       "    <tr>\n",
       "      <th>0</th>\n",
       "      <td>2011</td>\n",
       "      <td>1</td>\n",
       "      <td>2011.08</td>\n",
       "      <td>0.31</td>\n",
       "    </tr>\n",
       "    <tr>\n",
       "      <th>1</th>\n",
       "      <td>2011</td>\n",
       "      <td>2</td>\n",
       "      <td>2011.15</td>\n",
       "      <td>0.38</td>\n",
       "    </tr>\n",
       "    <tr>\n",
       "      <th>2</th>\n",
       "      <td>2011</td>\n",
       "      <td>3</td>\n",
       "      <td>2011.23</td>\n",
       "      <td>0.41</td>\n",
       "    </tr>\n",
       "    <tr>\n",
       "      <th>3</th>\n",
       "      <td>2011</td>\n",
       "      <td>4</td>\n",
       "      <td>2011.31</td>\n",
       "      <td>0.39</td>\n",
       "    </tr>\n",
       "    <tr>\n",
       "      <th>4</th>\n",
       "      <td>2011</td>\n",
       "      <td>5</td>\n",
       "      <td>2011.38</td>\n",
       "      <td>0.31</td>\n",
       "    </tr>\n",
       "  </tbody>\n",
       "</table>\n",
       "</div>"
      ],
      "text/plain": [
       "   year  month       dd     y\n",
       "0  2011      1  2011.08  0.31\n",
       "1  2011      2  2011.15  0.38\n",
       "2  2011      3  2011.23  0.41\n",
       "3  2011      4  2011.31  0.39\n",
       "4  2011      5  2011.38  0.31"
      ]
     },
     "execution_count": 15,
     "metadata": {},
     "output_type": "execute_result"
    }
   ],
   "source": [
    "## Load\n",
    "\n",
    "data_file2 = '../Data/pollution_data_stationY.txt'\n",
    "df2 = pandas.read_table(data_file2, delim_whitespace=True)\n",
    "df2.head()"
   ]
  },
  {
   "cell_type": "markdown",
   "id": "d7c10c6d-b10a-420e-b56b-7e53b26ec49a",
   "metadata": {},
   "source": [
    "## Date"
   ]
  },
  {
   "cell_type": "code",
   "execution_count": 16,
   "id": "74130ffc-0c73-4786-831e-c3f1e137f523",
   "metadata": {},
   "outputs": [
    {
     "data": {
      "text/html": [
       "<div>\n",
       "<style scoped>\n",
       "    .dataframe tbody tr th:only-of-type {\n",
       "        vertical-align: middle;\n",
       "    }\n",
       "\n",
       "    .dataframe tbody tr th {\n",
       "        vertical-align: top;\n",
       "    }\n",
       "\n",
       "    .dataframe thead th {\n",
       "        text-align: right;\n",
       "    }\n",
       "</style>\n",
       "<table border=\"1\" class=\"dataframe\">\n",
       "  <thead>\n",
       "    <tr style=\"text-align: right;\">\n",
       "      <th></th>\n",
       "      <th>year</th>\n",
       "      <th>month</th>\n",
       "      <th>dd</th>\n",
       "      <th>y</th>\n",
       "    </tr>\n",
       "    <tr>\n",
       "      <th>date</th>\n",
       "      <th></th>\n",
       "      <th></th>\n",
       "      <th></th>\n",
       "      <th></th>\n",
       "    </tr>\n",
       "  </thead>\n",
       "  <tbody>\n",
       "    <tr>\n",
       "      <th>2011-01-01</th>\n",
       "      <td>2011</td>\n",
       "      <td>1</td>\n",
       "      <td>2011.08</td>\n",
       "      <td>0.31</td>\n",
       "    </tr>\n",
       "    <tr>\n",
       "      <th>2011-02-01</th>\n",
       "      <td>2011</td>\n",
       "      <td>2</td>\n",
       "      <td>2011.15</td>\n",
       "      <td>0.38</td>\n",
       "    </tr>\n",
       "    <tr>\n",
       "      <th>2011-03-01</th>\n",
       "      <td>2011</td>\n",
       "      <td>3</td>\n",
       "      <td>2011.23</td>\n",
       "      <td>0.41</td>\n",
       "    </tr>\n",
       "    <tr>\n",
       "      <th>2011-04-01</th>\n",
       "      <td>2011</td>\n",
       "      <td>4</td>\n",
       "      <td>2011.31</td>\n",
       "      <td>0.39</td>\n",
       "    </tr>\n",
       "    <tr>\n",
       "      <th>2011-05-01</th>\n",
       "      <td>2011</td>\n",
       "      <td>5</td>\n",
       "      <td>2011.38</td>\n",
       "      <td>0.31</td>\n",
       "    </tr>\n",
       "  </tbody>\n",
       "</table>\n",
       "</div>"
      ],
      "text/plain": [
       "            year  month       dd     y\n",
       "date                                  \n",
       "2011-01-01  2011      1  2011.08  0.31\n",
       "2011-02-01  2011      2  2011.15  0.38\n",
       "2011-03-01  2011      3  2011.23  0.41\n",
       "2011-04-01  2011      4  2011.31  0.39\n",
       "2011-05-01  2011      5  2011.38  0.31"
      ]
     },
     "execution_count": 16,
     "metadata": {},
     "output_type": "execute_result"
    }
   ],
   "source": [
    "dates = []\n",
    "for index, row in df2.iterrows():\n",
    "    dates.append(f'{int(row.year)}-{int(row.month)}')\n",
    "dates = pandas.to_datetime(dates)\n",
    "df2['date'] = dates\n",
    "df2.set_index('date', inplace=True)\n",
    "df2.head()"
   ]
  },
  {
   "cell_type": "markdown",
   "id": "c49776a3-5150-4b38-86e4-be1ace5b2510",
   "metadata": {},
   "source": [
    "## Plot"
   ]
  },
  {
   "cell_type": "code",
   "execution_count": 18,
   "id": "8968d079-9b71-4508-aa9e-3c546d302d80",
   "metadata": {},
   "outputs": [
    {
     "data": {
      "text/plain": [
       "<AxesSubplot:xlabel='date'>"
      ]
     },
     "execution_count": 18,
     "metadata": {},
     "output_type": "execute_result"
    },
    {
     "data": {
      "image/png": "[encoded data removed]",
      "text/plain": [
       "<Figure size 432x288 with 1 Axes>"
      ]
     },
     "metadata": {
      "needs_background": "light"
     },
     "output_type": "display_data"
    }
   ],
   "source": [
    "df2.y.plot()"
   ]
  },
  {
   "cell_type": "markdown",
   "id": "10b46d47-846a-47d8-963e-af4b94144d3d",
   "metadata": {},
   "source": [
    "## Fit with seasonal trend "
   ]
  },
  {
   "cell_type": "markdown",
   "id": "4927500f-9076-4dd9-b355-74fc14e1adae",
   "metadata": {},
   "source": [
    "### Dummies for seasonal"
   ]
  },
  {
   "cell_type": "code",
   "execution_count": 19,
   "id": "04bf47fc-a32a-4007-87c4-9f5111048876",
   "metadata": {},
   "outputs": [],
   "source": [
    "dummy = np.zeros((len(df2), 11), dtype=int)\n",
    "for i in np.arange(11):\n",
    "    for j in np.arange(len(df2)):\n",
    "        if df2.month.values[j] == i+1:\n",
    "            dummy[j,i] = 1"
   ]
  },
  {
   "cell_type": "code",
   "execution_count": 20,
   "id": "34111c59-9b43-4ff5-a53f-73ad8d574513",
   "metadata": {},
   "outputs": [],
   "source": [
    "dummies = []\n",
    "for idum in np.arange(11):\n",
    "    key = f'dum{idum}'\n",
    "    dummies.append(key)\n",
    "    df2[key] = dummy[:,idum]"
   ]
  },
  {
   "cell_type": "code",
   "execution_count": 23,
   "id": "04b5b2e7-cee9-45e7-8b73-3f01c0f563db",
   "metadata": {},
   "outputs": [
    {
     "data": {
      "text/html": [
       "<div>\n",
       "<style scoped>\n",
       "    .dataframe tbody tr th:only-of-type {\n",
       "        vertical-align: middle;\n",
       "    }\n",
       "\n",
       "    .dataframe tbody tr th {\n",
       "        vertical-align: top;\n",
       "    }\n",
       "\n",
       "    .dataframe thead th {\n",
       "        text-align: right;\n",
       "    }\n",
       "</style>\n",
       "<table border=\"1\" class=\"dataframe\">\n",
       "  <thead>\n",
       "    <tr style=\"text-align: right;\">\n",
       "      <th></th>\n",
       "      <th>year</th>\n",
       "      <th>month</th>\n",
       "      <th>dd</th>\n",
       "      <th>y</th>\n",
       "      <th>dum0</th>\n",
       "      <th>dum1</th>\n",
       "      <th>dum2</th>\n",
       "      <th>dum3</th>\n",
       "      <th>dum4</th>\n",
       "      <th>dum5</th>\n",
       "      <th>dum6</th>\n",
       "      <th>dum7</th>\n",
       "      <th>dum8</th>\n",
       "      <th>dum9</th>\n",
       "      <th>dum10</th>\n",
       "      <th>time</th>\n",
       "    </tr>\n",
       "    <tr>\n",
       "      <th>date</th>\n",
       "      <th></th>\n",
       "      <th></th>\n",
       "      <th></th>\n",
       "      <th></th>\n",
       "      <th></th>\n",
       "      <th></th>\n",
       "      <th></th>\n",
       "      <th></th>\n",
       "      <th></th>\n",
       "      <th></th>\n",
       "      <th></th>\n",
       "      <th></th>\n",
       "      <th></th>\n",
       "      <th></th>\n",
       "      <th></th>\n",
       "      <th></th>\n",
       "    </tr>\n",
       "  </thead>\n",
       "  <tbody>\n",
       "    <tr>\n",
       "      <th>2011-01-01</th>\n",
       "      <td>2011</td>\n",
       "      <td>1</td>\n",
       "      <td>2011.08</td>\n",
       "      <td>0.31</td>\n",
       "      <td>1</td>\n",
       "      <td>0</td>\n",
       "      <td>0</td>\n",
       "      <td>0</td>\n",
       "      <td>0</td>\n",
       "      <td>0</td>\n",
       "      <td>0</td>\n",
       "      <td>0</td>\n",
       "      <td>0</td>\n",
       "      <td>0</td>\n",
       "      <td>0</td>\n",
       "      <td>1</td>\n",
       "    </tr>\n",
       "    <tr>\n",
       "      <th>2011-02-01</th>\n",
       "      <td>2011</td>\n",
       "      <td>2</td>\n",
       "      <td>2011.15</td>\n",
       "      <td>0.38</td>\n",
       "      <td>0</td>\n",
       "      <td>1</td>\n",
       "      <td>0</td>\n",
       "      <td>0</td>\n",
       "      <td>0</td>\n",
       "      <td>0</td>\n",
       "      <td>0</td>\n",
       "      <td>0</td>\n",
       "      <td>0</td>\n",
       "      <td>0</td>\n",
       "      <td>0</td>\n",
       "      <td>2</td>\n",
       "    </tr>\n",
       "    <tr>\n",
       "      <th>2011-03-01</th>\n",
       "      <td>2011</td>\n",
       "      <td>3</td>\n",
       "      <td>2011.23</td>\n",
       "      <td>0.41</td>\n",
       "      <td>0</td>\n",
       "      <td>0</td>\n",
       "      <td>1</td>\n",
       "      <td>0</td>\n",
       "      <td>0</td>\n",
       "      <td>0</td>\n",
       "      <td>0</td>\n",
       "      <td>0</td>\n",
       "      <td>0</td>\n",
       "      <td>0</td>\n",
       "      <td>0</td>\n",
       "      <td>3</td>\n",
       "    </tr>\n",
       "    <tr>\n",
       "      <th>2011-04-01</th>\n",
       "      <td>2011</td>\n",
       "      <td>4</td>\n",
       "      <td>2011.31</td>\n",
       "      <td>0.39</td>\n",
       "      <td>0</td>\n",
       "      <td>0</td>\n",
       "      <td>0</td>\n",
       "      <td>1</td>\n",
       "      <td>0</td>\n",
       "      <td>0</td>\n",
       "      <td>0</td>\n",
       "      <td>0</td>\n",
       "      <td>0</td>\n",
       "      <td>0</td>\n",
       "      <td>0</td>\n",
       "      <td>4</td>\n",
       "    </tr>\n",
       "    <tr>\n",
       "      <th>2011-05-01</th>\n",
       "      <td>2011</td>\n",
       "      <td>5</td>\n",
       "      <td>2011.38</td>\n",
       "      <td>0.31</td>\n",
       "      <td>0</td>\n",
       "      <td>0</td>\n",
       "      <td>0</td>\n",
       "      <td>0</td>\n",
       "      <td>1</td>\n",
       "      <td>0</td>\n",
       "      <td>0</td>\n",
       "      <td>0</td>\n",
       "      <td>0</td>\n",
       "      <td>0</td>\n",
       "      <td>0</td>\n",
       "      <td>5</td>\n",
       "    </tr>\n",
       "  </tbody>\n",
       "</table>\n",
       "</div>"
      ],
      "text/plain": [
       "            year  month       dd     y  dum0  dum1  dum2  dum3  dum4  dum5  \\\n",
       "date                                                                         \n",
       "2011-01-01  2011      1  2011.08  0.31     1     0     0     0     0     0   \n",
       "2011-02-01  2011      2  2011.15  0.38     0     1     0     0     0     0   \n",
       "2011-03-01  2011      3  2011.23  0.41     0     0     1     0     0     0   \n",
       "2011-04-01  2011      4  2011.31  0.39     0     0     0     1     0     0   \n",
       "2011-05-01  2011      5  2011.38  0.31     0     0     0     0     1     0   \n",
       "\n",
       "            dum6  dum7  dum8  dum9  dum10  time  \n",
       "date                                             \n",
       "2011-01-01     0     0     0     0      0     1  \n",
       "2011-02-01     0     0     0     0      0     2  \n",
       "2011-03-01     0     0     0     0      0     3  \n",
       "2011-04-01     0     0     0     0      0     4  \n",
       "2011-05-01     0     0     0     0      0     5  "
      ]
     },
     "execution_count": 23,
     "metadata": {},
     "output_type": "execute_result"
    }
   ],
   "source": [
    "df2.head()"
   ]
  },
  {
   "cell_type": "markdown",
   "id": "3d8f5bd8-c8e5-49c7-b227-02044bbd1c04",
   "metadata": {},
   "source": [
    "### Time"
   ]
  },
  {
   "cell_type": "code",
   "execution_count": 21,
   "id": "5bb73f25-d946-412a-8f38-0c26e2d99735",
   "metadata": {},
   "outputs": [],
   "source": [
    "time = np.arange(len(df2)) + 1\n",
    "df2['time'] = time"
   ]
  },
  {
   "cell_type": "markdown",
   "id": "298e0bf0-1ed5-47d8-aa02-ec06b5c1e017",
   "metadata": {},
   "source": [
    "### Fit"
   ]
  },
  {
   "cell_type": "code",
   "execution_count": 24,
   "id": "b3d92ac5-d829-412c-9885-a87042a2220f",
   "metadata": {},
   "outputs": [],
   "source": [
    "formula = \"y ~ dum0 + dum1 + dum2 + dum3 + dum4 + dum5 + dum6 + dum7 + dum8 + dum9 + dum10 + time\"\n",
    "ols2 = smf.glm(formula=formula, data=df2).fit()#, family=sm.families.Binomial()).fit()"
   ]
  },
  {
   "cell_type": "code",
   "execution_count": 25,
   "id": "80244029-4fb9-4e65-b9a1-9731fda6e8c4",
   "metadata": {},
   "outputs": [
    {
     "data": {
      "text/html": [
       "<table class=\"simpletable\">\n",
       "<caption>Generalized Linear Model Regression Results</caption>\n",
       "<tr>\n",
       "  <th>Dep. Variable:</th>           <td>y</td>        <th>  No. Observations:  </th>   <td>   120</td>  \n",
       "</tr>\n",
       "<tr>\n",
       "  <th>Model:</th>                  <td>GLM</td>       <th>  Df Residuals:      </th>   <td>   107</td>  \n",
       "</tr>\n",
       "<tr>\n",
       "  <th>Model Family:</th>        <td>Gaussian</td>     <th>  Df Model:          </th>   <td>    12</td>  \n",
       "</tr>\n",
       "<tr>\n",
       "  <th>Link Function:</th>       <td>identity</td>     <th>  Scale:             </th> <td>0.00042150</td>\n",
       "</tr>\n",
       "<tr>\n",
       "  <th>Method:</th>                <td>IRLS</td>       <th>  Log-Likelihood:    </th>  <td>  302.91</td> \n",
       "</tr>\n",
       "<tr>\n",
       "  <th>Date:</th>            <td>Mon, 09 May 2022</td> <th>  Deviance:          </th>  <td>0.045100</td> \n",
       "</tr>\n",
       "<tr>\n",
       "  <th>Time:</th>                <td>10:16:14</td>     <th>  Pearson chi2:      </th>   <td>0.0451</td>  \n",
       "</tr>\n",
       "<tr>\n",
       "  <th>No. Iterations:</th>          <td>3</td>        <th>  Pseudo R-squ. (CS):</th>   <td> 1.000</td>  \n",
       "</tr>\n",
       "<tr>\n",
       "  <th>Covariance Type:</th>     <td>nonrobust</td>    <th>                     </th>      <td> </td>    \n",
       "</tr>\n",
       "</table>\n",
       "<table class=\"simpletable\">\n",
       "<tr>\n",
       "      <td></td>         <th>coef</th>     <th>std err</th>      <th>z</th>      <th>P>|z|</th>  <th>[0.025</th>    <th>0.975]</th>  \n",
       "</tr>\n",
       "<tr>\n",
       "  <th>Intercept</th> <td>    0.2094</td> <td>    0.007</td> <td>   28.223</td> <td> 0.000</td> <td>    0.195</td> <td>    0.224</td>\n",
       "</tr>\n",
       "<tr>\n",
       "  <th>dum0</th>      <td>    0.0963</td> <td>    0.009</td> <td>   10.463</td> <td> 0.000</td> <td>    0.078</td> <td>    0.114</td>\n",
       "</tr>\n",
       "<tr>\n",
       "  <th>dum1</th>      <td>    0.1772</td> <td>    0.009</td> <td>   19.261</td> <td> 0.000</td> <td>    0.159</td> <td>    0.195</td>\n",
       "</tr>\n",
       "<tr>\n",
       "  <th>dum2</th>      <td>    0.1930</td> <td>    0.009</td> <td>   20.995</td> <td> 0.000</td> <td>    0.175</td> <td>    0.211</td>\n",
       "</tr>\n",
       "<tr>\n",
       "  <th>dum3</th>      <td>    0.1719</td> <td>    0.009</td> <td>   18.704</td> <td> 0.000</td> <td>    0.154</td> <td>    0.190</td>\n",
       "</tr>\n",
       "<tr>\n",
       "  <th>dum4</th>      <td>    0.1018</td> <td>    0.009</td> <td>   11.079</td> <td> 0.000</td> <td>    0.084</td> <td>    0.120</td>\n",
       "</tr>\n",
       "<tr>\n",
       "  <th>dum5</th>      <td>    0.0007</td> <td>    0.009</td> <td>    0.076</td> <td> 0.940</td> <td>   -0.017</td> <td>    0.019</td>\n",
       "</tr>\n",
       "<tr>\n",
       "  <th>dum6</th>      <td>   -0.1034</td> <td>    0.009</td> <td>  -11.259</td> <td> 0.000</td> <td>   -0.121</td> <td>   -0.085</td>\n",
       "</tr>\n",
       "<tr>\n",
       "  <th>dum7</th>      <td>   -0.1645</td> <td>    0.009</td> <td>  -17.916</td> <td> 0.000</td> <td>   -0.183</td> <td>   -0.147</td>\n",
       "</tr>\n",
       "<tr>\n",
       "  <th>dum8</th>      <td>   -0.1997</td> <td>    0.009</td> <td>  -21.742</td> <td> 0.000</td> <td>   -0.218</td> <td>   -0.182</td>\n",
       "</tr>\n",
       "<tr>\n",
       "  <th>dum9</th>      <td>   -0.1568</td> <td>    0.009</td> <td>  -17.073</td> <td> 0.000</td> <td>   -0.175</td> <td>   -0.139</td>\n",
       "</tr>\n",
       "<tr>\n",
       "  <th>dum10</th>     <td>   -0.1059</td> <td>    0.009</td> <td>  -11.532</td> <td> 0.000</td> <td>   -0.124</td> <td>   -0.088</td>\n",
       "</tr>\n",
       "<tr>\n",
       "  <th>time</th>      <td>    0.0011</td> <td> 5.44e-05</td> <td>   20.519</td> <td> 0.000</td> <td>    0.001</td> <td>    0.001</td>\n",
       "</tr>\n",
       "</table>"
      ],
      "text/plain": [
       "<class 'statsmodels.iolib.summary.Summary'>\n",
       "\"\"\"\n",
       "                 Generalized Linear Model Regression Results                  \n",
       "==============================================================================\n",
       "Dep. Variable:                      y   No. Observations:                  120\n",
       "Model:                            GLM   Df Residuals:                      107\n",
       "Model Family:                Gaussian   Df Model:                           12\n",
       "Link Function:               identity   Scale:                      0.00042150\n",
       "Method:                          IRLS   Log-Likelihood:                 302.91\n",
       "Date:                Mon, 09 May 2022   Deviance:                     0.045100\n",
       "Time:                        10:16:14   Pearson chi2:                   0.0451\n",
       "No. Iterations:                     3   Pseudo R-squ. (CS):              1.000\n",
       "Covariance Type:            nonrobust                                         \n",
       "==============================================================================\n",
       "                 coef    std err          z      P>|z|      [0.025      0.975]\n",
       "------------------------------------------------------------------------------\n",
       "Intercept      0.2094      0.007     28.223      0.000       0.195       0.224\n",
       "dum0           0.0963      0.009     10.463      0.000       0.078       0.114\n",
       "dum1           0.1772      0.009     19.261      0.000       0.159       0.195\n",
       "dum2           0.1930      0.009     20.995      0.000       0.175       0.211\n",
       "dum3           0.1719      0.009     18.704      0.000       0.154       0.190\n",
       "dum4           0.1018      0.009     11.079      0.000       0.084       0.120\n",
       "dum5           0.0007      0.009      0.076      0.940      -0.017       0.019\n",
       "dum6          -0.1034      0.009    -11.259      0.000      -0.121      -0.085\n",
       "dum7          -0.1645      0.009    -17.916      0.000      -0.183      -0.147\n",
       "dum8          -0.1997      0.009    -21.742      0.000      -0.218      -0.182\n",
       "dum9          -0.1568      0.009    -17.073      0.000      -0.175      -0.139\n",
       "dum10         -0.1059      0.009    -11.532      0.000      -0.124      -0.088\n",
       "time           0.0011   5.44e-05     20.519      0.000       0.001       0.001\n",
       "==============================================================================\n",
       "\"\"\""
      ]
     },
     "execution_count": 25,
     "metadata": {},
     "output_type": "execute_result"
    }
   ],
   "source": [
    "ols2.summary()"
   ]
  },
  {
   "cell_type": "markdown",
   "id": "61b7846b-9d4e-4bc9-9bc8-ed09311238e6",
   "metadata": {},
   "source": [
    "## Plot"
   ]
  },
  {
   "cell_type": "code",
   "execution_count": 31,
   "id": "74b52534-1b7a-405c-805e-807378ea883e",
   "metadata": {},
   "outputs": [],
   "source": [
    "df2['ols'] = ols2.fittedvalues"
   ]
  },
  {
   "cell_type": "code",
   "execution_count": 33,
   "id": "fcf60baf-4614-4240-8336-d1a45aaedb1a",
   "metadata": {},
   "outputs": [
    {
     "data": {
      "text/plain": [
       "<matplotlib.legend.Legend at 0x7fdcf38a2310>"
      ]
     },
     "execution_count": 33,
     "metadata": {},
     "output_type": "execute_result"
    },
    {
     "data": {
      "image/png": "[encoded data removed]",
      "text/plain": [
       "<Figure size 864x648 with 1 Axes>"
      ]
     },
     "metadata": {
      "needs_background": "light"
     },
     "output_type": "display_data"
    }
   ],
   "source": [
    "fig = plt.figure()\n",
    "fig.set_size_inches((12, 9))\n",
    "ax = df2.y.plot(ylabel='y', label='data', marker='o', ls='')\n",
    "#\n",
    "df2.ols.plot(ax=ax, color='k', label='model')\n",
    "#\n",
    "ax.legend(fontsize=15)\n",
    "#\n",
    "#set_fontsize(ax, 17)"
   ]
  },
  {
   "cell_type": "markdown",
   "id": "f528b6ca-f04f-4668-81e9-66fb7ee9c2a3",
   "metadata": {},
   "source": [
    "## Explore residuals"
   ]
  },
  {
   "cell_type": "markdown",
   "id": "d91f3c04-c832-4bbc-9515-d549daae2f18",
   "metadata": {},
   "source": [
    "### Durbin-Watson"
   ]
  },
  {
   "cell_type": "code",
   "execution_count": 27,
   "id": "aabed231-16a9-4df4-8a7b-d976a30e7c45",
   "metadata": {},
   "outputs": [],
   "source": [
    "resids = df2.y-ols2.fittedvalues"
   ]
  },
  {
   "cell_type": "code",
   "execution_count": 28,
   "id": "f6a106e3-ab0f-465d-ae3f-822242130beb",
   "metadata": {},
   "outputs": [
    {
     "data": {
      "text/plain": [
       "2.043722938390377"
      ]
     },
     "execution_count": 28,
     "metadata": {},
     "output_type": "execute_result"
    }
   ],
   "source": [
    "durbin_watson(resids)"
   ]
  },
  {
   "cell_type": "markdown",
   "id": "65dea909-3ac7-495f-993c-6a929bc69c0a",
   "metadata": {},
   "source": [
    "### Shapiro"
   ]
  },
  {
   "cell_type": "code",
   "execution_count": 30,
   "id": "fc65eea4-9774-4db2-aafe-dfd001fb254e",
   "metadata": {},
   "outputs": [
    {
     "data": {
      "text/plain": [
       "ShapiroResult(statistic=0.763434886932373, pvalue=1.264496753833333e-12)"
      ]
     },
     "execution_count": 30,
     "metadata": {},
     "output_type": "execute_result"
    }
   ],
   "source": [
    "shapiro(resids)"
   ]
  },
  {
   "cell_type": "markdown",
   "id": "38878c38-a09f-46cb-9a07-97ccc2207c94",
   "metadata": {},
   "source": [
    "### Not normal!!"
   ]
  },
  {
   "cell_type": "markdown",
   "id": "66fc24a9-2db3-429e-881f-5ead8d9f4ab7",
   "metadata": {},
   "source": [
    "## Try a Seasonal MK test!"
   ]
  },
  {
   "cell_type": "code",
   "execution_count": 38,
   "id": "d4d11524-d77a-408a-a060-671938db845b",
   "metadata": {},
   "outputs": [],
   "source": [
    "mk2_results = mk.seasonal_test(df2.y, period=12)"
   ]
  },
  {
   "cell_type": "code",
   "execution_count": 39,
   "id": "fc65a4b8-b862-4e49-a37b-8f05c63d4750",
   "metadata": {},
   "outputs": [
    {
     "data": {
      "text/plain": [
       "Seasonal_Mann_Kendall_Test(trend='increasing', h=True, p=0.0, z=11.917227506518133, Tau=0.85, s=459.0, var_s=1477.0, slope=0.013333333333333327, intercept=0.20888888888888896)"
      ]
     },
     "execution_count": 39,
     "metadata": {},
     "output_type": "execute_result"
    }
   ],
   "source": [
    "mk2_results"
   ]
  },
  {
   "cell_type": "code",
   "execution_count": null,
   "id": "05b9b6c6-85d4-44d6-9d93-f501a0d3abc5",
   "metadata": {},
   "outputs": [],
   "source": []
  }
 ],
 "metadata": {
  "kernelspec": {
   "display_name": "Python 3 (ipykernel)",
   "language": "python",
   "name": "python3"
  },
  "language_info": {
   "codemirror_mode": {
    "name": "ipython",
    "version": 3
   },
   "file_extension": ".py",
   "mimetype": "text/x-python",
   "name": "python",
   "nbconvert_exporter": "python",
   "pygments_lexer": "ipython3",
   "version": "3.9.7"
  }
 },
 "nbformat": 4,
 "nbformat_minor": 5
}
