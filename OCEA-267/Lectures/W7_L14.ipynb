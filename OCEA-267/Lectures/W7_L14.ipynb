{
 "cells": [
  {
   "cell_type": "markdown",
   "id": "5ec839a2-328c-4f55-a5f9-e20b5b666b97",
   "metadata": {},
   "source": [
    "# Week 7, Lecture 14 Exercise"
   ]
  },
  {
   "cell_type": "code",
   "execution_count": 1,
   "id": "ab7bb174-d9cd-425a-856a-1df07fbc3dcd",
   "metadata": {},
   "outputs": [],
   "source": [
    "# imports\n",
    "import numpy as np\n",
    "from scipy.ndimage import uniform_filter1d\n",
    "from scipy.stats import shapiro, bartlett\n",
    "from matplotlib import pyplot as plt\n",
    "import pandas\n",
    "\n",
    "from statsmodels.tsa.seasonal import seasonal_decompose\n",
    "import statsmodels.api as sm\n",
    "from statsmodels.stats.stattools import durbin_watson\n",
    "import statsmodels.formula.api as smf\n",
    "from statsmodels.graphics.tsaplots import plot_acf, plot_pacf\n",
    "from statsmodels.tsa.stattools import pacf\n",
    "\n",
    "import pymannkendall as mk"
   ]
  },
  {
   "cell_type": "markdown",
   "id": "e74e6058-d2c2-462e-bbb6-f7ca4ce06351",
   "metadata": {},
   "source": [
    "# Changepoint software for Python\n",
    "\n",
    "## https://github.com/deepcharles/ruptures\n",
    "\n",
    "## https://github.com/shunsukeaihara/changefinder"
   ]
  },
  {
   "cell_type": "markdown",
   "id": "c2c916f0-4512-4498-b0c6-c74b71b6b0ae",
   "metadata": {},
   "source": [
    "----"
   ]
  },
  {
   "cell_type": "markdown",
   "id": "350560b8-b80f-48c2-9414-ebec9a7f31c3",
   "metadata": {},
   "source": [
    "# Exercise"
   ]
  },
  {
   "cell_type": "markdown",
   "id": "627d4224-0c52-46bc-9e59-0290abd27a98",
   "metadata": {},
   "source": [
    "## Load data"
   ]
  },
  {
   "cell_type": "code",
   "execution_count": 4,
   "id": "3e3104ac-f1f4-4d5d-b06b-b9c0d9d61a5f",
   "metadata": {},
   "outputs": [
    {
     "data": {
      "text/html": [
       "<div>\n",
       "<style scoped>\n",
       "    .dataframe tbody tr th:only-of-type {\n",
       "        vertical-align: middle;\n",
       "    }\n",
       "\n",
       "    .dataframe tbody tr th {\n",
       "        vertical-align: top;\n",
       "    }\n",
       "\n",
       "    .dataframe thead th {\n",
       "        text-align: right;\n",
       "    }\n",
       "</style>\n",
       "<table border=\"1\" class=\"dataframe\">\n",
       "  <thead>\n",
       "    <tr style=\"text-align: right;\">\n",
       "      <th></th>\n",
       "      <th>Year</th>\n",
       "      <th>Mean</th>\n",
       "    </tr>\n",
       "  </thead>\n",
       "  <tbody>\n",
       "    <tr>\n",
       "      <th>0</th>\n",
       "      <td>2000</td>\n",
       "      <td>14.081182</td>\n",
       "    </tr>\n",
       "    <tr>\n",
       "      <th>1</th>\n",
       "      <td>2001</td>\n",
       "      <td>14.428510</td>\n",
       "    </tr>\n",
       "    <tr>\n",
       "      <th>2</th>\n",
       "      <td>2002</td>\n",
       "      <td>14.950187</td>\n",
       "    </tr>\n",
       "    <tr>\n",
       "      <th>3</th>\n",
       "      <td>2003</td>\n",
       "      <td>12.644606</td>\n",
       "    </tr>\n",
       "    <tr>\n",
       "      <th>4</th>\n",
       "      <td>2004</td>\n",
       "      <td>12.244171</td>\n",
       "    </tr>\n",
       "  </tbody>\n",
       "</table>\n",
       "</div>"
      ],
      "text/plain": [
       "   Year       Mean\n",
       "0  2000  14.081182\n",
       "1  2001  14.428510\n",
       "2  2002  14.950187\n",
       "3  2003  12.644606\n",
       "4  2004  12.244171"
      ]
     },
     "execution_count": 4,
     "metadata": {},
     "output_type": "execute_result"
    }
   ],
   "source": [
    "df = pandas.read_csv('../Data/PM25West.csv')\n",
    "df.head()"
   ]
  },
  {
   "cell_type": "markdown",
   "id": "46c3240a-4683-4f11-9ace-b26ac132bd3a",
   "metadata": {},
   "source": [
    "## Index"
   ]
  },
  {
   "cell_type": "code",
   "execution_count": 5,
   "id": "11b89b57-053e-4ef5-b961-da1425635078",
   "metadata": {},
   "outputs": [
    {
     "data": {
      "text/html": [
       "<div>\n",
       "<style scoped>\n",
       "    .dataframe tbody tr th:only-of-type {\n",
       "        vertical-align: middle;\n",
       "    }\n",
       "\n",
       "    .dataframe tbody tr th {\n",
       "        vertical-align: top;\n",
       "    }\n",
       "\n",
       "    .dataframe thead th {\n",
       "        text-align: right;\n",
       "    }\n",
       "</style>\n",
       "<table border=\"1\" class=\"dataframe\">\n",
       "  <thead>\n",
       "    <tr style=\"text-align: right;\">\n",
       "      <th></th>\n",
       "      <th>Mean</th>\n",
       "    </tr>\n",
       "    <tr>\n",
       "      <th>Year</th>\n",
       "      <th></th>\n",
       "    </tr>\n",
       "  </thead>\n",
       "  <tbody>\n",
       "    <tr>\n",
       "      <th>2000</th>\n",
       "      <td>14.081182</td>\n",
       "    </tr>\n",
       "    <tr>\n",
       "      <th>2001</th>\n",
       "      <td>14.428510</td>\n",
       "    </tr>\n",
       "    <tr>\n",
       "      <th>2002</th>\n",
       "      <td>14.950187</td>\n",
       "    </tr>\n",
       "    <tr>\n",
       "      <th>2003</th>\n",
       "      <td>12.644606</td>\n",
       "    </tr>\n",
       "    <tr>\n",
       "      <th>2004</th>\n",
       "      <td>12.244171</td>\n",
       "    </tr>\n",
       "  </tbody>\n",
       "</table>\n",
       "</div>"
      ],
      "text/plain": [
       "           Mean\n",
       "Year           \n",
       "2000  14.081182\n",
       "2001  14.428510\n",
       "2002  14.950187\n",
       "2003  12.644606\n",
       "2004  12.244171"
      ]
     },
     "execution_count": 5,
     "metadata": {},
     "output_type": "execute_result"
    }
   ],
   "source": [
    "df.set_index('Year', inplace=True)\n",
    "df.head()"
   ]
  },
  {
   "cell_type": "markdown",
   "id": "d2a16715-7154-4037-8653-99dceeadc9a6",
   "metadata": {},
   "source": [
    "## Plot"
   ]
  },
  {
   "cell_type": "code",
   "execution_count": 8,
   "id": "54080925-668a-432b-9f90-3aa997abce90",
   "metadata": {},
   "outputs": [
    {
     "data": {
      "text/plain": [
       "<AxesSubplot:xlabel='Year'>"
      ]
     },
     "execution_count": 8,
     "metadata": {},
     "output_type": "execute_result"
    },
    {
     "data": {
      "image/png": "[encoded data removed]",
      "text/plain": [
       "<Figure size 432x288 with 1 Axes>"
      ]
     },
     "metadata": {
      "needs_background": "light"
     },
     "output_type": "display_data"
    }
   ],
   "source": [
    "df.Mean.plot(marker='o', ls='')"
   ]
  },
  {
   "cell_type": "markdown",
   "id": "1d177bc4-b803-48c0-af80-73fa25c53f89",
   "metadata": {},
   "source": [
    "## Fit a simple linear trend"
   ]
  },
  {
   "cell_type": "code",
   "execution_count": 9,
   "id": "cf2c7515-9ce4-4cf1-a990-00e5cb38110b",
   "metadata": {},
   "outputs": [],
   "source": [
    "time = np.arange(len(df)) + 1\n",
    "df['time'] = time"
   ]
  },
  {
   "cell_type": "code",
   "execution_count": 11,
   "id": "06881d40-4182-43bf-b751-2954915ac746",
   "metadata": {},
   "outputs": [
    {
     "data": {
      "text/html": [
       "<table class=\"simpletable\">\n",
       "<caption>Generalized Linear Model Regression Results</caption>\n",
       "<tr>\n",
       "  <th>Dep. Variable:</th>         <td>Mean</td>       <th>  No. Observations:  </th>  <td>    20</td> \n",
       "</tr>\n",
       "<tr>\n",
       "  <th>Model:</th>                  <td>GLM</td>       <th>  Df Residuals:      </th>  <td>    18</td> \n",
       "</tr>\n",
       "<tr>\n",
       "  <th>Model Family:</th>        <td>Gaussian</td>     <th>  Df Model:          </th>  <td>     1</td> \n",
       "</tr>\n",
       "<tr>\n",
       "  <th>Link Function:</th>       <td>identity</td>     <th>  Scale:             </th> <td>  1.0735</td>\n",
       "</tr>\n",
       "<tr>\n",
       "  <th>Method:</th>                <td>IRLS</td>       <th>  Log-Likelihood:    </th> <td> -28.035</td>\n",
       "</tr>\n",
       "<tr>\n",
       "  <th>Date:</th>            <td>Wed, 11 May 2022</td> <th>  Deviance:          </th> <td>  19.324</td>\n",
       "</tr>\n",
       "<tr>\n",
       "  <th>Time:</th>                <td>10:03:37</td>     <th>  Pearson chi2:      </th>  <td>  19.3</td> \n",
       "</tr>\n",
       "<tr>\n",
       "  <th>No. Iterations:</th>          <td>3</td>        <th>  Pseudo R-squ. (CS):</th>  <td>0.8986</td> \n",
       "</tr>\n",
       "<tr>\n",
       "  <th>Covariance Type:</th>     <td>nonrobust</td>    <th>                     </th>     <td> </td>   \n",
       "</tr>\n",
       "</table>\n",
       "<table class=\"simpletable\">\n",
       "<tr>\n",
       "      <td></td>         <th>coef</th>     <th>std err</th>      <th>z</th>      <th>P>|z|</th>  <th>[0.025</th>    <th>0.975]</th>  \n",
       "</tr>\n",
       "<tr>\n",
       "  <th>Intercept</th> <td>   13.9398</td> <td>    0.481</td> <td>   28.962</td> <td> 0.000</td> <td>   12.996</td> <td>   14.883</td>\n",
       "</tr>\n",
       "<tr>\n",
       "  <th>time</th>      <td>   -0.2715</td> <td>    0.040</td> <td>   -6.758</td> <td> 0.000</td> <td>   -0.350</td> <td>   -0.193</td>\n",
       "</tr>\n",
       "</table>"
      ],
      "text/plain": [
       "<class 'statsmodels.iolib.summary.Summary'>\n",
       "\"\"\"\n",
       "                 Generalized Linear Model Regression Results                  \n",
       "==============================================================================\n",
       "Dep. Variable:                   Mean   No. Observations:                   20\n",
       "Model:                            GLM   Df Residuals:                       18\n",
       "Model Family:                Gaussian   Df Model:                            1\n",
       "Link Function:               identity   Scale:                          1.0735\n",
       "Method:                          IRLS   Log-Likelihood:                -28.035\n",
       "Date:                Wed, 11 May 2022   Deviance:                       19.324\n",
       "Time:                        10:03:37   Pearson chi2:                     19.3\n",
       "No. Iterations:                     3   Pseudo R-squ. (CS):             0.8986\n",
       "Covariance Type:            nonrobust                                         \n",
       "==============================================================================\n",
       "                 coef    std err          z      P>|z|      [0.025      0.975]\n",
       "------------------------------------------------------------------------------\n",
       "Intercept     13.9398      0.481     28.962      0.000      12.996      14.883\n",
       "time          -0.2715      0.040     -6.758      0.000      -0.350      -0.193\n",
       "==============================================================================\n",
       "\"\"\""
      ]
     },
     "execution_count": 11,
     "metadata": {},
     "output_type": "execute_result"
    }
   ],
   "source": [
    "formula = \"Mean ~ time\"\n",
    "mod_ols = smf.glm(formula=formula, data=df).fit()#, family=sm.families.Binomial()).fit()\n",
    "mod_ols.summary()"
   ]
  },
  {
   "cell_type": "code",
   "execution_count": 12,
   "id": "4e898764-48af-45b2-85e7-639d78deae91",
   "metadata": {},
   "outputs": [
    {
     "data": {
      "text/plain": [
       "Intercept    1.975574e-184\n",
       "time          1.399374e-11\n",
       "dtype: float64"
      ]
     },
     "execution_count": 12,
     "metadata": {},
     "output_type": "execute_result"
    }
   ],
   "source": [
    "mod_ols.pvalues"
   ]
  },
  {
   "cell_type": "markdown",
   "id": "f8b3527c-5916-4a16-96b0-1274c656637f",
   "metadata": {},
   "source": [
    "## Examine Residuals"
   ]
  },
  {
   "cell_type": "markdown",
   "id": "7072f0a0-1826-4c0c-9fdf-de6db15b9779",
   "metadata": {},
   "source": [
    "### Independence?"
   ]
  },
  {
   "cell_type": "code",
   "execution_count": 13,
   "id": "d78dddee-edcf-425f-8ae0-9611ab6d265e",
   "metadata": {},
   "outputs": [],
   "source": [
    "resids = df.Mean-mod_ols.fittedvalues"
   ]
  },
  {
   "cell_type": "code",
   "execution_count": 14,
   "id": "67027522-5e51-4840-8168-d53dff5432f0",
   "metadata": {},
   "outputs": [
    {
     "data": {
      "text/plain": [
       "1.253820752322077"
      ]
     },
     "execution_count": 14,
     "metadata": {},
     "output_type": "execute_result"
    }
   ],
   "source": [
    "durbin_watson(resids)"
   ]
  },
  {
   "cell_type": "markdown",
   "id": "0a7454e1-94ae-4f22-9cf3-db278832166d",
   "metadata": {},
   "source": [
    "#### Suggestive of some autocorrelation, let's check!"
   ]
  },
  {
   "cell_type": "code",
   "execution_count": 15,
   "id": "ea9e9b41-0467-4008-a341-bdd5a12e735f",
   "metadata": {},
   "outputs": [
    {
     "data": {
      "image/png": "[encoded data removed]",
      "text/plain": [
       "<Figure size 432x288 with 1 Axes>"
      ]
     },
     "metadata": {
      "needs_background": "light"
     },
     "output_type": "display_data"
    }
   ],
   "source": [
    "_ = plot_acf(df.Mean.values, lags=10)#, ax=ax)"
   ]
  },
  {
   "cell_type": "code",
   "execution_count": 19,
   "id": "539888aa-55d4-4f52-b158-5f45ce003b5d",
   "metadata": {},
   "outputs": [
    {
     "data": {
      "image/png": "[encoded data removed]",
      "text/plain": [
       "<Figure size 432x288 with 1 Axes>"
      ]
     },
     "metadata": {
      "needs_background": "light"
     },
     "output_type": "display_data"
    }
   ],
   "source": [
    "_ = plot_pacf(df.Mean.values, lags=7)#, ax=ax)"
   ]
  },
  {
   "cell_type": "markdown",
   "id": "1d62053b-6622-49d2-91b0-df8fe2fbdbc1",
   "metadata": {},
   "source": [
    "#### Yes, we find evidence for a correlation.  Let's proceed accordingly"
   ]
  },
  {
   "cell_type": "markdown",
   "id": "9ca0f402-0c1d-4d7e-b775-b6f78b104add",
   "metadata": {},
   "source": [
    "## Generalized LS Fit"
   ]
  },
  {
   "cell_type": "code",
   "execution_count": 31,
   "id": "75288f4a-fd0c-4d18-a8ca-c13456e4230e",
   "metadata": {},
   "outputs": [],
   "source": [
    "endog = pandas.DataFrame()\n",
    "endog['time'] = time\n",
    "endog['intercept'] = 1."
   ]
  },
  {
   "cell_type": "code",
   "execution_count": 32,
   "id": "8ab710f7-199a-4d1a-a1ee-9910838acb08",
   "metadata": {},
   "outputs": [
    {
     "name": "stderr",
     "output_type": "stream",
     "text": [
      "/home/xavier/miniconda3/lib/python3.9/site-packages/scipy/stats/stats.py:1541: UserWarning: kurtosistest only valid for n>=20 ... continuing anyway, n=19\n",
      "  warnings.warn(\"kurtosistest only valid for n>=20 ... continuing \"\n"
     ]
    },
    {
     "data": {
      "text/html": [
       "<table class=\"simpletable\">\n",
       "<caption>GLSAR Regression Results</caption>\n",
       "<tr>\n",
       "  <th>Dep. Variable:</th>            <td>y</td>        <th>  R-squared:         </th> <td>   0.481</td>\n",
       "</tr>\n",
       "<tr>\n",
       "  <th>Model:</th>                  <td>GLSAR</td>      <th>  Adj. R-squared:    </th> <td>   0.450</td>\n",
       "</tr>\n",
       "<tr>\n",
       "  <th>Method:</th>             <td>Least Squares</td>  <th>  F-statistic:       </th> <td>   15.73</td>\n",
       "</tr>\n",
       "<tr>\n",
       "  <th>Date:</th>             <td>Wed, 11 May 2022</td> <th>  Prob (F-statistic):</th> <td>0.000998</td>\n",
       "</tr>\n",
       "<tr>\n",
       "  <th>Time:</th>                 <td>10:17:03</td>     <th>  Log-Likelihood:    </th> <td> -25.646</td>\n",
       "</tr>\n",
       "<tr>\n",
       "  <th>No. Observations:</th>      <td>    19</td>      <th>  AIC:               </th> <td>   55.29</td>\n",
       "</tr>\n",
       "<tr>\n",
       "  <th>Df Residuals:</th>          <td>    17</td>      <th>  BIC:               </th> <td>   57.18</td>\n",
       "</tr>\n",
       "<tr>\n",
       "  <th>Df Model:</th>              <td>     1</td>      <th>                     </th>     <td> </td>   \n",
       "</tr>\n",
       "<tr>\n",
       "  <th>Covariance Type:</th>      <td>nonrobust</td>    <th>                     </th>     <td> </td>   \n",
       "</tr>\n",
       "</table>\n",
       "<table class=\"simpletable\">\n",
       "<tr>\n",
       "      <td></td>         <th>coef</th>     <th>std err</th>      <th>t</th>      <th>P>|t|</th>  <th>[0.025</th>    <th>0.975]</th>  \n",
       "</tr>\n",
       "<tr>\n",
       "  <th>time</th>      <td>   -0.2645</td> <td>    0.067</td> <td>   -3.966</td> <td> 0.001</td> <td>   -0.405</td> <td>   -0.124</td>\n",
       "</tr>\n",
       "<tr>\n",
       "  <th>intercept</th> <td>   13.8092</td> <td>    0.856</td> <td>   16.125</td> <td> 0.000</td> <td>   12.002</td> <td>   15.616</td>\n",
       "</tr>\n",
       "</table>\n",
       "<table class=\"simpletable\">\n",
       "<tr>\n",
       "  <th>Omnibus:</th>       <td> 1.830</td> <th>  Durbin-Watson:     </th> <td>   1.827</td>\n",
       "</tr>\n",
       "<tr>\n",
       "  <th>Prob(Omnibus):</th> <td> 0.401</td> <th>  Jarque-Bera (JB):  </th> <td>   1.003</td>\n",
       "</tr>\n",
       "<tr>\n",
       "  <th>Skew:</th>          <td> 0.563</td> <th>  Prob(JB):          </th> <td>   0.606</td>\n",
       "</tr>\n",
       "<tr>\n",
       "  <th>Kurtosis:</th>      <td> 2.992</td> <th>  Cond. No.          </th> <td>    30.3</td>\n",
       "</tr>\n",
       "</table><br/><br/>Notes:<br/>[1] Standard Errors assume that the covariance matrix of the errors is correctly specified."
      ],
      "text/plain": [
       "<class 'statsmodels.iolib.summary.Summary'>\n",
       "\"\"\"\n",
       "                           GLSAR Regression Results                           \n",
       "==============================================================================\n",
       "Dep. Variable:                      y   R-squared:                       0.481\n",
       "Model:                          GLSAR   Adj. R-squared:                  0.450\n",
       "Method:                 Least Squares   F-statistic:                     15.73\n",
       "Date:                Wed, 11 May 2022   Prob (F-statistic):           0.000998\n",
       "Time:                        10:17:03   Log-Likelihood:                -25.646\n",
       "No. Observations:                  19   AIC:                             55.29\n",
       "Df Residuals:                      17   BIC:                             57.18\n",
       "Df Model:                           1                                         \n",
       "Covariance Type:            nonrobust                                         \n",
       "==============================================================================\n",
       "                 coef    std err          t      P>|t|      [0.025      0.975]\n",
       "------------------------------------------------------------------------------\n",
       "time          -0.2645      0.067     -3.966      0.001      -0.405      -0.124\n",
       "intercept     13.8092      0.856     16.125      0.000      12.002      15.616\n",
       "==============================================================================\n",
       "Omnibus:                        1.830   Durbin-Watson:                   1.827\n",
       "Prob(Omnibus):                  0.401   Jarque-Bera (JB):                1.003\n",
       "Skew:                           0.563   Prob(JB):                        0.606\n",
       "Kurtosis:                       2.992   Cond. No.                         30.3\n",
       "==============================================================================\n",
       "\n",
       "Notes:\n",
       "[1] Standard Errors assume that the covariance matrix of the errors is correctly specified.\n",
       "\"\"\""
      ]
     },
     "execution_count": 32,
     "metadata": {},
     "output_type": "execute_result"
    }
   ],
   "source": [
    "glsar_model = sm.GLSAR(df.Mean.values, endog, 1)\n",
    "glsar_results = glsar_model.iterative_fit(15)\n",
    "glsar_results.summary()"
   ]
  },
  {
   "cell_type": "code",
   "execution_count": 35,
   "id": "225efc4f-c691-4f5c-a4aa-131ac1e00e31",
   "metadata": {},
   "outputs": [
    {
     "data": {
      "text/plain": [
       "55.29159866262245"
      ]
     },
     "execution_count": 35,
     "metadata": {},
     "output_type": "execute_result"
    }
   ],
   "source": [
    "glsar_results.aic"
   ]
  },
  {
   "cell_type": "code",
   "execution_count": 36,
   "id": "1ef5824a-cbcc-402d-b67b-df544143c75f",
   "metadata": {},
   "outputs": [
    {
     "data": {
      "text/plain": [
       "60.06970969187513"
      ]
     },
     "execution_count": 36,
     "metadata": {},
     "output_type": "execute_result"
    }
   ],
   "source": [
    "mod_ols.aic"
   ]
  },
  {
   "cell_type": "markdown",
   "id": "c8c8d300-697b-4fb9-b951-24944885fa28",
   "metadata": {},
   "source": [
    "## We find a lower AIC for the GLS model with AR(1) and are inclined to adopt this model"
   ]
  },
  {
   "cell_type": "markdown",
   "id": "8a87fcde-1a3e-44c9-8369-24b17122e0b7",
   "metadata": {},
   "source": [
    "## Examine the new residuals"
   ]
  },
  {
   "cell_type": "code",
   "execution_count": 37,
   "id": "118c7e6e-4ea3-4974-abc8-e218ecd265a0",
   "metadata": {},
   "outputs": [],
   "source": [
    "gls_resids = df.Mean.values - glsar_results.fittedvalues"
   ]
  },
  {
   "cell_type": "markdown",
   "id": "19ba0c3c-5b14-4c92-96bd-dc4983cc871c",
   "metadata": {},
   "source": [
    "### Shapiro-Watson"
   ]
  },
  {
   "cell_type": "code",
   "execution_count": 38,
   "id": "26388b49-1e9c-4091-8a3f-3027bf0f2c6a",
   "metadata": {},
   "outputs": [
    {
     "data": {
      "text/plain": [
       "ShapiroResult(statistic=0.9210602045059204, pvalue=0.10385347902774811)"
      ]
     },
     "execution_count": 38,
     "metadata": {},
     "output_type": "execute_result"
    }
   ],
   "source": [
    "shapiro(gls_resids)"
   ]
  },
  {
   "cell_type": "markdown",
   "id": "7d65d31b-d25f-4b45-b0f6-27d2f7ba8206",
   "metadata": {},
   "source": [
    "### Acceptible (barely)"
   ]
  },
  {
   "cell_type": "markdown",
   "id": "fc1cde2d-092e-4b5a-a9e9-07c1df12798f",
   "metadata": {},
   "source": [
    "## Plot"
   ]
  },
  {
   "cell_type": "code",
   "execution_count": null,
   "id": "56500f91-b161-4228-b30e-3b11718a52e8",
   "metadata": {},
   "outputs": [],
   "source": []
  }
 ],
 "metadata": {
  "kernelspec": {
   "display_name": "Python 3 (ipykernel)",
   "language": "python",
   "name": "python3"
  },
  "language_info": {
   "codemirror_mode": {
    "name": "ipython",
    "version": 3
   },
   "file_extension": ".py",
   "mimetype": "text/x-python",
   "name": "python",
   "nbconvert_exporter": "python",
   "pygments_lexer": "ipython3",
   "version": "3.9.7"
  }
 },
 "nbformat": 4,
 "nbformat_minor": 5
}
