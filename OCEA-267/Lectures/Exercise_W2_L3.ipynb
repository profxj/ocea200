{
 "cells": [
  {
   "cell_type": "markdown",
   "id": "ab892151-06d9-472a-9afe-489b069691b3",
   "metadata": {},
   "source": [
    "# Exercise W2 L3"
   ]
  },
  {
   "cell_type": "code",
   "execution_count": 9,
   "id": "9aeacff9-ba9d-4c9e-8730-1e112c6e521b",
   "metadata": {},
   "outputs": [],
   "source": [
    "# imports\n",
    "import numpy as np\n",
    "from scipy.ndimage import uniform_filter1d\n",
    "from matplotlib import pyplot as plt\n",
    "import pandas\n",
    "\n",
    "from statsmodels.tsa.seasonal import seasonal_decompose\n",
    "import statsmodels.api as sm"
   ]
  },
  {
   "cell_type": "markdown",
   "id": "211af9cb-7a22-4f7c-81f5-eeb458bd92ba",
   "metadata": {},
   "source": [
    "# Load the Data"
   ]
  },
  {
   "cell_type": "code",
   "execution_count": 7,
   "id": "abe4797a-2ceb-4f1d-996c-c948afe13bb4",
   "metadata": {},
   "outputs": [],
   "source": [
    "sst = pandas.read_table('../Data/GMST_1880_2020_NASA.txt', delim_whitespace=True,skiprows=5,\n",
    "                       names=['year', 'SST', 'eSST'])"
   ]
  },
  {
   "cell_type": "code",
   "execution_count": 8,
   "id": "91c69d85-00cb-4945-a1d0-82a509460585",
   "metadata": {},
   "outputs": [
    {
     "data": {
      "text/html": [
       "<div>\n",
       "<style scoped>\n",
       "    .dataframe tbody tr th:only-of-type {\n",
       "        vertical-align: middle;\n",
       "    }\n",
       "\n",
       "    .dataframe tbody tr th {\n",
       "        vertical-align: top;\n",
       "    }\n",
       "\n",
       "    .dataframe thead th {\n",
       "        text-align: right;\n",
       "    }\n",
       "</style>\n",
       "<table border=\"1\" class=\"dataframe\">\n",
       "  <thead>\n",
       "    <tr style=\"text-align: right;\">\n",
       "      <th></th>\n",
       "      <th>year</th>\n",
       "      <th>SST</th>\n",
       "      <th>eSST</th>\n",
       "    </tr>\n",
       "  </thead>\n",
       "  <tbody>\n",
       "    <tr>\n",
       "      <th>0</th>\n",
       "      <td>1880</td>\n",
       "      <td>-0.15</td>\n",
       "      <td>-0.08</td>\n",
       "    </tr>\n",
       "    <tr>\n",
       "      <th>1</th>\n",
       "      <td>1881</td>\n",
       "      <td>-0.07</td>\n",
       "      <td>-0.12</td>\n",
       "    </tr>\n",
       "    <tr>\n",
       "      <th>2</th>\n",
       "      <td>1882</td>\n",
       "      <td>-0.10</td>\n",
       "      <td>-0.16</td>\n",
       "    </tr>\n",
       "    <tr>\n",
       "      <th>3</th>\n",
       "      <td>1883</td>\n",
       "      <td>-0.17</td>\n",
       "      <td>-0.20</td>\n",
       "    </tr>\n",
       "    <tr>\n",
       "      <th>4</th>\n",
       "      <td>1884</td>\n",
       "      <td>-0.28</td>\n",
       "      <td>-0.23</td>\n",
       "    </tr>\n",
       "  </tbody>\n",
       "</table>\n",
       "</div>"
      ],
      "text/plain": [
       "   year   SST  eSST\n",
       "0  1880 -0.15 -0.08\n",
       "1  1881 -0.07 -0.12\n",
       "2  1882 -0.10 -0.16\n",
       "3  1883 -0.17 -0.20\n",
       "4  1884 -0.28 -0.23"
      ]
     },
     "execution_count": 8,
     "metadata": {},
     "output_type": "execute_result"
    }
   ],
   "source": [
    "sst.head()"
   ]
  },
  {
   "cell_type": "markdown",
   "id": "ee019037-e12e-4ab9-9df5-20154ec9bfb0",
   "metadata": {},
   "source": [
    "# Fit a trend\n",
    "\n",
    "## https://datatofish.com/statsmodels-linear-regression/ "
   ]
  },
  {
   "cell_type": "markdown",
   "id": "0a554539-7461-4321-a853-6d0d0222e235",
   "metadata": {},
   "source": [
    "## Setup"
   ]
  },
  {
   "cell_type": "code",
   "execution_count": 16,
   "id": "21ea75de-af14-46a1-8d7c-a2af4cad4bfd",
   "metadata": {},
   "outputs": [],
   "source": [
    "x = sst.year.values\n",
    "X = sm.add_constant(x)\n",
    "Y = sst.SST.values"
   ]
  },
  {
   "cell_type": "markdown",
   "id": "c47decea-ccdb-4953-8775-d61a4a312dc8",
   "metadata": {},
   "source": [
    "## Fit ignoring uncertainty first"
   ]
  },
  {
   "cell_type": "code",
   "execution_count": 17,
   "id": "3fedbba1-6f55-48ad-aa11-13eded835a19",
   "metadata": {},
   "outputs": [],
   "source": [
    "model = sm.OLS(Y, X).fit()"
   ]
  },
  {
   "cell_type": "markdown",
   "id": "1eb1ec5e-7c32-427f-99f2-4237d20c0723",
   "metadata": {},
   "source": [
    "## Predictions"
   ]
  },
  {
   "cell_type": "code",
   "execution_count": 18,
   "id": "93805c28-530b-4da1-bc48-c2a01a9351ff",
   "metadata": {},
   "outputs": [],
   "source": [
    "predictions = model.predict(X) "
   ]
  },
  {
   "cell_type": "markdown",
   "id": "e87a8b43-ad74-4ab4-bb78-484243d0e374",
   "metadata": {},
   "source": [
    "## Summary"
   ]
  },
  {
   "cell_type": "code",
   "execution_count": 19,
   "id": "a93f9423-bead-4980-afc6-3a999f26d9d6",
   "metadata": {},
   "outputs": [
    {
     "data": {
      "text/html": [
       "<table class=\"simpletable\">\n",
       "<caption>OLS Regression Results</caption>\n",
       "<tr>\n",
       "  <th>Dep. Variable:</th>            <td>y</td>        <th>  R-squared:         </th> <td>   0.756</td>\n",
       "</tr>\n",
       "<tr>\n",
       "  <th>Model:</th>                   <td>OLS</td>       <th>  Adj. R-squared:    </th> <td>   0.754</td>\n",
       "</tr>\n",
       "<tr>\n",
       "  <th>Method:</th>             <td>Least Squares</td>  <th>  F-statistic:       </th> <td>   434.1</td>\n",
       "</tr>\n",
       "<tr>\n",
       "  <th>Date:</th>             <td>Mon, 04 Apr 2022</td> <th>  Prob (F-statistic):</th> <td>9.77e-45</td>\n",
       "</tr>\n",
       "<tr>\n",
       "  <th>Time:</th>                 <td>17:06:10</td>     <th>  Log-Likelihood:    </th> <td>  42.987</td>\n",
       "</tr>\n",
       "<tr>\n",
       "  <th>No. Observations:</th>      <td>   142</td>      <th>  AIC:               </th> <td>  -81.97</td>\n",
       "</tr>\n",
       "<tr>\n",
       "  <th>Df Residuals:</th>          <td>   140</td>      <th>  BIC:               </th> <td>  -76.06</td>\n",
       "</tr>\n",
       "<tr>\n",
       "  <th>Df Model:</th>              <td>     1</td>      <th>                     </th>     <td> </td>   \n",
       "</tr>\n",
       "<tr>\n",
       "  <th>Covariance Type:</th>      <td>nonrobust</td>    <th>                     </th>     <td> </td>   \n",
       "</tr>\n",
       "</table>\n",
       "<table class=\"simpletable\">\n",
       "<tr>\n",
       "    <td></td>       <th>coef</th>     <th>std err</th>      <th>t</th>      <th>P>|t|</th>  <th>[0.025</th>    <th>0.975]</th>  \n",
       "</tr>\n",
       "<tr>\n",
       "  <th>const</th> <td>  -14.9231</td> <td>    0.719</td> <td>  -20.753</td> <td> 0.000</td> <td>  -16.345</td> <td>  -13.501</td>\n",
       "</tr>\n",
       "<tr>\n",
       "  <th>x1</th>    <td>    0.0077</td> <td>    0.000</td> <td>   20.834</td> <td> 0.000</td> <td>    0.007</td> <td>    0.008</td>\n",
       "</tr>\n",
       "</table>\n",
       "<table class=\"simpletable\">\n",
       "<tr>\n",
       "  <th>Omnibus:</th>       <td> 4.957</td> <th>  Durbin-Watson:     </th> <td>   0.383</td>\n",
       "</tr>\n",
       "<tr>\n",
       "  <th>Prob(Omnibus):</th> <td> 0.084</td> <th>  Jarque-Bera (JB):  </th> <td>   4.736</td>\n",
       "</tr>\n",
       "<tr>\n",
       "  <th>Skew:</th>          <td> 0.392</td> <th>  Prob(JB):          </th> <td>  0.0937</td>\n",
       "</tr>\n",
       "<tr>\n",
       "  <th>Kurtosis:</th>      <td> 2.570</td> <th>  Cond. No.          </th> <td>9.29e+04</td>\n",
       "</tr>\n",
       "</table><br/><br/>Notes:<br/>[1] Standard Errors assume that the covariance matrix of the errors is correctly specified.<br/>[2] The condition number is large, 9.29e+04. This might indicate that there are<br/>strong multicollinearity or other numerical problems."
      ],
      "text/plain": [
       "<class 'statsmodels.iolib.summary.Summary'>\n",
       "\"\"\"\n",
       "                            OLS Regression Results                            \n",
       "==============================================================================\n",
       "Dep. Variable:                      y   R-squared:                       0.756\n",
       "Model:                            OLS   Adj. R-squared:                  0.754\n",
       "Method:                 Least Squares   F-statistic:                     434.1\n",
       "Date:                Mon, 04 Apr 2022   Prob (F-statistic):           9.77e-45\n",
       "Time:                        17:06:10   Log-Likelihood:                 42.987\n",
       "No. Observations:                 142   AIC:                            -81.97\n",
       "Df Residuals:                     140   BIC:                            -76.06\n",
       "Df Model:                           1                                         \n",
       "Covariance Type:            nonrobust                                         \n",
       "==============================================================================\n",
       "                 coef    std err          t      P>|t|      [0.025      0.975]\n",
       "------------------------------------------------------------------------------\n",
       "const        -14.9231      0.719    -20.753      0.000     -16.345     -13.501\n",
       "x1             0.0077      0.000     20.834      0.000       0.007       0.008\n",
       "==============================================================================\n",
       "Omnibus:                        4.957   Durbin-Watson:                   0.383\n",
       "Prob(Omnibus):                  0.084   Jarque-Bera (JB):                4.736\n",
       "Skew:                           0.392   Prob(JB):                       0.0937\n",
       "Kurtosis:                       2.570   Cond. No.                     9.29e+04\n",
       "==============================================================================\n",
       "\n",
       "Notes:\n",
       "[1] Standard Errors assume that the covariance matrix of the errors is correctly specified.\n",
       "[2] The condition number is large, 9.29e+04. This might indicate that there are\n",
       "strong multicollinearity or other numerical problems.\n",
       "\"\"\""
      ]
     },
     "execution_count": 19,
     "metadata": {},
     "output_type": "execute_result"
    }
   ],
   "source": [
    "model.summary()"
   ]
  },
  {
   "cell_type": "markdown",
   "id": "49a9346e-4c5a-475f-b3bf-ac047b21333d",
   "metadata": {},
   "source": [
    "## Plot"
   ]
  },
  {
   "cell_type": "code",
   "execution_count": 22,
   "id": "ea1711a7-f6cb-4b2c-a056-a456025f3d9a",
   "metadata": {},
   "outputs": [
    {
     "data": {
      "image/png": "[encoded data removed]",
      "text/plain": [
       "<Figure size 432x288 with 1 Axes>"
      ]
     },
     "metadata": {
      "needs_background": "light"
     },
     "output_type": "display_data"
    }
   ],
   "source": [
    "plt.clf()\n",
    "ax = plt.gca()\n",
    "ax.plot(x, Y, \"o\", label=\"data\")\n",
    "#ax.plot(x, y_true, \"b-\", label=\"True\")\n",
    "ax.plot(x, model.fittedvalues, \"r--.\", label=\"OLS\")\n",
    "#ax.plot(x, iv_u, \"r--\")\n",
    "#ax.plot(x, iv_l, \"r--\")\n",
    "ax.legend(loc=\"best\")\n",
    "plt.show()"
   ]
  },
  {
   "cell_type": "code",
   "execution_count": null,
   "id": "7e1643d4-f97e-474b-a21c-1fdc0bf75962",
   "metadata": {},
   "outputs": [],
   "source": []
  }
 ],
 "metadata": {
  "kernelspec": {
   "display_name": "Python 3 (ipykernel)",
   "language": "python",
   "name": "python3"
  },
  "language_info": {
   "codemirror_mode": {
    "name": "ipython",
    "version": 3
   },
   "file_extension": ".py",
   "mimetype": "text/x-python",
   "name": "python",
   "nbconvert_exporter": "python",
   "pygments_lexer": "ipython3",
   "version": "3.9.7"
  }
 },
 "nbformat": 4,
 "nbformat_minor": 5
}
