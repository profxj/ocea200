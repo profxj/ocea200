{
 "cells": [
  {
   "cell_type": "markdown",
   "id": "250083a7-7f62-4387-8098-23be9cd54b57",
   "metadata": {},
   "source": [
    "# Lecture 7"
   ]
  },
  {
   "cell_type": "code",
   "execution_count": 1,
   "id": "81129496-db54-4352-9ea3-247ef0d5fe91",
   "metadata": {},
   "outputs": [],
   "source": [
    "# imports \n",
    "# imports\n",
    "import numpy as np\n",
    "from scipy.ndimage import uniform_filter1d\n",
    "from scipy.stats import shapiro\n",
    "from matplotlib import pyplot as plt\n",
    "import pandas\n",
    "\n",
    "from statsmodels.tsa.seasonal import seasonal_decompose\n",
    "import statsmodels.api as sm\n",
    "from statsmodels.stats.stattools import durbin_watson\n",
    "import statsmodels.formula.api as smf"
   ]
  },
  {
   "cell_type": "code",
   "execution_count": 19,
   "id": "044145d4-27d1-409f-9394-7d76b7821d17",
   "metadata": {},
   "outputs": [],
   "source": [
    "def set_fontsize(ax,fsz):\n",
    "    \"\"\"\n",
    "    Set the fontsize throughout an Axis\n",
    "    \n",
    "    Args:\n",
    "        ax (Matplotlib Axis): \n",
    "        fsz (float): Font size\n",
    "\n",
    "    Returns:\n",
    "\n",
    "    \"\"\"\n",
    "    for item in ([ax.title, ax.xaxis.label, ax.yaxis.label] +\n",
    "                 ax.get_xticklabels() + ax.get_yticklabels()):\n",
    "        item.set_fontsize(fsz)"
   ]
  },
  {
   "cell_type": "markdown",
   "id": "fc5a03ce-e375-40e4-9619-8f7e1ba0e288",
   "metadata": {},
   "source": [
    "# Monte Carlo"
   ]
  },
  {
   "cell_type": "code",
   "execution_count": 3,
   "id": "76f933dc-e399-4417-8852-8c911356e35c",
   "metadata": {},
   "outputs": [],
   "source": [
    "nrand = 100"
   ]
  },
  {
   "cell_type": "markdown",
   "id": "b46c4bd1-35c7-4009-aaeb-12ba603342a0",
   "metadata": {},
   "source": [
    "## Random "
   ]
  },
  {
   "cell_type": "code",
   "execution_count": 7,
   "id": "9fd56393-0abb-4194-93da-6c18b1d47268",
   "metadata": {},
   "outputs": [],
   "source": [
    "def grab_norm(size=nrand):\n",
    "    return np.random.normal(size=size)"
   ]
  },
  {
   "cell_type": "code",
   "execution_count": 6,
   "id": "aceacff4-8d2b-4886-b9eb-91237fc76bf2",
   "metadata": {},
   "outputs": [],
   "source": [
    "time = np.arange(r_norm.size)"
   ]
  },
  {
   "cell_type": "code",
   "execution_count": 9,
   "id": "5dd6177d-194d-4204-9705-2cd0dd27219e",
   "metadata": {},
   "outputs": [],
   "source": [
    "data = pandas.DataFrame()\n",
    "data['time'] = time"
   ]
  },
  {
   "cell_type": "markdown",
   "id": "0d2041da-de8c-4956-a241-0e228a61902b",
   "metadata": {},
   "source": [
    "### Fit"
   ]
  },
  {
   "cell_type": "code",
   "execution_count": 10,
   "id": "4c386995-5f2c-47da-8262-9ad17da21e98",
   "metadata": {},
   "outputs": [],
   "source": [
    "data['norm'] = grab_norm()\n",
    "formula = \"norm ~ time\"\n",
    "mod1 = smf.glm(formula=formula, data=data).fit()#, family=sm.families.Binomial()).fit()"
   ]
  },
  {
   "cell_type": "code",
   "execution_count": 11,
   "id": "388e83cb-2bd7-4fc2-a480-80ec5a6da955",
   "metadata": {},
   "outputs": [
    {
     "data": {
      "text/html": [
       "<table class=\"simpletable\">\n",
       "<caption>Generalized Linear Model Regression Results</caption>\n",
       "<tr>\n",
       "  <th>Dep. Variable:</th>         <td>norm</td>       <th>  No. Observations:  </th>  <td>   100</td>  \n",
       "</tr>\n",
       "<tr>\n",
       "  <th>Model:</th>                  <td>GLM</td>       <th>  Df Residuals:      </th>  <td>    98</td>  \n",
       "</tr>\n",
       "<tr>\n",
       "  <th>Model Family:</th>        <td>Gaussian</td>     <th>  Df Model:          </th>  <td>     1</td>  \n",
       "</tr>\n",
       "<tr>\n",
       "  <th>Link Function:</th>       <td>identity</td>     <th>  Scale:             </th> <td>  1.0121</td> \n",
       "</tr>\n",
       "<tr>\n",
       "  <th>Method:</th>                <td>IRLS</td>       <th>  Log-Likelihood:    </th> <td> -141.48</td> \n",
       "</tr>\n",
       "<tr>\n",
       "  <th>Date:</th>            <td>Mon, 18 Apr 2022</td> <th>  Deviance:          </th> <td>  99.184</td> \n",
       "</tr>\n",
       "<tr>\n",
       "  <th>Time:</th>                <td>09:23:53</td>     <th>  Pearson chi2:      </th>  <td>  99.2</td>  \n",
       "</tr>\n",
       "<tr>\n",
       "  <th>No. Iterations:</th>          <td>3</td>        <th>  Pseudo R-squ. (CS):</th> <td>0.0008158</td>\n",
       "</tr>\n",
       "<tr>\n",
       "  <th>Covariance Type:</th>     <td>nonrobust</td>    <th>                     </th>     <td> </td>    \n",
       "</tr>\n",
       "</table>\n",
       "<table class=\"simpletable\">\n",
       "<tr>\n",
       "      <td></td>         <th>coef</th>     <th>std err</th>      <th>z</th>      <th>P>|z|</th>  <th>[0.025</th>    <th>0.975]</th>  \n",
       "</tr>\n",
       "<tr>\n",
       "  <th>Intercept</th> <td>    0.0668</td> <td>    0.200</td> <td>    0.334</td> <td> 0.738</td> <td>   -0.325</td> <td>    0.458</td>\n",
       "</tr>\n",
       "<tr>\n",
       "  <th>time</th>      <td>   -0.0009</td> <td>    0.003</td> <td>   -0.248</td> <td> 0.804</td> <td>   -0.008</td> <td>    0.006</td>\n",
       "</tr>\n",
       "</table>"
      ],
      "text/plain": [
       "<class 'statsmodels.iolib.summary.Summary'>\n",
       "\"\"\"\n",
       "                 Generalized Linear Model Regression Results                  \n",
       "==============================================================================\n",
       "Dep. Variable:                   norm   No. Observations:                  100\n",
       "Model:                            GLM   Df Residuals:                       98\n",
       "Model Family:                Gaussian   Df Model:                            1\n",
       "Link Function:               identity   Scale:                          1.0121\n",
       "Method:                          IRLS   Log-Likelihood:                -141.48\n",
       "Date:                Mon, 18 Apr 2022   Deviance:                       99.184\n",
       "Time:                        09:23:53   Pearson chi2:                     99.2\n",
       "No. Iterations:                     3   Pseudo R-squ. (CS):          0.0008158\n",
       "Covariance Type:            nonrobust                                         \n",
       "==============================================================================\n",
       "                 coef    std err          z      P>|z|      [0.025      0.975]\n",
       "------------------------------------------------------------------------------\n",
       "Intercept      0.0668      0.200      0.334      0.738      -0.325       0.458\n",
       "time          -0.0009      0.003     -0.248      0.804      -0.008       0.006\n",
       "==============================================================================\n",
       "\"\"\""
      ]
     },
     "execution_count": 11,
     "metadata": {},
     "output_type": "execute_result"
    }
   ],
   "source": [
    "mod1.summary()"
   ]
  },
  {
   "cell_type": "code",
   "execution_count": 13,
   "id": "488f3b25-670d-4116-a3f3-0416d5b8c4aa",
   "metadata": {},
   "outputs": [
    {
     "data": {
      "text/plain": [
       "0.7381708057790275"
      ]
     },
     "execution_count": 13,
     "metadata": {},
     "output_type": "execute_result"
    }
   ],
   "source": [
    "mod1.pvalues.Intercept"
   ]
  },
  {
   "cell_type": "markdown",
   "id": "6c9cf6f6-c640-4ae8-bd19-102e107199a0",
   "metadata": {},
   "source": [
    "### Plot"
   ]
  },
  {
   "cell_type": "code",
   "execution_count": 29,
   "id": "a738d2a1-4fd7-4192-9bcb-aaff327804cd",
   "metadata": {},
   "outputs": [],
   "source": [
    "def plot_me(data, model, entry):\n",
    "    plt.clf()\n",
    "    fig = plt.figure(figsize=(12,8))\n",
    "    #\n",
    "    ax = plt.gca()\n",
    "    ax.plot(data['time'], data[entry], 'o', ms=2)\n",
    "    # Fit\n",
    "    ax.plot(data['time'], mod1.fittedvalues, label=f'p-value({entry}) = {mod1.pvalues.Intercept}')\n",
    "    #\n",
    "    set_fontsize(ax, 17)\n",
    "    ax.legend(fontsize=17)\n",
    "    #\n",
    "    plt.show()"
   ]
  },
  {
   "cell_type": "markdown",
   "id": "fe5f2478-09f1-43eb-91b7-6fe6972bd2f8",
   "metadata": {},
   "source": [
    "### Run a bunch"
   ]
  },
  {
   "cell_type": "code",
   "execution_count": 32,
   "id": "ae993827-8e86-4db9-8759-75e2ddfe5383",
   "metadata": {},
   "outputs": [
    {
     "data": {
      "text/plain": [
       "<Figure size 432x288 with 0 Axes>"
      ]
     },
     "metadata": {},
     "output_type": "display_data"
    },
    {
     "data": {
      "image/png": "[encoded data removed]",
      "text/plain": [
       "<Figure size 864x576 with 1 Axes>"
      ]
     },
     "metadata": {
      "needs_background": "light"
     },
     "output_type": "display_data"
    }
   ],
   "source": [
    "key = 'norm'\n",
    "data[key] = grab_norm()\n",
    "formula = f\"{key} ~ time\"\n",
    "mod1 = smf.glm(formula=formula, data=data).fit()#, family=sm.families.Binomial()).fit()\n",
    "plot_me(data, mod1, key)"
   ]
  },
  {
   "cell_type": "markdown",
   "id": "36a67e31-e62a-440a-bcd1-4abb1beca698",
   "metadata": {},
   "source": [
    "# Log-normal"
   ]
  },
  {
   "cell_type": "code",
   "execution_count": 33,
   "id": "a3ea5637-52d4-4977-b747-b3f850e0c316",
   "metadata": {},
   "outputs": [],
   "source": [
    "def grab_lognorm(size=nrand):\n",
    "    return np.random.lognormal(size=size)"
   ]
  },
  {
   "cell_type": "code",
   "execution_count": 39,
   "id": "c59338bb-c204-4b3f-8de9-af07e3417949",
   "metadata": {},
   "outputs": [
    {
     "data": {
      "text/plain": [
       "<Figure size 432x288 with 0 Axes>"
      ]
     },
     "metadata": {},
     "output_type": "display_data"
    },
    {
     "data": {
      "image/png": "[encoded data removed]",
      "text/plain": [
       "<Figure size 864x576 with 1 Axes>"
      ]
     },
     "metadata": {
      "needs_background": "light"
     },
     "output_type": "display_data"
    }
   ],
   "source": [
    "key = 'lnorm'\n",
    "data[key] = grab_lognorm()\n",
    "formula = f\"{key} ~ time\"\n",
    "mod1 = smf.glm(formula=formula, data=data).fit()#, family=sm.families.Binomial()).fit()\n",
    "plot_me(data, mod1, key)"
   ]
  },
  {
   "cell_type": "code",
   "execution_count": 38,
   "id": "82b811aa-9761-4a42-af7f-7ada434884dc",
   "metadata": {},
   "outputs": [
    {
     "data": {
      "text/html": [
       "<table class=\"simpletable\">\n",
       "<caption>Generalized Linear Model Regression Results</caption>\n",
       "<tr>\n",
       "  <th>Dep. Variable:</th>         <td>lnorm</td>      <th>  No. Observations:  </th>  <td>   100</td> \n",
       "</tr>\n",
       "<tr>\n",
       "  <th>Model:</th>                  <td>GLM</td>       <th>  Df Residuals:      </th>  <td>    98</td> \n",
       "</tr>\n",
       "<tr>\n",
       "  <th>Model Family:</th>        <td>Gaussian</td>     <th>  Df Model:          </th>  <td>     1</td> \n",
       "</tr>\n",
       "<tr>\n",
       "  <th>Link Function:</th>       <td>identity</td>     <th>  Scale:             </th> <td>  2.6656</td>\n",
       "</tr>\n",
       "<tr>\n",
       "  <th>Method:</th>                <td>IRLS</td>       <th>  Log-Likelihood:    </th> <td> -189.90</td>\n",
       "</tr>\n",
       "<tr>\n",
       "  <th>Date:</th>            <td>Mon, 18 Apr 2022</td> <th>  Deviance:          </th> <td>  261.23</td>\n",
       "</tr>\n",
       "<tr>\n",
       "  <th>Time:</th>                <td>09:31:20</td>     <th>  Pearson chi2:      </th>  <td>  261.</td> \n",
       "</tr>\n",
       "<tr>\n",
       "  <th>No. Iterations:</th>          <td>3</td>        <th>  Pseudo R-squ. (CS):</th>  <td>0.02937</td>\n",
       "</tr>\n",
       "<tr>\n",
       "  <th>Covariance Type:</th>     <td>nonrobust</td>    <th>                     </th>     <td> </td>   \n",
       "</tr>\n",
       "</table>\n",
       "<table class=\"simpletable\">\n",
       "<tr>\n",
       "      <td></td>         <th>coef</th>     <th>std err</th>      <th>z</th>      <th>P>|z|</th>  <th>[0.025</th>    <th>0.975]</th>  \n",
       "</tr>\n",
       "<tr>\n",
       "  <th>Intercept</th> <td>    1.8661</td> <td>    0.324</td> <td>    5.758</td> <td> 0.000</td> <td>    1.231</td> <td>    2.501</td>\n",
       "</tr>\n",
       "<tr>\n",
       "  <th>time</th>      <td>   -0.0097</td> <td>    0.006</td> <td>   -1.721</td> <td> 0.085</td> <td>   -0.021</td> <td>    0.001</td>\n",
       "</tr>\n",
       "</table>"
      ],
      "text/plain": [
       "<class 'statsmodels.iolib.summary.Summary'>\n",
       "\"\"\"\n",
       "                 Generalized Linear Model Regression Results                  \n",
       "==============================================================================\n",
       "Dep. Variable:                  lnorm   No. Observations:                  100\n",
       "Model:                            GLM   Df Residuals:                       98\n",
       "Model Family:                Gaussian   Df Model:                            1\n",
       "Link Function:               identity   Scale:                          2.6656\n",
       "Method:                          IRLS   Log-Likelihood:                -189.90\n",
       "Date:                Mon, 18 Apr 2022   Deviance:                       261.23\n",
       "Time:                        09:31:20   Pearson chi2:                     261.\n",
       "No. Iterations:                     3   Pseudo R-squ. (CS):            0.02937\n",
       "Covariance Type:            nonrobust                                         \n",
       "==============================================================================\n",
       "                 coef    std err          z      P>|z|      [0.025      0.975]\n",
       "------------------------------------------------------------------------------\n",
       "Intercept      1.8661      0.324      5.758      0.000       1.231       2.501\n",
       "time          -0.0097      0.006     -1.721      0.085      -0.021       0.001\n",
       "==============================================================================\n",
       "\"\"\""
      ]
     },
     "execution_count": 38,
     "metadata": {},
     "output_type": "execute_result"
    }
   ],
   "source": [
    "mod1.summary()"
   ]
  },
  {
   "cell_type": "markdown",
   "id": "b4b083dc-02cc-4833-bbfe-55e9f63a07dc",
   "metadata": {},
   "source": [
    "# Auto-correlated data"
   ]
  },
  {
   "cell_type": "code",
   "execution_count": 40,
   "id": "7e99af9f-abc1-4efe-9d33-10472147cd92",
   "metadata": {},
   "outputs": [],
   "source": [
    "## Stolen from the internet..."
   ]
  },
  {
   "cell_type": "code",
   "execution_count": 42,
   "id": "a0aacaa1-4c54-46b7-9e31-2dbce700b7c2",
   "metadata": {},
   "outputs": [],
   "source": [
    "def sample_signal(n_samples, corr, mu=0, sigma=1):\n",
    "    assert 0 < corr < 1, \"Auto-correlation must be between 0 and 1\"\n",
    "\n",
    "    # Find out the offset `c` and the std of the white noise `sigma_e`\n",
    "    # that produce a signal with the desired mean and variance.\n",
    "    # See https://en.wikipedia.org/wiki/Autoregressive_model\n",
    "    # under section \"Example: An AR(1) process\".\n",
    "    c = mu * (1 - corr)\n",
    "    sigma_e = np.sqrt((sigma ** 2) * (1 - corr ** 2))\n",
    "\n",
    "    # Sample the auto-regressive process.\n",
    "    signal = [c + np.random.normal(0, sigma_e)]\n",
    "    for _ in range(1, n_samples):\n",
    "        signal.append(c + corr * signal[-1] + np.random.normal(0, sigma_e))\n",
    "\n",
    "    return np.array(signal)\n",
    "\n",
    "def compute_corr_lag_1(signal):\n",
    "    return np.corrcoef(signal[:-1], signal[1:])[0][1]"
   ]
  },
  {
   "cell_type": "code",
   "execution_count": 51,
   "id": "f0789db6-0660-455d-adb2-173ec50efd25",
   "metadata": {},
   "outputs": [
    {
     "data": {
      "text/plain": [
       "<Figure size 432x288 with 0 Axes>"
      ]
     },
     "metadata": {},
     "output_type": "display_data"
    },
    {
     "data": {
      "image/png": "[encoded data removed]",
      "text/plain": [
       "<Figure size 864x576 with 1 Axes>"
      ]
     },
     "metadata": {
      "needs_background": "light"
     },
     "output_type": "display_data"
    }
   ],
   "source": [
    "key = 'corr'\n",
    "data[key] = sample_signal(nrand, 0.9)\n",
    "formula = f\"{key} ~ time\"\n",
    "mod1 = smf.glm(formula=formula, data=data).fit()#, family=sm.families.Binomial()).fit()\n",
    "plot_me(data, mod1, key)"
   ]
  },
  {
   "cell_type": "code",
   "execution_count": null,
   "id": "46665231-062f-4ff5-9a04-3ad209bcfc30",
   "metadata": {},
   "outputs": [],
   "source": []
  },
  {
   "cell_type": "code",
   "execution_count": null,
   "id": "a8e90ee5-aede-4221-8bc3-d6f1597b3759",
   "metadata": {},
   "outputs": [],
   "source": []
  }
 ],
 "metadata": {
  "kernelspec": {
   "display_name": "Python 3 (ipykernel)",
   "language": "python",
   "name": "python3"
  },
  "language_info": {
   "codemirror_mode": {
    "name": "ipython",
    "version": 3
   },
   "file_extension": ".py",
   "mimetype": "text/x-python",
   "name": "python",
   "nbconvert_exporter": "python",
   "pygments_lexer": "ipython3",
   "version": "3.9.7"
  }
 },
 "nbformat": 4,
 "nbformat_minor": 5
}
