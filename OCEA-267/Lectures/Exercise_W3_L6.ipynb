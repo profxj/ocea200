{
 "cells": [
  {
   "cell_type": "markdown",
   "id": "4a9b6e3d-ec11-42be-bfe2-f4d13adbdce4",
   "metadata": {},
   "source": [
    "# Exercise W3 Lecture 6"
   ]
  },
  {
   "cell_type": "code",
   "execution_count": 27,
   "id": "ad67a3a0-41e7-4412-9774-bea94284c684",
   "metadata": {},
   "outputs": [],
   "source": [
    "# imports\n",
    "import numpy as np\n",
    "from scipy.ndimage import uniform_filter1d\n",
    "from scipy.stats import shapiro\n",
    "from matplotlib import pyplot as plt\n",
    "import pandas\n",
    "\n",
    "from statsmodels.tsa.seasonal import seasonal_decompose\n",
    "import statsmodels.api as sm\n",
    "from statsmodels.stats.stattools import durbin_watson"
   ]
  },
  {
   "cell_type": "markdown",
   "id": "a29519d7-fce4-4182-87ff-3f5e8d79a843",
   "metadata": {},
   "source": [
    "# Load"
   ]
  },
  {
   "cell_type": "code",
   "execution_count": 2,
   "id": "9064446d-881b-4f90-b4f2-f2e1e6208c60",
   "metadata": {},
   "outputs": [],
   "source": [
    "gmst = pandas.read_table('../Data/GMST_1880_2020_NASA.txt', delim_whitespace=True,skiprows=5,\n",
    "                       names=['year', 'SST', 'eSST'])"
   ]
  },
  {
   "cell_type": "markdown",
   "id": "4daba22b-9ff5-4414-8407-c4c276c2a523",
   "metadata": {},
   "source": [
    "# Fit a linear trend"
   ]
  },
  {
   "cell_type": "code",
   "execution_count": 4,
   "id": "16bea348-aedc-4d78-81b8-ade6aa00c400",
   "metadata": {},
   "outputs": [],
   "source": [
    "x = gmst.year.values\n",
    "X = sm.add_constant(x)\n",
    "Y = gmst.SST.values\n",
    "e = gmst.eSST.values"
   ]
  },
  {
   "cell_type": "code",
   "execution_count": 5,
   "id": "9d2ec113-a5fd-40f5-8fe0-02b19f1e50bd",
   "metadata": {},
   "outputs": [],
   "source": [
    "model = sm.OLS(Y, X).fit()"
   ]
  },
  {
   "cell_type": "code",
   "execution_count": 6,
   "id": "f456c750-d8f8-47b9-91ca-71874d3540f2",
   "metadata": {},
   "outputs": [],
   "source": [
    "predictions = model.predict(X) "
   ]
  },
  {
   "cell_type": "markdown",
   "id": "693e1fdf-da7b-4f70-bde1-06f1dc125b78",
   "metadata": {},
   "source": [
    "## Plot"
   ]
  },
  {
   "cell_type": "code",
   "execution_count": 7,
   "id": "f25b6697-5bbb-4f72-89d0-42d0dedc54e5",
   "metadata": {},
   "outputs": [
    {
     "data": {
      "text/plain": [
       "<Figure size 432x288 with 0 Axes>"
      ]
     },
     "metadata": {},
     "output_type": "display_data"
    },
    {
     "data": {
      "image/png": "[encoded data removed]",
      "text/plain": [
       "<Figure size 864x576 with 1 Axes>"
      ]
     },
     "metadata": {
      "needs_background": "light"
     },
     "output_type": "display_data"
    }
   ],
   "source": [
    "plt.clf()\n",
    "fig = plt.figure(figsize=(12,8))\n",
    "ax = plt.gca()\n",
    "ax.plot(x, Y, \"o\", label=\"data\")\n",
    "#ax.plot(x, y_true, \"b-\", label=\"True\")\n",
    "ax.plot(x, model.fittedvalues, \"r--.\", label=\"OLS\")\n",
    "#ax.plot(x, iv_u, \"r--\")\n",
    "#ax.plot(x, iv_l, \"r--\")\n",
    "ax.legend(loc=\"best\", fontsize=17)\n",
    "ax.set_xlabel('Year', fontsize=17)\n",
    "ax.set_ylabel('SST', fontsize=17)\n",
    "plt.show()"
   ]
  },
  {
   "cell_type": "markdown",
   "id": "dfaccde7-96ae-434e-8b5c-491495844187",
   "metadata": {},
   "source": [
    "----"
   ]
  },
  {
   "cell_type": "markdown",
   "id": "0243c03a-2203-4e73-a916-7e23df25cdf7",
   "metadata": {},
   "source": [
    "## Durbin Watson\n",
    "\n",
    "### https://www.geeksforgeeks.org/statsmodels-durbin_watson-in-python/ "
   ]
  },
  {
   "cell_type": "code",
   "execution_count": 9,
   "id": "44182b5f-9b31-453d-bb2f-d861e45aef4a",
   "metadata": {},
   "outputs": [],
   "source": [
    "resids = Y - model.fittedvalues"
   ]
  },
  {
   "cell_type": "code",
   "execution_count": 10,
   "id": "957b00db-0d5a-43f0-beeb-4db89e2d3668",
   "metadata": {},
   "outputs": [
    {
     "data": {
      "text/plain": [
       "0.3827971518518525"
      ]
     },
     "execution_count": 10,
     "metadata": {},
     "output_type": "execute_result"
    }
   ],
   "source": [
    "dw = durbin_watson(resids)\n",
    "dw"
   ]
  },
  {
   "cell_type": "markdown",
   "id": "98c1984c-99b4-4fde-bb2a-b91909174e84",
   "metadata": {},
   "source": [
    "### As the value is close to 0, this indicates a positive serial correlation"
   ]
  },
  {
   "cell_type": "markdown",
   "id": "3ab15917-94b0-4d50-8ab6-5231ef62baef",
   "metadata": {},
   "source": [
    "----"
   ]
  },
  {
   "cell_type": "markdown",
   "id": "05c2d96f-9225-49b5-80d4-1d6621f6315f",
   "metadata": {},
   "source": [
    "# Cochrane-Orcutt"
   ]
  },
  {
   "cell_type": "code",
   "execution_count": 17,
   "id": "c4cbe66b-c292-43d6-ac8b-ee062bbb373a",
   "metadata": {},
   "outputs": [],
   "source": [
    "def co_stat(resid):\n",
    "    numer = np.sum(resid[1:]*resid[:-1])\n",
    "    denom = np.sum(resid**2)\n",
    "    return numer/denom"
   ]
  },
  {
   "cell_type": "code",
   "execution_count": 19,
   "id": "baed522e-90c0-4fd3-9b5d-26edbe55155f",
   "metadata": {},
   "outputs": [
    {
     "data": {
      "text/plain": [
       "0.7890656881420253"
      ]
     },
     "execution_count": 19,
     "metadata": {},
     "output_type": "execute_result"
    }
   ],
   "source": [
    "rho_hat = co_stat(resids)\n",
    "rho_hat"
   ]
  },
  {
   "cell_type": "markdown",
   "id": "25d62ecd-f548-4313-a507-cbb3799f1905",
   "metadata": {},
   "source": [
    "----"
   ]
  },
  {
   "cell_type": "markdown",
   "id": "1a40b049-84cf-4828-9026-6086c592d34e",
   "metadata": {},
   "source": [
    "# Transform\n",
    "\n",
    "## https://online.stat.psu.edu/stat501/lesson/14/14.4 "
   ]
  },
  {
   "cell_type": "code",
   "execution_count": 21,
   "id": "fd734ad2-6e3d-4d30-aeea-a93b53f7e4a1",
   "metadata": {},
   "outputs": [],
   "source": [
    "x_star = x[1:] - rho_hat * x[:-1]\n",
    "Y_star = Y[1:] - rho_hat * Y[:-1]"
   ]
  },
  {
   "cell_type": "markdown",
   "id": "79a7221b-78ff-43d2-bb92-ffaa34c64d1d",
   "metadata": {},
   "source": [
    "## Fit"
   ]
  },
  {
   "cell_type": "code",
   "execution_count": 22,
   "id": "a52228b7-4780-41d4-826d-2a782a72e5d9",
   "metadata": {},
   "outputs": [],
   "source": [
    "X_star = sm.add_constant(x_star)"
   ]
  },
  {
   "cell_type": "code",
   "execution_count": 23,
   "id": "2d23625f-9b3b-47cb-9804-f378b2f24177",
   "metadata": {},
   "outputs": [],
   "source": [
    "co_model = sm.OLS(Y_star, X_star).fit()"
   ]
  },
  {
   "cell_type": "markdown",
   "id": "62b8e55d-5700-4696-90f9-c3ebd6744a72",
   "metadata": {},
   "source": [
    "## Plot"
   ]
  },
  {
   "cell_type": "code",
   "execution_count": 24,
   "id": "382b0e8e-e9ca-40a8-886e-a2fa2d6f11aa",
   "metadata": {},
   "outputs": [
    {
     "data": {
      "text/plain": [
       "<Figure size 432x288 with 0 Axes>"
      ]
     },
     "metadata": {},
     "output_type": "display_data"
    },
    {
     "data": {
      "image/png": "[encoded data removed]",
      "text/plain": [
       "<Figure size 864x576 with 1 Axes>"
      ]
     },
     "metadata": {
      "needs_background": "light"
     },
     "output_type": "display_data"
    }
   ],
   "source": [
    "plt.clf()\n",
    "fig = plt.figure(figsize=(12,8))\n",
    "ax = plt.gca()\n",
    "ax.plot(x_star, Y_star, \"o\", label=\"data\")\n",
    "#ax.plot(x, y_true, \"b-\", label=\"True\")\n",
    "ax.plot(x_star, co_model.fittedvalues, \"r--.\", label=\"OLS\")\n",
    "#ax.plot(x, iv_u, \"r--\")\n",
    "#ax.plot(x, iv_l, \"r--\")\n",
    "ax.legend(loc=\"best\", fontsize=17)\n",
    "ax.set_xlabel('Year', fontsize=17)\n",
    "ax.set_ylabel('SST', fontsize=17)\n",
    "plt.show()"
   ]
  },
  {
   "cell_type": "markdown",
   "id": "28d5cbc8-ab2f-4da1-9f81-30830cd2960d",
   "metadata": {},
   "source": [
    "----"
   ]
  },
  {
   "cell_type": "markdown",
   "id": "d8f55d28-dc55-4380-b698-91e2965f3005",
   "metadata": {},
   "source": [
    "# New Durbin"
   ]
  },
  {
   "cell_type": "code",
   "execution_count": 25,
   "id": "19fc7038-0f88-4783-ad41-e3729d8344d0",
   "metadata": {},
   "outputs": [],
   "source": [
    "resids_star = Y_star - co_model.fittedvalues"
   ]
  },
  {
   "cell_type": "code",
   "execution_count": 26,
   "id": "30d12ccb-478f-4edb-8634-641bfaf58063",
   "metadata": {},
   "outputs": [
    {
     "data": {
      "text/plain": [
       "2.1713759769157686"
      ]
     },
     "execution_count": 26,
     "metadata": {},
     "output_type": "execute_result"
    }
   ],
   "source": [
    "dw_star = durbin_watson(resids_star)\n",
    "dw_star"
   ]
  },
  {
   "cell_type": "markdown",
   "id": "02794111-a14f-48af-9478-63fb5a4e0d8e",
   "metadata": {},
   "source": [
    "----"
   ]
  },
  {
   "cell_type": "markdown",
   "id": "bc7742b8-8c0d-4c62-ac24-e9e4af2fd564",
   "metadata": {},
   "source": [
    "# Shapiro Wilk"
   ]
  },
  {
   "cell_type": "code",
   "execution_count": 28,
   "id": "11245b63-f7c3-41ea-83bc-2bbe3f6a8832",
   "metadata": {},
   "outputs": [
    {
     "data": {
      "text/plain": [
       "ShapiroResult(statistic=0.9855166077613831, pvalue=0.1446356177330017)"
      ]
     },
     "execution_count": 28,
     "metadata": {},
     "output_type": "execute_result"
    }
   ],
   "source": [
    "shapiro(resids_star)"
   ]
  },
  {
   "cell_type": "markdown",
   "id": "da6f1cad-0775-4aa8-b33e-e77e1fe9442a",
   "metadata": {},
   "source": [
    "## Not much greater than 0.05, but if that is the standard then the data are normal enough"
   ]
  },
  {
   "cell_type": "markdown",
   "id": "2ebb55da-cebb-4c85-b9c9-ace4f679869f",
   "metadata": {},
   "source": [
    "----"
   ]
  },
  {
   "cell_type": "markdown",
   "id": "c30f191f-28fc-4253-8df0-c693280a6247",
   "metadata": {},
   "source": [
    "# Bartlett ??"
   ]
  },
  {
   "cell_type": "code",
   "execution_count": null,
   "id": "e1ece1c9-5b92-4ddd-8df1-3fc429c02f7f",
   "metadata": {},
   "outputs": [],
   "source": []
  }
 ],
 "metadata": {
  "kernelspec": {
   "display_name": "Python 3 (ipykernel)",
   "language": "python",
   "name": "python3"
  },
  "language_info": {
   "codemirror_mode": {
    "name": "ipython",
    "version": 3
   },
   "file_extension": ".py",
   "mimetype": "text/x-python",
   "name": "python",
   "nbconvert_exporter": "python",
   "pygments_lexer": "ipython3",
   "version": "3.9.7"
  }
 },
 "nbformat": 4,
 "nbformat_minor": 5
}
