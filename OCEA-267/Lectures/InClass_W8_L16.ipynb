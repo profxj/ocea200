{
 "cells": [
  {
   "cell_type": "markdown",
   "id": "3baac9ac-d98d-4f47-b958-d1a24a294f64",
   "metadata": {},
   "source": [
    "# Excerise Week 8 -- L16"
   ]
  },
  {
   "cell_type": "code",
   "execution_count": 1,
   "id": "6939011a-df1f-4314-ad6d-580affdd3bf0",
   "metadata": {},
   "outputs": [],
   "source": [
    "# imports\n",
    "import numpy as np\n",
    "from scipy.ndimage import uniform_filter1d\n",
    "from scipy.stats import shapiro, bartlett\n",
    "from matplotlib import pyplot as plt\n",
    "import pandas\n",
    "\n",
    "from statsmodels.tsa.seasonal import seasonal_decompose\n",
    "import statsmodels.api as sm\n",
    "from statsmodels.stats.stattools import durbin_watson\n",
    "import statsmodels.formula.api as smf\n",
    "from statsmodels.graphics.tsaplots import plot_acf, plot_pacf\n",
    "from statsmodels.tsa.stattools import pacf\n",
    "\n",
    "import pymannkendall as mk"
   ]
  },
  {
   "cell_type": "markdown",
   "id": "e8c634d9-5bd8-451e-bf42-3c00bdfe19a5",
   "metadata": {},
   "source": [
    "# Peakflow"
   ]
  },
  {
   "cell_type": "markdown",
   "id": "31135b4d-6d77-4c4c-b792-4551007b18de",
   "metadata": {},
   "source": [
    "## Load up data"
   ]
  },
  {
   "cell_type": "code",
   "execution_count": null,
   "id": "06c44315-0df2-40eb-906c-15ce1ab8a346",
   "metadata": {},
   "outputs": [],
   "source": []
  }
 ],
 "metadata": {
  "kernelspec": {
   "display_name": "Python 3 (ipykernel)",
   "language": "python",
   "name": "python3"
  },
  "language_info": {
   "codemirror_mode": {
    "name": "ipython",
    "version": 3
   },
   "file_extension": ".py",
   "mimetype": "text/x-python",
   "name": "python",
   "nbconvert_exporter": "python",
   "pygments_lexer": "ipython3",
   "version": "3.9.7"
  }
 },
 "nbformat": 4,
 "nbformat_minor": 5
}
