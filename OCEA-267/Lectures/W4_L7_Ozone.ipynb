{
 "cells": [
  {
   "cell_type": "markdown",
   "id": "0d1d41df-5f3c-48ed-b09f-3b9e783730f5",
   "metadata": {},
   "source": [
    "# Ozone Problem"
   ]
  },
  {
   "cell_type": "code",
   "execution_count": 1,
   "id": "824a322e-4648-4bc4-8fb4-9e3301978505",
   "metadata": {},
   "outputs": [],
   "source": [
    "# imports\n",
    "import numpy as np\n",
    "from scipy.ndimage import uniform_filter1d\n",
    "from scipy.stats import shapiro\n",
    "from matplotlib import pyplot as plt\n",
    "import pandas\n",
    "\n",
    "from statsmodels.tsa.seasonal import seasonal_decompose\n",
    "import statsmodels.api as sm\n",
    "from statsmodels.stats.stattools import durbin_watson\n",
    "import statsmodels.formula.api as smf"
   ]
  },
  {
   "cell_type": "markdown",
   "id": "cb080bc1-eaac-4802-b2cd-973d5ffde69c",
   "metadata": {},
   "source": [
    "# Load dataset\n",
    "\n",
    "## Downloaded CSV from here https://r-data.pmagunia.com/dataset/r-dataset-package-datasets-airquality"
   ]
  },
  {
   "cell_type": "code",
   "execution_count": 5,
   "id": "869ef992-3295-46a5-a3ae-2aa7b9f51e8d",
   "metadata": {},
   "outputs": [
    {
     "data": {
      "text/html": [
       "<div>\n",
       "<style scoped>\n",
       "    .dataframe tbody tr th:only-of-type {\n",
       "        vertical-align: middle;\n",
       "    }\n",
       "\n",
       "    .dataframe tbody tr th {\n",
       "        vertical-align: top;\n",
       "    }\n",
       "\n",
       "    .dataframe thead th {\n",
       "        text-align: right;\n",
       "    }\n",
       "</style>\n",
       "<table border=\"1\" class=\"dataframe\">\n",
       "  <thead>\n",
       "    <tr style=\"text-align: right;\">\n",
       "      <th></th>\n",
       "      <th>Ozone</th>\n",
       "      <th>Solar.R</th>\n",
       "      <th>Wind</th>\n",
       "      <th>Temp</th>\n",
       "      <th>Month</th>\n",
       "      <th>Day</th>\n",
       "    </tr>\n",
       "  </thead>\n",
       "  <tbody>\n",
       "    <tr>\n",
       "      <th>0</th>\n",
       "      <td>41.0</td>\n",
       "      <td>190.0</td>\n",
       "      <td>7.4</td>\n",
       "      <td>67</td>\n",
       "      <td>5</td>\n",
       "      <td>1</td>\n",
       "    </tr>\n",
       "    <tr>\n",
       "      <th>1</th>\n",
       "      <td>36.0</td>\n",
       "      <td>118.0</td>\n",
       "      <td>8.0</td>\n",
       "      <td>72</td>\n",
       "      <td>5</td>\n",
       "      <td>2</td>\n",
       "    </tr>\n",
       "    <tr>\n",
       "      <th>2</th>\n",
       "      <td>12.0</td>\n",
       "      <td>149.0</td>\n",
       "      <td>12.6</td>\n",
       "      <td>74</td>\n",
       "      <td>5</td>\n",
       "      <td>3</td>\n",
       "    </tr>\n",
       "    <tr>\n",
       "      <th>3</th>\n",
       "      <td>18.0</td>\n",
       "      <td>313.0</td>\n",
       "      <td>11.5</td>\n",
       "      <td>62</td>\n",
       "      <td>5</td>\n",
       "      <td>4</td>\n",
       "    </tr>\n",
       "    <tr>\n",
       "      <th>4</th>\n",
       "      <td>NaN</td>\n",
       "      <td>NaN</td>\n",
       "      <td>14.3</td>\n",
       "      <td>56</td>\n",
       "      <td>5</td>\n",
       "      <td>5</td>\n",
       "    </tr>\n",
       "  </tbody>\n",
       "</table>\n",
       "</div>"
      ],
      "text/plain": [
       "   Ozone  Solar.R  Wind  Temp  Month  Day\n",
       "0   41.0    190.0   7.4    67      5    1\n",
       "1   36.0    118.0   8.0    72      5    2\n",
       "2   12.0    149.0  12.6    74      5    3\n",
       "3   18.0    313.0  11.5    62      5    4\n",
       "4    NaN      NaN  14.3    56      5    5"
      ]
     },
     "execution_count": 5,
     "metadata": {},
     "output_type": "execute_result"
    }
   ],
   "source": [
    "data = pandas.read_csv('../Data/Rdataset_airquality.csv')\n",
    "data.head()"
   ]
  },
  {
   "cell_type": "markdown",
   "id": "b54197aa-babe-4a39-8c0e-2086da45b7f7",
   "metadata": {},
   "source": [
    "## Rename for convenience"
   ]
  },
  {
   "cell_type": "code",
   "execution_count": 9,
   "id": "a68aa57e-ea0d-4dbb-866d-36edf4942f5a",
   "metadata": {},
   "outputs": [
    {
     "data": {
      "text/html": [
       "<div>\n",
       "<style scoped>\n",
       "    .dataframe tbody tr th:only-of-type {\n",
       "        vertical-align: middle;\n",
       "    }\n",
       "\n",
       "    .dataframe tbody tr th {\n",
       "        vertical-align: top;\n",
       "    }\n",
       "\n",
       "    .dataframe thead th {\n",
       "        text-align: right;\n",
       "    }\n",
       "</style>\n",
       "<table border=\"1\" class=\"dataframe\">\n",
       "  <thead>\n",
       "    <tr style=\"text-align: right;\">\n",
       "      <th></th>\n",
       "      <th>Ozone</th>\n",
       "      <th>Rad</th>\n",
       "      <th>Wind</th>\n",
       "      <th>Temp</th>\n",
       "      <th>Month</th>\n",
       "      <th>Day</th>\n",
       "    </tr>\n",
       "  </thead>\n",
       "  <tbody>\n",
       "    <tr>\n",
       "      <th>0</th>\n",
       "      <td>41.0</td>\n",
       "      <td>190.0</td>\n",
       "      <td>7.4</td>\n",
       "      <td>67</td>\n",
       "      <td>5</td>\n",
       "      <td>1</td>\n",
       "    </tr>\n",
       "    <tr>\n",
       "      <th>1</th>\n",
       "      <td>36.0</td>\n",
       "      <td>118.0</td>\n",
       "      <td>8.0</td>\n",
       "      <td>72</td>\n",
       "      <td>5</td>\n",
       "      <td>2</td>\n",
       "    </tr>\n",
       "    <tr>\n",
       "      <th>2</th>\n",
       "      <td>12.0</td>\n",
       "      <td>149.0</td>\n",
       "      <td>12.6</td>\n",
       "      <td>74</td>\n",
       "      <td>5</td>\n",
       "      <td>3</td>\n",
       "    </tr>\n",
       "    <tr>\n",
       "      <th>3</th>\n",
       "      <td>18.0</td>\n",
       "      <td>313.0</td>\n",
       "      <td>11.5</td>\n",
       "      <td>62</td>\n",
       "      <td>5</td>\n",
       "      <td>4</td>\n",
       "    </tr>\n",
       "    <tr>\n",
       "      <th>4</th>\n",
       "      <td>NaN</td>\n",
       "      <td>NaN</td>\n",
       "      <td>14.3</td>\n",
       "      <td>56</td>\n",
       "      <td>5</td>\n",
       "      <td>5</td>\n",
       "    </tr>\n",
       "  </tbody>\n",
       "</table>\n",
       "</div>"
      ],
      "text/plain": [
       "   Ozone    Rad  Wind  Temp  Month  Day\n",
       "0   41.0  190.0   7.4    67      5    1\n",
       "1   36.0  118.0   8.0    72      5    2\n",
       "2   12.0  149.0  12.6    74      5    3\n",
       "3   18.0  313.0  11.5    62      5    4\n",
       "4    NaN    NaN  14.3    56      5    5"
      ]
     },
     "execution_count": 9,
     "metadata": {},
     "output_type": "execute_result"
    }
   ],
   "source": [
    "data.rename(columns={'Solar.R': 'Rad'}, inplace=True)\n",
    "data.head()"
   ]
  },
  {
   "cell_type": "code",
   "execution_count": 21,
   "id": "65ef1821-95f7-4f0a-930b-b1f2e40d0518",
   "metadata": {},
   "outputs": [],
   "source": [
    "def square_it(x):\n",
    "    return x**2"
   ]
  },
  {
   "cell_type": "markdown",
   "id": "28e4004a-1092-48e0-83db-03e0b65fe9ae",
   "metadata": {},
   "source": [
    "# Build a comprehensive model"
   ]
  },
  {
   "cell_type": "code",
   "execution_count": 22,
   "id": "0794dc45-3ab8-472a-8f14-3ce89b0f0634",
   "metadata": {},
   "outputs": [],
   "source": [
    "formula = \"Ozone ~ Wind + Rad + Temp + square_it(Wind) + Wind*Temp*Rad -1\"  # -1 removes the Intercept\n",
    "mod1 = smf.glm(formula=formula, data=data).fit()#, family=sm.families.Binomial()).fit()"
   ]
  },
  {
   "cell_type": "code",
   "execution_count": 23,
   "id": "64895174-1e64-47df-bdef-19341bb488a5",
   "metadata": {},
   "outputs": [
    {
     "data": {
      "text/html": [
       "<table class=\"simpletable\">\n",
       "<caption>Generalized Linear Model Regression Results</caption>\n",
       "<tr>\n",
       "  <th>Dep. Variable:</th>         <td>Ozone</td>      <th>  No. Observations:  </th>  <td>   111</td> \n",
       "</tr>\n",
       "<tr>\n",
       "  <th>Model:</th>                  <td>GLM</td>       <th>  Df Residuals:      </th>  <td>   103</td> \n",
       "</tr>\n",
       "<tr>\n",
       "  <th>Model Family:</th>        <td>Gaussian</td>     <th>  Df Model:          </th>  <td>     7</td> \n",
       "</tr>\n",
       "<tr>\n",
       "  <th>Link Function:</th>       <td>identity</td>     <th>  Scale:             </th> <td>  335.28</td>\n",
       "</tr>\n",
       "<tr>\n",
       "  <th>Method:</th>                <td>IRLS</td>       <th>  Log-Likelihood:    </th> <td> -476.08</td>\n",
       "</tr>\n",
       "<tr>\n",
       "  <th>Date:</th>            <td>Mon, 18 Apr 2022</td> <th>  Deviance:          </th> <td>  34534.</td>\n",
       "</tr>\n",
       "<tr>\n",
       "  <th>Time:</th>                <td>10:29:36</td>     <th>  Pearson chi2:      </th> <td>3.45e+04</td>\n",
       "</tr>\n",
       "<tr>\n",
       "  <th>No. Iterations:</th>          <td>3</td>        <th>  Pseudo R-squ. (CS):</th>  <td>0.9044</td> \n",
       "</tr>\n",
       "<tr>\n",
       "  <th>Covariance Type:</th>     <td>nonrobust</td>    <th>                     </th>     <td> </td>   \n",
       "</tr>\n",
       "</table>\n",
       "<table class=\"simpletable\">\n",
       "<tr>\n",
       "         <td></td>            <th>coef</th>     <th>std err</th>      <th>z</th>      <th>P>|z|</th>  <th>[0.025</th>    <th>0.975]</th>  \n",
       "</tr>\n",
       "<tr>\n",
       "  <th>Wind</th>            <td>   -8.0331</td> <td>    3.504</td> <td>   -2.293</td> <td> 0.022</td> <td>  -14.900</td> <td>   -1.166</td>\n",
       "</tr>\n",
       "<tr>\n",
       "  <th>Rad</th>             <td>   -0.1330</td> <td>    0.377</td> <td>   -0.353</td> <td> 0.724</td> <td>   -0.871</td> <td>    0.605</td>\n",
       "</tr>\n",
       "<tr>\n",
       "  <th>Temp</th>            <td>    1.0515</td> <td>    0.284</td> <td>    3.705</td> <td> 0.000</td> <td>    0.495</td> <td>    1.608</td>\n",
       "</tr>\n",
       "<tr>\n",
       "  <th>square_it(Wind)</th> <td>    0.4057</td> <td>    0.124</td> <td>    3.275</td> <td> 0.001</td> <td>    0.163</td> <td>    0.648</td>\n",
       "</tr>\n",
       "<tr>\n",
       "  <th>Wind:Temp</th>       <td>   -0.0310</td> <td>    0.049</td> <td>   -0.627</td> <td> 0.531</td> <td>   -0.128</td> <td>    0.066</td>\n",
       "</tr>\n",
       "<tr>\n",
       "  <th>Wind:Rad</th>        <td>   -0.0110</td> <td>    0.037</td> <td>   -0.299</td> <td> 0.765</td> <td>   -0.083</td> <td>    0.061</td>\n",
       "</tr>\n",
       "<tr>\n",
       "  <th>Temp:Rad</th>        <td>    0.0041</td> <td>    0.005</td> <td>    0.842</td> <td> 0.400</td> <td>   -0.005</td> <td>    0.014</td>\n",
       "</tr>\n",
       "<tr>\n",
       "  <th>Wind:Temp:Rad</th>   <td> 2.167e-05</td> <td>    0.000</td> <td>    0.044</td> <td> 0.965</td> <td>   -0.001</td> <td>    0.001</td>\n",
       "</tr>\n",
       "</table>"
      ],
      "text/plain": [
       "<class 'statsmodels.iolib.summary.Summary'>\n",
       "\"\"\"\n",
       "                 Generalized Linear Model Regression Results                  \n",
       "==============================================================================\n",
       "Dep. Variable:                  Ozone   No. Observations:                  111\n",
       "Model:                            GLM   Df Residuals:                      103\n",
       "Model Family:                Gaussian   Df Model:                            7\n",
       "Link Function:               identity   Scale:                          335.28\n",
       "Method:                          IRLS   Log-Likelihood:                -476.08\n",
       "Date:                Mon, 18 Apr 2022   Deviance:                       34534.\n",
       "Time:                        10:29:36   Pearson chi2:                 3.45e+04\n",
       "No. Iterations:                     3   Pseudo R-squ. (CS):             0.9044\n",
       "Covariance Type:            nonrobust                                         \n",
       "===================================================================================\n",
       "                      coef    std err          z      P>|z|      [0.025      0.975]\n",
       "-----------------------------------------------------------------------------------\n",
       "Wind               -8.0331      3.504     -2.293      0.022     -14.900      -1.166\n",
       "Rad                -0.1330      0.377     -0.353      0.724      -0.871       0.605\n",
       "Temp                1.0515      0.284      3.705      0.000       0.495       1.608\n",
       "square_it(Wind)     0.4057      0.124      3.275      0.001       0.163       0.648\n",
       "Wind:Temp          -0.0310      0.049     -0.627      0.531      -0.128       0.066\n",
       "Wind:Rad           -0.0110      0.037     -0.299      0.765      -0.083       0.061\n",
       "Temp:Rad            0.0041      0.005      0.842      0.400      -0.005       0.014\n",
       "Wind:Temp:Rad    2.167e-05      0.000      0.044      0.965      -0.001       0.001\n",
       "===================================================================================\n",
       "\"\"\""
      ]
     },
     "execution_count": 23,
     "metadata": {},
     "output_type": "execute_result"
    }
   ],
   "source": [
    "mod1.summary()"
   ]
  },
  {
   "cell_type": "code",
   "execution_count": null,
   "id": "9a6dbeb4-f14f-4a5b-9554-51b9812e2e20",
   "metadata": {},
   "outputs": [],
   "source": []
  }
 ],
 "metadata": {
  "kernelspec": {
   "display_name": "Python 3 (ipykernel)",
   "language": "python",
   "name": "python3"
  },
  "language_info": {
   "codemirror_mode": {
    "name": "ipython",
    "version": 3
   },
   "file_extension": ".py",
   "mimetype": "text/x-python",
   "name": "python",
   "nbconvert_exporter": "python",
   "pygments_lexer": "ipython3",
   "version": "3.9.7"
  }
 },
 "nbformat": 4,
 "nbformat_minor": 5
}
