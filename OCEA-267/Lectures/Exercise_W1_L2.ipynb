{
 "cells": [
  {
   "cell_type": "markdown",
   "id": "bb374c97-b7f6-468f-8f90-3944a889586b",
   "metadata": {},
   "source": [
    "# Exercise W1 L2"
   ]
  },
  {
   "cell_type": "code",
   "execution_count": 4,
   "id": "fed4dedb-384a-4f7b-bccb-abcf8d465833",
   "metadata": {},
   "outputs": [],
   "source": [
    "# imports\n",
    "import numpy as np\n",
    "import pandas"
   ]
  },
  {
   "cell_type": "markdown",
   "id": "c7191e8f-91f8-4470-99f4-ac5f98a7e58f",
   "metadata": {},
   "source": [
    "# Matrices"
   ]
  },
  {
   "cell_type": "markdown",
   "id": "710cbfb2-570a-4bf6-ac84-c185eaa13bc6",
   "metadata": {},
   "source": [
    "## 1. Create a vector with 10 values (you choose) with the function “c”."
   ]
  },
  {
   "cell_type": "code",
   "execution_count": 5,
   "id": "7d91a123-009e-424e-8fa4-237602937f36",
   "metadata": {},
   "outputs": [
    {
     "data": {
      "text/plain": [
       "array([0, 1, 2, 3, 4, 5, 6, 7, 8, 9])"
      ]
     },
     "execution_count": 5,
     "metadata": {},
     "output_type": "execute_result"
    }
   ],
   "source": [
    "vec = np.arange(10)\n",
    "vec"
   ]
  },
  {
   "cell_type": "markdown",
   "id": "b692fae0-0b1d-4651-94cd-8dc56e98530c",
   "metadata": {},
   "source": [
    "## 2. Build a 4×3 matrix with ones everywhere (using “matrix”)."
   ]
  },
  {
   "cell_type": "code",
   "execution_count": 6,
   "id": "f2f2d09d-b1b1-410f-bc9b-9eaa809f948e",
   "metadata": {},
   "outputs": [
    {
     "data": {
      "text/plain": [
       "array([[1., 1., 1.],\n",
       "       [1., 1., 1.],\n",
       "       [1., 1., 1.],\n",
       "       [1., 1., 1.]])"
      ]
     },
     "execution_count": 6,
     "metadata": {},
     "output_type": "execute_result"
    }
   ],
   "source": [
    "matrix = np.ones((4,3))\n",
    "matrix"
   ]
  },
  {
   "cell_type": "markdown",
   "id": "0c0de264-4b20-41f6-a873-676bd88c6658",
   "metadata": {},
   "source": [
    "## 3. Build a 4×3 matrix, assigned to variable A, with the numbers 1 through 3 in each column.\n"
   ]
  },
  {
   "cell_type": "code",
   "execution_count": 12,
   "id": "e267f22e-6fb2-48f1-9a22-78397aafc98c",
   "metadata": {},
   "outputs": [
    {
     "data": {
      "text/plain": [
       "array([1., 2., 3.])"
      ]
     },
     "execution_count": 12,
     "metadata": {},
     "output_type": "execute_result"
    }
   ],
   "source": [
    "A = np.outer(np.arange(3)+1, np.ones(4))\n",
    "A[:,0]"
   ]
  },
  {
   "cell_type": "markdown",
   "id": "8be9631e-2a85-473f-b619-e0c4e795c391",
   "metadata": {},
   "source": [
    "## 4. Build a 4x3 matrix, assigned to B, with the numbers 1 to 4 in each row. "
   ]
  },
  {
   "cell_type": "code",
   "execution_count": 15,
   "id": "b53f4e44-cb76-4252-9779-01f1970034ef",
   "metadata": {},
   "outputs": [
    {
     "data": {
      "text/plain": [
       "array([1., 2., 3., 4.])"
      ]
     },
     "execution_count": 15,
     "metadata": {},
     "output_type": "execute_result"
    }
   ],
   "source": [
    "B = np.outer(np.ones(3), np.arange(4)+1)\n",
    "B[0,:]"
   ]
  },
  {
   "cell_type": "markdown",
   "id": "c590ac77-e386-46d1-b4b8-79f4d8cb8310",
   "metadata": {},
   "source": [
    "## 5. Extract the elements in the 1st and 2nd rows and 1st and 2nd columns of matrix A created above and assign to matrix S (you’ll have a 2×2 matrix).\n"
   ]
  },
  {
   "cell_type": "code",
   "execution_count": 16,
   "id": "db2644c8-667e-4da1-811d-e614f84e6d14",
   "metadata": {},
   "outputs": [
    {
     "data": {
      "text/plain": [
       "array([[1., 1.],\n",
       "       [2., 2.]])"
      ]
     },
     "execution_count": 16,
     "metadata": {},
     "output_type": "execute_result"
    }
   ],
   "source": [
    "S = A[0:2,0:2]\n",
    "S"
   ]
  },
  {
   "cell_type": "markdown",
   "id": "7087bd08-7a81-4d31-aca3-36b453bbc28c",
   "metadata": {},
   "source": [
    "## 6. Build a 2x2 matrix filled with NAs."
   ]
  },
  {
   "cell_type": "code",
   "execution_count": 17,
   "id": "97e44775-10e6-4eec-a663-2c8f85795275",
   "metadata": {},
   "outputs": [
    {
     "data": {
      "text/plain": [
       "array([[nan, nan],\n",
       "       [nan, nan]])"
      ]
     },
     "execution_count": 17,
     "metadata": {},
     "output_type": "execute_result"
    }
   ],
   "source": [
    "NaNs = np.ones((2,2)) * np.nan\n",
    "NaNs"
   ]
  },
  {
   "cell_type": "markdown",
   "id": "26039fa2-278f-49a9-9382-0ff9e1417817",
   "metadata": {},
   "source": [
    "----"
   ]
  },
  {
   "cell_type": "code",
   "execution_count": null,
   "id": "ece9e591-568b-4f14-ab30-75bbb6ed4151",
   "metadata": {},
   "outputs": [],
   "source": []
  }
 ],
 "metadata": {
  "kernelspec": {
   "display_name": "Python 3 (ipykernel)",
   "language": "python",
   "name": "python3"
  },
  "language_info": {
   "codemirror_mode": {
    "name": "ipython",
    "version": 3
   },
   "file_extension": ".py",
   "mimetype": "text/x-python",
   "name": "python",
   "nbconvert_exporter": "python",
   "pygments_lexer": "ipython3",
   "version": "3.9.7"
  }
 },
 "nbformat": 4,
 "nbformat_minor": 5
}
