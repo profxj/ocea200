{
 "cells": [
  {
   "cell_type": "markdown",
   "id": "fb3e60fd-03f2-42d7-b550-04dc7cc22057",
   "metadata": {},
   "source": [
    "# Exercise W4 Lecture 8"
   ]
  },
  {
   "cell_type": "code",
   "execution_count": 42,
   "id": "1cdf3c96-2c0b-49a3-835c-832f1f069f8f",
   "metadata": {},
   "outputs": [],
   "source": [
    "# imports\n",
    "import numpy as np\n",
    "from scipy.ndimage import uniform_filter1d\n",
    "from scipy.stats import shapiro, bartlett\n",
    "from matplotlib import pyplot as plt\n",
    "import pandas\n",
    "\n",
    "from statsmodels.tsa.seasonal import seasonal_decompose\n",
    "import statsmodels.api as sm\n",
    "from statsmodels.stats.stattools import durbin_watson\n",
    "import statsmodels.formula.api as smf"
   ]
  },
  {
   "cell_type": "markdown",
   "id": "e12ed381-e319-40ac-ad7b-23a4c2a4cb61",
   "metadata": {},
   "source": [
    "# Useful functions"
   ]
  },
  {
   "cell_type": "code",
   "execution_count": 9,
   "id": "ee9c63cf-e96d-4f78-8ea8-675ce6176a8f",
   "metadata": {},
   "outputs": [],
   "source": [
    "def square_it(x):\n",
    "    return x**2"
   ]
  },
  {
   "cell_type": "code",
   "execution_count": 10,
   "id": "f09386be-a52c-4f63-8ec5-29fead4b8afc",
   "metadata": {},
   "outputs": [],
   "source": [
    "def log_it(x):\n",
    "    return np.log10(x)"
   ]
  },
  {
   "cell_type": "markdown",
   "id": "9dc4d432-4eae-4639-8b94-0ad51a93f744",
   "metadata": {},
   "source": [
    "# Load data"
   ]
  },
  {
   "cell_type": "code",
   "execution_count": 3,
   "id": "51da6645-cb00-4796-a87a-ff712f4e1499",
   "metadata": {},
   "outputs": [],
   "source": [
    "data = pandas.read_csv('../Data/Rdataset_airquality.csv')"
   ]
  },
  {
   "cell_type": "markdown",
   "id": "30efad6d-62aa-4b23-8c4b-3695a169b390",
   "metadata": {},
   "source": [
    "## 1. Remove NaNs"
   ]
  },
  {
   "cell_type": "code",
   "execution_count": 4,
   "id": "0f8c96e6-fa82-4eda-b109-16519bdc13fa",
   "metadata": {},
   "outputs": [],
   "source": [
    "goods = []\n",
    "for key in data.keys():\n",
    "    good = np.isfinite(data[key].values)\n",
    "    goods.append(good)\n",
    "#\n",
    "all_good = np.all(goods, axis=0)\n",
    "#\n",
    "data = data[all_good].copy()"
   ]
  },
  {
   "cell_type": "code",
   "execution_count": 6,
   "id": "1577e1ca-1eb5-4935-afb1-478dab75bba3",
   "metadata": {},
   "outputs": [],
   "source": [
    "data.rename(columns={'Solar.R': 'Rad'}, inplace=True)"
   ]
  },
  {
   "cell_type": "code",
   "execution_count": 7,
   "id": "7c57a76b-5dd2-4757-ab20-2b9b2a5094d0",
   "metadata": {},
   "outputs": [
    {
     "data": {
      "text/html": [
       "<div>\n",
       "<style scoped>\n",
       "    .dataframe tbody tr th:only-of-type {\n",
       "        vertical-align: middle;\n",
       "    }\n",
       "\n",
       "    .dataframe tbody tr th {\n",
       "        vertical-align: top;\n",
       "    }\n",
       "\n",
       "    .dataframe thead th {\n",
       "        text-align: right;\n",
       "    }\n",
       "</style>\n",
       "<table border=\"1\" class=\"dataframe\">\n",
       "  <thead>\n",
       "    <tr style=\"text-align: right;\">\n",
       "      <th></th>\n",
       "      <th>Ozone</th>\n",
       "      <th>Rad</th>\n",
       "      <th>Wind</th>\n",
       "      <th>Temp</th>\n",
       "      <th>Month</th>\n",
       "      <th>Day</th>\n",
       "    </tr>\n",
       "    <tr>\n",
       "      <th>date</th>\n",
       "      <th></th>\n",
       "      <th></th>\n",
       "      <th></th>\n",
       "      <th></th>\n",
       "      <th></th>\n",
       "      <th></th>\n",
       "    </tr>\n",
       "  </thead>\n",
       "  <tbody>\n",
       "    <tr>\n",
       "      <th>2015-05-01</th>\n",
       "      <td>41.0</td>\n",
       "      <td>190.0</td>\n",
       "      <td>7.4</td>\n",
       "      <td>67</td>\n",
       "      <td>5</td>\n",
       "      <td>1</td>\n",
       "    </tr>\n",
       "    <tr>\n",
       "      <th>2015-05-02</th>\n",
       "      <td>36.0</td>\n",
       "      <td>118.0</td>\n",
       "      <td>8.0</td>\n",
       "      <td>72</td>\n",
       "      <td>5</td>\n",
       "      <td>2</td>\n",
       "    </tr>\n",
       "    <tr>\n",
       "      <th>2015-05-03</th>\n",
       "      <td>12.0</td>\n",
       "      <td>149.0</td>\n",
       "      <td>12.6</td>\n",
       "      <td>74</td>\n",
       "      <td>5</td>\n",
       "      <td>3</td>\n",
       "    </tr>\n",
       "    <tr>\n",
       "      <th>2015-05-04</th>\n",
       "      <td>18.0</td>\n",
       "      <td>313.0</td>\n",
       "      <td>11.5</td>\n",
       "      <td>62</td>\n",
       "      <td>5</td>\n",
       "      <td>4</td>\n",
       "    </tr>\n",
       "    <tr>\n",
       "      <th>2015-05-07</th>\n",
       "      <td>23.0</td>\n",
       "      <td>299.0</td>\n",
       "      <td>8.6</td>\n",
       "      <td>65</td>\n",
       "      <td>5</td>\n",
       "      <td>7</td>\n",
       "    </tr>\n",
       "  </tbody>\n",
       "</table>\n",
       "</div>"
      ],
      "text/plain": [
       "            Ozone    Rad  Wind  Temp  Month  Day\n",
       "date                                            \n",
       "2015-05-01   41.0  190.0   7.4    67      5    1\n",
       "2015-05-02   36.0  118.0   8.0    72      5    2\n",
       "2015-05-03   12.0  149.0  12.6    74      5    3\n",
       "2015-05-04   18.0  313.0  11.5    62      5    4\n",
       "2015-05-07   23.0  299.0   8.6    65      5    7"
      ]
     },
     "execution_count": 7,
     "metadata": {},
     "output_type": "execute_result"
    }
   ],
   "source": [
    "year = 2015\n",
    "dates = []\n",
    "for index, row in data.iterrows():\n",
    "    dates.append(f'{int(year)}-{int(row.Month)}-{int(row.Day)}')\n",
    "dates = pandas.to_datetime(dates)\n",
    "data['date'] = dates\n",
    "data.set_index('date', inplace=True)\n",
    "data.head()"
   ]
  },
  {
   "cell_type": "markdown",
   "id": "50db090a-1682-46ba-a6e6-d553e6e1f881",
   "metadata": {},
   "source": [
    "# 2. Pair plotting"
   ]
  },
  {
   "cell_type": "code",
   "execution_count": 31,
   "id": "de597dbb-6bce-440a-b249-55a69ff4217d",
   "metadata": {},
   "outputs": [
    {
     "data": {
      "text/plain": [
       "<Figure size 432x288 with 0 Axes>"
      ]
     },
     "metadata": {},
     "output_type": "display_data"
    },
    {
     "data": {
      "image/png": "[encoded data removed]",
      "text/plain": [
       "<Figure size 720x720 with 16 Axes>"
      ]
     },
     "metadata": {
      "needs_background": "light"
     },
     "output_type": "display_data"
    }
   ],
   "source": [
    "plt.clf()\n",
    "_ = pandas.plotting.scatter_matrix(data[['Ozone', 'Rad', 'Wind', 'Temp']], figsize=(10,10))\n",
    "#fig.set_size_inches((14, 9))"
   ]
  },
  {
   "cell_type": "markdown",
   "id": "ab5e21ce-a7e5-4eeb-be20-dbe9bffbaab6",
   "metadata": {},
   "source": [
    "# 3. Fit Full Model"
   ]
  },
  {
   "cell_type": "code",
   "execution_count": 13,
   "id": "a226e37d-3b8e-4c27-b58b-aacbca740483",
   "metadata": {},
   "outputs": [
    {
     "data": {
      "text/html": [
       "<table class=\"simpletable\">\n",
       "<caption>Generalized Linear Model Regression Results</caption>\n",
       "<tr>\n",
       "  <th>Dep. Variable:</th>     <td>log_it(Ozone)</td>  <th>  No. Observations:  </th>  <td>   111</td> \n",
       "</tr>\n",
       "<tr>\n",
       "  <th>Model:</th>                  <td>GLM</td>       <th>  Df Residuals:      </th>  <td>   100</td> \n",
       "</tr>\n",
       "<tr>\n",
       "  <th>Model Family:</th>        <td>Gaussian</td>     <th>  Df Model:          </th>  <td>    10</td> \n",
       "</tr>\n",
       "<tr>\n",
       "  <th>Link Function:</th>       <td>identity</td>     <th>  Scale:             </th> <td>0.044893</td>\n",
       "</tr>\n",
       "<tr>\n",
       "  <th>Method:</th>                <td>IRLS</td>       <th>  Log-Likelihood:    </th> <td>  20.533</td>\n",
       "</tr>\n",
       "<tr>\n",
       "  <th>Date:</th>            <td>Wed, 20 Apr 2022</td> <th>  Deviance:          </th> <td>  4.4893</td>\n",
       "</tr>\n",
       "<tr>\n",
       "  <th>Time:</th>                <td>10:02:42</td>     <th>  Pearson chi2:      </th>  <td>  4.49</td> \n",
       "</tr>\n",
       "<tr>\n",
       "  <th>No. Iterations:</th>          <td>3</td>        <th>  Pseudo R-squ. (CS):</th>  <td>0.8920</td> \n",
       "</tr>\n",
       "<tr>\n",
       "  <th>Covariance Type:</th>     <td>nonrobust</td>    <th>                     </th>     <td> </td>   \n",
       "</tr>\n",
       "</table>\n",
       "<table class=\"simpletable\">\n",
       "<tr>\n",
       "         <td></td>            <th>coef</th>     <th>std err</th>      <th>z</th>      <th>P>|z|</th>  <th>[0.025</th>    <th>0.975]</th>  \n",
       "</tr>\n",
       "<tr>\n",
       "  <th>Intercept</th>       <td>    1.2103</td> <td>    2.466</td> <td>    0.491</td> <td> 0.624</td> <td>   -3.623</td> <td>    6.044</td>\n",
       "</tr>\n",
       "<tr>\n",
       "  <th>Wind</th>            <td>   -0.0424</td> <td>    0.140</td> <td>   -0.303</td> <td> 0.762</td> <td>   -0.316</td> <td>    0.231</td>\n",
       "</tr>\n",
       "<tr>\n",
       "  <th>Rad</th>             <td>    0.0120</td> <td>    0.007</td> <td>    1.810</td> <td> 0.070</td> <td>   -0.001</td> <td>    0.025</td>\n",
       "</tr>\n",
       "<tr>\n",
       "  <th>Temp</th>            <td>   -0.0129</td> <td>    0.051</td> <td>   -0.253</td> <td> 0.800</td> <td>   -0.113</td> <td>    0.087</td>\n",
       "</tr>\n",
       "<tr>\n",
       "  <th>square_it(Wind)</th> <td>    0.0038</td> <td>    0.002</td> <td>    2.165</td> <td> 0.030</td> <td>    0.000</td> <td>    0.007</td>\n",
       "</tr>\n",
       "<tr>\n",
       "  <th>square_it(Rad)</th>  <td>-6.461e-06</td> <td> 3.06e-06</td> <td>   -2.112</td> <td> 0.035</td> <td>-1.25e-05</td> <td>-4.65e-07</td>\n",
       "</tr>\n",
       "<tr>\n",
       "  <th>square_it(Temp)</th> <td>    0.0003</td> <td>    0.000</td> <td>    0.916</td> <td> 0.360</td> <td>   -0.000</td> <td>    0.001</td>\n",
       "</tr>\n",
       "<tr>\n",
       "  <th>Wind:Temp</th>       <td>   -0.0009</td> <td>    0.002</td> <td>   -0.531</td> <td> 0.596</td> <td>   -0.004</td> <td>    0.002</td>\n",
       "</tr>\n",
       "<tr>\n",
       "  <th>Wind:Rad</th>        <td>   -0.0009</td> <td>    0.001</td> <td>   -1.493</td> <td> 0.136</td> <td>   -0.002</td> <td>    0.000</td>\n",
       "</tr>\n",
       "<tr>\n",
       "  <th>Temp:Rad</th>        <td>   -0.0001</td> <td> 8.93e-05</td> <td>   -1.217</td> <td> 0.224</td> <td>   -0.000</td> <td> 6.64e-05</td>\n",
       "</tr>\n",
       "<tr>\n",
       "  <th>Wind:Temp:Rad</th>   <td>   1.1e-05</td> <td> 7.84e-06</td> <td>    1.402</td> <td> 0.161</td> <td>-4.38e-06</td> <td> 2.64e-05</td>\n",
       "</tr>\n",
       "</table>"
      ],
      "text/plain": [
       "<class 'statsmodels.iolib.summary.Summary'>\n",
       "\"\"\"\n",
       "                 Generalized Linear Model Regression Results                  \n",
       "==============================================================================\n",
       "Dep. Variable:          log_it(Ozone)   No. Observations:                  111\n",
       "Model:                            GLM   Df Residuals:                      100\n",
       "Model Family:                Gaussian   Df Model:                           10\n",
       "Link Function:               identity   Scale:                        0.044893\n",
       "Method:                          IRLS   Log-Likelihood:                 20.533\n",
       "Date:                Wed, 20 Apr 2022   Deviance:                       4.4893\n",
       "Time:                        10:02:42   Pearson chi2:                     4.49\n",
       "No. Iterations:                     3   Pseudo R-squ. (CS):             0.8920\n",
       "Covariance Type:            nonrobust                                         \n",
       "===================================================================================\n",
       "                      coef    std err          z      P>|z|      [0.025      0.975]\n",
       "-----------------------------------------------------------------------------------\n",
       "Intercept           1.2103      2.466      0.491      0.624      -3.623       6.044\n",
       "Wind               -0.0424      0.140     -0.303      0.762      -0.316       0.231\n",
       "Rad                 0.0120      0.007      1.810      0.070      -0.001       0.025\n",
       "Temp               -0.0129      0.051     -0.253      0.800      -0.113       0.087\n",
       "square_it(Wind)     0.0038      0.002      2.165      0.030       0.000       0.007\n",
       "square_it(Rad)  -6.461e-06   3.06e-06     -2.112      0.035   -1.25e-05   -4.65e-07\n",
       "square_it(Temp)     0.0003      0.000      0.916      0.360      -0.000       0.001\n",
       "Wind:Temp          -0.0009      0.002     -0.531      0.596      -0.004       0.002\n",
       "Wind:Rad           -0.0009      0.001     -1.493      0.136      -0.002       0.000\n",
       "Temp:Rad           -0.0001   8.93e-05     -1.217      0.224      -0.000    6.64e-05\n",
       "Wind:Temp:Rad      1.1e-05   7.84e-06      1.402      0.161   -4.38e-06    2.64e-05\n",
       "===================================================================================\n",
       "\"\"\""
      ]
     },
     "execution_count": 13,
     "metadata": {},
     "output_type": "execute_result"
    }
   ],
   "source": [
    "full_formula = \"log_it(Ozone) ~ Wind + Rad + Temp + square_it(Wind) + square_it(Rad) + square_it(Temp) + Wind*Temp*Rad\"  # -1 removes the Intercept\n",
    "full_model = smf.glm(formula=full_formula, data=data).fit()#, family=sm.families.Binomial()).fit()\n",
    "full_model.summary()"
   ]
  },
  {
   "cell_type": "markdown",
   "id": "6bb94680-52f5-4c64-a63b-4fdfd0a0d638",
   "metadata": {},
   "source": [
    "## Drop the 3-way interaction"
   ]
  },
  {
   "cell_type": "code",
   "execution_count": 14,
   "id": "68a050fc-79da-4160-9ea2-aea8b1ed1011",
   "metadata": {},
   "outputs": [
    {
     "data": {
      "text/html": [
       "<table class=\"simpletable\">\n",
       "<caption>Generalized Linear Model Regression Results</caption>\n",
       "<tr>\n",
       "  <th>Dep. Variable:</th>     <td>log_it(Ozone)</td>  <th>  No. Observations:  </th>  <td>   111</td> \n",
       "</tr>\n",
       "<tr>\n",
       "  <th>Model:</th>                  <td>GLM</td>       <th>  Df Residuals:      </th>  <td>   101</td> \n",
       "</tr>\n",
       "<tr>\n",
       "  <th>Model Family:</th>        <td>Gaussian</td>     <th>  Df Model:          </th>  <td>     9</td> \n",
       "</tr>\n",
       "<tr>\n",
       "  <th>Link Function:</th>       <td>identity</td>     <th>  Scale:             </th> <td>0.045322</td>\n",
       "</tr>\n",
       "<tr>\n",
       "  <th>Method:</th>                <td>IRLS</td>       <th>  Log-Likelihood:    </th> <td>  19.453</td>\n",
       "</tr>\n",
       "<tr>\n",
       "  <th>Date:</th>            <td>Wed, 20 Apr 2022</td> <th>  Deviance:          </th> <td>  4.5775</td>\n",
       "</tr>\n",
       "<tr>\n",
       "  <th>Time:</th>                <td>10:06:42</td>     <th>  Pearson chi2:      </th>  <td>  4.58</td> \n",
       "</tr>\n",
       "<tr>\n",
       "  <th>No. Iterations:</th>          <td>3</td>        <th>  Pseudo R-squ. (CS):</th>  <td>0.8877</td> \n",
       "</tr>\n",
       "<tr>\n",
       "  <th>Covariance Type:</th>     <td>nonrobust</td>    <th>                     </th>     <td> </td>   \n",
       "</tr>\n",
       "</table>\n",
       "<table class=\"simpletable\">\n",
       "<tr>\n",
       "         <td></td>            <th>coef</th>     <th>std err</th>      <th>z</th>      <th>P>|z|</th>  <th>[0.025</th>    <th>0.975]</th>  \n",
       "</tr>\n",
       "<tr>\n",
       "  <th>Intercept</th>       <td>    2.3269</td> <td>    2.345</td> <td>    0.992</td> <td> 0.321</td> <td>   -2.270</td> <td>    6.923</td>\n",
       "</tr>\n",
       "<tr>\n",
       "  <th>Wind</th>            <td>   -0.1532</td> <td>    0.116</td> <td>   -1.324</td> <td> 0.185</td> <td>   -0.380</td> <td>    0.074</td>\n",
       "</tr>\n",
       "<tr>\n",
       "  <th>Rad</th>             <td>    0.0034</td> <td>    0.003</td> <td>    1.334</td> <td> 0.182</td> <td>   -0.002</td> <td>    0.008</td>\n",
       "</tr>\n",
       "<tr>\n",
       "  <th>Temp</th>            <td>   -0.0269</td> <td>    0.050</td> <td>   -0.533</td> <td> 0.594</td> <td>   -0.126</td> <td>    0.072</td>\n",
       "</tr>\n",
       "<tr>\n",
       "  <th>square_it(Wind)</th> <td>    0.0036</td> <td>    0.002</td> <td>    2.064</td> <td> 0.039</td> <td>    0.000</td> <td>    0.007</td>\n",
       "</tr>\n",
       "<tr>\n",
       "  <th>square_it(Rad)</th>  <td>-7.048e-06</td> <td> 3.05e-06</td> <td>   -2.315</td> <td> 0.021</td> <td> -1.3e-05</td> <td>-1.08e-06</td>\n",
       "</tr>\n",
       "<tr>\n",
       "  <th>square_it(Temp)</th> <td>    0.0002</td> <td>    0.000</td> <td>    0.808</td> <td> 0.419</td> <td>   -0.000</td> <td>    0.001</td>\n",
       "</tr>\n",
       "<tr>\n",
       "  <th>Wind:Temp</th>       <td>    0.0008</td> <td>    0.001</td> <td>    0.679</td> <td> 0.497</td> <td>   -0.001</td> <td>    0.003</td>\n",
       "</tr>\n",
       "<tr>\n",
       "  <th>Wind:Rad</th>        <td>-5.962e-05</td> <td> 7.53e-05</td> <td>   -0.792</td> <td> 0.428</td> <td>   -0.000</td> <td> 8.79e-05</td>\n",
       "</tr>\n",
       "<tr>\n",
       "  <th>Temp:Rad</th>        <td> 9.605e-06</td> <td> 2.95e-05</td> <td>    0.326</td> <td> 0.744</td> <td>-4.81e-05</td> <td> 6.74e-05</td>\n",
       "</tr>\n",
       "</table>"
      ],
      "text/plain": [
       "<class 'statsmodels.iolib.summary.Summary'>\n",
       "\"\"\"\n",
       "                 Generalized Linear Model Regression Results                  \n",
       "==============================================================================\n",
       "Dep. Variable:          log_it(Ozone)   No. Observations:                  111\n",
       "Model:                            GLM   Df Residuals:                      101\n",
       "Model Family:                Gaussian   Df Model:                            9\n",
       "Link Function:               identity   Scale:                        0.045322\n",
       "Method:                          IRLS   Log-Likelihood:                 19.453\n",
       "Date:                Wed, 20 Apr 2022   Deviance:                       4.5775\n",
       "Time:                        10:06:42   Pearson chi2:                     4.58\n",
       "No. Iterations:                     3   Pseudo R-squ. (CS):             0.8877\n",
       "Covariance Type:            nonrobust                                         \n",
       "===================================================================================\n",
       "                      coef    std err          z      P>|z|      [0.025      0.975]\n",
       "-----------------------------------------------------------------------------------\n",
       "Intercept           2.3269      2.345      0.992      0.321      -2.270       6.923\n",
       "Wind               -0.1532      0.116     -1.324      0.185      -0.380       0.074\n",
       "Rad                 0.0034      0.003      1.334      0.182      -0.002       0.008\n",
       "Temp               -0.0269      0.050     -0.533      0.594      -0.126       0.072\n",
       "square_it(Wind)     0.0036      0.002      2.064      0.039       0.000       0.007\n",
       "square_it(Rad)  -7.048e-06   3.05e-06     -2.315      0.021    -1.3e-05   -1.08e-06\n",
       "square_it(Temp)     0.0002      0.000      0.808      0.419      -0.000       0.001\n",
       "Wind:Temp           0.0008      0.001      0.679      0.497      -0.001       0.003\n",
       "Wind:Rad        -5.962e-05   7.53e-05     -0.792      0.428      -0.000    8.79e-05\n",
       "Temp:Rad         9.605e-06   2.95e-05      0.326      0.744   -4.81e-05    6.74e-05\n",
       "===================================================================================\n",
       "\"\"\""
      ]
     },
     "execution_count": 14,
     "metadata": {},
     "output_type": "execute_result"
    }
   ],
   "source": [
    "new_formula = \"log_it(Ozone) ~ Wind + Rad + Temp + square_it(Wind) + square_it(Rad) + square_it(Temp) + Wind*Temp*Rad - Wind:Temp:Rad\"  # -1 removes the Intercept\n",
    "new_model = smf.glm(formula=new_formula, data=data).fit()#, family=sm.families.Binomial()).fit()\n",
    "new_model.summary()"
   ]
  },
  {
   "cell_type": "markdown",
   "id": "847bab5b-f9be-4ea7-80b5-1ac13c0969a3",
   "metadata": {},
   "source": [
    "## Drop Temp:Rad"
   ]
  },
  {
   "cell_type": "code",
   "execution_count": 15,
   "id": "13ee38d8-f18d-48b0-a8a4-1e17455c1a2c",
   "metadata": {},
   "outputs": [
    {
     "data": {
      "text/html": [
       "<table class=\"simpletable\">\n",
       "<caption>Generalized Linear Model Regression Results</caption>\n",
       "<tr>\n",
       "  <th>Dep. Variable:</th>     <td>log_it(Ozone)</td>  <th>  No. Observations:  </th>  <td>   111</td> \n",
       "</tr>\n",
       "<tr>\n",
       "  <th>Model:</th>                  <td>GLM</td>       <th>  Df Residuals:      </th>  <td>   102</td> \n",
       "</tr>\n",
       "<tr>\n",
       "  <th>Model Family:</th>        <td>Gaussian</td>     <th>  Df Model:          </th>  <td>     8</td> \n",
       "</tr>\n",
       "<tr>\n",
       "  <th>Link Function:</th>       <td>identity</td>     <th>  Scale:             </th> <td>0.044924</td>\n",
       "</tr>\n",
       "<tr>\n",
       "  <th>Method:</th>                <td>IRLS</td>       <th>  Log-Likelihood:    </th> <td>  19.395</td>\n",
       "</tr>\n",
       "<tr>\n",
       "  <th>Date:</th>            <td>Wed, 20 Apr 2022</td> <th>  Deviance:          </th> <td>  4.5823</td>\n",
       "</tr>\n",
       "<tr>\n",
       "  <th>Time:</th>                <td>10:07:13</td>     <th>  Pearson chi2:      </th>  <td>  4.58</td> \n",
       "</tr>\n",
       "<tr>\n",
       "  <th>No. Iterations:</th>          <td>3</td>        <th>  Pseudo R-squ. (CS):</th>  <td>0.8896</td> \n",
       "</tr>\n",
       "<tr>\n",
       "  <th>Covariance Type:</th>     <td>nonrobust</td>    <th>                     </th>     <td> </td>   \n",
       "</tr>\n",
       "</table>\n",
       "<table class=\"simpletable\">\n",
       "<tr>\n",
       "         <td></td>            <th>coef</th>     <th>std err</th>      <th>z</th>      <th>P>|z|</th>  <th>[0.025</th>    <th>0.975]</th>  \n",
       "</tr>\n",
       "<tr>\n",
       "  <th>Intercept</th>       <td>    2.3892</td> <td>    2.327</td> <td>    1.027</td> <td> 0.305</td> <td>   -2.172</td> <td>    6.950</td>\n",
       "</tr>\n",
       "<tr>\n",
       "  <th>Wind</th>            <td>   -0.1550</td> <td>    0.115</td> <td>   -1.348</td> <td> 0.178</td> <td>   -0.380</td> <td>    0.070</td>\n",
       "</tr>\n",
       "<tr>\n",
       "  <th>Rad</th>             <td>    0.0041</td> <td>    0.001</td> <td>    3.139</td> <td> 0.002</td> <td>    0.002</td> <td>    0.007</td>\n",
       "</tr>\n",
       "<tr>\n",
       "  <th>Temp</th>            <td>   -0.0300</td> <td>    0.049</td> <td>   -0.610</td> <td> 0.542</td> <td>   -0.127</td> <td>    0.067</td>\n",
       "</tr>\n",
       "<tr>\n",
       "  <th>square_it(Wind)</th> <td>    0.0037</td> <td>    0.002</td> <td>    2.109</td> <td> 0.035</td> <td>    0.000</td> <td>    0.007</td>\n",
       "</tr>\n",
       "<tr>\n",
       "  <th>square_it(Rad)</th>  <td> -6.87e-06</td> <td> 2.98e-06</td> <td>   -2.304</td> <td> 0.021</td> <td>-1.27e-05</td> <td>-1.02e-06</td>\n",
       "</tr>\n",
       "<tr>\n",
       "  <th>square_it(Temp)</th> <td>    0.0003</td> <td>    0.000</td> <td>    0.972</td> <td> 0.331</td> <td>   -0.000</td> <td>    0.001</td>\n",
       "</tr>\n",
       "<tr>\n",
       "  <th>Wind:Temp</th>       <td>    0.0008</td> <td>    0.001</td> <td>    0.708</td> <td> 0.479</td> <td>   -0.001</td> <td>    0.003</td>\n",
       "</tr>\n",
       "<tr>\n",
       "  <th>Wind:Rad</th>        <td>-6.614e-05</td> <td> 7.22e-05</td> <td>   -0.916</td> <td> 0.360</td> <td>   -0.000</td> <td> 7.54e-05</td>\n",
       "</tr>\n",
       "</table>"
      ],
      "text/plain": [
       "<class 'statsmodels.iolib.summary.Summary'>\n",
       "\"\"\"\n",
       "                 Generalized Linear Model Regression Results                  \n",
       "==============================================================================\n",
       "Dep. Variable:          log_it(Ozone)   No. Observations:                  111\n",
       "Model:                            GLM   Df Residuals:                      102\n",
       "Model Family:                Gaussian   Df Model:                            8\n",
       "Link Function:               identity   Scale:                        0.044924\n",
       "Method:                          IRLS   Log-Likelihood:                 19.395\n",
       "Date:                Wed, 20 Apr 2022   Deviance:                       4.5823\n",
       "Time:                        10:07:13   Pearson chi2:                     4.58\n",
       "No. Iterations:                     3   Pseudo R-squ. (CS):             0.8896\n",
       "Covariance Type:            nonrobust                                         \n",
       "===================================================================================\n",
       "                      coef    std err          z      P>|z|      [0.025      0.975]\n",
       "-----------------------------------------------------------------------------------\n",
       "Intercept           2.3892      2.327      1.027      0.305      -2.172       6.950\n",
       "Wind               -0.1550      0.115     -1.348      0.178      -0.380       0.070\n",
       "Rad                 0.0041      0.001      3.139      0.002       0.002       0.007\n",
       "Temp               -0.0300      0.049     -0.610      0.542      -0.127       0.067\n",
       "square_it(Wind)     0.0037      0.002      2.109      0.035       0.000       0.007\n",
       "square_it(Rad)   -6.87e-06   2.98e-06     -2.304      0.021   -1.27e-05   -1.02e-06\n",
       "square_it(Temp)     0.0003      0.000      0.972      0.331      -0.000       0.001\n",
       "Wind:Temp           0.0008      0.001      0.708      0.479      -0.001       0.003\n",
       "Wind:Rad        -6.614e-05   7.22e-05     -0.916      0.360      -0.000    7.54e-05\n",
       "===================================================================================\n",
       "\"\"\""
      ]
     },
     "execution_count": 15,
     "metadata": {},
     "output_type": "execute_result"
    }
   ],
   "source": [
    "new_formula = \"log_it(Ozone) ~ Wind + Rad + Temp + square_it(Wind) + square_it(Rad) + square_it(Temp) + Wind*Temp*Rad - Wind:Temp:Rad - Temp:Rad\"  # -1 removes the Intercept\n",
    "new_model = smf.glm(formula=new_formula, data=data).fit()#, family=sm.families.Binomial()).fit()\n",
    "new_model.summary()"
   ]
  },
  {
   "cell_type": "markdown",
   "id": "38e79e58-ba77-4c82-b2bb-a761d5965fe4",
   "metadata": {},
   "source": [
    "## Drop Wind:Rad"
   ]
  },
  {
   "cell_type": "code",
   "execution_count": 16,
   "id": "7ce49d8c-0ce7-4859-bc8e-eec03db9c957",
   "metadata": {},
   "outputs": [
    {
     "data": {
      "text/html": [
       "<table class=\"simpletable\">\n",
       "<caption>Generalized Linear Model Regression Results</caption>\n",
       "<tr>\n",
       "  <th>Dep. Variable:</th>     <td>log_it(Ozone)</td>  <th>  No. Observations:  </th>  <td>   111</td> \n",
       "</tr>\n",
       "<tr>\n",
       "  <th>Model:</th>                  <td>GLM</td>       <th>  Df Residuals:      </th>  <td>   103</td> \n",
       "</tr>\n",
       "<tr>\n",
       "  <th>Model Family:</th>        <td>Gaussian</td>     <th>  Df Model:          </th>  <td>     7</td> \n",
       "</tr>\n",
       "<tr>\n",
       "  <th>Link Function:</th>       <td>identity</td>     <th>  Scale:             </th> <td>0.044854</td>\n",
       "</tr>\n",
       "<tr>\n",
       "  <th>Method:</th>                <td>IRLS</td>       <th>  Log-Likelihood:    </th> <td>  18.940</td>\n",
       "</tr>\n",
       "<tr>\n",
       "  <th>Date:</th>            <td>Wed, 20 Apr 2022</td> <th>  Deviance:          </th> <td>  4.6200</td>\n",
       "</tr>\n",
       "<tr>\n",
       "  <th>Time:</th>                <td>10:07:47</td>     <th>  Pearson chi2:      </th>  <td>  4.62</td> \n",
       "</tr>\n",
       "<tr>\n",
       "  <th>No. Iterations:</th>          <td>3</td>        <th>  Pseudo R-squ. (CS):</th>  <td>0.8891</td> \n",
       "</tr>\n",
       "<tr>\n",
       "  <th>Covariance Type:</th>     <td>nonrobust</td>    <th>                     </th>     <td> </td>   \n",
       "</tr>\n",
       "</table>\n",
       "<table class=\"simpletable\">\n",
       "<tr>\n",
       "         <td></td>            <th>coef</th>     <th>std err</th>      <th>z</th>      <th>P>|z|</th>  <th>[0.025</th>    <th>0.975]</th>  \n",
       "</tr>\n",
       "<tr>\n",
       "  <th>Intercept</th>       <td>    2.1751</td> <td>    2.314</td> <td>    0.940</td> <td> 0.347</td> <td>   -2.359</td> <td>    6.710</td>\n",
       "</tr>\n",
       "<tr>\n",
       "  <th>Wind</th>            <td>   -0.1354</td> <td>    0.113</td> <td>   -1.199</td> <td> 0.230</td> <td>   -0.357</td> <td>    0.086</td>\n",
       "</tr>\n",
       "<tr>\n",
       "  <th>Rad</th>             <td>    0.0034</td> <td>    0.001</td> <td>    3.295</td> <td> 0.001</td> <td>    0.001</td> <td>    0.005</td>\n",
       "</tr>\n",
       "<tr>\n",
       "  <th>Temp</th>            <td>   -0.0252</td> <td>    0.049</td> <td>   -0.515</td> <td> 0.606</td> <td>   -0.121</td> <td>    0.071</td>\n",
       "</tr>\n",
       "<tr>\n",
       "  <th>square_it(Wind)</th> <td>    0.0035</td> <td>    0.002</td> <td>    2.013</td> <td> 0.044</td> <td> 9.16e-05</td> <td>    0.007</td>\n",
       "</tr>\n",
       "<tr>\n",
       "  <th>square_it(Rad)</th>  <td>-6.763e-06</td> <td> 2.98e-06</td> <td>   -2.271</td> <td> 0.023</td> <td>-1.26e-05</td> <td>-9.28e-07</td>\n",
       "</tr>\n",
       "<tr>\n",
       "  <th>square_it(Temp)</th> <td>    0.0003</td> <td>    0.000</td> <td>    0.946</td> <td> 0.344</td> <td>   -0.000</td> <td>    0.001</td>\n",
       "</tr>\n",
       "<tr>\n",
       "  <th>Wind:Temp</th>       <td>    0.0004</td> <td>    0.001</td> <td>    0.418</td> <td> 0.676</td> <td>   -0.002</td> <td>    0.003</td>\n",
       "</tr>\n",
       "</table>"
      ],
      "text/plain": [
       "<class 'statsmodels.iolib.summary.Summary'>\n",
       "\"\"\"\n",
       "                 Generalized Linear Model Regression Results                  \n",
       "==============================================================================\n",
       "Dep. Variable:          log_it(Ozone)   No. Observations:                  111\n",
       "Model:                            GLM   Df Residuals:                      103\n",
       "Model Family:                Gaussian   Df Model:                            7\n",
       "Link Function:               identity   Scale:                        0.044854\n",
       "Method:                          IRLS   Log-Likelihood:                 18.940\n",
       "Date:                Wed, 20 Apr 2022   Deviance:                       4.6200\n",
       "Time:                        10:07:47   Pearson chi2:                     4.62\n",
       "No. Iterations:                     3   Pseudo R-squ. (CS):             0.8891\n",
       "Covariance Type:            nonrobust                                         \n",
       "===================================================================================\n",
       "                      coef    std err          z      P>|z|      [0.025      0.975]\n",
       "-----------------------------------------------------------------------------------\n",
       "Intercept           2.1751      2.314      0.940      0.347      -2.359       6.710\n",
       "Wind               -0.1354      0.113     -1.199      0.230      -0.357       0.086\n",
       "Rad                 0.0034      0.001      3.295      0.001       0.001       0.005\n",
       "Temp               -0.0252      0.049     -0.515      0.606      -0.121       0.071\n",
       "square_it(Wind)     0.0035      0.002      2.013      0.044    9.16e-05       0.007\n",
       "square_it(Rad)  -6.763e-06   2.98e-06     -2.271      0.023   -1.26e-05   -9.28e-07\n",
       "square_it(Temp)     0.0003      0.000      0.946      0.344      -0.000       0.001\n",
       "Wind:Temp           0.0004      0.001      0.418      0.676      -0.002       0.003\n",
       "===================================================================================\n",
       "\"\"\""
      ]
     },
     "execution_count": 16,
     "metadata": {},
     "output_type": "execute_result"
    }
   ],
   "source": [
    "new_formula = \"log_it(Ozone) ~ Wind + Rad + Temp + square_it(Wind) + square_it(Rad) + square_it(Temp) + Wind*Temp*Rad - Wind:Temp:Rad - Temp:Rad - Wind:Rad\"  # -1 removes the Intercept\n",
    "new_model = smf.glm(formula=new_formula, data=data).fit()#, family=sm.families.Binomial()).fit()\n",
    "new_model.summary()"
   ]
  },
  {
   "cell_type": "markdown",
   "id": "d98eef32-6676-473c-b039-850fa5340bac",
   "metadata": {},
   "source": [
    "## Drop Wind:Temp, i.e. all interaction terms"
   ]
  },
  {
   "cell_type": "code",
   "execution_count": 17,
   "id": "e9976d64-029f-4372-bf3a-1e5ecbdeb136",
   "metadata": {},
   "outputs": [
    {
     "data": {
      "text/html": [
       "<table class=\"simpletable\">\n",
       "<caption>Generalized Linear Model Regression Results</caption>\n",
       "<tr>\n",
       "  <th>Dep. Variable:</th>     <td>log_it(Ozone)</td>  <th>  No. Observations:  </th>  <td>   111</td> \n",
       "</tr>\n",
       "<tr>\n",
       "  <th>Model:</th>                  <td>GLM</td>       <th>  Df Residuals:      </th>  <td>   104</td> \n",
       "</tr>\n",
       "<tr>\n",
       "  <th>Model Family:</th>        <td>Gaussian</td>     <th>  Df Model:          </th>  <td>     6</td> \n",
       "</tr>\n",
       "<tr>\n",
       "  <th>Link Function:</th>       <td>identity</td>     <th>  Scale:             </th> <td>0.044498</td>\n",
       "</tr>\n",
       "<tr>\n",
       "  <th>Method:</th>                <td>IRLS</td>       <th>  Log-Likelihood:    </th> <td>  18.846</td>\n",
       "</tr>\n",
       "<tr>\n",
       "  <th>Date:</th>            <td>Wed, 20 Apr 2022</td> <th>  Deviance:          </th> <td>  4.6278</td>\n",
       "</tr>\n",
       "<tr>\n",
       "  <th>Time:</th>                <td>10:08:27</td>     <th>  Pearson chi2:      </th>  <td>  4.63</td> \n",
       "</tr>\n",
       "<tr>\n",
       "  <th>No. Iterations:</th>          <td>3</td>        <th>  Pseudo R-squ. (CS):</th>  <td>0.8908</td> \n",
       "</tr>\n",
       "<tr>\n",
       "  <th>Covariance Type:</th>     <td>nonrobust</td>    <th>                     </th>     <td> </td>   \n",
       "</tr>\n",
       "</table>\n",
       "<table class=\"simpletable\">\n",
       "<tr>\n",
       "         <td></td>            <th>coef</th>     <th>std err</th>      <th>z</th>      <th>P>|z|</th>  <th>[0.025</th>    <th>0.975]</th>  \n",
       "</tr>\n",
       "<tr>\n",
       "  <th>Intercept</th>       <td>    1.3423</td> <td>    1.171</td> <td>    1.146</td> <td> 0.252</td> <td>   -0.953</td> <td>    3.637</td>\n",
       "</tr>\n",
       "<tr>\n",
       "  <th>Wind</th>            <td>   -0.0896</td> <td>    0.027</td> <td>   -3.368</td> <td> 0.001</td> <td>   -0.142</td> <td>   -0.037</td>\n",
       "</tr>\n",
       "<tr>\n",
       "  <th>Rad</th>             <td>    0.0033</td> <td>    0.001</td> <td>    3.282</td> <td> 0.001</td> <td>    0.001</td> <td>    0.005</td>\n",
       "</tr>\n",
       "<tr>\n",
       "  <th>Temp</th>            <td>   -0.0096</td> <td>    0.032</td> <td>   -0.305</td> <td> 0.760</td> <td>   -0.072</td> <td>    0.052</td>\n",
       "</tr>\n",
       "<tr>\n",
       "  <th>square_it(Wind)</th> <td>    0.0029</td> <td>    0.001</td> <td>    2.526</td> <td> 0.012</td> <td>    0.001</td> <td>    0.005</td>\n",
       "</tr>\n",
       "<tr>\n",
       "  <th>square_it(Rad)</th>  <td>-6.596e-06</td> <td> 2.94e-06</td> <td>   -2.244</td> <td> 0.025</td> <td>-1.24e-05</td> <td>-8.36e-07</td>\n",
       "</tr>\n",
       "<tr>\n",
       "  <th>square_it(Temp)</th> <td>    0.0002</td> <td>    0.000</td> <td>    0.885</td> <td> 0.376</td> <td>   -0.000</td> <td>    0.001</td>\n",
       "</tr>\n",
       "</table>"
      ],
      "text/plain": [
       "<class 'statsmodels.iolib.summary.Summary'>\n",
       "\"\"\"\n",
       "                 Generalized Linear Model Regression Results                  \n",
       "==============================================================================\n",
       "Dep. Variable:          log_it(Ozone)   No. Observations:                  111\n",
       "Model:                            GLM   Df Residuals:                      104\n",
       "Model Family:                Gaussian   Df Model:                            6\n",
       "Link Function:               identity   Scale:                        0.044498\n",
       "Method:                          IRLS   Log-Likelihood:                 18.846\n",
       "Date:                Wed, 20 Apr 2022   Deviance:                       4.6278\n",
       "Time:                        10:08:27   Pearson chi2:                     4.63\n",
       "No. Iterations:                     3   Pseudo R-squ. (CS):             0.8908\n",
       "Covariance Type:            nonrobust                                         \n",
       "===================================================================================\n",
       "                      coef    std err          z      P>|z|      [0.025      0.975]\n",
       "-----------------------------------------------------------------------------------\n",
       "Intercept           1.3423      1.171      1.146      0.252      -0.953       3.637\n",
       "Wind               -0.0896      0.027     -3.368      0.001      -0.142      -0.037\n",
       "Rad                 0.0033      0.001      3.282      0.001       0.001       0.005\n",
       "Temp               -0.0096      0.032     -0.305      0.760      -0.072       0.052\n",
       "square_it(Wind)     0.0029      0.001      2.526      0.012       0.001       0.005\n",
       "square_it(Rad)  -6.596e-06   2.94e-06     -2.244      0.025   -1.24e-05   -8.36e-07\n",
       "square_it(Temp)     0.0002      0.000      0.885      0.376      -0.000       0.001\n",
       "===================================================================================\n",
       "\"\"\""
      ]
     },
     "execution_count": 17,
     "metadata": {},
     "output_type": "execute_result"
    }
   ],
   "source": [
    "new_formula = \"log_it(Ozone) ~ Wind + Rad + Temp + square_it(Wind) + square_it(Rad) + square_it(Temp)\"\n",
    "new_model = smf.glm(formula=new_formula, data=data).fit()#, family=sm.families.Binomial()).fit()\n",
    "new_model.summary()"
   ]
  },
  {
   "cell_type": "markdown",
   "id": "532e88d1-dc76-4fdc-ae61-97a62b50ddb8",
   "metadata": {},
   "source": [
    "## Drop Temp^2"
   ]
  },
  {
   "cell_type": "code",
   "execution_count": 33,
   "id": "ac766362-49b1-4f5d-887b-996a70934f2c",
   "metadata": {},
   "outputs": [
    {
     "data": {
      "text/html": [
       "<table class=\"simpletable\">\n",
       "<caption>Generalized Linear Model Regression Results</caption>\n",
       "<tr>\n",
       "  <th>Dep. Variable:</th>     <td>log_it(Ozone)</td>  <th>  No. Observations:  </th>  <td>   111</td> \n",
       "</tr>\n",
       "<tr>\n",
       "  <th>Model:</th>                  <td>GLM</td>       <th>  Df Residuals:      </th>  <td>   105</td> \n",
       "</tr>\n",
       "<tr>\n",
       "  <th>Model Family:</th>        <td>Gaussian</td>     <th>  Df Model:          </th>  <td>     5</td> \n",
       "</tr>\n",
       "<tr>\n",
       "  <th>Link Function:</th>       <td>identity</td>     <th>  Scale:             </th> <td>0.044406</td>\n",
       "</tr>\n",
       "<tr>\n",
       "  <th>Method:</th>                <td>IRLS</td>       <th>  Log-Likelihood:    </th> <td>  18.430</td>\n",
       "</tr>\n",
       "<tr>\n",
       "  <th>Date:</th>            <td>Wed, 20 Apr 2022</td> <th>  Deviance:          </th> <td>  4.6627</td>\n",
       "</tr>\n",
       "<tr>\n",
       "  <th>Time:</th>                <td>10:20:36</td>     <th>  Pearson chi2:      </th>  <td>  4.66</td> \n",
       "</tr>\n",
       "<tr>\n",
       "  <th>No. Iterations:</th>          <td>3</td>        <th>  Pseudo R-squ. (CS):</th>  <td>0.8904</td> \n",
       "</tr>\n",
       "<tr>\n",
       "  <th>Covariance Type:</th>     <td>nonrobust</td>    <th>                     </th>     <td> </td>   \n",
       "</tr>\n",
       "</table>\n",
       "<table class=\"simpletable\">\n",
       "<tr>\n",
       "         <td></td>            <th>coef</th>     <th>std err</th>      <th>z</th>      <th>P>|z|</th>  <th>[0.025</th>    <th>0.975]</th>  \n",
       "</tr>\n",
       "<tr>\n",
       "  <th>Intercept</th>       <td>    0.3354</td> <td>    0.276</td> <td>    1.215</td> <td> 0.224</td> <td>   -0.206</td> <td>    0.876</td>\n",
       "</tr>\n",
       "<tr>\n",
       "  <th>Wind</th>            <td>   -0.0960</td> <td>    0.026</td> <td>   -3.757</td> <td> 0.000</td> <td>   -0.146</td> <td>   -0.046</td>\n",
       "</tr>\n",
       "<tr>\n",
       "  <th>Rad</th>             <td>    0.0032</td> <td>    0.001</td> <td>    3.212</td> <td> 0.001</td> <td>    0.001</td> <td>    0.005</td>\n",
       "</tr>\n",
       "<tr>\n",
       "  <th>Temp</th>            <td>    0.0182</td> <td>    0.003</td> <td>    6.722</td> <td> 0.000</td> <td>    0.013</td> <td>    0.024</td>\n",
       "</tr>\n",
       "<tr>\n",
       "  <th>square_it(Wind)</th> <td>    0.0032</td> <td>    0.001</td> <td>    2.854</td> <td> 0.004</td> <td>    0.001</td> <td>    0.005</td>\n",
       "</tr>\n",
       "<tr>\n",
       "  <th>square_it(Rad)</th>  <td>-6.379e-06</td> <td> 2.93e-06</td> <td>   -2.181</td> <td> 0.029</td> <td>-1.21e-05</td> <td>-6.46e-07</td>\n",
       "</tr>\n",
       "</table>"
      ],
      "text/plain": [
       "<class 'statsmodels.iolib.summary.Summary'>\n",
       "\"\"\"\n",
       "                 Generalized Linear Model Regression Results                  \n",
       "==============================================================================\n",
       "Dep. Variable:          log_it(Ozone)   No. Observations:                  111\n",
       "Model:                            GLM   Df Residuals:                      105\n",
       "Model Family:                Gaussian   Df Model:                            5\n",
       "Link Function:               identity   Scale:                        0.044406\n",
       "Method:                          IRLS   Log-Likelihood:                 18.430\n",
       "Date:                Wed, 20 Apr 2022   Deviance:                       4.6627\n",
       "Time:                        10:20:36   Pearson chi2:                     4.66\n",
       "No. Iterations:                     3   Pseudo R-squ. (CS):             0.8904\n",
       "Covariance Type:            nonrobust                                         \n",
       "===================================================================================\n",
       "                      coef    std err          z      P>|z|      [0.025      0.975]\n",
       "-----------------------------------------------------------------------------------\n",
       "Intercept           0.3354      0.276      1.215      0.224      -0.206       0.876\n",
       "Wind               -0.0960      0.026     -3.757      0.000      -0.146      -0.046\n",
       "Rad                 0.0032      0.001      3.212      0.001       0.001       0.005\n",
       "Temp                0.0182      0.003      6.722      0.000       0.013       0.024\n",
       "square_it(Wind)     0.0032      0.001      2.854      0.004       0.001       0.005\n",
       "square_it(Rad)  -6.379e-06   2.93e-06     -2.181      0.029   -1.21e-05   -6.46e-07\n",
       "===================================================================================\n",
       "\"\"\""
      ]
     },
     "execution_count": 33,
     "metadata": {},
     "output_type": "execute_result"
    }
   ],
   "source": [
    "final_formula = \"log_it(Ozone) ~ Wind + Rad + Temp + square_it(Wind) + square_it(Rad)\"\n",
    "final_model = smf.glm(formula=final_formula, data=data).fit()#, family=sm.families.Binomial()).fit()\n",
    "final_model.summary()"
   ]
  },
  {
   "cell_type": "markdown",
   "id": "8dea8549-8de9-434a-84a4-5a784208d3a8",
   "metadata": {},
   "source": [
    "# 5. R2"
   ]
  },
  {
   "cell_type": "code",
   "execution_count": 35,
   "id": "29857f22-32c8-43e7-aabd-d64d00cb6713",
   "metadata": {},
   "outputs": [
    {
     "data": {
      "text/plain": [
       "0.7002434996399169"
      ]
     },
     "execution_count": 35,
     "metadata": {},
     "output_type": "execute_result"
    }
   ],
   "source": [
    "y = log_it(data.Ozone.values)\n",
    "#\n",
    "sst_val = sum(map(lambda x: np.power(x,2),y-np.mean(y))) \n",
    "sse_val = sum(map(lambda x: np.power(x,2),final_model.resid_response)) \n",
    "r2 = 1.0 - sse_val/sst_val\n",
    "r2"
   ]
  },
  {
   "cell_type": "markdown",
   "id": "c65bd1e6-9234-4ac9-80c8-fc4034b9240e",
   "metadata": {},
   "source": [
    "## Adjusted"
   ]
  },
  {
   "cell_type": "code",
   "execution_count": 37,
   "id": "e44ae338-0cd0-4a2f-8e0a-d98b98343ab4",
   "metadata": {},
   "outputs": [
    {
     "data": {
      "text/plain": [
       "0.6669372218221299"
      ]
     },
     "execution_count": 37,
     "metadata": {},
     "output_type": "execute_result"
    }
   ],
   "source": [
    "adjusted_r2 = 1 - (1-r2)*(len(data)-1)/(len(data)-len(full_model.params)-1)\n",
    "adjusted_r2"
   ]
  },
  {
   "cell_type": "markdown",
   "id": "aeeb3e0b-dca4-40b5-a6e9-9562f2b4bcc0",
   "metadata": {},
   "source": [
    "# 6. Checking the residuals"
   ]
  },
  {
   "cell_type": "code",
   "execution_count": 38,
   "id": "581a8507-9bc5-40c8-a0b7-5aa09554f21d",
   "metadata": {},
   "outputs": [],
   "source": [
    "resids = y - full_model.fittedvalues"
   ]
  },
  {
   "cell_type": "markdown",
   "id": "4ed7763a-60bb-4a0f-896c-392f3b3b5117",
   "metadata": {},
   "source": [
    "## Plot"
   ]
  },
  {
   "cell_type": "code",
   "execution_count": 46,
   "id": "09846a84-78ca-425a-9ed2-10a7dc82fbd5",
   "metadata": {},
   "outputs": [
    {
     "data": {
      "text/plain": [
       "<Figure size 432x288 with 0 Axes>"
      ]
     },
     "metadata": {},
     "output_type": "display_data"
    },
    {
     "data": {
      "image/png": "[encoded data removed]",
      "text/plain": [
       "<Figure size 864x576 with 1 Axes>"
      ]
     },
     "metadata": {
      "needs_background": "light"
     },
     "output_type": "display_data"
    }
   ],
   "source": [
    "plt.clf()\n",
    "fig = plt.figure(figsize=(12,8))\n",
    "ax = plt.gca()\n",
    "ax.plot(data.index, resids, 'o')\n",
    "plt.show()"
   ]
  },
  {
   "cell_type": "markdown",
   "id": "7b5a21dd-3b31-4e26-8049-db7ed8c5ad47",
   "metadata": {},
   "source": [
    "## Independence"
   ]
  },
  {
   "cell_type": "code",
   "execution_count": 39,
   "id": "04cf3f20-e95c-4856-89b8-797363b8ef99",
   "metadata": {},
   "outputs": [
    {
     "data": {
      "text/plain": [
       "1.7878370548053488"
      ]
     },
     "execution_count": 39,
     "metadata": {},
     "output_type": "execute_result"
    }
   ],
   "source": [
    "dw = durbin_watson(resids)\n",
    "dw"
   ]
  },
  {
   "cell_type": "markdown",
   "id": "fd4e5efd-9d97-4d18-a250-d54e6e922d45",
   "metadata": {},
   "source": [
    "## Normality"
   ]
  },
  {
   "cell_type": "code",
   "execution_count": 40,
   "id": "e95afa21-cb55-46f8-a187-041b1053fccc",
   "metadata": {},
   "outputs": [
    {
     "data": {
      "text/plain": [
       "ShapiroResult(statistic=0.9738056063652039, pvalue=0.027684876695275307)"
      ]
     },
     "execution_count": 40,
     "metadata": {},
     "output_type": "execute_result"
    }
   ],
   "source": [
    "shapiro(resids)"
   ]
  },
  {
   "cell_type": "markdown",
   "id": "f4f00e66-2bac-4df5-856b-2cf5e1541daa",
   "metadata": {},
   "source": [
    "## Variance"
   ]
  },
  {
   "cell_type": "code",
   "execution_count": 43,
   "id": "22a38804-cbfa-46d8-bef8-1ef164f7df79",
   "metadata": {},
   "outputs": [
    {
     "data": {
      "text/plain": [
       "BartlettResult(statistic=6.410964763365371, pvalue=0.011341777487608562)"
      ]
     },
     "execution_count": 43,
     "metadata": {},
     "output_type": "execute_result"
    }
   ],
   "source": [
    "ndata = resids.size\n",
    "bartlett(resids[:ndata//2], resids[ndata//2:])"
   ]
  },
  {
   "cell_type": "markdown",
   "id": "5c025589-cb80-4a83-ac57-0804d8cfda7a",
   "metadata": {},
   "source": [
    "## We appear to be failing Normality and Variance"
   ]
  },
  {
   "cell_type": "code",
   "execution_count": null,
   "id": "5d5ca6a3-bf14-43ed-8c0c-9d235861dd64",
   "metadata": {},
   "outputs": [],
   "source": [
    "# "
   ]
  }
 ],
 "metadata": {
  "kernelspec": {
   "display_name": "Python 3 (ipykernel)",
   "language": "python",
   "name": "python3"
  },
  "language_info": {
   "codemirror_mode": {
    "name": "ipython",
    "version": 3
   },
   "file_extension": ".py",
   "mimetype": "text/x-python",
   "name": "python",
   "nbconvert_exporter": "python",
   "pygments_lexer": "ipython3",
   "version": "3.9.7"
  }
 },
 "nbformat": 4,
 "nbformat_minor": 5
}
