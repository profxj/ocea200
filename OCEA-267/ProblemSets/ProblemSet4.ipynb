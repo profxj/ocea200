{
 "cells": [
  {
   "cell_type": "markdown",
   "id": "a7123ea5-08fe-4352-86a1-97163d9fb62f",
   "metadata": {},
   "source": [
    "# Problem Set 4"
   ]
  },
  {
   "cell_type": "code",
   "execution_count": 7,
   "id": "0d864062-3d01-4268-905f-43f16a5d5164",
   "metadata": {},
   "outputs": [],
   "source": [
    "# imports\n",
    "import numpy as np\n",
    "from scipy.ndimage import uniform_filter1d\n",
    "from scipy.stats import shapiro, bartlett\n",
    "from matplotlib import pyplot as plt\n",
    "import pandas\n",
    "\n",
    "from statsmodels.tsa.seasonal import seasonal_decompose\n",
    "import statsmodels.api as sm\n",
    "from statsmodels.stats.stattools import durbin_watson\n",
    "import statsmodels.formula.api as smf\n",
    "from statsmodels.graphics.tsaplots import plot_acf, plot_pacf\n",
    "from statsmodels.tsa.stattools import pacf"
   ]
  },
  {
   "cell_type": "code",
   "execution_count": 8,
   "id": "ee20b9df-96f3-4088-8e6b-87cfb1c09a66",
   "metadata": {},
   "outputs": [],
   "source": [
    "def set_fontsize(ax,fsz):\n",
    "    \"\"\"\n",
    "    Set the fontsize throughout an Axis\n",
    "    \n",
    "    Args:\n",
    "        ax (Matplotlib Axis): \n",
    "        fsz (float): Font size\n",
    "\n",
    "    Returns:\n",
    "\n",
    "    \"\"\"\n",
    "    for item in ([ax.title, ax.xaxis.label, ax.yaxis.label] +\n",
    "                 ax.get_xticklabels() + ax.get_yticklabels()):\n",
    "        item.set_fontsize(fsz)\n"
   ]
  },
  {
   "cell_type": "markdown",
   "id": "8af80b68-9b0b-4997-ac6b-8b4d75e9684a",
   "metadata": {},
   "source": [
    "# Question 1 -- Fit a broken line to SST"
   ]
  },
  {
   "cell_type": "markdown",
   "id": "760c0338-85a3-47dd-8e5a-9f582020eef2",
   "metadata": {},
   "source": [
    "## Load data"
   ]
  },
  {
   "cell_type": "code",
   "execution_count": 15,
   "id": "16eb6fc7-7786-4367-a179-91daa2baed0b",
   "metadata": {},
   "outputs": [
    {
     "data": {
      "text/html": [
       "<div>\n",
       "<style scoped>\n",
       "    .dataframe tbody tr th:only-of-type {\n",
       "        vertical-align: middle;\n",
       "    }\n",
       "\n",
       "    .dataframe tbody tr th {\n",
       "        vertical-align: top;\n",
       "    }\n",
       "\n",
       "    .dataframe thead th {\n",
       "        text-align: right;\n",
       "    }\n",
       "</style>\n",
       "<table border=\"1\" class=\"dataframe\">\n",
       "  <thead>\n",
       "    <tr style=\"text-align: right;\">\n",
       "      <th></th>\n",
       "      <th>year</th>\n",
       "      <th>SST</th>\n",
       "    </tr>\n",
       "  </thead>\n",
       "  <tbody>\n",
       "    <tr>\n",
       "      <th>0</th>\n",
       "      <td>1916</td>\n",
       "      <td>15.642</td>\n",
       "    </tr>\n",
       "    <tr>\n",
       "      <th>1</th>\n",
       "      <td>1917</td>\n",
       "      <td>16.743</td>\n",
       "    </tr>\n",
       "    <tr>\n",
       "      <th>2</th>\n",
       "      <td>1918</td>\n",
       "      <td>17.385</td>\n",
       "    </tr>\n",
       "    <tr>\n",
       "      <th>3</th>\n",
       "      <td>1919</td>\n",
       "      <td>16.810</td>\n",
       "    </tr>\n",
       "    <tr>\n",
       "      <th>4</th>\n",
       "      <td>1920</td>\n",
       "      <td>16.576</td>\n",
       "    </tr>\n",
       "  </tbody>\n",
       "</table>\n",
       "</div>"
      ],
      "text/plain": [
       "   year     SST\n",
       "0  1916  15.642\n",
       "1  1917  16.743\n",
       "2  1918  17.385\n",
       "3  1919  16.810\n",
       "4  1920  16.576"
      ]
     },
     "execution_count": 15,
     "metadata": {},
     "output_type": "execute_result"
    }
   ],
   "source": [
    "SIO_file = '../Data/SIO_SST.txt'\n",
    "SIO_df = pandas.read_table(SIO_file, delim_whitespace=True)\n",
    "SIO_df.head()"
   ]
  },
  {
   "cell_type": "markdown",
   "id": "5d038834-7326-4d6c-8d28-d182e95e42cc",
   "metadata": {},
   "source": [
    "## Dates"
   ]
  },
  {
   "cell_type": "code",
   "execution_count": 16,
   "id": "ef7b9fce-8488-4f5d-a9e0-1c135f6d8a7f",
   "metadata": {},
   "outputs": [
    {
     "data": {
      "text/html": [
       "<div>\n",
       "<style scoped>\n",
       "    .dataframe tbody tr th:only-of-type {\n",
       "        vertical-align: middle;\n",
       "    }\n",
       "\n",
       "    .dataframe tbody tr th {\n",
       "        vertical-align: top;\n",
       "    }\n",
       "\n",
       "    .dataframe thead th {\n",
       "        text-align: right;\n",
       "    }\n",
       "</style>\n",
       "<table border=\"1\" class=\"dataframe\">\n",
       "  <thead>\n",
       "    <tr style=\"text-align: right;\">\n",
       "      <th></th>\n",
       "      <th>SST</th>\n",
       "    </tr>\n",
       "    <tr>\n",
       "      <th>date</th>\n",
       "      <th></th>\n",
       "    </tr>\n",
       "  </thead>\n",
       "  <tbody>\n",
       "    <tr>\n",
       "      <th>1916-01-01</th>\n",
       "      <td>15.642</td>\n",
       "    </tr>\n",
       "    <tr>\n",
       "      <th>1917-01-01</th>\n",
       "      <td>16.743</td>\n",
       "    </tr>\n",
       "    <tr>\n",
       "      <th>1918-01-01</th>\n",
       "      <td>17.385</td>\n",
       "    </tr>\n",
       "    <tr>\n",
       "      <th>1919-01-01</th>\n",
       "      <td>16.810</td>\n",
       "    </tr>\n",
       "    <tr>\n",
       "      <th>1920-01-01</th>\n",
       "      <td>16.576</td>\n",
       "    </tr>\n",
       "  </tbody>\n",
       "</table>\n",
       "</div>"
      ],
      "text/plain": [
       "               SST\n",
       "date              \n",
       "1916-01-01  15.642\n",
       "1917-01-01  16.743\n",
       "1918-01-01  17.385\n",
       "1919-01-01  16.810\n",
       "1920-01-01  16.576"
      ]
     },
     "execution_count": 16,
     "metadata": {},
     "output_type": "execute_result"
    }
   ],
   "source": [
    "dates = []\n",
    "for index, row in SIO_df.iterrows():\n",
    "    dates.append(f'{int(row.year)}')\n",
    "dates = pandas.to_datetime(dates)\n",
    "SIO_df['date'] = dates\n",
    "SIO_df.set_index('date', inplace=True)\n",
    "# Remove Year\n",
    "SIO_df.drop(columns='year', inplace=True)\n",
    "SIO_df.head()"
   ]
  },
  {
   "cell_type": "markdown",
   "id": "834bc5e6-6e08-4c1a-baa3-b694a2004b45",
   "metadata": {},
   "source": [
    "## Prep for fitting"
   ]
  },
  {
   "cell_type": "code",
   "execution_count": 17,
   "id": "f190aad6-83be-49cb-9380-71f7bb8e30a7",
   "metadata": {},
   "outputs": [],
   "source": [
    "data = pandas.DataFrame()\n",
    "data['SST'] = SIO_df.SST.values\n",
    "data.index = SIO_df.index"
   ]
  },
  {
   "cell_type": "code",
   "execution_count": 18,
   "id": "7b125147-b927-4c9a-8ea5-fccae2a90a70",
   "metadata": {},
   "outputs": [
    {
     "data": {
      "text/plain": [
       "date\n",
       "1981-01-01    0.0\n",
       "1982-01-01    0.0\n",
       "1983-01-01    0.0\n",
       "1984-01-01    0.0\n",
       "1985-01-01    0.0\n",
       "1986-01-01    0.0\n",
       "1987-01-01    0.0\n",
       "1988-01-01    0.0\n",
       "1989-01-01    1.0\n",
       "1990-01-01    1.0\n",
       "Name: dummy0, dtype: float64"
      ]
     },
     "execution_count": 18,
     "metadata": {},
     "output_type": "execute_result"
    }
   ],
   "source": [
    "dummy0 = np.zeros(len(data))\n",
    "dummy0[data.index >= pandas.to_datetime('1989')] = 1\n",
    "data['dummy0'] = dummy0\n",
    "data.dummy0[-40:-30]"
   ]
  },
  {
   "cell_type": "markdown",
   "id": "6e798a7a-c1bb-457f-8fb8-a201de7e4a57",
   "metadata": {},
   "source": [
    "## Fit"
   ]
  },
  {
   "cell_type": "code",
   "execution_count": 19,
   "id": "28eb7355-67f2-480e-b47c-93f303ea4a3a",
   "metadata": {},
   "outputs": [
    {
     "data": {
      "text/html": [
       "<table class=\"simpletable\">\n",
       "<caption>Generalized Linear Model Regression Results</caption>\n",
       "<tr>\n",
       "  <th>Dep. Variable:</th>          <td>SST</td>       <th>  No. Observations:  </th>  <td>   105</td> \n",
       "</tr>\n",
       "<tr>\n",
       "  <th>Model:</th>                  <td>GLM</td>       <th>  Df Residuals:      </th>  <td>   103</td> \n",
       "</tr>\n",
       "<tr>\n",
       "  <th>Model Family:</th>        <td>Gaussian</td>     <th>  Df Model:          </th>  <td>     1</td> \n",
       "</tr>\n",
       "<tr>\n",
       "  <th>Link Function:</th>       <td>identity</td>     <th>  Scale:             </th> <td> 0.41249</td>\n",
       "</tr>\n",
       "<tr>\n",
       "  <th>Method:</th>                <td>IRLS</td>       <th>  Log-Likelihood:    </th> <td> -101.49</td>\n",
       "</tr>\n",
       "<tr>\n",
       "  <th>Date:</th>            <td>Wed, 04 May 2022</td> <th>  Deviance:          </th> <td>  42.487</td>\n",
       "</tr>\n",
       "<tr>\n",
       "  <th>Time:</th>                <td>11:49:05</td>     <th>  Pearson chi2:      </th>  <td>  42.5</td> \n",
       "</tr>\n",
       "<tr>\n",
       "  <th>No. Iterations:</th>          <td>3</td>        <th>  Pseudo R-squ. (CS):</th>  <td>0.4625</td> \n",
       "</tr>\n",
       "<tr>\n",
       "  <th>Covariance Type:</th>     <td>nonrobust</td>    <th>                     </th>     <td> </td>   \n",
       "</tr>\n",
       "</table>\n",
       "<table class=\"simpletable\">\n",
       "<tr>\n",
       "      <td></td>         <th>coef</th>     <th>std err</th>      <th>z</th>      <th>P>|z|</th>  <th>[0.025</th>    <th>0.975]</th>  \n",
       "</tr>\n",
       "<tr>\n",
       "  <th>Intercept</th> <td>   16.9302</td> <td>    0.075</td> <td>  225.224</td> <td> 0.000</td> <td>   16.783</td> <td>   17.078</td>\n",
       "</tr>\n",
       "<tr>\n",
       "  <th>dummy0</th>    <td>    1.0992</td> <td>    0.136</td> <td>    8.073</td> <td> 0.000</td> <td>    0.832</td> <td>    1.366</td>\n",
       "</tr>\n",
       "</table>"
      ],
      "text/plain": [
       "<class 'statsmodels.iolib.summary.Summary'>\n",
       "\"\"\"\n",
       "                 Generalized Linear Model Regression Results                  \n",
       "==============================================================================\n",
       "Dep. Variable:                    SST   No. Observations:                  105\n",
       "Model:                            GLM   Df Residuals:                      103\n",
       "Model Family:                Gaussian   Df Model:                            1\n",
       "Link Function:               identity   Scale:                         0.41249\n",
       "Method:                          IRLS   Log-Likelihood:                -101.49\n",
       "Date:                Wed, 04 May 2022   Deviance:                       42.487\n",
       "Time:                        11:49:05   Pearson chi2:                     42.5\n",
       "No. Iterations:                     3   Pseudo R-squ. (CS):             0.4625\n",
       "Covariance Type:            nonrobust                                         \n",
       "==============================================================================\n",
       "                 coef    std err          z      P>|z|      [0.025      0.975]\n",
       "------------------------------------------------------------------------------\n",
       "Intercept     16.9302      0.075    225.224      0.000      16.783      17.078\n",
       "dummy0         1.0992      0.136      8.073      0.000       0.832       1.366\n",
       "==============================================================================\n",
       "\"\"\""
      ]
     },
     "execution_count": 19,
     "metadata": {},
     "output_type": "execute_result"
    }
   ],
   "source": [
    "dummy0_formula = \"SST ~ dummy0\"\n",
    "mod_dummy0 = smf.glm(formula=dummy0_formula, data=data).fit()#, family=sm.f\n",
    "mod_dummy0.summary()"
   ]
  },
  {
   "cell_type": "code",
   "execution_count": 20,
   "id": "3786da17-35df-453a-985b-a574212f6522",
   "metadata": {},
   "outputs": [],
   "source": [
    "data['dummy_model'] = mod_dummy0.fittedvalues"
   ]
  },
  {
   "cell_type": "markdown",
   "id": "a06b5d71-dd20-447b-bdce-5ffd361a6e02",
   "metadata": {},
   "source": [
    "## Plot"
   ]
  },
  {
   "cell_type": "code",
   "execution_count": 21,
   "id": "2d0bd36e-4f7b-4726-ae51-b7e55d861dd3",
   "metadata": {},
   "outputs": [
    {
     "data": {
      "image/png": "[encoded data removed]",
      "text/plain": [
       "<Figure size 864x648 with 1 Axes>"
      ]
     },
     "metadata": {
      "needs_background": "light"
     },
     "output_type": "display_data"
    }
   ],
   "source": [
    "fig = plt.figure()\n",
    "fig.set_size_inches((12, 9))\n",
    "ax = data.SST.plot(ylabel='SST', label='data', marker='o', ls='')\n",
    "#\n",
    "data.dummy_model.plot(ax=ax, color='k', label='model')\n",
    "#\n",
    "ax.legend(fontsize=15)\n",
    "#\n",
    "set_fontsize(ax, 17)\n",
    "plt.savefig('PS4_Q1.png', dpi=300)"
   ]
  },
  {
   "cell_type": "markdown",
   "id": "01033b6f-1f9b-4954-9599-d7c6dd43d2ba",
   "metadata": {},
   "source": [
    "# Question 2"
   ]
  },
  {
   "cell_type": "code",
   "execution_count": 22,
   "id": "92e953b2-5080-4e42-aaa8-e22b74466c5b",
   "metadata": {},
   "outputs": [],
   "source": [
    "data['adjSST'] = data.SST.values - data.dummy_model.values"
   ]
  },
  {
   "cell_type": "markdown",
   "id": "17319610-301d-4949-825e-2fb16e2591a5",
   "metadata": {},
   "source": [
    "## Plot"
   ]
  },
  {
   "cell_type": "code",
   "execution_count": 23,
   "id": "0e3c0e59-8f20-4cae-a6e9-a544f7dc3825",
   "metadata": {},
   "outputs": [
    {
     "data": {
      "image/png": "[encoded data removed]",
      "text/plain": [
       "<Figure size 864x648 with 1 Axes>"
      ]
     },
     "metadata": {
      "needs_background": "light"
     },
     "output_type": "display_data"
    }
   ],
   "source": [
    "fig = plt.figure()\n",
    "fig.set_size_inches((12, 9))\n",
    "ax = data.adjSST.plot(ylabel='Adjusted SST', label='residuals', marker='o', ls='')\n",
    "#\n",
    "ax.legend(fontsize=15)\n",
    "#\n",
    "set_fontsize(ax, 17)\n",
    "plt.savefig('PS4_Q2.png', dpi=300)"
   ]
  },
  {
   "cell_type": "markdown",
   "id": "5be5c8ad-1285-4531-a7ea-fefdc17a7dfe",
   "metadata": {},
   "source": [
    "# Question 3 -- Autocorrelation of Adjusted SST"
   ]
  },
  {
   "cell_type": "markdown",
   "id": "ee104161-a12d-4ff2-aac2-224e3845c58e",
   "metadata": {},
   "source": [
    "## Plot"
   ]
  },
  {
   "cell_type": "code",
   "execution_count": 24,
   "id": "e7fd7cf3-93c7-40e1-a785-ce925b5fe624",
   "metadata": {},
   "outputs": [
    {
     "data": {
      "text/plain": [
       "<Figure size 432x288 with 0 Axes>"
      ]
     },
     "metadata": {},
     "output_type": "display_data"
    },
    {
     "data": {
      "image/png": "[encoded data removed]",
      "text/plain": [
       "<Figure size 720x720 with 1 Axes>"
      ]
     },
     "metadata": {
      "needs_background": "light"
     },
     "output_type": "display_data"
    }
   ],
   "source": [
    "plt.clf()\n",
    "fig=plt.figure(figsize=(10,10))\n",
    "ax=plt.gca()\n",
    "fig = plot_acf(data.adjSST.values, lags=10, ax=ax)\n",
    "#\n",
    "set_fontsize(ax,15)\n",
    "ax.set_xlabel('Lags')\n",
    "plt.savefig('PS4_Q3.png', dpi=300)"
   ]
  },
  {
   "cell_type": "markdown",
   "id": "4e25d3cb-84ec-463b-8b04-20a7b07fc15e",
   "metadata": {},
   "source": [
    "# Question 4 -- PACF"
   ]
  },
  {
   "cell_type": "code",
   "execution_count": 25,
   "id": "7c2abb62-3629-4cc1-9d3f-0f9de747eb10",
   "metadata": {},
   "outputs": [
    {
     "name": "stderr",
     "output_type": "stream",
     "text": [
      "/home/xavier/Projects/miniconda3/lib/python3.9/site-packages/statsmodels/graphics/tsaplots.py:348: FutureWarning: The default method 'yw' can produce PACF values outside of the [-1,1] interval. After 0.13, the default will change tounadjusted Yule-Walker ('ywm'). You can use this method now by setting method='ywm'.\n",
      "  warnings.warn(\n"
     ]
    },
    {
     "data": {
      "text/plain": [
       "<Figure size 432x288 with 0 Axes>"
      ]
     },
     "metadata": {},
     "output_type": "display_data"
    },
    {
     "data": {
      "image/png": "[encoded data removed]",
      "text/plain": [
       "<Figure size 720x720 with 1 Axes>"
      ]
     },
     "metadata": {
      "needs_background": "light"
     },
     "output_type": "display_data"
    }
   ],
   "source": [
    "plt.clf()\n",
    "fig=plt.figure(figsize=(10,10))\n",
    "ax=plt.gca()\n",
    "fig = plot_pacf(data.adjSST.values, lags=10, ax=ax)\n",
    "#\n",
    "set_fontsize(ax,15)\n",
    "ax.set_xlabel('Lags')\n",
    "plt.savefig('PS4_Q4.png', dpi=300)"
   ]
  },
  {
   "cell_type": "markdown",
   "id": "ec2ecb94-f4cb-4626-964c-475334c13e6c",
   "metadata": {},
   "source": [
    "# Question 5 -- What lag?"
   ]
  },
  {
   "cell_type": "markdown",
   "id": "f5bf9f68-0fc9-4830-b441-194c68ff4e3e",
   "metadata": {},
   "source": [
    "## The lag=1 is statistically significant, but none other (we may ignore Lag=6 in the PACF)"
   ]
  },
  {
   "cell_type": "markdown",
   "id": "521a30eb-6f3a-420f-b020-671d053e5f12",
   "metadata": {},
   "source": [
    "----"
   ]
  },
  {
   "cell_type": "markdown",
   "id": "aa3cd2e9-b8e2-493f-85a9-b4948f6659b2",
   "metadata": {},
   "source": [
    "# Question 6 -- PACF values"
   ]
  },
  {
   "cell_type": "code",
   "execution_count": 26,
   "id": "02f0377a-48ec-4c06-ad0d-37f1dbbcf909",
   "metadata": {},
   "outputs": [],
   "source": [
    "pacf_v, confint = pacf(data.adjSST.values, nlags=10, alpha=0.05)"
   ]
  },
  {
   "cell_type": "code",
   "execution_count": 27,
   "id": "0a6c2072-30ff-47c3-8a6b-228316991a7a",
   "metadata": {},
   "outputs": [
    {
     "data": {
      "text/plain": [
       "array([ 1.        ,  0.34008319, -0.06104965,  0.05782297, -0.00476113,\n",
       "        0.05930001, -0.2054211 , -0.10868448,  0.06995459, -0.02957962,\n",
       "        0.03928702])"
      ]
     },
     "execution_count": 27,
     "metadata": {},
     "output_type": "execute_result"
    }
   ],
   "source": [
    "pacf_v"
   ]
  },
  {
   "cell_type": "markdown",
   "id": "6610db6b-c13c-4012-aa41-3405153e8094",
   "metadata": {},
   "source": [
    "## PACF for Lag = 1 is  0.340"
   ]
  },
  {
   "cell_type": "markdown",
   "id": "fbf6fe0d-4f62-4c30-98cb-f39d842cf3a5",
   "metadata": {},
   "source": [
    "----"
   ]
  },
  {
   "cell_type": "markdown",
   "id": "aaee8656-b4bd-414c-a714-36c749b6c431",
   "metadata": {},
   "source": [
    "# Question 7 -- Fit with AR(1)"
   ]
  },
  {
   "cell_type": "markdown",
   "id": "613cb969-b0f7-4970-8e0b-b5c88eff04c7",
   "metadata": {},
   "source": [
    "## Fit"
   ]
  },
  {
   "cell_type": "code",
   "execution_count": 38,
   "id": "389d1c42-284e-41f5-a07e-ecaa68f2a0b5",
   "metadata": {},
   "outputs": [
    {
     "name": "stdout",
     "output_type": "stream",
     "text": [
      "                                GLSAR Regression Results                               \n",
      "=======================================================================================\n",
      "Dep. Variable:                    SST   R-squared (uncentered):                   0.019\n",
      "Model:                          GLSAR   Adj. R-squared (uncentered):              0.009\n",
      "Method:                 Least Squares   F-statistic:                              1.997\n",
      "Date:                Wed, 04 May 2022   Prob (F-statistic):                       0.161\n",
      "Time:                        11:55:44   Log-Likelihood:                         -136.23\n",
      "No. Observations:                 104   AIC:                                      274.5\n",
      "Df Residuals:                     103   BIC:                                      277.1\n",
      "Df Model:                           1                                                  \n",
      "Covariance Type:            nonrobust                                                  \n",
      "==============================================================================\n",
      "                 coef    std err          t      P>|t|      [0.025      0.975]\n",
      "------------------------------------------------------------------------------\n",
      "dummy0         1.2546      0.888      1.413      0.161      -0.506       3.015\n",
      "==============================================================================\n",
      "Omnibus:                        1.669   Durbin-Watson:                   1.607\n",
      "Prob(Omnibus):                  0.434   Jarque-Bera (JB):                1.201\n",
      "Skew:                          -0.000   Prob(JB):                        0.548\n",
      "Kurtosis:                       3.526   Cond. No.                         1.00\n",
      "==============================================================================\n",
      "\n",
      "Notes:\n",
      "[1] R² is computed without centering (uncentered) since the model does not contain a constant.\n",
      "[2] Standard Errors assume that the covariance matrix of the errors is correctly specified.\n"
     ]
    }
   ],
   "source": [
    "glsar_model_1 = sm.GLSAR(data.SST, data.dummy0, 1)\n",
    "glsar_results_1 = glsar_model_1.iterative_fit(maxiter=50)\n",
    "print(glsar_results_1.summary())\n"
   ]
  },
  {
   "cell_type": "markdown",
   "id": "68522e75-35e6-4261-ab7f-999e4981d9dc",
   "metadata": {},
   "source": [
    "## AIC = 274.5"
   ]
  },
  {
   "cell_type": "markdown",
   "id": "3143a540-83fa-4c62-9f3d-8c408c0319c2",
   "metadata": {},
   "source": [
    "----"
   ]
  },
  {
   "cell_type": "markdown",
   "id": "7de21a77-cb45-4561-8957-3bc52318090a",
   "metadata": {},
   "source": [
    "# Question 8 -- AR(15) !!"
   ]
  },
  {
   "cell_type": "code",
   "execution_count": 39,
   "id": "a179c4c6-2a0b-464e-80f8-879d2eb6e580",
   "metadata": {},
   "outputs": [
    {
     "name": "stdout",
     "output_type": "stream",
     "text": [
      "                                GLSAR Regression Results                               \n",
      "=======================================================================================\n",
      "Dep. Variable:                    SST   R-squared (uncentered):                   0.089\n",
      "Model:                          GLSAR   Adj. R-squared (uncentered):              0.079\n",
      "Method:                 Least Squares   F-statistic:                              8.688\n",
      "Date:                Wed, 04 May 2022   Prob (F-statistic):                     0.00409\n",
      "Time:                        11:56:10   Log-Likelihood:                         -140.64\n",
      "No. Observations:                  90   AIC:                                      283.3\n",
      "Df Residuals:                      89   BIC:                                      285.8\n",
      "Df Model:                           1                                                  \n",
      "Covariance Type:            nonrobust                                                  \n",
      "==============================================================================\n",
      "                 coef    std err          t      P>|t|      [0.025      0.975]\n",
      "------------------------------------------------------------------------------\n",
      "dummy0         3.1736      1.077      2.948      0.004       1.034       5.313\n",
      "==============================================================================\n",
      "Omnibus:                        5.234   Durbin-Watson:                   1.056\n",
      "Prob(Omnibus):                  0.073   Jarque-Bera (JB):                5.894\n",
      "Skew:                          -0.273   Prob(JB):                       0.0525\n",
      "Kurtosis:                       4.129   Cond. No.                         1.00\n",
      "==============================================================================\n",
      "\n",
      "Notes:\n",
      "[1] R² is computed without centering (uncentered) since the model does not contain a constant.\n",
      "[2] Standard Errors assume that the covariance matrix of the errors is correctly specified.\n"
     ]
    }
   ],
   "source": [
    "glsar_model_15 = sm.GLSAR(data.SST, data.dummy0, rho=15)\n",
    "glsar_results_15 = glsar_model_15.iterative_fit(maxiter=50)\n",
    "print(glsar_results_15.summary())"
   ]
  },
  {
   "cell_type": "markdown",
   "id": "1ae646fb-77bb-4491-a69d-54ccd3c85548",
   "metadata": {},
   "source": [
    "## AIC = 283.3"
   ]
  },
  {
   "cell_type": "markdown",
   "id": "e5ca9904-9b8c-4423-abeb-9224e05ccb0c",
   "metadata": {},
   "source": [
    "----"
   ]
  },
  {
   "cell_type": "markdown",
   "id": "59d56021-30ad-4b9d-b899-e77fd1bf1ce5",
   "metadata": {},
   "source": [
    "# Question 8.5 -- Examine PACF"
   ]
  },
  {
   "cell_type": "code",
   "execution_count": 35,
   "id": "f4b5eb9a-c75b-4d68-9e8c-66d62e1f45ae",
   "metadata": {},
   "outputs": [
    {
     "name": "stderr",
     "output_type": "stream",
     "text": [
      "/home/xavier/Projects/miniconda3/lib/python3.9/site-packages/statsmodels/graphics/tsaplots.py:348: FutureWarning: The default method 'yw' can produce PACF values outside of the [-1,1] interval. After 0.13, the default will change tounadjusted Yule-Walker ('ywm'). You can use this method now by setting method='ywm'.\n",
      "  warnings.warn(\n"
     ]
    },
    {
     "data": {
      "image/png": "[encoded data removed]",
      "text/plain": [
       "<Figure size 432x288 with 1 Axes>"
      ]
     },
     "metadata": {
      "needs_background": "light"
     },
     "output_type": "display_data"
    }
   ],
   "source": [
    "_ = plot_pacf(data.SST)"
   ]
  },
  {
   "cell_type": "code",
   "execution_count": null,
   "id": "9cc869ef-3a91-4cb1-8455-0733256d6986",
   "metadata": {},
   "outputs": [],
   "source": []
  }
 ],
 "metadata": {
  "kernelspec": {
   "display_name": "Python 3 (ipykernel)",
   "language": "python",
   "name": "python3"
  },
  "language_info": {
   "codemirror_mode": {
    "name": "ipython",
    "version": 3
   },
   "file_extension": ".py",
   "mimetype": "text/x-python",
   "name": "python",
   "nbconvert_exporter": "python",
   "pygments_lexer": "ipython3",
   "version": "3.9.9"
  }
 },
 "nbformat": 4,
 "nbformat_minor": 5
}
