{
 "cells": [
  {
   "cell_type": "markdown",
   "id": "105e0a88-54e7-4de0-ad67-e5f1d3eb02e2",
   "metadata": {},
   "source": [
    "# Problem Set 5"
   ]
  },
  {
   "cell_type": "code",
   "execution_count": 1,
   "id": "18cb60e1-fe2d-4895-8606-2987abc547d1",
   "metadata": {},
   "outputs": [],
   "source": [
    "# imports\n",
    "import numpy as np\n",
    "from scipy.ndimage import uniform_filter1d\n",
    "from scipy.stats import shapiro, bartlett\n",
    "from matplotlib import pyplot as plt\n",
    "import pandas\n",
    "\n",
    "from statsmodels.tsa.seasonal import seasonal_decompose\n",
    "import statsmodels.api as sm\n",
    "from statsmodels.stats.stattools import durbin_watson\n",
    "import statsmodels.formula.api as smf\n",
    "from statsmodels.graphics.tsaplots import plot_acf, plot_pacf\n",
    "from statsmodels.tsa.stattools import pacf"
   ]
  },
  {
   "cell_type": "code",
   "execution_count": 3,
   "id": "a99dc163-6c37-4a18-b623-d40998dff4fb",
   "metadata": {},
   "outputs": [],
   "source": [
    "def set_fontsize(ax,fsz):\n",
    "    \"\"\"\n",
    "    Set the fontsize throughout an Axis\n",
    "    \n",
    "    Args:\n",
    "        ax (Matplotlib Axis): \n",
    "        fsz (float): Font size\n",
    "\n",
    "    Returns:\n",
    "\n",
    "    \"\"\"\n",
    "    for item in ([ax.title, ax.xaxis.label, ax.yaxis.label] +\n",
    "                 ax.get_xticklabels() + ax.get_yticklabels()):\n",
    "        item.set_fontsize(fsz)"
   ]
  },
  {
   "cell_type": "markdown",
   "id": "7f74e004-048f-4327-bb58-a27f3864b490",
   "metadata": {},
   "source": [
    "----"
   ]
  },
  {
   "cell_type": "markdown",
   "id": "bb7ea306-0739-4aeb-adb6-490356393c6b",
   "metadata": {},
   "source": [
    "# Question 4"
   ]
  },
  {
   "cell_type": "markdown",
   "id": "352d4aa0-2e20-49ec-9ed3-d566375c3d87",
   "metadata": {},
   "source": [
    "## Load data"
   ]
  },
  {
   "cell_type": "code",
   "execution_count": 4,
   "id": "a1be789f-6144-4791-b14f-cfe4dbeef311",
   "metadata": {},
   "outputs": [
    {
     "data": {
      "text/html": [
       "<div>\n",
       "<style scoped>\n",
       "    .dataframe tbody tr th:only-of-type {\n",
       "        vertical-align: middle;\n",
       "    }\n",
       "\n",
       "    .dataframe tbody tr th {\n",
       "        vertical-align: top;\n",
       "    }\n",
       "\n",
       "    .dataframe thead th {\n",
       "        text-align: right;\n",
       "    }\n",
       "</style>\n",
       "<table border=\"1\" class=\"dataframe\">\n",
       "  <thead>\n",
       "    <tr style=\"text-align: right;\">\n",
       "      <th></th>\n",
       "      <th>year</th>\n",
       "      <th>SST</th>\n",
       "    </tr>\n",
       "  </thead>\n",
       "  <tbody>\n",
       "    <tr>\n",
       "      <th>0</th>\n",
       "      <td>1916</td>\n",
       "      <td>15.642</td>\n",
       "    </tr>\n",
       "    <tr>\n",
       "      <th>1</th>\n",
       "      <td>1917</td>\n",
       "      <td>16.743</td>\n",
       "    </tr>\n",
       "    <tr>\n",
       "      <th>2</th>\n",
       "      <td>1918</td>\n",
       "      <td>17.385</td>\n",
       "    </tr>\n",
       "    <tr>\n",
       "      <th>3</th>\n",
       "      <td>1919</td>\n",
       "      <td>16.810</td>\n",
       "    </tr>\n",
       "    <tr>\n",
       "      <th>4</th>\n",
       "      <td>1920</td>\n",
       "      <td>16.576</td>\n",
       "    </tr>\n",
       "  </tbody>\n",
       "</table>\n",
       "</div>"
      ],
      "text/plain": [
       "   year     SST\n",
       "0  1916  15.642\n",
       "1  1917  16.743\n",
       "2  1918  17.385\n",
       "3  1919  16.810\n",
       "4  1920  16.576"
      ]
     },
     "execution_count": 4,
     "metadata": {},
     "output_type": "execute_result"
    }
   ],
   "source": [
    "SIO_file = '../Data/SIO_SST.txt'\n",
    "SIO_df = pandas.read_table(SIO_file, delim_whitespace=True)\n",
    "SIO_df.head()"
   ]
  },
  {
   "cell_type": "markdown",
   "id": "5a49904c-4119-4ea5-b37d-6f166c1edf77",
   "metadata": {},
   "source": [
    "## Dates"
   ]
  },
  {
   "cell_type": "code",
   "execution_count": 5,
   "id": "0542ff46-31bb-48b9-a149-0c57d11d00cb",
   "metadata": {},
   "outputs": [
    {
     "data": {
      "text/html": [
       "<div>\n",
       "<style scoped>\n",
       "    .dataframe tbody tr th:only-of-type {\n",
       "        vertical-align: middle;\n",
       "    }\n",
       "\n",
       "    .dataframe tbody tr th {\n",
       "        vertical-align: top;\n",
       "    }\n",
       "\n",
       "    .dataframe thead th {\n",
       "        text-align: right;\n",
       "    }\n",
       "</style>\n",
       "<table border=\"1\" class=\"dataframe\">\n",
       "  <thead>\n",
       "    <tr style=\"text-align: right;\">\n",
       "      <th></th>\n",
       "      <th>SST</th>\n",
       "    </tr>\n",
       "    <tr>\n",
       "      <th>date</th>\n",
       "      <th></th>\n",
       "    </tr>\n",
       "  </thead>\n",
       "  <tbody>\n",
       "    <tr>\n",
       "      <th>1916-01-01</th>\n",
       "      <td>15.642</td>\n",
       "    </tr>\n",
       "    <tr>\n",
       "      <th>1917-01-01</th>\n",
       "      <td>16.743</td>\n",
       "    </tr>\n",
       "    <tr>\n",
       "      <th>1918-01-01</th>\n",
       "      <td>17.385</td>\n",
       "    </tr>\n",
       "    <tr>\n",
       "      <th>1919-01-01</th>\n",
       "      <td>16.810</td>\n",
       "    </tr>\n",
       "    <tr>\n",
       "      <th>1920-01-01</th>\n",
       "      <td>16.576</td>\n",
       "    </tr>\n",
       "  </tbody>\n",
       "</table>\n",
       "</div>"
      ],
      "text/plain": [
       "               SST\n",
       "date              \n",
       "1916-01-01  15.642\n",
       "1917-01-01  16.743\n",
       "1918-01-01  17.385\n",
       "1919-01-01  16.810\n",
       "1920-01-01  16.576"
      ]
     },
     "execution_count": 5,
     "metadata": {},
     "output_type": "execute_result"
    }
   ],
   "source": [
    "dates = []\n",
    "for index, row in SIO_df.iterrows():\n",
    "    dates.append(f'{int(row.year)}')\n",
    "dates = pandas.to_datetime(dates)\n",
    "SIO_df['date'] = dates\n",
    "SIO_df.set_index('date', inplace=True)\n",
    "# Remove Year\n",
    "SIO_df.drop(columns='year', inplace=True)\n",
    "SIO_df.head()"
   ]
  },
  {
   "cell_type": "markdown",
   "id": "4186e51e-0886-4bf2-8b5f-44f9d66dd07b",
   "metadata": {},
   "source": [
    "## Prep for fitting"
   ]
  },
  {
   "cell_type": "code",
   "execution_count": 6,
   "id": "cd160e99-bbd2-4e13-8db6-1b07fa2aa076",
   "metadata": {},
   "outputs": [],
   "source": [
    "data = pandas.DataFrame()\n",
    "data['SST'] = SIO_df.SST.values\n",
    "data.index = SIO_df.index"
   ]
  },
  {
   "cell_type": "code",
   "execution_count": 7,
   "id": "80b3be6b-17cd-4856-bf6d-08132ba1264c",
   "metadata": {},
   "outputs": [
    {
     "data": {
      "text/plain": [
       "date\n",
       "1981-01-01    0.0\n",
       "1982-01-01    0.0\n",
       "1983-01-01    0.0\n",
       "1984-01-01    0.0\n",
       "1985-01-01    0.0\n",
       "1986-01-01    0.0\n",
       "1987-01-01    0.0\n",
       "1988-01-01    0.0\n",
       "1989-01-01    1.0\n",
       "1990-01-01    1.0\n",
       "Name: dummy0, dtype: float64"
      ]
     },
     "execution_count": 7,
     "metadata": {},
     "output_type": "execute_result"
    }
   ],
   "source": [
    "dummy0 = np.zeros(len(data))\n",
    "dummy0[data.index >= pandas.to_datetime('1989')] = 1\n",
    "data['dummy0'] = dummy0\n",
    "data.dummy0[-40:-30]"
   ]
  },
  {
   "cell_type": "markdown",
   "id": "bd78a90f-59c0-4e89-8d1b-653694fc81a7",
   "metadata": {},
   "source": [
    "## Fit"
   ]
  },
  {
   "cell_type": "code",
   "execution_count": 8,
   "id": "a4063ed1-68a7-4fa9-9143-7ca5b390a3a7",
   "metadata": {},
   "outputs": [
    {
     "data": {
      "text/html": [
       "<table class=\"simpletable\">\n",
       "<caption>Generalized Linear Model Regression Results</caption>\n",
       "<tr>\n",
       "  <th>Dep. Variable:</th>          <td>SST</td>       <th>  No. Observations:  </th>  <td>   105</td> \n",
       "</tr>\n",
       "<tr>\n",
       "  <th>Model:</th>                  <td>GLM</td>       <th>  Df Residuals:      </th>  <td>   103</td> \n",
       "</tr>\n",
       "<tr>\n",
       "  <th>Model Family:</th>        <td>Gaussian</td>     <th>  Df Model:          </th>  <td>     1</td> \n",
       "</tr>\n",
       "<tr>\n",
       "  <th>Link Function:</th>       <td>identity</td>     <th>  Scale:             </th> <td> 0.41249</td>\n",
       "</tr>\n",
       "<tr>\n",
       "  <th>Method:</th>                <td>IRLS</td>       <th>  Log-Likelihood:    </th> <td> -101.49</td>\n",
       "</tr>\n",
       "<tr>\n",
       "  <th>Date:</th>            <td>Mon, 09 May 2022</td> <th>  Deviance:          </th> <td>  42.487</td>\n",
       "</tr>\n",
       "<tr>\n",
       "  <th>Time:</th>                <td>09:33:59</td>     <th>  Pearson chi2:      </th>  <td>  42.5</td> \n",
       "</tr>\n",
       "<tr>\n",
       "  <th>No. Iterations:</th>          <td>3</td>        <th>  Pseudo R-squ. (CS):</th>  <td>0.4625</td> \n",
       "</tr>\n",
       "<tr>\n",
       "  <th>Covariance Type:</th>     <td>nonrobust</td>    <th>                     </th>     <td> </td>   \n",
       "</tr>\n",
       "</table>\n",
       "<table class=\"simpletable\">\n",
       "<tr>\n",
       "      <td></td>         <th>coef</th>     <th>std err</th>      <th>z</th>      <th>P>|z|</th>  <th>[0.025</th>    <th>0.975]</th>  \n",
       "</tr>\n",
       "<tr>\n",
       "  <th>Intercept</th> <td>   16.9302</td> <td>    0.075</td> <td>  225.224</td> <td> 0.000</td> <td>   16.783</td> <td>   17.078</td>\n",
       "</tr>\n",
       "<tr>\n",
       "  <th>dummy0</th>    <td>    1.0992</td> <td>    0.136</td> <td>    8.073</td> <td> 0.000</td> <td>    0.832</td> <td>    1.366</td>\n",
       "</tr>\n",
       "</table>"
      ],
      "text/plain": [
       "<class 'statsmodels.iolib.summary.Summary'>\n",
       "\"\"\"\n",
       "                 Generalized Linear Model Regression Results                  \n",
       "==============================================================================\n",
       "Dep. Variable:                    SST   No. Observations:                  105\n",
       "Model:                            GLM   Df Residuals:                      103\n",
       "Model Family:                Gaussian   Df Model:                            1\n",
       "Link Function:               identity   Scale:                         0.41249\n",
       "Method:                          IRLS   Log-Likelihood:                -101.49\n",
       "Date:                Mon, 09 May 2022   Deviance:                       42.487\n",
       "Time:                        09:33:59   Pearson chi2:                     42.5\n",
       "No. Iterations:                     3   Pseudo R-squ. (CS):             0.4625\n",
       "Covariance Type:            nonrobust                                         \n",
       "==============================================================================\n",
       "                 coef    std err          z      P>|z|      [0.025      0.975]\n",
       "------------------------------------------------------------------------------\n",
       "Intercept     16.9302      0.075    225.224      0.000      16.783      17.078\n",
       "dummy0         1.0992      0.136      8.073      0.000       0.832       1.366\n",
       "==============================================================================\n",
       "\"\"\""
      ]
     },
     "execution_count": 8,
     "metadata": {},
     "output_type": "execute_result"
    }
   ],
   "source": [
    "dummy0_formula = \"SST ~ dummy0\"\n",
    "mod_dummy0 = smf.glm(formula=dummy0_formula, data=data).fit()#, family=sm.f\n",
    "mod_dummy0.summary()"
   ]
  },
  {
   "cell_type": "code",
   "execution_count": 9,
   "id": "4e610946-713d-464a-af15-bd80f78341ee",
   "metadata": {},
   "outputs": [
    {
     "data": {
      "text/plain": [
       "Intercept    0.000000e+00\n",
       "dummy0       6.874123e-16\n",
       "dtype: float64"
      ]
     },
     "execution_count": 9,
     "metadata": {},
     "output_type": "execute_result"
    }
   ],
   "source": [
    "mod_dummy0.pvalues"
   ]
  },
  {
   "cell_type": "markdown",
   "id": "8b9aaf99-cf20-4cf6-ae31-11d3647f0a7b",
   "metadata": {},
   "source": [
    "## The intervention has magnitude of 1.1 (with error of 0.14)"
   ]
  },
  {
   "cell_type": "markdown",
   "id": "d4b86662-93f7-4bcd-97c9-8eaf2c60dd65",
   "metadata": {},
   "source": [
    "## We recover a p-value of 6.874123e-16 for the intervention"
   ]
  },
  {
   "cell_type": "markdown",
   "id": "207744e0-9dd4-4e6a-89b1-7667e04a93b5",
   "metadata": {},
   "source": [
    "## Plot"
   ]
  },
  {
   "cell_type": "code",
   "execution_count": 19,
   "id": "d770e288-c5ee-4e35-826d-19dc4ecd7f78",
   "metadata": {},
   "outputs": [],
   "source": [
    "data['ols'] = mod_dummy0.fittedvalues"
   ]
  },
  {
   "cell_type": "code",
   "execution_count": 20,
   "id": "372696c2-4f54-423c-af15-f9fb950cbcef",
   "metadata": {},
   "outputs": [
    {
     "data": {
      "image/png": "[encoded data removed]",
      "text/plain": [
       "<Figure size 864x648 with 1 Axes>"
      ]
     },
     "metadata": {
      "needs_background": "light"
     },
     "output_type": "display_data"
    }
   ],
   "source": [
    "fig = plt.figure()\n",
    "fig.set_size_inches((12, 9))\n",
    "ax = data.SST.plot(ylabel='SST', label='data', marker='o', ls='')\n",
    "#\n",
    "data.ols.plot(ax=ax, color='k', label='model')\n",
    "#\n",
    "ax.legend(fontsize=15)\n",
    "#\n",
    "set_fontsize(ax, 17)"
   ]
  },
  {
   "cell_type": "markdown",
   "id": "c19a7460-e6e6-4857-a264-0aac45d574df",
   "metadata": {},
   "source": [
    "----"
   ]
  },
  {
   "cell_type": "markdown",
   "id": "40c56d4e-69db-48e2-971e-7f48cb1844f5",
   "metadata": {},
   "source": [
    "# Question 5 -- AIC"
   ]
  },
  {
   "cell_type": "code",
   "execution_count": 10,
   "id": "86fb43b4-d350-442e-81a0-05814ac3a44d",
   "metadata": {},
   "outputs": [
    {
     "data": {
      "text/plain": [
       "206.97684413808415"
      ]
     },
     "execution_count": 10,
     "metadata": {},
     "output_type": "execute_result"
    }
   ],
   "source": [
    "mod_dummy0.aic"
   ]
  },
  {
   "cell_type": "markdown",
   "id": "22bcf215-9b5a-4e48-b6b4-c553577ab657",
   "metadata": {},
   "source": [
    "## The AIC is 206.98"
   ]
  },
  {
   "cell_type": "markdown",
   "id": "471e2570-93fa-424a-a07d-253e9607eec9",
   "metadata": {},
   "source": [
    "----"
   ]
  },
  {
   "cell_type": "markdown",
   "id": "e0218100-aaf4-4cec-bb77-876524f98bbb",
   "metadata": {},
   "source": [
    "# Question 6 -- Fit with GLS"
   ]
  },
  {
   "cell_type": "markdown",
   "id": "0ce46122-3eaf-4cdf-adbc-a8f2d03da1d3",
   "metadata": {},
   "source": [
    "## Prep anew"
   ]
  },
  {
   "cell_type": "code",
   "execution_count": 21,
   "id": "04095679-cfac-4cae-a5ee-9145c954f8d6",
   "metadata": {},
   "outputs": [],
   "source": [
    "gls_data = pandas.DataFrame()\n",
    "# endogd\n",
    "gls_data['d'] = data.SST.values\n",
    "# endoge\n",
    "gls_endog = pandas.DataFrame()\n",
    "gls_endog['dum'] = data.dummy0.values\n",
    "gls_endog['intercept'] = 1."
   ]
  },
  {
   "cell_type": "markdown",
   "id": "0c3504f9-a413-43b5-b4ed-edebdd503767",
   "metadata": {},
   "source": [
    "## Fit"
   ]
  },
  {
   "cell_type": "code",
   "execution_count": 22,
   "id": "fffcdf77-4c95-4056-9692-cf210291254b",
   "metadata": {},
   "outputs": [
    {
     "name": "stdout",
     "output_type": "stream",
     "text": [
      "                           GLSAR Regression Results                           \n",
      "==============================================================================\n",
      "Dep. Variable:                      d   R-squared:                       0.235\n",
      "Model:                          GLSAR   Adj. R-squared:                  0.227\n",
      "Method:                 Least Squares   F-statistic:                     31.29\n",
      "Date:                Mon, 09 May 2022   Prob (F-statistic):           1.87e-07\n",
      "Time:                        09:47:18   Log-Likelihood:                -92.319\n",
      "No. Observations:                 104   AIC:                             188.6\n",
      "Df Residuals:                     102   BIC:                             193.9\n",
      "Df Model:                           1                                         \n",
      "Covariance Type:            nonrobust                                         \n",
      "==============================================================================\n",
      "                 coef    std err          t      P>|t|      [0.025      0.975]\n",
      "------------------------------------------------------------------------------\n",
      "dum            1.0479      0.187      5.594      0.000       0.676       1.419\n",
      "intercept     16.9671      0.106    160.049      0.000      16.757      17.177\n",
      "==============================================================================\n",
      "Omnibus:                        1.673   Durbin-Watson:                   1.944\n",
      "Prob(Omnibus):                  0.433   Jarque-Bera (JB):                1.292\n",
      "Skew:                           0.267   Prob(JB):                        0.524\n",
      "Kurtosis:                       3.117   Cond. No.                         2.38\n",
      "==============================================================================\n",
      "\n",
      "Notes:\n",
      "[1] Standard Errors assume that the covariance matrix of the errors is correctly specified.\n"
     ]
    }
   ],
   "source": [
    "glsar_model = sm.GLSAR(gls_data.d, gls_endog, 1)\n",
    "glsar_results = glsar_model.iterative_fit(15)\n",
    "print(glsar_results.summary())"
   ]
  },
  {
   "cell_type": "markdown",
   "id": "8b72fc93-460d-4200-966a-a2d4f1b947e4",
   "metadata": {},
   "source": [
    "## Plot"
   ]
  },
  {
   "cell_type": "code",
   "execution_count": 25,
   "id": "cc050d51-5ad1-417b-a5ad-cef34dfcec9a",
   "metadata": {},
   "outputs": [
    {
     "data": {
      "text/plain": [
       "0      16.967104\n",
       "1      16.967104\n",
       "2      16.967104\n",
       "3      16.967104\n",
       "4      16.967104\n",
       "         ...    \n",
       "100    18.015022\n",
       "101    18.015022\n",
       "102    18.015022\n",
       "103    18.015022\n",
       "104    18.015022\n",
       "Length: 105, dtype: float64"
      ]
     },
     "execution_count": 25,
     "metadata": {},
     "output_type": "execute_result"
    }
   ],
   "source": [
    "glsar_results.fittedvalues"
   ]
  },
  {
   "cell_type": "code",
   "execution_count": 28,
   "id": "2d1fefce-c0ab-4bcb-abd6-de42dbbc8beb",
   "metadata": {},
   "outputs": [
    {
     "data": {
      "image/png": "[encoded data removed]",
      "text/plain": [
       "<Figure size 864x648 with 1 Axes>"
      ]
     },
     "metadata": {
      "needs_background": "light"
     },
     "output_type": "display_data"
    }
   ],
   "source": [
    "fig = plt.figure()\n",
    "fig.set_size_inches((12, 9))\n",
    "ax = data.SST.plot(ylabel='SST', label='data', marker='o', ls='')\n",
    "#\n",
    "data.ols.plot(ax=ax, color='g', label='ols')\n",
    "data.gls1.plot(ax=ax, color='k', label='gls')\n",
    "#\n",
    "ax.legend(fontsize=15)\n",
    "#\n",
    "set_fontsize(ax, 17)\n",
    "#plt.savefig('PS4_Q1.png', dpi=300)"
   ]
  },
  {
   "cell_type": "code",
   "execution_count": 30,
   "id": "ff408135-83a9-4a31-88a0-f18ae18360ed",
   "metadata": {},
   "outputs": [
    {
     "data": {
      "text/plain": [
       "dum           1.047918\n",
       "intercept    16.967104\n",
       "dtype: float64"
      ]
     },
     "execution_count": 30,
     "metadata": {},
     "output_type": "execute_result"
    }
   ],
   "source": [
    "glsar_results.params"
   ]
  },
  {
   "cell_type": "code",
   "execution_count": 31,
   "id": "f191da03-1810-4bd3-bbaa-33850218fa12",
   "metadata": {},
   "outputs": [
    {
     "data": {
      "text/plain": [
       "dum           1.872428e-07\n",
       "intercept    2.595200e-124\n",
       "dtype: float64"
      ]
     },
     "execution_count": 31,
     "metadata": {},
     "output_type": "execute_result"
    }
   ],
   "source": [
    "glsar_results.pvalues"
   ]
  },
  {
   "cell_type": "markdown",
   "id": "fe9c2d5d-5fec-428e-942a-913f9ed0143c",
   "metadata": {},
   "source": [
    "## The intervention has value 1.05 (very nearly the same)\n",
    "\n",
    "## The p-value is 1.87e-7. still highly significant"
   ]
  },
  {
   "cell_type": "markdown",
   "id": "fc6667d2-a971-454a-be9f-901e20ee7217",
   "metadata": {},
   "source": [
    "----"
   ]
  },
  {
   "cell_type": "markdown",
   "id": "7be22ded-99a8-471f-bc6c-72c98038e7c5",
   "metadata": {},
   "source": [
    "# Question 7 -- AIC of GLS"
   ]
  },
  {
   "cell_type": "code",
   "execution_count": 32,
   "id": "93907203-0ff5-4df6-ba71-7e5e8ec15dab",
   "metadata": {},
   "outputs": [
    {
     "data": {
      "text/plain": [
       "188.63844491386385"
      ]
     },
     "execution_count": 32,
     "metadata": {},
     "output_type": "execute_result"
    }
   ],
   "source": [
    "glsar_results.aic"
   ]
  },
  {
   "cell_type": "markdown",
   "id": "0cc38bc4-b5e0-4012-93f5-295312fc98b7",
   "metadata": {},
   "source": [
    "## We recover an AIC = 188.6 for the GLS model\n",
    "\n",
    "## This is smaller than the OLS model and enough so that it is much preferred"
   ]
  },
  {
   "cell_type": "markdown",
   "id": "6ee81c75-0f8c-4f80-8198-32e0ef15a23a",
   "metadata": {},
   "source": [
    "----"
   ]
  },
  {
   "cell_type": "markdown",
   "id": "c80e3993-2f1d-4b19-a039-65a12b5f7655",
   "metadata": {},
   "source": [
    "# Question 8 -- Fit without intervention"
   ]
  },
  {
   "cell_type": "markdown",
   "id": "97b470ab-3cc9-457c-9d5d-e8989fcb3a14",
   "metadata": {},
   "source": [
    "## Prep"
   ]
  },
  {
   "cell_type": "code",
   "execution_count": 36,
   "id": "433ee728-788b-440a-8f40-400e9fa5d40b",
   "metadata": {},
   "outputs": [],
   "source": [
    "# endoge\n",
    "gls_endog2 = pandas.DataFrame()\n",
    "gls_endog2['intercept'] = np.ones(len(gls_data.d))"
   ]
  },
  {
   "cell_type": "markdown",
   "id": "04e83315-0c37-4468-89ce-6381acc26af5",
   "metadata": {},
   "source": [
    "## Fit"
   ]
  },
  {
   "cell_type": "code",
   "execution_count": 37,
   "id": "44349d82-79a5-484b-9773-bf0e57fb8644",
   "metadata": {},
   "outputs": [
    {
     "name": "stdout",
     "output_type": "stream",
     "text": [
      "                           GLSAR Regression Results                           \n",
      "==============================================================================\n",
      "Dep. Variable:                      d   R-squared:                       0.000\n",
      "Model:                          GLSAR   Adj. R-squared:                  0.000\n",
      "Method:                 Least Squares   F-statistic:                       nan\n",
      "Date:                Mon, 09 May 2022   Prob (F-statistic):                nan\n",
      "Time:                        10:00:12   Log-Likelihood:                -101.10\n",
      "No. Observations:                 104   AIC:                             204.2\n",
      "Df Residuals:                     103   BIC:                             206.8\n",
      "Df Model:                           0                                         \n",
      "Covariance Type:            nonrobust                                         \n",
      "==============================================================================\n",
      "                 coef    std err          t      P>|t|      [0.025      0.975]\n",
      "------------------------------------------------------------------------------\n",
      "intercept     17.3195      0.154    112.808      0.000      17.015      17.624\n",
      "==============================================================================\n",
      "Omnibus:                        1.814   Durbin-Watson:                   2.086\n",
      "Prob(Omnibus):                  0.404   Jarque-Bera (JB):                1.265\n",
      "Skew:                           0.220   Prob(JB):                        0.531\n",
      "Kurtosis:                       3.314   Cond. No.                         1.00\n",
      "==============================================================================\n",
      "\n",
      "Notes:\n",
      "[1] Standard Errors assume that the covariance matrix of the errors is correctly specified.\n"
     ]
    }
   ],
   "source": [
    "glsar_model2 = sm.GLSAR(gls_data.d, gls_endog2, 1)\n",
    "glsar_results2 = glsar_model2.iterative_fit(15)\n",
    "print(glsar_results2.summary())"
   ]
  },
  {
   "cell_type": "code",
   "execution_count": 38,
   "id": "08706b31-8fa9-4be3-ad2a-e3c3621a0565",
   "metadata": {},
   "outputs": [
    {
     "data": {
      "text/plain": [
       "204.19389413082388"
      ]
     },
     "execution_count": 38,
     "metadata": {},
     "output_type": "execute_result"
    }
   ],
   "source": [
    "glsar_results2.aic"
   ]
  },
  {
   "cell_type": "markdown",
   "id": "5605b660-94b0-47c8-aef3-2a99ff194db4",
   "metadata": {},
   "source": [
    "## AIC = 204.19 for this model without an intervention\n",
    "\n",
    "## This model is clearly not favored over the AR(1) model with an intervention"
   ]
  },
  {
   "cell_type": "code",
   "execution_count": null,
   "id": "9519811d-6e85-462d-9665-4dd54c804fdd",
   "metadata": {},
   "outputs": [],
   "source": []
  }
 ],
 "metadata": {
  "kernelspec": {
   "display_name": "Python 3 (ipykernel)",
   "language": "python",
   "name": "python3"
  },
  "language_info": {
   "codemirror_mode": {
    "name": "ipython",
    "version": 3
   },
   "file_extension": ".py",
   "mimetype": "text/x-python",
   "name": "python",
   "nbconvert_exporter": "python",
   "pygments_lexer": "ipython3",
   "version": "3.9.7"
  }
 },
 "nbformat": 4,
 "nbformat_minor": 5
}
