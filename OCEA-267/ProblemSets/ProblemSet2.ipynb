{
 "cells": [
  {
   "cell_type": "markdown",
   "id": "d287bc2e-76b5-4fad-a5eb-2094bd648f21",
   "metadata": {},
   "source": [
    "# Problem Set 2"
   ]
  },
  {
   "cell_type": "code",
   "execution_count": 53,
   "id": "5245e8d1-4428-4f75-8537-1818a37d134a",
   "metadata": {},
   "outputs": [],
   "source": [
    "import numpy as np\n",
    "from scipy.ndimage import uniform_filter1d\n",
    "from scipy.stats import shapiro, bartlett\n",
    "from matplotlib import pyplot as plt\n",
    "import pandas\n",
    "\n",
    "from statsmodels.tsa.seasonal import seasonal_decompose\n",
    "import statsmodels.api as sm\n",
    "from statsmodels.stats.stattools import durbin_watson\n",
    "import statsmodels.formula.api as smf"
   ]
  },
  {
   "cell_type": "code",
   "execution_count": 3,
   "id": "7e39532a-ff40-45ca-a9bc-af5bcc0b63af",
   "metadata": {},
   "outputs": [],
   "source": [
    "def set_fontsize(ax,fsz):\n",
    "    \"\"\"\n",
    "    Set the fontsize throughout an Axis\n",
    "    \n",
    "    Args:\n",
    "        ax (Matplotlib Axis): \n",
    "        fsz (float): Font size\n",
    "\n",
    "    Returns:\n",
    "\n",
    "    \"\"\"\n",
    "    for item in ([ax.title, ax.xaxis.label, ax.yaxis.label] +\n",
    "                 ax.get_xticklabels() + ax.get_yticklabels()):\n",
    "        item.set_fontsize(fsz)\n"
   ]
  },
  {
   "cell_type": "markdown",
   "id": "e83b90ab-3012-4d3c-9ebd-1b45892af0bf",
   "metadata": {},
   "source": [
    "# Question 1"
   ]
  },
  {
   "cell_type": "markdown",
   "id": "e83932fc-e808-4ee6-87e6-8fee979220e8",
   "metadata": {},
   "source": [
    "## Load"
   ]
  },
  {
   "cell_type": "code",
   "execution_count": 6,
   "id": "2f87063b-36e6-4b2e-99c7-1dfec4ba0405",
   "metadata": {},
   "outputs": [
    {
     "data": {
      "text/html": [
       "<div>\n",
       "<style scoped>\n",
       "    .dataframe tbody tr th:only-of-type {\n",
       "        vertical-align: middle;\n",
       "    }\n",
       "\n",
       "    .dataframe tbody tr th {\n",
       "        vertical-align: top;\n",
       "    }\n",
       "\n",
       "    .dataframe thead th {\n",
       "        text-align: right;\n",
       "    }\n",
       "</style>\n",
       "<table border=\"1\" class=\"dataframe\">\n",
       "  <thead>\n",
       "    <tr style=\"text-align: right;\">\n",
       "      <th></th>\n",
       "      <th>year</th>\n",
       "      <th>month</th>\n",
       "      <th>dd</th>\n",
       "      <th>y</th>\n",
       "    </tr>\n",
       "  </thead>\n",
       "  <tbody>\n",
       "    <tr>\n",
       "      <th>0</th>\n",
       "      <td>2011</td>\n",
       "      <td>1</td>\n",
       "      <td>2011.08</td>\n",
       "      <td>0.28</td>\n",
       "    </tr>\n",
       "    <tr>\n",
       "      <th>1</th>\n",
       "      <td>2011</td>\n",
       "      <td>2</td>\n",
       "      <td>2011.15</td>\n",
       "      <td>0.40</td>\n",
       "    </tr>\n",
       "    <tr>\n",
       "      <th>2</th>\n",
       "      <td>2011</td>\n",
       "      <td>3</td>\n",
       "      <td>2011.23</td>\n",
       "      <td>0.43</td>\n",
       "    </tr>\n",
       "    <tr>\n",
       "      <th>3</th>\n",
       "      <td>2011</td>\n",
       "      <td>4</td>\n",
       "      <td>2011.31</td>\n",
       "      <td>0.40</td>\n",
       "    </tr>\n",
       "    <tr>\n",
       "      <th>4</th>\n",
       "      <td>2011</td>\n",
       "      <td>5</td>\n",
       "      <td>2011.38</td>\n",
       "      <td>0.32</td>\n",
       "    </tr>\n",
       "  </tbody>\n",
       "</table>\n",
       "</div>"
      ],
      "text/plain": [
       "   year  month       dd     y\n",
       "0  2011      1  2011.08  0.28\n",
       "1  2011      2  2011.15  0.40\n",
       "2  2011      3  2011.23  0.43\n",
       "3  2011      4  2011.31  0.40\n",
       "4  2011      5  2011.38  0.32"
      ]
     },
     "execution_count": 6,
     "metadata": {},
     "output_type": "execute_result"
    }
   ],
   "source": [
    "ps2_data = pandas.read_table('PS2_data-3.txt', delim_whitespace=True)#,skiprows=5,\n",
    "                       #names=['year', 'SST', 'eSST'])\n",
    "ps2_data.head()"
   ]
  },
  {
   "cell_type": "markdown",
   "id": "f049c115-441c-4d94-9f80-e64937e70747",
   "metadata": {},
   "source": [
    "## Date"
   ]
  },
  {
   "cell_type": "code",
   "execution_count": 7,
   "id": "7c3fa6a0-e645-4945-a956-b246abd82479",
   "metadata": {},
   "outputs": [
    {
     "data": {
      "text/html": [
       "<div>\n",
       "<style scoped>\n",
       "    .dataframe tbody tr th:only-of-type {\n",
       "        vertical-align: middle;\n",
       "    }\n",
       "\n",
       "    .dataframe tbody tr th {\n",
       "        vertical-align: top;\n",
       "    }\n",
       "\n",
       "    .dataframe thead th {\n",
       "        text-align: right;\n",
       "    }\n",
       "</style>\n",
       "<table border=\"1\" class=\"dataframe\">\n",
       "  <thead>\n",
       "    <tr style=\"text-align: right;\">\n",
       "      <th></th>\n",
       "      <th>year</th>\n",
       "      <th>month</th>\n",
       "      <th>dd</th>\n",
       "      <th>y</th>\n",
       "    </tr>\n",
       "    <tr>\n",
       "      <th>date</th>\n",
       "      <th></th>\n",
       "      <th></th>\n",
       "      <th></th>\n",
       "      <th></th>\n",
       "    </tr>\n",
       "  </thead>\n",
       "  <tbody>\n",
       "    <tr>\n",
       "      <th>2011-01-01</th>\n",
       "      <td>2011</td>\n",
       "      <td>1</td>\n",
       "      <td>2011.08</td>\n",
       "      <td>0.28</td>\n",
       "    </tr>\n",
       "    <tr>\n",
       "      <th>2011-02-01</th>\n",
       "      <td>2011</td>\n",
       "      <td>2</td>\n",
       "      <td>2011.15</td>\n",
       "      <td>0.40</td>\n",
       "    </tr>\n",
       "    <tr>\n",
       "      <th>2011-03-01</th>\n",
       "      <td>2011</td>\n",
       "      <td>3</td>\n",
       "      <td>2011.23</td>\n",
       "      <td>0.43</td>\n",
       "    </tr>\n",
       "    <tr>\n",
       "      <th>2011-04-01</th>\n",
       "      <td>2011</td>\n",
       "      <td>4</td>\n",
       "      <td>2011.31</td>\n",
       "      <td>0.40</td>\n",
       "    </tr>\n",
       "    <tr>\n",
       "      <th>2011-05-01</th>\n",
       "      <td>2011</td>\n",
       "      <td>5</td>\n",
       "      <td>2011.38</td>\n",
       "      <td>0.32</td>\n",
       "    </tr>\n",
       "  </tbody>\n",
       "</table>\n",
       "</div>"
      ],
      "text/plain": [
       "            year  month       dd     y\n",
       "date                                  \n",
       "2011-01-01  2011      1  2011.08  0.28\n",
       "2011-02-01  2011      2  2011.15  0.40\n",
       "2011-03-01  2011      3  2011.23  0.43\n",
       "2011-04-01  2011      4  2011.31  0.40\n",
       "2011-05-01  2011      5  2011.38  0.32"
      ]
     },
     "execution_count": 7,
     "metadata": {},
     "output_type": "execute_result"
    }
   ],
   "source": [
    "dates = []\n",
    "for index, row in ps2_data.iterrows():\n",
    "    dates.append(f'{int(row.year)}-{int(row.month)}')\n",
    "dates = pandas.to_datetime(dates)\n",
    "ps2_data['date'] = dates\n",
    "ps2_data.set_index('date', inplace=True)\n",
    "ps2_data.head()"
   ]
  },
  {
   "cell_type": "markdown",
   "id": "cdf1042d-8237-44bb-8572-4f5c7bda7eb2",
   "metadata": {},
   "source": [
    "## Plot"
   ]
  },
  {
   "cell_type": "code",
   "execution_count": 13,
   "id": "aaca0999-c30f-483d-8ed8-3458bf631904",
   "metadata": {},
   "outputs": [
    {
     "data": {
      "image/png": "[encoded data removed]",
      "text/plain": [
       "<Figure size 432x288 with 1 Axes>"
      ]
     },
     "metadata": {
      "needs_background": "light"
     },
     "output_type": "display_data"
    }
   ],
   "source": [
    "ps2_data.y.plot(ylabel='CHL concentraion (mg/m^3)', marker='o', ms=2., ls='')\n",
    "plt.savefig('PS2_Q1_CHL.png', dpi=300)"
   ]
  },
  {
   "cell_type": "markdown",
   "id": "1aeabfed-f369-420e-a1f7-5282165b9453",
   "metadata": {},
   "source": [
    "----"
   ]
  },
  {
   "cell_type": "markdown",
   "id": "84b28693-bd77-4a5b-95ce-c6d833837007",
   "metadata": {},
   "source": [
    "# Question 2 -- Linear trend + Seasonal"
   ]
  },
  {
   "cell_type": "markdown",
   "id": "e5c081fe-6c07-42c7-b763-fa07aecd15d7",
   "metadata": {},
   "source": [
    "## Dummy variables"
   ]
  },
  {
   "cell_type": "code",
   "execution_count": 14,
   "id": "923771f4-9304-4d7f-84cf-d8ce0378f1de",
   "metadata": {},
   "outputs": [],
   "source": [
    "dummy = np.zeros((len(ps2_data), 11), dtype=int)\n",
    "for i in np.arange(11):\n",
    "    for j in np.arange(len(ps2_data)):\n",
    "        if ps2_data.month.values[j] == i+1:\n",
    "            dummy[j,i] = 1"
   ]
  },
  {
   "cell_type": "markdown",
   "id": "c66560cb-670f-4cc3-a201-c1a9cc2fe3de",
   "metadata": {},
   "source": [
    "## Data frame"
   ]
  },
  {
   "cell_type": "code",
   "execution_count": 16,
   "id": "7fe23421-ffbe-400a-bdb4-f7437e7660ca",
   "metadata": {},
   "outputs": [],
   "source": [
    "time = np.arange(len(ps2_data)) + 1"
   ]
  },
  {
   "cell_type": "code",
   "execution_count": 17,
   "id": "f9d722e4-8a0c-4fd7-959c-d6615564feb5",
   "metadata": {},
   "outputs": [],
   "source": [
    "data = pandas.DataFrame()\n",
    "data['ch4'] = ps2_data.y.values\n",
    "data['time'] = time\n",
    "dummies = []\n",
    "for idum in np.arange(11):\n",
    "    key = f'dum{idum}'\n",
    "    dummies.append(key)\n",
    "    data[key] = dummy[:,idum]"
   ]
  },
  {
   "cell_type": "markdown",
   "id": "894e6405-d5ba-43ab-b951-0a994a813adb",
   "metadata": {},
   "source": [
    "## Fit"
   ]
  },
  {
   "cell_type": "code",
   "execution_count": 18,
   "id": "e417000f-177b-424e-9789-be3416b3fcdf",
   "metadata": {},
   "outputs": [
    {
     "data": {
      "text/html": [
       "<table class=\"simpletable\">\n",
       "<caption>Generalized Linear Model Regression Results</caption>\n",
       "<tr>\n",
       "  <th>Dep. Variable:</th>          <td>ch4</td>       <th>  No. Observations:  </th>  <td>   120</td>  \n",
       "</tr>\n",
       "<tr>\n",
       "  <th>Model:</th>                  <td>GLM</td>       <th>  Df Residuals:      </th>  <td>   107</td>  \n",
       "</tr>\n",
       "<tr>\n",
       "  <th>Model Family:</th>        <td>Gaussian</td>     <th>  Df Model:          </th>  <td>    12</td>  \n",
       "</tr>\n",
       "<tr>\n",
       "  <th>Link Function:</th>       <td>identity</td>     <th>  Scale:             </th> <td>0.0031867</td>\n",
       "</tr>\n",
       "<tr>\n",
       "  <th>Method:</th>                <td>IRLS</td>       <th>  Log-Likelihood:    </th> <td>  181.53</td> \n",
       "</tr>\n",
       "<tr>\n",
       "  <th>Date:</th>            <td>Mon, 18 Apr 2022</td> <th>  Deviance:          </th> <td> 0.34097</td> \n",
       "</tr>\n",
       "<tr>\n",
       "  <th>Time:</th>                <td>05:53:48</td>     <th>  Pearson chi2:      </th>  <td> 0.341</td>  \n",
       "</tr>\n",
       "<tr>\n",
       "  <th>No. Iterations:</th>          <td>3</td>        <th>                     </th>     <td> </td>    \n",
       "</tr>\n",
       "<tr>\n",
       "  <th>Covariance Type:</th>     <td>nonrobust</td>    <th>                     </th>     <td> </td>    \n",
       "</tr>\n",
       "</table>\n",
       "<table class=\"simpletable\">\n",
       "<tr>\n",
       "      <td></td>         <th>coef</th>     <th>std err</th>      <th>z</th>      <th>P>|z|</th>  <th>[0.025</th>    <th>0.975]</th>  \n",
       "</tr>\n",
       "<tr>\n",
       "  <th>Intercept</th> <td>    0.1538</td> <td>    0.020</td> <td>    7.541</td> <td> 0.000</td> <td>    0.114</td> <td>    0.194</td>\n",
       "</tr>\n",
       "<tr>\n",
       "  <th>dum0</th>      <td>    0.1370</td> <td>    0.025</td> <td>    5.417</td> <td> 0.000</td> <td>    0.087</td> <td>    0.187</td>\n",
       "</tr>\n",
       "<tr>\n",
       "  <th>dum1</th>      <td>    0.2247</td> <td>    0.025</td> <td>    8.884</td> <td> 0.000</td> <td>    0.175</td> <td>    0.274</td>\n",
       "</tr>\n",
       "<tr>\n",
       "  <th>dum2</th>      <td>    0.2463</td> <td>    0.025</td> <td>    9.742</td> <td> 0.000</td> <td>    0.197</td> <td>    0.296</td>\n",
       "</tr>\n",
       "<tr>\n",
       "  <th>dum3</th>      <td>    0.1959</td> <td>    0.025</td> <td>    7.752</td> <td> 0.000</td> <td>    0.146</td> <td>    0.245</td>\n",
       "</tr>\n",
       "<tr>\n",
       "  <th>dum4</th>      <td>    0.1266</td> <td>    0.025</td> <td>    5.009</td> <td> 0.000</td> <td>    0.077</td> <td>    0.176</td>\n",
       "</tr>\n",
       "<tr>\n",
       "  <th>dum5</th>      <td>    0.0242</td> <td>    0.025</td> <td>    0.958</td> <td> 0.338</td> <td>   -0.025</td> <td>    0.074</td>\n",
       "</tr>\n",
       "<tr>\n",
       "  <th>dum6</th>      <td>   -0.0702</td> <td>    0.025</td> <td>   -2.778</td> <td> 0.005</td> <td>   -0.120</td> <td>   -0.021</td>\n",
       "</tr>\n",
       "<tr>\n",
       "  <th>dum7</th>      <td>   -0.1355</td> <td>    0.025</td> <td>   -5.367</td> <td> 0.000</td> <td>   -0.185</td> <td>   -0.086</td>\n",
       "</tr>\n",
       "<tr>\n",
       "  <th>dum8</th>      <td>   -0.1949</td> <td>    0.025</td> <td>   -7.719</td> <td> 0.000</td> <td>   -0.244</td> <td>   -0.145</td>\n",
       "</tr>\n",
       "<tr>\n",
       "  <th>dum9</th>      <td>   -0.1613</td> <td>    0.025</td> <td>   -6.388</td> <td> 0.000</td> <td>   -0.211</td> <td>   -0.112</td>\n",
       "</tr>\n",
       "<tr>\n",
       "  <th>dum10</th>     <td>   -0.0996</td> <td>    0.025</td> <td>   -3.947</td> <td> 0.000</td> <td>   -0.149</td> <td>   -0.050</td>\n",
       "</tr>\n",
       "<tr>\n",
       "  <th>time</th>      <td>    0.0124</td> <td>    0.000</td> <td>   82.714</td> <td> 0.000</td> <td>    0.012</td> <td>    0.013</td>\n",
       "</tr>\n",
       "</table>"
      ],
      "text/plain": [
       "<class 'statsmodels.iolib.summary.Summary'>\n",
       "\"\"\"\n",
       "                 Generalized Linear Model Regression Results                  \n",
       "==============================================================================\n",
       "Dep. Variable:                    ch4   No. Observations:                  120\n",
       "Model:                            GLM   Df Residuals:                      107\n",
       "Model Family:                Gaussian   Df Model:                           12\n",
       "Link Function:               identity   Scale:                       0.0031867\n",
       "Method:                          IRLS   Log-Likelihood:                 181.53\n",
       "Date:                Mon, 18 Apr 2022   Deviance:                      0.34097\n",
       "Time:                        05:53:48   Pearson chi2:                    0.341\n",
       "No. Iterations:                     3                                         \n",
       "Covariance Type:            nonrobust                                         \n",
       "==============================================================================\n",
       "                 coef    std err          z      P>|z|      [0.025      0.975]\n",
       "------------------------------------------------------------------------------\n",
       "Intercept      0.1538      0.020      7.541      0.000       0.114       0.194\n",
       "dum0           0.1370      0.025      5.417      0.000       0.087       0.187\n",
       "dum1           0.2247      0.025      8.884      0.000       0.175       0.274\n",
       "dum2           0.2463      0.025      9.742      0.000       0.197       0.296\n",
       "dum3           0.1959      0.025      7.752      0.000       0.146       0.245\n",
       "dum4           0.1266      0.025      5.009      0.000       0.077       0.176\n",
       "dum5           0.0242      0.025      0.958      0.338      -0.025       0.074\n",
       "dum6          -0.0702      0.025     -2.778      0.005      -0.120      -0.021\n",
       "dum7          -0.1355      0.025     -5.367      0.000      -0.185      -0.086\n",
       "dum8          -0.1949      0.025     -7.719      0.000      -0.244      -0.145\n",
       "dum9          -0.1613      0.025     -6.388      0.000      -0.211      -0.112\n",
       "dum10         -0.0996      0.025     -3.947      0.000      -0.149      -0.050\n",
       "time           0.0124      0.000     82.714      0.000       0.012       0.013\n",
       "==============================================================================\n",
       "\"\"\""
      ]
     },
     "execution_count": 18,
     "metadata": {},
     "output_type": "execute_result"
    }
   ],
   "source": [
    "formula = \"ch4 ~ dum0 + dum1 + dum2 + dum3 + dum4 + dum5 + dum6 + dum7 + dum8 + dum9 + dum10 + time\"\n",
    "mod1 = smf.glm(formula=formula, data=data).fit()#, family=sm.families.Binomial()).fit()\n",
    "mod1.summary()"
   ]
  },
  {
   "cell_type": "markdown",
   "id": "57755119-9083-4dcc-8f85-57610a8c1289",
   "metadata": {},
   "source": [
    "## Plot"
   ]
  },
  {
   "cell_type": "code",
   "execution_count": 26,
   "id": "15bc2287-0ba5-4290-bd7d-111b7b6b1a2d",
   "metadata": {},
   "outputs": [
    {
     "data": {
      "text/plain": [
       "<Figure size 432x288 with 0 Axes>"
      ]
     },
     "metadata": {},
     "output_type": "display_data"
    },
    {
     "data": {
      "image/png": "[encoded data removed]",
      "text/plain": [
       "<Figure size 864x576 with 1 Axes>"
      ]
     },
     "metadata": {
      "needs_background": "light"
     },
     "output_type": "display_data"
    }
   ],
   "source": [
    "plt.clf()\n",
    "fig = plt.figure(figsize=(12,8))\n",
    "#\n",
    "ax = plt.gca()\n",
    "ax.plot(ps2_data.index, data['ch4'], 'o', ms=2)\n",
    "# Fit\n",
    "ax.plot(ps2_data.index, mod1.fittedvalues)\n",
    "#\n",
    "# \n",
    "ax.set_xlabel('Date')\n",
    "ax.set_ylabel('CHL concentration (mg/m^3)')\n",
    "set_fontsize(ax, 17)\n",
    "#\n",
    "plt.savefig('PS2_Q2_linear.png', dpi=300)\n",
    "plt.show()"
   ]
  },
  {
   "cell_type": "markdown",
   "id": "9aa7dd4a-859b-4aaa-b387-2253709cfb49",
   "metadata": {},
   "source": [
    "----"
   ]
  },
  {
   "cell_type": "markdown",
   "id": "3437d440-52b7-4e4d-a006-4e737707f7b1",
   "metadata": {},
   "source": [
    "# Question 3 -- Residuals"
   ]
  },
  {
   "cell_type": "code",
   "execution_count": 24,
   "id": "9ced9383-7b10-425c-9302-4114dccf7a97",
   "metadata": {},
   "outputs": [],
   "source": [
    "resids_m1 = data.ch4 - mod1.fittedvalues"
   ]
  },
  {
   "cell_type": "markdown",
   "id": "f2c2c76b-07cc-4467-89f9-6f8266892433",
   "metadata": {},
   "source": [
    "## Plot"
   ]
  },
  {
   "cell_type": "code",
   "execution_count": 25,
   "id": "745253c6-67ac-4916-a504-51fa22393743",
   "metadata": {},
   "outputs": [
    {
     "data": {
      "text/plain": [
       "<Figure size 432x288 with 0 Axes>"
      ]
     },
     "metadata": {},
     "output_type": "display_data"
    },
    {
     "data": {
      "image/png": "[encoded data removed]",
      "text/plain": [
       "<Figure size 864x576 with 1 Axes>"
      ]
     },
     "metadata": {
      "needs_background": "light"
     },
     "output_type": "display_data"
    }
   ],
   "source": [
    "plt.clf()\n",
    "fig = plt.figure(figsize=(12,8))\n",
    "#\n",
    "ax = plt.gca()\n",
    "ax.plot(ps2_data.index, resids_m1, 'ko', ms=2)\n",
    "#\n",
    "# \n",
    "ax.set_xlabel('Date')\n",
    "ax.set_ylabel('Residuals (mg/m^3)')\n",
    "set_fontsize(ax, 17)\n",
    "#\n",
    "plt.savefig('PS2_Q3_resids.png', dpi=300)\n",
    "plt.show()"
   ]
  },
  {
   "cell_type": "markdown",
   "id": "03a7b5e8-da2d-4dbc-9e05-e6bc53df5426",
   "metadata": {},
   "source": [
    "----"
   ]
  },
  {
   "cell_type": "markdown",
   "id": "21f4b347-330a-4ce7-ba06-39f6aa2b06bb",
   "metadata": {},
   "source": [
    "# Question 4 -- Appropriate?"
   ]
  },
  {
   "cell_type": "markdown",
   "id": "e0d4d5d2-1a24-465b-8d6c-bf9c9b8d4e72",
   "metadata": {},
   "source": [
    "## Durbin"
   ]
  },
  {
   "cell_type": "code",
   "execution_count": 51,
   "id": "e653e80f-ffe6-4c6e-a5aa-7348b03bbfca",
   "metadata": {},
   "outputs": [
    {
     "data": {
      "text/plain": [
       "0.5700743714978939"
      ]
     },
     "execution_count": 51,
     "metadata": {},
     "output_type": "execute_result"
    }
   ],
   "source": [
    "dw_m1 = durbin_watson(resids_m1[49:])\n",
    "dw_m1"
   ]
  },
  {
   "cell_type": "markdown",
   "id": "0b327e52-7f06-4b11-b61d-6a13f59aa8b9",
   "metadata": {},
   "source": [
    "## Shapiro"
   ]
  },
  {
   "cell_type": "code",
   "execution_count": 52,
   "id": "4debd445-e340-4e1d-8d24-f24dde744a4c",
   "metadata": {},
   "outputs": [
    {
     "data": {
      "text/plain": [
       "ShapiroResult(statistic=0.9833453893661499, pvalue=0.14532946050167084)"
      ]
     },
     "execution_count": 52,
     "metadata": {},
     "output_type": "execute_result"
    }
   ],
   "source": [
    "shapiro_m1 = shapiro(resids_m1)\n",
    "shapiro_m1"
   ]
  },
  {
   "cell_type": "markdown",
   "id": "1c64b985-22ff-4cc1-ac24-d7b77770c0cb",
   "metadata": {},
   "source": [
    "## Far too much structure in the residuals.  Not appropriate"
   ]
  },
  {
   "cell_type": "markdown",
   "id": "094cd474-75ac-47f4-a147-83eac6dfd23b",
   "metadata": {},
   "source": [
    "----"
   ]
  },
  {
   "cell_type": "markdown",
   "id": "99941307-45f3-4edc-b02c-8da1b467d52d",
   "metadata": {},
   "source": [
    "# Question 5 -- Intervention Dummy"
   ]
  },
  {
   "cell_type": "code",
   "execution_count": 34,
   "id": "5e90e009-f6e4-4a90-b221-a52846e53b28",
   "metadata": {},
   "outputs": [],
   "source": [
    "dummyI = np.zeros(len(ps2_data))\n",
    "new_data = np.where((ps2_data.year.values == 2015) & (ps2_data.month.values == 1))[0]\n",
    "dummyI[new_data[0]:] = 1"
   ]
  },
  {
   "cell_type": "code",
   "execution_count": 35,
   "id": "3c2f5436-3c46-4c20-aaa0-e68fbdaa84d5",
   "metadata": {},
   "outputs": [],
   "source": [
    "data['dumI'] = dummyI"
   ]
  },
  {
   "cell_type": "markdown",
   "id": "fe701754-cdc5-45d2-aedc-21096732fd00",
   "metadata": {},
   "source": [
    "## New Fit"
   ]
  },
  {
   "cell_type": "code",
   "execution_count": 36,
   "id": "d9ea109f-8305-4d65-bf9a-aa486452d361",
   "metadata": {},
   "outputs": [
    {
     "data": {
      "text/html": [
       "<table class=\"simpletable\">\n",
       "<caption>Generalized Linear Model Regression Results</caption>\n",
       "<tr>\n",
       "  <th>Dep. Variable:</th>          <td>ch4</td>       <th>  No. Observations:  </th>   <td>   120</td>  \n",
       "</tr>\n",
       "<tr>\n",
       "  <th>Model:</th>                  <td>GLM</td>       <th>  Df Residuals:      </th>   <td>   106</td>  \n",
       "</tr>\n",
       "<tr>\n",
       "  <th>Model Family:</th>        <td>Gaussian</td>     <th>  Df Model:          </th>   <td>    13</td>  \n",
       "</tr>\n",
       "<tr>\n",
       "  <th>Link Function:</th>       <td>identity</td>     <th>  Scale:             </th> <td>0.00079982</td>\n",
       "</tr>\n",
       "<tr>\n",
       "  <th>Method:</th>                <td>IRLS</td>       <th>  Log-Likelihood:    </th>  <td>  265.04</td> \n",
       "</tr>\n",
       "<tr>\n",
       "  <th>Date:</th>            <td>Mon, 18 Apr 2022</td> <th>  Deviance:          </th>  <td>0.084780</td> \n",
       "</tr>\n",
       "<tr>\n",
       "  <th>Time:</th>                <td>06:02:44</td>     <th>  Pearson chi2:      </th>   <td>0.0848</td>  \n",
       "</tr>\n",
       "<tr>\n",
       "  <th>No. Iterations:</th>          <td>3</td>        <th>                     </th>      <td> </td>    \n",
       "</tr>\n",
       "<tr>\n",
       "  <th>Covariance Type:</th>     <td>nonrobust</td>    <th>                     </th>      <td> </td>    \n",
       "</tr>\n",
       "</table>\n",
       "<table class=\"simpletable\">\n",
       "<tr>\n",
       "      <td></td>         <th>coef</th>     <th>std err</th>      <th>z</th>      <th>P>|z|</th>  <th>[0.025</th>    <th>0.975]</th>  \n",
       "</tr>\n",
       "<tr>\n",
       "  <th>Intercept</th> <td>    0.1899</td> <td>    0.010</td> <td>   18.234</td> <td> 0.000</td> <td>    0.170</td> <td>    0.210</td>\n",
       "</tr>\n",
       "<tr>\n",
       "  <th>dum0</th>      <td>    0.1130</td> <td>    0.013</td> <td>    8.862</td> <td> 0.000</td> <td>    0.088</td> <td>    0.138</td>\n",
       "</tr>\n",
       "<tr>\n",
       "  <th>dum1</th>      <td>    0.2028</td> <td>    0.013</td> <td>   15.930</td> <td> 0.000</td> <td>    0.178</td> <td>    0.228</td>\n",
       "</tr>\n",
       "<tr>\n",
       "  <th>dum2</th>      <td>    0.2266</td> <td>    0.013</td> <td>   17.824</td> <td> 0.000</td> <td>    0.202</td> <td>    0.252</td>\n",
       "</tr>\n",
       "<tr>\n",
       "  <th>dum3</th>      <td>    0.1784</td> <td>    0.013</td> <td>   14.049</td> <td> 0.000</td> <td>    0.154</td> <td>    0.203</td>\n",
       "</tr>\n",
       "<tr>\n",
       "  <th>dum4</th>      <td>    0.1112</td> <td>    0.013</td> <td>    8.768</td> <td> 0.000</td> <td>    0.086</td> <td>    0.136</td>\n",
       "</tr>\n",
       "<tr>\n",
       "  <th>dum5</th>      <td>    0.0111</td> <td>    0.013</td> <td>    0.873</td> <td> 0.383</td> <td>   -0.014</td> <td>    0.036</td>\n",
       "</tr>\n",
       "<tr>\n",
       "  <th>dum6</th>      <td>   -0.0811</td> <td>    0.013</td> <td>   -6.403</td> <td> 0.000</td> <td>   -0.106</td> <td>   -0.056</td>\n",
       "</tr>\n",
       "<tr>\n",
       "  <th>dum7</th>      <td>   -0.1443</td> <td>    0.013</td> <td>  -11.397</td> <td> 0.000</td> <td>   -0.169</td> <td>   -0.119</td>\n",
       "</tr>\n",
       "<tr>\n",
       "  <th>dum8</th>      <td>   -0.2015</td> <td>    0.013</td> <td>  -15.920</td> <td> 0.000</td> <td>   -0.226</td> <td>   -0.177</td>\n",
       "</tr>\n",
       "<tr>\n",
       "  <th>dum9</th>      <td>   -0.1656</td> <td>    0.013</td> <td>  -13.094</td> <td> 0.000</td> <td>   -0.190</td> <td>   -0.141</td>\n",
       "</tr>\n",
       "<tr>\n",
       "  <th>dum10</th>     <td>   -0.1018</td> <td>    0.013</td> <td>   -8.050</td> <td> 0.000</td> <td>   -0.127</td> <td>   -0.077</td>\n",
       "</tr>\n",
       "<tr>\n",
       "  <th>dumI</th>      <td>    0.1806</td> <td>    0.010</td> <td>   17.897</td> <td> 0.000</td> <td>    0.161</td> <td>    0.200</td>\n",
       "</tr>\n",
       "<tr>\n",
       "  <th>time</th>      <td>    0.0102</td> <td>    0.000</td> <td>   70.959</td> <td> 0.000</td> <td>    0.010</td> <td>    0.010</td>\n",
       "</tr>\n",
       "</table>"
      ],
      "text/plain": [
       "<class 'statsmodels.iolib.summary.Summary'>\n",
       "\"\"\"\n",
       "                 Generalized Linear Model Regression Results                  \n",
       "==============================================================================\n",
       "Dep. Variable:                    ch4   No. Observations:                  120\n",
       "Model:                            GLM   Df Residuals:                      106\n",
       "Model Family:                Gaussian   Df Model:                           13\n",
       "Link Function:               identity   Scale:                      0.00079982\n",
       "Method:                          IRLS   Log-Likelihood:                 265.04\n",
       "Date:                Mon, 18 Apr 2022   Deviance:                     0.084780\n",
       "Time:                        06:02:44   Pearson chi2:                   0.0848\n",
       "No. Iterations:                     3                                         \n",
       "Covariance Type:            nonrobust                                         \n",
       "==============================================================================\n",
       "                 coef    std err          z      P>|z|      [0.025      0.975]\n",
       "------------------------------------------------------------------------------\n",
       "Intercept      0.1899      0.010     18.234      0.000       0.170       0.210\n",
       "dum0           0.1130      0.013      8.862      0.000       0.088       0.138\n",
       "dum1           0.2028      0.013     15.930      0.000       0.178       0.228\n",
       "dum2           0.2266      0.013     17.824      0.000       0.202       0.252\n",
       "dum3           0.1784      0.013     14.049      0.000       0.154       0.203\n",
       "dum4           0.1112      0.013      8.768      0.000       0.086       0.136\n",
       "dum5           0.0111      0.013      0.873      0.383      -0.014       0.036\n",
       "dum6          -0.0811      0.013     -6.403      0.000      -0.106      -0.056\n",
       "dum7          -0.1443      0.013    -11.397      0.000      -0.169      -0.119\n",
       "dum8          -0.2015      0.013    -15.920      0.000      -0.226      -0.177\n",
       "dum9          -0.1656      0.013    -13.094      0.000      -0.190      -0.141\n",
       "dum10         -0.1018      0.013     -8.050      0.000      -0.127      -0.077\n",
       "dumI           0.1806      0.010     17.897      0.000       0.161       0.200\n",
       "time           0.0102      0.000     70.959      0.000       0.010       0.010\n",
       "==============================================================================\n",
       "\"\"\""
      ]
     },
     "execution_count": 36,
     "metadata": {},
     "output_type": "execute_result"
    }
   ],
   "source": [
    "formula2 = \"ch4 ~ dum0 + dum1 + dum2 + dum3 + dum4 + dum5 + dum6 + dum7 + dum8 + dum9 + dum10 + dumI + time\"\n",
    "mod2 = smf.glm(formula=formula2, data=data).fit()#, family=sm.families.Binomial()).fit()\n",
    "mod2.summary()"
   ]
  },
  {
   "cell_type": "markdown",
   "id": "a5f2e98c-0537-427f-a202-e068fb49a307",
   "metadata": {},
   "source": [
    "## Plot"
   ]
  },
  {
   "cell_type": "code",
   "execution_count": 41,
   "id": "8e473f22-bdfb-4c0e-8bc4-a99b47ab8aad",
   "metadata": {},
   "outputs": [
    {
     "data": {
      "text/plain": [
       "<Figure size 432x288 with 0 Axes>"
      ]
     },
     "metadata": {},
     "output_type": "display_data"
    },
    {
     "data": {
      "image/png": "[encoded data removed]",
      "text/plain": [
       "<Figure size 864x576 with 1 Axes>"
      ]
     },
     "metadata": {
      "needs_background": "light"
     },
     "output_type": "display_data"
    }
   ],
   "source": [
    "plt.clf()\n",
    "fig = plt.figure(figsize=(12,8))\n",
    "#\n",
    "ax = plt.gca()\n",
    "ax.plot(ps2_data.index, data['ch4'], 'o', ms=2)\n",
    "# Fits\n",
    "ax.plot(ps2_data.index, mod1.fittedvalues, label='orig')\n",
    "ax.plot(ps2_data.index, mod2.fittedvalues, label='new')\n",
    "#\n",
    "# \n",
    "ax.set_xlabel('Date')\n",
    "ax.set_ylabel('CHL concentration (mg/m^3)')\n",
    "set_fontsize(ax, 17)\n",
    "ax.legend(loc='upper left', fontsize=17)\n",
    "#\n",
    "plt.savefig('PS2_Q5_int.png', dpi=300)\n",
    "plt.show()"
   ]
  },
  {
   "cell_type": "markdown",
   "id": "79a2a123-2637-4222-8345-f2b316355dba",
   "metadata": {},
   "source": [
    "----"
   ]
  },
  {
   "cell_type": "markdown",
   "id": "81626115-7726-4f2a-88c5-2f2700a4ed9e",
   "metadata": {},
   "source": [
    "# Question 6 -- Residuals"
   ]
  },
  {
   "cell_type": "code",
   "execution_count": 42,
   "id": "4d510204-6531-43a8-ba4a-f2e892e4da12",
   "metadata": {},
   "outputs": [],
   "source": [
    "resids_m2 = data.ch4 - mod2.fittedvalues"
   ]
  },
  {
   "cell_type": "code",
   "execution_count": 43,
   "id": "fe6d4771-26ac-46fb-955d-7f1d4ce968d6",
   "metadata": {},
   "outputs": [
    {
     "data": {
      "text/plain": [
       "<Figure size 432x288 with 0 Axes>"
      ]
     },
     "metadata": {},
     "output_type": "display_data"
    },
    {
     "data": {
      "image/png": "[encoded data removed]",
      "text/plain": [
       "<Figure size 864x576 with 1 Axes>"
      ]
     },
     "metadata": {
      "needs_background": "light"
     },
     "output_type": "display_data"
    }
   ],
   "source": [
    "plt.clf()\n",
    "fig = plt.figure(figsize=(12,8))\n",
    "#\n",
    "ax = plt.gca()\n",
    "ax.plot(ps2_data.index, resids_m2, 'bo', ms=2)\n",
    "#\n",
    "# \n",
    "ax.set_xlabel('Date')\n",
    "ax.set_ylabel('New Residuals (mg/m^3)')\n",
    "set_fontsize(ax, 17)\n",
    "#\n",
    "plt.savefig('PS2_Q6_resids.png', dpi=300)\n",
    "plt.show()"
   ]
  },
  {
   "cell_type": "markdown",
   "id": "a8f6d39f-c680-4dd6-a424-f7a3e869144e",
   "metadata": {},
   "source": [
    "----"
   ]
  },
  {
   "cell_type": "markdown",
   "id": "f918c89b-f40d-4d73-98c9-a996a7054ed4",
   "metadata": {},
   "source": [
    "# Question 7 -- More appropriate?"
   ]
  },
  {
   "cell_type": "markdown",
   "id": "6b95814c-4e36-4101-ac95-b2b10556cc9b",
   "metadata": {},
   "source": [
    "## Durbin Watson"
   ]
  },
  {
   "cell_type": "code",
   "execution_count": 47,
   "id": "25dd9c2e-a324-4e51-83af-bd5ea73f234e",
   "metadata": {},
   "outputs": [
    {
     "data": {
      "text/plain": [
       "2.4284820932447038"
      ]
     },
     "execution_count": 47,
     "metadata": {},
     "output_type": "execute_result"
    }
   ],
   "source": [
    "dw_m2 = durbin_watson(resids_m2)\n",
    "dw_m2"
   ]
  },
  {
   "cell_type": "markdown",
   "id": "07a49289-f78a-4bed-9e0d-b30dd403c921",
   "metadata": {},
   "source": [
    "## Shapiro Wilk"
   ]
  },
  {
   "cell_type": "code",
   "execution_count": 46,
   "id": "c3d4adc0-7896-450d-abd9-9b05c70ba3db",
   "metadata": {},
   "outputs": [
    {
     "data": {
      "text/plain": [
       "ShapiroResult(statistic=0.9904218912124634, pvalue=0.5724934339523315)"
      ]
     },
     "execution_count": 46,
     "metadata": {},
     "output_type": "execute_result"
    }
   ],
   "source": [
    "shapiro(resids_m2)"
   ]
  },
  {
   "cell_type": "markdown",
   "id": "514de8f5-ebfb-4920-a015-46b60e6c9ae6",
   "metadata": {},
   "source": [
    "## Yes, the residuals show limited structure and pass the standard residual tests"
   ]
  },
  {
   "cell_type": "markdown",
   "id": "a2d9921c-0488-4b3f-a00f-f0b393a119d7",
   "metadata": {},
   "source": [
    "----"
   ]
  },
  {
   "cell_type": "markdown",
   "id": "e8b761d9-5d1d-42e3-8010-35c0a1f92ed1",
   "metadata": {},
   "source": [
    "# Question 8"
   ]
  },
  {
   "cell_type": "markdown",
   "id": "8112904b-022e-42a0-9d95-7cc77004d62c",
   "metadata": {},
   "source": [
    "## See above"
   ]
  },
  {
   "cell_type": "markdown",
   "id": "f4116d00-11a2-406c-8f39-d0908d9e65af",
   "metadata": {},
   "source": [
    "## Bartlett -- Splitting at January 2015"
   ]
  },
  {
   "cell_type": "code",
   "execution_count": 54,
   "id": "eeca017a-4e82-4360-8db8-cb7715a3b97e",
   "metadata": {},
   "outputs": [
    {
     "data": {
      "text/plain": [
       "BartlettResult(statistic=0.22338383652408567, pvalue=0.6364736125939916)"
      ]
     },
     "execution_count": 54,
     "metadata": {},
     "output_type": "execute_result"
    }
   ],
   "source": [
    "bartlett(resids_m2[:new_data[0]], resids_m2[new_data[0]:])"
   ]
  },
  {
   "cell_type": "markdown",
   "id": "fe738723-fa96-4b5f-b912-1dcbbe8467be",
   "metadata": {},
   "source": [
    "----"
   ]
  },
  {
   "cell_type": "code",
   "execution_count": 55,
   "id": "0590c093-59cb-4f09-a253-1a23c42717cc",
   "metadata": {},
   "outputs": [
    {
     "data": {
      "text/html": [
       "<table class=\"simpletable\">\n",
       "<caption>Generalized Linear Model Regression Results</caption>\n",
       "<tr>\n",
       "  <th>Dep. Variable:</th>          <td>ch4</td>       <th>  No. Observations:  </th>   <td>   120</td>  \n",
       "</tr>\n",
       "<tr>\n",
       "  <th>Model:</th>                  <td>GLM</td>       <th>  Df Residuals:      </th>   <td>   106</td>  \n",
       "</tr>\n",
       "<tr>\n",
       "  <th>Model Family:</th>        <td>Gaussian</td>     <th>  Df Model:          </th>   <td>    13</td>  \n",
       "</tr>\n",
       "<tr>\n",
       "  <th>Link Function:</th>       <td>identity</td>     <th>  Scale:             </th> <td>0.00079982</td>\n",
       "</tr>\n",
       "<tr>\n",
       "  <th>Method:</th>                <td>IRLS</td>       <th>  Log-Likelihood:    </th>  <td>  265.04</td> \n",
       "</tr>\n",
       "<tr>\n",
       "  <th>Date:</th>            <td>Mon, 18 Apr 2022</td> <th>  Deviance:          </th>  <td>0.084780</td> \n",
       "</tr>\n",
       "<tr>\n",
       "  <th>Time:</th>                <td>06:19:46</td>     <th>  Pearson chi2:      </th>   <td>0.0848</td>  \n",
       "</tr>\n",
       "<tr>\n",
       "  <th>No. Iterations:</th>          <td>3</td>        <th>                     </th>      <td> </td>    \n",
       "</tr>\n",
       "<tr>\n",
       "  <th>Covariance Type:</th>     <td>nonrobust</td>    <th>                     </th>      <td> </td>    \n",
       "</tr>\n",
       "</table>\n",
       "<table class=\"simpletable\">\n",
       "<tr>\n",
       "      <td></td>         <th>coef</th>     <th>std err</th>      <th>z</th>      <th>P>|z|</th>  <th>[0.025</th>    <th>0.975]</th>  \n",
       "</tr>\n",
       "<tr>\n",
       "  <th>Intercept</th> <td>    0.1899</td> <td>    0.010</td> <td>   18.234</td> <td> 0.000</td> <td>    0.170</td> <td>    0.210</td>\n",
       "</tr>\n",
       "<tr>\n",
       "  <th>dum0</th>      <td>    0.1130</td> <td>    0.013</td> <td>    8.862</td> <td> 0.000</td> <td>    0.088</td> <td>    0.138</td>\n",
       "</tr>\n",
       "<tr>\n",
       "  <th>dum1</th>      <td>    0.2028</td> <td>    0.013</td> <td>   15.930</td> <td> 0.000</td> <td>    0.178</td> <td>    0.228</td>\n",
       "</tr>\n",
       "<tr>\n",
       "  <th>dum2</th>      <td>    0.2266</td> <td>    0.013</td> <td>   17.824</td> <td> 0.000</td> <td>    0.202</td> <td>    0.252</td>\n",
       "</tr>\n",
       "<tr>\n",
       "  <th>dum3</th>      <td>    0.1784</td> <td>    0.013</td> <td>   14.049</td> <td> 0.000</td> <td>    0.154</td> <td>    0.203</td>\n",
       "</tr>\n",
       "<tr>\n",
       "  <th>dum4</th>      <td>    0.1112</td> <td>    0.013</td> <td>    8.768</td> <td> 0.000</td> <td>    0.086</td> <td>    0.136</td>\n",
       "</tr>\n",
       "<tr>\n",
       "  <th>dum5</th>      <td>    0.0111</td> <td>    0.013</td> <td>    0.873</td> <td> 0.383</td> <td>   -0.014</td> <td>    0.036</td>\n",
       "</tr>\n",
       "<tr>\n",
       "  <th>dum6</th>      <td>   -0.0811</td> <td>    0.013</td> <td>   -6.403</td> <td> 0.000</td> <td>   -0.106</td> <td>   -0.056</td>\n",
       "</tr>\n",
       "<tr>\n",
       "  <th>dum7</th>      <td>   -0.1443</td> <td>    0.013</td> <td>  -11.397</td> <td> 0.000</td> <td>   -0.169</td> <td>   -0.119</td>\n",
       "</tr>\n",
       "<tr>\n",
       "  <th>dum8</th>      <td>   -0.2015</td> <td>    0.013</td> <td>  -15.920</td> <td> 0.000</td> <td>   -0.226</td> <td>   -0.177</td>\n",
       "</tr>\n",
       "<tr>\n",
       "  <th>dum9</th>      <td>   -0.1656</td> <td>    0.013</td> <td>  -13.094</td> <td> 0.000</td> <td>   -0.190</td> <td>   -0.141</td>\n",
       "</tr>\n",
       "<tr>\n",
       "  <th>dum10</th>     <td>   -0.1018</td> <td>    0.013</td> <td>   -8.050</td> <td> 0.000</td> <td>   -0.127</td> <td>   -0.077</td>\n",
       "</tr>\n",
       "<tr>\n",
       "  <th>dumI</th>      <td>    0.1806</td> <td>    0.010</td> <td>   17.897</td> <td> 0.000</td> <td>    0.161</td> <td>    0.200</td>\n",
       "</tr>\n",
       "<tr>\n",
       "  <th>time</th>      <td>    0.0102</td> <td>    0.000</td> <td>   70.959</td> <td> 0.000</td> <td>    0.010</td> <td>    0.010</td>\n",
       "</tr>\n",
       "</table>"
      ],
      "text/plain": [
       "<class 'statsmodels.iolib.summary.Summary'>\n",
       "\"\"\"\n",
       "                 Generalized Linear Model Regression Results                  \n",
       "==============================================================================\n",
       "Dep. Variable:                    ch4   No. Observations:                  120\n",
       "Model:                            GLM   Df Residuals:                      106\n",
       "Model Family:                Gaussian   Df Model:                           13\n",
       "Link Function:               identity   Scale:                      0.00079982\n",
       "Method:                          IRLS   Log-Likelihood:                 265.04\n",
       "Date:                Mon, 18 Apr 2022   Deviance:                     0.084780\n",
       "Time:                        06:19:46   Pearson chi2:                   0.0848\n",
       "No. Iterations:                     3                                         \n",
       "Covariance Type:            nonrobust                                         \n",
       "==============================================================================\n",
       "                 coef    std err          z      P>|z|      [0.025      0.975]\n",
       "------------------------------------------------------------------------------\n",
       "Intercept      0.1899      0.010     18.234      0.000       0.170       0.210\n",
       "dum0           0.1130      0.013      8.862      0.000       0.088       0.138\n",
       "dum1           0.2028      0.013     15.930      0.000       0.178       0.228\n",
       "dum2           0.2266      0.013     17.824      0.000       0.202       0.252\n",
       "dum3           0.1784      0.013     14.049      0.000       0.154       0.203\n",
       "dum4           0.1112      0.013      8.768      0.000       0.086       0.136\n",
       "dum5           0.0111      0.013      0.873      0.383      -0.014       0.036\n",
       "dum6          -0.0811      0.013     -6.403      0.000      -0.106      -0.056\n",
       "dum7          -0.1443      0.013    -11.397      0.000      -0.169      -0.119\n",
       "dum8          -0.2015      0.013    -15.920      0.000      -0.226      -0.177\n",
       "dum9          -0.1656      0.013    -13.094      0.000      -0.190      -0.141\n",
       "dum10         -0.1018      0.013     -8.050      0.000      -0.127      -0.077\n",
       "dumI           0.1806      0.010     17.897      0.000       0.161       0.200\n",
       "time           0.0102      0.000     70.959      0.000       0.010       0.010\n",
       "==============================================================================\n",
       "\"\"\""
      ]
     },
     "execution_count": 55,
     "metadata": {},
     "output_type": "execute_result"
    }
   ],
   "source": [
    "mod2.summary()"
   ]
  },
  {
   "cell_type": "code",
   "execution_count": 56,
   "id": "83bd98da-5cf4-47a4-9898-b4a0f5d2dbc6",
   "metadata": {},
   "outputs": [
    {
     "data": {
      "text/plain": [
       "Intercept    0.189926\n",
       "dum0         0.112952\n",
       "dum1         0.202775\n",
       "dum2         0.226597\n",
       "dum3         0.178420\n",
       "dum4         0.111242\n",
       "dum5         0.011065\n",
       "dum6        -0.081113\n",
       "dum7        -0.144290\n",
       "dum8        -0.201468\n",
       "dum9        -0.165645\n",
       "dum10       -0.101823\n",
       "dumI         0.180602\n",
       "time         0.010177\n",
       "dtype: float64"
      ]
     },
     "execution_count": 56,
     "metadata": {},
     "output_type": "execute_result"
    }
   ],
   "source": [
    "mod2.params"
   ]
  },
  {
   "cell_type": "code",
   "execution_count": 65,
   "id": "c87cac78-bc05-4886-85c9-21fc472ea2c9",
   "metadata": {},
   "outputs": [
    {
     "data": {
      "text/plain": [
       "2.0571391160747056e-08"
      ]
     },
     "execution_count": 65,
     "metadata": {},
     "output_type": "execute_result"
    }
   ],
   "source": [
    "cov = mod2.cov_params()"
   ]
  },
  {
   "cell_type": "code",
   "execution_count": 68,
   "id": "01aafb11-e7b3-44f7-b9d0-b23bf101c2ce",
   "metadata": {},
   "outputs": [
    {
     "data": {
      "text/plain": [
       "0.00014342730270331048"
      ]
     },
     "execution_count": 68,
     "metadata": {},
     "output_type": "execute_result"
    }
   ],
   "source": [
    "np.sqrt(cov.time.time)"
   ]
  },
  {
   "cell_type": "code",
   "execution_count": 67,
   "id": "39e45e48-68b0-43a8-bb91-b302d013f3ee",
   "metadata": {},
   "outputs": [
    {
     "data": {
      "text/plain": [
       "0.01009100521482856"
      ]
     },
     "execution_count": 67,
     "metadata": {},
     "output_type": "execute_result"
    }
   ],
   "source": [
    "np.sqrt(cov.dumI.dumI)"
   ]
  },
  {
   "cell_type": "markdown",
   "id": "4db68f50-01b1-436e-95b2-e948b63ed12d",
   "metadata": {},
   "source": [
    "## Trend = 0.010 mg per m^3 per month with an error of 1e-4, i.e. highly significant"
   ]
  },
  {
   "cell_type": "markdown",
   "id": "ea08233f-6c75-4c55-b32f-8398b10607cc",
   "metadata": {},
   "source": [
    "## Intervention effect = 0.18 mg per m^3 with an error of 0.01, i.e. also highly significant"
   ]
  },
  {
   "cell_type": "code",
   "execution_count": null,
   "id": "0daea3b8-a554-4559-9375-248c41a03a79",
   "metadata": {},
   "outputs": [],
   "source": []
  }
 ],
 "metadata": {
  "kernelspec": {
   "display_name": "Python 3 (ipykernel)",
   "language": "python",
   "name": "python3"
  },
  "language_info": {
   "codemirror_mode": {
    "name": "ipython",
    "version": 3
   },
   "file_extension": ".py",
   "mimetype": "text/x-python",
   "name": "python",
   "nbconvert_exporter": "python",
   "pygments_lexer": "ipython3",
   "version": "3.9.7"
  }
 },
 "nbformat": 4,
 "nbformat_minor": 5
}
