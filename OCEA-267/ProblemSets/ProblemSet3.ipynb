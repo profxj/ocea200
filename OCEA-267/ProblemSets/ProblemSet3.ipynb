{
 "cells": [
  {
   "cell_type": "markdown",
   "id": "25e45b9d-a6d9-43e2-a816-1dec2e1390af",
   "metadata": {},
   "source": [
    "# Problem Set 3"
   ]
  },
  {
   "cell_type": "code",
   "execution_count": 1,
   "id": "9aec9e86-0dd5-4207-82df-d83cab2e05c1",
   "metadata": {},
   "outputs": [],
   "source": [
    "# imports\n",
    "import numpy as np\n",
    "from scipy.ndimage import uniform_filter1d\n",
    "from scipy.stats import shapiro, bartlett\n",
    "from matplotlib import pyplot as plt\n",
    "import pandas\n",
    "\n",
    "from statsmodels.tsa.seasonal import seasonal_decompose\n",
    "import statsmodels.api as sm\n",
    "from statsmodels.stats.stattools import durbin_watson\n",
    "import statsmodels.formula.api as smf\n",
    "from statsmodels.graphics.tsaplots import plot_acf, plot_pacf"
   ]
  },
  {
   "cell_type": "code",
   "execution_count": 2,
   "id": "0295c1df-448b-41b1-8d15-c319a7523679",
   "metadata": {},
   "outputs": [],
   "source": [
    "def set_fontsize(ax,fsz):\n",
    "    \"\"\"\n",
    "    Set the fontsize throughout an Axis\n",
    "    \n",
    "    Args:\n",
    "        ax (Matplotlib Axis): \n",
    "        fsz (float): Font size\n",
    "\n",
    "    Returns:\n",
    "\n",
    "    \"\"\"\n",
    "    for item in ([ax.title, ax.xaxis.label, ax.yaxis.label] +\n",
    "                 ax.get_xticklabels() + ax.get_yticklabels()):\n",
    "        item.set_fontsize(fsz)\n"
   ]
  },
  {
   "cell_type": "markdown",
   "id": "535a9cad-2fba-4ee0-be73-f5fc718bc74f",
   "metadata": {},
   "source": [
    "# Question 1"
   ]
  },
  {
   "cell_type": "markdown",
   "id": "db02bc6e-0da5-4353-a739-c3c95d3a6067",
   "metadata": {},
   "source": [
    "## Load data"
   ]
  },
  {
   "cell_type": "markdown",
   "id": "a90b1593-f8b5-4817-b41c-08b1b95ba1e0",
   "metadata": {},
   "source": [
    "### SIO"
   ]
  },
  {
   "cell_type": "code",
   "execution_count": 3,
   "id": "5575063e-61e0-4ab4-b2c6-aea6b41926db",
   "metadata": {},
   "outputs": [],
   "source": [
    "SIO_file = '../Data/SIO_SST.txt'"
   ]
  },
  {
   "cell_type": "code",
   "execution_count": 4,
   "id": "c10e2cf6-de6f-4601-a56a-0544439ac270",
   "metadata": {},
   "outputs": [
    {
     "data": {
      "text/html": [
       "<div>\n",
       "<style scoped>\n",
       "    .dataframe tbody tr th:only-of-type {\n",
       "        vertical-align: middle;\n",
       "    }\n",
       "\n",
       "    .dataframe tbody tr th {\n",
       "        vertical-align: top;\n",
       "    }\n",
       "\n",
       "    .dataframe thead th {\n",
       "        text-align: right;\n",
       "    }\n",
       "</style>\n",
       "<table border=\"1\" class=\"dataframe\">\n",
       "  <thead>\n",
       "    <tr style=\"text-align: right;\">\n",
       "      <th></th>\n",
       "      <th>year</th>\n",
       "      <th>SST</th>\n",
       "    </tr>\n",
       "  </thead>\n",
       "  <tbody>\n",
       "    <tr>\n",
       "      <th>0</th>\n",
       "      <td>1916</td>\n",
       "      <td>15.642</td>\n",
       "    </tr>\n",
       "    <tr>\n",
       "      <th>1</th>\n",
       "      <td>1917</td>\n",
       "      <td>16.743</td>\n",
       "    </tr>\n",
       "    <tr>\n",
       "      <th>2</th>\n",
       "      <td>1918</td>\n",
       "      <td>17.385</td>\n",
       "    </tr>\n",
       "    <tr>\n",
       "      <th>3</th>\n",
       "      <td>1919</td>\n",
       "      <td>16.810</td>\n",
       "    </tr>\n",
       "    <tr>\n",
       "      <th>4</th>\n",
       "      <td>1920</td>\n",
       "      <td>16.576</td>\n",
       "    </tr>\n",
       "  </tbody>\n",
       "</table>\n",
       "</div>"
      ],
      "text/plain": [
       "   year     SST\n",
       "0  1916  15.642\n",
       "1  1917  16.743\n",
       "2  1918  17.385\n",
       "3  1919  16.810\n",
       "4  1920  16.576"
      ]
     },
     "execution_count": 4,
     "metadata": {},
     "output_type": "execute_result"
    }
   ],
   "source": [
    "SIO_df = pandas.read_table(SIO_file, delim_whitespace=True)\n",
    "SIO_df.head()"
   ]
  },
  {
   "cell_type": "markdown",
   "id": "e4bcfe02-2969-48e2-a7d5-71638dd668a6",
   "metadata": {},
   "source": [
    "### Dates"
   ]
  },
  {
   "cell_type": "code",
   "execution_count": 19,
   "id": "a3cbf042-fd70-4d37-a3fd-86b7ac6af7e4",
   "metadata": {},
   "outputs": [
    {
     "data": {
      "text/html": [
       "<div>\n",
       "<style scoped>\n",
       "    .dataframe tbody tr th:only-of-type {\n",
       "        vertical-align: middle;\n",
       "    }\n",
       "\n",
       "    .dataframe tbody tr th {\n",
       "        vertical-align: top;\n",
       "    }\n",
       "\n",
       "    .dataframe thead th {\n",
       "        text-align: right;\n",
       "    }\n",
       "</style>\n",
       "<table border=\"1\" class=\"dataframe\">\n",
       "  <thead>\n",
       "    <tr style=\"text-align: right;\">\n",
       "      <th></th>\n",
       "      <th>SST</th>\n",
       "    </tr>\n",
       "    <tr>\n",
       "      <th>date</th>\n",
       "      <th></th>\n",
       "    </tr>\n",
       "  </thead>\n",
       "  <tbody>\n",
       "    <tr>\n",
       "      <th>1916-01-01</th>\n",
       "      <td>15.642</td>\n",
       "    </tr>\n",
       "    <tr>\n",
       "      <th>1917-01-01</th>\n",
       "      <td>16.743</td>\n",
       "    </tr>\n",
       "    <tr>\n",
       "      <th>1918-01-01</th>\n",
       "      <td>17.385</td>\n",
       "    </tr>\n",
       "    <tr>\n",
       "      <th>1919-01-01</th>\n",
       "      <td>16.810</td>\n",
       "    </tr>\n",
       "    <tr>\n",
       "      <th>1920-01-01</th>\n",
       "      <td>16.576</td>\n",
       "    </tr>\n",
       "  </tbody>\n",
       "</table>\n",
       "</div>"
      ],
      "text/plain": [
       "               SST\n",
       "date              \n",
       "1916-01-01  15.642\n",
       "1917-01-01  16.743\n",
       "1918-01-01  17.385\n",
       "1919-01-01  16.810\n",
       "1920-01-01  16.576"
      ]
     },
     "execution_count": 19,
     "metadata": {},
     "output_type": "execute_result"
    }
   ],
   "source": [
    "dates = []\n",
    "for index, row in SIO_df.iterrows():\n",
    "    dates.append(f'{int(row.year)}')\n",
    "dates = pandas.to_datetime(dates)\n",
    "SIO_df['date'] = dates\n",
    "SIO_df.set_index('date', inplace=True)\n",
    "# Remove Year\n",
    "SIO_df.drop(columns='year', inplace=True)\n",
    "SIO_df.head()"
   ]
  },
  {
   "cell_type": "markdown",
   "id": "9741648e-500b-42bc-8bf1-ac7ed18e49b9",
   "metadata": {},
   "source": [
    "### PDO"
   ]
  },
  {
   "cell_type": "code",
   "execution_count": 6,
   "id": "9cd5d2f0-d9b6-40eb-9a8e-7c33facc3818",
   "metadata": {},
   "outputs": [],
   "source": [
    "PDO_file = '../Data/ersst.v5.pdo.dat'"
   ]
  },
  {
   "cell_type": "code",
   "execution_count": 7,
   "id": "bcc9416e-52bb-4abb-b9dd-aedd671e004b",
   "metadata": {},
   "outputs": [
    {
     "data": {
      "text/html": [
       "<div>\n",
       "<style scoped>\n",
       "    .dataframe tbody tr th:only-of-type {\n",
       "        vertical-align: middle;\n",
       "    }\n",
       "\n",
       "    .dataframe tbody tr th {\n",
       "        vertical-align: top;\n",
       "    }\n",
       "\n",
       "    .dataframe thead th {\n",
       "        text-align: right;\n",
       "    }\n",
       "</style>\n",
       "<table border=\"1\" class=\"dataframe\">\n",
       "  <thead>\n",
       "    <tr style=\"text-align: right;\">\n",
       "      <th></th>\n",
       "      <th>Year</th>\n",
       "      <th>Jan</th>\n",
       "      <th>Feb</th>\n",
       "      <th>Mar</th>\n",
       "      <th>Apr</th>\n",
       "      <th>May</th>\n",
       "      <th>Jun</th>\n",
       "      <th>Jul</th>\n",
       "      <th>Aug</th>\n",
       "      <th>Sep</th>\n",
       "      <th>Oct</th>\n",
       "      <th>Nov</th>\n",
       "      <th>Dec</th>\n",
       "    </tr>\n",
       "  </thead>\n",
       "  <tbody>\n",
       "    <tr>\n",
       "      <th>0</th>\n",
       "      <td>1854</td>\n",
       "      <td>0.11</td>\n",
       "      <td>-0.24</td>\n",
       "      <td>-0.40</td>\n",
       "      <td>-0.44</td>\n",
       "      <td>-0.54</td>\n",
       "      <td>-0.30</td>\n",
       "      <td>-0.10</td>\n",
       "      <td>-1.24</td>\n",
       "      <td>-1.00</td>\n",
       "      <td>-2.23</td>\n",
       "      <td>-1.68</td>\n",
       "      <td>-1.76</td>\n",
       "    </tr>\n",
       "    <tr>\n",
       "      <th>1</th>\n",
       "      <td>1855</td>\n",
       "      <td>-0.20</td>\n",
       "      <td>-0.39</td>\n",
       "      <td>-0.24</td>\n",
       "      <td>-0.58</td>\n",
       "      <td>-1.34</td>\n",
       "      <td>-1.88</td>\n",
       "      <td>-1.13</td>\n",
       "      <td>-0.48</td>\n",
       "      <td>-0.76</td>\n",
       "      <td>-0.63</td>\n",
       "      <td>-0.41</td>\n",
       "      <td>-0.88</td>\n",
       "    </tr>\n",
       "    <tr>\n",
       "      <th>2</th>\n",
       "      <td>1856</td>\n",
       "      <td>-0.39</td>\n",
       "      <td>0.47</td>\n",
       "      <td>0.42</td>\n",
       "      <td>-0.96</td>\n",
       "      <td>-1.26</td>\n",
       "      <td>-2.15</td>\n",
       "      <td>-0.69</td>\n",
       "      <td>0.63</td>\n",
       "      <td>0.58</td>\n",
       "      <td>0.59</td>\n",
       "      <td>0.23</td>\n",
       "      <td>0.04</td>\n",
       "    </tr>\n",
       "    <tr>\n",
       "      <th>3</th>\n",
       "      <td>1857</td>\n",
       "      <td>-0.52</td>\n",
       "      <td>-1.67</td>\n",
       "      <td>-1.05</td>\n",
       "      <td>-0.81</td>\n",
       "      <td>-0.65</td>\n",
       "      <td>1.03</td>\n",
       "      <td>1.17</td>\n",
       "      <td>0.81</td>\n",
       "      <td>0.84</td>\n",
       "      <td>0.70</td>\n",
       "      <td>0.38</td>\n",
       "      <td>-0.55</td>\n",
       "    </tr>\n",
       "    <tr>\n",
       "      <th>4</th>\n",
       "      <td>1858</td>\n",
       "      <td>-0.96</td>\n",
       "      <td>-1.53</td>\n",
       "      <td>-1.76</td>\n",
       "      <td>-0.82</td>\n",
       "      <td>0.49</td>\n",
       "      <td>2.19</td>\n",
       "      <td>1.05</td>\n",
       "      <td>0.67</td>\n",
       "      <td>1.38</td>\n",
       "      <td>2.35</td>\n",
       "      <td>0.46</td>\n",
       "      <td>-1.16</td>\n",
       "    </tr>\n",
       "  </tbody>\n",
       "</table>\n",
       "</div>"
      ],
      "text/plain": [
       "   Year   Jan   Feb   Mar   Apr   May   Jun   Jul   Aug   Sep   Oct   Nov  \\\n",
       "0  1854  0.11 -0.24 -0.40 -0.44 -0.54 -0.30 -0.10 -1.24 -1.00 -2.23 -1.68   \n",
       "1  1855 -0.20 -0.39 -0.24 -0.58 -1.34 -1.88 -1.13 -0.48 -0.76 -0.63 -0.41   \n",
       "2  1856 -0.39  0.47  0.42 -0.96 -1.26 -2.15 -0.69  0.63  0.58  0.59  0.23   \n",
       "3  1857 -0.52 -1.67 -1.05 -0.81 -0.65  1.03  1.17  0.81  0.84  0.70  0.38   \n",
       "4  1858 -0.96 -1.53 -1.76 -0.82  0.49  2.19  1.05  0.67  1.38  2.35  0.46   \n",
       "\n",
       "    Dec  \n",
       "0 -1.76  \n",
       "1 -0.88  \n",
       "2  0.04  \n",
       "3 -0.55  \n",
       "4 -1.16  "
      ]
     },
     "execution_count": 7,
     "metadata": {},
     "output_type": "execute_result"
    }
   ],
   "source": [
    "PDO_df = pandas.read_table(PDO_file, delim_whitespace=True)\n",
    "PDO_df.head()"
   ]
  },
  {
   "cell_type": "markdown",
   "id": "a1ccc473-4d73-470c-b227-2a51bd2ec340",
   "metadata": {},
   "source": [
    "#### Date"
   ]
  },
  {
   "cell_type": "code",
   "execution_count": 15,
   "id": "418e299a-4a38-4454-bb14-9b7fe8626d53",
   "metadata": {},
   "outputs": [
    {
     "data": {
      "text/html": [
       "<div>\n",
       "<style scoped>\n",
       "    .dataframe tbody tr th:only-of-type {\n",
       "        vertical-align: middle;\n",
       "    }\n",
       "\n",
       "    .dataframe tbody tr th {\n",
       "        vertical-align: top;\n",
       "    }\n",
       "\n",
       "    .dataframe thead th {\n",
       "        text-align: right;\n",
       "    }\n",
       "</style>\n",
       "<table border=\"1\" class=\"dataframe\">\n",
       "  <thead>\n",
       "    <tr style=\"text-align: right;\">\n",
       "      <th></th>\n",
       "      <th>Jan</th>\n",
       "      <th>Feb</th>\n",
       "      <th>Mar</th>\n",
       "      <th>Apr</th>\n",
       "      <th>May</th>\n",
       "      <th>Jun</th>\n",
       "      <th>Jul</th>\n",
       "      <th>Aug</th>\n",
       "      <th>Sep</th>\n",
       "      <th>Oct</th>\n",
       "      <th>Nov</th>\n",
       "      <th>Dec</th>\n",
       "    </tr>\n",
       "    <tr>\n",
       "      <th>date</th>\n",
       "      <th></th>\n",
       "      <th></th>\n",
       "      <th></th>\n",
       "      <th></th>\n",
       "      <th></th>\n",
       "      <th></th>\n",
       "      <th></th>\n",
       "      <th></th>\n",
       "      <th></th>\n",
       "      <th></th>\n",
       "      <th></th>\n",
       "      <th></th>\n",
       "    </tr>\n",
       "  </thead>\n",
       "  <tbody>\n",
       "    <tr>\n",
       "      <th>1854-01-01</th>\n",
       "      <td>0.11</td>\n",
       "      <td>-0.24</td>\n",
       "      <td>-0.40</td>\n",
       "      <td>-0.44</td>\n",
       "      <td>-0.54</td>\n",
       "      <td>-0.30</td>\n",
       "      <td>-0.10</td>\n",
       "      <td>-1.24</td>\n",
       "      <td>-1.00</td>\n",
       "      <td>-2.23</td>\n",
       "      <td>-1.68</td>\n",
       "      <td>-1.76</td>\n",
       "    </tr>\n",
       "    <tr>\n",
       "      <th>1855-01-01</th>\n",
       "      <td>-0.20</td>\n",
       "      <td>-0.39</td>\n",
       "      <td>-0.24</td>\n",
       "      <td>-0.58</td>\n",
       "      <td>-1.34</td>\n",
       "      <td>-1.88</td>\n",
       "      <td>-1.13</td>\n",
       "      <td>-0.48</td>\n",
       "      <td>-0.76</td>\n",
       "      <td>-0.63</td>\n",
       "      <td>-0.41</td>\n",
       "      <td>-0.88</td>\n",
       "    </tr>\n",
       "    <tr>\n",
       "      <th>1856-01-01</th>\n",
       "      <td>-0.39</td>\n",
       "      <td>0.47</td>\n",
       "      <td>0.42</td>\n",
       "      <td>-0.96</td>\n",
       "      <td>-1.26</td>\n",
       "      <td>-2.15</td>\n",
       "      <td>-0.69</td>\n",
       "      <td>0.63</td>\n",
       "      <td>0.58</td>\n",
       "      <td>0.59</td>\n",
       "      <td>0.23</td>\n",
       "      <td>0.04</td>\n",
       "    </tr>\n",
       "    <tr>\n",
       "      <th>1857-01-01</th>\n",
       "      <td>-0.52</td>\n",
       "      <td>-1.67</td>\n",
       "      <td>-1.05</td>\n",
       "      <td>-0.81</td>\n",
       "      <td>-0.65</td>\n",
       "      <td>1.03</td>\n",
       "      <td>1.17</td>\n",
       "      <td>0.81</td>\n",
       "      <td>0.84</td>\n",
       "      <td>0.70</td>\n",
       "      <td>0.38</td>\n",
       "      <td>-0.55</td>\n",
       "    </tr>\n",
       "    <tr>\n",
       "      <th>1858-01-01</th>\n",
       "      <td>-0.96</td>\n",
       "      <td>-1.53</td>\n",
       "      <td>-1.76</td>\n",
       "      <td>-0.82</td>\n",
       "      <td>0.49</td>\n",
       "      <td>2.19</td>\n",
       "      <td>1.05</td>\n",
       "      <td>0.67</td>\n",
       "      <td>1.38</td>\n",
       "      <td>2.35</td>\n",
       "      <td>0.46</td>\n",
       "      <td>-1.16</td>\n",
       "    </tr>\n",
       "  </tbody>\n",
       "</table>\n",
       "</div>"
      ],
      "text/plain": [
       "             Jan   Feb   Mar   Apr   May   Jun   Jul   Aug   Sep   Oct   Nov  \\\n",
       "date                                                                           \n",
       "1854-01-01  0.11 -0.24 -0.40 -0.44 -0.54 -0.30 -0.10 -1.24 -1.00 -2.23 -1.68   \n",
       "1855-01-01 -0.20 -0.39 -0.24 -0.58 -1.34 -1.88 -1.13 -0.48 -0.76 -0.63 -0.41   \n",
       "1856-01-01 -0.39  0.47  0.42 -0.96 -1.26 -2.15 -0.69  0.63  0.58  0.59  0.23   \n",
       "1857-01-01 -0.52 -1.67 -1.05 -0.81 -0.65  1.03  1.17  0.81  0.84  0.70  0.38   \n",
       "1858-01-01 -0.96 -1.53 -1.76 -0.82  0.49  2.19  1.05  0.67  1.38  2.35  0.46   \n",
       "\n",
       "             Dec  \n",
       "date              \n",
       "1854-01-01 -1.76  \n",
       "1855-01-01 -0.88  \n",
       "1856-01-01  0.04  \n",
       "1857-01-01 -0.55  \n",
       "1858-01-01 -1.16  "
      ]
     },
     "execution_count": 15,
     "metadata": {},
     "output_type": "execute_result"
    }
   ],
   "source": [
    "dates = []\n",
    "for index, row in PDO_df.iterrows():\n",
    "    dates.append(f'{int(row.Year)}')\n",
    "dates = pandas.to_datetime(dates)\n",
    "PDO_df['date'] = dates\n",
    "PDO_df.set_index('date', inplace=True)\n",
    "# Remove Year\n",
    "PDO_df.drop(columns='Year', inplace=True)\n",
    "PDO_df.head()"
   ]
  },
  {
   "cell_type": "markdown",
   "id": "3ed0f00f-7692-4f4f-ab0a-f6edf459255f",
   "metadata": {},
   "source": [
    "#### Average"
   ]
  },
  {
   "cell_type": "code",
   "execution_count": 18,
   "id": "cf950a3d-7a87-4504-805d-c48f7109853d",
   "metadata": {},
   "outputs": [
    {
     "data": {
      "text/html": [
       "<div>\n",
       "<style scoped>\n",
       "    .dataframe tbody tr th:only-of-type {\n",
       "        vertical-align: middle;\n",
       "    }\n",
       "\n",
       "    .dataframe tbody tr th {\n",
       "        vertical-align: top;\n",
       "    }\n",
       "\n",
       "    .dataframe thead th {\n",
       "        text-align: right;\n",
       "    }\n",
       "</style>\n",
       "<table border=\"1\" class=\"dataframe\">\n",
       "  <thead>\n",
       "    <tr style=\"text-align: right;\">\n",
       "      <th></th>\n",
       "      <th>Jan</th>\n",
       "      <th>Feb</th>\n",
       "      <th>Mar</th>\n",
       "      <th>Apr</th>\n",
       "      <th>May</th>\n",
       "      <th>Jun</th>\n",
       "      <th>Jul</th>\n",
       "      <th>Aug</th>\n",
       "      <th>Sep</th>\n",
       "      <th>Oct</th>\n",
       "      <th>Nov</th>\n",
       "      <th>Dec</th>\n",
       "      <th>average</th>\n",
       "    </tr>\n",
       "    <tr>\n",
       "      <th>date</th>\n",
       "      <th></th>\n",
       "      <th></th>\n",
       "      <th></th>\n",
       "      <th></th>\n",
       "      <th></th>\n",
       "      <th></th>\n",
       "      <th></th>\n",
       "      <th></th>\n",
       "      <th></th>\n",
       "      <th></th>\n",
       "      <th></th>\n",
       "      <th></th>\n",
       "      <th></th>\n",
       "    </tr>\n",
       "  </thead>\n",
       "  <tbody>\n",
       "    <tr>\n",
       "      <th>1854-01-01</th>\n",
       "      <td>0.11</td>\n",
       "      <td>-0.24</td>\n",
       "      <td>-0.40</td>\n",
       "      <td>-0.44</td>\n",
       "      <td>-0.54</td>\n",
       "      <td>-0.30</td>\n",
       "      <td>-0.10</td>\n",
       "      <td>-1.24</td>\n",
       "      <td>-1.00</td>\n",
       "      <td>-2.23</td>\n",
       "      <td>-1.68</td>\n",
       "      <td>-1.76</td>\n",
       "      <td>-0.818333</td>\n",
       "    </tr>\n",
       "    <tr>\n",
       "      <th>1855-01-01</th>\n",
       "      <td>-0.20</td>\n",
       "      <td>-0.39</td>\n",
       "      <td>-0.24</td>\n",
       "      <td>-0.58</td>\n",
       "      <td>-1.34</td>\n",
       "      <td>-1.88</td>\n",
       "      <td>-1.13</td>\n",
       "      <td>-0.48</td>\n",
       "      <td>-0.76</td>\n",
       "      <td>-0.63</td>\n",
       "      <td>-0.41</td>\n",
       "      <td>-0.88</td>\n",
       "      <td>-0.743333</td>\n",
       "    </tr>\n",
       "    <tr>\n",
       "      <th>1856-01-01</th>\n",
       "      <td>-0.39</td>\n",
       "      <td>0.47</td>\n",
       "      <td>0.42</td>\n",
       "      <td>-0.96</td>\n",
       "      <td>-1.26</td>\n",
       "      <td>-2.15</td>\n",
       "      <td>-0.69</td>\n",
       "      <td>0.63</td>\n",
       "      <td>0.58</td>\n",
       "      <td>0.59</td>\n",
       "      <td>0.23</td>\n",
       "      <td>0.04</td>\n",
       "      <td>-0.207500</td>\n",
       "    </tr>\n",
       "    <tr>\n",
       "      <th>1857-01-01</th>\n",
       "      <td>-0.52</td>\n",
       "      <td>-1.67</td>\n",
       "      <td>-1.05</td>\n",
       "      <td>-0.81</td>\n",
       "      <td>-0.65</td>\n",
       "      <td>1.03</td>\n",
       "      <td>1.17</td>\n",
       "      <td>0.81</td>\n",
       "      <td>0.84</td>\n",
       "      <td>0.70</td>\n",
       "      <td>0.38</td>\n",
       "      <td>-0.55</td>\n",
       "      <td>-0.026667</td>\n",
       "    </tr>\n",
       "    <tr>\n",
       "      <th>1858-01-01</th>\n",
       "      <td>-0.96</td>\n",
       "      <td>-1.53</td>\n",
       "      <td>-1.76</td>\n",
       "      <td>-0.82</td>\n",
       "      <td>0.49</td>\n",
       "      <td>2.19</td>\n",
       "      <td>1.05</td>\n",
       "      <td>0.67</td>\n",
       "      <td>1.38</td>\n",
       "      <td>2.35</td>\n",
       "      <td>0.46</td>\n",
       "      <td>-1.16</td>\n",
       "      <td>0.196667</td>\n",
       "    </tr>\n",
       "  </tbody>\n",
       "</table>\n",
       "</div>"
      ],
      "text/plain": [
       "             Jan   Feb   Mar   Apr   May   Jun   Jul   Aug   Sep   Oct   Nov  \\\n",
       "date                                                                           \n",
       "1854-01-01  0.11 -0.24 -0.40 -0.44 -0.54 -0.30 -0.10 -1.24 -1.00 -2.23 -1.68   \n",
       "1855-01-01 -0.20 -0.39 -0.24 -0.58 -1.34 -1.88 -1.13 -0.48 -0.76 -0.63 -0.41   \n",
       "1856-01-01 -0.39  0.47  0.42 -0.96 -1.26 -2.15 -0.69  0.63  0.58  0.59  0.23   \n",
       "1857-01-01 -0.52 -1.67 -1.05 -0.81 -0.65  1.03  1.17  0.81  0.84  0.70  0.38   \n",
       "1858-01-01 -0.96 -1.53 -1.76 -0.82  0.49  2.19  1.05  0.67  1.38  2.35  0.46   \n",
       "\n",
       "             Dec   average  \n",
       "date                        \n",
       "1854-01-01 -1.76 -0.818333  \n",
       "1855-01-01 -0.88 -0.743333  \n",
       "1856-01-01  0.04 -0.207500  \n",
       "1857-01-01 -0.55 -0.026667  \n",
       "1858-01-01 -1.16  0.196667  "
      ]
     },
     "execution_count": 18,
     "metadata": {},
     "output_type": "execute_result"
    }
   ],
   "source": [
    "PDO_df['average'] = PDO_df.sum(axis=1).values / 12.\n",
    "PDO_df.head()"
   ]
  },
  {
   "cell_type": "markdown",
   "id": "02dd0ca6-877e-48a1-b65b-e4488d36a097",
   "metadata": {},
   "source": [
    "#### Cut on year"
   ]
  },
  {
   "cell_type": "code",
   "execution_count": 33,
   "id": "6ec5c1b3-8637-45fe-8972-36c4f7e2d54c",
   "metadata": {},
   "outputs": [],
   "source": [
    "gd_PDO = (PDO_df.index >= SIO_df.index[0]) & (PDO_df.index <= SIO_df.index[-1])"
   ]
  },
  {
   "cell_type": "code",
   "execution_count": 34,
   "id": "87f0edab-5bfd-4a1f-ad8c-6eee6c7026e1",
   "metadata": {},
   "outputs": [],
   "source": [
    "cut_PDO_df = PDO_df[gd_PDO].copy()"
   ]
  },
  {
   "cell_type": "code",
   "execution_count": 35,
   "id": "8da74579-3dfa-419c-9b29-eb0b69f85d53",
   "metadata": {},
   "outputs": [
    {
     "data": {
      "text/plain": [
       "(105, 105)"
      ]
     },
     "execution_count": 35,
     "metadata": {},
     "output_type": "execute_result"
    }
   ],
   "source": [
    "len(SIO_df), len(cut_PDO_df)"
   ]
  },
  {
   "cell_type": "markdown",
   "id": "f7bafeb6-3266-4cb9-b6be-af294a9b399c",
   "metadata": {},
   "source": [
    "## Plot"
   ]
  },
  {
   "cell_type": "code",
   "execution_count": 37,
   "id": "37d382ac-ed59-4051-9a78-15eaaf4fd607",
   "metadata": {},
   "outputs": [
    {
     "data": {
      "image/png": "[encoded data removed]",
      "text/plain": [
       "<Figure size 1008x648 with 2 Axes>"
      ]
     },
     "metadata": {
      "needs_background": "light"
     },
     "output_type": "display_data"
    }
   ],
   "source": [
    "fig, axs = plt.subplots(2)\n",
    "fig.set_size_inches((14, 9))\n",
    "# SIO\n",
    "SIO_df.SST.plot(ax=axs[0], ylabel='SST')\n",
    "# PDO\n",
    "cut_PDO_df.average.plot(ax=axs[1], ylabel='PDO', color='green')\n",
    "# Fons\n",
    "for ax in axs:\n",
    "    set_fontsize(ax, 15)\n",
    "# Save\n",
    "plt.savefig('PS3_Q1.png', dpi=300)"
   ]
  },
  {
   "cell_type": "markdown",
   "id": "0ed7ba34-70ac-48cd-8c0a-410953d60a47",
   "metadata": {},
   "source": [
    "----"
   ]
  },
  {
   "cell_type": "markdown",
   "id": "581e17fc-83a1-4093-9541-13f1dd5c57f2",
   "metadata": {},
   "source": [
    "# Question 2"
   ]
  },
  {
   "cell_type": "code",
   "execution_count": 50,
   "id": "b6f74d05-2a93-46a6-80b1-27d9faba01c8",
   "metadata": {},
   "outputs": [
    {
     "data": {
      "image/png": "[encoded data removed]",
      "text/plain": [
       "<Figure size 720x720 with 1 Axes>"
      ]
     },
     "metadata": {
      "needs_background": "light"
     },
     "output_type": "display_data"
    }
   ],
   "source": [
    "fig = plt.figure(figsize=(10,10))\n",
    "ax=plt.gca()\n",
    "ax.plot(cut_PDO_df.average, SIO_df.SST, 'o')\n",
    "ax.set_xlabel('PDO')\n",
    "ax.set_ylabel('SST')\n",
    "#\n",
    "set_fontsize(ax, 15.)\n",
    "#\n",
    "plt.savefig('PS3_Q2.png', dpi=300)"
   ]
  },
  {
   "cell_type": "markdown",
   "id": "d64f5bc8-45b7-4e82-b77d-1c60f6257fe9",
   "metadata": {},
   "source": [
    "----"
   ]
  },
  {
   "cell_type": "markdown",
   "id": "cb918ffc-031b-41ee-8c03-61e366909503",
   "metadata": {},
   "source": [
    "# Question 3"
   ]
  },
  {
   "cell_type": "markdown",
   "id": "6253db6f-3cef-4823-a6a1-a68097affb12",
   "metadata": {},
   "source": [
    "## I observe a positive correlation, albeit with significant scatter"
   ]
  },
  {
   "cell_type": "markdown",
   "id": "96d78379-27dd-4d17-bfa7-4bce0e1eb587",
   "metadata": {},
   "source": [
    "## It appears roughly linear"
   ]
  },
  {
   "cell_type": "markdown",
   "id": "6a1893ff-4e31-4266-ad39-85bfe0095541",
   "metadata": {},
   "source": [
    "----"
   ]
  },
  {
   "cell_type": "markdown",
   "id": "919a9aab-fca2-4ec2-86a0-a768a0dec623",
   "metadata": {},
   "source": [
    "# Question 4 -- Fit linear regression model"
   ]
  },
  {
   "cell_type": "markdown",
   "id": "83c3f7b5-6b43-4753-bf1f-b75fea8c7f4e",
   "metadata": {},
   "source": [
    "## Prep data"
   ]
  },
  {
   "cell_type": "code",
   "execution_count": 45,
   "id": "a9c8403b-7ac4-416d-b181-1932582e1fb5",
   "metadata": {},
   "outputs": [],
   "source": [
    "data = pandas.DataFrame()\n",
    "data['SST'] = SIO_df.SST.values\n",
    "data['PDO'] = cut_PDO_df.average.values\n",
    "#"
   ]
  },
  {
   "cell_type": "markdown",
   "id": "6ab03a26-5fe5-4e9d-85e2-6a0483eede8d",
   "metadata": {},
   "source": [
    "## Fit"
   ]
  },
  {
   "cell_type": "code",
   "execution_count": 46,
   "id": "fc236e9e-a877-4db4-9c7d-a97a06fdc4a5",
   "metadata": {},
   "outputs": [],
   "source": [
    "basic_formula = \"SST ~ PDO\"\n",
    "mod_basic = smf.glm(formula=basic_formula, data=data).fit()#, family=sm.f"
   ]
  },
  {
   "cell_type": "code",
   "execution_count": 47,
   "id": "4756425c-9a50-4c5f-bf00-0541f2fe6e46",
   "metadata": {},
   "outputs": [
    {
     "data": {
      "text/html": [
       "<table class=\"simpletable\">\n",
       "<caption>Generalized Linear Model Regression Results</caption>\n",
       "<tr>\n",
       "  <th>Dep. Variable:</th>          <td>SST</td>       <th>  No. Observations:  </th>  <td>   105</td> \n",
       "</tr>\n",
       "<tr>\n",
       "  <th>Model:</th>                  <td>GLM</td>       <th>  Df Residuals:      </th>  <td>   103</td> \n",
       "</tr>\n",
       "<tr>\n",
       "  <th>Model Family:</th>        <td>Gaussian</td>     <th>  Df Model:          </th>  <td>     1</td> \n",
       "</tr>\n",
       "<tr>\n",
       "  <th>Link Function:</th>       <td>identity</td>     <th>  Scale:             </th> <td> 0.48849</td>\n",
       "</tr>\n",
       "<tr>\n",
       "  <th>Method:</th>                <td>IRLS</td>       <th>  Log-Likelihood:    </th> <td> -110.37</td>\n",
       "</tr>\n",
       "<tr>\n",
       "  <th>Date:</th>            <td>Mon, 02 May 2022</td> <th>  Deviance:          </th> <td>  50.314</td>\n",
       "</tr>\n",
       "<tr>\n",
       "  <th>Time:</th>                <td>11:28:35</td>     <th>  Pearson chi2:      </th>  <td>  50.3</td> \n",
       "</tr>\n",
       "<tr>\n",
       "  <th>No. Iterations:</th>          <td>3</td>        <th>  Pseudo R-squ. (CS):</th>  <td>0.3104</td> \n",
       "</tr>\n",
       "<tr>\n",
       "  <th>Covariance Type:</th>     <td>nonrobust</td>    <th>                     </th>     <td> </td>   \n",
       "</tr>\n",
       "</table>\n",
       "<table class=\"simpletable\">\n",
       "<tr>\n",
       "      <td></td>         <th>coef</th>     <th>std err</th>      <th>z</th>      <th>P>|z|</th>  <th>[0.025</th>    <th>0.975]</th>  \n",
       "</tr>\n",
       "<tr>\n",
       "  <th>Intercept</th> <td>   17.3964</td> <td>    0.071</td> <td>  243.747</td> <td> 0.000</td> <td>   17.257</td> <td>   17.536</td>\n",
       "</tr>\n",
       "<tr>\n",
       "  <th>PDO</th>       <td>    0.4614</td> <td>    0.074</td> <td>    6.246</td> <td> 0.000</td> <td>    0.317</td> <td>    0.606</td>\n",
       "</tr>\n",
       "</table>"
      ],
      "text/plain": [
       "<class 'statsmodels.iolib.summary.Summary'>\n",
       "\"\"\"\n",
       "                 Generalized Linear Model Regression Results                  \n",
       "==============================================================================\n",
       "Dep. Variable:                    SST   No. Observations:                  105\n",
       "Model:                            GLM   Df Residuals:                      103\n",
       "Model Family:                Gaussian   Df Model:                            1\n",
       "Link Function:               identity   Scale:                         0.48849\n",
       "Method:                          IRLS   Log-Likelihood:                -110.37\n",
       "Date:                Mon, 02 May 2022   Deviance:                       50.314\n",
       "Time:                        11:28:35   Pearson chi2:                     50.3\n",
       "No. Iterations:                     3   Pseudo R-squ. (CS):             0.3104\n",
       "Covariance Type:            nonrobust                                         \n",
       "==============================================================================\n",
       "                 coef    std err          z      P>|z|      [0.025      0.975]\n",
       "------------------------------------------------------------------------------\n",
       "Intercept     17.3964      0.071    243.747      0.000      17.257      17.536\n",
       "PDO            0.4614      0.074      6.246      0.000       0.317       0.606\n",
       "==============================================================================\n",
       "\"\"\""
      ]
     },
     "execution_count": 47,
     "metadata": {},
     "output_type": "execute_result"
    }
   ],
   "source": [
    "mod_basic.summary()"
   ]
  },
  {
   "cell_type": "markdown",
   "id": "f5d24c8d-5ffc-4838-811d-00c9867f545d",
   "metadata": {},
   "source": [
    "## Plot"
   ]
  },
  {
   "cell_type": "code",
   "execution_count": 49,
   "id": "9eecfb61-658d-4549-976c-12e595f4f8b8",
   "metadata": {},
   "outputs": [
    {
     "data": {
      "image/png": "[encoded data removed]",
      "text/plain": [
       "<Figure size 720x720 with 1 Axes>"
      ]
     },
     "metadata": {
      "needs_background": "light"
     },
     "output_type": "display_data"
    }
   ],
   "source": [
    "fig = plt.figure(figsize=(10,10))\n",
    "ax=plt.gca()\n",
    "# Data\n",
    "ax.plot(data.PDO, data.SST, 'o')\n",
    "# Model\n",
    "ax.plot(data.PDO, mod_basic.fittedvalues)\n",
    "# Lables\n",
    "ax.set_xlabel('PDO')\n",
    "ax.set_ylabel('SST')\n",
    "#\n",
    "set_fontsize(ax, 15.)\n",
    "#\n",
    "plt.savefig('PS3_Q4.png', dpi=300)"
   ]
  },
  {
   "cell_type": "markdown",
   "id": "23f10b41-5a6d-49aa-8b78-4bad29bfc1fc",
   "metadata": {},
   "source": [
    "# Question 5 -- Residuals vs. time"
   ]
  },
  {
   "cell_type": "markdown",
   "id": "04745ed6-baf7-454e-8d85-8ef5362f0a34",
   "metadata": {},
   "source": [
    "## Residuals"
   ]
  },
  {
   "cell_type": "code",
   "execution_count": 51,
   "id": "bb176dde-d265-4c63-9e40-d2fdc9901894",
   "metadata": {},
   "outputs": [],
   "source": [
    "data.index = SIO_df.index"
   ]
  },
  {
   "cell_type": "code",
   "execution_count": 52,
   "id": "d422e642-4437-484c-9b33-eba712a7ff26",
   "metadata": {},
   "outputs": [
    {
     "data": {
      "text/html": [
       "<div>\n",
       "<style scoped>\n",
       "    .dataframe tbody tr th:only-of-type {\n",
       "        vertical-align: middle;\n",
       "    }\n",
       "\n",
       "    .dataframe tbody tr th {\n",
       "        vertical-align: top;\n",
       "    }\n",
       "\n",
       "    .dataframe thead th {\n",
       "        text-align: right;\n",
       "    }\n",
       "</style>\n",
       "<table border=\"1\" class=\"dataframe\">\n",
       "  <thead>\n",
       "    <tr style=\"text-align: right;\">\n",
       "      <th></th>\n",
       "      <th>SST</th>\n",
       "      <th>PDO</th>\n",
       "    </tr>\n",
       "    <tr>\n",
       "      <th>date</th>\n",
       "      <th></th>\n",
       "      <th></th>\n",
       "    </tr>\n",
       "  </thead>\n",
       "  <tbody>\n",
       "    <tr>\n",
       "      <th>1916-01-01</th>\n",
       "      <td>15.642</td>\n",
       "      <td>-1.657500</td>\n",
       "    </tr>\n",
       "    <tr>\n",
       "      <th>1917-01-01</th>\n",
       "      <td>16.743</td>\n",
       "      <td>-1.240833</td>\n",
       "    </tr>\n",
       "    <tr>\n",
       "      <th>1918-01-01</th>\n",
       "      <td>17.385</td>\n",
       "      <td>0.056667</td>\n",
       "    </tr>\n",
       "    <tr>\n",
       "      <th>1919-01-01</th>\n",
       "      <td>16.810</td>\n",
       "      <td>-0.690833</td>\n",
       "    </tr>\n",
       "    <tr>\n",
       "      <th>1920-01-01</th>\n",
       "      <td>16.576</td>\n",
       "      <td>-1.326667</td>\n",
       "    </tr>\n",
       "  </tbody>\n",
       "</table>\n",
       "</div>"
      ],
      "text/plain": [
       "               SST       PDO\n",
       "date                        \n",
       "1916-01-01  15.642 -1.657500\n",
       "1917-01-01  16.743 -1.240833\n",
       "1918-01-01  17.385  0.056667\n",
       "1919-01-01  16.810 -0.690833\n",
       "1920-01-01  16.576 -1.326667"
      ]
     },
     "execution_count": 52,
     "metadata": {},
     "output_type": "execute_result"
    }
   ],
   "source": [
    "data.head()"
   ]
  },
  {
   "cell_type": "code",
   "execution_count": 62,
   "id": "038f3044-1af7-4f10-833b-17ea90395b4a",
   "metadata": {},
   "outputs": [],
   "source": [
    "resids = data.SST.values - mod_basic.fittedvalues.values\n",
    "data['resids'] = resids"
   ]
  },
  {
   "cell_type": "code",
   "execution_count": 65,
   "id": "a8c93fee-b737-4cfd-bb03-bc4c0d3fad8a",
   "metadata": {},
   "outputs": [
    {
     "data": {
      "text/html": [
       "<div>\n",
       "<style scoped>\n",
       "    .dataframe tbody tr th:only-of-type {\n",
       "        vertical-align: middle;\n",
       "    }\n",
       "\n",
       "    .dataframe tbody tr th {\n",
       "        vertical-align: top;\n",
       "    }\n",
       "\n",
       "    .dataframe thead th {\n",
       "        text-align: right;\n",
       "    }\n",
       "</style>\n",
       "<table border=\"1\" class=\"dataframe\">\n",
       "  <thead>\n",
       "    <tr style=\"text-align: right;\">\n",
       "      <th></th>\n",
       "      <th>SST</th>\n",
       "      <th>PDO</th>\n",
       "      <th>resids</th>\n",
       "    </tr>\n",
       "    <tr>\n",
       "      <th>date</th>\n",
       "      <th></th>\n",
       "      <th></th>\n",
       "      <th></th>\n",
       "    </tr>\n",
       "  </thead>\n",
       "  <tbody>\n",
       "    <tr>\n",
       "      <th>1916-01-01</th>\n",
       "      <td>15.642</td>\n",
       "      <td>-1.657500</td>\n",
       "      <td>-0.989643</td>\n",
       "    </tr>\n",
       "    <tr>\n",
       "      <th>1917-01-01</th>\n",
       "      <td>16.743</td>\n",
       "      <td>-1.240833</td>\n",
       "      <td>-0.080894</td>\n",
       "    </tr>\n",
       "    <tr>\n",
       "      <th>1918-01-01</th>\n",
       "      <td>17.385</td>\n",
       "      <td>0.056667</td>\n",
       "      <td>-0.037563</td>\n",
       "    </tr>\n",
       "    <tr>\n",
       "      <th>1919-01-01</th>\n",
       "      <td>16.810</td>\n",
       "      <td>-0.690833</td>\n",
       "      <td>-0.267665</td>\n",
       "    </tr>\n",
       "    <tr>\n",
       "      <th>1920-01-01</th>\n",
       "      <td>16.576</td>\n",
       "      <td>-1.326667</td>\n",
       "      <td>-0.208290</td>\n",
       "    </tr>\n",
       "  </tbody>\n",
       "</table>\n",
       "</div>"
      ],
      "text/plain": [
       "               SST       PDO    resids\n",
       "date                                  \n",
       "1916-01-01  15.642 -1.657500 -0.989643\n",
       "1917-01-01  16.743 -1.240833 -0.080894\n",
       "1918-01-01  17.385  0.056667 -0.037563\n",
       "1919-01-01  16.810 -0.690833 -0.267665\n",
       "1920-01-01  16.576 -1.326667 -0.208290"
      ]
     },
     "execution_count": 65,
     "metadata": {},
     "output_type": "execute_result"
    }
   ],
   "source": [
    "data.head()"
   ]
  },
  {
   "cell_type": "markdown",
   "id": "c310d225-8dbc-49e7-ad0f-8804fe0e273f",
   "metadata": {},
   "source": [
    "## Plot"
   ]
  },
  {
   "cell_type": "code",
   "execution_count": 82,
   "id": "a75fc80e-dee8-43b6-8e64-5a0e963eb235",
   "metadata": {},
   "outputs": [
    {
     "data": {
      "image/png": "[encoded data removed]",
      "text/plain": [
       "<Figure size 864x648 with 1 Axes>"
      ]
     },
     "metadata": {
      "needs_background": "light"
     },
     "output_type": "display_data"
    }
   ],
   "source": [
    "fig = plt.figure()\n",
    "fig.set_size_inches((12, 9))\n",
    "ax = data.resids.plot(ylabel='Residuals')\n",
    "set_fontsize(ax, 15.)\n",
    "#\n",
    "plt.savefig('PS3_Q5.png', dpi=300)"
   ]
  },
  {
   "cell_type": "markdown",
   "id": "4c7005da-3174-4585-80b2-ed2029163a94",
   "metadata": {},
   "source": [
    "----"
   ]
  },
  {
   "cell_type": "markdown",
   "id": "efe26fd7-424a-4883-8fa6-047101bb0201",
   "metadata": {},
   "source": [
    "# Question 6 -- What do you see?"
   ]
  },
  {
   "cell_type": "markdown",
   "id": "af6c5f60-237b-49fe-a037-c659f03de62b",
   "metadata": {},
   "source": [
    "## There is a clear trend of the residuals in time, with the values increasing over the past ~30 years"
   ]
  },
  {
   "cell_type": "markdown",
   "id": "dbb6af5b-c425-4201-bf4d-3fb30ea3b4fa",
   "metadata": {},
   "source": [
    "----"
   ]
  },
  {
   "cell_type": "markdown",
   "id": "3ed4befb-869d-4d04-9995-adee67d284d6",
   "metadata": {},
   "source": [
    "# Question 7 -- Add a linear trend in time"
   ]
  },
  {
   "cell_type": "code",
   "execution_count": 73,
   "id": "2bdfb8f0-5804-4b07-819c-fa67d48a41bc",
   "metadata": {},
   "outputs": [],
   "source": [
    "time = np.arange(len(data)) + 1\n",
    "data['time'] = time"
   ]
  },
  {
   "cell_type": "code",
   "execution_count": 74,
   "id": "c488bafc-bd45-4a59-b759-7265026c0749",
   "metadata": {},
   "outputs": [],
   "source": [
    "linear_formula = \"SST ~ PDO + time\"\n",
    "mod_linear = smf.glm(formula=linear_formula, data=data).fit()#, family=sm.f"
   ]
  },
  {
   "cell_type": "code",
   "execution_count": 75,
   "id": "5d117134-a543-4fbe-af13-f1d5ebc6369c",
   "metadata": {},
   "outputs": [
    {
     "data": {
      "text/html": [
       "<table class=\"simpletable\">\n",
       "<caption>Generalized Linear Model Regression Results</caption>\n",
       "<tr>\n",
       "  <th>Dep. Variable:</th>          <td>SST</td>       <th>  No. Observations:  </th>  <td>   105</td> \n",
       "</tr>\n",
       "<tr>\n",
       "  <th>Model:</th>                  <td>GLM</td>       <th>  Df Residuals:      </th>  <td>   102</td> \n",
       "</tr>\n",
       "<tr>\n",
       "  <th>Model Family:</th>        <td>Gaussian</td>     <th>  Df Model:          </th>  <td>     2</td> \n",
       "</tr>\n",
       "<tr>\n",
       "  <th>Link Function:</th>       <td>identity</td>     <th>  Scale:             </th> <td> 0.25511</td>\n",
       "</tr>\n",
       "<tr>\n",
       "  <th>Method:</th>                <td>IRLS</td>       <th>  Log-Likelihood:    </th> <td> -75.749</td>\n",
       "</tr>\n",
       "<tr>\n",
       "  <th>Date:</th>            <td>Mon, 02 May 2022</td> <th>  Deviance:          </th> <td>  26.022</td>\n",
       "</tr>\n",
       "<tr>\n",
       "  <th>Time:</th>                <td>11:36:45</td>     <th>  Pearson chi2:      </th>  <td>  26.0</td> \n",
       "</tr>\n",
       "<tr>\n",
       "  <th>No. Iterations:</th>          <td>3</td>        <th>  Pseudo R-squ. (CS):</th>  <td>0.8018</td> \n",
       "</tr>\n",
       "<tr>\n",
       "  <th>Covariance Type:</th>     <td>nonrobust</td>    <th>                     </th>     <td> </td>   \n",
       "</tr>\n",
       "</table>\n",
       "<table class=\"simpletable\">\n",
       "<tr>\n",
       "      <td></td>         <th>coef</th>     <th>std err</th>      <th>z</th>      <th>P>|z|</th>  <th>[0.025</th>    <th>0.975]</th>  \n",
       "</tr>\n",
       "<tr>\n",
       "  <th>Intercept</th> <td>   16.5598</td> <td>    0.100</td> <td>  165.502</td> <td> 0.000</td> <td>   16.364</td> <td>   16.756</td>\n",
       "</tr>\n",
       "<tr>\n",
       "  <th>PDO</th>       <td>    0.4785</td> <td>    0.053</td> <td>    8.959</td> <td> 0.000</td> <td>    0.374</td> <td>    0.583</td>\n",
       "</tr>\n",
       "<tr>\n",
       "  <th>time</th>      <td>    0.0159</td> <td>    0.002</td> <td>    9.758</td> <td> 0.000</td> <td>    0.013</td> <td>    0.019</td>\n",
       "</tr>\n",
       "</table>"
      ],
      "text/plain": [
       "<class 'statsmodels.iolib.summary.Summary'>\n",
       "\"\"\"\n",
       "                 Generalized Linear Model Regression Results                  \n",
       "==============================================================================\n",
       "Dep. Variable:                    SST   No. Observations:                  105\n",
       "Model:                            GLM   Df Residuals:                      102\n",
       "Model Family:                Gaussian   Df Model:                            2\n",
       "Link Function:               identity   Scale:                         0.25511\n",
       "Method:                          IRLS   Log-Likelihood:                -75.749\n",
       "Date:                Mon, 02 May 2022   Deviance:                       26.022\n",
       "Time:                        11:36:45   Pearson chi2:                     26.0\n",
       "No. Iterations:                     3   Pseudo R-squ. (CS):             0.8018\n",
       "Covariance Type:            nonrobust                                         \n",
       "==============================================================================\n",
       "                 coef    std err          z      P>|z|      [0.025      0.975]\n",
       "------------------------------------------------------------------------------\n",
       "Intercept     16.5598      0.100    165.502      0.000      16.364      16.756\n",
       "PDO            0.4785      0.053      8.959      0.000       0.374       0.583\n",
       "time           0.0159      0.002      9.758      0.000       0.013       0.019\n",
       "==============================================================================\n",
       "\"\"\""
      ]
     },
     "execution_count": 75,
     "metadata": {},
     "output_type": "execute_result"
    }
   ],
   "source": [
    "mod_linear.summary()"
   ]
  },
  {
   "cell_type": "markdown",
   "id": "7772e43e-ab73-46c0-bd90-3e31ce96738f",
   "metadata": {},
   "source": [
    "## R2"
   ]
  },
  {
   "cell_type": "code",
   "execution_count": 110,
   "id": "f25fa73e-0b89-4304-adf0-d8f211cd9167",
   "metadata": {},
   "outputs": [
    {
     "data": {
      "text/plain": [
       "0.6137379344839841"
      ]
     },
     "execution_count": 110,
     "metadata": {},
     "output_type": "execute_result"
    }
   ],
   "source": [
    "y = data.SST.values\n",
    "#\n",
    "sst_val = sum(map(lambda x: np.power(x,2),y-np.mean(y))) \n",
    "sse_val = sum(map(lambda x: np.power(x,2),mod_linear.resid_response)) \n",
    "r2_linear = 1.0 - sse_val/sst_val\n",
    "r2_linear\n",
    "adjusted_r2_linear = 1 - (1-r2)*(len(data)-1)/(len(data)-len(mod_linear.params)-1)\n",
    "adjusted_r2_linear"
   ]
  },
  {
   "cell_type": "markdown",
   "id": "0d79333b-742a-4fbb-9bae-b5e995f573c9",
   "metadata": {},
   "source": [
    "## The trend term is highly significant  $P(>|z|) < 0.001$"
   ]
  },
  {
   "cell_type": "markdown",
   "id": "dd154aa9-ead3-4f52-8bd3-210a677076c0",
   "metadata": {},
   "source": [
    "----"
   ]
  },
  {
   "cell_type": "markdown",
   "id": "d345e527-f24e-4e30-83dd-561e05ad8071",
   "metadata": {},
   "source": [
    "# Question 8 -- Residuals of linear model"
   ]
  },
  {
   "cell_type": "code",
   "execution_count": 77,
   "id": "7bbdaf85-99d7-475d-bcb6-981c7a4faf62",
   "metadata": {},
   "outputs": [],
   "source": [
    "linear_resids = data.SST.values - mod_linear.fittedvalues.values\n",
    "data['linear_resids'] = linear_resids"
   ]
  },
  {
   "cell_type": "code",
   "execution_count": 81,
   "id": "d8dad28c-87c9-4d80-a359-91c676be91f7",
   "metadata": {},
   "outputs": [
    {
     "data": {
      "image/png": "[encoded data removed]",
      "text/plain": [
       "<Figure size 864x648 with 1 Axes>"
      ]
     },
     "metadata": {
      "needs_background": "light"
     },
     "output_type": "display_data"
    }
   ],
   "source": [
    "fig = plt.figure()\n",
    "fig.set_size_inches((12, 9))\n",
    "ax = data.linear_resids.plot(ylabel='Linear Residuals', marker='o', ls='')\n",
    "set_fontsize(ax, 15.)\n",
    "#\n",
    "plt.savefig('PS3_Q8.png', dpi=300)"
   ]
  },
  {
   "cell_type": "markdown",
   "id": "34ee3a07-871d-4281-9b0d-28daaa1b357e",
   "metadata": {},
   "source": [
    "----"
   ]
  },
  {
   "cell_type": "markdown",
   "id": "1504213c-4b61-46ce-a2c5-1fda2e743f38",
   "metadata": {},
   "source": [
    "# Question 9 -- Anything concerning?"
   ]
  },
  {
   "cell_type": "markdown",
   "id": "e2533a18-5264-43d8-a1a6-505948093653",
   "metadata": {},
   "source": [
    "## While we have reduced the trend at the end of the time period, we have introduced one at the beginning that was not previously pesent!"
   ]
  },
  {
   "cell_type": "markdown",
   "id": "61662a9d-2196-4433-8f45-9a96519e2817",
   "metadata": {},
   "source": [
    "----"
   ]
  },
  {
   "cell_type": "markdown",
   "id": "32dde88a-3180-49bd-bf53-1ac583b91dbf",
   "metadata": {},
   "source": [
    "# Question 10 -- Dummy time"
   ]
  },
  {
   "cell_type": "code",
   "execution_count": 92,
   "id": "5e9584e5-11f7-4b42-946d-b2fc4a9cef16",
   "metadata": {},
   "outputs": [
    {
     "data": {
      "text/plain": [
       "date\n",
       "1981-01-01    0.0\n",
       "1982-01-01    0.0\n",
       "1983-01-01    0.0\n",
       "1984-01-01    0.0\n",
       "1985-01-01    0.0\n",
       "1986-01-01    0.0\n",
       "1987-01-01    0.0\n",
       "1988-01-01    0.0\n",
       "1989-01-01    1.0\n",
       "1990-01-01    1.0\n",
       "Name: dummy0, dtype: float64"
      ]
     },
     "execution_count": 92,
     "metadata": {},
     "output_type": "execute_result"
    }
   ],
   "source": [
    "dummy0 = np.zeros(len(data))\n",
    "dummy0[data.index >= pandas.to_datetime('1989')] = 1\n",
    "data['dummy0'] = dummy0\n",
    "data.dummy0[-40:-30]"
   ]
  },
  {
   "cell_type": "markdown",
   "id": "7b0bdb3e-541b-446c-8aec-651ced95e50f",
   "metadata": {},
   "source": [
    "## Fit"
   ]
  },
  {
   "cell_type": "code",
   "execution_count": 101,
   "id": "0243dede-3d84-45cb-a1f4-aa0b3e5e04a5",
   "metadata": {},
   "outputs": [
    {
     "data": {
      "text/html": [
       "<table class=\"simpletable\">\n",
       "<caption>Generalized Linear Model Regression Results</caption>\n",
       "<tr>\n",
       "  <th>Dep. Variable:</th>          <td>SST</td>       <th>  No. Observations:  </th>  <td>   105</td> \n",
       "</tr>\n",
       "<tr>\n",
       "  <th>Model:</th>                  <td>GLM</td>       <th>  Df Residuals:      </th>  <td>   102</td> \n",
       "</tr>\n",
       "<tr>\n",
       "  <th>Model Family:</th>        <td>Gaussian</td>     <th>  Df Model:          </th>  <td>     2</td> \n",
       "</tr>\n",
       "<tr>\n",
       "  <th>Link Function:</th>       <td>identity</td>     <th>  Scale:             </th> <td> 0.19150</td>\n",
       "</tr>\n",
       "<tr>\n",
       "  <th>Method:</th>                <td>IRLS</td>       <th>  Log-Likelihood:    </th> <td> -60.691</td>\n",
       "</tr>\n",
       "<tr>\n",
       "  <th>Date:</th>            <td>Mon, 02 May 2022</td> <th>  Deviance:          </th> <td>  19.533</td>\n",
       "</tr>\n",
       "<tr>\n",
       "  <th>Time:</th>                <td>11:50:53</td>     <th>  Pearson chi2:      </th>  <td>  19.5</td> \n",
       "</tr>\n",
       "<tr>\n",
       "  <th>No. Iterations:</th>          <td>3</td>        <th>  Pseudo R-squ. (CS):</th>  <td>0.9162</td> \n",
       "</tr>\n",
       "<tr>\n",
       "  <th>Covariance Type:</th>     <td>nonrobust</td>    <th>                     </th>     <td> </td>   \n",
       "</tr>\n",
       "</table>\n",
       "<table class=\"simpletable\">\n",
       "<tr>\n",
       "      <td></td>         <th>coef</th>     <th>std err</th>      <th>z</th>      <th>P>|z|</th>  <th>[0.025</th>    <th>0.975]</th>  \n",
       "</tr>\n",
       "<tr>\n",
       "  <th>Intercept</th> <td>   17.0501</td> <td>    0.052</td> <td>  325.536</td> <td> 0.000</td> <td>   16.947</td> <td>   17.153</td>\n",
       "</tr>\n",
       "<tr>\n",
       "  <th>PDO</th>       <td>    0.5080</td> <td>    0.046</td> <td>   10.948</td> <td> 0.000</td> <td>    0.417</td> <td>    0.599</td>\n",
       "</tr>\n",
       "<tr>\n",
       "  <th>dummy0</th>    <td>    1.1800</td> <td>    0.093</td> <td>   12.678</td> <td> 0.000</td> <td>    0.998</td> <td>    1.362</td>\n",
       "</tr>\n",
       "</table>"
      ],
      "text/plain": [
       "<class 'statsmodels.iolib.summary.Summary'>\n",
       "\"\"\"\n",
       "                 Generalized Linear Model Regression Results                  \n",
       "==============================================================================\n",
       "Dep. Variable:                    SST   No. Observations:                  105\n",
       "Model:                            GLM   Df Residuals:                      102\n",
       "Model Family:                Gaussian   Df Model:                            2\n",
       "Link Function:               identity   Scale:                         0.19150\n",
       "Method:                          IRLS   Log-Likelihood:                -60.691\n",
       "Date:                Mon, 02 May 2022   Deviance:                       19.533\n",
       "Time:                        11:50:53   Pearson chi2:                     19.5\n",
       "No. Iterations:                     3   Pseudo R-squ. (CS):             0.9162\n",
       "Covariance Type:            nonrobust                                         \n",
       "==============================================================================\n",
       "                 coef    std err          z      P>|z|      [0.025      0.975]\n",
       "------------------------------------------------------------------------------\n",
       "Intercept     17.0501      0.052    325.536      0.000      16.947      17.153\n",
       "PDO            0.5080      0.046     10.948      0.000       0.417       0.599\n",
       "dummy0         1.1800      0.093     12.678      0.000       0.998       1.362\n",
       "==============================================================================\n",
       "\"\"\""
      ]
     },
     "execution_count": 101,
     "metadata": {},
     "output_type": "execute_result"
    }
   ],
   "source": [
    "dummy0_formula = \"SST ~ PDO + dummy0\"\n",
    "mod_dummy0 = smf.glm(formula=dummy0_formula, data=data).fit()#, family=sm.f\n",
    "mod_dummy0.summary()"
   ]
  },
  {
   "cell_type": "code",
   "execution_count": 102,
   "id": "959fbc9e-f0ab-43fe-b66f-c08b6f646f45",
   "metadata": {},
   "outputs": [],
   "source": [
    "dummy0_resids = data.SST.values - mod_dummy0.fittedvalues.values\n",
    "data['dummy0_resids'] = dummy0_resids"
   ]
  },
  {
   "cell_type": "markdown",
   "id": "0f4047f0-627b-4a93-9d7f-e5ea4725b778",
   "metadata": {},
   "source": [
    "## R2"
   ]
  },
  {
   "cell_type": "code",
   "execution_count": 109,
   "id": "bd4da635-2cce-4fb7-8490-c9cb331a6704",
   "metadata": {},
   "outputs": [
    {
     "data": {
      "text/plain": [
       "0.7100564700156411"
      ]
     },
     "execution_count": 109,
     "metadata": {},
     "output_type": "execute_result"
    }
   ],
   "source": [
    "y = data.SST.values\n",
    "#\n",
    "sst_val = sum(map(lambda x: np.power(x,2),y-np.mean(y))) \n",
    "sse_val_d0 = sum(map(lambda x: np.power(x,2),mod_dummy0.resid_response)) \n",
    "r2_dummy0 = 1.0 - sse_val_d0/sst_val\n",
    "#r2_dummy0\n",
    "adjusted_r2_dummy0 = 1 - (1-r2_dummy0)*(len(data)-1)/(len(data)-len(mod_dummy0.params)-1)\n",
    "adjusted_r2_dummy0"
   ]
  },
  {
   "cell_type": "markdown",
   "id": "cf777eae-5968-4941-85bc-a44c80cfe47d",
   "metadata": {},
   "source": [
    "----"
   ]
  },
  {
   "cell_type": "markdown",
   "id": "e092d107-f318-4b0c-b9fb-c4f24f09dd02",
   "metadata": {},
   "source": [
    "# Question 11 -- Dummy0 Residuals"
   ]
  },
  {
   "cell_type": "code",
   "execution_count": 104,
   "id": "c9de748a-2aca-4438-91b2-92aff40041b8",
   "metadata": {},
   "outputs": [
    {
     "data": {
      "image/png": "[encoded data removed]",
      "text/plain": [
       "<Figure size 864x648 with 1 Axes>"
      ]
     },
     "metadata": {
      "needs_background": "light"
     },
     "output_type": "display_data"
    }
   ],
   "source": [
    "fig = plt.figure()\n",
    "fig.set_size_inches((12, 9))\n",
    "ax = data.dummy0_resids.plot(ylabel='Dummy0 Residuals', marker='o', ls='', color='red')\n",
    "set_fontsize(ax, 15.)\n",
    "#\n",
    "plt.savefig('PS3_Q11.png', dpi=300)"
   ]
  },
  {
   "cell_type": "markdown",
   "id": "4a821dde-a66f-4be9-a8f9-0aa5d4548ead",
   "metadata": {},
   "source": [
    "----"
   ]
  },
  {
   "cell_type": "markdown",
   "id": "8c52851b-30ab-4a76-ac3a-00e7fc4dba3e",
   "metadata": {},
   "source": [
    "# Question 12 -- How about now?"
   ]
  },
  {
   "cell_type": "markdown",
   "id": "040f6821-8126-41cc-be81-78b28c10b594",
   "metadata": {},
   "source": [
    "## Still a trend at late times...\n",
    "\n",
    "## These are skewed to negative values"
   ]
  },
  {
   "cell_type": "markdown",
   "id": "ce613c74-8261-445c-ad7a-8d2d8806c7d6",
   "metadata": {},
   "source": [
    "----"
   ]
  },
  {
   "cell_type": "markdown",
   "id": "bf14f08f-8c2e-4554-afc1-843b52810344",
   "metadata": {},
   "source": [
    "# Question 13 -- PDO + time + dummy0"
   ]
  },
  {
   "cell_type": "code",
   "execution_count": 105,
   "id": "daea6c6b-cef4-429f-86ad-1b36ce239924",
   "metadata": {},
   "outputs": [
    {
     "data": {
      "text/html": [
       "<table class=\"simpletable\">\n",
       "<caption>Generalized Linear Model Regression Results</caption>\n",
       "<tr>\n",
       "  <th>Dep. Variable:</th>          <td>SST</td>       <th>  No. Observations:  </th>  <td>   105</td> \n",
       "</tr>\n",
       "<tr>\n",
       "  <th>Model:</th>                  <td>GLM</td>       <th>  Df Residuals:      </th>  <td>   101</td> \n",
       "</tr>\n",
       "<tr>\n",
       "  <th>Model Family:</th>        <td>Gaussian</td>     <th>  Df Model:          </th>  <td>     3</td> \n",
       "</tr>\n",
       "<tr>\n",
       "  <th>Link Function:</th>       <td>identity</td>     <th>  Scale:             </th> <td> 0.18650</td>\n",
       "</tr>\n",
       "<tr>\n",
       "  <th>Method:</th>                <td>IRLS</td>       <th>  Log-Likelihood:    </th> <td> -58.785</td>\n",
       "</tr>\n",
       "<tr>\n",
       "  <th>Date:</th>            <td>Mon, 02 May 2022</td> <th>  Deviance:          </th> <td>  18.836</td>\n",
       "</tr>\n",
       "<tr>\n",
       "  <th>Time:</th>                <td>11:52:56</td>     <th>  Pearson chi2:      </th>  <td>  18.8</td> \n",
       "</tr>\n",
       "<tr>\n",
       "  <th>No. Iterations:</th>          <td>3</td>        <th>  Pseudo R-squ. (CS):</th>  <td>0.9243</td> \n",
       "</tr>\n",
       "<tr>\n",
       "  <th>Covariance Type:</th>     <td>nonrobust</td>    <th>                     </th>     <td> </td>   \n",
       "</tr>\n",
       "</table>\n",
       "<table class=\"simpletable\">\n",
       "<tr>\n",
       "      <td></td>         <th>coef</th>     <th>std err</th>      <th>z</th>      <th>P>|z|</th>  <th>[0.025</th>    <th>0.975]</th>  \n",
       "</tr>\n",
       "<tr>\n",
       "  <th>Intercept</th> <td>   16.8841</td> <td>    0.100</td> <td>  168.428</td> <td> 0.000</td> <td>   16.688</td> <td>   17.081</td>\n",
       "</tr>\n",
       "<tr>\n",
       "  <th>PDO</th>       <td>    0.5036</td> <td>    0.046</td> <td>   10.983</td> <td> 0.000</td> <td>    0.414</td> <td>    0.593</td>\n",
       "</tr>\n",
       "<tr>\n",
       "  <th>dummy0</th>    <td>    0.9452</td> <td>    0.152</td> <td>    6.207</td> <td> 0.000</td> <td>    0.647</td> <td>    1.244</td>\n",
       "</tr>\n",
       "<tr>\n",
       "  <th>time</th>      <td>    0.0045</td> <td>    0.002</td> <td>    1.933</td> <td> 0.053</td> <td>-6.33e-05</td> <td>    0.009</td>\n",
       "</tr>\n",
       "</table>"
      ],
      "text/plain": [
       "<class 'statsmodels.iolib.summary.Summary'>\n",
       "\"\"\"\n",
       "                 Generalized Linear Model Regression Results                  \n",
       "==============================================================================\n",
       "Dep. Variable:                    SST   No. Observations:                  105\n",
       "Model:                            GLM   Df Residuals:                      101\n",
       "Model Family:                Gaussian   Df Model:                            3\n",
       "Link Function:               identity   Scale:                         0.18650\n",
       "Method:                          IRLS   Log-Likelihood:                -58.785\n",
       "Date:                Mon, 02 May 2022   Deviance:                       18.836\n",
       "Time:                        11:52:56   Pearson chi2:                     18.8\n",
       "No. Iterations:                     3   Pseudo R-squ. (CS):             0.9243\n",
       "Covariance Type:            nonrobust                                         \n",
       "==============================================================================\n",
       "                 coef    std err          z      P>|z|      [0.025      0.975]\n",
       "------------------------------------------------------------------------------\n",
       "Intercept     16.8841      0.100    168.428      0.000      16.688      17.081\n",
       "PDO            0.5036      0.046     10.983      0.000       0.414       0.593\n",
       "dummy0         0.9452      0.152      6.207      0.000       0.647       1.244\n",
       "time           0.0045      0.002      1.933      0.053   -6.33e-05       0.009\n",
       "==============================================================================\n",
       "\"\"\""
      ]
     },
     "execution_count": 105,
     "metadata": {},
     "output_type": "execute_result"
    }
   ],
   "source": [
    "full_formula = \"SST ~ PDO + dummy0 + time\"\n",
    "mod_full = smf.glm(formula=full_formula, data=data).fit()#, family=sm.f\n",
    "mod_full.summary()"
   ]
  },
  {
   "cell_type": "markdown",
   "id": "d1d92b74-6fa5-4058-a2ec-5e47d1e0268c",
   "metadata": {},
   "source": [
    "## Adjusted R2"
   ]
  },
  {
   "cell_type": "code",
   "execution_count": 108,
   "id": "47029954-87c6-4a0e-a4ba-05458daa1f10",
   "metadata": {},
   "outputs": [
    {
     "data": {
      "text/plain": [
       "0.7175992072251071"
      ]
     },
     "execution_count": 108,
     "metadata": {},
     "output_type": "execute_result"
    }
   ],
   "source": [
    "y = data.SST.values\n",
    "#\n",
    "sst_val = sum(map(lambda x: np.power(x,2),y-np.mean(y))) \n",
    "sse_val_full = sum(map(lambda x: np.power(x,2),mod_full.resid_response)) \n",
    "r2_full = 1.0 - sse_val_full/sst_val\n",
    "adjusted_r2_full = 1 - (1-r2_full)*(len(data)-1)/(len(data)-len(mod_full.params)-1)\n",
    "adjusted_r2_full"
   ]
  },
  {
   "cell_type": "markdown",
   "id": "2b6bf520-6cfa-4ae3-91dd-3b8efb066e4f",
   "metadata": {},
   "source": [
    "----"
   ]
  },
  {
   "cell_type": "markdown",
   "id": "942bb747-9284-4c1e-bf40-46daecd8262d",
   "metadata": {},
   "source": [
    "# Question 14"
   ]
  },
  {
   "cell_type": "markdown",
   "id": "37d0285a-b0a8-4bb3-95ce-b8b4ca68388c",
   "metadata": {},
   "source": [
    "## Best model = Full"
   ]
  },
  {
   "cell_type": "code",
   "execution_count": 111,
   "id": "e4515f53-ccb9-412a-b805-aed6ff0a0ec1",
   "metadata": {},
   "outputs": [],
   "source": [
    "data['best'] = mod_full.fittedvalues"
   ]
  },
  {
   "cell_type": "markdown",
   "id": "8bc15dff-4201-479e-b28a-45dd719a7f18",
   "metadata": {},
   "source": [
    "## Plot"
   ]
  },
  {
   "cell_type": "code",
   "execution_count": 119,
   "id": "6cad749b-792b-403b-8193-8b2587e156c8",
   "metadata": {},
   "outputs": [
    {
     "data": {
      "image/png": "[encoded data removed]",
      "text/plain": [
       "<Figure size 864x648 with 1 Axes>"
      ]
     },
     "metadata": {
      "needs_background": "light"
     },
     "output_type": "display_data"
    }
   ],
   "source": [
    "fig = plt.figure()\n",
    "fig.set_size_inches((12, 9))\n",
    "ax = data.SST.plot(ylabel='SST', label='data', marker='o', ls='')\n",
    "#\n",
    "data.best.plot(ax=ax, color='k', label='model')\n",
    "#\n",
    "ax.legend(fontsize=15)\n",
    "#\n",
    "set_fontsize(ax, 17)"
   ]
  },
  {
   "cell_type": "markdown",
   "id": "30060426-bc98-4683-a4db-aaccf8e46108",
   "metadata": {},
   "source": [
    "----"
   ]
  },
  {
   "cell_type": "markdown",
   "id": "c0980895-62ba-4414-8da5-4ca7019a672c",
   "metadata": {},
   "source": [
    "# Question 15 -- Final residuals"
   ]
  },
  {
   "cell_type": "markdown",
   "id": "44de3772-01e3-4ae4-ac1e-ad760d52f580",
   "metadata": {},
   "source": [
    "## Calculate"
   ]
  },
  {
   "cell_type": "code",
   "execution_count": 120,
   "id": "f153ef16-8641-42e9-a851-8747481f9170",
   "metadata": {},
   "outputs": [],
   "source": [
    "final_resids = data.SST.values - mod_full.fittedvalues.values"
   ]
  },
  {
   "cell_type": "markdown",
   "id": "8a1505a8-bed1-4dd1-b410-b4154ec7c3fb",
   "metadata": {},
   "source": [
    "## Independence -- Durbin Waston"
   ]
  },
  {
   "cell_type": "code",
   "execution_count": 121,
   "id": "a635fcd8-673c-41c4-bccf-bec3e7207265",
   "metadata": {},
   "outputs": [
    {
     "data": {
      "text/plain": [
       "1.5226917595543432"
      ]
     },
     "execution_count": 121,
     "metadata": {},
     "output_type": "execute_result"
    }
   ],
   "source": [
    "dw = durbin_watson(final_resids)\n",
    "dw"
   ]
  },
  {
   "cell_type": "markdown",
   "id": "b8e759d6-236b-4b77-9f9e-a07b73f7abc7",
   "metadata": {},
   "source": [
    "### Mild auto-correlation"
   ]
  },
  {
   "cell_type": "markdown",
   "id": "65deace9-e801-4553-af4e-e0b0cc9a1f4a",
   "metadata": {},
   "source": [
    "## Normality -- Shapiro"
   ]
  },
  {
   "cell_type": "code",
   "execution_count": 122,
   "id": "b27f539b-1872-4dd2-bbae-296055a4ddd2",
   "metadata": {},
   "outputs": [
    {
     "data": {
      "text/plain": [
       "ShapiroResult(statistic=0.9828082323074341, pvalue=0.1922081559896469)"
      ]
     },
     "execution_count": 122,
     "metadata": {},
     "output_type": "execute_result"
    }
   ],
   "source": [
    "shapiro(final_resids)"
   ]
  },
  {
   "cell_type": "markdown",
   "id": "58b3cb93-a57c-4bd9-b50f-1add9d38fab1",
   "metadata": {},
   "source": [
    "### Passes "
   ]
  },
  {
   "cell_type": "markdown",
   "id": "98cb62b5-a056-4a5a-87da-1019e11e2551",
   "metadata": {},
   "source": [
    "## Constant Variance"
   ]
  },
  {
   "cell_type": "code",
   "execution_count": 123,
   "id": "36809166-a115-4150-bd65-ccc91d25be2f",
   "metadata": {},
   "outputs": [
    {
     "data": {
      "text/plain": [
       "BartlettResult(statistic=1.2134113386868903, pvalue=0.2706575658462491)"
      ]
     },
     "execution_count": 123,
     "metadata": {},
     "output_type": "execute_result"
    }
   ],
   "source": [
    "nresid = final_resids.size//2\n",
    "bartlett(final_resids[:nresid], final_resids[nresid:])"
   ]
  },
  {
   "cell_type": "markdown",
   "id": "909343b0-6415-4d9b-a023-f472991527c1",
   "metadata": {},
   "source": [
    "### Passes"
   ]
  },
  {
   "cell_type": "code",
   "execution_count": null,
   "id": "3463b535-d457-4121-93a3-8985434df529",
   "metadata": {},
   "outputs": [],
   "source": []
  }
 ],
 "metadata": {
  "kernelspec": {
   "display_name": "Python 3 (ipykernel)",
   "language": "python",
   "name": "python3"
  },
  "language_info": {
   "codemirror_mode": {
    "name": "ipython",
    "version": 3
   },
   "file_extension": ".py",
   "mimetype": "text/x-python",
   "name": "python",
   "nbconvert_exporter": "python",
   "pygments_lexer": "ipython3",
   "version": "3.9.7"
  }
 },
 "nbformat": 4,
 "nbformat_minor": 5
}
