{
 "cells": [
  {
   "cell_type": "markdown",
   "metadata": {},
   "source": [
    "# Chapter 1 Problems"
   ]
  },
  {
   "cell_type": "code",
   "execution_count": 24,
   "metadata": {},
   "outputs": [],
   "source": [
    "# imports\n",
    "import numpy as np\n",
    "from importlib import reload\n",
    "\n",
    "import unyt\n",
    "\n",
    "from oceanpy import constants\n",
    "\n",
    "from os_classes.ocea257 import chapter1\n",
    "from os_classes import plotting as os_plotting\n",
    "\n",
    "\n",
    "from bokeh import plotting\n",
    "from bokeh import models"
   ]
  },
  {
   "cell_type": "markdown",
   "metadata": {},
   "source": [
    "# Analytic Problems"
   ]
  },
  {
   "cell_type": "markdown",
   "metadata": {},
   "source": [
    "## 1.1 Atmospheric Flows\n",
    "\n",
    "### Hurricane, sea breeze, convective cumulus currents"
   ]
  },
  {
   "cell_type": "markdown",
   "metadata": {},
   "source": [
    "## 1.2 Christopher Columbus!\n",
    "\n",
    "### At 30$^\\circ$N, the prevailing winds are to the West  (Steward Figure 4.2)\n",
    "\n",
    "### This is also true of the ocean current (perhaps closer to 20$^\\circ$N)"
   ]
  },
  {
   "cell_type": "markdown",
   "metadata": {},
   "source": [
    "## 1.3 Sea breeze\n",
    "\n",
    "### Given that the sea-breeze has coherence on ~day long time scales, rotation should be considered."
   ]
  },
  {
   "cell_type": "markdown",
   "metadata": {},
   "source": [
    "## 1.4 Red spot of Jupiter"
   ]
  },
  {
   "cell_type": "markdown",
   "metadata": {},
   "source": [
    "### Inputs"
   ]
  },
  {
   "cell_type": "code",
   "execution_count": 8,
   "metadata": {},
   "outputs": [],
   "source": [
    "# Red spot\n",
    "U = 100*unyt.m/unyt.s\n",
    "pos_Lat = 22 * unyt.deg\n",
    "dLat = 12 * unyt.deg\n",
    "dLon = 25 * unyt.deg\n",
    "# Jupiter\n",
    "R_J = 71400 * unyt.km\n",
    "Omega_J = 1.763e-4 / unyt.s"
   ]
  },
  {
   "cell_type": "markdown",
   "metadata": {},
   "source": [
    "### Physical size of the spot\n",
    "\n",
    "$D_{\\rm Lat} = 2 \\pi R_J \\; \\frac{\\theta}{360^\\circ}$\n",
    "\n",
    "$D_{\\rm Lon} = 2 \\pi R_C \\; \\frac{\\theta}{360^\\circ}$\n",
    "\n",
    "with \n",
    "\n",
    "$R_C = R_J \\cos(\\theta)$ and $\\theta = 22^\\circ$S"
   ]
  },
  {
   "cell_type": "code",
   "execution_count": 7,
   "metadata": {},
   "outputs": [
    {
     "data": {
      "text/plain": [
       "unyt_quantity(14953.98103109, 'km')"
      ]
     },
     "execution_count": 7,
     "metadata": {},
     "output_type": "execute_result"
    }
   ],
   "source": [
    "DLat = 2 * np.pi * R_J * dLat / (360*unyt.deg)\n",
    "DLat.to('km')"
   ]
  },
  {
   "cell_type": "code",
   "execution_count": 10,
   "metadata": {},
   "outputs": [
    {
     "data": {
      "text/plain": [
       "unyt_quantity(66200.92721607, 'km')"
      ]
     },
     "execution_count": 10,
     "metadata": {},
     "output_type": "execute_result"
    }
   ],
   "source": [
    "R_C = R_J * np.cos(pos_Lat) # Radius of the circle at 22deg S\n",
    "R_C.to('km')"
   ]
  },
  {
   "cell_type": "code",
   "execution_count": 11,
   "metadata": {},
   "outputs": [
    {
     "data": {
      "text/plain": [
       "unyt_quantity(28885.60369484, 'km')"
      ]
     },
     "execution_count": 11,
     "metadata": {},
     "output_type": "execute_result"
    }
   ],
   "source": [
    "DLon = 2 * np.pi * R_C * dLon / (360*unyt.deg)\n",
    "DLon"
   ]
  },
  {
   "cell_type": "code",
   "execution_count": 19,
   "metadata": {},
   "outputs": [
    {
     "data": {
      "text/plain": [
       "unyt_quantity(21919.79236296, 'km')"
      ]
     },
     "execution_count": 19,
     "metadata": {},
     "output_type": "execute_result"
    }
   ],
   "source": [
    "L = (DLon+DLat)/2.\n",
    "L"
   ]
  },
  {
   "cell_type": "markdown",
   "metadata": {},
   "source": [
    "### Rossby number\n",
    "\n",
    "$\\epsilon = \\frac{2 \\pi U}{\\Omega L}$"
   ]
  },
  {
   "cell_type": "code",
   "execution_count": 20,
   "metadata": {},
   "outputs": [
    {
     "data": {
      "text/plain": [
       "unyt_quantity(0.16258899, '(dimensionless)')"
      ]
     },
     "execution_count": 20,
     "metadata": {},
     "output_type": "execute_result"
    }
   ],
   "source": [
    "epsilon = (2 *np.pi * U) / (Omega_J * L)\n",
    "epsilon"
   ]
  },
  {
   "cell_type": "markdown",
   "metadata": {},
   "source": [
    "### As $\\epsilon \\lesssim 1$, rotation has influence. "
   ]
  },
  {
   "cell_type": "markdown",
   "metadata": {},
   "source": [
    "## 1.5 Wind speeds without a rotating component\n",
    "\n",
    "\n",
    "### Seems trivial, but a drifter with a GPS; weather balloon with a GPS"
   ]
  },
  {
   "cell_type": "markdown",
   "metadata": {},
   "source": [
    "----"
   ]
  },
  {
   "cell_type": "markdown",
   "metadata": {},
   "source": [
    "# Numerical Exercises"
   ]
  },
  {
   "cell_type": "markdown",
   "metadata": {},
   "source": [
    "## 1.1 Temperatures"
   ]
  },
  {
   "cell_type": "markdown",
   "metadata": {},
   "source": [
    "### a. Nansen"
   ]
  },
  {
   "cell_type": "code",
   "execution_count": 35,
   "metadata": {},
   "outputs": [],
   "source": [
    "z_Nansen = [0., 100, 200., 300., 500., 1000., 1500., 2000.]*unyt.m\n",
    "T_Nansen = [-1.5, -0.75, 0., 0.25, 0.2, 0., -0.4, -0.7] * unyt.degree_celsius"
   ]
  },
  {
   "cell_type": "markdown",
   "metadata": {},
   "source": [
    "### Typical values are $\\approx 0^\\circ$C"
   ]
  },
  {
   "cell_type": "code",
   "execution_count": 44,
   "metadata": {},
   "outputs": [
    {
     "data": {
      "text/plain": [
       "unyt_array([ 7.5 ,  7.5 ,  2.5 , -0.25, -0.4 , -0.8 , -0.6 ], 'C/km')"
      ]
     },
     "execution_count": 44,
     "metadata": {},
     "output_type": "execute_result"
    }
   ],
   "source": [
    "dz_Nansen = z_Nansen-np.roll(z_Nansen,1)\n",
    "dT_Nansen = T_Nansen - np.roll(T_Nansen,1)\n",
    "dTdz_Nansen = dT_Nansen[1:].value/dz_Nansen[1:]\n",
    "(dTdz_Nansen * unyt.C).to('C/km')"
   ]
  },
  {
   "cell_type": "markdown",
   "metadata": {},
   "source": [
    "### Typical $dT/dz$ are $\\approx 1-10^\\circ$C/km"
   ]
  },
  {
   "cell_type": "markdown",
   "metadata": {},
   "source": [
    "### b. Mediterranean"
   ]
  },
  {
   "cell_type": "code",
   "execution_count": 45,
   "metadata": {},
   "outputs": [],
   "source": [
    "z_Med = [0., 50., 100, 200., 300., 500., 700., 1000.]*unyt.m\n",
    "T_Med = [19., 16., 14.5, 13.2, 13.3, 13.1, 13.1, 13.] * unyt.degree_celsius"
   ]
  },
  {
   "cell_type": "code",
   "execution_count": 46,
   "metadata": {},
   "outputs": [
    {
     "data": {
      "text/plain": [
       "unyt_array([-60.        , -30.        , -13.        ,   1.        ,\n",
       "             -1.        ,   0.        ,  -0.33333333], 'C/km')"
      ]
     },
     "execution_count": 46,
     "metadata": {},
     "output_type": "execute_result"
    }
   ],
   "source": [
    "dz_Med = z_Med-np.roll(z_Med,1)\n",
    "dT_Med = T_Med - np.roll(T_Med,1)\n",
    "dTdz_Med = dT_Med[1:].value/dz_Med[1:]\n",
    "(dTdz_Med * unyt.C).to('C/km')"
   ]
  },
  {
   "cell_type": "markdown",
   "metadata": {},
   "source": [
    "### Typical values are 13$^\\circ$C and $dT/dz \\approx 30^\\circ$C/km initiall and then nearly 0."
   ]
  },
  {
   "cell_type": "markdown",
   "metadata": {},
   "source": [
    "----"
   ]
  },
  {
   "cell_type": "markdown",
   "metadata": {},
   "source": [
    "## 1.2\n",
    "\n",
    "$f = \\exp [-\\omega (t + |t|)]$"
   ]
  },
  {
   "cell_type": "code",
   "execution_count": 4,
   "metadata": {},
   "outputs": [],
   "source": [
    "omega = 1. # Arbitrary\n"
   ]
  },
  {
   "cell_type": "markdown",
   "metadata": {},
   "source": [
    "### First-order, forward\n",
    "\n",
    "$\\frac{df}{dt}_{ff} = \\frac{f^{n+1} - f^n}{\\Delta t}$\n",
    "\n",
    "### First-order, backward\n",
    "\n",
    "$\\frac{df}{dt}_{fb} = \\frac{f^{n} - f^{n-1}}{\\Delta t}$\n",
    "\n",
    "### Second-order, center\n",
    "\n",
    "$\\frac{df}{dt}_{sc} = \\frac{f^{n+1} - f^{n-1}}{2 \\Delta t}$"
   ]
  },
  {
   "cell_type": "markdown",
   "metadata": {},
   "source": [
    "$t = 1/\\omega$"
   ]
  },
  {
   "cell_type": "code",
   "execution_count": 13,
   "metadata": {},
   "outputs": [
    {
     "name": "stdout",
     "output_type": "stream",
     "text": [
      "wdt=0.1, dfdt_ff=-0.24532124874278832, dfdt_fb=-0.2996360498497383, dfdt_sc=-0.2724786492962633\n",
      "wdt=0.01, dfdt_ff=-0.26798181564909873, dfdt_fb=-0.27339540742801205, dfdt_sc=-0.2706886115385554\n",
      "wdt=0.001, dfdt_ff=-0.27040007626358276, dfdt_fb=-0.2709414175769975, dfdt_sc=-0.27067074692029014\n"
     ]
    }
   ],
   "source": [
    "reload(chapter1)\n",
    "t_eval = 1./omega\n",
    "for wdt in [0.1, 0.01, 0.001]:\n",
    "    dfdt_ff = chapter1.first_forward(t_eval, wdt, omega=omega)\n",
    "    dfdt_fb = chapter1.first_backward(t_eval, wdt, omega=omega)\n",
    "    dfdt_sc = chapter1.second_centered(t_eval, wdt, omega=omega)\n",
    "    print(\"wdt={}, dfdt_ff={}, dfdt_fb={}, dfdt_sc={}\".format(wdt, dfdt_ff, dfdt_fb, dfdt_sc))"
   ]
  },
  {
   "cell_type": "markdown",
   "metadata": {},
   "source": [
    "### $t = 0.000001/\\omega$"
   ]
  },
  {
   "cell_type": "code",
   "execution_count": 15,
   "metadata": {},
   "outputs": [
    {
     "name": "stdout",
     "output_type": "stream",
     "text": [
      "wdt=0.1, dfdt_ff=-1.8126888438388689, dfdt_fb=-1.9999979999907325e-05, dfdt_sc=-0.9063544219094344\n",
      "wdt=0.01, dfdt_ff=-1.9801287090630892, dfdt_fb=-0.00019999979999907325, dfdt_sc=-0.9901643544315442\n",
      "wdt=0.001, dfdt_ff=-1.997997336668278, dfdt_fb=-0.0019999979999907325, dfdt_sc=-0.9999986673341343\n",
      "wdt=1e-06, dfdt_ff=-1.999993999968197, dfdt_fb=-1.9999979999907325, dfdt_sc=-1.9999959999794648\n"
     ]
    }
   ],
   "source": [
    "reload(chapter1)\n",
    "t_eval = 1e-6/omega\n",
    "for wdt in [0.1, 0.01, 0.001, 1e-6]:\n",
    "    dfdt_ff = chapter1.first_forward(t_eval, wdt, omega=omega)\n",
    "    dfdt_fb = chapter1.first_backward(t_eval, wdt, omega=omega)\n",
    "    dfdt_sc = chapter1.second_centered(t_eval, wdt, omega=omega)\n",
    "    print(\"wdt={}, dfdt_ff={}, dfdt_fb={}, dfdt_sc={}\".format(wdt, dfdt_ff, dfdt_fb, dfdt_sc))"
   ]
  },
  {
   "cell_type": "markdown",
   "metadata": {},
   "source": [
    "### The forward evaluation is the most stable accurate of the discontinuity in this function"
   ]
  },
  {
   "cell_type": "markdown",
   "metadata": {},
   "source": [
    "## 1.3  \n",
    "\n",
    "$\\sinh(kx)$"
   ]
  },
  {
   "cell_type": "code",
   "execution_count": 64,
   "metadata": {},
   "outputs": [],
   "source": [
    "kdx_vals = 10**(np.linspace(-4., 0., 50))"
   ]
  },
  {
   "cell_type": "code",
   "execution_count": 65,
   "metadata": {},
   "outputs": [],
   "source": [
    "k = 1."
   ]
  },
  {
   "cell_type": "markdown",
   "metadata": {},
   "source": [
    "### $x = 1/k$"
   ]
  },
  {
   "cell_type": "code",
   "execution_count": 66,
   "metadata": {},
   "outputs": [
    {
     "data": {
      "text/plain": [
       "1.5430806348152437"
      ]
     },
     "execution_count": 66,
     "metadata": {},
     "output_type": "execute_result"
    }
   ],
   "source": [
    "# Exact\n",
    "x = 1./k\n",
    "exact = np.cosh(k*x)\n",
    "exact"
   ]
  },
  {
   "cell_type": "markdown",
   "metadata": {},
   "source": [
    "#### Evaluate them"
   ]
  },
  {
   "cell_type": "code",
   "execution_count": 67,
   "metadata": {},
   "outputs": [],
   "source": [
    "reload(chapter1)\n",
    "x = 1./k\n",
    "# Forward\n",
    "dfdx_ff = chapter1.sinh_first_forward(x, kdx_vals, k)\n",
    "error_ff = np.abs(dfdx_ff-exact)/exact\n",
    "# Backward\n",
    "dfdx_fb = chapter1.sinh_first_backward(x, kdx_vals, k)\n",
    "error_fb = np.abs(dfdx_fb-exact)/exact\n",
    "# Second\n",
    "dfdx_sc = chapter1.sinh_second_center(x, kdx_vals, k)\n",
    "error_sc = np.abs(dfdx_sc-exact)/exact\n",
    "# Fourth\n",
    "dfdx_4 = chapter1.sinh_fourth(x, kdx_vals, k)\n",
    "error_4 = np.abs(dfdx_4-exact)/exact"
   ]
  },
  {
   "cell_type": "markdown",
   "metadata": {},
   "source": [
    "#### Plot them"
   ]
  },
  {
   "cell_type": "code",
   "execution_count": 68,
   "metadata": {},
   "outputs": [
    {
     "data": {
      "text/html": [
       "\n",
       "    <div class=\"bk-root\">\n",
       "        <a href=\"https://bokeh.org\" target=\"_blank\" class=\"bk-logo bk-logo-small bk-logo-notebook\"></a>\n",
       "        <span id=\"6207\">Loading BokehJS ...</span>\n",
       "    </div>"
      ]
     },
     "metadata": {},
     "output_type": "display_data"
    },
    {
     "data": {
      "application/javascript": [
       "\n",
       "(function(root) {\n",
       "  function now() {\n",
       "    return new Date();\n",
       "  }\n",
       "\n",
       "  var force = true;\n",
       "\n",
       "  if (typeof root._bokeh_onload_callbacks === \"undefined\" || force === true) {\n",
       "    root._bokeh_onload_callbacks = [];\n",
       "    root._bokeh_is_loading = undefined;\n",
       "  }\n",
       "\n",
       "  var JS_MIME_TYPE = 'application/javascript';\n",
       "  var HTML_MIME_TYPE = 'text/html';\n",
       "  var EXEC_MIME_TYPE = 'application/vnd.bokehjs_exec.v0+json';\n",
       "  var CLASS_NAME = 'output_bokeh rendered_html';\n",
       "\n",
       "  /**\n",
       "   * Render data to the DOM node\n",
       "   */\n",
       "  function render(props, node) {\n",
       "    var script = document.createElement(\"script\");\n",
       "    node.appendChild(script);\n",
       "  }\n",
       "\n",
       "  /**\n",
       "   * Handle when an output is cleared or removed\n",
       "   */\n",
       "  function handleClearOutput(event, handle) {\n",
       "    var cell = handle.cell;\n",
       "\n",
       "    var id = cell.output_area._bokeh_element_id;\n",
       "    var server_id = cell.output_area._bokeh_server_id;\n",
       "    // Clean up Bokeh references\n",
       "    if (id != null && id in Bokeh.index) {\n",
       "      Bokeh.index[id].model.document.clear();\n",
       "      delete Bokeh.index[id];\n",
       "    }\n",
       "\n",
       "    if (server_id !== undefined) {\n",
       "      // Clean up Bokeh references\n",
       "      var cmd = \"from bokeh.io.state import curstate; print(curstate().uuid_to_server['\" + server_id + \"'].get_sessions()[0].document.roots[0]._id)\";\n",
       "      cell.notebook.kernel.execute(cmd, {\n",
       "        iopub: {\n",
       "          output: function(msg) {\n",
       "            var id = msg.content.text.trim();\n",
       "            if (id in Bokeh.index) {\n",
       "              Bokeh.index[id].model.document.clear();\n",
       "              delete Bokeh.index[id];\n",
       "            }\n",
       "          }\n",
       "        }\n",
       "      });\n",
       "      // Destroy server and session\n",
       "      var cmd = \"import bokeh.io.notebook as ion; ion.destroy_server('\" + server_id + \"')\";\n",
       "      cell.notebook.kernel.execute(cmd);\n",
       "    }\n",
       "  }\n",
       "\n",
       "  /**\n",
       "   * Handle when a new output is added\n",
       "   */\n",
       "  function handleAddOutput(event, handle) {\n",
       "    var output_area = handle.output_area;\n",
       "    var output = handle.output;\n",
       "\n",
       "    // limit handleAddOutput to display_data with EXEC_MIME_TYPE content only\n",
       "    if ((output.output_type != \"display_data\") || (!output.data.hasOwnProperty(EXEC_MIME_TYPE))) {\n",
       "      return\n",
       "    }\n",
       "\n",
       "    var toinsert = output_area.element.find(\".\" + CLASS_NAME.split(' ')[0]);\n",
       "\n",
       "    if (output.metadata[EXEC_MIME_TYPE][\"id\"] !== undefined) {\n",
       "      toinsert[toinsert.length - 1].firstChild.textContent = output.data[JS_MIME_TYPE];\n",
       "      // store reference to embed id on output_area\n",
       "      output_area._bokeh_element_id = output.metadata[EXEC_MIME_TYPE][\"id\"];\n",
       "    }\n",
       "    if (output.metadata[EXEC_MIME_TYPE][\"server_id\"] !== undefined) {\n",
       "      var bk_div = document.createElement(\"div\");\n",
       "      bk_div.innerHTML = output.data[HTML_MIME_TYPE];\n",
       "      var script_attrs = bk_div.children[0].attributes;\n",
       "      for (var i = 0; i < script_attrs.length; i++) {\n",
       "        toinsert[toinsert.length - 1].firstChild.setAttribute(script_attrs[i].name, script_attrs[i].value);\n",
       "      }\n",
       "      // store reference to server id on output_area\n",
       "      output_area._bokeh_server_id = output.metadata[EXEC_MIME_TYPE][\"server_id\"];\n",
       "    }\n",
       "  }\n",
       "\n",
       "  function register_renderer(events, OutputArea) {\n",
       "\n",
       "    function append_mime(data, metadata, element) {\n",
       "      // create a DOM node to render to\n",
       "      var toinsert = this.create_output_subarea(\n",
       "        metadata,\n",
       "        CLASS_NAME,\n",
       "        EXEC_MIME_TYPE\n",
       "      );\n",
       "      this.keyboard_manager.register_events(toinsert);\n",
       "      // Render to node\n",
       "      var props = {data: data, metadata: metadata[EXEC_MIME_TYPE]};\n",
       "      render(props, toinsert[toinsert.length - 1]);\n",
       "      element.append(toinsert);\n",
       "      return toinsert\n",
       "    }\n",
       "\n",
       "    /* Handle when an output is cleared or removed */\n",
       "    events.on('clear_output.CodeCell', handleClearOutput);\n",
       "    events.on('delete.Cell', handleClearOutput);\n",
       "\n",
       "    /* Handle when a new output is added */\n",
       "    events.on('output_added.OutputArea', handleAddOutput);\n",
       "\n",
       "    /**\n",
       "     * Register the mime type and append_mime function with output_area\n",
       "     */\n",
       "    OutputArea.prototype.register_mime_type(EXEC_MIME_TYPE, append_mime, {\n",
       "      /* Is output safe? */\n",
       "      safe: true,\n",
       "      /* Index of renderer in `output_area.display_order` */\n",
       "      index: 0\n",
       "    });\n",
       "  }\n",
       "\n",
       "  // register the mime type if in Jupyter Notebook environment and previously unregistered\n",
       "  if (root.Jupyter !== undefined) {\n",
       "    var events = require('base/js/events');\n",
       "    var OutputArea = require('notebook/js/outputarea').OutputArea;\n",
       "\n",
       "    if (OutputArea.prototype.mime_types().indexOf(EXEC_MIME_TYPE) == -1) {\n",
       "      register_renderer(events, OutputArea);\n",
       "    }\n",
       "  }\n",
       "\n",
       "  \n",
       "  if (typeof (root._bokeh_timeout) === \"undefined\" || force === true) {\n",
       "    root._bokeh_timeout = Date.now() + 5000;\n",
       "    root._bokeh_failed_load = false;\n",
       "  }\n",
       "\n",
       "  var NB_LOAD_WARNING = {'data': {'text/html':\n",
       "     \"<div style='background-color: #fdd'>\\n\"+\n",
       "     \"<p>\\n\"+\n",
       "     \"BokehJS does not appear to have successfully loaded. If loading BokehJS from CDN, this \\n\"+\n",
       "     \"may be due to a slow or bad network connection. Possible fixes:\\n\"+\n",
       "     \"</p>\\n\"+\n",
       "     \"<ul>\\n\"+\n",
       "     \"<li>re-rerun `output_notebook()` to attempt to load from CDN again, or</li>\\n\"+\n",
       "     \"<li>use INLINE resources instead, as so:</li>\\n\"+\n",
       "     \"</ul>\\n\"+\n",
       "     \"<code>\\n\"+\n",
       "     \"from bokeh.resources import INLINE\\n\"+\n",
       "     \"output_notebook(resources=INLINE)\\n\"+\n",
       "     \"</code>\\n\"+\n",
       "     \"</div>\"}};\n",
       "\n",
       "  function display_loaded() {\n",
       "    var el = document.getElementById(\"6207\");\n",
       "    if (el != null) {\n",
       "      el.textContent = \"BokehJS is loading...\";\n",
       "    }\n",
       "    if (root.Bokeh !== undefined) {\n",
       "      if (el != null) {\n",
       "        el.textContent = \"BokehJS \" + root.Bokeh.version + \" successfully loaded.\";\n",
       "      }\n",
       "    } else if (Date.now() < root._bokeh_timeout) {\n",
       "      setTimeout(display_loaded, 100)\n",
       "    }\n",
       "  }\n",
       "\n",
       "\n",
       "  function run_callbacks() {\n",
       "    try {\n",
       "      root._bokeh_onload_callbacks.forEach(function(callback) {\n",
       "        if (callback != null)\n",
       "          callback();\n",
       "      });\n",
       "    } finally {\n",
       "      delete root._bokeh_onload_callbacks\n",
       "    }\n",
       "    console.debug(\"Bokeh: all callbacks have finished\");\n",
       "  }\n",
       "\n",
       "  function load_libs(css_urls, js_urls, callback) {\n",
       "    if (css_urls == null) css_urls = [];\n",
       "    if (js_urls == null) js_urls = [];\n",
       "\n",
       "    root._bokeh_onload_callbacks.push(callback);\n",
       "    if (root._bokeh_is_loading > 0) {\n",
       "      console.debug(\"Bokeh: BokehJS is being loaded, scheduling callback at\", now());\n",
       "      return null;\n",
       "    }\n",
       "    if (js_urls == null || js_urls.length === 0) {\n",
       "      run_callbacks();\n",
       "      return null;\n",
       "    }\n",
       "    console.debug(\"Bokeh: BokehJS not loaded, scheduling load and callback at\", now());\n",
       "    root._bokeh_is_loading = css_urls.length + js_urls.length;\n",
       "\n",
       "    function on_load() {\n",
       "      root._bokeh_is_loading--;\n",
       "      if (root._bokeh_is_loading === 0) {\n",
       "        console.debug(\"Bokeh: all BokehJS libraries/stylesheets loaded\");\n",
       "        run_callbacks()\n",
       "      }\n",
       "    }\n",
       "\n",
       "    function on_error() {\n",
       "      console.error(\"failed to load \" + url);\n",
       "    }\n",
       "\n",
       "    for (var i = 0; i < css_urls.length; i++) {\n",
       "      var url = css_urls[i];\n",
       "      const element = document.createElement(\"link\");\n",
       "      element.onload = on_load;\n",
       "      element.onerror = on_error;\n",
       "      element.rel = \"stylesheet\";\n",
       "      element.type = \"text/css\";\n",
       "      element.href = url;\n",
       "      console.debug(\"Bokeh: injecting link tag for BokehJS stylesheet: \", url);\n",
       "      document.body.appendChild(element);\n",
       "    }\n",
       "\n",
       "    for (var i = 0; i < js_urls.length; i++) {\n",
       "      var url = js_urls[i];\n",
       "      var element = document.createElement('script');\n",
       "      element.onload = on_load;\n",
       "      element.onerror = on_error;\n",
       "      element.async = false;\n",
       "      element.src = url;\n",
       "      console.debug(\"Bokeh: injecting script tag for BokehJS library: \", url);\n",
       "      document.head.appendChild(element);\n",
       "    }\n",
       "  };var element = document.getElementById(\"6207\");\n",
       "  if (element == null) {\n",
       "    console.error(\"Bokeh: ERROR: autoload.js configured with elementid '6207' but no matching script tag was found. \")\n",
       "    return false;\n",
       "  }\n",
       "\n",
       "  function inject_raw_css(css) {\n",
       "    const element = document.createElement(\"style\");\n",
       "    element.appendChild(document.createTextNode(css));\n",
       "    document.body.appendChild(element);\n",
       "  }\n",
       "\n",
       "  \n",
       "  var js_urls = [\"https://cdn.pydata.org/bokeh/release/bokeh-1.4.0.min.js\", \"https://cdn.pydata.org/bokeh/release/bokeh-widgets-1.4.0.min.js\", \"https://cdn.pydata.org/bokeh/release/bokeh-tables-1.4.0.min.js\", \"https://cdn.pydata.org/bokeh/release/bokeh-gl-1.4.0.min.js\"];\n",
       "  var css_urls = [];\n",
       "  \n",
       "\n",
       "  var inline_js = [\n",
       "    function(Bokeh) {\n",
       "      Bokeh.set_log_level(\"info\");\n",
       "    },\n",
       "    function(Bokeh) {\n",
       "    \n",
       "    \n",
       "    }\n",
       "  ];\n",
       "\n",
       "  function run_inline_js() {\n",
       "    \n",
       "    if (root.Bokeh !== undefined || force === true) {\n",
       "      \n",
       "    for (var i = 0; i < inline_js.length; i++) {\n",
       "      inline_js[i].call(root, root.Bokeh);\n",
       "    }\n",
       "    if (force === true) {\n",
       "        display_loaded();\n",
       "      }} else if (Date.now() < root._bokeh_timeout) {\n",
       "      setTimeout(run_inline_js, 100);\n",
       "    } else if (!root._bokeh_failed_load) {\n",
       "      console.log(\"Bokeh: BokehJS failed to load within specified timeout.\");\n",
       "      root._bokeh_failed_load = true;\n",
       "    } else if (force !== true) {\n",
       "      var cell = $(document.getElementById(\"6207\")).parents('.cell').data().cell;\n",
       "      cell.output_area.append_execute_result(NB_LOAD_WARNING)\n",
       "    }\n",
       "\n",
       "  }\n",
       "\n",
       "  if (root._bokeh_is_loading === 0) {\n",
       "    console.debug(\"Bokeh: BokehJS loaded, going straight to plotting\");\n",
       "    run_inline_js();\n",
       "  } else {\n",
       "    load_libs(css_urls, js_urls, function() {\n",
       "      console.debug(\"Bokeh: BokehJS plotting callback run at\", now());\n",
       "      run_inline_js();\n",
       "    });\n",
       "  }\n",
       "}(window));"
      ],
      "application/vnd.bokehjs_load.v0+json": "\n(function(root) {\n  function now() {\n    return new Date();\n  }\n\n  var force = true;\n\n  if (typeof root._bokeh_onload_callbacks === \"undefined\" || force === true) {\n    root._bokeh_onload_callbacks = [];\n    root._bokeh_is_loading = undefined;\n  }\n\n  \n\n  \n  if (typeof (root._bokeh_timeout) === \"undefined\" || force === true) {\n    root._bokeh_timeout = Date.now() + 5000;\n    root._bokeh_failed_load = false;\n  }\n\n  var NB_LOAD_WARNING = {'data': {'text/html':\n     \"<div style='background-color: #fdd'>\\n\"+\n     \"<p>\\n\"+\n     \"BokehJS does not appear to have successfully loaded. If loading BokehJS from CDN, this \\n\"+\n     \"may be due to a slow or bad network connection. Possible fixes:\\n\"+\n     \"</p>\\n\"+\n     \"<ul>\\n\"+\n     \"<li>re-rerun `output_notebook()` to attempt to load from CDN again, or</li>\\n\"+\n     \"<li>use INLINE resources instead, as so:</li>\\n\"+\n     \"</ul>\\n\"+\n     \"<code>\\n\"+\n     \"from bokeh.resources import INLINE\\n\"+\n     \"output_notebook(resources=INLINE)\\n\"+\n     \"</code>\\n\"+\n     \"</div>\"}};\n\n  function display_loaded() {\n    var el = document.getElementById(\"6207\");\n    if (el != null) {\n      el.textContent = \"BokehJS is loading...\";\n    }\n    if (root.Bokeh !== undefined) {\n      if (el != null) {\n        el.textContent = \"BokehJS \" + root.Bokeh.version + \" successfully loaded.\";\n      }\n    } else if (Date.now() < root._bokeh_timeout) {\n      setTimeout(display_loaded, 100)\n    }\n  }\n\n\n  function run_callbacks() {\n    try {\n      root._bokeh_onload_callbacks.forEach(function(callback) {\n        if (callback != null)\n          callback();\n      });\n    } finally {\n      delete root._bokeh_onload_callbacks\n    }\n    console.debug(\"Bokeh: all callbacks have finished\");\n  }\n\n  function load_libs(css_urls, js_urls, callback) {\n    if (css_urls == null) css_urls = [];\n    if (js_urls == null) js_urls = [];\n\n    root._bokeh_onload_callbacks.push(callback);\n    if (root._bokeh_is_loading > 0) {\n      console.debug(\"Bokeh: BokehJS is being loaded, scheduling callback at\", now());\n      return null;\n    }\n    if (js_urls == null || js_urls.length === 0) {\n      run_callbacks();\n      return null;\n    }\n    console.debug(\"Bokeh: BokehJS not loaded, scheduling load and callback at\", now());\n    root._bokeh_is_loading = css_urls.length + js_urls.length;\n\n    function on_load() {\n      root._bokeh_is_loading--;\n      if (root._bokeh_is_loading === 0) {\n        console.debug(\"Bokeh: all BokehJS libraries/stylesheets loaded\");\n        run_callbacks()\n      }\n    }\n\n    function on_error() {\n      console.error(\"failed to load \" + url);\n    }\n\n    for (var i = 0; i < css_urls.length; i++) {\n      var url = css_urls[i];\n      const element = document.createElement(\"link\");\n      element.onload = on_load;\n      element.onerror = on_error;\n      element.rel = \"stylesheet\";\n      element.type = \"text/css\";\n      element.href = url;\n      console.debug(\"Bokeh: injecting link tag for BokehJS stylesheet: \", url);\n      document.body.appendChild(element);\n    }\n\n    for (var i = 0; i < js_urls.length; i++) {\n      var url = js_urls[i];\n      var element = document.createElement('script');\n      element.onload = on_load;\n      element.onerror = on_error;\n      element.async = false;\n      element.src = url;\n      console.debug(\"Bokeh: injecting script tag for BokehJS library: \", url);\n      document.head.appendChild(element);\n    }\n  };var element = document.getElementById(\"6207\");\n  if (element == null) {\n    console.error(\"Bokeh: ERROR: autoload.js configured with elementid '6207' but no matching script tag was found. \")\n    return false;\n  }\n\n  function inject_raw_css(css) {\n    const element = document.createElement(\"style\");\n    element.appendChild(document.createTextNode(css));\n    document.body.appendChild(element);\n  }\n\n  \n  var js_urls = [\"https://cdn.pydata.org/bokeh/release/bokeh-1.4.0.min.js\", \"https://cdn.pydata.org/bokeh/release/bokeh-widgets-1.4.0.min.js\", \"https://cdn.pydata.org/bokeh/release/bokeh-tables-1.4.0.min.js\", \"https://cdn.pydata.org/bokeh/release/bokeh-gl-1.4.0.min.js\"];\n  var css_urls = [];\n  \n\n  var inline_js = [\n    function(Bokeh) {\n      Bokeh.set_log_level(\"info\");\n    },\n    function(Bokeh) {\n    \n    \n    }\n  ];\n\n  function run_inline_js() {\n    \n    if (root.Bokeh !== undefined || force === true) {\n      \n    for (var i = 0; i < inline_js.length; i++) {\n      inline_js[i].call(root, root.Bokeh);\n    }\n    if (force === true) {\n        display_loaded();\n      }} else if (Date.now() < root._bokeh_timeout) {\n      setTimeout(run_inline_js, 100);\n    } else if (!root._bokeh_failed_load) {\n      console.log(\"Bokeh: BokehJS failed to load within specified timeout.\");\n      root._bokeh_failed_load = true;\n    } else if (force !== true) {\n      var cell = $(document.getElementById(\"6207\")).parents('.cell').data().cell;\n      cell.output_area.append_execute_result(NB_LOAD_WARNING)\n    }\n\n  }\n\n  if (root._bokeh_is_loading === 0) {\n    console.debug(\"Bokeh: BokehJS loaded, going straight to plotting\");\n    run_inline_js();\n  } else {\n    load_libs(css_urls, js_urls, function() {\n      console.debug(\"Bokeh: BokehJS plotting callback run at\", now());\n      run_inline_js();\n    });\n  }\n}(window));"
     },
     "metadata": {},
     "output_type": "display_data"
    },
    {
     "name": "stderr",
     "output_type": "stream",
     "text": [
      "BokehDeprecationWarning: 'legend' keyword is deprecated, use explicit 'legend_label', 'legend_field', or 'legend_group' keywords instead\n",
      "BokehDeprecationWarning: 'legend' keyword is deprecated, use explicit 'legend_label', 'legend_field', or 'legend_group' keywords instead\n",
      "BokehDeprecationWarning: 'legend' keyword is deprecated, use explicit 'legend_label', 'legend_field', or 'legend_group' keywords instead\n",
      "BokehDeprecationWarning: 'legend' keyword is deprecated, use explicit 'legend_label', 'legend_field', or 'legend_group' keywords instead\n"
     ]
    },
    {
     "data": {
      "text/html": [
       "\n",
       "\n",
       "\n",
       "\n",
       "\n",
       "\n",
       "  <div class=\"bk-root\" id=\"fbc2704a-fcad-41d4-8716-63be6b5da82b\" data-root-id=\"6208\"></div>\n"
      ]
     },
     "metadata": {},
     "output_type": "display_data"
    },
    {
     "data": {
      "application/javascript": [
       "(function(root) {\n",
       "  function embed_document(root) {\n",
       "    \n",
       "  var docs_json = {\"bc192d7c-bd62-44bc-8e43-45776c556dad\":{\"roots\":{\"references\":[{\"attributes\":{\"below\":[{\"id\":\"6219\",\"type\":\"LogAxis\"}],\"center\":[{\"id\":\"6223\",\"type\":\"Grid\"},{\"id\":\"6228\",\"type\":\"Grid\"},{\"id\":\"6253\",\"type\":\"Legend\"}],\"left\":[{\"id\":\"6224\",\"type\":\"LogAxis\"}],\"renderers\":[{\"id\":\"6245\",\"type\":\"GlyphRenderer\"},{\"id\":\"6258\",\"type\":\"GlyphRenderer\"},{\"id\":\"6272\",\"type\":\"GlyphRenderer\"},{\"id\":\"6288\",\"type\":\"GlyphRenderer\"}],\"title\":{\"id\":\"6209\",\"type\":\"Title\"},\"toolbar\":{\"id\":\"6235\",\"type\":\"Toolbar\"},\"x_range\":{\"id\":\"6211\",\"type\":\"Range1d\"},\"x_scale\":{\"id\":\"6215\",\"type\":\"LogScale\"},\"y_range\":{\"id\":\"6213\",\"type\":\"Range1d\"},\"y_scale\":{\"id\":\"6217\",\"type\":\"LogScale\"}},\"id\":\"6208\",\"subtype\":\"Figure\",\"type\":\"Plot\"},{\"attributes\":{\"items\":[{\"id\":\"6254\",\"type\":\"LegendItem\"},{\"id\":\"6268\",\"type\":\"LegendItem\"},{\"id\":\"6284\",\"type\":\"LegendItem\"},{\"id\":\"6302\",\"type\":\"LegendItem\"}],\"location\":\"top_left\"},\"id\":\"6253\",\"type\":\"Legend\"},{\"attributes\":{\"ticker\":{\"id\":\"6220\",\"type\":\"LogTicker\"}},\"id\":\"6223\",\"type\":\"Grid\"},{\"attributes\":{\"ticker\":null},\"id\":\"6251\",\"type\":\"LogTickFormatter\"},{\"attributes\":{},\"id\":\"6266\",\"type\":\"Selection\"},{\"attributes\":{},\"id\":\"6283\",\"type\":\"UnionRenderers\"},{\"attributes\":{\"axis_label\":\"kdx\",\"axis_label_text_font_size\":{\"value\":\"16pt\"},\"formatter\":{\"id\":\"6249\",\"type\":\"LogTickFormatter\"},\"major_label_text_font_size\":{\"value\":\"16pt\"},\"ticker\":{\"id\":\"6220\",\"type\":\"LogTicker\"}},\"id\":\"6219\",\"type\":\"LogAxis\"},{\"attributes\":{\"callback\":null,\"data\":{\"x\":{\"__ndarray__\":\"LUMc6+I2Gj8ga0f4paIfP9JzBdGxFiM/UvKXIToJJz8tW6TwuswrP34qSXY1xjA/xCISOTg+ND9UPulP3W04P0lDoR4eez0/cKtyLOfJQT+OQ/rcnXdFPywvAdoR6Ek/r60gb4hDTz/Cim5lTd1SP2GPM233w1Y/fyL3pyV5Wz+cq3BrxpNgP4hIo0VbAWQ/1ZvTVWokaD/6wVTTeiJtP6KWilRrlHE/nGC5pRI3dT/Js53BLZp5P8Lmtd+I5X4/S5lTiJWkgj+jc0D2hH+GPzZKu6yLJos/MjooA+9hkD8qHSlQNcWTP5rGGDHU25c/5ZERCOLKnD+PbsRKkF+hP+LYdH1J96Q/RTt22TNNqT8LcDXuo4iuPzDb5DKIbLI/K4ilSuA7tj9FyF4L6tS6P85Gh3WtMMA/w8RzMsSJwz/KlcJJGJTHP4YilJtQdMw/YmWlK1Qr0T9Y+rYcQLjUP3pZbWEhAdk/msjmSNYs3j92ampkIzXiPwQmpP8G+eU/tUgv2T2E6j8AAAAAAADwPw==\",\"dtype\":\"float64\",\"shape\":[50]},\"y\":{\"__ndarray__\":\"YlNLhOylHD4auGOlutkkPq/MdOdKXi4+1dhTmkYcNj6wQfgs4RlAPsGgtwqrckc+kdXGDv0SUT4yCU2nw91YPg1PdJVRG2I+K0XZS6Reaj7OUewmpzNzPpUhO/Xp9ns+TYlDCO9chD7OfyHK2aeNPlh2AqAwmJU+Nt17rPhynz7pCuKjguamPj1jON3trLA+hw3WlwxJuD7SX4mTGK/BPqpoSwMIwck+CbgyqeDA0j5xCktJwU/bPsbTFG444+M+Og9Oypn27D4hb0KnIRf1PqvBG90Jt/4+87bpX69dBj/A5OIZUkkQPxgaHxcJuBc/HPt6+o1FIT/qUyjDcCcpP7CGcWkoUTI/I1ajJ0+tOj/Dh+tBNG1DP779wVdOS0w/IZvBIAObVD9J6C0NlANeP9rLjuhi3GU/hVNjr0PZbz+ZELluJzR3P7xCIyzR6IA/153xrWCniD+2x32JVfuRP6KDRRYbQJo/yqUyInkuoz8BYO7GsxOsP3P1BSCrmLQ/nmXZ+MdRvj8YzHUi/mzGPw==\",\"dtype\":\"float64\",\"shape\":[50]}},\"selected\":{\"id\":\"6300\",\"type\":\"Selection\"},\"selection_policy\":{\"id\":\"6301\",\"type\":\"UnionRenderers\"}},\"id\":\"6269\",\"type\":\"ColumnDataSource\"},{\"attributes\":{},\"id\":\"6539\",\"type\":\"Selection\"},{\"attributes\":{\"label\":{\"value\":\"ff\"},\"renderers\":[{\"id\":\"6245\",\"type\":\"GlyphRenderer\"}]},\"id\":\"6254\",\"type\":\"LegendItem\"},{\"attributes\":{\"bottom_units\":\"screen\",\"fill_alpha\":{\"value\":0.5},\"fill_color\":{\"value\":\"lightgrey\"},\"left_units\":\"screen\",\"level\":\"overlay\",\"line_alpha\":{\"value\":1.0},\"line_color\":{\"value\":\"black\"},\"line_dash\":[4,4],\"line_width\":{\"value\":2},\"render_mode\":\"css\",\"right_units\":\"screen\",\"top_units\":\"screen\"},\"id\":\"6252\",\"type\":\"BoxAnnotation\"},{\"attributes\":{\"callback\":null,\"start\":0.0001},\"id\":\"6211\",\"type\":\"Range1d\"},{\"attributes\":{\"fill_alpha\":{\"value\":0.1},\"fill_color\":{\"value\":\"#1f77b4\"},\"line_alpha\":{\"value\":0.1},\"line_color\":{\"value\":\"#1f77b4\"},\"line_width\":{\"value\":2},\"x\":{\"field\":\"x\"},\"y\":{\"field\":\"y\"}},\"id\":\"6257\",\"type\":\"Scatter\"},{\"attributes\":{\"num_minor_ticks\":10},\"id\":\"6220\",\"type\":\"LogTicker\"},{\"attributes\":{\"text\":\"x=1/k\"},\"id\":\"6209\",\"type\":\"Title\"},{\"attributes\":{},\"id\":\"6232\",\"type\":\"SaveTool\"},{\"attributes\":{},\"id\":\"6217\",\"type\":\"LogScale\"},{\"attributes\":{\"dimension\":1,\"ticker\":{\"id\":\"6225\",\"type\":\"LogTicker\"}},\"id\":\"6228\",\"type\":\"Grid\"},{\"attributes\":{\"callback\":null,\"start\":1e-12},\"id\":\"6213\",\"type\":\"Range1d\"},{\"attributes\":{\"callback\":null,\"data\":{\"x\":{\"__ndarray__\":\"LUMc6+I2Gj8ga0f4paIfP9JzBdGxFiM/UvKXIToJJz8tW6TwuswrP34qSXY1xjA/xCISOTg+ND9UPulP3W04P0lDoR4eez0/cKtyLOfJQT+OQ/rcnXdFPywvAdoR6Ek/r60gb4hDTz/Cim5lTd1SP2GPM233w1Y/fyL3pyV5Wz+cq3BrxpNgP4hIo0VbAWQ/1ZvTVWokaD/6wVTTeiJtP6KWilRrlHE/nGC5pRI3dT/Js53BLZp5P8Lmtd+I5X4/S5lTiJWkgj+jc0D2hH+GPzZKu6yLJos/MjooA+9hkD8qHSlQNcWTP5rGGDHU25c/5ZERCOLKnD+PbsRKkF+hP+LYdH1J96Q/RTt22TNNqT8LcDXuo4iuPzDb5DKIbLI/K4ilSuA7tj9FyF4L6tS6P85Gh3WtMMA/w8RzMsSJwz/KlcJJGJTHP4YilJtQdMw/YmWlK1Qr0T9Y+rYcQLjUP3pZbWEhAdk/msjmSNYs3j92ampkIzXiPwQmpP8G+eU/tUgv2T2E6j8AAAAAAADwPw==\",\"dtype\":\"float64\",\"shape\":[50]},\"y\":{\"__ndarray__\":\"T0+RGjL3Az8JP8uNNRgIPyyodKbUEw0/92/So6OLET/eCC85kCwVP27UmxyfjRk/R2M8RpDWHj+W9IgMr5siP06gC/T4dCY/YxafohkaKz/BjZg5oVowP+3cg4+xvDM/DAXcYP3RNz80KMcGpb88P41KZsk+WUE/abPkC1bwRD/uG7rAy0VJP6CcSc0hgU4/GNpBAAtpUj+pSDi+LjlWP6kXB6Hf01o/wMm4x6gxYD/PRbzWS41jP6/JOoLFm2c/OlM+zY6CbD+IAnH/jDdxP16KZZVJzHQ/EKYW1QQheT89FD3xjl5+P63DOMJVW4I/wLDC+BMzhj+2409FvtuKP38BV6aIQZA/4Ix0Jrawkz9OUTXoSN6XP3fJBASf9Zw/6tSyJHiWoT/tr+0/OmSlPzdefOBRD6o/EscH4gPPrz/8hQX0U3WzP1afSGet37c/GiSQgxVkvT9x2WSYgirCP2qvo5ZnkcY/OkWGFJs0zD8Ok0yAK8HRP5eC9J8kjdY/gg02dwL13D948iVchNfiPw==\",\"dtype\":\"float64\",\"shape\":[50]}},\"selected\":{\"id\":\"6266\",\"type\":\"Selection\"},\"selection_policy\":{\"id\":\"6267\",\"type\":\"UnionRenderers\"}},\"id\":\"6242\",\"type\":\"ColumnDataSource\"},{\"attributes\":{\"data_source\":{\"id\":\"6242\",\"type\":\"ColumnDataSource\"},\"glyph\":{\"id\":\"6243\",\"type\":\"Scatter\"},\"hover_glyph\":null,\"muted_glyph\":null,\"nonselection_glyph\":{\"id\":\"6244\",\"type\":\"Scatter\"},\"selection_glyph\":null,\"view\":{\"id\":\"6246\",\"type\":\"CDSView\"}},\"id\":\"6245\",\"type\":\"GlyphRenderer\"},{\"attributes\":{\"axis_label\":\"Error\",\"axis_label_text_font_size\":{\"value\":\"16pt\"},\"formatter\":{\"id\":\"6251\",\"type\":\"LogTickFormatter\"},\"major_label_text_font_size\":{\"value\":\"16pt\"},\"ticker\":{\"id\":\"6225\",\"type\":\"LogTicker\"}},\"id\":\"6224\",\"type\":\"LogAxis\"},{\"attributes\":{\"label\":{\"value\":\"fb\"},\"renderers\":[{\"id\":\"6258\",\"type\":\"GlyphRenderer\"}]},\"id\":\"6268\",\"type\":\"LegendItem\"},{\"attributes\":{\"label\":{\"value\":\"sc\"},\"renderers\":[{\"id\":\"6272\",\"type\":\"GlyphRenderer\"}]},\"id\":\"6284\",\"type\":\"LegendItem\"},{\"attributes\":{\"label\":{\"value\":\"4\"},\"renderers\":[{\"id\":\"6288\",\"type\":\"GlyphRenderer\"}]},\"id\":\"6302\",\"type\":\"LegendItem\"},{\"attributes\":{\"fill_color\":{\"value\":\"#1f77b4\"},\"line_color\":{\"value\":\"#1f77b4\"},\"line_width\":{\"value\":2},\"x\":{\"field\":\"x\"},\"y\":{\"field\":\"y\"}},\"id\":\"6243\",\"type\":\"Scatter\"},{\"attributes\":{\"source\":{\"id\":\"6285\",\"type\":\"ColumnDataSource\"}},\"id\":\"6289\",\"type\":\"CDSView\"},{\"attributes\":{\"num_minor_ticks\":10},\"id\":\"6225\",\"type\":\"LogTicker\"},{\"attributes\":{\"ticker\":null},\"id\":\"6249\",\"type\":\"LogTickFormatter\"},{\"attributes\":{},\"id\":\"6234\",\"type\":\"HelpTool\"},{\"attributes\":{\"source\":{\"id\":\"6242\",\"type\":\"ColumnDataSource\"}},\"id\":\"6246\",\"type\":\"CDSView\"},{\"attributes\":{\"fill_alpha\":{\"value\":0.1},\"fill_color\":{\"value\":\"#1f77b4\"},\"line_alpha\":{\"value\":0.1},\"line_color\":{\"value\":\"#1f77b4\"},\"line_width\":{\"value\":2},\"x\":{\"field\":\"x\"},\"y\":{\"field\":\"y\"}},\"id\":\"6271\",\"type\":\"Scatter\"},{\"attributes\":{\"data_source\":{\"id\":\"6269\",\"type\":\"ColumnDataSource\"},\"glyph\":{\"id\":\"6270\",\"type\":\"Scatter\"},\"hover_glyph\":null,\"muted_glyph\":null,\"nonselection_glyph\":{\"id\":\"6271\",\"type\":\"Scatter\"},\"selection_glyph\":null,\"view\":{\"id\":\"6273\",\"type\":\"CDSView\"}},\"id\":\"6272\",\"type\":\"GlyphRenderer\"},{\"attributes\":{\"source\":{\"id\":\"6255\",\"type\":\"ColumnDataSource\"}},\"id\":\"6259\",\"type\":\"CDSView\"},{\"attributes\":{\"fill_color\":{\"value\":\"red\"},\"line_color\":{\"value\":\"red\"},\"line_width\":{\"value\":2},\"x\":{\"field\":\"x\"},\"y\":{\"field\":\"y\"}},\"id\":\"6256\",\"type\":\"Scatter\"},{\"attributes\":{\"fill_color\":{\"value\":\"green\"},\"line_color\":{\"value\":\"green\"},\"line_width\":{\"value\":2},\"x\":{\"field\":\"x\"},\"y\":{\"field\":\"y\"}},\"id\":\"6270\",\"type\":\"Scatter\"},{\"attributes\":{\"callback\":null,\"data\":{\"x\":{\"__ndarray__\":\"LUMc6+I2Gj8ga0f4paIfP9JzBdGxFiM/UvKXIToJJz8tW6TwuswrP34qSXY1xjA/xCISOTg+ND9UPulP3W04P0lDoR4eez0/cKtyLOfJQT+OQ/rcnXdFPywvAdoR6Ek/r60gb4hDTz/Cim5lTd1SP2GPM233w1Y/fyL3pyV5Wz+cq3BrxpNgP4hIo0VbAWQ/1ZvTVWokaD/6wVTTeiJtP6KWilRrlHE/nGC5pRI3dT/Js53BLZp5P8Lmtd+I5X4/S5lTiJWkgj+jc0D2hH+GPzZKu6yLJos/MjooA+9hkD8qHSlQNcWTP5rGGDHU25c/5ZERCOLKnD+PbsRKkF+hP+LYdH1J96Q/RTt22TNNqT8LcDXuo4iuPzDb5DKIbLI/K4ilSuA7tj9FyF4L6tS6P85Gh3WtMMA/w8RzMsSJwz/KlcJJGJTHP4YilJtQdMw/YmWlK1Qr0T9Y+rYcQLjUP3pZbWEhAdk/msjmSNYs3j92ampkIzXiPwQmpP8G+eU/tUgv2T2E6j8AAAAAAADwPw==\",\"dtype\":\"float64\",\"shape\":[50]},\"y\":{\"__ndarray__\":\"IHBjzhlBcz3ZgmIfRpE9PfDZY7CccWg9yilXqSfL8jzTs+0ZimZbPfeMuKS2tSU9ogT5YaH0Ij0wcuOZGw9YPa0D4RIVwEU9CGmlYzcfTT1jskmjt5c/PZF8bNYGPxo98K+zlqkXMT0pld6LDnEDPflH2g9dJjw9EMmLuqZgTj0n9twxCudhPTpOY7VEunQ9PYaKf2tihj0Dt6OxxoOXPT7H0QLI36g9L7SWtz5auj1MAupbZvfLPb+HnjMcqd09PyVnotp07z345GyrG64APjnB0qxjsBE+V2KtZEjCIj675U7ZxuQzPgp9QEDhGEU+DW9qwqpfVj4gNGXrT7pnPpNjo78PKnk+0tIgQUWwij4U4y2dak6cPodt0LAhBq4+E/l4aD/Zvz4j1Lpx7uTQPrCfBLc47eE+VAo9Bv0G8z6ndnkWGzQEP2s17bYCdxU/bm7DtPzSJj80DPcInUw4PyHvx1N36kk/U7gGmT+2Wz8BoP+wn75tP4IlsKUhDYA/qJP+/IZ2kT/e0H8arjijPw==\",\"dtype\":\"float64\",\"shape\":[50]}},\"selected\":{\"id\":\"6539\",\"type\":\"Selection\"},\"selection_policy\":{\"id\":\"6540\",\"type\":\"UnionRenderers\"}},\"id\":\"6285\",\"type\":\"ColumnDataSource\"},{\"attributes\":{\"callback\":null,\"data\":{\"x\":{\"__ndarray__\":\"LUMc6+I2Gj8ga0f4paIfP9JzBdGxFiM/UvKXIToJJz8tW6TwuswrP34qSXY1xjA/xCISOTg+ND9UPulP3W04P0lDoR4eez0/cKtyLOfJQT+OQ/rcnXdFPywvAdoR6Ek/r60gb4hDTz/Cim5lTd1SP2GPM233w1Y/fyL3pyV5Wz+cq3BrxpNgP4hIo0VbAWQ/1ZvTVWokaD/6wVTTeiJtP6KWilRrlHE/nGC5pRI3dT/Js53BLZp5P8Lmtd+I5X4/S5lTiJWkgj+jc0D2hH+GPzZKu6yLJos/MjooA+9hkD8qHSlQNcWTP5rGGDHU25c/5ZERCOLKnD+PbsRKkF+hP+LYdH1J96Q/RTt22TNNqT8LcDXuo4iuPzDb5DKIbLI/K4ilSuA7tj9FyF4L6tS6P85Gh3WtMMA/w8RzMsSJwz/KlcJJGJTHP4YilJtQdMw/YmWlK1Qr0T9Y+rYcQLjUP3pZbWEhAdk/msjmSNYs3j92ampkIzXiPwQmpP8G+eU/tUgv2T2E6j8AAAAAAADwPw==\",\"dtype\":\"float64\",\"shape\":[50]},\"y\":{\"__ndarray__\":\"IT7fgr/2Az/4wPW/jhcIP3m/HbThEg0/0sadwfKKET9aORybjisVP/Qo6/EnjBk/82Ca5m3UHj8Ja04wIZoiP8Tx2Im1ciY/OpsVzs0WKz83sLPEOlgwP4g1RbIyuTM/KvQZJebMNz8zqlQQO7g8P+9JPr3YU0E/Q4+5TXnoRD8YMGh/WDpJP2xpbN90cE4/Ee/1eeZcUj/hwaSlfydWP0DMA5keulo/CJcP5+ceYD95+XIV/HFjP7yeXhH/c2c/HLepmaFIbD+pfSK8Xg1xP4FTq4HbjnQ/NP+WF47HeD+9/W1gRNx9P/JG3J11/IE/6NjuiOeohT8WoTa/ghKKP0HqFsb+XY8/L3I3rUvbkj+omBakdaeWP8SpiB7qMJs/I7um8sdMoD9U0Rr/AISjP6eEaoPFU6c/olwbbNvTqz/pYy4Gz46wP6fOPxx5pbM/pbwTWD06tz8IzwpsWle7P4FOEtFgAcA/UPJsg16dwj8l9iEdfXjFP7wP4x+egcg/ZrWS9TyYyz+vMawrFYTOPw==\",\"dtype\":\"float64\",\"shape\":[50]}},\"selected\":{\"id\":\"6282\",\"type\":\"Selection\"},\"selection_policy\":{\"id\":\"6283\",\"type\":\"UnionRenderers\"}},\"id\":\"6255\",\"type\":\"ColumnDataSource\"},{\"attributes\":{},\"id\":\"6300\",\"type\":\"Selection\"},{\"attributes\":{},\"id\":\"6215\",\"type\":\"LogScale\"},{\"attributes\":{},\"id\":\"6233\",\"type\":\"ResetTool\"},{\"attributes\":{\"source\":{\"id\":\"6269\",\"type\":\"ColumnDataSource\"}},\"id\":\"6273\",\"type\":\"CDSView\"},{\"attributes\":{\"fill_color\":{\"value\":\"black\"},\"line_width\":{\"value\":2},\"x\":{\"field\":\"x\"},\"y\":{\"field\":\"y\"}},\"id\":\"6286\",\"type\":\"Scatter\"},{\"attributes\":{},\"id\":\"6229\",\"type\":\"PanTool\"},{\"attributes\":{\"fill_alpha\":{\"value\":0.1},\"fill_color\":{\"value\":\"#1f77b4\"},\"line_alpha\":{\"value\":0.1},\"line_color\":{\"value\":\"#1f77b4\"},\"line_width\":{\"value\":2},\"x\":{\"field\":\"x\"},\"y\":{\"field\":\"y\"}},\"id\":\"6244\",\"type\":\"Scatter\"},{\"attributes\":{\"fill_alpha\":{\"value\":0.1},\"fill_color\":{\"value\":\"#1f77b4\"},\"line_alpha\":{\"value\":0.1},\"line_color\":{\"value\":\"#1f77b4\"},\"line_width\":{\"value\":2},\"x\":{\"field\":\"x\"},\"y\":{\"field\":\"y\"}},\"id\":\"6287\",\"type\":\"Scatter\"},{\"attributes\":{},\"id\":\"6540\",\"type\":\"UnionRenderers\"},{\"attributes\":{\"data_source\":{\"id\":\"6255\",\"type\":\"ColumnDataSource\"},\"glyph\":{\"id\":\"6256\",\"type\":\"Scatter\"},\"hover_glyph\":null,\"muted_glyph\":null,\"nonselection_glyph\":{\"id\":\"6257\",\"type\":\"Scatter\"},\"selection_glyph\":null,\"view\":{\"id\":\"6259\",\"type\":\"CDSView\"}},\"id\":\"6258\",\"type\":\"GlyphRenderer\"},{\"attributes\":{},\"id\":\"6301\",\"type\":\"UnionRenderers\"},{\"attributes\":{\"data_source\":{\"id\":\"6285\",\"type\":\"ColumnDataSource\"},\"glyph\":{\"id\":\"6286\",\"type\":\"Scatter\"},\"hover_glyph\":null,\"muted_glyph\":null,\"nonselection_glyph\":{\"id\":\"6287\",\"type\":\"Scatter\"},\"selection_glyph\":null,\"view\":{\"id\":\"6289\",\"type\":\"CDSView\"}},\"id\":\"6288\",\"type\":\"GlyphRenderer\"},{\"attributes\":{\"overlay\":{\"id\":\"6252\",\"type\":\"BoxAnnotation\"}},\"id\":\"6231\",\"type\":\"BoxZoomTool\"},{\"attributes\":{},\"id\":\"6282\",\"type\":\"Selection\"},{\"attributes\":{},\"id\":\"6230\",\"type\":\"WheelZoomTool\"},{\"attributes\":{},\"id\":\"6267\",\"type\":\"UnionRenderers\"},{\"attributes\":{\"active_drag\":\"auto\",\"active_inspect\":\"auto\",\"active_multi\":null,\"active_scroll\":\"auto\",\"active_tap\":\"auto\",\"tools\":[{\"id\":\"6229\",\"type\":\"PanTool\"},{\"id\":\"6230\",\"type\":\"WheelZoomTool\"},{\"id\":\"6231\",\"type\":\"BoxZoomTool\"},{\"id\":\"6232\",\"type\":\"SaveTool\"},{\"id\":\"6233\",\"type\":\"ResetTool\"},{\"id\":\"6234\",\"type\":\"HelpTool\"}]},\"id\":\"6235\",\"type\":\"Toolbar\"}],\"root_ids\":[\"6208\"]},\"title\":\"Bokeh Application\",\"version\":\"1.4.0\"}};\n",
       "  var render_items = [{\"docid\":\"bc192d7c-bd62-44bc-8e43-45776c556dad\",\"roots\":{\"6208\":\"fbc2704a-fcad-41d4-8716-63be6b5da82b\"}}];\n",
       "  root.Bokeh.embed.embed_items_notebook(docs_json, render_items);\n",
       "\n",
       "  }\n",
       "  if (root.Bokeh !== undefined) {\n",
       "    embed_document(root);\n",
       "  } else {\n",
       "    var attempts = 0;\n",
       "    var timer = setInterval(function(root) {\n",
       "      if (root.Bokeh !== undefined) {\n",
       "        clearInterval(timer);\n",
       "        embed_document(root);\n",
       "      } else {\n",
       "        attempts++;\n",
       "        if (attempts > 100) {\n",
       "          clearInterval(timer);\n",
       "          console.log(\"Bokeh: ERROR: Unable to run BokehJS code because BokehJS library is missing\");\n",
       "        }\n",
       "      }\n",
       "    }, 10, root)\n",
       "  }\n",
       "})(window);"
      ],
      "application/vnd.bokehjs_exec.v0+json": ""
     },
     "metadata": {
      "application/vnd.bokehjs_exec.v0+json": {
       "id": "6208"
      }
     },
     "output_type": "display_data"
    }
   ],
   "source": [
    "# Plot\n",
    "plotting.output_notebook()\n",
    "\n",
    "p = plotting.figure(title='x=1/k', x_axis_label='kdx',\n",
    "                    x_axis_type=\"log\", y_axis_type=\"log\",\n",
    "                   y_axis_label='Error', x_range=(10**-4, 1.),\n",
    "                   y_range=(1e-12, 1))\n",
    "\n",
    "# Plot em\n",
    "p.scatter(kdx_vals, error_ff, legend='ff', line_width=2)\n",
    "p.scatter(kdx_vals, error_fb, legend='fb', line_width=2, color='red')\n",
    "p.scatter(kdx_vals, error_sc, legend='sc', line_width=2, color='green')\n",
    "p.scatter(kdx_vals, error_4, legend='4', line_width=2, color='black')\n",
    "\n",
    "\n",
    "p.legend.location = \"top_left\"\n",
    "\n",
    "os_plotting.bokeh_set_fontsize(p, 16)\n",
    "\n",
    "plotting.show(p)"
   ]
  },
  {
   "cell_type": "markdown",
   "metadata": {},
   "source": [
    "### x = 0."
   ]
  },
  {
   "cell_type": "code",
   "execution_count": 69,
   "metadata": {},
   "outputs": [
    {
     "data": {
      "text/plain": [
       "1.0"
      ]
     },
     "execution_count": 69,
     "metadata": {},
     "output_type": "execute_result"
    }
   ],
   "source": [
    "# Exact\n",
    "x = 0.\n",
    "exact = np.cosh(k*x)\n",
    "exact"
   ]
  },
  {
   "cell_type": "code",
   "execution_count": 70,
   "metadata": {},
   "outputs": [],
   "source": [
    "x = 0.\n",
    "# Forward\n",
    "dfdx_ff = chapter1.sinh_first_forward(x, kdx_vals, k)\n",
    "error_ff = np.abs(dfdx_ff-exact)/exact\n",
    "# Backward\n",
    "dfdx_fb = chapter1.sinh_first_backward(x, kdx_vals, k)\n",
    "error_fb = np.abs(dfdx_fb-exact)/exact\n",
    "# Second\n",
    "dfdx_sc = chapter1.sinh_second_center(x, kdx_vals, k)\n",
    "error_sc = np.abs(dfdx_sc-exact)/exact\n",
    "# Fourth\n",
    "dfdx_4 = chapter1.sinh_fourth(x, kdx_vals, k)\n",
    "error_4 = np.abs(dfdx_4-exact)/exact"
   ]
  },
  {
   "cell_type": "code",
   "execution_count": 62,
   "metadata": {},
   "outputs": [
    {
     "data": {
      "text/plain": [
       "50"
      ]
     },
     "execution_count": 62,
     "metadata": {},
     "output_type": "execute_result"
    }
   ],
   "source": [
    "error_ff.size"
   ]
  },
  {
   "cell_type": "code",
   "execution_count": 59,
   "metadata": {},
   "outputs": [
    {
     "data": {
      "text/plain": [
       "1100.3232874703394"
      ]
     },
     "execution_count": 59,
     "metadata": {},
     "output_type": "execute_result"
    }
   ],
   "source": [
    "error_ff[-1]"
   ]
  },
  {
   "cell_type": "code",
   "execution_count": 75,
   "metadata": {},
   "outputs": [
    {
     "data": {
      "text/html": [
       "\n",
       "    <div class=\"bk-root\">\n",
       "        <a href=\"https://bokeh.org\" target=\"_blank\" class=\"bk-logo bk-logo-small bk-logo-notebook\"></a>\n",
       "        <span id=\"8161\">Loading BokehJS ...</span>\n",
       "    </div>"
      ]
     },
     "metadata": {},
     "output_type": "display_data"
    },
    {
     "data": {
      "application/javascript": [
       "\n",
       "(function(root) {\n",
       "  function now() {\n",
       "    return new Date();\n",
       "  }\n",
       "\n",
       "  var force = true;\n",
       "\n",
       "  if (typeof root._bokeh_onload_callbacks === \"undefined\" || force === true) {\n",
       "    root._bokeh_onload_callbacks = [];\n",
       "    root._bokeh_is_loading = undefined;\n",
       "  }\n",
       "\n",
       "  var JS_MIME_TYPE = 'application/javascript';\n",
       "  var HTML_MIME_TYPE = 'text/html';\n",
       "  var EXEC_MIME_TYPE = 'application/vnd.bokehjs_exec.v0+json';\n",
       "  var CLASS_NAME = 'output_bokeh rendered_html';\n",
       "\n",
       "  /**\n",
       "   * Render data to the DOM node\n",
       "   */\n",
       "  function render(props, node) {\n",
       "    var script = document.createElement(\"script\");\n",
       "    node.appendChild(script);\n",
       "  }\n",
       "\n",
       "  /**\n",
       "   * Handle when an output is cleared or removed\n",
       "   */\n",
       "  function handleClearOutput(event, handle) {\n",
       "    var cell = handle.cell;\n",
       "\n",
       "    var id = cell.output_area._bokeh_element_id;\n",
       "    var server_id = cell.output_area._bokeh_server_id;\n",
       "    // Clean up Bokeh references\n",
       "    if (id != null && id in Bokeh.index) {\n",
       "      Bokeh.index[id].model.document.clear();\n",
       "      delete Bokeh.index[id];\n",
       "    }\n",
       "\n",
       "    if (server_id !== undefined) {\n",
       "      // Clean up Bokeh references\n",
       "      var cmd = \"from bokeh.io.state import curstate; print(curstate().uuid_to_server['\" + server_id + \"'].get_sessions()[0].document.roots[0]._id)\";\n",
       "      cell.notebook.kernel.execute(cmd, {\n",
       "        iopub: {\n",
       "          output: function(msg) {\n",
       "            var id = msg.content.text.trim();\n",
       "            if (id in Bokeh.index) {\n",
       "              Bokeh.index[id].model.document.clear();\n",
       "              delete Bokeh.index[id];\n",
       "            }\n",
       "          }\n",
       "        }\n",
       "      });\n",
       "      // Destroy server and session\n",
       "      var cmd = \"import bokeh.io.notebook as ion; ion.destroy_server('\" + server_id + \"')\";\n",
       "      cell.notebook.kernel.execute(cmd);\n",
       "    }\n",
       "  }\n",
       "\n",
       "  /**\n",
       "   * Handle when a new output is added\n",
       "   */\n",
       "  function handleAddOutput(event, handle) {\n",
       "    var output_area = handle.output_area;\n",
       "    var output = handle.output;\n",
       "\n",
       "    // limit handleAddOutput to display_data with EXEC_MIME_TYPE content only\n",
       "    if ((output.output_type != \"display_data\") || (!output.data.hasOwnProperty(EXEC_MIME_TYPE))) {\n",
       "      return\n",
       "    }\n",
       "\n",
       "    var toinsert = output_area.element.find(\".\" + CLASS_NAME.split(' ')[0]);\n",
       "\n",
       "    if (output.metadata[EXEC_MIME_TYPE][\"id\"] !== undefined) {\n",
       "      toinsert[toinsert.length - 1].firstChild.textContent = output.data[JS_MIME_TYPE];\n",
       "      // store reference to embed id on output_area\n",
       "      output_area._bokeh_element_id = output.metadata[EXEC_MIME_TYPE][\"id\"];\n",
       "    }\n",
       "    if (output.metadata[EXEC_MIME_TYPE][\"server_id\"] !== undefined) {\n",
       "      var bk_div = document.createElement(\"div\");\n",
       "      bk_div.innerHTML = output.data[HTML_MIME_TYPE];\n",
       "      var script_attrs = bk_div.children[0].attributes;\n",
       "      for (var i = 0; i < script_attrs.length; i++) {\n",
       "        toinsert[toinsert.length - 1].firstChild.setAttribute(script_attrs[i].name, script_attrs[i].value);\n",
       "      }\n",
       "      // store reference to server id on output_area\n",
       "      output_area._bokeh_server_id = output.metadata[EXEC_MIME_TYPE][\"server_id\"];\n",
       "    }\n",
       "  }\n",
       "\n",
       "  function register_renderer(events, OutputArea) {\n",
       "\n",
       "    function append_mime(data, metadata, element) {\n",
       "      // create a DOM node to render to\n",
       "      var toinsert = this.create_output_subarea(\n",
       "        metadata,\n",
       "        CLASS_NAME,\n",
       "        EXEC_MIME_TYPE\n",
       "      );\n",
       "      this.keyboard_manager.register_events(toinsert);\n",
       "      // Render to node\n",
       "      var props = {data: data, metadata: metadata[EXEC_MIME_TYPE]};\n",
       "      render(props, toinsert[toinsert.length - 1]);\n",
       "      element.append(toinsert);\n",
       "      return toinsert\n",
       "    }\n",
       "\n",
       "    /* Handle when an output is cleared or removed */\n",
       "    events.on('clear_output.CodeCell', handleClearOutput);\n",
       "    events.on('delete.Cell', handleClearOutput);\n",
       "\n",
       "    /* Handle when a new output is added */\n",
       "    events.on('output_added.OutputArea', handleAddOutput);\n",
       "\n",
       "    /**\n",
       "     * Register the mime type and append_mime function with output_area\n",
       "     */\n",
       "    OutputArea.prototype.register_mime_type(EXEC_MIME_TYPE, append_mime, {\n",
       "      /* Is output safe? */\n",
       "      safe: true,\n",
       "      /* Index of renderer in `output_area.display_order` */\n",
       "      index: 0\n",
       "    });\n",
       "  }\n",
       "\n",
       "  // register the mime type if in Jupyter Notebook environment and previously unregistered\n",
       "  if (root.Jupyter !== undefined) {\n",
       "    var events = require('base/js/events');\n",
       "    var OutputArea = require('notebook/js/outputarea').OutputArea;\n",
       "\n",
       "    if (OutputArea.prototype.mime_types().indexOf(EXEC_MIME_TYPE) == -1) {\n",
       "      register_renderer(events, OutputArea);\n",
       "    }\n",
       "  }\n",
       "\n",
       "  \n",
       "  if (typeof (root._bokeh_timeout) === \"undefined\" || force === true) {\n",
       "    root._bokeh_timeout = Date.now() + 5000;\n",
       "    root._bokeh_failed_load = false;\n",
       "  }\n",
       "\n",
       "  var NB_LOAD_WARNING = {'data': {'text/html':\n",
       "     \"<div style='background-color: #fdd'>\\n\"+\n",
       "     \"<p>\\n\"+\n",
       "     \"BokehJS does not appear to have successfully loaded. If loading BokehJS from CDN, this \\n\"+\n",
       "     \"may be due to a slow or bad network connection. Possible fixes:\\n\"+\n",
       "     \"</p>\\n\"+\n",
       "     \"<ul>\\n\"+\n",
       "     \"<li>re-rerun `output_notebook()` to attempt to load from CDN again, or</li>\\n\"+\n",
       "     \"<li>use INLINE resources instead, as so:</li>\\n\"+\n",
       "     \"</ul>\\n\"+\n",
       "     \"<code>\\n\"+\n",
       "     \"from bokeh.resources import INLINE\\n\"+\n",
       "     \"output_notebook(resources=INLINE)\\n\"+\n",
       "     \"</code>\\n\"+\n",
       "     \"</div>\"}};\n",
       "\n",
       "  function display_loaded() {\n",
       "    var el = document.getElementById(\"8161\");\n",
       "    if (el != null) {\n",
       "      el.textContent = \"BokehJS is loading...\";\n",
       "    }\n",
       "    if (root.Bokeh !== undefined) {\n",
       "      if (el != null) {\n",
       "        el.textContent = \"BokehJS \" + root.Bokeh.version + \" successfully loaded.\";\n",
       "      }\n",
       "    } else if (Date.now() < root._bokeh_timeout) {\n",
       "      setTimeout(display_loaded, 100)\n",
       "    }\n",
       "  }\n",
       "\n",
       "\n",
       "  function run_callbacks() {\n",
       "    try {\n",
       "      root._bokeh_onload_callbacks.forEach(function(callback) {\n",
       "        if (callback != null)\n",
       "          callback();\n",
       "      });\n",
       "    } finally {\n",
       "      delete root._bokeh_onload_callbacks\n",
       "    }\n",
       "    console.debug(\"Bokeh: all callbacks have finished\");\n",
       "  }\n",
       "\n",
       "  function load_libs(css_urls, js_urls, callback) {\n",
       "    if (css_urls == null) css_urls = [];\n",
       "    if (js_urls == null) js_urls = [];\n",
       "\n",
       "    root._bokeh_onload_callbacks.push(callback);\n",
       "    if (root._bokeh_is_loading > 0) {\n",
       "      console.debug(\"Bokeh: BokehJS is being loaded, scheduling callback at\", now());\n",
       "      return null;\n",
       "    }\n",
       "    if (js_urls == null || js_urls.length === 0) {\n",
       "      run_callbacks();\n",
       "      return null;\n",
       "    }\n",
       "    console.debug(\"Bokeh: BokehJS not loaded, scheduling load and callback at\", now());\n",
       "    root._bokeh_is_loading = css_urls.length + js_urls.length;\n",
       "\n",
       "    function on_load() {\n",
       "      root._bokeh_is_loading--;\n",
       "      if (root._bokeh_is_loading === 0) {\n",
       "        console.debug(\"Bokeh: all BokehJS libraries/stylesheets loaded\");\n",
       "        run_callbacks()\n",
       "      }\n",
       "    }\n",
       "\n",
       "    function on_error() {\n",
       "      console.error(\"failed to load \" + url);\n",
       "    }\n",
       "\n",
       "    for (var i = 0; i < css_urls.length; i++) {\n",
       "      var url = css_urls[i];\n",
       "      const element = document.createElement(\"link\");\n",
       "      element.onload = on_load;\n",
       "      element.onerror = on_error;\n",
       "      element.rel = \"stylesheet\";\n",
       "      element.type = \"text/css\";\n",
       "      element.href = url;\n",
       "      console.debug(\"Bokeh: injecting link tag for BokehJS stylesheet: \", url);\n",
       "      document.body.appendChild(element);\n",
       "    }\n",
       "\n",
       "    for (var i = 0; i < js_urls.length; i++) {\n",
       "      var url = js_urls[i];\n",
       "      var element = document.createElement('script');\n",
       "      element.onload = on_load;\n",
       "      element.onerror = on_error;\n",
       "      element.async = false;\n",
       "      element.src = url;\n",
       "      console.debug(\"Bokeh: injecting script tag for BokehJS library: \", url);\n",
       "      document.head.appendChild(element);\n",
       "    }\n",
       "  };var element = document.getElementById(\"8161\");\n",
       "  if (element == null) {\n",
       "    console.error(\"Bokeh: ERROR: autoload.js configured with elementid '8161' but no matching script tag was found. \")\n",
       "    return false;\n",
       "  }\n",
       "\n",
       "  function inject_raw_css(css) {\n",
       "    const element = document.createElement(\"style\");\n",
       "    element.appendChild(document.createTextNode(css));\n",
       "    document.body.appendChild(element);\n",
       "  }\n",
       "\n",
       "  \n",
       "  var js_urls = [\"https://cdn.pydata.org/bokeh/release/bokeh-1.4.0.min.js\", \"https://cdn.pydata.org/bokeh/release/bokeh-widgets-1.4.0.min.js\", \"https://cdn.pydata.org/bokeh/release/bokeh-tables-1.4.0.min.js\", \"https://cdn.pydata.org/bokeh/release/bokeh-gl-1.4.0.min.js\"];\n",
       "  var css_urls = [];\n",
       "  \n",
       "\n",
       "  var inline_js = [\n",
       "    function(Bokeh) {\n",
       "      Bokeh.set_log_level(\"info\");\n",
       "    },\n",
       "    function(Bokeh) {\n",
       "    \n",
       "    \n",
       "    }\n",
       "  ];\n",
       "\n",
       "  function run_inline_js() {\n",
       "    \n",
       "    if (root.Bokeh !== undefined || force === true) {\n",
       "      \n",
       "    for (var i = 0; i < inline_js.length; i++) {\n",
       "      inline_js[i].call(root, root.Bokeh);\n",
       "    }\n",
       "    if (force === true) {\n",
       "        display_loaded();\n",
       "      }} else if (Date.now() < root._bokeh_timeout) {\n",
       "      setTimeout(run_inline_js, 100);\n",
       "    } else if (!root._bokeh_failed_load) {\n",
       "      console.log(\"Bokeh: BokehJS failed to load within specified timeout.\");\n",
       "      root._bokeh_failed_load = true;\n",
       "    } else if (force !== true) {\n",
       "      var cell = $(document.getElementById(\"8161\")).parents('.cell').data().cell;\n",
       "      cell.output_area.append_execute_result(NB_LOAD_WARNING)\n",
       "    }\n",
       "\n",
       "  }\n",
       "\n",
       "  if (root._bokeh_is_loading === 0) {\n",
       "    console.debug(\"Bokeh: BokehJS loaded, going straight to plotting\");\n",
       "    run_inline_js();\n",
       "  } else {\n",
       "    load_libs(css_urls, js_urls, function() {\n",
       "      console.debug(\"Bokeh: BokehJS plotting callback run at\", now());\n",
       "      run_inline_js();\n",
       "    });\n",
       "  }\n",
       "}(window));"
      ],
      "application/vnd.bokehjs_load.v0+json": "\n(function(root) {\n  function now() {\n    return new Date();\n  }\n\n  var force = true;\n\n  if (typeof root._bokeh_onload_callbacks === \"undefined\" || force === true) {\n    root._bokeh_onload_callbacks = [];\n    root._bokeh_is_loading = undefined;\n  }\n\n  \n\n  \n  if (typeof (root._bokeh_timeout) === \"undefined\" || force === true) {\n    root._bokeh_timeout = Date.now() + 5000;\n    root._bokeh_failed_load = false;\n  }\n\n  var NB_LOAD_WARNING = {'data': {'text/html':\n     \"<div style='background-color: #fdd'>\\n\"+\n     \"<p>\\n\"+\n     \"BokehJS does not appear to have successfully loaded. If loading BokehJS from CDN, this \\n\"+\n     \"may be due to a slow or bad network connection. Possible fixes:\\n\"+\n     \"</p>\\n\"+\n     \"<ul>\\n\"+\n     \"<li>re-rerun `output_notebook()` to attempt to load from CDN again, or</li>\\n\"+\n     \"<li>use INLINE resources instead, as so:</li>\\n\"+\n     \"</ul>\\n\"+\n     \"<code>\\n\"+\n     \"from bokeh.resources import INLINE\\n\"+\n     \"output_notebook(resources=INLINE)\\n\"+\n     \"</code>\\n\"+\n     \"</div>\"}};\n\n  function display_loaded() {\n    var el = document.getElementById(\"8161\");\n    if (el != null) {\n      el.textContent = \"BokehJS is loading...\";\n    }\n    if (root.Bokeh !== undefined) {\n      if (el != null) {\n        el.textContent = \"BokehJS \" + root.Bokeh.version + \" successfully loaded.\";\n      }\n    } else if (Date.now() < root._bokeh_timeout) {\n      setTimeout(display_loaded, 100)\n    }\n  }\n\n\n  function run_callbacks() {\n    try {\n      root._bokeh_onload_callbacks.forEach(function(callback) {\n        if (callback != null)\n          callback();\n      });\n    } finally {\n      delete root._bokeh_onload_callbacks\n    }\n    console.debug(\"Bokeh: all callbacks have finished\");\n  }\n\n  function load_libs(css_urls, js_urls, callback) {\n    if (css_urls == null) css_urls = [];\n    if (js_urls == null) js_urls = [];\n\n    root._bokeh_onload_callbacks.push(callback);\n    if (root._bokeh_is_loading > 0) {\n      console.debug(\"Bokeh: BokehJS is being loaded, scheduling callback at\", now());\n      return null;\n    }\n    if (js_urls == null || js_urls.length === 0) {\n      run_callbacks();\n      return null;\n    }\n    console.debug(\"Bokeh: BokehJS not loaded, scheduling load and callback at\", now());\n    root._bokeh_is_loading = css_urls.length + js_urls.length;\n\n    function on_load() {\n      root._bokeh_is_loading--;\n      if (root._bokeh_is_loading === 0) {\n        console.debug(\"Bokeh: all BokehJS libraries/stylesheets loaded\");\n        run_callbacks()\n      }\n    }\n\n    function on_error() {\n      console.error(\"failed to load \" + url);\n    }\n\n    for (var i = 0; i < css_urls.length; i++) {\n      var url = css_urls[i];\n      const element = document.createElement(\"link\");\n      element.onload = on_load;\n      element.onerror = on_error;\n      element.rel = \"stylesheet\";\n      element.type = \"text/css\";\n      element.href = url;\n      console.debug(\"Bokeh: injecting link tag for BokehJS stylesheet: \", url);\n      document.body.appendChild(element);\n    }\n\n    for (var i = 0; i < js_urls.length; i++) {\n      var url = js_urls[i];\n      var element = document.createElement('script');\n      element.onload = on_load;\n      element.onerror = on_error;\n      element.async = false;\n      element.src = url;\n      console.debug(\"Bokeh: injecting script tag for BokehJS library: \", url);\n      document.head.appendChild(element);\n    }\n  };var element = document.getElementById(\"8161\");\n  if (element == null) {\n    console.error(\"Bokeh: ERROR: autoload.js configured with elementid '8161' but no matching script tag was found. \")\n    return false;\n  }\n\n  function inject_raw_css(css) {\n    const element = document.createElement(\"style\");\n    element.appendChild(document.createTextNode(css));\n    document.body.appendChild(element);\n  }\n\n  \n  var js_urls = [\"https://cdn.pydata.org/bokeh/release/bokeh-1.4.0.min.js\", \"https://cdn.pydata.org/bokeh/release/bokeh-widgets-1.4.0.min.js\", \"https://cdn.pydata.org/bokeh/release/bokeh-tables-1.4.0.min.js\", \"https://cdn.pydata.org/bokeh/release/bokeh-gl-1.4.0.min.js\"];\n  var css_urls = [];\n  \n\n  var inline_js = [\n    function(Bokeh) {\n      Bokeh.set_log_level(\"info\");\n    },\n    function(Bokeh) {\n    \n    \n    }\n  ];\n\n  function run_inline_js() {\n    \n    if (root.Bokeh !== undefined || force === true) {\n      \n    for (var i = 0; i < inline_js.length; i++) {\n      inline_js[i].call(root, root.Bokeh);\n    }\n    if (force === true) {\n        display_loaded();\n      }} else if (Date.now() < root._bokeh_timeout) {\n      setTimeout(run_inline_js, 100);\n    } else if (!root._bokeh_failed_load) {\n      console.log(\"Bokeh: BokehJS failed to load within specified timeout.\");\n      root._bokeh_failed_load = true;\n    } else if (force !== true) {\n      var cell = $(document.getElementById(\"8161\")).parents('.cell').data().cell;\n      cell.output_area.append_execute_result(NB_LOAD_WARNING)\n    }\n\n  }\n\n  if (root._bokeh_is_loading === 0) {\n    console.debug(\"Bokeh: BokehJS loaded, going straight to plotting\");\n    run_inline_js();\n  } else {\n    load_libs(css_urls, js_urls, function() {\n      console.debug(\"Bokeh: BokehJS plotting callback run at\", now());\n      run_inline_js();\n    });\n  }\n}(window));"
     },
     "metadata": {},
     "output_type": "display_data"
    },
    {
     "name": "stderr",
     "output_type": "stream",
     "text": [
      "BokehDeprecationWarning: 'legend' keyword is deprecated, use explicit 'legend_label', 'legend_field', or 'legend_group' keywords instead\n",
      "BokehDeprecationWarning: 'legend' keyword is deprecated, use explicit 'legend_label', 'legend_field', or 'legend_group' keywords instead\n",
      "BokehDeprecationWarning: 'legend' keyword is deprecated, use explicit 'legend_label', 'legend_field', or 'legend_group' keywords instead\n",
      "BokehDeprecationWarning: 'legend' keyword is deprecated, use explicit 'legend_label', 'legend_field', or 'legend_group' keywords instead\n"
     ]
    },
    {
     "data": {
      "text/html": [
       "\n",
       "\n",
       "\n",
       "\n",
       "\n",
       "\n",
       "  <div class=\"bk-root\" id=\"39db778c-854b-4798-8f7a-63a05dff4a6b\" data-root-id=\"8162\"></div>\n"
      ]
     },
     "metadata": {},
     "output_type": "display_data"
    },
    {
     "data": {
      "application/javascript": [
       "(function(root) {\n",
       "  function embed_document(root) {\n",
       "    \n",
       "  var docs_json = {\"cfabd2de-64d2-4759-b280-b188d6c165e6\":{\"roots\":{\"references\":[{\"attributes\":{\"below\":[{\"id\":\"8173\",\"type\":\"LogAxis\"}],\"center\":[{\"id\":\"8177\",\"type\":\"Grid\"},{\"id\":\"8182\",\"type\":\"Grid\"},{\"id\":\"8207\",\"type\":\"Legend\"}],\"left\":[{\"id\":\"8178\",\"type\":\"LogAxis\"}],\"renderers\":[{\"id\":\"8199\",\"type\":\"GlyphRenderer\"},{\"id\":\"8212\",\"type\":\"GlyphRenderer\"},{\"id\":\"8226\",\"type\":\"GlyphRenderer\"},{\"id\":\"8242\",\"type\":\"GlyphRenderer\"}],\"title\":{\"id\":\"8163\",\"type\":\"Title\"},\"toolbar\":{\"id\":\"8189\",\"type\":\"Toolbar\"},\"x_range\":{\"id\":\"8165\",\"type\":\"Range1d\"},\"x_scale\":{\"id\":\"8169\",\"type\":\"LogScale\"},\"y_range\":{\"id\":\"8167\",\"type\":\"Range1d\"},\"y_scale\":{\"id\":\"8171\",\"type\":\"LogScale\"}},\"id\":\"8162\",\"subtype\":\"Figure\",\"type\":\"Plot\"},{\"attributes\":{\"source\":{\"id\":\"8223\",\"type\":\"ColumnDataSource\"}},\"id\":\"8227\",\"type\":\"CDSView\"},{\"attributes\":{\"label\":{\"value\":\"4\"},\"renderers\":[{\"id\":\"8242\",\"type\":\"GlyphRenderer\"}]},\"id\":\"8256\",\"type\":\"LegendItem\"},{\"attributes\":{\"fill_alpha\":{\"value\":0.1},\"fill_color\":{\"value\":\"#1f77b4\"},\"line_alpha\":{\"value\":0.1},\"line_color\":{\"value\":\"#1f77b4\"},\"line_width\":{\"value\":2},\"x\":{\"field\":\"x\"},\"y\":{\"field\":\"y\"}},\"id\":\"8211\",\"type\":\"Scatter\"},{\"attributes\":{\"callback\":null,\"data\":{\"x\":{\"__ndarray__\":\"LUMc6+I2Gj8ga0f4paIfP9JzBdGxFiM/UvKXIToJJz8tW6TwuswrP34qSXY1xjA/xCISOTg+ND9UPulP3W04P0lDoR4eez0/cKtyLOfJQT+OQ/rcnXdFPywvAdoR6Ek/r60gb4hDTz/Cim5lTd1SP2GPM233w1Y/fyL3pyV5Wz+cq3BrxpNgP4hIo0VbAWQ/1ZvTVWokaD/6wVTTeiJtP6KWilRrlHE/nGC5pRI3dT/Js53BLZp5P8Lmtd+I5X4/S5lTiJWkgj+jc0D2hH+GPzZKu6yLJos/MjooA+9hkD8qHSlQNcWTP5rGGDHU25c/5ZERCOLKnD+PbsRKkF+hP+LYdH1J96Q/RTt22TNNqT8LcDXuo4iuPzDb5DKIbLI/K4ilSuA7tj9FyF4L6tS6P85Gh3WtMMA/w8RzMsSJwz/KlcJJGJTHP4YilJtQdMw/YmWlK1Qr0T9Y+rYcQLjUP3pZbWEhAdk/msjmSNYs3j92ampkIzXiPwQmpP8G+eU/tUgv2T2E6j8AAAAAAADwPw==\",\"dtype\":\"float64\",\"shape\":[50]},\"y\":{\"__ndarray__\":\"AAAAAAAAuDwAAAAAAAAAAAAAAAAAAAAAAAAAAAAAsDwAAAAAAACwPAAAAAAAALA8AAAAAAAAsDwAAAAAAADIPAAAAAAAANw8AAAAAAAA7DwAAAAAAAD8PAAAAAAAgA09AAAAAAAgHz0AAAAAAHAwPQAAAAAAeEE9AAAAAACMUj0AAAAAAKpjPQAAAAAA2nQ9AAAAAIAehj0AAAAAQHSXPQAAAABg36g9AAAAAHhguj0AAAAA2PjLPQAAAADsqd09AAAAADB17z0AAAAAH64APgAAAIBjsBE+AAAAMErCIj4AAADgx+QzPgAAAODgGEU+AAAA+KpfVj4AAADeT7pnPgAAgMcPKnk+AAAAQ0Wwij4AACCdak6cPgAAkLEhBq4+AACwaD/Zvz4AALRx7uTQPgAADLc47eE+AAA8Bv0G8z4AwHYWGzQEPwDg7bYCdxU/ACDDtPzSJj8AAPcInUw4PwDwx1N36kk/ALQGmT+2Wz8Aov+wn75tP4AlsKUhDYA/oJP+/IZ2kT8Q0X8arjijPw==\",\"dtype\":\"float64\",\"shape\":[50]}},\"selected\":{\"id\":\"8547\",\"type\":\"Selection\"},\"selection_policy\":{\"id\":\"8548\",\"type\":\"UnionRenderers\"}},\"id\":\"8239\",\"type\":\"ColumnDataSource\"},{\"attributes\":{\"source\":{\"id\":\"8239\",\"type\":\"ColumnDataSource\"}},\"id\":\"8243\",\"type\":\"CDSView\"},{\"attributes\":{},\"id\":\"8237\",\"type\":\"UnionRenderers\"},{\"attributes\":{\"data_source\":{\"id\":\"8223\",\"type\":\"ColumnDataSource\"},\"glyph\":{\"id\":\"8224\",\"type\":\"Scatter\"},\"hover_glyph\":null,\"muted_glyph\":null,\"nonselection_glyph\":{\"id\":\"8225\",\"type\":\"Scatter\"},\"selection_glyph\":null,\"view\":{\"id\":\"8227\",\"type\":\"CDSView\"}},\"id\":\"8226\",\"type\":\"GlyphRenderer\"},{\"attributes\":{},\"id\":\"8254\",\"type\":\"Selection\"},{\"attributes\":{},\"id\":\"8171\",\"type\":\"LogScale\"},{\"attributes\":{},\"id\":\"8221\",\"type\":\"UnionRenderers\"},{\"attributes\":{\"fill_color\":{\"value\":\"red\"},\"line_color\":{\"value\":\"red\"},\"line_width\":{\"value\":2},\"marker\":{\"value\":\"square\"},\"x\":{\"field\":\"x\"},\"y\":{\"field\":\"y\"}},\"id\":\"8197\",\"type\":\"Scatter\"},{\"attributes\":{\"label\":{\"value\":\"ff\"},\"renderers\":[{\"id\":\"8212\",\"type\":\"GlyphRenderer\"}]},\"id\":\"8222\",\"type\":\"LegendItem\"},{\"attributes\":{},\"id\":\"8184\",\"type\":\"WheelZoomTool\"},{\"attributes\":{\"fill_color\":{\"value\":\"#1f77b4\"},\"line_color\":{\"value\":\"#1f77b4\"},\"line_width\":{\"value\":2},\"x\":{\"field\":\"x\"},\"y\":{\"field\":\"y\"}},\"id\":\"8210\",\"type\":\"Scatter\"},{\"attributes\":{\"active_drag\":\"auto\",\"active_inspect\":\"auto\",\"active_multi\":null,\"active_scroll\":\"auto\",\"active_tap\":\"auto\",\"tools\":[{\"id\":\"8183\",\"type\":\"PanTool\"},{\"id\":\"8184\",\"type\":\"WheelZoomTool\"},{\"id\":\"8185\",\"type\":\"BoxZoomTool\"},{\"id\":\"8186\",\"type\":\"SaveTool\"},{\"id\":\"8187\",\"type\":\"ResetTool\"},{\"id\":\"8188\",\"type\":\"HelpTool\"}]},\"id\":\"8189\",\"type\":\"Toolbar\"},{\"attributes\":{\"overlay\":{\"id\":\"8206\",\"type\":\"BoxAnnotation\"}},\"id\":\"8185\",\"type\":\"BoxZoomTool\"},{\"attributes\":{},\"id\":\"8236\",\"type\":\"Selection\"},{\"attributes\":{\"data_source\":{\"id\":\"8239\",\"type\":\"ColumnDataSource\"},\"glyph\":{\"id\":\"8240\",\"type\":\"Scatter\"},\"hover_glyph\":null,\"muted_glyph\":null,\"nonselection_glyph\":{\"id\":\"8241\",\"type\":\"Scatter\"},\"selection_glyph\":null,\"view\":{\"id\":\"8243\",\"type\":\"CDSView\"}},\"id\":\"8242\",\"type\":\"GlyphRenderer\"},{\"attributes\":{\"callback\":null,\"start\":1e-12},\"id\":\"8167\",\"type\":\"Range1d\"},{\"attributes\":{\"source\":{\"id\":\"8196\",\"type\":\"ColumnDataSource\"}},\"id\":\"8200\",\"type\":\"CDSView\"},{\"attributes\":{\"ticker\":{\"id\":\"8174\",\"type\":\"LogTicker\"}},\"id\":\"8177\",\"type\":\"Grid\"},{\"attributes\":{\"items\":[{\"id\":\"8208\",\"type\":\"LegendItem\"},{\"id\":\"8222\",\"type\":\"LegendItem\"},{\"id\":\"8238\",\"type\":\"LegendItem\"},{\"id\":\"8256\",\"type\":\"LegendItem\"}],\"location\":\"top_left\"},\"id\":\"8207\",\"type\":\"Legend\"},{\"attributes\":{},\"id\":\"8183\",\"type\":\"PanTool\"},{\"attributes\":{\"axis_label\":\"kdx\",\"axis_label_text_font_size\":{\"value\":\"16pt\"},\"formatter\":{\"id\":\"8203\",\"type\":\"LogTickFormatter\"},\"major_label_text_font_size\":{\"value\":\"16pt\"},\"ticker\":{\"id\":\"8174\",\"type\":\"LogTicker\"}},\"id\":\"8173\",\"type\":\"LogAxis\"},{\"attributes\":{},\"id\":\"8547\",\"type\":\"Selection\"},{\"attributes\":{\"ticker\":null},\"id\":\"8205\",\"type\":\"LogTickFormatter\"},{\"attributes\":{\"callback\":null,\"data\":{\"x\":{\"__ndarray__\":\"LUMc6+I2Gj8ga0f4paIfP9JzBdGxFiM/UvKXIToJJz8tW6TwuswrP34qSXY1xjA/xCISOTg+ND9UPulP3W04P0lDoR4eez0/cKtyLOfJQT+OQ/rcnXdFPywvAdoR6Ek/r60gb4hDTz/Cim5lTd1SP2GPM233w1Y/fyL3pyV5Wz+cq3BrxpNgP4hIo0VbAWQ/1ZvTVWokaD/6wVTTeiJtP6KWilRrlHE/nGC5pRI3dT/Js53BLZp5P8Lmtd+I5X4/S5lTiJWkgj+jc0D2hH+GPzZKu6yLJos/MjooA+9hkD8qHSlQNcWTP5rGGDHU25c/5ZERCOLKnD+PbsRKkF+hP+LYdH1J96Q/RTt22TNNqT8LcDXuo4iuPzDb5DKIbLI/K4ilSuA7tj9FyF4L6tS6P85Gh3WtMMA/w8RzMsSJwz/KlcJJGJTHP4YilJtQdMw/YmWlK1Qr0T9Y+rYcQLjUP3pZbWEhAdk/msjmSNYs3j92ampkIzXiPwQmpP8G+eU/tUgv2T2E6j8AAAAAAADwPw==\",\"dtype\":\"float64\",\"shape\":[50]},\"y\":{\"__ndarray__\":\"AAAAwBOiHD4AAADgktkkPgAAAABeXS4+AAAAoF0cNj4AAACIuxlAPgAAANCtckc+AAAABP8SUT4AAACQsd1YPgAAAIhVG2I+AAAAbKleaj4AAAB1qDNzPgAAAEPp9ns+AACATe9chD4AAICL2aeNPgAAwIkwmJU+AADAivhynz4AAKCMguamPgAAINvtrLA+AABwnQxJuD4AAOiUGK/BPgAAaAMIwck+AAA8qODA0j4AALBIwU/bPgAAvG044+M+AAAYypn27D4AADinIRf1PgAAGt0Jt/4+AADjX69dBj8AwN8ZUkkQPwAAIRcJuBc/AOB5+o1FIT8A4CjDcCcpPwAwcWkoUTI/ADCjJ0+tOj8AkOtBNG1DPwDYwVdOS0w/AJDBIAObVD8A7C0NlANePwDIjuhi3GU/AFRjr0PZbz8AFLluJzR3PwBCIyzR6IA/AJ/xrWCniD/Ax32JVfuRP8CDRRYbQJo/AKYyInkuoz/gX+7GsxOsP3D1BSCrmLQ/oGXZ+MdRvj8QzHUi/mzGPw==\",\"dtype\":\"float64\",\"shape\":[50]}},\"selected\":{\"id\":\"8254\",\"type\":\"Selection\"},\"selection_policy\":{\"id\":\"8255\",\"type\":\"UnionRenderers\"}},\"id\":\"8223\",\"type\":\"ColumnDataSource\"},{\"attributes\":{\"bottom_units\":\"screen\",\"fill_alpha\":{\"value\":0.5},\"fill_color\":{\"value\":\"lightgrey\"},\"left_units\":\"screen\",\"level\":\"overlay\",\"line_alpha\":{\"value\":1.0},\"line_color\":{\"value\":\"black\"},\"line_dash\":[4,4],\"line_width\":{\"value\":2},\"render_mode\":\"css\",\"right_units\":\"screen\",\"top_units\":\"screen\"},\"id\":\"8206\",\"type\":\"BoxAnnotation\"},{\"attributes\":{\"num_minor_ticks\":10},\"id\":\"8179\",\"type\":\"LogTicker\"},{\"attributes\":{},\"id\":\"8188\",\"type\":\"HelpTool\"},{\"attributes\":{},\"id\":\"8186\",\"type\":\"SaveTool\"},{\"attributes\":{\"source\":{\"id\":\"8209\",\"type\":\"ColumnDataSource\"}},\"id\":\"8213\",\"type\":\"CDSView\"},{\"attributes\":{\"fill_alpha\":{\"value\":0.1},\"fill_color\":{\"value\":\"#1f77b4\"},\"line_alpha\":{\"value\":0.1},\"line_color\":{\"value\":\"#1f77b4\"},\"line_width\":{\"value\":2},\"x\":{\"field\":\"x\"},\"y\":{\"field\":\"y\"}},\"id\":\"8225\",\"type\":\"Scatter\"},{\"attributes\":{\"num_minor_ticks\":10},\"id\":\"8174\",\"type\":\"LogTicker\"},{\"attributes\":{\"fill_color\":{\"value\":\"green\"},\"line_color\":{\"value\":\"green\"},\"line_width\":{\"value\":2},\"x\":{\"field\":\"x\"},\"y\":{\"field\":\"y\"}},\"id\":\"8224\",\"type\":\"Scatter\"},{\"attributes\":{\"fill_alpha\":{\"value\":0.1},\"fill_color\":{\"value\":\"#1f77b4\"},\"line_alpha\":{\"value\":0.1},\"line_color\":{\"value\":\"#1f77b4\"},\"line_width\":{\"value\":2},\"x\":{\"field\":\"x\"},\"y\":{\"field\":\"y\"}},\"id\":\"8241\",\"type\":\"Scatter\"},{\"attributes\":{},\"id\":\"8548\",\"type\":\"UnionRenderers\"},{\"attributes\":{\"label\":{\"value\":\"sc\"},\"renderers\":[{\"id\":\"8226\",\"type\":\"GlyphRenderer\"}]},\"id\":\"8238\",\"type\":\"LegendItem\"},{\"attributes\":{\"axis_label\":\"Error\",\"axis_label_text_font_size\":{\"value\":\"16pt\"},\"formatter\":{\"id\":\"8205\",\"type\":\"LogTickFormatter\"},\"major_label_text_font_size\":{\"value\":\"16pt\"},\"ticker\":{\"id\":\"8179\",\"type\":\"LogTicker\"}},\"id\":\"8178\",\"type\":\"LogAxis\"},{\"attributes\":{\"label\":{\"value\":\"fb\"},\"renderers\":[{\"id\":\"8199\",\"type\":\"GlyphRenderer\"}]},\"id\":\"8208\",\"type\":\"LegendItem\"},{\"attributes\":{\"ticker\":null},\"id\":\"8203\",\"type\":\"LogTickFormatter\"},{\"attributes\":{\"data_source\":{\"id\":\"8209\",\"type\":\"ColumnDataSource\"},\"glyph\":{\"id\":\"8210\",\"type\":\"Scatter\"},\"hover_glyph\":null,\"muted_glyph\":null,\"nonselection_glyph\":{\"id\":\"8211\",\"type\":\"Scatter\"},\"selection_glyph\":null,\"view\":{\"id\":\"8213\",\"type\":\"CDSView\"}},\"id\":\"8212\",\"type\":\"GlyphRenderer\"},{\"attributes\":{\"callback\":null,\"start\":0.0001},\"id\":\"8165\",\"type\":\"Range1d\"},{\"attributes\":{\"fill_alpha\":{\"value\":0.1},\"fill_color\":{\"value\":\"#1f77b4\"},\"line_alpha\":{\"value\":0.1},\"line_color\":{\"value\":\"#1f77b4\"},\"line_width\":{\"value\":2},\"marker\":{\"value\":\"square\"},\"x\":{\"field\":\"x\"},\"y\":{\"field\":\"y\"}},\"id\":\"8198\",\"type\":\"Scatter\"},{\"attributes\":{\"fill_color\":{\"value\":\"black\"},\"line_width\":{\"value\":2},\"x\":{\"field\":\"x\"},\"y\":{\"field\":\"y\"}},\"id\":\"8240\",\"type\":\"Scatter\"},{\"attributes\":{},\"id\":\"8169\",\"type\":\"LogScale\"},{\"attributes\":{\"callback\":null,\"data\":{\"x\":{\"__ndarray__\":\"LUMc6+I2Gj8ga0f4paIfP9JzBdGxFiM/UvKXIToJJz8tW6TwuswrP34qSXY1xjA/xCISOTg+ND9UPulP3W04P0lDoR4eez0/cKtyLOfJQT+OQ/rcnXdFPywvAdoR6Ek/r60gb4hDTz/Cim5lTd1SP2GPM233w1Y/fyL3pyV5Wz+cq3BrxpNgP4hIo0VbAWQ/1ZvTVWokaD/6wVTTeiJtP6KWilRrlHE/nGC5pRI3dT/Js53BLZp5P8Lmtd+I5X4/S5lTiJWkgj+jc0D2hH+GPzZKu6yLJos/MjooA+9hkD8qHSlQNcWTP5rGGDHU25c/5ZERCOLKnD+PbsRKkF+hP+LYdH1J96Q/RTt22TNNqT8LcDXuo4iuPzDb5DKIbLI/K4ilSuA7tj9FyF4L6tS6P85Gh3WtMMA/w8RzMsSJwz/KlcJJGJTHP4YilJtQdMw/YmWlK1Qr0T9Y+rYcQLjUP3pZbWEhAdk/msjmSNYs3j92ampkIzXiPwQmpP8G+eU/tUgv2T2E6j8AAAAAAADwPw==\",\"dtype\":\"float64\",\"shape\":[50]},\"y\":{\"__ndarray__\":\"AAAAwBOiHD4AAADgktkkPgAAAABeXS4+AAAAoF0cNj4AAACIuxlAPgAAANCtckc+AAAABP8SUT4AAACQsd1YPgAAAIhVG2I+AAAAbKleaj4AAAB1qDNzPgAAAEPp9ns+AACATe9chD4AAICL2aeNPgAAwIkwmJU+AADAivhynz4AAKCMguamPgAAINvtrLA+AABwnQxJuD4AAOiUGK/BPgAAaAMIwck+AAA8qODA0j4AALBIwU/bPgAAvG044+M+AAAYypn27D4AADinIRf1PgAAGt0Jt/4+AADjX69dBj8AwN8ZUkkQPwAAIRcJuBc/AOB5+o1FIT8A4CjDcCcpPwAwcWkoUTI/ADCjJ0+tOj8AkOtBNG1DPwDYwVdOS0w/AJDBIAObVD8A7C0NlANePwDIjuhi3GU/AFRjr0PZbz8AFLluJzR3PwBCIyzR6IA/AJ/xrWCniD/Ax32JVfuRP8CDRRYbQJo/AKYyInkuoz/gX+7GsxOsP3D1BSCrmLQ/oGXZ+MdRvj8QzHUi/mzGPw==\",\"dtype\":\"float64\",\"shape\":[50]}},\"selected\":{\"id\":\"8236\",\"type\":\"Selection\"},\"selection_policy\":{\"id\":\"8237\",\"type\":\"UnionRenderers\"}},\"id\":\"8209\",\"type\":\"ColumnDataSource\"},{\"attributes\":{\"dimension\":1,\"ticker\":{\"id\":\"8179\",\"type\":\"LogTicker\"}},\"id\":\"8182\",\"type\":\"Grid\"},{\"attributes\":{\"data_source\":{\"id\":\"8196\",\"type\":\"ColumnDataSource\"},\"glyph\":{\"id\":\"8197\",\"type\":\"Scatter\"},\"hover_glyph\":null,\"muted_glyph\":null,\"nonselection_glyph\":{\"id\":\"8198\",\"type\":\"Scatter\"},\"selection_glyph\":null,\"view\":{\"id\":\"8200\",\"type\":\"CDSView\"}},\"id\":\"8199\",\"type\":\"GlyphRenderer\"},{\"attributes\":{},\"id\":\"8187\",\"type\":\"ResetTool\"},{\"attributes\":{\"callback\":null,\"data\":{\"x\":{\"__ndarray__\":\"LUMc6+I2Gj8ga0f4paIfP9JzBdGxFiM/UvKXIToJJz8tW6TwuswrP34qSXY1xjA/xCISOTg+ND9UPulP3W04P0lDoR4eez0/cKtyLOfJQT+OQ/rcnXdFPywvAdoR6Ek/r60gb4hDTz/Cim5lTd1SP2GPM233w1Y/fyL3pyV5Wz+cq3BrxpNgP4hIo0VbAWQ/1ZvTVWokaD/6wVTTeiJtP6KWilRrlHE/nGC5pRI3dT/Js53BLZp5P8Lmtd+I5X4/S5lTiJWkgj+jc0D2hH+GPzZKu6yLJos/MjooA+9hkD8qHSlQNcWTP5rGGDHU25c/5ZERCOLKnD+PbsRKkF+hP+LYdH1J96Q/RTt22TNNqT8LcDXuo4iuPzDb5DKIbLI/K4ilSuA7tj9FyF4L6tS6P85Gh3WtMMA/w8RzMsSJwz/KlcJJGJTHP4YilJtQdMw/YmWlK1Qr0T9Y+rYcQLjUP3pZbWEhAdk/msjmSNYs3j92ampkIzXiPwQmpP8G+eU/tUgv2T2E6j8AAAAAAADwPw==\",\"dtype\":\"float64\",\"shape\":[50]},\"y\":{\"__ndarray__\":\"AAAAwBOiHD4AAADgktkkPgAAAABeXS4+AAAAoF0cNj4AAACIuxlAPgAAANCtckc+AAAABP8SUT4AAACQsd1YPgAAAIhVG2I+AAAAbKleaj4AAAB1qDNzPgAAAEPp9ns+AACATe9chD4AAICL2aeNPgAAwIkwmJU+AADAivhynz4AAKCMguamPgAAINvtrLA+AABwnQxJuD4AAOiUGK/BPgAAaAMIwck+AAA8qODA0j4AALBIwU/bPgAAvG044+M+AAAYypn27D4AADinIRf1PgAAGt0Jt/4+AADjX69dBj8AwN8ZUkkQPwAAIRcJuBc/AOB5+o1FIT8A4CjDcCcpPwAwcWkoUTI/ADCjJ0+tOj8AkOtBNG1DPwDYwVdOS0w/AJDBIAObVD8A7C0NlANePwDIjuhi3GU/AFRjr0PZbz8AFLluJzR3PwBCIyzR6IA/AJ/xrWCniD/Ax32JVfuRP8CDRRYbQJo/AKYyInkuoz/gX+7GsxOsP3D1BSCrmLQ/oGXZ+MdRvj8QzHUi/mzGPw==\",\"dtype\":\"float64\",\"shape\":[50]}},\"selected\":{\"id\":\"8220\",\"type\":\"Selection\"},\"selection_policy\":{\"id\":\"8221\",\"type\":\"UnionRenderers\"}},\"id\":\"8196\",\"type\":\"ColumnDataSource\"},{\"attributes\":{},\"id\":\"8220\",\"type\":\"Selection\"},{\"attributes\":{},\"id\":\"8255\",\"type\":\"UnionRenderers\"},{\"attributes\":{\"text\":\"x=0\"},\"id\":\"8163\",\"type\":\"Title\"}],\"root_ids\":[\"8162\"]},\"title\":\"Bokeh Application\",\"version\":\"1.4.0\"}};\n",
       "  var render_items = [{\"docid\":\"cfabd2de-64d2-4759-b280-b188d6c165e6\",\"roots\":{\"8162\":\"39db778c-854b-4798-8f7a-63a05dff4a6b\"}}];\n",
       "  root.Bokeh.embed.embed_items_notebook(docs_json, render_items);\n",
       "\n",
       "  }\n",
       "  if (root.Bokeh !== undefined) {\n",
       "    embed_document(root);\n",
       "  } else {\n",
       "    var attempts = 0;\n",
       "    var timer = setInterval(function(root) {\n",
       "      if (root.Bokeh !== undefined) {\n",
       "        clearInterval(timer);\n",
       "        embed_document(root);\n",
       "      } else {\n",
       "        attempts++;\n",
       "        if (attempts > 100) {\n",
       "          clearInterval(timer);\n",
       "          console.log(\"Bokeh: ERROR: Unable to run BokehJS code because BokehJS library is missing\");\n",
       "        }\n",
       "      }\n",
       "    }, 10, root)\n",
       "  }\n",
       "})(window);"
      ],
      "application/vnd.bokehjs_exec.v0+json": ""
     },
     "metadata": {
      "application/vnd.bokehjs_exec.v0+json": {
       "id": "8162"
      }
     },
     "output_type": "display_data"
    }
   ],
   "source": [
    "# Plot\n",
    "plotting.output_notebook()\n",
    "\n",
    "p = plotting.figure(title='x=0', x_axis_label='kdx',\n",
    "                    x_axis_type=\"log\", y_axis_type=\"log\",\n",
    "                   y_axis_label='Error', x_range=(10**-4, 1.),\n",
    "                   y_range=(1e-12, 1))\n",
    "\n",
    "# Plot em\n",
    "p.scatter(kdx_vals, error_fb, legend='fb', line_width=2, color='red', marker='square')\n",
    "p.scatter(kdx_vals, error_ff, legend='ff', line_width=2)\n",
    "p.scatter(kdx_vals, error_sc, legend='sc', line_width=2, color='green')\n",
    "p.scatter(kdx_vals, error_4, legend='4', line_width=2, color='black')\n",
    "\n",
    "\n",
    "p.legend.location = \"top_left\"\n",
    "\n",
    "os_plotting.bokeh_set_fontsize(p, 16)\n",
    "\n",
    "plotting.show(p)"
   ]
  },
  {
   "cell_type": "markdown",
   "metadata": {},
   "source": [
    "### The first-order behaves as well as second-order!\n",
    "\n",
    "### Must be due to the inflection in $\\sinh(x)$ at $x=0$"
   ]
  },
  {
   "cell_type": "code",
   "execution_count": null,
   "metadata": {},
   "outputs": [],
   "source": []
  }
 ],
 "metadata": {
  "kernelspec": {
   "display_name": "Python 3",
   "language": "python",
   "name": "python3"
  },
  "language_info": {
   "codemirror_mode": {
    "name": "ipython",
    "version": 3
   },
   "file_extension": ".py",
   "mimetype": "text/x-python",
   "name": "python",
   "nbconvert_exporter": "python",
   "pygments_lexer": "ipython3",
   "version": "3.7.6"
  }
 },
 "nbformat": 4,
 "nbformat_minor": 4
}
