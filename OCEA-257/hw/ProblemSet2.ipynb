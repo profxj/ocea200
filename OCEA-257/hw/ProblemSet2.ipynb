{
 "cells": [
  {
   "cell_type": "markdown",
   "metadata": {},
   "source": [
    "# Problem Set 2"
   ]
  },
  {
   "cell_type": "code",
   "execution_count": 1,
   "metadata": {},
   "outputs": [],
   "source": [
    "# imports\n",
    "import numpy as np\n",
    "from importlib import reload\n",
    "\n",
    "import unyt\n",
    "\n",
    "from oceanpy import constants\n",
    "from oceanpy.forces import coriolis\n",
    "\n",
    "from os_classes.ocea257 import chapter1, chapter2\n",
    "from os_classes import plotting as os_plotting\n",
    "\n",
    "\n",
    "from bokeh import plotting\n",
    "from bokeh import models"
   ]
  },
  {
   "cell_type": "markdown",
   "metadata": {},
   "source": [
    "# Analytic"
   ]
  },
  {
   "cell_type": "markdown",
   "metadata": {},
   "source": [
    "## PS2-1 (7-1) -- Geostrophy Conditions\n",
    "\n",
    "### Geostrophy refers to conditions where the Coriolis force is balanced by pressure forces\n",
    "\n",
    "### This occurs when the Coriolis acceleration is greater than:  (i) advective acceleration, (ii) time rates of change, and (iii) viscous accelerations.  These conditions are generally codified in the following dimensionaless ratios:\n",
    "\n",
    "### (i) $R_O \\equiv \\frac{U}{\\Omega L} \\ll 1$   [Rossby Number]\n",
    "\n",
    "### (ii) $R_{OT} \\equiv \\frac{1}{\\Omega T} \\ll 1$  [Temporal Rossby Number]\n",
    "\n",
    "### (iii) $E_K \\equiv \\frac{\\nu_E}{\\Omega H^2} \\ll 1$   [Ekman Number]\n",
    "\n",
    "#### where $U$ is the characterstic velocity, $\\Omega$ is the angular veloctity, $T$ is the time scale, $L$ is the length scale, $H$ is the height scale and $\\nu_E$ is the viscosity."
   ]
  },
  {
   "cell_type": "markdown",
   "metadata": {},
   "source": [
    "### Setup -- Rotating tank"
   ]
  },
  {
   "cell_type": "code",
   "execution_count": 11,
   "metadata": {},
   "outputs": [],
   "source": [
    "U = 1 * unyt.cm/unyt.s  # flow velocity\n",
    "Omega = 30. / unyt.minute   # rotation \n",
    "L = 20 * unyt.cm   # tank diameter\n",
    "nu_E = 1e-6 * unyt.m**2/unyt.s # viscocity\n",
    "H = 15 * unyt.cm # Height, although it may be only the upper surface matters"
   ]
  },
  {
   "cell_type": "code",
   "execution_count": 8,
   "metadata": {},
   "outputs": [
    {
     "data": {
      "text/plain": [
       "unyt_quantity(20., 's')"
      ]
     },
     "execution_count": 8,
     "metadata": {},
     "output_type": "execute_result"
    }
   ],
   "source": [
    "# Time\n",
    "T = L/U\n",
    "T"
   ]
  },
  {
   "cell_type": "markdown",
   "metadata": {},
   "source": [
    "### Ratios"
   ]
  },
  {
   "cell_type": "code",
   "execution_count": 5,
   "metadata": {},
   "outputs": [
    {
     "data": {
      "text/plain": [
       "unyt_quantity(0.1, '(dimensionless)')"
      ]
     },
     "execution_count": 5,
     "metadata": {},
     "output_type": "execute_result"
    }
   ],
   "source": [
    "# Rossby\n",
    "R_O = U / (Omega*L)\n",
    "R_O"
   ]
  },
  {
   "cell_type": "code",
   "execution_count": 9,
   "metadata": {},
   "outputs": [
    {
     "data": {
      "text/plain": [
       "unyt_quantity(0.1, '(dimensionless)')"
      ]
     },
     "execution_count": 9,
     "metadata": {},
     "output_type": "execute_result"
    }
   ],
   "source": [
    "# Temporal Rossby \n",
    "R_OT = 1/(Omega * T)\n",
    "R_OT"
   ]
  },
  {
   "cell_type": "code",
   "execution_count": 12,
   "metadata": {},
   "outputs": [
    {
     "data": {
      "text/plain": [
       "unyt_quantity(8.88888889e-05, '(dimensionless)')"
      ]
     },
     "execution_count": 12,
     "metadata": {},
     "output_type": "execute_result"
    }
   ],
   "source": [
    "# Ekman\n",
    "E_K = nu_E / (Omega * H**2)\n",
    "E_K"
   ]
  },
  {
   "cell_type": "markdown",
   "metadata": {},
   "source": [
    "### All of these are less than (with $E_K \\ll 1$) and geostrophy should hold"
   ]
  },
  {
   "cell_type": "markdown",
   "metadata": {},
   "source": [
    "----"
   ]
  },
  {
   "cell_type": "markdown",
   "metadata": {},
   "source": [
    "## PS2-2 Geostrophic current"
   ]
  },
  {
   "cell_type": "markdown",
   "metadata": {},
   "source": [
    "### Setup"
   ]
  },
  {
   "cell_type": "code",
   "execution_count": 15,
   "metadata": {},
   "outputs": [],
   "source": [
    "u = 5 * unyt.cm / unyt.s  # West to East\n",
    "Delta_y = 200 * unyt.km\n",
    "phi = -60 * unyt.deg # South"
   ]
  },
  {
   "cell_type": "markdown",
   "metadata": {},
   "source": [
    "## Key Equation of Geostrophy\n",
    "\n",
    "\n",
    "### $f u = - \\frac{1}{\\rho_0} \\frac{\\partial p}{\\partial y}$"
   ]
  },
  {
   "cell_type": "code",
   "execution_count": 17,
   "metadata": {},
   "outputs": [
    {
     "data": {
      "text/plain": [
       "unyt_quantity(1023.6, 'kg/m**3')"
      ]
     },
     "execution_count": 17,
     "metadata": {},
     "output_type": "execute_result"
    }
   ],
   "source": [
    "rho_0 = 1 * unyt.density_seawater\n",
    "rho_0.to('kg/m**3')"
   ]
  },
  {
   "cell_type": "code",
   "execution_count": 20,
   "metadata": {},
   "outputs": [
    {
     "data": {
      "text/plain": [
       "unyt_quantity(-0.0001263, '1/s')"
      ]
     },
     "execution_count": 20,
     "metadata": {},
     "output_type": "execute_result"
    }
   ],
   "source": [
    "f = coriolis.coriolis_parameter(phi)\n",
    "f.to('1/s')  # Note the negative sign"
   ]
  },
  {
   "cell_type": "markdown",
   "metadata": {},
   "source": [
    "### Rearranging\n",
    "\n",
    "### $\\frac{\\partial p}{\\partial y} = - \\rho_0 f u$"
   ]
  },
  {
   "cell_type": "code",
   "execution_count": 22,
   "metadata": {},
   "outputs": [
    {
     "data": {
      "text/plain": [
       "unyt_quantity(0.0064642, 'Pa/m')"
      ]
     },
     "execution_count": 22,
     "metadata": {},
     "output_type": "execute_result"
    }
   ],
   "source": [
    "# Calculate\n",
    "dp_dy = -rho_0 * f * u\n",
    "dp_dy.to('Pa/m')"
   ]
  },
  {
   "cell_type": "markdown",
   "metadata": {},
   "source": [
    "### Because $\\partial p/\\partial y > 0$, this implies higher $p$ to the North hence a higher height."
   ]
  },
  {
   "cell_type": "markdown",
   "metadata": {},
   "source": [
    "### We may estimate the height difference as\n",
    "\n",
    "### $\\Delta p = \\rho_0 g \\Delta h$\n",
    "\n",
    "### or $\\Delta h = \\Delta p / (g \\rho_0)$\n",
    "\n",
    "### and recognize $\\Delta p \\approx (\\partial p/\\partial y) \\Delta y$"
   ]
  },
  {
   "cell_type": "code",
   "execution_count": 23,
   "metadata": {},
   "outputs": [
    {
     "data": {
      "text/plain": [
       "unyt_quantity(12.88809023, 'cm')"
      ]
     },
     "execution_count": 23,
     "metadata": {},
     "output_type": "execute_result"
    }
   ],
   "source": [
    "# Calculate\n",
    "g = 9.8 * unyt.m / unyt.s**2\n",
    "\n",
    "Dh = dp_dy * Delta_y / (g * rho_0)\n",
    "Dh.to('cm')"
   ]
  },
  {
   "cell_type": "markdown",
   "metadata": {},
   "source": [
    "### We find the sea surface is $\\approx 13$cm higher on the North side."
   ]
  },
  {
   "cell_type": "markdown",
   "metadata": {},
   "source": [
    "----"
   ]
  },
  {
   "cell_type": "markdown",
   "metadata": {},
   "source": [
    "# PS2-3 (7-2)\n",
    "\n",
    "## It is rather straightforward to identify the terms to re-insert the $f_*$ terms:\n",
    "\n",
    "## $-f v + f_* w = -\\frac{1}{\\rho_0} \\frac{\\partial p}{\\partial x}$\n",
    "\n",
    "## $fu = -\\frac{1}{\\rho_0} \\frac{\\partial p}{\\partial y}$\n",
    "\n",
    "## $-f_* u = \\frac{1}{\\rho_0} \\frac{\\partial p}{\\partial z}$"
   ]
  },
  {
   "cell_type": "markdown",
   "metadata": {},
   "source": [
    "## We wish to show that motions around the axis of rotation (i.e. $u,v$, with each normal to the rotation vector $\\bar \\Omega$) are columnar.  That means $\\partial u/\\partial z = \\partial v/\\partial z = 0$"
   ]
  },
  {
   "cell_type": "markdown",
   "metadata": {},
   "source": [
    "## I fear I can't quite intuit this one.."
   ]
  },
  {
   "cell_type": "markdown",
   "metadata": {},
   "source": [
    "----"
   ]
  },
  {
   "cell_type": "markdown",
   "metadata": {},
   "source": [
    "# PS2-4"
   ]
  },
  {
   "cell_type": "markdown",
   "metadata": {},
   "source": [
    "## We begin by taking the curl of the horizontal momentum equations:\n",
    "\n",
    "## $\\frac{\\partial u}{\\partial t} + u \\frac{\\partial u}{\\partial x}+ v \\frac{\\partial u}{\\partial y} - fv = -g \\frac{\\partial \\eta}{\\partial x}$\n",
    "\n",
    "## $\\frac{\\partial v}{\\partial t} + u \\frac{\\partial v}{\\partial x}+ v \\frac{\\partial v}{\\partial y} + fu = -g \\frac{\\partial \\eta}{\\partial y}$"
   ]
  },
  {
   "cell_type": "markdown",
   "metadata": {},
   "source": [
    "## This gives (before subtracting):\n",
    "\n",
    "## $\\frac{\\partial^2 v}{\\partial t \\partial x} + \\frac{\\partial u}{\\partial x} \\frac{\\partial v}{\\partial x} + u \\frac{\\partial^2 v}{\\partial x^2} + \\frac{\\partial v}{\\partial x} \\frac{\\partial v}{\\partial y} + v \\frac{\\partial^2 v}{\\partial y \\partial x} + f \\frac{\\partial u}{\\partial x} + u \\frac{\\partial f}{\\partial x} = -g \\frac{\\partial^2 \\eta}{\\partial y \\partial x}$\n",
    "\n",
    "## $\\frac{\\partial^2 u}{\\partial t \\partial y} + \\frac{\\partial u}{\\partial x} \\frac{\\partial u}{\\partial y} + u \\frac{\\partial^2 u}{\\partial x \\partial y} + \\frac{\\partial v}{\\partial y} \\frac{\\partial u}{\\partial y} + v \\frac{\\partial^2 u}{\\partial y^2} - f \\frac{\\partial v}{\\partial y} - v \\frac{\\partial f}{\\partial y} = -g \\frac{\\partial^2 \\eta}{\\partial y \\partial x}$"
   ]
  },
  {
   "cell_type": "markdown",
   "metadata": {},
   "source": [
    "## Subtracting and grouping a few terms\n",
    "\n",
    "## $\\frac{\\partial}{\\partial t} (\\frac{\\partial v}{\\partial x} - \\frac{\\partial u}{\\partial y}) + f (\\frac{\\partial u}{\\partial x} + \\frac{\\partial v}{\\partial y})\n",
    "+ (\\frac{\\partial u}{\\partial x} + \\frac{\\partial v}{\\partial y}) (\\frac{\\partial v}{\\partial x} - \\frac{\\partial u}{\\partial y}) + u (\\frac{\\partial^2 v}{\\partial x^2} - \\frac{\\partial^2 v}{\\partial x \\partial y}) + v (\\frac{\\partial^2 v}{\\partial x \\partial y} - \\frac{\\partial^2 u}{\\partial y^2}) + u \\frac{\\partial f}{\\partial x} + v \\frac{\\partial f}{\\partial y} = 0$"
   ]
  },
  {
   "cell_type": "markdown",
   "metadata": {},
   "source": [
    "## Which, guided by C-R section 7.4 may be re-written as:\n",
    "\n",
    "## $\\frac{d}{dt} (f + \\frac{\\partial v}{\\partial x} - \\frac{\\partial u}{\\partial y})\n",
    "+ (\\frac{\\partial u}{\\partial x} + \\frac{\\partial v}{\\partial y}) (f + \\frac{\\partial v}{\\partial x} - \\frac{\\partial u}{\\partial y}) = 0$\n",
    "\n",
    "## or \n",
    "\n",
    "## $\\frac{d}{dt} (f + \\zeta)\n",
    "+ (\\frac{\\partial u}{\\partial x} + \\frac{\\partial v}{\\partial y}) (f + \\zeta) = 0$"
   ]
  },
  {
   "cell_type": "markdown",
   "metadata": {},
   "source": [
    "## Now, we examine the continuity equation:\n",
    "\n",
    "## $\\frac{\\partial h}{\\partial t} + \\frac{\\partial}{\\partial x} (hu) + \\frac{\\partial}{\\partial y} (hv) = 0$\n",
    "\n",
    "## Insert the material time derivative:\n",
    "\n",
    "## $\\frac{d h}{dt} = \\frac{\\partial h}{\\partial t} + u \\frac{\\partial h}{\\partial x} + v \\frac{\\partial h}{\\partial y}$\n",
    "\n",
    "## And rearrange to get:\n",
    "\n",
    "## $\\frac{d h}{dt} + (\\frac{\\partial u}{\\partial x} + \\frac{\\partial v}{\\partial y}) h = 0$"
   ]
  },
  {
   "cell_type": "markdown",
   "metadata": {},
   "source": [
    "## I now follow C-R (shamelessly) to introduce a incompressible fluid column of cross-section $ds$ with volume $hds$.  Its incompressibility implies:\n",
    "\n",
    "## $\\frac{d}{dt} (h \\, ds) = 0$\n",
    "\n",
    "## Expanding, \n",
    "\n",
    "## $\\frac{dh}{dt} ds + h \\frac{d}{dt} ds = 0$"
   ]
  },
  {
   "cell_type": "markdown",
   "metadata": {},
   "source": [
    "## Using our re-write of the continuity equation from above, we recover:\n",
    "\n",
    "## $\\frac{d}{dt} ds = (\\frac{\\partial u}{\\partial x} + \\frac{\\partial v}{\\partial y}) ds$"
   ]
  },
  {
   "cell_type": "markdown",
   "metadata": {},
   "source": [
    "## Combining the above with the equation derived from the curl, gives:\n",
    "\n",
    "## $\\frac{d}{dt} [(f+\\zeta)ds] = 0$"
   ]
  },
  {
   "cell_type": "markdown",
   "metadata": {},
   "source": [
    "## And as we have already shown $d/dt (hds) = 0$, the ratio of each will also be 0\n",
    "\n",
    "## $\\frac{d}{dt} \\left (\\frac{f + \\zeta}{h} \\right ) = 0$\n",
    "\n",
    "## or\n",
    "\n",
    "## $\\frac{Dq}{Dt} = 0$"
   ]
  },
  {
   "cell_type": "markdown",
   "metadata": {},
   "source": [
    "----"
   ]
  },
  {
   "cell_type": "markdown",
   "metadata": {},
   "source": [
    "# PS2-5 (CR 7-6) -- Jet flow\n",
    "\n",
    "### In the following, we will adopt our continuity equation for the shallow-water model and also conserve potential vorticity, i.e.\n",
    "\n",
    "### $\\frac{\\partial \\eta}{\\partial t} + \\frac{\\partial}{\\partial x} (hu) + \\frac{\\partial}{\\partial y} (hv) = 0$\n",
    "\n",
    "### and\n",
    "\n",
    "### $q = \\frac{f + \\zeta}{h}$ is a constant\n",
    "\n",
    "### We will set a coordinate system where the jet is travelling along $\\hat x$ and where $\\Delta U / \\Delta y \\approx U_1/L_1 > 0$, as per the figure in C-R."
   ]
  },
  {
   "cell_type": "code",
   "execution_count": 25,
   "metadata": {},
   "outputs": [],
   "source": [
    "# Setup\n",
    "H1 = 200 * unyt.m\n",
    "H2 = 160 * unyt.m\n",
    "U1 = 0.5 * unyt.m / unyt.s\n",
    "L1 = 10 * unyt.km\n",
    "f = 1e-4 / unyt.s"
   ]
  },
  {
   "cell_type": "markdown",
   "metadata": {},
   "source": [
    "### Is this flow geostropic?"
   ]
  },
  {
   "cell_type": "code",
   "execution_count": 26,
   "metadata": {},
   "outputs": [
    {
     "data": {
      "text/plain": [
       "unyt_quantity(0.5, '(dimensionless)')"
      ]
     },
     "execution_count": 26,
     "metadata": {},
     "output_type": "execute_result"
    }
   ],
   "source": [
    "R_O = (U1/L1) / f\n",
    "R_O\n",
    "# E_k is satisfied as we are frictionless"
   ]
  },
  {
   "cell_type": "markdown",
   "metadata": {},
   "source": [
    "### So we are marginally geostrophic"
   ]
  },
  {
   "cell_type": "markdown",
   "metadata": {},
   "source": [
    "### Can we apply the rigid lid approximation?"
   ]
  },
  {
   "cell_type": "code",
   "execution_count": 27,
   "metadata": {},
   "outputs": [
    {
     "data": {
      "text/plain": [
       "unyt_quantity(0.0005102, '(dimensionless)')"
      ]
     },
     "execution_count": 27,
     "metadata": {},
     "output_type": "execute_result"
    }
   ],
   "source": [
    "f**2 * L1**2 / (9.8*unyt.m/unyt.s**2 * H1)   # Equation 7.31 of C-R"
   ]
  },
  {
   "cell_type": "markdown",
   "metadata": {},
   "source": [
    "### We can!  Therefore $\\partial \\eta / \\partial t$ may be neglected and we have:\n",
    "\n",
    "### $\\frac{\\partial}{\\partial x} (hu) + \\frac{\\partial}{\\partial y} (hv) = 0$"
   ]
  },
  {
   "cell_type": "markdown",
   "metadata": {},
   "source": [
    "### As we have a jet with $v \\approx 0$, we will neglect the 2nd term, leaving:\n",
    "\n",
    "### $\\frac{\\partial}{\\partial x} (hu) = 0$"
   ]
  },
  {
   "cell_type": "markdown",
   "metadata": {},
   "source": [
    "### So, as we cross the escarpment, we expect:\n",
    "\n",
    "###  $H_1 U_1 \\approx H_2 U_2$"
   ]
  },
  {
   "cell_type": "code",
   "execution_count": 28,
   "metadata": {},
   "outputs": [
    {
     "data": {
      "text/plain": [
       "unyt_quantity(0.625, 'm/s')"
      ]
     },
     "execution_count": 28,
     "metadata": {},
     "output_type": "execute_result"
    }
   ],
   "source": [
    "U2 = U1 * H1 / H2\n",
    "U2"
   ]
  },
  {
   "cell_type": "markdown",
   "metadata": {},
   "source": [
    "### Last, we conserve potential vorticity\n",
    "\n",
    "### $q = \\frac{f + \\zeta}{h} = \\frac{f + \\zeta_1}{H_1} = \\frac{f + \\zeta_2}{H_2}$\n",
    "\n",
    "### with $\\zeta = \\partial v / \\partial x - \\partial u / \\partial y$\n",
    "\n",
    "### Again, we will ignore terms related to $v$ giving:\n",
    "\n",
    "### $\\zeta \\approx -\\partial u / \\partial y$\n",
    "\n",
    "### Therefore,   $\\frac{f - U_1/L_1}{H_1} = \\frac{f - U_2/L_2}{H_2}$\n",
    "\n",
    "### Rearranging, we have:\n",
    "\n",
    "### $L_2 = \\frac{U_2}{(f/H_2 - f/H_1 + U_1/L_1 H_1) H_2}$\n"
   ]
  },
  {
   "cell_type": "code",
   "execution_count": 29,
   "metadata": {},
   "outputs": [
    {
     "data": {
      "text/plain": [
       "unyt_quantity(10.41666667, 'km')"
      ]
     },
     "execution_count": 29,
     "metadata": {},
     "output_type": "execute_result"
    }
   ],
   "source": [
    "L2 = U2 / (f/H2 - f/H1 + U1/L1/H1) / H2\n",
    "L2.to('km')"
   ]
  },
  {
   "cell_type": "markdown",
   "metadata": {},
   "source": [
    "### If $H_2 = 100$m, $U_2$ and $L_2$ would be yet larger."
   ]
  },
  {
   "cell_type": "markdown",
   "metadata": {},
   "source": [
    "----"
   ]
  },
  {
   "cell_type": "markdown",
   "metadata": {},
   "source": [
    "# PS2-6 Extra Credit\n",
    "\n",
    "## Will work on this tomorrow"
   ]
  },
  {
   "cell_type": "code",
   "execution_count": null,
   "metadata": {},
   "outputs": [],
   "source": []
  }
 ],
 "metadata": {
  "kernelspec": {
   "display_name": "Python 3",
   "language": "python",
   "name": "python3"
  },
  "language_info": {
   "codemirror_mode": {
    "name": "ipython",
    "version": 3
   },
   "file_extension": ".py",
   "mimetype": "text/x-python",
   "name": "python",
   "nbconvert_exporter": "python",
   "pygments_lexer": "ipython3",
   "version": "3.7.3"
  }
 },
 "nbformat": 4,
 "nbformat_minor": 4
}
