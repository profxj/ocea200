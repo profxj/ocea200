{
 "cells": [
  {
   "cell_type": "markdown",
   "metadata": {},
   "source": [
    "# First Assignment (Chapter 2)"
   ]
  },
  {
   "cell_type": "code",
   "execution_count": 19,
   "metadata": {},
   "outputs": [],
   "source": [
    "# imports\n",
    "import numpy as np\n",
    "from importlib import reload\n",
    "\n",
    "import unyt\n",
    "\n",
    "from oceanpy import constants\n",
    "from oceanpy.forces import coriolis\n",
    "\n",
    "from os_classes.ocea257 import chapter1\n",
    "from os_classes import plotting as os_plotting\n",
    "\n",
    "\n",
    "from bokeh import plotting\n",
    "from bokeh import models"
   ]
  },
  {
   "cell_type": "markdown",
   "metadata": {},
   "source": [
    "# Analytic"
   ]
  },
  {
   "cell_type": "markdown",
   "metadata": {},
   "source": [
    "## 2-1"
   ]
  },
  {
   "cell_type": "markdown",
   "metadata": {},
   "source": [
    "### Jupiter\n",
    "\n",
    "Radius:  $R_J = C_J / 2 \\pi$"
   ]
  },
  {
   "cell_type": "code",
   "execution_count": 8,
   "metadata": {},
   "outputs": [],
   "source": [
    "circum_eq = 448600. * unyt.km # \n",
    "R_J = circum / 2 / np.pi  # Radius"
   ]
  },
  {
   "cell_type": "markdown",
   "metadata": {},
   "source": [
    "### Omega\n",
    "\n",
    "$\\Omega = 2 \\pi / t$"
   ]
  },
  {
   "cell_type": "code",
   "execution_count": 13,
   "metadata": {},
   "outputs": [
    {
     "data": {
      "text/plain": [
       "unyt_quantity(0.0001763, '1/s')"
      ]
     },
     "execution_count": 13,
     "metadata": {},
     "output_type": "execute_result"
    }
   ],
   "source": [
    "t_J = 9.9 * unyt.hr  # 1 day, i.e. full revolution\n",
    "#\n",
    "omega_J = 2 * np.pi / t_J\n",
    "omega_J.to('1/s')"
   ]
  },
  {
   "cell_type": "markdown",
   "metadata": {},
   "source": [
    "### Centrifugal acceleration\n",
    "\n",
    "$a = \\Omega^2 r$"
   ]
  },
  {
   "cell_type": "code",
   "execution_count": 12,
   "metadata": {},
   "outputs": [
    {
     "data": {
      "text/plain": [
       "unyt_quantity(2.21903293, 'm/s**2')"
      ]
     },
     "execution_count": 12,
     "metadata": {},
     "output_type": "execute_result"
    }
   ],
   "source": [
    "a_centrifugal = omega_J**2 * R_J\n",
    "a_centrifugal.to('m/s**2')"
   ]
  },
  {
   "cell_type": "markdown",
   "metadata": {},
   "source": [
    "### True acceleration"
   ]
  },
  {
   "cell_type": "code",
   "execution_count": 14,
   "metadata": {},
   "outputs": [],
   "source": [
    "g_J_measured = 26.4 * unyt.m / unyt.s**2"
   ]
  },
  {
   "cell_type": "code",
   "execution_count": 15,
   "metadata": {},
   "outputs": [
    {
     "data": {
      "text/plain": [
       "unyt_quantity(28.61903293, 'm/s**2')"
      ]
     },
     "execution_count": 15,
     "metadata": {},
     "output_type": "execute_result"
    }
   ],
   "source": [
    "g_J_true = g_J_measured + a_centrifugal\n",
    "g_J_true"
   ]
  },
  {
   "cell_type": "markdown",
   "metadata": {},
   "source": [
    "----"
   ]
  },
  {
   "cell_type": "markdown",
   "metadata": {},
   "source": [
    "## 2-2 Shinkasen  <font color='red'>(not assigned)</font> "
   ]
  },
  {
   "cell_type": "code",
   "execution_count": 17,
   "metadata": {},
   "outputs": [],
   "source": [
    "phi = 35 * unyt.deg"
   ]
  },
  {
   "cell_type": "markdown",
   "metadata": {},
   "source": [
    "### Estimate the Coriolis acceleration \n",
    "\n",
    "#### Assume the train motion is purely horizontal\n",
    "\n",
    "$\\frac{dv}{dt} = -f u$\n",
    "\n",
    "$f = 2 \\Omega \\sin\\phi$"
   ]
  },
  {
   "cell_type": "code",
   "execution_count": 18,
   "metadata": {},
   "outputs": [],
   "source": [
    "u_train = 185 * unyt.km / unyt.hr"
   ]
  },
  {
   "cell_type": "code",
   "execution_count": 22,
   "metadata": {},
   "outputs": [
    {
     "data": {
      "text/plain": [
       "unyt_quantity(8.36518044e-05, '1/s')"
      ]
     },
     "execution_count": 22,
     "metadata": {},
     "output_type": "execute_result"
    }
   ],
   "source": [
    "f = coriolis.coriolis_parameter(phi)\n",
    "f.to('1/s')"
   ]
  },
  {
   "cell_type": "code",
   "execution_count": 26,
   "metadata": {},
   "outputs": [
    {
     "data": {
      "text/plain": [
       "unyt_quantity(-0.00429877, 'm/s**2')"
      ]
     },
     "execution_count": 26,
     "metadata": {},
     "output_type": "execute_result"
    }
   ],
   "source": [
    "# Acceleration\n",
    "dvdt = -f * u_train\n",
    "dvdt.to('m/s**2')"
   ]
  },
  {
   "cell_type": "markdown",
   "metadata": {},
   "source": [
    "### This is $\\approx 5 \\times 10^{-4}$ of the gravitational acceleration"
   ]
  },
  {
   "cell_type": "code",
   "execution_count": 27,
   "metadata": {},
   "outputs": [
    {
     "data": {
      "text/plain": [
       "unyt_quantity(0.0015, 'm')"
      ]
     },
     "execution_count": 27,
     "metadata": {},
     "output_type": "execute_result"
    }
   ],
   "source": [
    "3*unyt.m * 5e-4"
   ]
  },
  {
   "cell_type": "markdown",
   "metadata": {},
   "source": [
    "### For a track 3m wide, this implies a 1mm deflection.  Probably ignorable."
   ]
  },
  {
   "cell_type": "markdown",
   "metadata": {},
   "source": [
    "----"
   ]
  },
  {
   "cell_type": "markdown",
   "metadata": {},
   "source": [
    "## 2-3 Cannonball"
   ]
  },
  {
   "cell_type": "code",
   "execution_count": 38,
   "metadata": {},
   "outputs": [],
   "source": [
    "phi_London = (51. + 31./60)*unyt.deg\n",
    "Dt = 25 * unyt.s\n",
    "u_canonball = 120 * unyt.m / unyt.s"
   ]
  },
  {
   "cell_type": "markdown",
   "metadata": {},
   "source": [
    "### Deflection $\\Delta y$\n",
    "\n",
    "#### Coriolis\n",
    "\n",
    "$\\frac{dv}{dt} = -f u$\n",
    "\n",
    "$f = 2 \\Omega \\sin\\phi$"
   ]
  },
  {
   "cell_type": "code",
   "execution_count": 32,
   "metadata": {},
   "outputs": [
    {
     "data": {
      "text/plain": [
       "unyt_quantity(0.00011416, '1/s')"
      ]
     },
     "execution_count": 32,
     "metadata": {},
     "output_type": "execute_result"
    }
   ],
   "source": [
    "f_London = coriolis.coriolis_parameter(phi_London)\n",
    "f_London.to('1/s')"
   ]
  },
  {
   "cell_type": "code",
   "execution_count": 36,
   "metadata": {},
   "outputs": [
    {
     "data": {
      "text/plain": [
       "unyt_quantity(-0.01369967, 'm/s**2')"
      ]
     },
     "execution_count": 36,
     "metadata": {},
     "output_type": "execute_result"
    }
   ],
   "source": [
    "dvdt_London = -f_London * u_canonball\n",
    "dvdt_London.to('m/s**2')"
   ]
  },
  {
   "cell_type": "code",
   "execution_count": 40,
   "metadata": {},
   "outputs": [
    {
     "data": {
      "text/plain": [
       "unyt_quantity(-0.34249173, 'm/s')"
      ]
     },
     "execution_count": 40,
     "metadata": {},
     "output_type": "execute_result"
    }
   ],
   "source": [
    "v_L_approx = dvdt_London * Dt\n",
    "v_L_approx.to('m/s')"
   ]
  },
  {
   "cell_type": "markdown",
   "metadata": {},
   "source": [
    "### Because $v \\ll u$, we will ignore 2nd order effects during the $\\Delta t = 25$s and take $dv/dt$ as constant.\n",
    "\n",
    "\n",
    "#### Therefore, integrating and noting $v=0$ at $t=0$, we have\n",
    "\n",
    "$\\Delta y = \\frac{1}{2} \\frac{dv}{dt} t^2$"
   ]
  },
  {
   "cell_type": "code",
   "execution_count": 41,
   "metadata": {},
   "outputs": [
    {
     "data": {
      "text/plain": [
       "unyt_quantity(-4.28114668, 'm')"
      ]
     },
     "execution_count": 41,
     "metadata": {},
     "output_type": "execute_result"
    }
   ],
   "source": [
    "Dy = 0.5 * dvdt_London * Dt**2\n",
    "Dy.to('m')"
   ]
  },
  {
   "cell_type": "markdown",
   "metadata": {},
   "source": [
    "### The cannonball is deflected 4m to the right, i.e. S (assuming it is headed E)"
   ]
  },
  {
   "cell_type": "markdown",
   "metadata": {},
   "source": [
    "### Other locations"
   ]
  },
  {
   "cell_type": "code",
   "execution_count": 43,
   "metadata": {},
   "outputs": [],
   "source": [
    "def deflect(phi, Dt = 25 * unyt.s, u_canonball = 120 * unyt.m / unyt.s):\n",
    "    # Coriolis parameter\n",
    "    f = coriolis.coriolis_parameter(phi)\n",
    "    # dv/dt\n",
    "    dvdt = -f * u_canonball\n",
    "    # Integrate\n",
    "    Dy = 0.5 * dvdt * Dt**2\n",
    "    # Return\n",
    "    return Dy"
   ]
  },
  {
   "cell_type": "markdown",
   "metadata": {},
   "source": [
    "### Murmansk"
   ]
  },
  {
   "cell_type": "code",
   "execution_count": 44,
   "metadata": {},
   "outputs": [
    {
     "data": {
      "text/plain": [
       "unyt_quantity(-5.10126301, 'm')"
      ]
     },
     "execution_count": 44,
     "metadata": {},
     "output_type": "execute_result"
    }
   ],
   "source": [
    "phi_murmansk = (68. + 52./60)*unyt.deg\n",
    "Dy_murmansk = deflect(phi_murmansk)\n",
    "Dy_murmansk"
   ]
  },
  {
   "cell_type": "markdown",
   "metadata": {},
   "source": [
    "### Nairobi"
   ]
  },
  {
   "cell_type": "code",
   "execution_count": 45,
   "metadata": {},
   "outputs": [
    {
     "data": {
      "text/plain": [
       "unyt_quantity(0.12407913, 'm')"
      ]
     },
     "execution_count": 45,
     "metadata": {},
     "output_type": "execute_result"
    }
   ],
   "source": [
    "phi_nairobi = -(1. + 18./60)*unyt.deg\n",
    "Dy_nairobi = deflect(phi_nairobi)\n",
    "Dy_nairobi"
   ]
  },
  {
   "cell_type": "markdown",
   "metadata": {},
   "source": [
    "### Any phi"
   ]
  },
  {
   "cell_type": "code",
   "execution_count": 50,
   "metadata": {},
   "outputs": [],
   "source": [
    "phis = np.linspace(-90, 90, 1000)*unyt.deg"
   ]
  },
  {
   "cell_type": "code",
   "execution_count": 51,
   "metadata": {},
   "outputs": [],
   "source": [
    "all_deflect = deflect(phis)"
   ]
  },
  {
   "cell_type": "code",
   "execution_count": 53,
   "metadata": {},
   "outputs": [
    {
     "data": {
      "text/html": [
       "\n",
       "    <div class=\"bk-root\">\n",
       "        <a href=\"https://bokeh.org\" target=\"_blank\" class=\"bk-logo bk-logo-small bk-logo-notebook\"></a>\n",
       "        <span id=\"1217\">Loading BokehJS ...</span>\n",
       "    </div>"
      ]
     },
     "metadata": {},
     "output_type": "display_data"
    },
    {
     "data": {
      "application/javascript": [
       "\n",
       "(function(root) {\n",
       "  function now() {\n",
       "    return new Date();\n",
       "  }\n",
       "\n",
       "  var force = true;\n",
       "\n",
       "  if (typeof root._bokeh_onload_callbacks === \"undefined\" || force === true) {\n",
       "    root._bokeh_onload_callbacks = [];\n",
       "    root._bokeh_is_loading = undefined;\n",
       "  }\n",
       "\n",
       "  var JS_MIME_TYPE = 'application/javascript';\n",
       "  var HTML_MIME_TYPE = 'text/html';\n",
       "  var EXEC_MIME_TYPE = 'application/vnd.bokehjs_exec.v0+json';\n",
       "  var CLASS_NAME = 'output_bokeh rendered_html';\n",
       "\n",
       "  /**\n",
       "   * Render data to the DOM node\n",
       "   */\n",
       "  function render(props, node) {\n",
       "    var script = document.createElement(\"script\");\n",
       "    node.appendChild(script);\n",
       "  }\n",
       "\n",
       "  /**\n",
       "   * Handle when an output is cleared or removed\n",
       "   */\n",
       "  function handleClearOutput(event, handle) {\n",
       "    var cell = handle.cell;\n",
       "\n",
       "    var id = cell.output_area._bokeh_element_id;\n",
       "    var server_id = cell.output_area._bokeh_server_id;\n",
       "    // Clean up Bokeh references\n",
       "    if (id != null && id in Bokeh.index) {\n",
       "      Bokeh.index[id].model.document.clear();\n",
       "      delete Bokeh.index[id];\n",
       "    }\n",
       "\n",
       "    if (server_id !== undefined) {\n",
       "      // Clean up Bokeh references\n",
       "      var cmd = \"from bokeh.io.state import curstate; print(curstate().uuid_to_server['\" + server_id + \"'].get_sessions()[0].document.roots[0]._id)\";\n",
       "      cell.notebook.kernel.execute(cmd, {\n",
       "        iopub: {\n",
       "          output: function(msg) {\n",
       "            var id = msg.content.text.trim();\n",
       "            if (id in Bokeh.index) {\n",
       "              Bokeh.index[id].model.document.clear();\n",
       "              delete Bokeh.index[id];\n",
       "            }\n",
       "          }\n",
       "        }\n",
       "      });\n",
       "      // Destroy server and session\n",
       "      var cmd = \"import bokeh.io.notebook as ion; ion.destroy_server('\" + server_id + \"')\";\n",
       "      cell.notebook.kernel.execute(cmd);\n",
       "    }\n",
       "  }\n",
       "\n",
       "  /**\n",
       "   * Handle when a new output is added\n",
       "   */\n",
       "  function handleAddOutput(event, handle) {\n",
       "    var output_area = handle.output_area;\n",
       "    var output = handle.output;\n",
       "\n",
       "    // limit handleAddOutput to display_data with EXEC_MIME_TYPE content only\n",
       "    if ((output.output_type != \"display_data\") || (!output.data.hasOwnProperty(EXEC_MIME_TYPE))) {\n",
       "      return\n",
       "    }\n",
       "\n",
       "    var toinsert = output_area.element.find(\".\" + CLASS_NAME.split(' ')[0]);\n",
       "\n",
       "    if (output.metadata[EXEC_MIME_TYPE][\"id\"] !== undefined) {\n",
       "      toinsert[toinsert.length - 1].firstChild.textContent = output.data[JS_MIME_TYPE];\n",
       "      // store reference to embed id on output_area\n",
       "      output_area._bokeh_element_id = output.metadata[EXEC_MIME_TYPE][\"id\"];\n",
       "    }\n",
       "    if (output.metadata[EXEC_MIME_TYPE][\"server_id\"] !== undefined) {\n",
       "      var bk_div = document.createElement(\"div\");\n",
       "      bk_div.innerHTML = output.data[HTML_MIME_TYPE];\n",
       "      var script_attrs = bk_div.children[0].attributes;\n",
       "      for (var i = 0; i < script_attrs.length; i++) {\n",
       "        toinsert[toinsert.length - 1].firstChild.setAttribute(script_attrs[i].name, script_attrs[i].value);\n",
       "      }\n",
       "      // store reference to server id on output_area\n",
       "      output_area._bokeh_server_id = output.metadata[EXEC_MIME_TYPE][\"server_id\"];\n",
       "    }\n",
       "  }\n",
       "\n",
       "  function register_renderer(events, OutputArea) {\n",
       "\n",
       "    function append_mime(data, metadata, element) {\n",
       "      // create a DOM node to render to\n",
       "      var toinsert = this.create_output_subarea(\n",
       "        metadata,\n",
       "        CLASS_NAME,\n",
       "        EXEC_MIME_TYPE\n",
       "      );\n",
       "      this.keyboard_manager.register_events(toinsert);\n",
       "      // Render to node\n",
       "      var props = {data: data, metadata: metadata[EXEC_MIME_TYPE]};\n",
       "      render(props, toinsert[toinsert.length - 1]);\n",
       "      element.append(toinsert);\n",
       "      return toinsert\n",
       "    }\n",
       "\n",
       "    /* Handle when an output is cleared or removed */\n",
       "    events.on('clear_output.CodeCell', handleClearOutput);\n",
       "    events.on('delete.Cell', handleClearOutput);\n",
       "\n",
       "    /* Handle when a new output is added */\n",
       "    events.on('output_added.OutputArea', handleAddOutput);\n",
       "\n",
       "    /**\n",
       "     * Register the mime type and append_mime function with output_area\n",
       "     */\n",
       "    OutputArea.prototype.register_mime_type(EXEC_MIME_TYPE, append_mime, {\n",
       "      /* Is output safe? */\n",
       "      safe: true,\n",
       "      /* Index of renderer in `output_area.display_order` */\n",
       "      index: 0\n",
       "    });\n",
       "  }\n",
       "\n",
       "  // register the mime type if in Jupyter Notebook environment and previously unregistered\n",
       "  if (root.Jupyter !== undefined) {\n",
       "    var events = require('base/js/events');\n",
       "    var OutputArea = require('notebook/js/outputarea').OutputArea;\n",
       "\n",
       "    if (OutputArea.prototype.mime_types().indexOf(EXEC_MIME_TYPE) == -1) {\n",
       "      register_renderer(events, OutputArea);\n",
       "    }\n",
       "  }\n",
       "\n",
       "  \n",
       "  if (typeof (root._bokeh_timeout) === \"undefined\" || force === true) {\n",
       "    root._bokeh_timeout = Date.now() + 5000;\n",
       "    root._bokeh_failed_load = false;\n",
       "  }\n",
       "\n",
       "  var NB_LOAD_WARNING = {'data': {'text/html':\n",
       "     \"<div style='background-color: #fdd'>\\n\"+\n",
       "     \"<p>\\n\"+\n",
       "     \"BokehJS does not appear to have successfully loaded. If loading BokehJS from CDN, this \\n\"+\n",
       "     \"may be due to a slow or bad network connection. Possible fixes:\\n\"+\n",
       "     \"</p>\\n\"+\n",
       "     \"<ul>\\n\"+\n",
       "     \"<li>re-rerun `output_notebook()` to attempt to load from CDN again, or</li>\\n\"+\n",
       "     \"<li>use INLINE resources instead, as so:</li>\\n\"+\n",
       "     \"</ul>\\n\"+\n",
       "     \"<code>\\n\"+\n",
       "     \"from bokeh.resources import INLINE\\n\"+\n",
       "     \"output_notebook(resources=INLINE)\\n\"+\n",
       "     \"</code>\\n\"+\n",
       "     \"</div>\"}};\n",
       "\n",
       "  function display_loaded() {\n",
       "    var el = document.getElementById(\"1217\");\n",
       "    if (el != null) {\n",
       "      el.textContent = \"BokehJS is loading...\";\n",
       "    }\n",
       "    if (root.Bokeh !== undefined) {\n",
       "      if (el != null) {\n",
       "        el.textContent = \"BokehJS \" + root.Bokeh.version + \" successfully loaded.\";\n",
       "      }\n",
       "    } else if (Date.now() < root._bokeh_timeout) {\n",
       "      setTimeout(display_loaded, 100)\n",
       "    }\n",
       "  }\n",
       "\n",
       "\n",
       "  function run_callbacks() {\n",
       "    try {\n",
       "      root._bokeh_onload_callbacks.forEach(function(callback) {\n",
       "        if (callback != null)\n",
       "          callback();\n",
       "      });\n",
       "    } finally {\n",
       "      delete root._bokeh_onload_callbacks\n",
       "    }\n",
       "    console.debug(\"Bokeh: all callbacks have finished\");\n",
       "  }\n",
       "\n",
       "  function load_libs(css_urls, js_urls, callback) {\n",
       "    if (css_urls == null) css_urls = [];\n",
       "    if (js_urls == null) js_urls = [];\n",
       "\n",
       "    root._bokeh_onload_callbacks.push(callback);\n",
       "    if (root._bokeh_is_loading > 0) {\n",
       "      console.debug(\"Bokeh: BokehJS is being loaded, scheduling callback at\", now());\n",
       "      return null;\n",
       "    }\n",
       "    if (js_urls == null || js_urls.length === 0) {\n",
       "      run_callbacks();\n",
       "      return null;\n",
       "    }\n",
       "    console.debug(\"Bokeh: BokehJS not loaded, scheduling load and callback at\", now());\n",
       "    root._bokeh_is_loading = css_urls.length + js_urls.length;\n",
       "\n",
       "    function on_load() {\n",
       "      root._bokeh_is_loading--;\n",
       "      if (root._bokeh_is_loading === 0) {\n",
       "        console.debug(\"Bokeh: all BokehJS libraries/stylesheets loaded\");\n",
       "        run_callbacks()\n",
       "      }\n",
       "    }\n",
       "\n",
       "    function on_error() {\n",
       "      console.error(\"failed to load \" + url);\n",
       "    }\n",
       "\n",
       "    for (var i = 0; i < css_urls.length; i++) {\n",
       "      var url = css_urls[i];\n",
       "      const element = document.createElement(\"link\");\n",
       "      element.onload = on_load;\n",
       "      element.onerror = on_error;\n",
       "      element.rel = \"stylesheet\";\n",
       "      element.type = \"text/css\";\n",
       "      element.href = url;\n",
       "      console.debug(\"Bokeh: injecting link tag for BokehJS stylesheet: \", url);\n",
       "      document.body.appendChild(element);\n",
       "    }\n",
       "\n",
       "    for (var i = 0; i < js_urls.length; i++) {\n",
       "      var url = js_urls[i];\n",
       "      var element = document.createElement('script');\n",
       "      element.onload = on_load;\n",
       "      element.onerror = on_error;\n",
       "      element.async = false;\n",
       "      element.src = url;\n",
       "      console.debug(\"Bokeh: injecting script tag for BokehJS library: \", url);\n",
       "      document.head.appendChild(element);\n",
       "    }\n",
       "  };var element = document.getElementById(\"1217\");\n",
       "  if (element == null) {\n",
       "    console.error(\"Bokeh: ERROR: autoload.js configured with elementid '1217' but no matching script tag was found. \")\n",
       "    return false;\n",
       "  }\n",
       "\n",
       "  function inject_raw_css(css) {\n",
       "    const element = document.createElement(\"style\");\n",
       "    element.appendChild(document.createTextNode(css));\n",
       "    document.body.appendChild(element);\n",
       "  }\n",
       "\n",
       "  \n",
       "  var js_urls = [\"https://cdn.pydata.org/bokeh/release/bokeh-1.4.0.min.js\", \"https://cdn.pydata.org/bokeh/release/bokeh-widgets-1.4.0.min.js\", \"https://cdn.pydata.org/bokeh/release/bokeh-tables-1.4.0.min.js\", \"https://cdn.pydata.org/bokeh/release/bokeh-gl-1.4.0.min.js\"];\n",
       "  var css_urls = [];\n",
       "  \n",
       "\n",
       "  var inline_js = [\n",
       "    function(Bokeh) {\n",
       "      Bokeh.set_log_level(\"info\");\n",
       "    },\n",
       "    function(Bokeh) {\n",
       "    \n",
       "    \n",
       "    }\n",
       "  ];\n",
       "\n",
       "  function run_inline_js() {\n",
       "    \n",
       "    if (root.Bokeh !== undefined || force === true) {\n",
       "      \n",
       "    for (var i = 0; i < inline_js.length; i++) {\n",
       "      inline_js[i].call(root, root.Bokeh);\n",
       "    }\n",
       "    if (force === true) {\n",
       "        display_loaded();\n",
       "      }} else if (Date.now() < root._bokeh_timeout) {\n",
       "      setTimeout(run_inline_js, 100);\n",
       "    } else if (!root._bokeh_failed_load) {\n",
       "      console.log(\"Bokeh: BokehJS failed to load within specified timeout.\");\n",
       "      root._bokeh_failed_load = true;\n",
       "    } else if (force !== true) {\n",
       "      var cell = $(document.getElementById(\"1217\")).parents('.cell').data().cell;\n",
       "      cell.output_area.append_execute_result(NB_LOAD_WARNING)\n",
       "    }\n",
       "\n",
       "  }\n",
       "\n",
       "  if (root._bokeh_is_loading === 0) {\n",
       "    console.debug(\"Bokeh: BokehJS loaded, going straight to plotting\");\n",
       "    run_inline_js();\n",
       "  } else {\n",
       "    load_libs(css_urls, js_urls, function() {\n",
       "      console.debug(\"Bokeh: BokehJS plotting callback run at\", now());\n",
       "      run_inline_js();\n",
       "    });\n",
       "  }\n",
       "}(window));"
      ],
      "application/vnd.bokehjs_load.v0+json": "\n(function(root) {\n  function now() {\n    return new Date();\n  }\n\n  var force = true;\n\n  if (typeof root._bokeh_onload_callbacks === \"undefined\" || force === true) {\n    root._bokeh_onload_callbacks = [];\n    root._bokeh_is_loading = undefined;\n  }\n\n  \n\n  \n  if (typeof (root._bokeh_timeout) === \"undefined\" || force === true) {\n    root._bokeh_timeout = Date.now() + 5000;\n    root._bokeh_failed_load = false;\n  }\n\n  var NB_LOAD_WARNING = {'data': {'text/html':\n     \"<div style='background-color: #fdd'>\\n\"+\n     \"<p>\\n\"+\n     \"BokehJS does not appear to have successfully loaded. If loading BokehJS from CDN, this \\n\"+\n     \"may be due to a slow or bad network connection. Possible fixes:\\n\"+\n     \"</p>\\n\"+\n     \"<ul>\\n\"+\n     \"<li>re-rerun `output_notebook()` to attempt to load from CDN again, or</li>\\n\"+\n     \"<li>use INLINE resources instead, as so:</li>\\n\"+\n     \"</ul>\\n\"+\n     \"<code>\\n\"+\n     \"from bokeh.resources import INLINE\\n\"+\n     \"output_notebook(resources=INLINE)\\n\"+\n     \"</code>\\n\"+\n     \"</div>\"}};\n\n  function display_loaded() {\n    var el = document.getElementById(\"1217\");\n    if (el != null) {\n      el.textContent = \"BokehJS is loading...\";\n    }\n    if (root.Bokeh !== undefined) {\n      if (el != null) {\n        el.textContent = \"BokehJS \" + root.Bokeh.version + \" successfully loaded.\";\n      }\n    } else if (Date.now() < root._bokeh_timeout) {\n      setTimeout(display_loaded, 100)\n    }\n  }\n\n\n  function run_callbacks() {\n    try {\n      root._bokeh_onload_callbacks.forEach(function(callback) {\n        if (callback != null)\n          callback();\n      });\n    } finally {\n      delete root._bokeh_onload_callbacks\n    }\n    console.debug(\"Bokeh: all callbacks have finished\");\n  }\n\n  function load_libs(css_urls, js_urls, callback) {\n    if (css_urls == null) css_urls = [];\n    if (js_urls == null) js_urls = [];\n\n    root._bokeh_onload_callbacks.push(callback);\n    if (root._bokeh_is_loading > 0) {\n      console.debug(\"Bokeh: BokehJS is being loaded, scheduling callback at\", now());\n      return null;\n    }\n    if (js_urls == null || js_urls.length === 0) {\n      run_callbacks();\n      return null;\n    }\n    console.debug(\"Bokeh: BokehJS not loaded, scheduling load and callback at\", now());\n    root._bokeh_is_loading = css_urls.length + js_urls.length;\n\n    function on_load() {\n      root._bokeh_is_loading--;\n      if (root._bokeh_is_loading === 0) {\n        console.debug(\"Bokeh: all BokehJS libraries/stylesheets loaded\");\n        run_callbacks()\n      }\n    }\n\n    function on_error() {\n      console.error(\"failed to load \" + url);\n    }\n\n    for (var i = 0; i < css_urls.length; i++) {\n      var url = css_urls[i];\n      const element = document.createElement(\"link\");\n      element.onload = on_load;\n      element.onerror = on_error;\n      element.rel = \"stylesheet\";\n      element.type = \"text/css\";\n      element.href = url;\n      console.debug(\"Bokeh: injecting link tag for BokehJS stylesheet: \", url);\n      document.body.appendChild(element);\n    }\n\n    for (var i = 0; i < js_urls.length; i++) {\n      var url = js_urls[i];\n      var element = document.createElement('script');\n      element.onload = on_load;\n      element.onerror = on_error;\n      element.async = false;\n      element.src = url;\n      console.debug(\"Bokeh: injecting script tag for BokehJS library: \", url);\n      document.head.appendChild(element);\n    }\n  };var element = document.getElementById(\"1217\");\n  if (element == null) {\n    console.error(\"Bokeh: ERROR: autoload.js configured with elementid '1217' but no matching script tag was found. \")\n    return false;\n  }\n\n  function inject_raw_css(css) {\n    const element = document.createElement(\"style\");\n    element.appendChild(document.createTextNode(css));\n    document.body.appendChild(element);\n  }\n\n  \n  var js_urls = [\"https://cdn.pydata.org/bokeh/release/bokeh-1.4.0.min.js\", \"https://cdn.pydata.org/bokeh/release/bokeh-widgets-1.4.0.min.js\", \"https://cdn.pydata.org/bokeh/release/bokeh-tables-1.4.0.min.js\", \"https://cdn.pydata.org/bokeh/release/bokeh-gl-1.4.0.min.js\"];\n  var css_urls = [];\n  \n\n  var inline_js = [\n    function(Bokeh) {\n      Bokeh.set_log_level(\"info\");\n    },\n    function(Bokeh) {\n    \n    \n    }\n  ];\n\n  function run_inline_js() {\n    \n    if (root.Bokeh !== undefined || force === true) {\n      \n    for (var i = 0; i < inline_js.length; i++) {\n      inline_js[i].call(root, root.Bokeh);\n    }\n    if (force === true) {\n        display_loaded();\n      }} else if (Date.now() < root._bokeh_timeout) {\n      setTimeout(run_inline_js, 100);\n    } else if (!root._bokeh_failed_load) {\n      console.log(\"Bokeh: BokehJS failed to load within specified timeout.\");\n      root._bokeh_failed_load = true;\n    } else if (force !== true) {\n      var cell = $(document.getElementById(\"1217\")).parents('.cell').data().cell;\n      cell.output_area.append_execute_result(NB_LOAD_WARNING)\n    }\n\n  }\n\n  if (root._bokeh_is_loading === 0) {\n    console.debug(\"Bokeh: BokehJS loaded, going straight to plotting\");\n    run_inline_js();\n  } else {\n    load_libs(css_urls, js_urls, function() {\n      console.debug(\"Bokeh: BokehJS plotting callback run at\", now());\n      run_inline_js();\n    });\n  }\n}(window));"
     },
     "metadata": {},
     "output_type": "display_data"
    },
    {
     "name": "stderr",
     "output_type": "stream",
     "text": [
      "BokehDeprecationWarning: 'legend' keyword is deprecated, use explicit 'legend_label', 'legend_field', or 'legend_group' keywords instead\n"
     ]
    },
    {
     "data": {
      "text/html": [
       "\n",
       "\n",
       "\n",
       "\n",
       "\n",
       "\n",
       "  <div class=\"bk-root\" id=\"80f37266-8bb4-49c2-8ae9-da312d8e0935\" data-root-id=\"1218\"></div>\n"
      ]
     },
     "metadata": {},
     "output_type": "display_data"
    },
    {
     "data": {
      "application/javascript": [
       "(function(root) {\n",
       "  function embed_document(root) {\n",
       "    \n",
       "  var docs_json = {\"2930ab90-fe96-460a-a204-f69114da3e9a\":{\"roots\":{\"references\":[{\"attributes\":{\"below\":[{\"id\":\"1229\",\"type\":\"LinearAxis\"}],\"center\":[{\"id\":\"1233\",\"type\":\"Grid\"},{\"id\":\"1238\",\"type\":\"Grid\"},{\"id\":\"1263\",\"type\":\"Legend\"}],\"left\":[{\"id\":\"1234\",\"type\":\"LinearAxis\"}],\"renderers\":[{\"id\":\"1255\",\"type\":\"GlyphRenderer\"}],\"title\":{\"id\":\"1219\",\"type\":\"Title\"},\"toolbar\":{\"id\":\"1245\",\"type\":\"Toolbar\"},\"x_range\":{\"id\":\"1221\",\"type\":\"DataRange1d\"},\"x_scale\":{\"id\":\"1225\",\"type\":\"LinearScale\"},\"y_range\":{\"id\":\"1223\",\"type\":\"DataRange1d\"},\"y_scale\":{\"id\":\"1227\",\"type\":\"LinearScale\"}},\"id\":\"1218\",\"subtype\":\"Figure\",\"type\":\"Plot\"},{\"attributes\":{\"axis_label\":\"phi (deg)\",\"axis_label_text_font_size\":{\"value\":\"16pt\"},\"formatter\":{\"id\":\"1259\",\"type\":\"BasicTickFormatter\"},\"major_label_text_font_size\":{\"value\":\"16pt\"},\"ticker\":{\"id\":\"1230\",\"type\":\"BasicTicker\"}},\"id\":\"1229\",\"type\":\"LinearAxis\"},{\"attributes\":{\"active_drag\":\"auto\",\"active_inspect\":\"auto\",\"active_multi\":null,\"active_scroll\":\"auto\",\"active_tap\":\"auto\",\"tools\":[{\"id\":\"1239\",\"type\":\"PanTool\"},{\"id\":\"1240\",\"type\":\"WheelZoomTool\"},{\"id\":\"1241\",\"type\":\"BoxZoomTool\"},{\"id\":\"1242\",\"type\":\"SaveTool\"},{\"id\":\"1243\",\"type\":\"ResetTool\"},{\"id\":\"1244\",\"type\":\"HelpTool\"}]},\"id\":\"1245\",\"type\":\"Toolbar\"},{\"attributes\":{},\"id\":\"1230\",\"type\":\"BasicTicker\"},{\"attributes\":{},\"id\":\"1235\",\"type\":\"BasicTicker\"},{\"attributes\":{},\"id\":\"1240\",\"type\":\"WheelZoomTool\"},{\"attributes\":{},\"id\":\"1225\",\"type\":\"LinearScale\"},{\"attributes\":{},\"id\":\"1242\",\"type\":\"SaveTool\"},{\"attributes\":{},\"id\":\"1259\",\"type\":\"BasicTickFormatter\"},{\"attributes\":{\"callback\":null},\"id\":\"1223\",\"type\":\"DataRange1d\"},{\"attributes\":{},\"id\":\"1243\",\"type\":\"ResetTool\"},{\"attributes\":{\"callback\":null,\"data\":{\"x\":{\"__ndarray__\":\"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\",\"dtype\":\"float64\",\"shape\":[1000]},\"y\":{\"__ndarray__\":\"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\",\"dtype\":\"float64\",\"shape\":[1000]}},\"selected\":{\"id\":\"1288\",\"type\":\"Selection\"},\"selection_policy\":{\"id\":\"1287\",\"type\":\"UnionRenderers\"}},\"id\":\"1252\",\"type\":\"ColumnDataSource\"},{\"attributes\":{\"items\":[{\"id\":\"1264\",\"type\":\"LegendItem\"}]},\"id\":\"1263\",\"type\":\"Legend\"},{\"attributes\":{\"callback\":null},\"id\":\"1221\",\"type\":\"DataRange1d\"},{\"attributes\":{\"axis_label\":\"Deflection (m)\",\"axis_label_text_font_size\":{\"value\":\"16pt\"},\"formatter\":{\"id\":\"1261\",\"type\":\"BasicTickFormatter\"},\"major_label_text_font_size\":{\"value\":\"16pt\"},\"ticker\":{\"id\":\"1235\",\"type\":\"BasicTicker\"}},\"id\":\"1234\",\"type\":\"LinearAxis\"},{\"attributes\":{\"label\":{\"value\":\"Cannonball\"},\"renderers\":[{\"id\":\"1255\",\"type\":\"GlyphRenderer\"}]},\"id\":\"1264\",\"type\":\"LegendItem\"},{\"attributes\":{\"dimension\":1,\"ticker\":{\"id\":\"1235\",\"type\":\"BasicTicker\"}},\"id\":\"1238\",\"type\":\"Grid\"},{\"attributes\":{},\"id\":\"1288\",\"type\":\"Selection\"},{\"attributes\":{\"text\":\"Cannonball\"},\"id\":\"1219\",\"type\":\"Title\"},{\"attributes\":{\"data_source\":{\"id\":\"1252\",\"type\":\"ColumnDataSource\"},\"glyph\":{\"id\":\"1253\",\"type\":\"Line\"},\"hover_glyph\":null,\"muted_glyph\":null,\"nonselection_glyph\":{\"id\":\"1254\",\"type\":\"Line\"},\"selection_glyph\":null,\"view\":{\"id\":\"1256\",\"type\":\"CDSView\"}},\"id\":\"1255\",\"type\":\"GlyphRenderer\"},{\"attributes\":{},\"id\":\"1261\",\"type\":\"BasicTickFormatter\"},{\"attributes\":{\"source\":{\"id\":\"1252\",\"type\":\"ColumnDataSource\"}},\"id\":\"1256\",\"type\":\"CDSView\"},{\"attributes\":{\"bottom_units\":\"screen\",\"fill_alpha\":{\"value\":0.5},\"fill_color\":{\"value\":\"lightgrey\"},\"left_units\":\"screen\",\"level\":\"overlay\",\"line_alpha\":{\"value\":1.0},\"line_color\":{\"value\":\"black\"},\"line_dash\":[4,4],\"line_width\":{\"value\":2},\"render_mode\":\"css\",\"right_units\":\"screen\",\"top_units\":\"screen\"},\"id\":\"1262\",\"type\":\"BoxAnnotation\"},{\"attributes\":{\"overlay\":{\"id\":\"1262\",\"type\":\"BoxAnnotation\"}},\"id\":\"1241\",\"type\":\"BoxZoomTool\"},{\"attributes\":{\"line_color\":\"#1f77b4\",\"line_width\":2,\"x\":{\"field\":\"x\"},\"y\":{\"field\":\"y\"}},\"id\":\"1253\",\"type\":\"Line\"},{\"attributes\":{},\"id\":\"1227\",\"type\":\"LinearScale\"},{\"attributes\":{},\"id\":\"1239\",\"type\":\"PanTool\"},{\"attributes\":{\"ticker\":{\"id\":\"1230\",\"type\":\"BasicTicker\"}},\"id\":\"1233\",\"type\":\"Grid\"},{\"attributes\":{},\"id\":\"1244\",\"type\":\"HelpTool\"},{\"attributes\":{\"line_alpha\":0.1,\"line_color\":\"#1f77b4\",\"line_width\":2,\"x\":{\"field\":\"x\"},\"y\":{\"field\":\"y\"}},\"id\":\"1254\",\"type\":\"Line\"},{\"attributes\":{},\"id\":\"1287\",\"type\":\"UnionRenderers\"}],\"root_ids\":[\"1218\"]},\"title\":\"Bokeh Application\",\"version\":\"1.4.0\"}};\n",
       "  var render_items = [{\"docid\":\"2930ab90-fe96-460a-a204-f69114da3e9a\",\"roots\":{\"1218\":\"80f37266-8bb4-49c2-8ae9-da312d8e0935\"}}];\n",
       "  root.Bokeh.embed.embed_items_notebook(docs_json, render_items);\n",
       "\n",
       "  }\n",
       "  if (root.Bokeh !== undefined) {\n",
       "    embed_document(root);\n",
       "  } else {\n",
       "    var attempts = 0;\n",
       "    var timer = setInterval(function(root) {\n",
       "      if (root.Bokeh !== undefined) {\n",
       "        clearInterval(timer);\n",
       "        embed_document(root);\n",
       "      } else {\n",
       "        attempts++;\n",
       "        if (attempts > 100) {\n",
       "          clearInterval(timer);\n",
       "          console.log(\"Bokeh: ERROR: Unable to run BokehJS code because BokehJS library is missing\");\n",
       "        }\n",
       "      }\n",
       "    }, 10, root)\n",
       "  }\n",
       "})(window);"
      ],
      "application/vnd.bokehjs_exec.v0+json": ""
     },
     "metadata": {
      "application/vnd.bokehjs_exec.v0+json": {
       "id": "1218"
      }
     },
     "output_type": "display_data"
    }
   ],
   "source": [
    "# Plot\n",
    "plotting.output_notebook()\n",
    "\n",
    "p = plotting.figure(title='Cannonball', x_axis_label='phi (deg)',\n",
    "                    #x_axis_type=\"log\", y_axis_type=\"log\",\n",
    "                   y_axis_label='Deflection (m)')#, x_range=(10**-4, 1.),\n",
    "                   #y_range=(1e-12, 1))\n",
    "\n",
    "# Plot em\n",
    "p.line(phis, all_deflect, legend='Cannonball', line_width=2)\n",
    "#p.scatter(kdx_vals, error_fb, legend='fb', line_width=2, color='red')\n",
    "#p.scatter(kdx_vals, error_sc, legend='sc', line_width=2, color='green')\n",
    "#p.scatter(kdx_vals, error_4, legend='4', line_width=2, color='black')\n",
    "\n",
    "\n",
    "p.legend.location = \"top_right\"\n",
    "\n",
    "os_plotting.bokeh_set_fontsize(p, 16)\n",
    "\n",
    "plotting.show(p)"
   ]
  },
  {
   "cell_type": "code",
   "execution_count": null,
   "metadata": {},
   "outputs": [],
   "source": []
  }
 ],
 "metadata": {
  "kernelspec": {
   "display_name": "Python 3",
   "language": "python",
   "name": "python3"
  },
  "language_info": {
   "codemirror_mode": {
    "name": "ipython",
    "version": 3
   },
   "file_extension": ".py",
   "mimetype": "text/x-python",
   "name": "python",
   "nbconvert_exporter": "python",
   "pygments_lexer": "ipython3",
   "version": "3.7.6"
  }
 },
 "nbformat": 4,
 "nbformat_minor": 4
}
