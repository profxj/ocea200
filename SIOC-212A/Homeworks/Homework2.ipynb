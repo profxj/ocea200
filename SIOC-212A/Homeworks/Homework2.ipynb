{
 "cells": [
  {
   "cell_type": "markdown",
   "id": "4240aeba-0e8a-4f3f-9475-1e4f455f2701",
   "metadata": {},
   "source": [
    "# Homework 2"
   ]
  },
  {
   "cell_type": "code",
   "execution_count": 1,
   "id": "a6dcc71f-79f0-45cb-810f-0e7096ea9ddc",
   "metadata": {},
   "outputs": [],
   "source": [
    "# imports\n",
    "import numpy as np\n",
    "\n",
    "from matplotlib import pyplot as plt\n",
    "import matplotlib.animation as animation\n",
    "import seaborn as sns\n",
    "\n",
    "import unyt"
   ]
  },
  {
   "cell_type": "markdown",
   "id": "7251c5d2-5c07-4303-b303-77cc0a7e3ee6",
   "metadata": {},
   "source": [
    "# [Problem 1]  Shallow Water with $\\partial u/\\partial z \\ne 0$"
   ]
  },
  {
   "cell_type": "markdown",
   "id": "f720a31e-eb1d-401e-941b-3c7602b7912b",
   "metadata": {},
   "source": [
    "## Our SW equations with horizontal scale $L \\gg H$ the vertical scale are:\n",
    "\n",
    "## $\\frac{Du}{Dt} = -g \\frac{\\partial \\eta}{\\partial x} + fv$\n",
    "## $\\frac{Dv}{Dt} = -g \\frac{\\partial \\eta}{\\partial y} - fu$\n",
    "## $\\frac{Dh}{Dt} = -h \\left (\\frac{\\partial u}{\\partial x} + \\frac{\\partial v}{\\partial y} \\right )$\n",
    "\n",
    "## where $h \\equiv H + \\eta$"
   ]
  },
  {
   "cell_type": "markdown",
   "id": "d2e14cb2-a9b0-441d-b52b-9804957c0f88",
   "metadata": {},
   "source": [
    "## We are to consider shallow water where the vertical gradient in $u,v$ is not zero\n",
    "\n",
    "## And to separate the motions to a vertical-mean component $\\tilde u$ and vertically varying $u'$\n"
   ]
  },
  {
   "cell_type": "markdown",
   "id": "48ab79ff-d8c9-4099-ac8c-ea57156dad70",
   "metadata": {},
   "source": [
    "## Furthermore, we will take $u'(z=H) =0$ and a small Rossby number so that $\\bar u \\cdot \\nabla u \\approx 0$"
   ]
  },
  {
   "cell_type": "markdown",
   "id": "090c5a2c-671e-409a-a2ba-8cadb4dbe9ef",
   "metadata": {},
   "source": [
    "# Derive the equations governing the motions of $\\tilde u, u'$:"
   ]
  },
  {
   "cell_type": "markdown",
   "id": "239c1310-c0cd-45a4-94aa-ed7559b59c09",
   "metadata": {},
   "source": [
    "## Our third equation was derived from mass conservation and explicitly assumed $\\partial u / \\partial z = 0$\n",
    "\n",
    "## So, let's revisit that derivation"
   ]
  },
  {
   "cell_type": "markdown",
   "id": "be9398fe-d229-4690-a0f5-12b39498c784",
   "metadata": {},
   "source": [
    "## For any parcel, \n",
    "\n",
    "## $\\frac{\\partial u}{\\partial x} + \\frac{\\partial v}{\\partial y} + \\frac{\\partial w}{\\partial z}  = 0$"
   ]
  },
  {
   "cell_type": "markdown",
   "id": "b7dadf5d-49c2-45b2-9538-0a06e043218c",
   "metadata": {},
   "source": [
    "## As for our derivation of the SWE, the $\\partial w / \\partial z$ term may be integrated from bottom to top giving:\n",
    "\n",
    "## $w(z=H+\\eta) - w(z=0)$ with the second term identically 0 and we recognize the first term as $Dh/Dt$ (or $D\\eta/Dt$)\n"
   ]
  },
  {
   "cell_type": "markdown",
   "id": "461a3484-4d3f-4dab-8977-6498856e5284",
   "metadata": {},
   "source": [
    "## Vertical inegration of the other two terms in our mass equation is no longer indepdendent of $z$ and we have:\n",
    "\n",
    "## $\\int\\limits_0^{H+\\eta} - \\left ( \\frac{\\partial u}{\\partial x} + \\frac{\\partial v}{\\partial y} \\right ) dz$"
   ]
  },
  {
   "cell_type": "markdown",
   "id": "419c3408-8c19-4ba3-ba54-764cab935a48",
   "metadata": {},
   "source": [
    "## We can separate the two terms (especially given the small Rossby number):\n",
    "\n",
    "## $-h \\nabla \\cdot \\tilde u +  \\int\\limits_0^{H+\\eta} - \\left ( \\frac{\\partial u'}{\\partial x} + \\frac{\\partial v'}{\\partial y} \\right ) dz$\n",
    "\n"
   ]
  },
  {
   "cell_type": "markdown",
   "id": "77819d2c-e2f2-4d2a-9519-a7b6a0d440ea",
   "metadata": {},
   "source": [
    "## Altogether, our 3rd equation is now:\n",
    "\n",
    "## $\\frac{Dh}{Dt} = -h \\nabla \\cdot \\tilde u +  \\int\\limits_0^{H+\\eta} - \\left ( \\frac{\\partial u'}{\\partial x} + \\frac{\\partial v'}{\\partial y} \\right ) dz$"
   ]
  },
  {
   "cell_type": "markdown",
   "id": "c1485c5f-770d-4cc8-b814-7e497611dcdc",
   "metadata": {},
   "source": [
    "## Now the focus of the problem, I think.  The first 2 equations\n",
    "\n",
    "## Consider the $u$ equation first, dropping advection terms:\n",
    "\n",
    "## $\\frac{\\partial \\tilde u}{\\partial t} + \\frac{\\partial u'}{\\partial t} = -g \\frac{\\partial \\eta}{\\partial x} + f(\\tilde v + v')$\n"
   ]
  },
  {
   "cell_type": "markdown",
   "id": "87a3c5df-ce7d-4289-b610-886b11fe4416",
   "metadata": {},
   "source": [
    "## As I view it, we have only one forcing term $\\partial \\eta/\\partial t$ and it only operates at the surface (or at least at only a single vertical location). \n",
    "\n",
    "## Therefore, it cannot possibly influence $u',v'$ at a range of heights\n",
    "\n",
    "## More mathematically, expressing the explicit vertical dependence of our terms we have:\n",
    "\n",
    "\n",
    "## $\\frac{\\partial \\tilde u}{\\partial t} + \\frac{\\partial u'(z)}{\\partial t} = -g \\frac{\\partial \\eta}{\\partial x} + f \\tilde v + f v'(z)$"
   ]
  },
  {
   "cell_type": "markdown",
   "id": "bbf74394-82d2-4e4a-8134-0d39d249b2ef",
   "metadata": {},
   "source": [
    "## Clearly, for this to hold at all $z$, the terms must separate giving:\n",
    "\n",
    "## $\\frac{\\partial \\tilde u}{\\partial t} + = -g \\frac{\\partial \\eta}{\\partial x} + f \\tilde v $\n",
    "## $\\frac{\\partial u'(z)}{\\partial t} = f v'(z)$"
   ]
  },
  {
   "cell_type": "markdown",
   "id": "35a5aa67-ab4a-4839-8651-3dd9a6e7124c",
   "metadata": {},
   "source": [
    "## The impact of $u', v'$ on $\\tilde u$ is only through our 3rd equation"
   ]
  },
  {
   "cell_type": "markdown",
   "id": "ba156dc7-b0bc-492a-818c-2dcfbd0f513a",
   "metadata": {},
   "source": [
    "----"
   ]
  },
  {
   "cell_type": "markdown",
   "id": "7116e670-1478-47b6-bf4f-b85d6b367156",
   "metadata": {},
   "source": [
    "# [Problem 2] $w$ in the shallow-water problem"
   ]
  },
  {
   "cell_type": "markdown",
   "id": "b2d43963-cc71-4ec9-b1d7-b0b3e2d88bd1",
   "metadata": {},
   "source": [
    "## (a) Now consider a non-flat bottom:  $z = \\eta_b(x,y)$"
   ]
  },
  {
   "cell_type": "markdown",
   "id": "5f3c577e-c03e-4dfb-b96f-653392ce9713",
   "metadata": {},
   "source": [
    "## Clearly, there is no change to our momentum equations.   $\\eta_b$ at a given location is invariant and disappears in our pressure gradient."
   ]
  },
  {
   "cell_type": "markdown",
   "id": "1b40c5d2-7348-4d6f-a862-64ea520943eb",
   "metadata": {},
   "source": [
    "## This leaves mass conservation, and the integration over vertical distance now looks like:\n",
    "\n",
    "## $\\int\\limits_{\\eta_b}^{H+\\eta} \\frac{\\partial w}{\\partial z} dz$\n",
    "\n",
    "## and\n",
    "\n",
    "## $\\int\\limits_{\\eta_b}^{H+\\eta} - \\left ( \\frac{\\partial u}{\\partial x} + \\frac{\\partial v}{\\partial y} \\right ) dz$"
   ]
  },
  {
   "cell_type": "markdown",
   "id": "a65dd106-51a2-405e-97b9-12d11b9b6dee",
   "metadata": {},
   "source": [
    "## Giving:\n",
    "\n",
    "## $w(z=H+\\eta) - w(z=\\eta_b) =  - (H+\\eta-\\eta_b) \\left ( \\frac{\\partial u}{\\partial x} + \\frac{\\partial v}{\\partial y} \\right )$"
   ]
  },
  {
   "cell_type": "markdown",
   "id": "9f2f381f-2549-456a-88d5-f3ea129eacdd",
   "metadata": {},
   "source": [
    "## And then, we recognize again that the LHS may be written as $Dh/Dt$ giving:\n",
    "\n",
    "## $\\frac{Dh}{Dt} = -h \\left ( \\frac{\\partial u}{\\partial x} + \\frac{\\partial v}{\\partial y} \\right )$\n",
    "\n",
    "## with  \n",
    "\n",
    "## $h \\equiv H + \\eta - \\eta_b$"
   ]
  },
  {
   "cell_type": "markdown",
   "id": "d62f39d2-77eb-4e8d-9c2f-1f85e3e2809b",
   "metadata": {},
   "source": [
    "## (b) Show $w = w(z)$ and $w \\ne 0$"
   ]
  },
  {
   "cell_type": "markdown",
   "id": "cb9cb9db-d40a-4b6b-96eb-b3d7d63493a4",
   "metadata": {},
   "source": [
    "## First, we recognize that the vertical flow at the top of the surface is simply:\n",
    "\n",
    "## $w(z=H+\\eta) = \\frac{D\\eta}{Dt}$\n",
    "\n",
    "## which need not be zero.\n",
    "\n",
    "## Second, the flow through the bottom must be 0, i.e. $w$ varys with height"
   ]
  },
  {
   "cell_type": "markdown",
   "id": "6bfab316-ab8d-4c8d-9d7a-66b18fb80e63",
   "metadata": {},
   "source": [
    "## As for an equation for $w(z)$, mass continuity gives us:\n",
    "\n",
    "## $\\frac{\\partial w}{\\partial z} = -\\nabla \\cdot \\bar u$"
   ]
  },
  {
   "cell_type": "markdown",
   "id": "4221a033-51ee-4047-a679-7740b3fcc912",
   "metadata": {},
   "source": [
    "## But, we recognize the RHS as from our Equation 3, so that we have:\n",
    "\n",
    "## $\\frac{\\partial w}{\\partial z} = \\frac{1}{h} \\frac{Dh}{Dt}$"
   ]
  },
  {
   "cell_type": "code",
   "execution_count": null,
   "id": "8c19b87b-22b9-4fdc-90af-b5e897911d98",
   "metadata": {},
   "outputs": [],
   "source": []
  }
 ],
 "metadata": {
  "kernelspec": {
   "display_name": "Python 3 (ipykernel)",
   "language": "python",
   "name": "python3"
  },
  "language_info": {
   "codemirror_mode": {
    "name": "ipython",
    "version": 3
   },
   "file_extension": ".py",
   "mimetype": "text/x-python",
   "name": "python",
   "nbconvert_exporter": "python",
   "pygments_lexer": "ipython3",
   "version": "3.11.7"
  }
 },
 "nbformat": 4,
 "nbformat_minor": 5
}
