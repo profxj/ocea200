{
 "cells": [
  {
   "cell_type": "markdown",
   "id": "4240aeba-0e8a-4f3f-9475-1e4f455f2701",
   "metadata": {},
   "source": [
    "# Homework 1"
   ]
  },
  {
   "cell_type": "code",
   "execution_count": 1,
   "id": "a6dcc71f-79f0-45cb-810f-0e7096ea9ddc",
   "metadata": {},
   "outputs": [],
   "source": [
    "# imports\n",
    "import numpy as np\n",
    "\n",
    "from matplotlib import pyplot as plt\n",
    "import matplotlib.animation as animation\n",
    "import seaborn as sns\n",
    "\n",
    "import unyt"
   ]
  },
  {
   "cell_type": "markdown",
   "id": "7251c5d2-5c07-4303-b303-77cc0a7e3ee6",
   "metadata": {},
   "source": [
    "# Problem 1 -- Geoid"
   ]
  },
  {
   "cell_type": "markdown",
   "id": "f720a31e-eb1d-401e-941b-3c7602b7912b",
   "metadata": {},
   "source": [
    "## Let $\\bar g$ be the combined effect of gravity and Centrifugal force:\n",
    "\n",
    "## $\\bar g = \\bar g_* + \\Omega^2 \\bar R$"
   ]
  },
  {
   "cell_type": "markdown",
   "id": "d2e14cb2-a9b0-441d-b52b-9804957c0f88",
   "metadata": {},
   "source": [
    "## We will adopt, for convenience a cylindrical coordinate system where the Earth's rotation is given by:\n",
    "\n",
    "## $\\bar \\Omega = \\Omega \\hat z$\n",
    "\n",
    "## and $\\hat R \\perp \\hat z$\n",
    "\n",
    "## and let $\\theta$ be the latitude with value 0 at the Equator"
   ]
  },
  {
   "cell_type": "markdown",
   "id": "48ab79ff-d8c9-4099-ac8c-ea57156dad70",
   "metadata": {},
   "source": [
    "## In this case, gravity which is radial in a spherical coordinate system may be written as:\n",
    "\n",
    "## $\\bar g_* = g_* (\\cos\\theta \\, \\hat R + \\sin\\theta \\, \\hat z)$"
   ]
  },
  {
   "cell_type": "markdown",
   "id": "090c5a2c-671e-409a-a2ba-8cadb4dbe9ef",
   "metadata": {},
   "source": [
    "# (a) Derive expressions for $\\Phi$ at the equator ($\\Phi_e$) and pole ($\\Phi_p$) as a function of distance from earth's center ($r$), as well as Earth’s mass ($M$) and rotation rate ($\\Omega$)."
   ]
  },
  {
   "cell_type": "markdown",
   "id": "239c1310-c0cd-45a4-94aa-ed7559b59c09",
   "metadata": {},
   "source": [
    "## We will adopt the (great) simplification that Earth is a sphere.  In this case, by Gauss' Law the gravitaional potential is just the mass enclosed:\n",
    "\n",
    "## $\\Phi_g = \\frac{-G M(r)}{r}$\n",
    "\n",
    "## For $r \\ge R_\\oplus$, we have simply:\n",
    "\n",
    "## $\\Phi_g = \\frac{-G M}{r} \\;\\;\\;  r\\ge R_\\oplus$"
   ]
  },
  {
   "cell_type": "markdown",
   "id": "be9398fe-d229-4690-a0f5-12b39498c784",
   "metadata": {},
   "source": [
    "## We recall the Centifugal force is:\n",
    "\n",
    "## $F_C = \\Omega^2 \\bar R$"
   ]
  },
  {
   "cell_type": "markdown",
   "id": "b7dadf5d-49c2-45b2-9538-0a06e043218c",
   "metadata": {},
   "source": [
    "## This motivates a potential:\n",
    "\n",
    "## $\\Phi_C = -\\frac{1}{2} \\Omega^2 R^2$\n",
    "\n",
    "## And we recognize that $R = r \\cos\\theta$ at the surface"
   ]
  },
  {
   "cell_type": "markdown",
   "id": "461a3484-4d3f-4dab-8977-6498856e5284",
   "metadata": {},
   "source": [
    "## Therefore, our two potentials at Pole $\\Phi_p$ and Equator $\\Phi_e$ are:\n",
    "\n",
    "## $\\Phi_p =  \\frac{-G M}{r}$\n",
    "\n",
    "## $\\Phi_e =  \\frac{-G M}{r} - \\frac{1}{2} \\Omega^2 r^2$"
   ]
  },
  {
   "cell_type": "markdown",
   "id": "419c3408-8c19-4ba3-ba54-764cab935a48",
   "metadata": {},
   "source": [
    "# (b) Using these expressions, estimate the size of the equatorial bulge of the geoid, i.e., how much larger the equatorial radius is than the polar radius"
   ]
  },
  {
   "cell_type": "markdown",
   "id": "77819d2c-e2f2-4d2a-9519-a7b6a0d440ea",
   "metadata": {},
   "source": [
    "## We will define the geoid to be the potential at the pole with $r_p=R_\\oplus$ and then solve for the bulge  at the Equator i.e. $r_e = R_\\oplus + b$ "
   ]
  },
  {
   "cell_type": "markdown",
   "id": "c1485c5f-770d-4cc8-b814-7e497611dcdc",
   "metadata": {},
   "source": [
    "## The geoid will have a constant potential, meaning:\n",
    "\n",
    "## $\\Phi_e = \\Phi_p$\n",
    "\n",
    "## This gives:\n",
    "\n",
    "## $\\frac{-G M}{R_\\oplus + b} - \\frac{1}{2} \\Omega^2 (R_\\oplus + b)^2 = \\frac{-G M}{R_\\oplus}$"
   ]
  },
  {
   "cell_type": "markdown",
   "id": "35982401-daee-4c6b-a1ef-58ab24fedef9",
   "metadata": {},
   "source": [
    "## Let us Taylor expand to leading order in $b$, noting:\n",
    "\n",
    "## $\\frac{1}{x+\\epsilon} \\approx \\frac{x-\\epsilon}{x^2}$"
   ]
  },
  {
   "cell_type": "markdown",
   "id": "d8d2c98e-b36c-488b-aaf4-cad2423f3f29",
   "metadata": {},
   "source": [
    "## This gives:\n",
    "\n",
    "## $\\frac{-G M (R_\\oplus-b)}{R_\\oplus^2} - \\frac{1}{2} \\Omega^2 (R_\\oplus^2 + 2R_\\oplus b) = \\frac{-G M}{R_\\oplus}$"
   ]
  },
  {
   "cell_type": "markdown",
   "id": "7326a200-8227-4e3a-bca2-e0ddaba734d7",
   "metadata": {},
   "source": [
    "## The $R_\\oplus$ entry in the first term cancels with the RHS, leaving:\n",
    "\n",
    "## $\\frac{G M b}{R_\\oplus^2} - \\frac{1}{2} \\Omega^2 (R_\\oplus^2 + 2R_\\oplus b) = 0$"
   ]
  },
  {
   "cell_type": "markdown",
   "id": "03792e82-a31b-4da5-9842-1d892eda09d4",
   "metadata": {},
   "source": [
    "## Rearranging a bit:\n",
    "\n",
    "## $b \\left ( \\frac{G M}{R_\\oplus^2} - \\Omega^2 R_\\oplus \\right ) = \\frac{1}{2} \\Omega^2 R_\\oplus^2$"
   ]
  },
  {
   "cell_type": "markdown",
   "id": "7f096d75-71ee-40f8-b6d9-78e5f0fb8962",
   "metadata": {},
   "source": [
    "## And at last:\n",
    "\n",
    "## $b  = \\frac{\\Omega^2 R_\\oplus^2}{2 \\left ( \\frac{G M}{R_\\oplus^2} - \\Omega^2 R_\\oplus \\right )}$"
   ]
  },
  {
   "cell_type": "markdown",
   "id": "f2c4af14-84f8-46d5-b631-e34f1370207f",
   "metadata": {},
   "source": [
    "## Which is the ratio of the Centifugal potential at the Equator to 2x the difference in gravitational and Centrifugal forces"
   ]
  },
  {
   "cell_type": "markdown",
   "id": "bf7352fb-6b22-4e69-ab39-59ddcf456662",
   "metadata": {},
   "source": [
    "## Let's evaluate!"
   ]
  },
  {
   "cell_type": "code",
   "execution_count": 5,
   "id": "694afc01-6bee-4598-b2f2-3931842e13d8",
   "metadata": {},
   "outputs": [],
   "source": [
    "Omega = 2 * np.pi / (unyt.day)\n",
    "R_Earth = 1*unyt.R_Earth\n",
    "M = 1*unyt.M_Earth"
   ]
  },
  {
   "cell_type": "code",
   "execution_count": 7,
   "id": "b8d4474b-3c3b-4d13-b7bd-b2b2d44fbc2a",
   "metadata": {},
   "outputs": [
    {
     "data": {
      "text/plain": [
       "unyt_quantity(0.00170046, 'Rearth')"
      ]
     },
     "execution_count": 7,
     "metadata": {},
     "output_type": "execute_result"
    }
   ],
   "source": [
    "b = Omega**2 * R_Earth**2 / 2 / (unyt.G_mks * M / R_Earth**2 - Omega**2 * R_Earth)\n",
    "b"
   ]
  },
  {
   "cell_type": "code",
   "execution_count": 8,
   "id": "4629fd86-9fd9-4489-8a7a-c03b39458dba",
   "metadata": {},
   "outputs": [
    {
     "data": {
      "text/plain": [
       "unyt_quantity(10.83366362, 'km')"
      ]
     },
     "execution_count": 8,
     "metadata": {},
     "output_type": "execute_result"
    }
   ],
   "source": [
    "## In km\n",
    "b.to('km')"
   ]
  },
  {
   "cell_type": "markdown",
   "id": "b15af026-23a5-421b-8ed4-5dc69fb2e30a",
   "metadata": {},
   "source": [
    "# (c)  Calculate how much the rock deflects the ocean surface, i.e., how much higher the geoid is above the rock compared to a location far from the rock."
   ]
  },
  {
   "cell_type": "markdown",
   "id": "ca25cb46-6b9d-469f-a772-3ec25a8ac654",
   "metadata": {},
   "source": [
    "## Let us give the rock a mass $m$ and assume the depth of the ocean is $s$\n",
    "\n",
    "## We can ignore the Centrigual force by assuming we are at the Pole"
   ]
  },
  {
   "cell_type": "code",
   "execution_count": null,
   "id": "e8624dfb-d972-4ce4-ac72-ddfbc973b0e2",
   "metadata": {},
   "outputs": [],
   "source": [
    "## As in part (b), our geoid at the Pole without the rock "
   ]
  }
 ],
 "metadata": {
  "kernelspec": {
   "display_name": "Python 3 (ipykernel)",
   "language": "python",
   "name": "python3"
  },
  "language_info": {
   "codemirror_mode": {
    "name": "ipython",
    "version": 3
   },
   "file_extension": ".py",
   "mimetype": "text/x-python",
   "name": "python",
   "nbconvert_exporter": "python",
   "pygments_lexer": "ipython3",
   "version": "3.11.6"
  }
 },
 "nbformat": 4,
 "nbformat_minor": 5
}
