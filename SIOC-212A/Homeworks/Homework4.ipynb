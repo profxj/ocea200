{
 "cells": [
  {
   "cell_type": "markdown",
   "id": "4240aeba-0e8a-4f3f-9475-1e4f455f2701",
   "metadata": {},
   "source": [
    "# Homework 4"
   ]
  },
  {
   "cell_type": "code",
   "execution_count": 1,
   "id": "a6dcc71f-79f0-45cb-810f-0e7096ea9ddc",
   "metadata": {},
   "outputs": [],
   "source": [
    "# imports\n",
    "import numpy as np\n",
    "\n",
    "from matplotlib import pyplot as plt\n",
    "import matplotlib.animation as animation\n",
    "import seaborn as sns\n",
    "\n",
    "from oceancolor.utils import plotting\n",
    "\n",
    "import unyt"
   ]
  },
  {
   "cell_type": "markdown",
   "id": "d2697bad-b2f8-4de2-9b3a-36c8db38a7a5",
   "metadata": {},
   "source": [
    "# [Problem 1]  Boussinesq approximation"
   ]
  },
  {
   "cell_type": "markdown",
   "id": "8cfe3364-5e1c-4280-acd5-37d42c1a4c1b",
   "metadata": {},
   "source": [
    "## Consider our density and pressure fields as:\n",
    "\n",
    "## $\\rho = \\rho_0 + \\rho'(x,y,z,t)$\n",
    "\n",
    "## $p = p_0(z) + p'(x,y,z,t)$\n",
    "\n",
    "## with $p_0(z)$ indepednet of $x,y$ and satisfying:\n",
    "\n",
    "## $\\partial \\rho_0 / \\partial z = -g \\rho_0$"
   ]
  },
  {
   "cell_type": "markdown",
   "id": "c9745ead-c143-4627-827a-203bab3c9be6",
   "metadata": {},
   "source": [
    "## Now consider a basin with a flat bottom at $z=0$ and a height, $H+\\eta(x,y)$.\n",
    "\n",
    "## Derive expressions for $p_0(z)$ and $p'$:"
   ]
  },
  {
   "cell_type": "markdown",
   "id": "a5438f70-14be-4eb7-98b0-d0df60bf4fd3",
   "metadata": {},
   "source": [
    "## Let us start from the Hydrostatic equation:\n",
    "\n",
    "## $\\frac{\\partial p}{\\partial z} = - \\rho g$\n",
    "\n",
    "## As we did for the shallow water equations, we integrate from the bottom to the surface:\n",
    "\n",
    "## $\\int\\limits_p^{p_a} dp = - \\int\\limits_z^{H+\\eta} \\rho g \\, dz'$"
   ]
  },
  {
   "cell_type": "markdown",
   "id": "4859f069-b298-4deb-ade8-15173ebcc067",
   "metadata": {},
   "source": [
    "## Evaluate:\n",
    "\n",
    "## $p_a - p_0(z) - p'(x,y,z,t) = -g(H+\\eta)\\rho_0 + gz\\rho_0 - \\int\\limits_z^{H+\\eta} \\rho' g \\, dz'$ \n",
    "\n",
    "## Where we have inserted our expressions for $p$ and $\\rho$."
   ]
  },
  {
   "cell_type": "markdown",
   "id": "df0196df-3a32-4ea9-8ebf-944ae837b9a9",
   "metadata": {},
   "source": [
    "## Gathering terms that are constant or depend only on $z$, we define:\n",
    "\n",
    "## $p_0(z) = p_a + g\\rho_0(H-z)$"
   ]
  },
  {
   "cell_type": "markdown",
   "id": "8475b77f-8b66-463a-930b-2184b8ab9924",
   "metadata": {},
   "source": [
    "## This leaves:\n",
    "\n",
    "## $p'(x,y,z,t) =  g\\rho_0 \\eta(x,y) + \\int\\limits_z^{H+\\eta} \\rho' g \\, dz'$ "
   ]
  },
  {
   "cell_type": "markdown",
   "id": "6f3b41b6-cadc-4494-bc98-94ea9840cb71",
   "metadata": {},
   "source": [
    "----"
   ]
  },
  {
   "cell_type": "markdown",
   "id": "7251c5d2-5c07-4303-b303-77cc0a7e3ee6",
   "metadata": {},
   "source": [
    "# [Problem 2]  Viscous Force"
   ]
  },
  {
   "cell_type": "markdown",
   "id": "f720a31e-eb1d-401e-941b-3c7602b7912b",
   "metadata": {},
   "source": [
    "## Consider purely horizontal motion $\\bar u = u\\hat x + v \\hat y$\n",
    "\n",
    "## What direction does the viscous term, $\\nu \\nabla^2 \\bar u$ point?"
   ]
  },
  {
   "cell_type": "markdown",
   "id": "b96e5e6a-f51d-421b-9128-d2a56a594cce",
   "metadata": {},
   "source": [
    "## Indeed, my intution would be for it to oppose $\\bar u$"
   ]
  },
  {
   "cell_type": "markdown",
   "id": "55e0971c-4609-42e4-8f62-7a2e0d4ad8ca",
   "metadata": {},
   "source": [
    "## Consider a horizontal velocity:\n",
    "\n",
    "## $\\bar u = u_0 \\left ( 1 - \\frac{z^2}{H^2} \\right ) \\hat x + u_0 \\hat y$"
   ]
  },
  {
   "cell_type": "markdown",
   "id": "96bb15cf-218b-4368-88f1-29391d656150",
   "metadata": {},
   "source": [
    "## Evaluate the viscous term noting that $\\nabla^2 \\bar x = \\nabla(\\nabla \\cdot \\bar x)- \\nabla \\times (\\nabla \\times \\bar x)$"
   ]
  },
  {
   "cell_type": "markdown",
   "id": "178d9392-1e7b-48f9-be20-5d539f435625",
   "metadata": {},
   "source": [
    "## The first term is zero."
   ]
  },
  {
   "cell_type": "markdown",
   "id": "7dede1b0-2115-4760-ab8f-05d46debaa2d",
   "metadata": {},
   "source": [
    "## Because only the $u_x$ term has a non scalar dependence, we have:\n",
    "\n",
    "## $\\nabla \\times \\bar u = 2 u_0 z / H^2 \\hat y$"
   ]
  },
  {
   "cell_type": "markdown",
   "id": "edbac3a5-039d-447e-9635-89e70bab5598",
   "metadata": {},
   "source": [
    "## And now only one term contributes again $\\partial u_y / \\partial z$, giving:\n",
    "\n",
    "## $\\nabla^2 \\bar u = 2u_0/H^2 \\hat x$"
   ]
  },
  {
   "cell_type": "markdown",
   "id": "72af7e9b-b6dd-41c0-a1f0-acce4bd6ad91",
   "metadata": {},
   "source": [
    "# (a) Sketch $u(z), v(z)$:"
   ]
  },
  {
   "cell_type": "code",
   "execution_count": 11,
   "id": "78ce45e4-734f-40cb-b4c3-a60b922208f5",
   "metadata": {},
   "outputs": [],
   "source": [
    "def calcuv(z, H=5, u0=1):\n",
    "    u = u0 * (1-z**2/H**2)\n",
    "    try:\n",
    "        v = u0 * np.ones(len(z))\n",
    "    except:\n",
    "        v = u0\n",
    "    return u,v"
   ]
  },
  {
   "cell_type": "code",
   "execution_count": 6,
   "id": "450e5253-3b27-4772-a4d9-2ec00ca50df6",
   "metadata": {},
   "outputs": [],
   "source": [
    "zs = np.linspace(0., -5., 1000)\n",
    "us, vs = calcuv(zs)"
   ]
  },
  {
   "cell_type": "code",
   "execution_count": 8,
   "id": "0b8a665f-ba01-4b6a-a62c-9f17263817ea",
   "metadata": {},
   "outputs": [
    {
     "data": {
      "image/png": "[encoded data removed]",
      "text/plain": [
       "<Figure size 500x500 with 1 Axes>"
      ]
     },
     "metadata": {},
     "output_type": "display_data"
    }
   ],
   "source": [
    "fig = plt.figure(figsize=(5,5))\n",
    "ax = plt.gca()\n",
    "\n",
    "ax.plot(us, zs, label='u(z)')\n",
    "ax.plot(vs, zs, label='v(z)')\n",
    "#\n",
    "ax.set_xlabel('velocity')\n",
    "ax.set_ylabel('z')\n",
    "ax.legend()\n",
    "#\n",
    "plotting.set_fontsize(ax,13)\n",
    "plt.show()"
   ]
  },
  {
   "cell_type": "markdown",
   "id": "7d38e8ca-303d-4ab9-aa0e-ffabf6e3d320",
   "metadata": {},
   "source": [
    "# (b) Now sketch the vectors $\\bar u$ and $\\nabla^2 \\bar u$"
   ]
  },
  {
   "cell_type": "code",
   "execution_count": 13,
   "id": "97bed273-3b88-4b6e-b997-b3ec10eafdd4",
   "metadata": {},
   "outputs": [],
   "source": [
    "u0, v0 = calcuv(0.)\n",
    "uH, vH = calcuv(-5.)"
   ]
  },
  {
   "cell_type": "code",
   "execution_count": 16,
   "id": "1bd0b884-fae7-4b9f-954b-85c924848a83",
   "metadata": {},
   "outputs": [
    {
     "data": {
      "text/plain": [
       "(1.0, 1)"
      ]
     },
     "execution_count": 16,
     "metadata": {},
     "output_type": "execute_result"
    }
   ],
   "source": [
    "u0, v0"
   ]
  },
  {
   "cell_type": "code",
   "execution_count": 22,
   "id": "5edcc7b2-b204-417c-8d84-def2aec67f05",
   "metadata": {},
   "outputs": [
    {
     "data": {
      "image/png": "[encoded data removed]",
      "text/plain": [
       "<Figure size 500x500 with 1 Axes>"
      ]
     },
     "metadata": {},
     "output_type": "display_data"
    }
   ],
   "source": [
    "fig = plt.figure(figsize=(5,5))\n",
    "ax = plt.gca()\n",
    "\n",
    "f = 3.\n",
    "arrow = plt.arrow(0, 0, u0, v0, color='blue', head_width=0.1/f, head_length=0.2/f, label=r'$\\bar u$ at $z=0$')\n",
    "arrow = plt.arrow(0, 0, uH, vH, color='orange', head_width=0.1/f, head_length=0.2/f, label=r'$\\bar u$ at $z=H$')\n",
    "\n",
    "arrow = plt.arrow(0, 0, 2/5**2, 0, color='red', head_width=0.1/f, head_length=0.2/f, label=r'$\\nabla^2 \\bar u$ at $z=0,H$')\n",
    "\n",
    "#\n",
    "ax.set_xlabel('x')\n",
    "ax.set_ylabel('y')\n",
    "ax.legend()\n",
    "#\n",
    "plotting.set_fontsize(ax,13)\n",
    "plt.show()"
   ]
  },
  {
   "cell_type": "markdown",
   "id": "ba156dc7-b0bc-492a-818c-2dcfbd0f513a",
   "metadata": {},
   "source": [
    "----"
   ]
  },
  {
   "cell_type": "markdown",
   "id": "7116e670-1478-47b6-bf4f-b85d6b367156",
   "metadata": {},
   "source": [
    "# [Problem 3] Potential vorticity"
   ]
  },
  {
   "cell_type": "code",
   "execution_count": null,
   "id": "14e8c549-1124-4881-a342-641e7bf9e9a0",
   "metadata": {},
   "outputs": [],
   "source": []
  }
 ],
 "metadata": {
  "kernelspec": {
   "display_name": "Python 3 (ipykernel)",
   "language": "python",
   "name": "python3"
  },
  "language_info": {
   "codemirror_mode": {
    "name": "ipython",
    "version": 3
   },
   "file_extension": ".py",
   "mimetype": "text/x-python",
   "name": "python",
   "nbconvert_exporter": "python",
   "pygments_lexer": "ipython3",
   "version": "3.11.7"
  }
 },
 "nbformat": 4,
 "nbformat_minor": 5
}
